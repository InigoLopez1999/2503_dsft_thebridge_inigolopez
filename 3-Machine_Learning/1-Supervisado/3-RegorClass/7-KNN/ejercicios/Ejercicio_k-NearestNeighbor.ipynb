{
 "cells": [
  {
   "attachments": {},
   "cell_type": "markdown",
   "metadata": {},
   "source": [
    "# Ejercicio k-Nearest Neighbor\n",
    "\n",
    "## App Reviews\n",
    "En este ejercicio vas a trabajar con una base de datos de reviews de una aplicación. Entre los datos podemos encontrar el texto de la review, las estrellas, así como el sentimiento del comentario (si es algo bueno o malo).\n",
    "\n",
    "El objetivo es montar un algoritmo de clasificación que prediga el rating, en función del sentimiento del comentario y la cantidad de palabras empleadas en el mismo. Para ello tendrás que utilizar un algoritmo de tipo KNN."
   ]
  },
  {
   "attachments": {},
   "cell_type": "markdown",
   "metadata": {},
   "source": [
    "## Importamos las librerías que vamos a utilizar"
   ]
  },
  {
   "cell_type": "code",
   "execution_count": 56,
   "metadata": {},
   "outputs": [],
   "source": [
    "import pandas as pd\n",
    "import numpy as np\n",
    "import matplotlib.pyplot as plt\n",
    "import seaborn as sns"
   ]
  },
  {
   "attachments": {},
   "cell_type": "markdown",
   "metadata": {},
   "source": [
    "## Leemos nuestro archivo de entrada `reviews_sentiment`"
   ]
  },
  {
   "cell_type": "code",
   "execution_count": 57,
   "metadata": {},
   "outputs": [],
   "source": [
    "pd.set_option(\"max_colwidth\", 200)"
   ]
  },
  {
   "cell_type": "code",
   "execution_count": 58,
   "metadata": {},
   "outputs": [
    {
     "data": {
      "application/vnd.microsoft.datawrangler.viewer.v0+json": {
       "columns": [
        {
         "name": "index",
         "rawType": "int64",
         "type": "integer"
        },
        {
         "name": "Review Title",
         "rawType": "object",
         "type": "string"
        },
        {
         "name": "Review Text",
         "rawType": "object",
         "type": "string"
        },
        {
         "name": "wordcount",
         "rawType": "int64",
         "type": "integer"
        },
        {
         "name": "titleSentiment",
         "rawType": "object",
         "type": "unknown"
        },
        {
         "name": "textSentiment",
         "rawType": "object",
         "type": "string"
        },
        {
         "name": "Star Rating",
         "rawType": "int64",
         "type": "integer"
        },
        {
         "name": "sentimentValue",
         "rawType": "float64",
         "type": "float"
        }
       ],
       "conversionMethod": "pd.DataFrame",
       "ref": "820c9062-466e-4436-a3fa-4d3ab1dd3059",
       "rows": [
        [
         "0",
         "Sin conexión",
         "Hola desde hace algo más de un mes me pone sin conexión y no sale nada, antes me funcionaba correctamente.",
         "23",
         "negative",
         "negative",
         "1",
         "-0.4863892549767946"
        ],
        [
         "1",
         "faltan cosas",
         "Han mejorado la apariencia pero no",
         "20",
         "negative",
         "negative",
         "1",
         "-0.5861874727339228"
        ],
        [
         "2",
         "Es muy buena lo recomiendo",
         "Andres e puto amoooo",
         "4",
         null,
         "negative",
         "1",
         "-0.6022402747857277"
        ],
        [
         "3",
         "Version antigua",
         "Me gustana mas la version anterior esta es mas complicada de usar hay gente cambiandosevpor esevmotivo gracias",
         "17",
         null,
         "negative",
         "1",
         "-0.6162712056633162"
        ],
        [
         "4",
         "Esta bien",
         "Sin ser la biblia.... Esta bien",
         "6",
         "negative",
         "negative",
         "1",
         "-0.6517836008462109"
        ],
        [
         "5",
         "Buena",
         "Nada del otro mundo pero han mejorado mucho",
         "8",
         "positive",
         "negative",
         "1",
         "-0.7204429256151285"
        ],
        [
         "6",
         "De gran ayuda",
         "Lo malo q necesita de …,pero la app es muy buena",
         "23",
         "positive",
         "negative",
         "1",
         "-0.7268254087888714"
        ],
        [
         "7",
         "Muy buena",
         "Estaba más acostumbrado al otro diseño, pero es cosa de acostunbrarse .. la aplicación es escépcional",
         "16",
         "positive",
         "negative",
         "1",
         "-0.7367694709092752"
        ],
        [
         "8",
         "Ta to guapa.",
         "Va de escándalo",
         "21",
         "positive",
         "negative",
         "1",
         "-0.765283702598727"
        ],
        [
         "9",
         "Se han corregido",
         "Han corregido muchos fallos pero el diseño es contrario al pedido por Google",
         "13",
         "negative",
         "negative",
         "1",
         "-0.7979612300412889"
        ],
        [
         "10",
         "Parece que va mejor.",
         "No se cuelga tanto",
         "4",
         "positive",
         "negative",
         "1",
         "-0.8334875979937725"
        ],
        [
         "11",
         "Dice q hay una nueva versión?",
         "Xq no me sale la opción de actualizarla entonces?",
         "9",
         "negative",
         "negative",
         "1",
         "-0.8384665315151861"
        ],
        [
         "12",
         "Útil",
         "Falta opción",
         "4",
         "positive",
         "negative",
         "1",
         "-0.8885590350462715"
        ],
        [
         "13",
         "Me indica una nueva version",
         "Dice que existe una nueva version, pero no sale actualizacion, e probado a borrarla y volver a instalarla, pero el mensaje sigue apareciendo",
         "23",
         "negative",
         "negative",
         "1",
         "-1.002696144743075"
        ],
        [
         "14",
         "No me funciona",
         "Mui buena pero a veces no acen",
         "14",
         "negative",
         "negative",
         "1",
         "-1.0832692852163408"
        ],
        [
         "15",
         "Hay que mejorar",
         "No funcionan las notificaciones, y deberían… Por lo demás correcto",
         "20",
         "positive",
         "negative",
         "1",
         "-1.0981097654004746"
        ],
        [
         "16",
         "Muy bien ..pero",
         "…",
         "26",
         "negative",
         "negative",
         "1",
         "-1.1044687905632284"
        ],
        [
         "17",
         "No va",
         "Pero esta bloqueado y no me funciona",
         "7",
         "positive",
         "negative",
         "1",
         "-1.1122230773375148"
        ],
        [
         "18",
         "Bien",
         "No es precisa del todo",
         "5",
         "positive",
         "negative",
         "1",
         "-1.2754114957137634"
        ],
        [
         "19",
         "Bastante bien",
         "Muy útil, pero hay …",
         "22",
         "positive",
         "negative",
         "1",
         "-1.2860092681818858"
        ],
        [
         "20",
         "Muy buena idea",
         "Aun faltan muchos",
         "13",
         "positive",
         "negative",
         "1",
         "-1.455639534574406"
        ],
        [
         "21",
         "No remata...",
         "En que se basa?...no termina de cuadrarme...",
         "7",
         "negative",
         "negative",
         "1",
         "-1.4794328016280442"
        ],
        [
         "22",
         "Note 3",
         "Esta bien la aplicación pero se nota k....sin mas comentarios.",
         "18",
         "negative",
         "negative",
         "1",
         "-1.4983055361035678"
        ],
        [
         "23",
         "Es buena",
         "No me deja",
         "4",
         "positive",
         "negative",
         "1",
         "-1.780889062388097"
        ],
        [
         "24",
         "Ya funciona",
         "Errores corregidos.",
         "2",
         "positive",
         "negative",
         "1",
         "-2.276469027404202"
        ],
        [
         "25",
         "Sobre permisos",
         "Permisos a tus fotos, llamadas, conexiones wifi, etc. No nos damos cuenta pero con toda la info. que compartimos con estas apk. Nos pueden quitar nuestra intimidad. Apk borrada.",
         "29",
         "positive",
         "positive",
         "1",
         "0.1076714179024391"
        ],
        [
         "26",
         "identificacion de user",
         "Estaría bien que cada. Cuando tienes más de una no pone a cual corresponde y",
         "30",
         "negative",
         "positive",
         "2",
         "-0.0626158036127862"
        ],
        [
         "27",
         "Fantastica",
         "Aunque todo es mejorable le doy estrellas por su enorme utilidad…",
         "63",
         "positive",
         "positive",
         "2",
         "-0.0632821422791839"
        ],
        [
         "28",
         "Ojo!",
         "Lo tengo desde hace meses, pero en la actualización de hoy 1 de mayo de 2015 mi antiviruslo ha detectado como aplicación potencialmente peligrosa y lo he desinstalado.",
         "33",
         "negative",
         "positive",
         "2",
         "-0.130138468643746"
        ],
        [
         "29",
         "Bastante útil y fácil de utilizar",
         "Me ayuda bastante y la gente, a …",
         "34",
         "positive",
         "positive",
         "2",
         "-0.2017099026902854"
        ],
        [
         "30",
         "Buena app, pero",
         "Buena app, pero…",
         "76",
         null,
         "negative",
         "2",
         "-0.2951936979025951"
        ],
        [
         "31",
         "Separar las islas!!!",
         "Porfa separen …",
         "34",
         "negative",
         "negative",
         "2",
         "-0.5529856995159401"
        ],
        [
         "32",
         "vuelve a funcionar",
         "Vuelve a funcionar como debe de ser. La tenemos que cuidar y actualizar todos. …",
         "36",
         "negative",
         "negative",
         "2",
         "-0.6150217745307491"
        ],
        [
         "33",
         "Demasiados feaute",
         "A ver......tiene muchísimos ….no mola nada",
         "63",
         "negative",
         "negative",
         "2",
         "-0.6422284312075216"
        ],
        [
         "34",
         "Bien",
         "Se podría mejorar haciendo uso del ,,,",
         "45",
         "positive",
         "negative",
         "2",
         "-0.7478047635470271"
        ],
        [
         "35",
         "Mucho que mejorar",
         "La interfaz de usuario es pésima, no hay por donde cogerla. Lo ideal sería seguir Material Design de Google y no perder el tiempo con interfaces feas.",
         "27",
         "positive",
         "negative",
         "2",
         "-0.769308686900702"
        ],
        [
         "36",
         "No pude FINALIZAR!!!!",
         "La APP no se cierra nunca. … Tengo que desinstalarla y reinstalarla cada vez que quiera usarla",
         "32",
         "negative",
         "negative",
         "2",
         "-0.950120971741788"
        ],
        [
         "37",
         "No te hacen caso",
         "No veo lógico ni competitivo ni de calidad…",
         "103",
         "negative",
         "negative",
         "2",
         "-1.7072675742817744"
        ],
        [
         "38",
         "Avitar",
         "…",
         "22",
         "negative",
         "positive",
         "2",
         "0.0528405983105105"
        ],
        [
         "39",
         "Donde esta el Catalán",
         "Con eso esta dicho todo. Y quede claro que no tengo nada contra el idioma de Cervantes (no como otros).",
         "20",
         "positive",
         "positive",
         "2",
         "0.0579279092395829"
        ],
        [
         "40",
         "Imprescindible",
         "Desde que la tengo hace meses que no…",
         "27",
         "positive",
         "positive",
         "2",
         "0.0737785545211743"
        ],
        [
         "41",
         "Util",
         "Funciona bien,…",
         "9",
         null,
         "positive",
         "3",
         "-0.0120393936870973"
        ],
        [
         "42",
         "vale la pena",
         "A mi me … la encuentro genial.",
         "13",
         "positive",
         "positive",
         "3",
         "-0.0150187707033051"
        ],
        [
         "43",
         "Genial",
         "Por lo menos …",
         "15",
         "positive",
         "positive",
         "3",
         "-0.0220345678276106"
        ],
        [
         "44",
         "Excelente",
         "Te …mucho",
         "3",
         "positive",
         "positive",
         "3",
         "-0.0361552697312459"
        ],
        [
         "45",
         "Por fin algo bueno",
         "Esto es lo que hacía falta",
         "6",
         "positive",
         "positive",
         "3",
         "-0.0484385138839592"
        ],
        [
         "46",
         "Fiable",
         "Es fiable la aplicación ya lo e comprobado y la recomiendo solo q tarda…",
         "20",
         "positive",
         "positive",
         "3",
         "-0.0617548345575044"
        ],
        [
         "47",
         "Muy práctica",
         "Interesante y funcional",
         "3",
         "positive",
         "positive",
         "3",
         "-0.0654832603634284"
        ],
        [
         "48",
         "Ahora ya funciona",
         "Ahora ya funciona mejor pero la…",
         "13",
         "positive",
         "positive",
         "3",
         "-0.0704406232354751"
        ],
        [
         "49",
         "Muy Útil",
         "Me ….",
         "9",
         "positive",
         "positive",
         "3",
         "-0.0744834280040398"
        ]
       ],
       "shape": {
        "columns": 7,
        "rows": 257
       }
      },
      "text/html": [
       "<div>\n",
       "<style scoped>\n",
       "    .dataframe tbody tr th:only-of-type {\n",
       "        vertical-align: middle;\n",
       "    }\n",
       "\n",
       "    .dataframe tbody tr th {\n",
       "        vertical-align: top;\n",
       "    }\n",
       "\n",
       "    .dataframe thead th {\n",
       "        text-align: right;\n",
       "    }\n",
       "</style>\n",
       "<table border=\"1\" class=\"dataframe\">\n",
       "  <thead>\n",
       "    <tr style=\"text-align: right;\">\n",
       "      <th></th>\n",
       "      <th>Review Title</th>\n",
       "      <th>Review Text</th>\n",
       "      <th>wordcount</th>\n",
       "      <th>titleSentiment</th>\n",
       "      <th>textSentiment</th>\n",
       "      <th>Star Rating</th>\n",
       "      <th>sentimentValue</th>\n",
       "    </tr>\n",
       "  </thead>\n",
       "  <tbody>\n",
       "    <tr>\n",
       "      <th>0</th>\n",
       "      <td>Sin conexión</td>\n",
       "      <td>Hola desde hace algo más de un mes me pone sin conexión y no sale nada, antes me funcionaba correctamente.</td>\n",
       "      <td>23</td>\n",
       "      <td>negative</td>\n",
       "      <td>negative</td>\n",
       "      <td>1</td>\n",
       "      <td>-0.486389</td>\n",
       "    </tr>\n",
       "    <tr>\n",
       "      <th>1</th>\n",
       "      <td>faltan cosas</td>\n",
       "      <td>Han mejorado la apariencia pero no</td>\n",
       "      <td>20</td>\n",
       "      <td>negative</td>\n",
       "      <td>negative</td>\n",
       "      <td>1</td>\n",
       "      <td>-0.586187</td>\n",
       "    </tr>\n",
       "    <tr>\n",
       "      <th>2</th>\n",
       "      <td>Es muy buena lo recomiendo</td>\n",
       "      <td>Andres e puto amoooo</td>\n",
       "      <td>4</td>\n",
       "      <td>NaN</td>\n",
       "      <td>negative</td>\n",
       "      <td>1</td>\n",
       "      <td>-0.602240</td>\n",
       "    </tr>\n",
       "    <tr>\n",
       "      <th>3</th>\n",
       "      <td>Version antigua</td>\n",
       "      <td>Me gustana mas la version anterior esta es mas complicada de usar hay gente cambiandosevpor esevmotivo gracias</td>\n",
       "      <td>17</td>\n",
       "      <td>NaN</td>\n",
       "      <td>negative</td>\n",
       "      <td>1</td>\n",
       "      <td>-0.616271</td>\n",
       "    </tr>\n",
       "    <tr>\n",
       "      <th>4</th>\n",
       "      <td>Esta bien</td>\n",
       "      <td>Sin ser la biblia.... Esta bien</td>\n",
       "      <td>6</td>\n",
       "      <td>negative</td>\n",
       "      <td>negative</td>\n",
       "      <td>1</td>\n",
       "      <td>-0.651784</td>\n",
       "    </tr>\n",
       "    <tr>\n",
       "      <th>...</th>\n",
       "      <td>...</td>\n",
       "      <td>...</td>\n",
       "      <td>...</td>\n",
       "      <td>...</td>\n",
       "      <td>...</td>\n",
       "      <td>...</td>\n",
       "      <td>...</td>\n",
       "    </tr>\n",
       "    <tr>\n",
       "      <th>252</th>\n",
       "      <td>Muy buena aplicacion</td>\n",
       "      <td>Muy buena genial</td>\n",
       "      <td>3</td>\n",
       "      <td>positive</td>\n",
       "      <td>positive</td>\n",
       "      <td>5</td>\n",
       "      <td>2.814818</td>\n",
       "    </tr>\n",
       "    <tr>\n",
       "      <th>253</th>\n",
       "      <td>Buena</td>\n",
       "      <td>Genial</td>\n",
       "      <td>1</td>\n",
       "      <td>positive</td>\n",
       "      <td>positive</td>\n",
       "      <td>5</td>\n",
       "      <td>2.924393</td>\n",
       "    </tr>\n",
       "    <tr>\n",
       "      <th>254</th>\n",
       "      <td>Wuau</td>\n",
       "      <td>Genial</td>\n",
       "      <td>1</td>\n",
       "      <td>positive</td>\n",
       "      <td>positive</td>\n",
       "      <td>5</td>\n",
       "      <td>2.924393</td>\n",
       "    </tr>\n",
       "    <tr>\n",
       "      <th>255</th>\n",
       "      <td>Muy buena</td>\n",
       "      <td>Genial</td>\n",
       "      <td>1</td>\n",
       "      <td>positive</td>\n",
       "      <td>positive</td>\n",
       "      <td>5</td>\n",
       "      <td>2.924393</td>\n",
       "    </tr>\n",
       "    <tr>\n",
       "      <th>256</th>\n",
       "      <td>Sg S5</td>\n",
       "      <td>Excelente y exacta</td>\n",
       "      <td>3</td>\n",
       "      <td>negative</td>\n",
       "      <td>positive</td>\n",
       "      <td>5</td>\n",
       "      <td>3.264579</td>\n",
       "    </tr>\n",
       "  </tbody>\n",
       "</table>\n",
       "<p>257 rows × 7 columns</p>\n",
       "</div>"
      ],
      "text/plain": [
       "                   Review Title  \\\n",
       "0                  Sin conexión   \n",
       "1                  faltan cosas   \n",
       "2    Es muy buena lo recomiendo   \n",
       "3               Version antigua   \n",
       "4                     Esta bien   \n",
       "..                          ...   \n",
       "252        Muy buena aplicacion   \n",
       "253                       Buena   \n",
       "254                        Wuau   \n",
       "255                   Muy buena   \n",
       "256                       Sg S5   \n",
       "\n",
       "                                                                                                        Review Text  \\\n",
       "0        Hola desde hace algo más de un mes me pone sin conexión y no sale nada, antes me funcionaba correctamente.   \n",
       "1                                                                                Han mejorado la apariencia pero no   \n",
       "2                                                                                              Andres e puto amoooo   \n",
       "3    Me gustana mas la version anterior esta es mas complicada de usar hay gente cambiandosevpor esevmotivo gracias   \n",
       "4                                                                                   Sin ser la biblia.... Esta bien   \n",
       "..                                                                                                              ...   \n",
       "252                                                                                                Muy buena genial   \n",
       "253                                                                                                          Genial   \n",
       "254                                                                                                          Genial   \n",
       "255                                                                                                          Genial   \n",
       "256                                                                                              Excelente y exacta   \n",
       "\n",
       "     wordcount titleSentiment textSentiment  Star Rating  sentimentValue  \n",
       "0           23       negative      negative            1       -0.486389  \n",
       "1           20       negative      negative            1       -0.586187  \n",
       "2            4            NaN      negative            1       -0.602240  \n",
       "3           17            NaN      negative            1       -0.616271  \n",
       "4            6       negative      negative            1       -0.651784  \n",
       "..         ...            ...           ...          ...             ...  \n",
       "252          3       positive      positive            5        2.814818  \n",
       "253          1       positive      positive            5        2.924393  \n",
       "254          1       positive      positive            5        2.924393  \n",
       "255          1       positive      positive            5        2.924393  \n",
       "256          3       negative      positive            5        3.264579  \n",
       "\n",
       "[257 rows x 7 columns]"
      ]
     },
     "execution_count": 58,
     "metadata": {},
     "output_type": "execute_result"
    }
   ],
   "source": [
    "df = pd.read_csv(\"data/reviews_sentiment.csv\", sep=\";\")\n",
    "df"
   ]
  },
  {
   "attachments": {},
   "cell_type": "markdown",
   "metadata": {},
   "source": [
    "Para facilitar el ejercicio, las columnas que utilizaremos serán: wordcount con la cantidad de palabras utilizadas y sentimentValue con un valor entre -4 y 4 que indica si el comentario fue valorado como positivo o negativo"
   ]
  },
  {
   "attachments": {},
   "cell_type": "markdown",
   "metadata": {},
   "source": [
    "Nuestras etiquetas, serán las estrellas que dieron los usuarios a la app, que son valores discretos del 1 al 5"
   ]
  },
  {
   "attachments": {},
   "cell_type": "markdown",
   "metadata": {},
   "source": [
    "## Rápidas visualizaciones y análisis\n",
    "Al menos realiza un análisis univariante y representa la distribución del rating. Realiza otras visualizaciones para ver la relación de tus datos."
   ]
  },
  {
   "cell_type": "code",
   "execution_count": 59,
   "metadata": {},
   "outputs": [
    {
     "name": "stdout",
     "output_type": "stream",
     "text": [
      "<class 'pandas.core.frame.DataFrame'>\n",
      "RangeIndex: 257 entries, 0 to 256\n",
      "Data columns (total 7 columns):\n",
      " #   Column          Non-Null Count  Dtype  \n",
      "---  ------          --------------  -----  \n",
      " 0   Review Title    257 non-null    object \n",
      " 1   Review Text     257 non-null    object \n",
      " 2   wordcount       257 non-null    int64  \n",
      " 3   titleSentiment  231 non-null    object \n",
      " 4   textSentiment   257 non-null    object \n",
      " 5   Star Rating     257 non-null    int64  \n",
      " 6   sentimentValue  257 non-null    float64\n",
      "dtypes: float64(1), int64(2), object(4)\n",
      "memory usage: 14.2+ KB\n"
     ]
    }
   ],
   "source": [
    "df.info()"
   ]
  },
  {
   "cell_type": "code",
   "execution_count": 60,
   "metadata": {},
   "outputs": [
    {
     "data": {
      "application/vnd.microsoft.datawrangler.viewer.v0+json": {
       "columns": [
        {
         "name": "index",
         "rawType": "object",
         "type": "string"
        },
        {
         "name": "wordcount",
         "rawType": "float64",
         "type": "float"
        },
        {
         "name": "Star Rating",
         "rawType": "float64",
         "type": "float"
        },
        {
         "name": "sentimentValue",
         "rawType": "float64",
         "type": "float"
        }
       ],
       "conversionMethod": "pd.DataFrame",
       "ref": "afb5d40f-e3b6-473c-8a9c-32fa89136c5d",
       "rows": [
        [
         "count",
         "257.0",
         "257.0",
         "257.0"
        ],
        [
         "mean",
         "11.501945525291829",
         "3.4202334630350193",
         "0.3838494816874471"
        ],
        [
         "std",
         "13.159812318671035",
         "1.409530598384477",
         "0.8979871291400607"
        ],
        [
         "min",
         "1.0",
         "1.0",
         "-2.276469027404202"
        ],
        [
         "25%",
         "3.0",
         "3.0",
         "-0.1081437146149816"
        ],
        [
         "50%",
         "7.0",
         "3.0",
         "0.2640909909931956"
        ],
        [
         "75%",
         "16.0",
         "5.0",
         "0.8083844566577392"
        ],
        [
         "max",
         "103.0",
         "5.0",
         "3.2645785544908428"
        ]
       ],
       "shape": {
        "columns": 3,
        "rows": 8
       }
      },
      "text/html": [
       "<div>\n",
       "<style scoped>\n",
       "    .dataframe tbody tr th:only-of-type {\n",
       "        vertical-align: middle;\n",
       "    }\n",
       "\n",
       "    .dataframe tbody tr th {\n",
       "        vertical-align: top;\n",
       "    }\n",
       "\n",
       "    .dataframe thead th {\n",
       "        text-align: right;\n",
       "    }\n",
       "</style>\n",
       "<table border=\"1\" class=\"dataframe\">\n",
       "  <thead>\n",
       "    <tr style=\"text-align: right;\">\n",
       "      <th></th>\n",
       "      <th>wordcount</th>\n",
       "      <th>Star Rating</th>\n",
       "      <th>sentimentValue</th>\n",
       "    </tr>\n",
       "  </thead>\n",
       "  <tbody>\n",
       "    <tr>\n",
       "      <th>count</th>\n",
       "      <td>257.000000</td>\n",
       "      <td>257.000000</td>\n",
       "      <td>257.000000</td>\n",
       "    </tr>\n",
       "    <tr>\n",
       "      <th>mean</th>\n",
       "      <td>11.501946</td>\n",
       "      <td>3.420233</td>\n",
       "      <td>0.383849</td>\n",
       "    </tr>\n",
       "    <tr>\n",
       "      <th>std</th>\n",
       "      <td>13.159812</td>\n",
       "      <td>1.409531</td>\n",
       "      <td>0.897987</td>\n",
       "    </tr>\n",
       "    <tr>\n",
       "      <th>min</th>\n",
       "      <td>1.000000</td>\n",
       "      <td>1.000000</td>\n",
       "      <td>-2.276469</td>\n",
       "    </tr>\n",
       "    <tr>\n",
       "      <th>25%</th>\n",
       "      <td>3.000000</td>\n",
       "      <td>3.000000</td>\n",
       "      <td>-0.108144</td>\n",
       "    </tr>\n",
       "    <tr>\n",
       "      <th>50%</th>\n",
       "      <td>7.000000</td>\n",
       "      <td>3.000000</td>\n",
       "      <td>0.264091</td>\n",
       "    </tr>\n",
       "    <tr>\n",
       "      <th>75%</th>\n",
       "      <td>16.000000</td>\n",
       "      <td>5.000000</td>\n",
       "      <td>0.808384</td>\n",
       "    </tr>\n",
       "    <tr>\n",
       "      <th>max</th>\n",
       "      <td>103.000000</td>\n",
       "      <td>5.000000</td>\n",
       "      <td>3.264579</td>\n",
       "    </tr>\n",
       "  </tbody>\n",
       "</table>\n",
       "</div>"
      ],
      "text/plain": [
       "        wordcount  Star Rating  sentimentValue\n",
       "count  257.000000   257.000000      257.000000\n",
       "mean    11.501946     3.420233        0.383849\n",
       "std     13.159812     1.409531        0.897987\n",
       "min      1.000000     1.000000       -2.276469\n",
       "25%      3.000000     3.000000       -0.108144\n",
       "50%      7.000000     3.000000        0.264091\n",
       "75%     16.000000     5.000000        0.808384\n",
       "max    103.000000     5.000000        3.264579"
      ]
     },
     "execution_count": 60,
     "metadata": {},
     "output_type": "execute_result"
    }
   ],
   "source": [
    "df.describe()"
   ]
  },
  {
   "attachments": {},
   "cell_type": "markdown",
   "metadata": {},
   "source": [
    "## Preparamos el dataset\n",
    "Divide en train/test y escala las features en el rango [0, 1]."
   ]
  },
  {
   "cell_type": "code",
   "execution_count": 61,
   "metadata": {},
   "outputs": [],
   "source": [
    "X = df[[\"wordcount\",\"sentimentValue\"]]"
   ]
  },
  {
   "cell_type": "code",
   "execution_count": 62,
   "metadata": {},
   "outputs": [
    {
     "data": {
      "application/vnd.microsoft.datawrangler.viewer.v0+json": {
       "columns": [
        {
         "name": "index",
         "rawType": "int64",
         "type": "integer"
        },
        {
         "name": "wordcount",
         "rawType": "int64",
         "type": "integer"
        },
        {
         "name": "sentimentValue",
         "rawType": "float64",
         "type": "float"
        }
       ],
       "conversionMethod": "pd.DataFrame",
       "ref": "13d6e89a-9675-437d-85be-2d139e669595",
       "rows": [
        [
         "0",
         "23",
         "-0.4863892549767946"
        ],
        [
         "1",
         "20",
         "-0.5861874727339228"
        ],
        [
         "2",
         "4",
         "-0.6022402747857277"
        ],
        [
         "3",
         "17",
         "-0.6162712056633162"
        ],
        [
         "4",
         "6",
         "-0.6517836008462109"
        ],
        [
         "5",
         "8",
         "-0.7204429256151285"
        ],
        [
         "6",
         "23",
         "-0.7268254087888714"
        ],
        [
         "7",
         "16",
         "-0.7367694709092752"
        ],
        [
         "8",
         "21",
         "-0.765283702598727"
        ],
        [
         "9",
         "13",
         "-0.7979612300412889"
        ],
        [
         "10",
         "4",
         "-0.8334875979937725"
        ],
        [
         "11",
         "9",
         "-0.8384665315151861"
        ],
        [
         "12",
         "4",
         "-0.8885590350462715"
        ],
        [
         "13",
         "23",
         "-1.002696144743075"
        ],
        [
         "14",
         "14",
         "-1.0832692852163408"
        ],
        [
         "15",
         "20",
         "-1.0981097654004746"
        ],
        [
         "16",
         "26",
         "-1.1044687905632284"
        ],
        [
         "17",
         "7",
         "-1.1122230773375148"
        ],
        [
         "18",
         "5",
         "-1.2754114957137634"
        ],
        [
         "19",
         "22",
         "-1.2860092681818858"
        ],
        [
         "20",
         "13",
         "-1.455639534574406"
        ],
        [
         "21",
         "7",
         "-1.4794328016280442"
        ],
        [
         "22",
         "18",
         "-1.4983055361035678"
        ],
        [
         "23",
         "4",
         "-1.780889062388097"
        ],
        [
         "24",
         "2",
         "-2.276469027404202"
        ],
        [
         "25",
         "29",
         "0.1076714179024391"
        ],
        [
         "26",
         "30",
         "-0.0626158036127862"
        ],
        [
         "27",
         "63",
         "-0.0632821422791839"
        ],
        [
         "28",
         "33",
         "-0.130138468643746"
        ],
        [
         "29",
         "34",
         "-0.2017099026902854"
        ],
        [
         "30",
         "76",
         "-0.2951936979025951"
        ],
        [
         "31",
         "34",
         "-0.5529856995159401"
        ],
        [
         "32",
         "36",
         "-0.6150217745307491"
        ],
        [
         "33",
         "63",
         "-0.6422284312075216"
        ],
        [
         "34",
         "45",
         "-0.7478047635470271"
        ],
        [
         "35",
         "27",
         "-0.769308686900702"
        ],
        [
         "36",
         "32",
         "-0.950120971741788"
        ],
        [
         "37",
         "103",
         "-1.7072675742817744"
        ],
        [
         "38",
         "22",
         "0.0528405983105105"
        ],
        [
         "39",
         "20",
         "0.0579279092395829"
        ],
        [
         "40",
         "27",
         "0.0737785545211743"
        ],
        [
         "41",
         "9",
         "-0.0120393936870973"
        ],
        [
         "42",
         "13",
         "-0.0150187707033051"
        ],
        [
         "43",
         "15",
         "-0.0220345678276106"
        ],
        [
         "44",
         "3",
         "-0.0361552697312459"
        ],
        [
         "45",
         "6",
         "-0.0484385138839592"
        ],
        [
         "46",
         "20",
         "-0.0617548345575044"
        ],
        [
         "47",
         "3",
         "-0.0654832603634284"
        ],
        [
         "48",
         "13",
         "-0.0704406232354751"
        ],
        [
         "49",
         "9",
         "-0.0744834280040398"
        ]
       ],
       "shape": {
        "columns": 2,
        "rows": 257
       }
      },
      "text/html": [
       "<div>\n",
       "<style scoped>\n",
       "    .dataframe tbody tr th:only-of-type {\n",
       "        vertical-align: middle;\n",
       "    }\n",
       "\n",
       "    .dataframe tbody tr th {\n",
       "        vertical-align: top;\n",
       "    }\n",
       "\n",
       "    .dataframe thead th {\n",
       "        text-align: right;\n",
       "    }\n",
       "</style>\n",
       "<table border=\"1\" class=\"dataframe\">\n",
       "  <thead>\n",
       "    <tr style=\"text-align: right;\">\n",
       "      <th></th>\n",
       "      <th>wordcount</th>\n",
       "      <th>sentimentValue</th>\n",
       "    </tr>\n",
       "  </thead>\n",
       "  <tbody>\n",
       "    <tr>\n",
       "      <th>0</th>\n",
       "      <td>23</td>\n",
       "      <td>-0.486389</td>\n",
       "    </tr>\n",
       "    <tr>\n",
       "      <th>1</th>\n",
       "      <td>20</td>\n",
       "      <td>-0.586187</td>\n",
       "    </tr>\n",
       "    <tr>\n",
       "      <th>2</th>\n",
       "      <td>4</td>\n",
       "      <td>-0.602240</td>\n",
       "    </tr>\n",
       "    <tr>\n",
       "      <th>3</th>\n",
       "      <td>17</td>\n",
       "      <td>-0.616271</td>\n",
       "    </tr>\n",
       "    <tr>\n",
       "      <th>4</th>\n",
       "      <td>6</td>\n",
       "      <td>-0.651784</td>\n",
       "    </tr>\n",
       "    <tr>\n",
       "      <th>...</th>\n",
       "      <td>...</td>\n",
       "      <td>...</td>\n",
       "    </tr>\n",
       "    <tr>\n",
       "      <th>252</th>\n",
       "      <td>3</td>\n",
       "      <td>2.814818</td>\n",
       "    </tr>\n",
       "    <tr>\n",
       "      <th>253</th>\n",
       "      <td>1</td>\n",
       "      <td>2.924393</td>\n",
       "    </tr>\n",
       "    <tr>\n",
       "      <th>254</th>\n",
       "      <td>1</td>\n",
       "      <td>2.924393</td>\n",
       "    </tr>\n",
       "    <tr>\n",
       "      <th>255</th>\n",
       "      <td>1</td>\n",
       "      <td>2.924393</td>\n",
       "    </tr>\n",
       "    <tr>\n",
       "      <th>256</th>\n",
       "      <td>3</td>\n",
       "      <td>3.264579</td>\n",
       "    </tr>\n",
       "  </tbody>\n",
       "</table>\n",
       "<p>257 rows × 2 columns</p>\n",
       "</div>"
      ],
      "text/plain": [
       "     wordcount  sentimentValue\n",
       "0           23       -0.486389\n",
       "1           20       -0.586187\n",
       "2            4       -0.602240\n",
       "3           17       -0.616271\n",
       "4            6       -0.651784\n",
       "..         ...             ...\n",
       "252          3        2.814818\n",
       "253          1        2.924393\n",
       "254          1        2.924393\n",
       "255          1        2.924393\n",
       "256          3        3.264579\n",
       "\n",
       "[257 rows x 2 columns]"
      ]
     },
     "execution_count": 62,
     "metadata": {},
     "output_type": "execute_result"
    }
   ],
   "source": [
    "X"
   ]
  },
  {
   "cell_type": "code",
   "execution_count": 63,
   "metadata": {},
   "outputs": [],
   "source": [
    "y = df[\"Star Rating\"]"
   ]
  },
  {
   "cell_type": "code",
   "execution_count": 64,
   "metadata": {},
   "outputs": [
    {
     "data": {
      "text/plain": [
       "0      1\n",
       "1      1\n",
       "2      1\n",
       "3      1\n",
       "4      1\n",
       "      ..\n",
       "252    5\n",
       "253    5\n",
       "254    5\n",
       "255    5\n",
       "256    5\n",
       "Name: Star Rating, Length: 257, dtype: int64"
      ]
     },
     "execution_count": 64,
     "metadata": {},
     "output_type": "execute_result"
    }
   ],
   "source": [
    "y"
   ]
  },
  {
   "cell_type": "code",
   "execution_count": 65,
   "metadata": {},
   "outputs": [],
   "source": [
    "from sklearn.model_selection import train_test_split"
   ]
  },
  {
   "cell_type": "code",
   "execution_count": 66,
   "metadata": {},
   "outputs": [],
   "source": [
    "X_train, X_test, y_train, y_test = train_test_split(X,y,test_size=0.2,random_state=42)"
   ]
  },
  {
   "cell_type": "code",
   "execution_count": 67,
   "metadata": {},
   "outputs": [],
   "source": [
    "from sklearn.preprocessing import MinMaxScaler"
   ]
  },
  {
   "cell_type": "code",
   "execution_count": 68,
   "metadata": {},
   "outputs": [],
   "source": [
    "escalador = MinMaxScaler()\n",
    "X_train_escalado = escalador.fit_transform(X_train)"
   ]
  },
  {
   "cell_type": "code",
   "execution_count": 69,
   "metadata": {},
   "outputs": [
    {
     "data": {
      "text/plain": [
       "array([[0.02941176, 0.30220736],\n",
       "       [0.06862745, 0.4812955 ],\n",
       "       [0.20588235, 0.36344097],\n",
       "       [0.32352941, 0.39549006],\n",
       "       [0.06862745, 0.33153426],\n",
       "       [0.04901961, 0.62296534],\n",
       "       [0.07843137, 0.51037879],\n",
       "       [0.12745098, 0.60112636],\n",
       "       [0.06862745, 0.55808612],\n",
       "       [0.20588235, 0.40707433],\n",
       "       [0.        , 0.32524801],\n",
       "       [0.28431373, 0.52558055],\n",
       "       [0.01960784, 0.36136545],\n",
       "       [0.04901961, 0.4446527 ],\n",
       "       [0.10784314, 0.45246552],\n",
       "       [0.07843137, 0.6331647 ],\n",
       "       [0.14705882, 0.3906286 ],\n",
       "       [0.47058824, 0.38182608],\n",
       "       [0.10784314, 0.39284519],\n",
       "       [0.09803922, 0.40146957],\n",
       "       [0.20588235, 0.41409699],\n",
       "       [0.47058824, 0.39792316],\n",
       "       [0.        , 0.3189374 ],\n",
       "       [0.03921569, 0.41272883],\n",
       "       [0.11764706, 0.28385005],\n",
       "       [0.03921569, 0.76889518],\n",
       "       [0.01960784, 0.41198953],\n",
       "       [0.        , 0.4343449 ],\n",
       "       [0.00980392, 0.76250272],\n",
       "       [0.00980392, 0.62638772],\n",
       "       [0.32352941, 0.31298965],\n",
       "       [0.00980392, 0.81536581],\n",
       "       [0.03921569, 0.37996394],\n",
       "       [0.        , 0.93257603],\n",
       "       [0.06862745, 0.21017797],\n",
       "       [0.21568627, 0.33306472],\n",
       "       [0.04901961, 0.48076533],\n",
       "       [0.17647059, 0.53364462],\n",
       "       [0.07843137, 0.39511953],\n",
       "       [0.        , 0.32524801],\n",
       "       [0.40196078, 0.40531031],\n",
       "       [0.03921569, 0.26583259],\n",
       "       [0.03921569, 0.59341328],\n",
       "       [0.23529412, 0.51318802],\n",
       "       [0.32352941, 0.2433676 ],\n",
       "       [0.02941176, 0.17685775],\n",
       "       [0.25490196, 0.20049289],\n",
       "       [0.31372549, 0.32717495],\n",
       "       [0.11764706, 0.3499914 ],\n",
       "       [0.02941176, 0.40008302],\n",
       "       [0.16666667, 0.0560074 ],\n",
       "       [0.01960784, 0.67620867],\n",
       "       [0.17647059, 0.35978496],\n",
       "       [0.01960784, 0.48777562],\n",
       "       [0.04901961, 0.38480184],\n",
       "       [0.        , 0.33642511],\n",
       "       [0.09803922, 0.40878535],\n",
       "       [0.10784314, 0.36087546],\n",
       "       [0.19607843, 0.45433807],\n",
       "       [0.07843137, 0.54786452],\n",
       "       [0.15686275, 0.30190464],\n",
       "       [0.07843137, 0.35058191],\n",
       "       [0.40196078, 0.41630733],\n",
       "       [0.03921569, 0.64965557],\n",
       "       [0.02941176, 0.29116611],\n",
       "       [0.        , 0.71707356],\n",
       "       [0.28431373, 0.34055778],\n",
       "       [0.        , 0.79304365],\n",
       "       [0.        , 0.59356862],\n",
       "       [0.04901961, 0.40189687],\n",
       "       [0.04901961, 0.5070855 ],\n",
       "       [0.02941176, 0.41558157],\n",
       "       [0.21568627, 0.25656686],\n",
       "       [0.02941176, 0.23360546],\n",
       "       [0.21568627, 0.29341154],\n",
       "       [0.18627451, 0.34072842],\n",
       "       [0.00980392, 0.36907451],\n",
       "       [0.03921569, 0.48585331],\n",
       "       [0.05882353, 0.48213182],\n",
       "       [0.03921569, 0.3661866 ],\n",
       "       [0.30392157, 0.16465631],\n",
       "       [0.08823529, 0.33097469],\n",
       "       [0.11764706, 0.4437565 ],\n",
       "       [0.25490196, 0.42394167],\n",
       "       [0.07843137, 0.18678596],\n",
       "       [0.        , 0.84745187],\n",
       "       [0.09803922, 0.54528912],\n",
       "       [0.60784314, 0.34042571],\n",
       "       [0.01960784, 0.41947283],\n",
       "       [0.04901961, 0.22378609],\n",
       "       [0.08823529, 0.41188671],\n",
       "       [0.34313725, 0.2310722 ],\n",
       "       [0.14705882, 0.45465053],\n",
       "       [0.09803922, 0.48507116],\n",
       "       [0.14705882, 0.39988406],\n",
       "       [0.04901961, 0.33031068],\n",
       "       [0.15686275, 0.39246547],\n",
       "       [0.00980392, 0.76250272],\n",
       "       [0.07843137, 0.65577388],\n",
       "       [0.00980392, 0.50940237],\n",
       "       [0.        , 0.31073375],\n",
       "       [0.07843137, 0.51082447],\n",
       "       [0.17647059, 0.32562802],\n",
       "       [0.01960784, 0.3458022 ],\n",
       "       [0.10784314, 0.52677667],\n",
       "       [0.08823529, 0.76492844],\n",
       "       [0.25490196, 0.36759083],\n",
       "       [0.        , 0.41192067],\n",
       "       [0.23529412, 0.51420613],\n",
       "       [0.02941176, 0.        ],\n",
       "       [0.00980392, 0.49893771],\n",
       "       [0.04901961, 0.57345834],\n",
       "       [0.04901961, 0.28055922],\n",
       "       [0.18627451, 0.36444927],\n",
       "       [0.        , 0.58396511],\n",
       "       [0.01960784, 0.33998946],\n",
       "       [0.15686275, 0.35992727],\n",
       "       [0.00980392, 0.50940237],\n",
       "       [0.07843137, 0.42133215],\n",
       "       [0.1372549 , 0.34860089],\n",
       "       [0.15686275, 0.43244264],\n",
       "       [0.03921569, 0.47864442],\n",
       "       [0.15686275, 0.23082456],\n",
       "       [0.02941176, 0.38009771],\n",
       "       [0.00980392, 0.33520188],\n",
       "       [0.26470588, 0.38411685],\n",
       "       [0.00980392, 0.66875662],\n",
       "       [0.04901961, 0.51648241],\n",
       "       [0.03921569, 0.72593762],\n",
       "       [0.07843137, 0.33820565],\n",
       "       [0.03921569, 0.42774527],\n",
       "       [0.10784314, 0.28245126],\n",
       "       [0.43137255, 0.20475492],\n",
       "       [0.16666667, 0.57447965],\n",
       "       [0.14705882, 0.20694209],\n",
       "       [0.00980392, 0.45827901],\n",
       "       [0.01960784, 0.58596222],\n",
       "       [0.02941176, 0.38679064],\n",
       "       [0.03921569, 0.35392337],\n",
       "       [0.05882353, 0.27431343],\n",
       "       [0.00980392, 0.63494675],\n",
       "       [0.00980392, 0.66875662],\n",
       "       [0.16666667, 0.25510118],\n",
       "       [0.19607843, 0.20129063],\n",
       "       [0.21568627, 0.15423603],\n",
       "       [0.01960784, 0.33161125],\n",
       "       [0.00980392, 0.60492897],\n",
       "       [0.3627451 , 0.38007469],\n",
       "       [0.05882353, 0.13252805],\n",
       "       [0.06862745, 0.43938472],\n",
       "       [0.00980392, 0.30613488],\n",
       "       [0.04901961, 0.62958185],\n",
       "       [0.5       , 0.39127788],\n",
       "       [0.00980392, 0.76250272],\n",
       "       [0.1372549 , 0.70374187],\n",
       "       [0.01960784, 0.32995105],\n",
       "       [0.05882353, 0.33465439],\n",
       "       [0.        , 0.3833202 ],\n",
       "       [0.        , 0.33642511],\n",
       "       [0.02941176, 0.57742418],\n",
       "       [0.03921569, 0.47156286],\n",
       "       [0.00980392, 0.76250272],\n",
       "       [0.02941176, 0.49063883],\n",
       "       [0.        , 0.93257603],\n",
       "       [0.1372549 , 0.54869493],\n",
       "       [0.01960784, 0.63157398],\n",
       "       [0.05882353, 0.44718683],\n",
       "       [0.07843137, 0.33167062],\n",
       "       [0.00980392, 0.59169752],\n",
       "       [0.11764706, 0.33900692],\n",
       "       [0.02941176, 0.26058784],\n",
       "       [0.05882353, 0.05974793],\n",
       "       [0.02941176, 0.33186035],\n",
       "       [0.01960784, 0.54130436],\n",
       "       [0.        , 0.42052129],\n",
       "       [0.00980392, 0.80784873],\n",
       "       [0.01960784, 0.48812639],\n",
       "       [0.00980392, 0.49713837],\n",
       "       [0.        , 0.84745187],\n",
       "       [1.        , 0.01459161],\n",
       "       [0.02941176, 0.41627472],\n",
       "       [0.00980392, 0.75985444],\n",
       "       [0.18627451, 0.23678709],\n",
       "       [0.03921569, 0.33536328],\n",
       "       [0.19607843, 0.45778971],\n",
       "       [0.05882353, 0.37419719],\n",
       "       [0.10784314, 0.50030124],\n",
       "       [0.1372549 , 0.37914745],\n",
       "       [0.04901961, 0.36845855],\n",
       "       [0.06862745, 0.40021761],\n",
       "       [0.05882353, 0.26067821],\n",
       "       [0.01960784, 0.54130436],\n",
       "       [0.02941176, 0.30222428],\n",
       "       [0.        , 0.58396511],\n",
       "       [0.05882353, 0.56712269],\n",
       "       [0.        , 0.41009334],\n",
       "       [0.01960784, 1.        ],\n",
       "       [0.11764706, 0.0644637 ],\n",
       "       [0.08823529, 0.49032679],\n",
       "       [0.05882353, 0.30788542],\n",
       "       [0.        , 0.38307439],\n",
       "       [0.12745098, 0.13826662],\n",
       "       [0.02941176, 0.35699937],\n",
       "       [0.00980392, 0.48195358],\n",
       "       [0.02941176, 0.37776781]])"
      ]
     },
     "execution_count": 69,
     "metadata": {},
     "output_type": "execute_result"
    }
   ],
   "source": [
    "X_train_escalado"
   ]
  },
  {
   "cell_type": "code",
   "execution_count": 70,
   "metadata": {},
   "outputs": [],
   "source": [
    "X_test_escalado = escalador.transform(X_test)"
   ]
  },
  {
   "cell_type": "code",
   "execution_count": 71,
   "metadata": {},
   "outputs": [
    {
     "data": {
      "text/plain": [
       "array([[ 0.10784314,  0.43561574],\n",
       "       [ 0.04901961,  0.48811505],\n",
       "       [ 0.12745098,  0.27842182],\n",
       "       [ 0.73529412,  0.29446138],\n",
       "       [ 0.11764706,  0.19481402],\n",
       "       [ 0.21568627,  0.20891298],\n",
       "       [ 0.08823529,  0.52116268],\n",
       "       [ 0.00980392, -0.0982228 ],\n",
       "       [ 0.06862745,  0.40919149],\n",
       "       [ 0.16666667,  0.37371427],\n",
       "       [ 0.09803922,  0.39622075],\n",
       "       [ 0.1372549 ,  0.3338645 ],\n",
       "       [ 0.60784314,  0.2256799 ],\n",
       "       [ 0.00980392,  0.42689836],\n",
       "       [ 0.07843137,  0.36257579],\n",
       "       [ 0.05882353,  0.63541501],\n",
       "       [ 0.04901961,  0.34336769],\n",
       "       [ 0.03921569,  0.30406681],\n",
       "       [ 0.01960784,  0.91085853],\n",
       "       [ 0.00980392,  0.62638772],\n",
       "       [ 0.18627451,  0.13532528],\n",
       "       [ 0.18627451,  0.35327446],\n",
       "       [ 0.01960784,  0.60943812],\n",
       "       [ 0.01960784,  0.73823712],\n",
       "       [ 0.05882353,  0.55429863],\n",
       "       [ 0.20588235,  0.09808403],\n",
       "       [ 0.07843137,  0.42048128],\n",
       "       [ 0.00980392,  0.49745433],\n",
       "       [ 0.        ,  0.93257603],\n",
       "       [ 0.07843137,  0.48380239],\n",
       "       [ 0.05882353,  0.76037461],\n",
       "       [ 0.10784314,  0.48461537],\n",
       "       [ 0.02941176,  0.18777278],\n",
       "       [ 0.10784314,  0.47714709],\n",
       "       [ 0.        ,  0.32524801],\n",
       "       [ 0.21568627,  0.2644272 ],\n",
       "       [ 0.01960784,  0.5480945 ],\n",
       "       [ 0.2745098 ,  0.37430831],\n",
       "       [ 0.00980392,  0.41450206],\n",
       "       [ 0.03921569,  0.10018448],\n",
       "       [ 0.01960784,  0.73823712],\n",
       "       [ 0.33333333,  0.43171087],\n",
       "       [ 0.05882353,  0.58562624],\n",
       "       [ 0.        ,  0.32524801],\n",
       "       [ 0.04901961,  0.38417152],\n",
       "       [ 0.26470588,  0.27237628],\n",
       "       [ 0.14705882,  0.44658911],\n",
       "       [ 0.09803922,  0.47005504],\n",
       "       [ 0.24509804,  0.13406493],\n",
       "       [ 0.19607843,  0.46830601],\n",
       "       [ 0.00980392,  0.46327166],\n",
       "       [ 0.01960784,  0.49243681]])"
      ]
     },
     "execution_count": 71,
     "metadata": {},
     "output_type": "execute_result"
    }
   ],
   "source": [
    "X_test_escalado"
   ]
  },
  {
   "attachments": {},
   "cell_type": "markdown",
   "metadata": {},
   "source": [
    "## Creamos el Modelo\n",
    "Entrena con un KNN y evalúa el error en train y en test"
   ]
  },
  {
   "cell_type": "code",
   "execution_count": 72,
   "metadata": {},
   "outputs": [],
   "source": [
    "from sklearn.neighbors import KNeighborsClassifier\n",
    "from sklearn.metrics import accuracy_score"
   ]
  },
  {
   "cell_type": "code",
   "execution_count": 73,
   "metadata": {},
   "outputs": [],
   "source": [
    "knn = KNeighborsClassifier(n_neighbors=5)"
   ]
  },
  {
   "cell_type": "code",
   "execution_count": 74,
   "metadata": {},
   "outputs": [
    {
     "data": {
      "text/html": [
       "<style>#sk-container-id-2 {\n",
       "  /* Definition of color scheme common for light and dark mode */\n",
       "  --sklearn-color-text: #000;\n",
       "  --sklearn-color-text-muted: #666;\n",
       "  --sklearn-color-line: gray;\n",
       "  /* Definition of color scheme for unfitted estimators */\n",
       "  --sklearn-color-unfitted-level-0: #fff5e6;\n",
       "  --sklearn-color-unfitted-level-1: #f6e4d2;\n",
       "  --sklearn-color-unfitted-level-2: #ffe0b3;\n",
       "  --sklearn-color-unfitted-level-3: chocolate;\n",
       "  /* Definition of color scheme for fitted estimators */\n",
       "  --sklearn-color-fitted-level-0: #f0f8ff;\n",
       "  --sklearn-color-fitted-level-1: #d4ebff;\n",
       "  --sklearn-color-fitted-level-2: #b3dbfd;\n",
       "  --sklearn-color-fitted-level-3: cornflowerblue;\n",
       "\n",
       "  /* Specific color for light theme */\n",
       "  --sklearn-color-text-on-default-background: var(--sg-text-color, var(--theme-code-foreground, var(--jp-content-font-color1, black)));\n",
       "  --sklearn-color-background: var(--sg-background-color, var(--theme-background, var(--jp-layout-color0, white)));\n",
       "  --sklearn-color-border-box: var(--sg-text-color, var(--theme-code-foreground, var(--jp-content-font-color1, black)));\n",
       "  --sklearn-color-icon: #696969;\n",
       "\n",
       "  @media (prefers-color-scheme: dark) {\n",
       "    /* Redefinition of color scheme for dark theme */\n",
       "    --sklearn-color-text-on-default-background: var(--sg-text-color, var(--theme-code-foreground, var(--jp-content-font-color1, white)));\n",
       "    --sklearn-color-background: var(--sg-background-color, var(--theme-background, var(--jp-layout-color0, #111)));\n",
       "    --sklearn-color-border-box: var(--sg-text-color, var(--theme-code-foreground, var(--jp-content-font-color1, white)));\n",
       "    --sklearn-color-icon: #878787;\n",
       "  }\n",
       "}\n",
       "\n",
       "#sk-container-id-2 {\n",
       "  color: var(--sklearn-color-text);\n",
       "}\n",
       "\n",
       "#sk-container-id-2 pre {\n",
       "  padding: 0;\n",
       "}\n",
       "\n",
       "#sk-container-id-2 input.sk-hidden--visually {\n",
       "  border: 0;\n",
       "  clip: rect(1px 1px 1px 1px);\n",
       "  clip: rect(1px, 1px, 1px, 1px);\n",
       "  height: 1px;\n",
       "  margin: -1px;\n",
       "  overflow: hidden;\n",
       "  padding: 0;\n",
       "  position: absolute;\n",
       "  width: 1px;\n",
       "}\n",
       "\n",
       "#sk-container-id-2 div.sk-dashed-wrapped {\n",
       "  border: 1px dashed var(--sklearn-color-line);\n",
       "  margin: 0 0.4em 0.5em 0.4em;\n",
       "  box-sizing: border-box;\n",
       "  padding-bottom: 0.4em;\n",
       "  background-color: var(--sklearn-color-background);\n",
       "}\n",
       "\n",
       "#sk-container-id-2 div.sk-container {\n",
       "  /* jupyter's `normalize.less` sets `[hidden] { display: none; }`\n",
       "     but bootstrap.min.css set `[hidden] { display: none !important; }`\n",
       "     so we also need the `!important` here to be able to override the\n",
       "     default hidden behavior on the sphinx rendered scikit-learn.org.\n",
       "     See: https://github.com/scikit-learn/scikit-learn/issues/21755 */\n",
       "  display: inline-block !important;\n",
       "  position: relative;\n",
       "}\n",
       "\n",
       "#sk-container-id-2 div.sk-text-repr-fallback {\n",
       "  display: none;\n",
       "}\n",
       "\n",
       "div.sk-parallel-item,\n",
       "div.sk-serial,\n",
       "div.sk-item {\n",
       "  /* draw centered vertical line to link estimators */\n",
       "  background-image: linear-gradient(var(--sklearn-color-text-on-default-background), var(--sklearn-color-text-on-default-background));\n",
       "  background-size: 2px 100%;\n",
       "  background-repeat: no-repeat;\n",
       "  background-position: center center;\n",
       "}\n",
       "\n",
       "/* Parallel-specific style estimator block */\n",
       "\n",
       "#sk-container-id-2 div.sk-parallel-item::after {\n",
       "  content: \"\";\n",
       "  width: 100%;\n",
       "  border-bottom: 2px solid var(--sklearn-color-text-on-default-background);\n",
       "  flex-grow: 1;\n",
       "}\n",
       "\n",
       "#sk-container-id-2 div.sk-parallel {\n",
       "  display: flex;\n",
       "  align-items: stretch;\n",
       "  justify-content: center;\n",
       "  background-color: var(--sklearn-color-background);\n",
       "  position: relative;\n",
       "}\n",
       "\n",
       "#sk-container-id-2 div.sk-parallel-item {\n",
       "  display: flex;\n",
       "  flex-direction: column;\n",
       "}\n",
       "\n",
       "#sk-container-id-2 div.sk-parallel-item:first-child::after {\n",
       "  align-self: flex-end;\n",
       "  width: 50%;\n",
       "}\n",
       "\n",
       "#sk-container-id-2 div.sk-parallel-item:last-child::after {\n",
       "  align-self: flex-start;\n",
       "  width: 50%;\n",
       "}\n",
       "\n",
       "#sk-container-id-2 div.sk-parallel-item:only-child::after {\n",
       "  width: 0;\n",
       "}\n",
       "\n",
       "/* Serial-specific style estimator block */\n",
       "\n",
       "#sk-container-id-2 div.sk-serial {\n",
       "  display: flex;\n",
       "  flex-direction: column;\n",
       "  align-items: center;\n",
       "  background-color: var(--sklearn-color-background);\n",
       "  padding-right: 1em;\n",
       "  padding-left: 1em;\n",
       "}\n",
       "\n",
       "\n",
       "/* Toggleable style: style used for estimator/Pipeline/ColumnTransformer box that is\n",
       "clickable and can be expanded/collapsed.\n",
       "- Pipeline and ColumnTransformer use this feature and define the default style\n",
       "- Estimators will overwrite some part of the style using the `sk-estimator` class\n",
       "*/\n",
       "\n",
       "/* Pipeline and ColumnTransformer style (default) */\n",
       "\n",
       "#sk-container-id-2 div.sk-toggleable {\n",
       "  /* Default theme specific background. It is overwritten whether we have a\n",
       "  specific estimator or a Pipeline/ColumnTransformer */\n",
       "  background-color: var(--sklearn-color-background);\n",
       "}\n",
       "\n",
       "/* Toggleable label */\n",
       "#sk-container-id-2 label.sk-toggleable__label {\n",
       "  cursor: pointer;\n",
       "  display: flex;\n",
       "  width: 100%;\n",
       "  margin-bottom: 0;\n",
       "  padding: 0.5em;\n",
       "  box-sizing: border-box;\n",
       "  text-align: center;\n",
       "  align-items: start;\n",
       "  justify-content: space-between;\n",
       "  gap: 0.5em;\n",
       "}\n",
       "\n",
       "#sk-container-id-2 label.sk-toggleable__label .caption {\n",
       "  font-size: 0.6rem;\n",
       "  font-weight: lighter;\n",
       "  color: var(--sklearn-color-text-muted);\n",
       "}\n",
       "\n",
       "#sk-container-id-2 label.sk-toggleable__label-arrow:before {\n",
       "  /* Arrow on the left of the label */\n",
       "  content: \"▸\";\n",
       "  float: left;\n",
       "  margin-right: 0.25em;\n",
       "  color: var(--sklearn-color-icon);\n",
       "}\n",
       "\n",
       "#sk-container-id-2 label.sk-toggleable__label-arrow:hover:before {\n",
       "  color: var(--sklearn-color-text);\n",
       "}\n",
       "\n",
       "/* Toggleable content - dropdown */\n",
       "\n",
       "#sk-container-id-2 div.sk-toggleable__content {\n",
       "  max-height: 0;\n",
       "  max-width: 0;\n",
       "  overflow: hidden;\n",
       "  text-align: left;\n",
       "  /* unfitted */\n",
       "  background-color: var(--sklearn-color-unfitted-level-0);\n",
       "}\n",
       "\n",
       "#sk-container-id-2 div.sk-toggleable__content.fitted {\n",
       "  /* fitted */\n",
       "  background-color: var(--sklearn-color-fitted-level-0);\n",
       "}\n",
       "\n",
       "#sk-container-id-2 div.sk-toggleable__content pre {\n",
       "  margin: 0.2em;\n",
       "  border-radius: 0.25em;\n",
       "  color: var(--sklearn-color-text);\n",
       "  /* unfitted */\n",
       "  background-color: var(--sklearn-color-unfitted-level-0);\n",
       "}\n",
       "\n",
       "#sk-container-id-2 div.sk-toggleable__content.fitted pre {\n",
       "  /* unfitted */\n",
       "  background-color: var(--sklearn-color-fitted-level-0);\n",
       "}\n",
       "\n",
       "#sk-container-id-2 input.sk-toggleable__control:checked~div.sk-toggleable__content {\n",
       "  /* Expand drop-down */\n",
       "  max-height: 200px;\n",
       "  max-width: 100%;\n",
       "  overflow: auto;\n",
       "}\n",
       "\n",
       "#sk-container-id-2 input.sk-toggleable__control:checked~label.sk-toggleable__label-arrow:before {\n",
       "  content: \"▾\";\n",
       "}\n",
       "\n",
       "/* Pipeline/ColumnTransformer-specific style */\n",
       "\n",
       "#sk-container-id-2 div.sk-label input.sk-toggleable__control:checked~label.sk-toggleable__label {\n",
       "  color: var(--sklearn-color-text);\n",
       "  background-color: var(--sklearn-color-unfitted-level-2);\n",
       "}\n",
       "\n",
       "#sk-container-id-2 div.sk-label.fitted input.sk-toggleable__control:checked~label.sk-toggleable__label {\n",
       "  background-color: var(--sklearn-color-fitted-level-2);\n",
       "}\n",
       "\n",
       "/* Estimator-specific style */\n",
       "\n",
       "/* Colorize estimator box */\n",
       "#sk-container-id-2 div.sk-estimator input.sk-toggleable__control:checked~label.sk-toggleable__label {\n",
       "  /* unfitted */\n",
       "  background-color: var(--sklearn-color-unfitted-level-2);\n",
       "}\n",
       "\n",
       "#sk-container-id-2 div.sk-estimator.fitted input.sk-toggleable__control:checked~label.sk-toggleable__label {\n",
       "  /* fitted */\n",
       "  background-color: var(--sklearn-color-fitted-level-2);\n",
       "}\n",
       "\n",
       "#sk-container-id-2 div.sk-label label.sk-toggleable__label,\n",
       "#sk-container-id-2 div.sk-label label {\n",
       "  /* The background is the default theme color */\n",
       "  color: var(--sklearn-color-text-on-default-background);\n",
       "}\n",
       "\n",
       "/* On hover, darken the color of the background */\n",
       "#sk-container-id-2 div.sk-label:hover label.sk-toggleable__label {\n",
       "  color: var(--sklearn-color-text);\n",
       "  background-color: var(--sklearn-color-unfitted-level-2);\n",
       "}\n",
       "\n",
       "/* Label box, darken color on hover, fitted */\n",
       "#sk-container-id-2 div.sk-label.fitted:hover label.sk-toggleable__label.fitted {\n",
       "  color: var(--sklearn-color-text);\n",
       "  background-color: var(--sklearn-color-fitted-level-2);\n",
       "}\n",
       "\n",
       "/* Estimator label */\n",
       "\n",
       "#sk-container-id-2 div.sk-label label {\n",
       "  font-family: monospace;\n",
       "  font-weight: bold;\n",
       "  display: inline-block;\n",
       "  line-height: 1.2em;\n",
       "}\n",
       "\n",
       "#sk-container-id-2 div.sk-label-container {\n",
       "  text-align: center;\n",
       "}\n",
       "\n",
       "/* Estimator-specific */\n",
       "#sk-container-id-2 div.sk-estimator {\n",
       "  font-family: monospace;\n",
       "  border: 1px dotted var(--sklearn-color-border-box);\n",
       "  border-radius: 0.25em;\n",
       "  box-sizing: border-box;\n",
       "  margin-bottom: 0.5em;\n",
       "  /* unfitted */\n",
       "  background-color: var(--sklearn-color-unfitted-level-0);\n",
       "}\n",
       "\n",
       "#sk-container-id-2 div.sk-estimator.fitted {\n",
       "  /* fitted */\n",
       "  background-color: var(--sklearn-color-fitted-level-0);\n",
       "}\n",
       "\n",
       "/* on hover */\n",
       "#sk-container-id-2 div.sk-estimator:hover {\n",
       "  /* unfitted */\n",
       "  background-color: var(--sklearn-color-unfitted-level-2);\n",
       "}\n",
       "\n",
       "#sk-container-id-2 div.sk-estimator.fitted:hover {\n",
       "  /* fitted */\n",
       "  background-color: var(--sklearn-color-fitted-level-2);\n",
       "}\n",
       "\n",
       "/* Specification for estimator info (e.g. \"i\" and \"?\") */\n",
       "\n",
       "/* Common style for \"i\" and \"?\" */\n",
       "\n",
       ".sk-estimator-doc-link,\n",
       "a:link.sk-estimator-doc-link,\n",
       "a:visited.sk-estimator-doc-link {\n",
       "  float: right;\n",
       "  font-size: smaller;\n",
       "  line-height: 1em;\n",
       "  font-family: monospace;\n",
       "  background-color: var(--sklearn-color-background);\n",
       "  border-radius: 1em;\n",
       "  height: 1em;\n",
       "  width: 1em;\n",
       "  text-decoration: none !important;\n",
       "  margin-left: 0.5em;\n",
       "  text-align: center;\n",
       "  /* unfitted */\n",
       "  border: var(--sklearn-color-unfitted-level-1) 1pt solid;\n",
       "  color: var(--sklearn-color-unfitted-level-1);\n",
       "}\n",
       "\n",
       ".sk-estimator-doc-link.fitted,\n",
       "a:link.sk-estimator-doc-link.fitted,\n",
       "a:visited.sk-estimator-doc-link.fitted {\n",
       "  /* fitted */\n",
       "  border: var(--sklearn-color-fitted-level-1) 1pt solid;\n",
       "  color: var(--sklearn-color-fitted-level-1);\n",
       "}\n",
       "\n",
       "/* On hover */\n",
       "div.sk-estimator:hover .sk-estimator-doc-link:hover,\n",
       ".sk-estimator-doc-link:hover,\n",
       "div.sk-label-container:hover .sk-estimator-doc-link:hover,\n",
       ".sk-estimator-doc-link:hover {\n",
       "  /* unfitted */\n",
       "  background-color: var(--sklearn-color-unfitted-level-3);\n",
       "  color: var(--sklearn-color-background);\n",
       "  text-decoration: none;\n",
       "}\n",
       "\n",
       "div.sk-estimator.fitted:hover .sk-estimator-doc-link.fitted:hover,\n",
       ".sk-estimator-doc-link.fitted:hover,\n",
       "div.sk-label-container:hover .sk-estimator-doc-link.fitted:hover,\n",
       ".sk-estimator-doc-link.fitted:hover {\n",
       "  /* fitted */\n",
       "  background-color: var(--sklearn-color-fitted-level-3);\n",
       "  color: var(--sklearn-color-background);\n",
       "  text-decoration: none;\n",
       "}\n",
       "\n",
       "/* Span, style for the box shown on hovering the info icon */\n",
       ".sk-estimator-doc-link span {\n",
       "  display: none;\n",
       "  z-index: 9999;\n",
       "  position: relative;\n",
       "  font-weight: normal;\n",
       "  right: .2ex;\n",
       "  padding: .5ex;\n",
       "  margin: .5ex;\n",
       "  width: min-content;\n",
       "  min-width: 20ex;\n",
       "  max-width: 50ex;\n",
       "  color: var(--sklearn-color-text);\n",
       "  box-shadow: 2pt 2pt 4pt #999;\n",
       "  /* unfitted */\n",
       "  background: var(--sklearn-color-unfitted-level-0);\n",
       "  border: .5pt solid var(--sklearn-color-unfitted-level-3);\n",
       "}\n",
       "\n",
       ".sk-estimator-doc-link.fitted span {\n",
       "  /* fitted */\n",
       "  background: var(--sklearn-color-fitted-level-0);\n",
       "  border: var(--sklearn-color-fitted-level-3);\n",
       "}\n",
       "\n",
       ".sk-estimator-doc-link:hover span {\n",
       "  display: block;\n",
       "}\n",
       "\n",
       "/* \"?\"-specific style due to the `<a>` HTML tag */\n",
       "\n",
       "#sk-container-id-2 a.estimator_doc_link {\n",
       "  float: right;\n",
       "  font-size: 1rem;\n",
       "  line-height: 1em;\n",
       "  font-family: monospace;\n",
       "  background-color: var(--sklearn-color-background);\n",
       "  border-radius: 1rem;\n",
       "  height: 1rem;\n",
       "  width: 1rem;\n",
       "  text-decoration: none;\n",
       "  /* unfitted */\n",
       "  color: var(--sklearn-color-unfitted-level-1);\n",
       "  border: var(--sklearn-color-unfitted-level-1) 1pt solid;\n",
       "}\n",
       "\n",
       "#sk-container-id-2 a.estimator_doc_link.fitted {\n",
       "  /* fitted */\n",
       "  border: var(--sklearn-color-fitted-level-1) 1pt solid;\n",
       "  color: var(--sklearn-color-fitted-level-1);\n",
       "}\n",
       "\n",
       "/* On hover */\n",
       "#sk-container-id-2 a.estimator_doc_link:hover {\n",
       "  /* unfitted */\n",
       "  background-color: var(--sklearn-color-unfitted-level-3);\n",
       "  color: var(--sklearn-color-background);\n",
       "  text-decoration: none;\n",
       "}\n",
       "\n",
       "#sk-container-id-2 a.estimator_doc_link.fitted:hover {\n",
       "  /* fitted */\n",
       "  background-color: var(--sklearn-color-fitted-level-3);\n",
       "}\n",
       "</style><div id=\"sk-container-id-2\" class=\"sk-top-container\"><div class=\"sk-text-repr-fallback\"><pre>KNeighborsClassifier()</pre><b>In a Jupyter environment, please rerun this cell to show the HTML representation or trust the notebook. <br />On GitHub, the HTML representation is unable to render, please try loading this page with nbviewer.org.</b></div><div class=\"sk-container\" hidden><div class=\"sk-item\"><div class=\"sk-estimator fitted sk-toggleable\"><input class=\"sk-toggleable__control sk-hidden--visually\" id=\"sk-estimator-id-2\" type=\"checkbox\" checked><label for=\"sk-estimator-id-2\" class=\"sk-toggleable__label fitted sk-toggleable__label-arrow\"><div><div>KNeighborsClassifier</div></div><div><a class=\"sk-estimator-doc-link fitted\" rel=\"noreferrer\" target=\"_blank\" href=\"https://scikit-learn.org/1.6/modules/generated/sklearn.neighbors.KNeighborsClassifier.html\">?<span>Documentation for KNeighborsClassifier</span></a><span class=\"sk-estimator-doc-link fitted\">i<span>Fitted</span></span></div></label><div class=\"sk-toggleable__content fitted\"><pre>KNeighborsClassifier()</pre></div> </div></div></div></div>"
      ],
      "text/plain": [
       "KNeighborsClassifier()"
      ]
     },
     "execution_count": 74,
     "metadata": {},
     "output_type": "execute_result"
    }
   ],
   "source": [
    "knn.fit(X_train_escalado, y_train)"
   ]
  },
  {
   "cell_type": "code",
   "execution_count": 75,
   "metadata": {},
   "outputs": [],
   "source": [
    "y_train_pred = knn.predict(X_train_escalado)\n",
    "y_test_pred = knn.predict(X_test_escalado)"
   ]
  },
  {
   "cell_type": "code",
   "execution_count": 76,
   "metadata": {},
   "outputs": [],
   "source": [
    "train_accuracy = accuracy_score(y_train, y_train_pred)\n",
    "test_accuracy = accuracy_score(y_test, y_test_pred)"
   ]
  },
  {
   "cell_type": "code",
   "execution_count": 77,
   "metadata": {},
   "outputs": [
    {
     "name": "stdout",
     "output_type": "stream",
     "text": [
      "Accuracy en train: 0.92\n",
      "Accuracy en test: 0.83\n"
     ]
    }
   ],
   "source": [
    "print(f'Accuracy en train: {train_accuracy:.2f}')\n",
    "print(f'Accuracy en test: {test_accuracy:.2f}')"
   ]
  },
  {
   "attachments": {},
   "cell_type": "markdown",
   "metadata": {},
   "source": [
    "## Evalúa tu modelo"
   ]
  },
  {
   "cell_type": "code",
   "execution_count": 78,
   "metadata": {},
   "outputs": [],
   "source": [
    "from sklearn.metrics import confusion_matrix, ConfusionMatrixDisplay"
   ]
  },
  {
   "cell_type": "code",
   "execution_count": 79,
   "metadata": {},
   "outputs": [
    {
     "data": {
      "text/plain": [
       "<sklearn.metrics._plot.confusion_matrix.ConfusionMatrixDisplay at 0x1f3d805e410>"
      ]
     },
     "execution_count": 79,
     "metadata": {},
     "output_type": "execute_result"
    },
    {
     "data": {
      "image/png": "[encoded data removed]",
      "text/plain": [
       "<Figure size 640x480 with 2 Axes>"
      ]
     },
     "metadata": {},
     "output_type": "display_data"
    }
   ],
   "source": [
    "cm = confusion_matrix(y_test, y_test_pred)\n",
    "disp = ConfusionMatrixDisplay(confusion_matrix=cm)\n",
    "disp.plot()"
   ]
  },
  {
   "attachments": {},
   "cell_type": "markdown",
   "metadata": {},
   "source": [
    "## ¿Cómo obtener el mejor valor de k? Crea y evalúa nuevos modelos\n",
    "¿Qué valor de k maximiza el accuracy? Representa todas las iteraciones en un scatterplot -> k vs accuracy"
   ]
  },
  {
   "cell_type": "code",
   "execution_count": 80,
   "metadata": {},
   "outputs": [],
   "source": [
    "accuracies = []\n",
    "for k in range(1,30):\n",
    "    knn = KNeighborsClassifier(n_neighbors=k)\n",
    "    knn.fit(X_train_escalado, y_train)\n",
    "    y_pred = knn.predict(X_test_escalado)\n",
    "    acc = accuracy_score(y_test, y_pred)\n",
    "    accuracies.append(acc)\n",
    "\n",
    "results = pd.DataFrame({'k': range(1,30), 'accuracy': accuracies})"
   ]
  },
  {
   "cell_type": "code",
   "execution_count": 81,
   "metadata": {},
   "outputs": [
    {
     "data": {
      "application/vnd.microsoft.datawrangler.viewer.v0+json": {
       "columns": [
        {
         "name": "index",
         "rawType": "int64",
         "type": "integer"
        },
        {
         "name": "k",
         "rawType": "int64",
         "type": "integer"
        },
        {
         "name": "accuracy",
         "rawType": "float64",
         "type": "float"
        }
       ],
       "conversionMethod": "pd.DataFrame",
       "ref": "433a335c-09ce-42a7-835f-7549711a0615",
       "rows": [
        [
         "0",
         "1",
         "0.8269230769230769"
        ],
        [
         "1",
         "2",
         "0.8461538461538461"
        ],
        [
         "2",
         "3",
         "0.8269230769230769"
        ],
        [
         "3",
         "4",
         "0.8076923076923077"
        ],
        [
         "4",
         "5",
         "0.8269230769230769"
        ],
        [
         "5",
         "6",
         "0.8076923076923077"
        ],
        [
         "6",
         "7",
         "0.8269230769230769"
        ],
        [
         "7",
         "8",
         "0.8076923076923077"
        ],
        [
         "8",
         "9",
         "0.8269230769230769"
        ],
        [
         "9",
         "10",
         "0.8269230769230769"
        ],
        [
         "10",
         "11",
         "0.8269230769230769"
        ],
        [
         "11",
         "12",
         "0.8269230769230769"
        ],
        [
         "12",
         "13",
         "0.8269230769230769"
        ],
        [
         "13",
         "14",
         "0.8269230769230769"
        ],
        [
         "14",
         "15",
         "0.8076923076923077"
        ],
        [
         "15",
         "16",
         "0.8076923076923077"
        ],
        [
         "16",
         "17",
         "0.7884615384615384"
        ],
        [
         "17",
         "18",
         "0.8076923076923077"
        ],
        [
         "18",
         "19",
         "0.7884615384615384"
        ],
        [
         "19",
         "20",
         "0.7884615384615384"
        ],
        [
         "20",
         "21",
         "0.7884615384615384"
        ],
        [
         "21",
         "22",
         "0.7884615384615384"
        ],
        [
         "22",
         "23",
         "0.7884615384615384"
        ],
        [
         "23",
         "24",
         "0.7884615384615384"
        ],
        [
         "24",
         "25",
         "0.7884615384615384"
        ],
        [
         "25",
         "26",
         "0.7884615384615384"
        ],
        [
         "26",
         "27",
         "0.7884615384615384"
        ],
        [
         "27",
         "28",
         "0.8076923076923077"
        ],
        [
         "28",
         "29",
         "0.7692307692307693"
        ]
       ],
       "shape": {
        "columns": 2,
        "rows": 29
       }
      },
      "text/html": [
       "<div>\n",
       "<style scoped>\n",
       "    .dataframe tbody tr th:only-of-type {\n",
       "        vertical-align: middle;\n",
       "    }\n",
       "\n",
       "    .dataframe tbody tr th {\n",
       "        vertical-align: top;\n",
       "    }\n",
       "\n",
       "    .dataframe thead th {\n",
       "        text-align: right;\n",
       "    }\n",
       "</style>\n",
       "<table border=\"1\" class=\"dataframe\">\n",
       "  <thead>\n",
       "    <tr style=\"text-align: right;\">\n",
       "      <th></th>\n",
       "      <th>k</th>\n",
       "      <th>accuracy</th>\n",
       "    </tr>\n",
       "  </thead>\n",
       "  <tbody>\n",
       "    <tr>\n",
       "      <th>0</th>\n",
       "      <td>1</td>\n",
       "      <td>0.826923</td>\n",
       "    </tr>\n",
       "    <tr>\n",
       "      <th>1</th>\n",
       "      <td>2</td>\n",
       "      <td>0.846154</td>\n",
       "    </tr>\n",
       "    <tr>\n",
       "      <th>2</th>\n",
       "      <td>3</td>\n",
       "      <td>0.826923</td>\n",
       "    </tr>\n",
       "    <tr>\n",
       "      <th>3</th>\n",
       "      <td>4</td>\n",
       "      <td>0.807692</td>\n",
       "    </tr>\n",
       "    <tr>\n",
       "      <th>4</th>\n",
       "      <td>5</td>\n",
       "      <td>0.826923</td>\n",
       "    </tr>\n",
       "    <tr>\n",
       "      <th>5</th>\n",
       "      <td>6</td>\n",
       "      <td>0.807692</td>\n",
       "    </tr>\n",
       "    <tr>\n",
       "      <th>6</th>\n",
       "      <td>7</td>\n",
       "      <td>0.826923</td>\n",
       "    </tr>\n",
       "    <tr>\n",
       "      <th>7</th>\n",
       "      <td>8</td>\n",
       "      <td>0.807692</td>\n",
       "    </tr>\n",
       "    <tr>\n",
       "      <th>8</th>\n",
       "      <td>9</td>\n",
       "      <td>0.826923</td>\n",
       "    </tr>\n",
       "    <tr>\n",
       "      <th>9</th>\n",
       "      <td>10</td>\n",
       "      <td>0.826923</td>\n",
       "    </tr>\n",
       "    <tr>\n",
       "      <th>10</th>\n",
       "      <td>11</td>\n",
       "      <td>0.826923</td>\n",
       "    </tr>\n",
       "    <tr>\n",
       "      <th>11</th>\n",
       "      <td>12</td>\n",
       "      <td>0.826923</td>\n",
       "    </tr>\n",
       "    <tr>\n",
       "      <th>12</th>\n",
       "      <td>13</td>\n",
       "      <td>0.826923</td>\n",
       "    </tr>\n",
       "    <tr>\n",
       "      <th>13</th>\n",
       "      <td>14</td>\n",
       "      <td>0.826923</td>\n",
       "    </tr>\n",
       "    <tr>\n",
       "      <th>14</th>\n",
       "      <td>15</td>\n",
       "      <td>0.807692</td>\n",
       "    </tr>\n",
       "    <tr>\n",
       "      <th>15</th>\n",
       "      <td>16</td>\n",
       "      <td>0.807692</td>\n",
       "    </tr>\n",
       "    <tr>\n",
       "      <th>16</th>\n",
       "      <td>17</td>\n",
       "      <td>0.788462</td>\n",
       "    </tr>\n",
       "    <tr>\n",
       "      <th>17</th>\n",
       "      <td>18</td>\n",
       "      <td>0.807692</td>\n",
       "    </tr>\n",
       "    <tr>\n",
       "      <th>18</th>\n",
       "      <td>19</td>\n",
       "      <td>0.788462</td>\n",
       "    </tr>\n",
       "    <tr>\n",
       "      <th>19</th>\n",
       "      <td>20</td>\n",
       "      <td>0.788462</td>\n",
       "    </tr>\n",
       "    <tr>\n",
       "      <th>20</th>\n",
       "      <td>21</td>\n",
       "      <td>0.788462</td>\n",
       "    </tr>\n",
       "    <tr>\n",
       "      <th>21</th>\n",
       "      <td>22</td>\n",
       "      <td>0.788462</td>\n",
       "    </tr>\n",
       "    <tr>\n",
       "      <th>22</th>\n",
       "      <td>23</td>\n",
       "      <td>0.788462</td>\n",
       "    </tr>\n",
       "    <tr>\n",
       "      <th>23</th>\n",
       "      <td>24</td>\n",
       "      <td>0.788462</td>\n",
       "    </tr>\n",
       "    <tr>\n",
       "      <th>24</th>\n",
       "      <td>25</td>\n",
       "      <td>0.788462</td>\n",
       "    </tr>\n",
       "    <tr>\n",
       "      <th>25</th>\n",
       "      <td>26</td>\n",
       "      <td>0.788462</td>\n",
       "    </tr>\n",
       "    <tr>\n",
       "      <th>26</th>\n",
       "      <td>27</td>\n",
       "      <td>0.788462</td>\n",
       "    </tr>\n",
       "    <tr>\n",
       "      <th>27</th>\n",
       "      <td>28</td>\n",
       "      <td>0.807692</td>\n",
       "    </tr>\n",
       "    <tr>\n",
       "      <th>28</th>\n",
       "      <td>29</td>\n",
       "      <td>0.769231</td>\n",
       "    </tr>\n",
       "  </tbody>\n",
       "</table>\n",
       "</div>"
      ],
      "text/plain": [
       "     k  accuracy\n",
       "0    1  0.826923\n",
       "1    2  0.846154\n",
       "2    3  0.826923\n",
       "3    4  0.807692\n",
       "4    5  0.826923\n",
       "5    6  0.807692\n",
       "6    7  0.826923\n",
       "7    8  0.807692\n",
       "8    9  0.826923\n",
       "9   10  0.826923\n",
       "10  11  0.826923\n",
       "11  12  0.826923\n",
       "12  13  0.826923\n",
       "13  14  0.826923\n",
       "14  15  0.807692\n",
       "15  16  0.807692\n",
       "16  17  0.788462\n",
       "17  18  0.807692\n",
       "18  19  0.788462\n",
       "19  20  0.788462\n",
       "20  21  0.788462\n",
       "21  22  0.788462\n",
       "22  23  0.788462\n",
       "23  24  0.788462\n",
       "24  25  0.788462\n",
       "25  26  0.788462\n",
       "26  27  0.788462\n",
       "27  28  0.807692\n",
       "28  29  0.769231"
      ]
     },
     "execution_count": 81,
     "metadata": {},
     "output_type": "execute_result"
    }
   ],
   "source": [
    "results"
   ]
  },
  {
   "cell_type": "code",
   "execution_count": 82,
   "metadata": {},
   "outputs": [
    {
     "data": {
      "image/png": "[encoded data removed]",
      "text/plain": [
       "<Figure size 1000x500 with 1 Axes>"
      ]
     },
     "metadata": {},
     "output_type": "display_data"
    }
   ],
   "source": [
    "plt.figure(figsize=(10, 5))\n",
    "plt.scatter(results['k'], results['accuracy'], color='blue')\n",
    "plt.plot(results['k'], results['accuracy'], linestyle='dashed', alpha=0.5)\n",
    "plt.title('K vs Accuracy')\n",
    "plt.xlabel('Número de vecinos (k)')\n",
    "plt.ylabel('Accuracy en test')\n",
    "plt.grid(True)\n",
    "plt.show()"
   ]
  },
  {
   "attachments": {},
   "cell_type": "markdown",
   "metadata": {},
   "source": [
    "## Predice con nuevos datos.\n",
    "Ejemplo: supongamos que nos llega una review de 5 palabras y sentimiento 1"
   ]
  },
  {
   "cell_type": "code",
   "execution_count": 83,
   "metadata": {},
   "outputs": [],
   "source": [
    "dato_nuevo = {\"wordcount\": [5],\n",
    "               \"sentimentValue\": [1]}"
   ]
  },
  {
   "cell_type": "code",
   "execution_count": 84,
   "metadata": {},
   "outputs": [],
   "source": [
    "dato_nuevo = pd.DataFrame(dato_nuevo)"
   ]
  },
  {
   "cell_type": "code",
   "execution_count": 85,
   "metadata": {},
   "outputs": [
    {
     "data": {
      "application/vnd.microsoft.datawrangler.viewer.v0+json": {
       "columns": [
        {
         "name": "index",
         "rawType": "int64",
         "type": "integer"
        },
        {
         "name": "wordcount",
         "rawType": "int64",
         "type": "integer"
        },
        {
         "name": "sentimentValue",
         "rawType": "int64",
         "type": "integer"
        }
       ],
       "conversionMethod": "pd.DataFrame",
       "ref": "bebd10d4-258c-405f-861e-0af13ff8f411",
       "rows": [
        [
         "0",
         "5",
         "1"
        ]
       ],
       "shape": {
        "columns": 2,
        "rows": 1
       }
      },
      "text/html": [
       "<div>\n",
       "<style scoped>\n",
       "    .dataframe tbody tr th:only-of-type {\n",
       "        vertical-align: middle;\n",
       "    }\n",
       "\n",
       "    .dataframe tbody tr th {\n",
       "        vertical-align: top;\n",
       "    }\n",
       "\n",
       "    .dataframe thead th {\n",
       "        text-align: right;\n",
       "    }\n",
       "</style>\n",
       "<table border=\"1\" class=\"dataframe\">\n",
       "  <thead>\n",
       "    <tr style=\"text-align: right;\">\n",
       "      <th></th>\n",
       "      <th>wordcount</th>\n",
       "      <th>sentimentValue</th>\n",
       "    </tr>\n",
       "  </thead>\n",
       "  <tbody>\n",
       "    <tr>\n",
       "      <th>0</th>\n",
       "      <td>5</td>\n",
       "      <td>1</td>\n",
       "    </tr>\n",
       "  </tbody>\n",
       "</table>\n",
       "</div>"
      ],
      "text/plain": [
       "   wordcount  sentimentValue\n",
       "0          5               1"
      ]
     },
     "execution_count": 85,
     "metadata": {},
     "output_type": "execute_result"
    }
   ],
   "source": [
    "dato_nuevo"
   ]
  },
  {
   "cell_type": "code",
   "execution_count": 86,
   "metadata": {},
   "outputs": [],
   "source": [
    "datos_escalados = escalador.transform(dato_nuevo)"
   ]
  },
  {
   "cell_type": "code",
   "execution_count": 87,
   "metadata": {},
   "outputs": [],
   "source": [
    "datos_escalados = pd.DataFrame(datos_escalados)"
   ]
  },
  {
   "cell_type": "code",
   "execution_count": 89,
   "metadata": {},
   "outputs": [
    {
     "data": {
      "application/vnd.microsoft.datawrangler.viewer.v0+json": {
       "columns": [
        {
         "name": "index",
         "rawType": "int64",
         "type": "integer"
        },
        {
         "name": "0",
         "rawType": "float64",
         "type": "float"
        },
        {
         "name": "1",
         "rawType": "float64",
         "type": "float"
        }
       ],
       "conversionMethod": "pd.DataFrame",
       "ref": "8df6c5b7-07ee-40e2-96a1-c0f9be2f365b",
       "rows": [
        [
         "0",
         "0.0392156862745098",
         "0.5511657736311701"
        ]
       ],
       "shape": {
        "columns": 2,
        "rows": 1
       }
      },
      "text/html": [
       "<div>\n",
       "<style scoped>\n",
       "    .dataframe tbody tr th:only-of-type {\n",
       "        vertical-align: middle;\n",
       "    }\n",
       "\n",
       "    .dataframe tbody tr th {\n",
       "        vertical-align: top;\n",
       "    }\n",
       "\n",
       "    .dataframe thead th {\n",
       "        text-align: right;\n",
       "    }\n",
       "</style>\n",
       "<table border=\"1\" class=\"dataframe\">\n",
       "  <thead>\n",
       "    <tr style=\"text-align: right;\">\n",
       "      <th></th>\n",
       "      <th>0</th>\n",
       "      <th>1</th>\n",
       "    </tr>\n",
       "  </thead>\n",
       "  <tbody>\n",
       "    <tr>\n",
       "      <th>0</th>\n",
       "      <td>0.039216</td>\n",
       "      <td>0.551166</td>\n",
       "    </tr>\n",
       "  </tbody>\n",
       "</table>\n",
       "</div>"
      ],
      "text/plain": [
       "          0         1\n",
       "0  0.039216  0.551166"
      ]
     },
     "execution_count": 89,
     "metadata": {},
     "output_type": "execute_result"
    }
   ],
   "source": [
    "datos_escalados"
   ]
  },
  {
   "cell_type": "code",
   "execution_count": 90,
   "metadata": {},
   "outputs": [
    {
     "name": "stdout",
     "output_type": "stream",
     "text": [
      "La clase predicha es: 5\n"
     ]
    }
   ],
   "source": [
    "prediccion = knn.predict(datos_escalados)\n",
    "\n",
    "print(f'La clase predicha es: {prediccion[0]}')"
   ]
  }
 ],
 "metadata": {
  "kernelspec": {
   "display_name": "Python 3",
   "language": "python",
   "name": "python3"
  },
  "language_info": {
   "codemirror_mode": {
    "name": "ipython",
    "version": 3
   },
   "file_extension": ".py",
   "mimetype": "text/x-python",
   "name": "python",
   "nbconvert_exporter": "python",
   "pygments_lexer": "ipython3",
   "version": "3.11.9"
  },
  "vscode": {
   "interpreter": {
    "hash": "703e8db34bb7cdd00b82a89d91d2e2137d3ce887601c5554b79c7f8766c7193f"
   }
  }
 },
 "nbformat": 4,
 "nbformat_minor": 4
}
