{
 "cells": [
  {
   "attachments": {},
   "cell_type": "markdown",
   "metadata": {
    "id": "W0OtVb5B1TQl"
   },
   "source": [
    "# Linear regression in diabetes dataset\n",
    "\n",
    "Let's explore the datasets that are included in this Python library. These datasets have been cleaned and formatted for use in ML algorithms."
   ]
  },
  {
   "attachments": {},
   "cell_type": "markdown",
   "metadata": {
    "id": "fWmsqmLW1TQm"
   },
   "source": [
    "First, we will load the diabetes dataset. Do this in the cell below by importing the datasets and then loading the dataset  to the `diabetes` variable using the `load_diabetes()` function ([documentation](https://scikit-learn.org/stable/modules/generated/sklearn.datasets.load_diabetes.html))."
   ]
  },
  {
   "cell_type": "code",
   "execution_count": 67,
   "metadata": {},
   "outputs": [],
   "source": [
    "import numpy as np\n",
    "import pandas as pd\n",
    "import seaborn as sns"
   ]
  },
  {
   "cell_type": "code",
   "execution_count": 43,
   "metadata": {},
   "outputs": [],
   "source": [
    "from sklearn.datasets import load_diabetes\n",
    "diabetes = load_diabetes(as_frame=True,scaled=False)"
   ]
  },
  {
   "attachments": {},
   "cell_type": "markdown",
   "metadata": {
    "id": "3ZcJUMYR1TQq"
   },
   "source": [
    "Let's explore this variable by looking at the different attributes (keys) of `diabetes`. Note that the `load_diabetes` function does not return dataframes. It returns you a Python dictionary."
   ]
  },
  {
   "cell_type": "code",
   "execution_count": 37,
   "metadata": {},
   "outputs": [
    {
     "data": {
      "text/plain": [
       "dict_keys(['data', 'target', 'frame', 'DESCR', 'feature_names', 'data_filename', 'target_filename', 'data_module'])"
      ]
     },
     "execution_count": 37,
     "metadata": {},
     "output_type": "execute_result"
    }
   ],
   "source": [
    "diabetes.keys()"
   ]
  },
  {
   "attachments": {},
   "cell_type": "markdown",
   "metadata": {
    "id": "8VoqURQ91TQs"
   },
   "source": [
    "#### The next step is to read the description of the dataset. \n",
    "\n",
    "Print the description in the cell below using the `DESCR` attribute of the `diabetes` variable. Read the data description carefully to fully understand what each column represents.\n",
    "\n",
    "*Hint: If your output is ill-formatted by displaying linebreaks as `\\n`, it means you are not using the `print` function.*"
   ]
  },
  {
   "cell_type": "code",
   "execution_count": 18,
   "metadata": {},
   "outputs": [
    {
     "name": "stdout",
     "output_type": "stream",
     "text": [
      ".. _diabetes_dataset:\n",
      "\n",
      "Diabetes dataset\n",
      "----------------\n",
      "\n",
      "Ten baseline variables, age, sex, body mass index, average blood\n",
      "pressure, and six blood serum measurements were obtained for each of n =\n",
      "442 diabetes patients, as well as the response of interest, a\n",
      "quantitative measure of disease progression one year after baseline.\n",
      "\n",
      "**Data Set Characteristics:**\n",
      "\n",
      ":Number of Instances: 442\n",
      "\n",
      ":Number of Attributes: First 10 columns are numeric predictive values\n",
      "\n",
      ":Target: Column 11 is a quantitative measure of disease progression one year after baseline\n",
      "\n",
      ":Attribute Information:\n",
      "    - age     age in years\n",
      "    - sex\n",
      "    - bmi     body mass index\n",
      "    - bp      average blood pressure\n",
      "    - s1      tc, total serum cholesterol\n",
      "    - s2      ldl, low-density lipoproteins\n",
      "    - s3      hdl, high-density lipoproteins\n",
      "    - s4      tch, total cholesterol / HDL\n",
      "    - s5      ltg, possibly log of serum triglycerides level\n",
      "    - s6      glu, blood sugar level\n",
      "\n",
      "Note: Each of these 10 feature variables have been mean centered and scaled by the standard deviation times the square root of `n_samples` (i.e. the sum of squares of each column totals 1).\n",
      "\n",
      "Source URL:\n",
      "https://www4.stat.ncsu.edu/~boos/var.select/diabetes.html\n",
      "\n",
      "For more information see:\n",
      "Bradley Efron, Trevor Hastie, Iain Johnstone and Robert Tibshirani (2004) \"Least Angle Regression,\" Annals of Statistics (with discussion), 407-499.\n",
      "(https://web.stanford.edu/~hastie/Papers/LARS/LeastAngle_2002.pdf)\n",
      "\n"
     ]
    }
   ],
   "source": [
    "print(diabetes[\"DESCR\"])"
   ]
  },
  {
   "attachments": {},
   "cell_type": "markdown",
   "metadata": {
    "id": "O6k5D9QE1TQv"
   },
   "source": [
    "#### Based on the data description, answer the following questions:\n",
    "\n",
    "1. How many attributes are there in the data? What do they mean?\n",
    "\n",
    "1. What is the relation between `diabetes['data']` and `diabetes['target']`?\n",
    "\n",
    "1. How many records are there in the data?"
   ]
  },
  {
   "cell_type": "code",
   "execution_count": null,
   "metadata": {},
   "outputs": [],
   "source": [
    "# 1. En el dataset hay un total de 10 atributos propios para cada pciente, desde su edad a su sexo, pasando por medidas tomadas en análisis de sangre\n",
    "# 2. diabetes[\"data\"] te devuelve un array de valores de shape (442,10), que corresponde al valor de cada feature (10 columnas) para cada paciente. diabetes[\"target\"] es el valor asociado a cada conjunto de datos propios de cada paciente \n",
    "# (en este caso es una medida de la progresión de la enfermedad 1 año después de las medidas definidas en \"data\")\n",
    "# 3. En data tenemos 442 filas correspondientes a 442 pacientes y para cada paciente tenemos 10 features y 1 target"
   ]
  },
  {
   "attachments": {},
   "cell_type": "markdown",
   "metadata": {
    "id": "_fnxxzud1TQy"
   },
   "source": [
    "#### Now explore what are contained in the *data* portion as well as the *target* portion of `diabetes`. \n",
    "\n",
    "Scikit-learn typically takes in 2D numpy arrays as input (though pandas dataframes are also accepted). Inspect the shape of `data` and `target`. Confirm they are consistent with the data description."
   ]
  },
  {
   "cell_type": "code",
   "execution_count": 21,
   "metadata": {},
   "outputs": [
    {
     "data": {
      "text/plain": [
       "(442, 10)"
      ]
     },
     "execution_count": 21,
     "metadata": {},
     "output_type": "execute_result"
    }
   ],
   "source": [
    "diabetes[\"data\"].shape"
   ]
  },
  {
   "cell_type": "code",
   "execution_count": 22,
   "metadata": {},
   "outputs": [
    {
     "data": {
      "text/plain": [
       "(442,)"
      ]
     },
     "execution_count": 22,
     "metadata": {},
     "output_type": "execute_result"
    }
   ],
   "source": [
    "diabetes[\"target\"].shape"
   ]
  },
  {
   "attachments": {},
   "cell_type": "markdown",
   "metadata": {
    "id": "HKrj3jpE1TQ0"
   },
   "source": [
    "## Building a regression model"
   ]
  },
  {
   "attachments": {},
   "cell_type": "markdown",
   "metadata": {
    "id": "lCMo9-2n1TQ1"
   },
   "source": [
    "The data have already been split to predictor (*data*) and response (*target*) variables. Given this information, we'll apply what we have previously learned about linear regression and apply the algorithm to the diabetes dataset.\n",
    "\n",
    "#### In the cell below, import the `linear_model` class from `sklearn`. "
   ]
  },
  {
   "cell_type": "code",
   "execution_count": 23,
   "metadata": {},
   "outputs": [],
   "source": [
    "from sklearn import linear_model"
   ]
  },
  {
   "attachments": {},
   "cell_type": "markdown",
   "metadata": {
    "id": "ELTuxR4-1TQ3"
   },
   "source": [
    "#### Create a new instance of the linear regression model and assign the new instance to the variable `diabetes_model`."
   ]
  },
  {
   "cell_type": "code",
   "execution_count": 24,
   "metadata": {},
   "outputs": [],
   "source": [
    "diabetes_model = linear_model.LinearRegression()"
   ]
  },
  {
   "attachments": {},
   "cell_type": "markdown",
   "metadata": {
    "id": "pMegGI9b1TQ6"
   },
   "source": [
    "#### Next, let's split the training and test data.\n",
    "\n",
    "Define `diabetes_data_train`, `diabetes_target_train`, `diabetes_data_test`, and `diabetes_target_test`. Use the last 20 records for the test data and the rest for the training data."
   ]
  },
  {
   "cell_type": "code",
   "execution_count": 25,
   "metadata": {},
   "outputs": [],
   "source": [
    "from sklearn.model_selection import train_test_split"
   ]
  },
  {
   "cell_type": "code",
   "execution_count": 55,
   "metadata": {},
   "outputs": [
    {
     "data": {
      "application/vnd.microsoft.datawrangler.viewer.v0+json": {
       "columns": [
        {
         "name": "index",
         "rawType": "int64",
         "type": "integer"
        },
        {
         "name": "age",
         "rawType": "float64",
         "type": "float"
        },
        {
         "name": "sex",
         "rawType": "float64",
         "type": "float"
        },
        {
         "name": "bmi",
         "rawType": "float64",
         "type": "float"
        },
        {
         "name": "bp",
         "rawType": "float64",
         "type": "float"
        },
        {
         "name": "s1",
         "rawType": "float64",
         "type": "float"
        },
        {
         "name": "s2",
         "rawType": "float64",
         "type": "float"
        },
        {
         "name": "s3",
         "rawType": "float64",
         "type": "float"
        },
        {
         "name": "s4",
         "rawType": "float64",
         "type": "float"
        },
        {
         "name": "s5",
         "rawType": "float64",
         "type": "float"
        },
        {
         "name": "s6",
         "rawType": "float64",
         "type": "float"
        }
       ],
       "conversionMethod": "pd.DataFrame",
       "ref": "a30dd6d7-ad9c-4ad0-becb-d37b523ce307",
       "rows": [
        [
         "0",
         "59.0",
         "2.0",
         "32.1",
         "101.0",
         "157.0",
         "93.2",
         "38.0",
         "4.0",
         "4.8598",
         "87.0"
        ],
        [
         "1",
         "48.0",
         "1.0",
         "21.6",
         "87.0",
         "183.0",
         "103.2",
         "70.0",
         "3.0",
         "3.8918",
         "69.0"
        ],
        [
         "2",
         "72.0",
         "2.0",
         "30.5",
         "93.0",
         "156.0",
         "93.6",
         "41.0",
         "4.0",
         "4.6728",
         "85.0"
        ],
        [
         "3",
         "24.0",
         "1.0",
         "25.3",
         "84.0",
         "198.0",
         "131.4",
         "40.0",
         "5.0",
         "4.8903",
         "89.0"
        ],
        [
         "4",
         "50.0",
         "1.0",
         "23.0",
         "101.0",
         "192.0",
         "125.4",
         "52.0",
         "4.0",
         "4.2905",
         "80.0"
        ],
        [
         "5",
         "23.0",
         "1.0",
         "22.6",
         "89.0",
         "139.0",
         "64.8",
         "61.0",
         "2.0",
         "4.1897",
         "68.0"
        ],
        [
         "6",
         "36.0",
         "2.0",
         "22.0",
         "90.0",
         "160.0",
         "99.6",
         "50.0",
         "3.0",
         "3.9512",
         "82.0"
        ],
        [
         "7",
         "66.0",
         "2.0",
         "26.2",
         "114.0",
         "255.0",
         "185.0",
         "56.0",
         "4.55",
         "4.2485",
         "92.0"
        ],
        [
         "8",
         "60.0",
         "2.0",
         "32.1",
         "83.0",
         "179.0",
         "119.4",
         "42.0",
         "4.0",
         "4.4773",
         "94.0"
        ],
        [
         "9",
         "29.0",
         "1.0",
         "30.0",
         "85.0",
         "180.0",
         "93.4",
         "43.0",
         "4.0",
         "5.3845",
         "88.0"
        ],
        [
         "10",
         "22.0",
         "1.0",
         "18.6",
         "97.0",
         "114.0",
         "57.6",
         "46.0",
         "2.0",
         "3.9512",
         "83.0"
        ],
        [
         "11",
         "56.0",
         "2.0",
         "28.0",
         "85.0",
         "184.0",
         "144.8",
         "32.0",
         "6.0",
         "3.5835",
         "77.0"
        ],
        [
         "12",
         "53.0",
         "1.0",
         "23.7",
         "92.0",
         "186.0",
         "109.2",
         "62.0",
         "3.0",
         "4.3041",
         "81.0"
        ],
        [
         "13",
         "50.0",
         "2.0",
         "26.2",
         "97.0",
         "186.0",
         "105.4",
         "49.0",
         "4.0",
         "5.0626",
         "88.0"
        ],
        [
         "14",
         "61.0",
         "1.0",
         "24.0",
         "91.0",
         "202.0",
         "115.4",
         "72.0",
         "3.0",
         "4.2905",
         "73.0"
        ],
        [
         "15",
         "34.0",
         "2.0",
         "24.7",
         "118.0",
         "254.0",
         "184.2",
         "39.0",
         "7.0",
         "5.037",
         "81.0"
        ],
        [
         "16",
         "47.0",
         "1.0",
         "30.3",
         "109.0",
         "207.0",
         "100.2",
         "70.0",
         "3.0",
         "5.2149",
         "98.0"
        ],
        [
         "17",
         "68.0",
         "2.0",
         "27.5",
         "111.0",
         "214.0",
         "147.0",
         "39.0",
         "5.0",
         "4.9416",
         "91.0"
        ],
        [
         "18",
         "38.0",
         "1.0",
         "25.4",
         "84.0",
         "162.0",
         "103.0",
         "42.0",
         "4.0",
         "4.4427",
         "87.0"
        ],
        [
         "19",
         "41.0",
         "1.0",
         "24.7",
         "83.0",
         "187.0",
         "108.2",
         "60.0",
         "3.0",
         "4.5433",
         "78.0"
        ],
        [
         "20",
         "35.0",
         "1.0",
         "21.1",
         "82.0",
         "156.0",
         "87.8",
         "50.0",
         "3.0",
         "4.5109",
         "95.0"
        ],
        [
         "21",
         "25.0",
         "2.0",
         "24.3",
         "95.0",
         "162.0",
         "98.6",
         "54.0",
         "3.0",
         "3.8501",
         "87.0"
        ],
        [
         "22",
         "25.0",
         "1.0",
         "26.0",
         "92.0",
         "187.0",
         "120.4",
         "56.0",
         "3.0",
         "3.9703",
         "88.0"
        ],
        [
         "23",
         "61.0",
         "2.0",
         "32.0",
         "103.67",
         "210.0",
         "85.2",
         "35.0",
         "6.0",
         "6.107",
         "124.0"
        ],
        [
         "24",
         "31.0",
         "1.0",
         "29.7",
         "88.0",
         "167.0",
         "103.4",
         "48.0",
         "4.0",
         "4.3567",
         "78.0"
        ],
        [
         "25",
         "30.0",
         "2.0",
         "25.2",
         "83.0",
         "178.0",
         "118.4",
         "34.0",
         "5.0",
         "4.852",
         "83.0"
        ],
        [
         "26",
         "19.0",
         "1.0",
         "19.2",
         "87.0",
         "124.0",
         "54.0",
         "57.0",
         "2.0",
         "4.1744",
         "90.0"
        ],
        [
         "27",
         "42.0",
         "1.0",
         "31.9",
         "83.0",
         "158.0",
         "87.6",
         "53.0",
         "3.0",
         "4.4659",
         "101.0"
        ],
        [
         "28",
         "63.0",
         "1.0",
         "24.4",
         "73.0",
         "160.0",
         "91.4",
         "48.0",
         "3.0",
         "4.6347",
         "78.0"
        ],
        [
         "29",
         "67.0",
         "2.0",
         "25.8",
         "113.0",
         "158.0",
         "54.2",
         "64.0",
         "2.0",
         "5.2933",
         "104.0"
        ],
        [
         "30",
         "32.0",
         "1.0",
         "30.5",
         "89.0",
         "182.0",
         "110.6",
         "56.0",
         "3.0",
         "4.3438",
         "89.0"
        ],
        [
         "31",
         "42.0",
         "1.0",
         "20.3",
         "71.0",
         "161.0",
         "81.2",
         "66.0",
         "2.0",
         "4.2341",
         "81.0"
        ],
        [
         "32",
         "58.0",
         "2.0",
         "38.0",
         "103.0",
         "150.0",
         "107.2",
         "22.0",
         "7.0",
         "4.6444",
         "98.0"
        ],
        [
         "33",
         "57.0",
         "1.0",
         "21.7",
         "94.0",
         "157.0",
         "58.0",
         "82.0",
         "2.0",
         "4.4427",
         "92.0"
        ],
        [
         "34",
         "53.0",
         "1.0",
         "20.5",
         "78.0",
         "147.0",
         "84.2",
         "52.0",
         "3.0",
         "3.989",
         "75.0"
        ],
        [
         "35",
         "62.0",
         "2.0",
         "23.5",
         "80.33",
         "225.0",
         "112.8",
         "86.0",
         "2.62",
         "4.8752",
         "96.0"
        ],
        [
         "36",
         "52.0",
         "1.0",
         "28.5",
         "110.0",
         "195.0",
         "97.2",
         "60.0",
         "3.0",
         "5.2417",
         "85.0"
        ],
        [
         "37",
         "46.0",
         "1.0",
         "27.4",
         "78.0",
         "171.0",
         "88.0",
         "58.0",
         "3.0",
         "4.8283",
         "90.0"
        ],
        [
         "38",
         "48.0",
         "2.0",
         "33.0",
         "123.0",
         "253.0",
         "163.6",
         "44.0",
         "6.0",
         "5.425",
         "97.0"
        ],
        [
         "39",
         "48.0",
         "2.0",
         "27.7",
         "73.0",
         "191.0",
         "119.4",
         "46.0",
         "4.0",
         "4.852",
         "92.0"
        ],
        [
         "40",
         "50.0",
         "2.0",
         "25.6",
         "101.0",
         "229.0",
         "162.2",
         "43.0",
         "5.0",
         "4.7791",
         "114.0"
        ],
        [
         "41",
         "21.0",
         "1.0",
         "20.1",
         "63.0",
         "135.0",
         "69.0",
         "54.0",
         "3.0",
         "4.0943",
         "89.0"
        ],
        [
         "42",
         "32.0",
         "2.0",
         "25.4",
         "90.33",
         "153.0",
         "100.4",
         "34.0",
         "4.5",
         "4.5326",
         "83.0"
        ],
        [
         "43",
         "54.0",
         "1.0",
         "24.2",
         "74.0",
         "204.0",
         "109.0",
         "82.0",
         "2.0",
         "4.1744",
         "109.0"
        ],
        [
         "44",
         "61.0",
         "2.0",
         "32.7",
         "97.0",
         "177.0",
         "118.4",
         "29.0",
         "6.0",
         "4.9972",
         "87.0"
        ],
        [
         "45",
         "56.0",
         "2.0",
         "23.1",
         "104.0",
         "181.0",
         "116.4",
         "47.0",
         "4.0",
         "4.4773",
         "79.0"
        ],
        [
         "46",
         "33.0",
         "1.0",
         "25.3",
         "85.0",
         "155.0",
         "85.0",
         "51.0",
         "3.0",
         "4.5539",
         "70.0"
        ],
        [
         "47",
         "27.0",
         "1.0",
         "19.6",
         "78.0",
         "128.0",
         "68.0",
         "43.0",
         "3.0",
         "4.4427",
         "71.0"
        ],
        [
         "48",
         "67.0",
         "2.0",
         "22.5",
         "98.0",
         "191.0",
         "119.2",
         "61.0",
         "3.0",
         "3.989",
         "86.0"
        ],
        [
         "49",
         "37.0",
         "2.0",
         "27.7",
         "93.0",
         "180.0",
         "119.4",
         "30.0",
         "6.0",
         "5.0304",
         "88.0"
        ]
       ],
       "shape": {
        "columns": 10,
        "rows": 442
       }
      },
      "text/html": [
       "<div>\n",
       "<style scoped>\n",
       "    .dataframe tbody tr th:only-of-type {\n",
       "        vertical-align: middle;\n",
       "    }\n",
       "\n",
       "    .dataframe tbody tr th {\n",
       "        vertical-align: top;\n",
       "    }\n",
       "\n",
       "    .dataframe thead th {\n",
       "        text-align: right;\n",
       "    }\n",
       "</style>\n",
       "<table border=\"1\" class=\"dataframe\">\n",
       "  <thead>\n",
       "    <tr style=\"text-align: right;\">\n",
       "      <th></th>\n",
       "      <th>age</th>\n",
       "      <th>sex</th>\n",
       "      <th>bmi</th>\n",
       "      <th>bp</th>\n",
       "      <th>s1</th>\n",
       "      <th>s2</th>\n",
       "      <th>s3</th>\n",
       "      <th>s4</th>\n",
       "      <th>s5</th>\n",
       "      <th>s6</th>\n",
       "    </tr>\n",
       "  </thead>\n",
       "  <tbody>\n",
       "    <tr>\n",
       "      <th>0</th>\n",
       "      <td>59.0</td>\n",
       "      <td>2.0</td>\n",
       "      <td>32.1</td>\n",
       "      <td>101.00</td>\n",
       "      <td>157.0</td>\n",
       "      <td>93.2</td>\n",
       "      <td>38.0</td>\n",
       "      <td>4.00</td>\n",
       "      <td>4.8598</td>\n",
       "      <td>87.0</td>\n",
       "    </tr>\n",
       "    <tr>\n",
       "      <th>1</th>\n",
       "      <td>48.0</td>\n",
       "      <td>1.0</td>\n",
       "      <td>21.6</td>\n",
       "      <td>87.00</td>\n",
       "      <td>183.0</td>\n",
       "      <td>103.2</td>\n",
       "      <td>70.0</td>\n",
       "      <td>3.00</td>\n",
       "      <td>3.8918</td>\n",
       "      <td>69.0</td>\n",
       "    </tr>\n",
       "    <tr>\n",
       "      <th>2</th>\n",
       "      <td>72.0</td>\n",
       "      <td>2.0</td>\n",
       "      <td>30.5</td>\n",
       "      <td>93.00</td>\n",
       "      <td>156.0</td>\n",
       "      <td>93.6</td>\n",
       "      <td>41.0</td>\n",
       "      <td>4.00</td>\n",
       "      <td>4.6728</td>\n",
       "      <td>85.0</td>\n",
       "    </tr>\n",
       "    <tr>\n",
       "      <th>3</th>\n",
       "      <td>24.0</td>\n",
       "      <td>1.0</td>\n",
       "      <td>25.3</td>\n",
       "      <td>84.00</td>\n",
       "      <td>198.0</td>\n",
       "      <td>131.4</td>\n",
       "      <td>40.0</td>\n",
       "      <td>5.00</td>\n",
       "      <td>4.8903</td>\n",
       "      <td>89.0</td>\n",
       "    </tr>\n",
       "    <tr>\n",
       "      <th>4</th>\n",
       "      <td>50.0</td>\n",
       "      <td>1.0</td>\n",
       "      <td>23.0</td>\n",
       "      <td>101.00</td>\n",
       "      <td>192.0</td>\n",
       "      <td>125.4</td>\n",
       "      <td>52.0</td>\n",
       "      <td>4.00</td>\n",
       "      <td>4.2905</td>\n",
       "      <td>80.0</td>\n",
       "    </tr>\n",
       "    <tr>\n",
       "      <th>...</th>\n",
       "      <td>...</td>\n",
       "      <td>...</td>\n",
       "      <td>...</td>\n",
       "      <td>...</td>\n",
       "      <td>...</td>\n",
       "      <td>...</td>\n",
       "      <td>...</td>\n",
       "      <td>...</td>\n",
       "      <td>...</td>\n",
       "      <td>...</td>\n",
       "    </tr>\n",
       "    <tr>\n",
       "      <th>437</th>\n",
       "      <td>60.0</td>\n",
       "      <td>2.0</td>\n",
       "      <td>28.2</td>\n",
       "      <td>112.00</td>\n",
       "      <td>185.0</td>\n",
       "      <td>113.8</td>\n",
       "      <td>42.0</td>\n",
       "      <td>4.00</td>\n",
       "      <td>4.9836</td>\n",
       "      <td>93.0</td>\n",
       "    </tr>\n",
       "    <tr>\n",
       "      <th>438</th>\n",
       "      <td>47.0</td>\n",
       "      <td>2.0</td>\n",
       "      <td>24.9</td>\n",
       "      <td>75.00</td>\n",
       "      <td>225.0</td>\n",
       "      <td>166.0</td>\n",
       "      <td>42.0</td>\n",
       "      <td>5.00</td>\n",
       "      <td>4.4427</td>\n",
       "      <td>102.0</td>\n",
       "    </tr>\n",
       "    <tr>\n",
       "      <th>439</th>\n",
       "      <td>60.0</td>\n",
       "      <td>2.0</td>\n",
       "      <td>24.9</td>\n",
       "      <td>99.67</td>\n",
       "      <td>162.0</td>\n",
       "      <td>106.6</td>\n",
       "      <td>43.0</td>\n",
       "      <td>3.77</td>\n",
       "      <td>4.1271</td>\n",
       "      <td>95.0</td>\n",
       "    </tr>\n",
       "    <tr>\n",
       "      <th>440</th>\n",
       "      <td>36.0</td>\n",
       "      <td>1.0</td>\n",
       "      <td>30.0</td>\n",
       "      <td>95.00</td>\n",
       "      <td>201.0</td>\n",
       "      <td>125.2</td>\n",
       "      <td>42.0</td>\n",
       "      <td>4.79</td>\n",
       "      <td>5.1299</td>\n",
       "      <td>85.0</td>\n",
       "    </tr>\n",
       "    <tr>\n",
       "      <th>441</th>\n",
       "      <td>36.0</td>\n",
       "      <td>1.0</td>\n",
       "      <td>19.6</td>\n",
       "      <td>71.00</td>\n",
       "      <td>250.0</td>\n",
       "      <td>133.2</td>\n",
       "      <td>97.0</td>\n",
       "      <td>3.00</td>\n",
       "      <td>4.5951</td>\n",
       "      <td>92.0</td>\n",
       "    </tr>\n",
       "  </tbody>\n",
       "</table>\n",
       "<p>442 rows × 10 columns</p>\n",
       "</div>"
      ],
      "text/plain": [
       "      age  sex   bmi      bp     s1     s2    s3    s4      s5     s6\n",
       "0    59.0  2.0  32.1  101.00  157.0   93.2  38.0  4.00  4.8598   87.0\n",
       "1    48.0  1.0  21.6   87.00  183.0  103.2  70.0  3.00  3.8918   69.0\n",
       "2    72.0  2.0  30.5   93.00  156.0   93.6  41.0  4.00  4.6728   85.0\n",
       "3    24.0  1.0  25.3   84.00  198.0  131.4  40.0  5.00  4.8903   89.0\n",
       "4    50.0  1.0  23.0  101.00  192.0  125.4  52.0  4.00  4.2905   80.0\n",
       "..    ...  ...   ...     ...    ...    ...   ...   ...     ...    ...\n",
       "437  60.0  2.0  28.2  112.00  185.0  113.8  42.0  4.00  4.9836   93.0\n",
       "438  47.0  2.0  24.9   75.00  225.0  166.0  42.0  5.00  4.4427  102.0\n",
       "439  60.0  2.0  24.9   99.67  162.0  106.6  43.0  3.77  4.1271   95.0\n",
       "440  36.0  1.0  30.0   95.00  201.0  125.2  42.0  4.79  5.1299   85.0\n",
       "441  36.0  1.0  19.6   71.00  250.0  133.2  97.0  3.00  4.5951   92.0\n",
       "\n",
       "[442 rows x 10 columns]"
      ]
     },
     "execution_count": 55,
     "metadata": {},
     "output_type": "execute_result"
    }
   ],
   "source": [
    "diabetes[\"data\"]"
   ]
  },
  {
   "cell_type": "code",
   "execution_count": 56,
   "metadata": {},
   "outputs": [
    {
     "data": {
      "text/plain": [
       "0      151.0\n",
       "1       75.0\n",
       "2      141.0\n",
       "3      206.0\n",
       "4      135.0\n",
       "       ...  \n",
       "437    178.0\n",
       "438    104.0\n",
       "439    132.0\n",
       "440    220.0\n",
       "441     57.0\n",
       "Name: target, Length: 442, dtype: float64"
      ]
     },
     "execution_count": 56,
     "metadata": {},
     "output_type": "execute_result"
    }
   ],
   "source": [
    "diabetes[\"target\"]"
   ]
  },
  {
   "cell_type": "code",
   "execution_count": 58,
   "metadata": {},
   "outputs": [],
   "source": [
    "diabetes_data_train, diabetes_data_test, diabetes_target_train, diabetes_target_test = train_test_split(diabetes[\"data\"], diabetes[\"target\"], test_size = 20, random_state = 42,shuffle=False) #Importanta fijar una semilla con random_state"
   ]
  },
  {
   "cell_type": "code",
   "execution_count": 59,
   "metadata": {},
   "outputs": [
    {
     "name": "stdout",
     "output_type": "stream",
     "text": [
      "(422, 10)\n",
      "(20, 10)\n",
      "(422,)\n",
      "(20,)\n"
     ]
    }
   ],
   "source": [
    "print(diabetes_data_train.shape)\n",
    "print(diabetes_data_test.shape)\n",
    "print(diabetes_target_train.shape)\n",
    "print(diabetes_target_test.shape)"
   ]
  },
  {
   "cell_type": "markdown",
   "metadata": {},
   "source": [
    "Perform a brief exploratory analysis to investigate the conditions necessary for linear regression. This analysis will help you understand the distribution of the target variable and its correlations with other features."
   ]
  },
  {
   "attachments": {},
   "cell_type": "markdown",
   "metadata": {
    "id": "4D-zl19K1TQ8"
   },
   "source": [
    "Fit the training data and target to `diabetes_model`. Print the *intercept* and *coefficients* of the model."
   ]
  },
  {
   "cell_type": "code",
   "execution_count": 60,
   "metadata": {},
   "outputs": [
    {
     "data": {
      "text/html": [
       "<style>#sk-container-id-1 {\n",
       "  /* Definition of color scheme common for light and dark mode */\n",
       "  --sklearn-color-text: #000;\n",
       "  --sklearn-color-text-muted: #666;\n",
       "  --sklearn-color-line: gray;\n",
       "  /* Definition of color scheme for unfitted estimators */\n",
       "  --sklearn-color-unfitted-level-0: #fff5e6;\n",
       "  --sklearn-color-unfitted-level-1: #f6e4d2;\n",
       "  --sklearn-color-unfitted-level-2: #ffe0b3;\n",
       "  --sklearn-color-unfitted-level-3: chocolate;\n",
       "  /* Definition of color scheme for fitted estimators */\n",
       "  --sklearn-color-fitted-level-0: #f0f8ff;\n",
       "  --sklearn-color-fitted-level-1: #d4ebff;\n",
       "  --sklearn-color-fitted-level-2: #b3dbfd;\n",
       "  --sklearn-color-fitted-level-3: cornflowerblue;\n",
       "\n",
       "  /* Specific color for light theme */\n",
       "  --sklearn-color-text-on-default-background: var(--sg-text-color, var(--theme-code-foreground, var(--jp-content-font-color1, black)));\n",
       "  --sklearn-color-background: var(--sg-background-color, var(--theme-background, var(--jp-layout-color0, white)));\n",
       "  --sklearn-color-border-box: var(--sg-text-color, var(--theme-code-foreground, var(--jp-content-font-color1, black)));\n",
       "  --sklearn-color-icon: #696969;\n",
       "\n",
       "  @media (prefers-color-scheme: dark) {\n",
       "    /* Redefinition of color scheme for dark theme */\n",
       "    --sklearn-color-text-on-default-background: var(--sg-text-color, var(--theme-code-foreground, var(--jp-content-font-color1, white)));\n",
       "    --sklearn-color-background: var(--sg-background-color, var(--theme-background, var(--jp-layout-color0, #111)));\n",
       "    --sklearn-color-border-box: var(--sg-text-color, var(--theme-code-foreground, var(--jp-content-font-color1, white)));\n",
       "    --sklearn-color-icon: #878787;\n",
       "  }\n",
       "}\n",
       "\n",
       "#sk-container-id-1 {\n",
       "  color: var(--sklearn-color-text);\n",
       "}\n",
       "\n",
       "#sk-container-id-1 pre {\n",
       "  padding: 0;\n",
       "}\n",
       "\n",
       "#sk-container-id-1 input.sk-hidden--visually {\n",
       "  border: 0;\n",
       "  clip: rect(1px 1px 1px 1px);\n",
       "  clip: rect(1px, 1px, 1px, 1px);\n",
       "  height: 1px;\n",
       "  margin: -1px;\n",
       "  overflow: hidden;\n",
       "  padding: 0;\n",
       "  position: absolute;\n",
       "  width: 1px;\n",
       "}\n",
       "\n",
       "#sk-container-id-1 div.sk-dashed-wrapped {\n",
       "  border: 1px dashed var(--sklearn-color-line);\n",
       "  margin: 0 0.4em 0.5em 0.4em;\n",
       "  box-sizing: border-box;\n",
       "  padding-bottom: 0.4em;\n",
       "  background-color: var(--sklearn-color-background);\n",
       "}\n",
       "\n",
       "#sk-container-id-1 div.sk-container {\n",
       "  /* jupyter's `normalize.less` sets `[hidden] { display: none; }`\n",
       "     but bootstrap.min.css set `[hidden] { display: none !important; }`\n",
       "     so we also need the `!important` here to be able to override the\n",
       "     default hidden behavior on the sphinx rendered scikit-learn.org.\n",
       "     See: https://github.com/scikit-learn/scikit-learn/issues/21755 */\n",
       "  display: inline-block !important;\n",
       "  position: relative;\n",
       "}\n",
       "\n",
       "#sk-container-id-1 div.sk-text-repr-fallback {\n",
       "  display: none;\n",
       "}\n",
       "\n",
       "div.sk-parallel-item,\n",
       "div.sk-serial,\n",
       "div.sk-item {\n",
       "  /* draw centered vertical line to link estimators */\n",
       "  background-image: linear-gradient(var(--sklearn-color-text-on-default-background), var(--sklearn-color-text-on-default-background));\n",
       "  background-size: 2px 100%;\n",
       "  background-repeat: no-repeat;\n",
       "  background-position: center center;\n",
       "}\n",
       "\n",
       "/* Parallel-specific style estimator block */\n",
       "\n",
       "#sk-container-id-1 div.sk-parallel-item::after {\n",
       "  content: \"\";\n",
       "  width: 100%;\n",
       "  border-bottom: 2px solid var(--sklearn-color-text-on-default-background);\n",
       "  flex-grow: 1;\n",
       "}\n",
       "\n",
       "#sk-container-id-1 div.sk-parallel {\n",
       "  display: flex;\n",
       "  align-items: stretch;\n",
       "  justify-content: center;\n",
       "  background-color: var(--sklearn-color-background);\n",
       "  position: relative;\n",
       "}\n",
       "\n",
       "#sk-container-id-1 div.sk-parallel-item {\n",
       "  display: flex;\n",
       "  flex-direction: column;\n",
       "}\n",
       "\n",
       "#sk-container-id-1 div.sk-parallel-item:first-child::after {\n",
       "  align-self: flex-end;\n",
       "  width: 50%;\n",
       "}\n",
       "\n",
       "#sk-container-id-1 div.sk-parallel-item:last-child::after {\n",
       "  align-self: flex-start;\n",
       "  width: 50%;\n",
       "}\n",
       "\n",
       "#sk-container-id-1 div.sk-parallel-item:only-child::after {\n",
       "  width: 0;\n",
       "}\n",
       "\n",
       "/* Serial-specific style estimator block */\n",
       "\n",
       "#sk-container-id-1 div.sk-serial {\n",
       "  display: flex;\n",
       "  flex-direction: column;\n",
       "  align-items: center;\n",
       "  background-color: var(--sklearn-color-background);\n",
       "  padding-right: 1em;\n",
       "  padding-left: 1em;\n",
       "}\n",
       "\n",
       "\n",
       "/* Toggleable style: style used for estimator/Pipeline/ColumnTransformer box that is\n",
       "clickable and can be expanded/collapsed.\n",
       "- Pipeline and ColumnTransformer use this feature and define the default style\n",
       "- Estimators will overwrite some part of the style using the `sk-estimator` class\n",
       "*/\n",
       "\n",
       "/* Pipeline and ColumnTransformer style (default) */\n",
       "\n",
       "#sk-container-id-1 div.sk-toggleable {\n",
       "  /* Default theme specific background. It is overwritten whether we have a\n",
       "  specific estimator or a Pipeline/ColumnTransformer */\n",
       "  background-color: var(--sklearn-color-background);\n",
       "}\n",
       "\n",
       "/* Toggleable label */\n",
       "#sk-container-id-1 label.sk-toggleable__label {\n",
       "  cursor: pointer;\n",
       "  display: flex;\n",
       "  width: 100%;\n",
       "  margin-bottom: 0;\n",
       "  padding: 0.5em;\n",
       "  box-sizing: border-box;\n",
       "  text-align: center;\n",
       "  align-items: start;\n",
       "  justify-content: space-between;\n",
       "  gap: 0.5em;\n",
       "}\n",
       "\n",
       "#sk-container-id-1 label.sk-toggleable__label .caption {\n",
       "  font-size: 0.6rem;\n",
       "  font-weight: lighter;\n",
       "  color: var(--sklearn-color-text-muted);\n",
       "}\n",
       "\n",
       "#sk-container-id-1 label.sk-toggleable__label-arrow:before {\n",
       "  /* Arrow on the left of the label */\n",
       "  content: \"▸\";\n",
       "  float: left;\n",
       "  margin-right: 0.25em;\n",
       "  color: var(--sklearn-color-icon);\n",
       "}\n",
       "\n",
       "#sk-container-id-1 label.sk-toggleable__label-arrow:hover:before {\n",
       "  color: var(--sklearn-color-text);\n",
       "}\n",
       "\n",
       "/* Toggleable content - dropdown */\n",
       "\n",
       "#sk-container-id-1 div.sk-toggleable__content {\n",
       "  max-height: 0;\n",
       "  max-width: 0;\n",
       "  overflow: hidden;\n",
       "  text-align: left;\n",
       "  /* unfitted */\n",
       "  background-color: var(--sklearn-color-unfitted-level-0);\n",
       "}\n",
       "\n",
       "#sk-container-id-1 div.sk-toggleable__content.fitted {\n",
       "  /* fitted */\n",
       "  background-color: var(--sklearn-color-fitted-level-0);\n",
       "}\n",
       "\n",
       "#sk-container-id-1 div.sk-toggleable__content pre {\n",
       "  margin: 0.2em;\n",
       "  border-radius: 0.25em;\n",
       "  color: var(--sklearn-color-text);\n",
       "  /* unfitted */\n",
       "  background-color: var(--sklearn-color-unfitted-level-0);\n",
       "}\n",
       "\n",
       "#sk-container-id-1 div.sk-toggleable__content.fitted pre {\n",
       "  /* unfitted */\n",
       "  background-color: var(--sklearn-color-fitted-level-0);\n",
       "}\n",
       "\n",
       "#sk-container-id-1 input.sk-toggleable__control:checked~div.sk-toggleable__content {\n",
       "  /* Expand drop-down */\n",
       "  max-height: 200px;\n",
       "  max-width: 100%;\n",
       "  overflow: auto;\n",
       "}\n",
       "\n",
       "#sk-container-id-1 input.sk-toggleable__control:checked~label.sk-toggleable__label-arrow:before {\n",
       "  content: \"▾\";\n",
       "}\n",
       "\n",
       "/* Pipeline/ColumnTransformer-specific style */\n",
       "\n",
       "#sk-container-id-1 div.sk-label input.sk-toggleable__control:checked~label.sk-toggleable__label {\n",
       "  color: var(--sklearn-color-text);\n",
       "  background-color: var(--sklearn-color-unfitted-level-2);\n",
       "}\n",
       "\n",
       "#sk-container-id-1 div.sk-label.fitted input.sk-toggleable__control:checked~label.sk-toggleable__label {\n",
       "  background-color: var(--sklearn-color-fitted-level-2);\n",
       "}\n",
       "\n",
       "/* Estimator-specific style */\n",
       "\n",
       "/* Colorize estimator box */\n",
       "#sk-container-id-1 div.sk-estimator input.sk-toggleable__control:checked~label.sk-toggleable__label {\n",
       "  /* unfitted */\n",
       "  background-color: var(--sklearn-color-unfitted-level-2);\n",
       "}\n",
       "\n",
       "#sk-container-id-1 div.sk-estimator.fitted input.sk-toggleable__control:checked~label.sk-toggleable__label {\n",
       "  /* fitted */\n",
       "  background-color: var(--sklearn-color-fitted-level-2);\n",
       "}\n",
       "\n",
       "#sk-container-id-1 div.sk-label label.sk-toggleable__label,\n",
       "#sk-container-id-1 div.sk-label label {\n",
       "  /* The background is the default theme color */\n",
       "  color: var(--sklearn-color-text-on-default-background);\n",
       "}\n",
       "\n",
       "/* On hover, darken the color of the background */\n",
       "#sk-container-id-1 div.sk-label:hover label.sk-toggleable__label {\n",
       "  color: var(--sklearn-color-text);\n",
       "  background-color: var(--sklearn-color-unfitted-level-2);\n",
       "}\n",
       "\n",
       "/* Label box, darken color on hover, fitted */\n",
       "#sk-container-id-1 div.sk-label.fitted:hover label.sk-toggleable__label.fitted {\n",
       "  color: var(--sklearn-color-text);\n",
       "  background-color: var(--sklearn-color-fitted-level-2);\n",
       "}\n",
       "\n",
       "/* Estimator label */\n",
       "\n",
       "#sk-container-id-1 div.sk-label label {\n",
       "  font-family: monospace;\n",
       "  font-weight: bold;\n",
       "  display: inline-block;\n",
       "  line-height: 1.2em;\n",
       "}\n",
       "\n",
       "#sk-container-id-1 div.sk-label-container {\n",
       "  text-align: center;\n",
       "}\n",
       "\n",
       "/* Estimator-specific */\n",
       "#sk-container-id-1 div.sk-estimator {\n",
       "  font-family: monospace;\n",
       "  border: 1px dotted var(--sklearn-color-border-box);\n",
       "  border-radius: 0.25em;\n",
       "  box-sizing: border-box;\n",
       "  margin-bottom: 0.5em;\n",
       "  /* unfitted */\n",
       "  background-color: var(--sklearn-color-unfitted-level-0);\n",
       "}\n",
       "\n",
       "#sk-container-id-1 div.sk-estimator.fitted {\n",
       "  /* fitted */\n",
       "  background-color: var(--sklearn-color-fitted-level-0);\n",
       "}\n",
       "\n",
       "/* on hover */\n",
       "#sk-container-id-1 div.sk-estimator:hover {\n",
       "  /* unfitted */\n",
       "  background-color: var(--sklearn-color-unfitted-level-2);\n",
       "}\n",
       "\n",
       "#sk-container-id-1 div.sk-estimator.fitted:hover {\n",
       "  /* fitted */\n",
       "  background-color: var(--sklearn-color-fitted-level-2);\n",
       "}\n",
       "\n",
       "/* Specification for estimator info (e.g. \"i\" and \"?\") */\n",
       "\n",
       "/* Common style for \"i\" and \"?\" */\n",
       "\n",
       ".sk-estimator-doc-link,\n",
       "a:link.sk-estimator-doc-link,\n",
       "a:visited.sk-estimator-doc-link {\n",
       "  float: right;\n",
       "  font-size: smaller;\n",
       "  line-height: 1em;\n",
       "  font-family: monospace;\n",
       "  background-color: var(--sklearn-color-background);\n",
       "  border-radius: 1em;\n",
       "  height: 1em;\n",
       "  width: 1em;\n",
       "  text-decoration: none !important;\n",
       "  margin-left: 0.5em;\n",
       "  text-align: center;\n",
       "  /* unfitted */\n",
       "  border: var(--sklearn-color-unfitted-level-1) 1pt solid;\n",
       "  color: var(--sklearn-color-unfitted-level-1);\n",
       "}\n",
       "\n",
       ".sk-estimator-doc-link.fitted,\n",
       "a:link.sk-estimator-doc-link.fitted,\n",
       "a:visited.sk-estimator-doc-link.fitted {\n",
       "  /* fitted */\n",
       "  border: var(--sklearn-color-fitted-level-1) 1pt solid;\n",
       "  color: var(--sklearn-color-fitted-level-1);\n",
       "}\n",
       "\n",
       "/* On hover */\n",
       "div.sk-estimator:hover .sk-estimator-doc-link:hover,\n",
       ".sk-estimator-doc-link:hover,\n",
       "div.sk-label-container:hover .sk-estimator-doc-link:hover,\n",
       ".sk-estimator-doc-link:hover {\n",
       "  /* unfitted */\n",
       "  background-color: var(--sklearn-color-unfitted-level-3);\n",
       "  color: var(--sklearn-color-background);\n",
       "  text-decoration: none;\n",
       "}\n",
       "\n",
       "div.sk-estimator.fitted:hover .sk-estimator-doc-link.fitted:hover,\n",
       ".sk-estimator-doc-link.fitted:hover,\n",
       "div.sk-label-container:hover .sk-estimator-doc-link.fitted:hover,\n",
       ".sk-estimator-doc-link.fitted:hover {\n",
       "  /* fitted */\n",
       "  background-color: var(--sklearn-color-fitted-level-3);\n",
       "  color: var(--sklearn-color-background);\n",
       "  text-decoration: none;\n",
       "}\n",
       "\n",
       "/* Span, style for the box shown on hovering the info icon */\n",
       ".sk-estimator-doc-link span {\n",
       "  display: none;\n",
       "  z-index: 9999;\n",
       "  position: relative;\n",
       "  font-weight: normal;\n",
       "  right: .2ex;\n",
       "  padding: .5ex;\n",
       "  margin: .5ex;\n",
       "  width: min-content;\n",
       "  min-width: 20ex;\n",
       "  max-width: 50ex;\n",
       "  color: var(--sklearn-color-text);\n",
       "  box-shadow: 2pt 2pt 4pt #999;\n",
       "  /* unfitted */\n",
       "  background: var(--sklearn-color-unfitted-level-0);\n",
       "  border: .5pt solid var(--sklearn-color-unfitted-level-3);\n",
       "}\n",
       "\n",
       ".sk-estimator-doc-link.fitted span {\n",
       "  /* fitted */\n",
       "  background: var(--sklearn-color-fitted-level-0);\n",
       "  border: var(--sklearn-color-fitted-level-3);\n",
       "}\n",
       "\n",
       ".sk-estimator-doc-link:hover span {\n",
       "  display: block;\n",
       "}\n",
       "\n",
       "/* \"?\"-specific style due to the `<a>` HTML tag */\n",
       "\n",
       "#sk-container-id-1 a.estimator_doc_link {\n",
       "  float: right;\n",
       "  font-size: 1rem;\n",
       "  line-height: 1em;\n",
       "  font-family: monospace;\n",
       "  background-color: var(--sklearn-color-background);\n",
       "  border-radius: 1rem;\n",
       "  height: 1rem;\n",
       "  width: 1rem;\n",
       "  text-decoration: none;\n",
       "  /* unfitted */\n",
       "  color: var(--sklearn-color-unfitted-level-1);\n",
       "  border: var(--sklearn-color-unfitted-level-1) 1pt solid;\n",
       "}\n",
       "\n",
       "#sk-container-id-1 a.estimator_doc_link.fitted {\n",
       "  /* fitted */\n",
       "  border: var(--sklearn-color-fitted-level-1) 1pt solid;\n",
       "  color: var(--sklearn-color-fitted-level-1);\n",
       "}\n",
       "\n",
       "/* On hover */\n",
       "#sk-container-id-1 a.estimator_doc_link:hover {\n",
       "  /* unfitted */\n",
       "  background-color: var(--sklearn-color-unfitted-level-3);\n",
       "  color: var(--sklearn-color-background);\n",
       "  text-decoration: none;\n",
       "}\n",
       "\n",
       "#sk-container-id-1 a.estimator_doc_link.fitted:hover {\n",
       "  /* fitted */\n",
       "  background-color: var(--sklearn-color-fitted-level-3);\n",
       "}\n",
       "</style><div id=\"sk-container-id-1\" class=\"sk-top-container\"><div class=\"sk-text-repr-fallback\"><pre>LinearRegression()</pre><b>In a Jupyter environment, please rerun this cell to show the HTML representation or trust the notebook. <br />On GitHub, the HTML representation is unable to render, please try loading this page with nbviewer.org.</b></div><div class=\"sk-container\" hidden><div class=\"sk-item\"><div class=\"sk-estimator fitted sk-toggleable\"><input class=\"sk-toggleable__control sk-hidden--visually\" id=\"sk-estimator-id-1\" type=\"checkbox\" checked><label for=\"sk-estimator-id-1\" class=\"sk-toggleable__label fitted sk-toggleable__label-arrow\"><div><div>LinearRegression</div></div><div><a class=\"sk-estimator-doc-link fitted\" rel=\"noreferrer\" target=\"_blank\" href=\"https://scikit-learn.org/1.6/modules/generated/sklearn.linear_model.LinearRegression.html\">?<span>Documentation for LinearRegression</span></a><span class=\"sk-estimator-doc-link fitted\">i<span>Fitted</span></span></div></label><div class=\"sk-toggleable__content fitted\"><pre>LinearRegression()</pre></div> </div></div></div></div>"
      ],
      "text/plain": [
       "LinearRegression()"
      ]
     },
     "execution_count": 60,
     "metadata": {},
     "output_type": "execute_result"
    }
   ],
   "source": [
    "diabetes_model.fit(diabetes_data_train,diabetes_target_train)"
   ]
  },
  {
   "cell_type": "code",
   "execution_count": 62,
   "metadata": {},
   "outputs": [
    {
     "name": "stdout",
     "output_type": "stream",
     "text": [
      "-333.07642761492406\n"
     ]
    }
   ],
   "source": [
    "print(diabetes_model.intercept_)"
   ]
  },
  {
   "cell_type": "code",
   "execution_count": 63,
   "metadata": {},
   "outputs": [
    {
     "name": "stdout",
     "output_type": "stream",
     "text": [
      "[ 1.11189912e-03 -2.26518397e+01  5.50264072e+00  1.12832513e+00\n",
      " -1.12017963e+00  7.71597175e-01  3.78624197e-01  6.81207592e+00\n",
      "  6.77753611e+01  3.15200445e-01]\n"
     ]
    }
   ],
   "source": [
    "print(diabetes_model.coef_)"
   ]
  },
  {
   "cell_type": "code",
   "execution_count": 64,
   "metadata": {},
   "outputs": [
    {
     "data": {
      "application/vnd.microsoft.datawrangler.viewer.v0+json": {
       "columns": [
        {
         "name": "index",
         "rawType": "object",
         "type": "string"
        },
        {
         "name": "Coefficient",
         "rawType": "float64",
         "type": "float"
        }
       ],
       "conversionMethod": "pd.DataFrame",
       "ref": "8dee7e93-a498-4c4c-86c8-d168e64a5342",
       "rows": [
        [
         "age",
         "0.0011118991238350088"
        ],
        [
         "sex",
         "-22.651839652247716"
        ],
        [
         "bmi",
         "5.502640719339315"
        ],
        [
         "bp",
         "1.128325130256239"
        ],
        [
         "s1",
         "-1.120179631961653"
        ],
        [
         "s2",
         "0.7715971749462422"
        ],
        [
         "s3",
         "0.37862419688510307"
        ],
        [
         "s4",
         "6.81207592334635"
        ],
        [
         "s5",
         "67.77536114098979"
        ],
        [
         "s6",
         "0.315200445123728"
        ]
       ],
       "shape": {
        "columns": 1,
        "rows": 10
       }
      },
      "text/html": [
       "<div>\n",
       "<style scoped>\n",
       "    .dataframe tbody tr th:only-of-type {\n",
       "        vertical-align: middle;\n",
       "    }\n",
       "\n",
       "    .dataframe tbody tr th {\n",
       "        vertical-align: top;\n",
       "    }\n",
       "\n",
       "    .dataframe thead th {\n",
       "        text-align: right;\n",
       "    }\n",
       "</style>\n",
       "<table border=\"1\" class=\"dataframe\">\n",
       "  <thead>\n",
       "    <tr style=\"text-align: right;\">\n",
       "      <th></th>\n",
       "      <th>Coefficient</th>\n",
       "    </tr>\n",
       "  </thead>\n",
       "  <tbody>\n",
       "    <tr>\n",
       "      <th>age</th>\n",
       "      <td>0.001112</td>\n",
       "    </tr>\n",
       "    <tr>\n",
       "      <th>sex</th>\n",
       "      <td>-22.651840</td>\n",
       "    </tr>\n",
       "    <tr>\n",
       "      <th>bmi</th>\n",
       "      <td>5.502641</td>\n",
       "    </tr>\n",
       "    <tr>\n",
       "      <th>bp</th>\n",
       "      <td>1.128325</td>\n",
       "    </tr>\n",
       "    <tr>\n",
       "      <th>s1</th>\n",
       "      <td>-1.120180</td>\n",
       "    </tr>\n",
       "    <tr>\n",
       "      <th>s2</th>\n",
       "      <td>0.771597</td>\n",
       "    </tr>\n",
       "    <tr>\n",
       "      <th>s3</th>\n",
       "      <td>0.378624</td>\n",
       "    </tr>\n",
       "    <tr>\n",
       "      <th>s4</th>\n",
       "      <td>6.812076</td>\n",
       "    </tr>\n",
       "    <tr>\n",
       "      <th>s5</th>\n",
       "      <td>67.775361</td>\n",
       "    </tr>\n",
       "    <tr>\n",
       "      <th>s6</th>\n",
       "      <td>0.315200</td>\n",
       "    </tr>\n",
       "  </tbody>\n",
       "</table>\n",
       "</div>"
      ],
      "text/plain": [
       "     Coefficient\n",
       "age     0.001112\n",
       "sex   -22.651840\n",
       "bmi     5.502641\n",
       "bp      1.128325\n",
       "s1     -1.120180\n",
       "s2      0.771597\n",
       "s3      0.378624\n",
       "s4      6.812076\n",
       "s5     67.775361\n",
       "s6      0.315200"
      ]
     },
     "execution_count": 64,
     "metadata": {},
     "output_type": "execute_result"
    }
   ],
   "source": [
    "coeff_df = pd.DataFrame(diabetes_model.coef_,\n",
    "                        diabetes[\"data\"].columns,\n",
    "                        columns=['Coefficient'])\n",
    "coeff_df"
   ]
  },
  {
   "attachments": {},
   "cell_type": "markdown",
   "metadata": {
    "id": "7_Sll_FC1TQ-"
   },
   "source": [
    "#### Inspecting the results\n",
    "\n",
    "From the outputs you should have seen:\n",
    "\n",
    "- The intercept is a float number.\n",
    "- The coefficients are an array containing 10 float numbers.\n",
    "\n",
    "This is the linear regression model fitted to your training dataset.\n",
    "\n",
    "#### Using your fitted linear regression model, predict the *y* of `diabetes_data_test`."
   ]
  },
  {
   "cell_type": "code",
   "execution_count": 65,
   "metadata": {},
   "outputs": [
    {
     "data": {
      "application/vnd.microsoft.datawrangler.viewer.v0+json": {
       "columns": [
        {
         "name": "index",
         "rawType": "int64",
         "type": "integer"
        },
        {
         "name": "age",
         "rawType": "float64",
         "type": "float"
        },
        {
         "name": "sex",
         "rawType": "float64",
         "type": "float"
        },
        {
         "name": "bmi",
         "rawType": "float64",
         "type": "float"
        },
        {
         "name": "bp",
         "rawType": "float64",
         "type": "float"
        },
        {
         "name": "s1",
         "rawType": "float64",
         "type": "float"
        },
        {
         "name": "s2",
         "rawType": "float64",
         "type": "float"
        },
        {
         "name": "s3",
         "rawType": "float64",
         "type": "float"
        },
        {
         "name": "s4",
         "rawType": "float64",
         "type": "float"
        },
        {
         "name": "s5",
         "rawType": "float64",
         "type": "float"
        },
        {
         "name": "s6",
         "rawType": "float64",
         "type": "float"
        }
       ],
       "conversionMethod": "pd.DataFrame",
       "ref": "93a94c50-f07b-4da9-9d05-28190d7f2bc0",
       "rows": [
        [
         "422",
         "27.0",
         "2.0",
         "33.6",
         "110.0",
         "246.0",
         "156.6",
         "57.0",
         "4.0",
         "5.0876",
         "89.0"
        ],
        [
         "423",
         "51.0",
         "2.0",
         "22.7",
         "103.0",
         "217.0",
         "162.4",
         "30.0",
         "7.0",
         "4.8122",
         "80.0"
        ],
        [
         "424",
         "49.0",
         "2.0",
         "27.4",
         "89.0",
         "177.0",
         "113.0",
         "37.0",
         "5.0",
         "4.9053",
         "97.0"
        ],
        [
         "425",
         "27.0",
         "1.0",
         "22.6",
         "71.0",
         "116.0",
         "43.4",
         "56.0",
         "2.0",
         "4.4188",
         "79.0"
        ],
        [
         "426",
         "57.0",
         "2.0",
         "23.2",
         "107.33",
         "231.0",
         "159.4",
         "41.0",
         "5.63",
         "5.0304",
         "112.0"
        ],
        [
         "427",
         "39.0",
         "2.0",
         "26.9",
         "93.0",
         "136.0",
         "75.4",
         "48.0",
         "3.0",
         "4.1431",
         "99.0"
        ],
        [
         "428",
         "62.0",
         "2.0",
         "34.6",
         "120.0",
         "215.0",
         "129.2",
         "43.0",
         "5.0",
         "5.3660000000000005",
         "123.0"
        ],
        [
         "429",
         "37.0",
         "1.0",
         "23.3",
         "88.0",
         "223.0",
         "142.0",
         "65.0",
         "3.4",
         "4.3567",
         "82.0"
        ],
        [
         "430",
         "46.0",
         "1.0",
         "21.1",
         "80.0",
         "205.0",
         "144.4",
         "42.0",
         "5.0",
         "4.5326",
         "87.0"
        ],
        [
         "431",
         "68.0",
         "2.0",
         "23.5",
         "101.0",
         "162.0",
         "85.4",
         "59.0",
         "3.0",
         "4.4773",
         "91.0"
        ],
        [
         "432",
         "51.0",
         "1.0",
         "31.5",
         "93.0",
         "231.0",
         "144.0",
         "49.0",
         "4.7",
         "5.2523",
         "117.0"
        ],
        [
         "433",
         "41.0",
         "1.0",
         "20.8",
         "86.0",
         "223.0",
         "128.2",
         "83.0",
         "3.0",
         "4.0775",
         "89.0"
        ],
        [
         "434",
         "53.0",
         "1.0",
         "26.5",
         "97.0",
         "193.0",
         "122.4",
         "58.0",
         "3.0",
         "4.1431",
         "99.0"
        ],
        [
         "435",
         "45.0",
         "1.0",
         "24.2",
         "83.0",
         "177.0",
         "118.4",
         "45.0",
         "4.0",
         "4.2195",
         "82.0"
        ],
        [
         "436",
         "33.0",
         "1.0",
         "19.5",
         "80.0",
         "171.0",
         "85.4",
         "75.0",
         "2.0",
         "3.9703",
         "80.0"
        ],
        [
         "437",
         "60.0",
         "2.0",
         "28.2",
         "112.0",
         "185.0",
         "113.8",
         "42.0",
         "4.0",
         "4.9836",
         "93.0"
        ],
        [
         "438",
         "47.0",
         "2.0",
         "24.9",
         "75.0",
         "225.0",
         "166.0",
         "42.0",
         "5.0",
         "4.4427",
         "102.0"
        ],
        [
         "439",
         "60.0",
         "2.0",
         "24.9",
         "99.67",
         "162.0",
         "106.6",
         "43.0",
         "3.77",
         "4.1271",
         "95.0"
        ],
        [
         "440",
         "36.0",
         "1.0",
         "30.0",
         "95.0",
         "201.0",
         "125.2",
         "42.0",
         "4.79",
         "5.1299",
         "85.0"
        ],
        [
         "441",
         "36.0",
         "1.0",
         "19.6",
         "71.0",
         "250.0",
         "133.2",
         "97.0",
         "3.0",
         "4.5951",
         "92.0"
        ]
       ],
       "shape": {
        "columns": 10,
        "rows": 20
       }
      },
      "text/html": [
       "<div>\n",
       "<style scoped>\n",
       "    .dataframe tbody tr th:only-of-type {\n",
       "        vertical-align: middle;\n",
       "    }\n",
       "\n",
       "    .dataframe tbody tr th {\n",
       "        vertical-align: top;\n",
       "    }\n",
       "\n",
       "    .dataframe thead th {\n",
       "        text-align: right;\n",
       "    }\n",
       "</style>\n",
       "<table border=\"1\" class=\"dataframe\">\n",
       "  <thead>\n",
       "    <tr style=\"text-align: right;\">\n",
       "      <th></th>\n",
       "      <th>age</th>\n",
       "      <th>sex</th>\n",
       "      <th>bmi</th>\n",
       "      <th>bp</th>\n",
       "      <th>s1</th>\n",
       "      <th>s2</th>\n",
       "      <th>s3</th>\n",
       "      <th>s4</th>\n",
       "      <th>s5</th>\n",
       "      <th>s6</th>\n",
       "    </tr>\n",
       "  </thead>\n",
       "  <tbody>\n",
       "    <tr>\n",
       "      <th>422</th>\n",
       "      <td>27.0</td>\n",
       "      <td>2.0</td>\n",
       "      <td>33.6</td>\n",
       "      <td>110.00</td>\n",
       "      <td>246.0</td>\n",
       "      <td>156.6</td>\n",
       "      <td>57.0</td>\n",
       "      <td>4.00</td>\n",
       "      <td>5.0876</td>\n",
       "      <td>89.0</td>\n",
       "    </tr>\n",
       "    <tr>\n",
       "      <th>423</th>\n",
       "      <td>51.0</td>\n",
       "      <td>2.0</td>\n",
       "      <td>22.7</td>\n",
       "      <td>103.00</td>\n",
       "      <td>217.0</td>\n",
       "      <td>162.4</td>\n",
       "      <td>30.0</td>\n",
       "      <td>7.00</td>\n",
       "      <td>4.8122</td>\n",
       "      <td>80.0</td>\n",
       "    </tr>\n",
       "    <tr>\n",
       "      <th>424</th>\n",
       "      <td>49.0</td>\n",
       "      <td>2.0</td>\n",
       "      <td>27.4</td>\n",
       "      <td>89.00</td>\n",
       "      <td>177.0</td>\n",
       "      <td>113.0</td>\n",
       "      <td>37.0</td>\n",
       "      <td>5.00</td>\n",
       "      <td>4.9053</td>\n",
       "      <td>97.0</td>\n",
       "    </tr>\n",
       "    <tr>\n",
       "      <th>425</th>\n",
       "      <td>27.0</td>\n",
       "      <td>1.0</td>\n",
       "      <td>22.6</td>\n",
       "      <td>71.00</td>\n",
       "      <td>116.0</td>\n",
       "      <td>43.4</td>\n",
       "      <td>56.0</td>\n",
       "      <td>2.00</td>\n",
       "      <td>4.4188</td>\n",
       "      <td>79.0</td>\n",
       "    </tr>\n",
       "    <tr>\n",
       "      <th>426</th>\n",
       "      <td>57.0</td>\n",
       "      <td>2.0</td>\n",
       "      <td>23.2</td>\n",
       "      <td>107.33</td>\n",
       "      <td>231.0</td>\n",
       "      <td>159.4</td>\n",
       "      <td>41.0</td>\n",
       "      <td>5.63</td>\n",
       "      <td>5.0304</td>\n",
       "      <td>112.0</td>\n",
       "    </tr>\n",
       "    <tr>\n",
       "      <th>427</th>\n",
       "      <td>39.0</td>\n",
       "      <td>2.0</td>\n",
       "      <td>26.9</td>\n",
       "      <td>93.00</td>\n",
       "      <td>136.0</td>\n",
       "      <td>75.4</td>\n",
       "      <td>48.0</td>\n",
       "      <td>3.00</td>\n",
       "      <td>4.1431</td>\n",
       "      <td>99.0</td>\n",
       "    </tr>\n",
       "    <tr>\n",
       "      <th>428</th>\n",
       "      <td>62.0</td>\n",
       "      <td>2.0</td>\n",
       "      <td>34.6</td>\n",
       "      <td>120.00</td>\n",
       "      <td>215.0</td>\n",
       "      <td>129.2</td>\n",
       "      <td>43.0</td>\n",
       "      <td>5.00</td>\n",
       "      <td>5.3660</td>\n",
       "      <td>123.0</td>\n",
       "    </tr>\n",
       "    <tr>\n",
       "      <th>429</th>\n",
       "      <td>37.0</td>\n",
       "      <td>1.0</td>\n",
       "      <td>23.3</td>\n",
       "      <td>88.00</td>\n",
       "      <td>223.0</td>\n",
       "      <td>142.0</td>\n",
       "      <td>65.0</td>\n",
       "      <td>3.40</td>\n",
       "      <td>4.3567</td>\n",
       "      <td>82.0</td>\n",
       "    </tr>\n",
       "    <tr>\n",
       "      <th>430</th>\n",
       "      <td>46.0</td>\n",
       "      <td>1.0</td>\n",
       "      <td>21.1</td>\n",
       "      <td>80.00</td>\n",
       "      <td>205.0</td>\n",
       "      <td>144.4</td>\n",
       "      <td>42.0</td>\n",
       "      <td>5.00</td>\n",
       "      <td>4.5326</td>\n",
       "      <td>87.0</td>\n",
       "    </tr>\n",
       "    <tr>\n",
       "      <th>431</th>\n",
       "      <td>68.0</td>\n",
       "      <td>2.0</td>\n",
       "      <td>23.5</td>\n",
       "      <td>101.00</td>\n",
       "      <td>162.0</td>\n",
       "      <td>85.4</td>\n",
       "      <td>59.0</td>\n",
       "      <td>3.00</td>\n",
       "      <td>4.4773</td>\n",
       "      <td>91.0</td>\n",
       "    </tr>\n",
       "    <tr>\n",
       "      <th>432</th>\n",
       "      <td>51.0</td>\n",
       "      <td>1.0</td>\n",
       "      <td>31.5</td>\n",
       "      <td>93.00</td>\n",
       "      <td>231.0</td>\n",
       "      <td>144.0</td>\n",
       "      <td>49.0</td>\n",
       "      <td>4.70</td>\n",
       "      <td>5.2523</td>\n",
       "      <td>117.0</td>\n",
       "    </tr>\n",
       "    <tr>\n",
       "      <th>433</th>\n",
       "      <td>41.0</td>\n",
       "      <td>1.0</td>\n",
       "      <td>20.8</td>\n",
       "      <td>86.00</td>\n",
       "      <td>223.0</td>\n",
       "      <td>128.2</td>\n",
       "      <td>83.0</td>\n",
       "      <td>3.00</td>\n",
       "      <td>4.0775</td>\n",
       "      <td>89.0</td>\n",
       "    </tr>\n",
       "    <tr>\n",
       "      <th>434</th>\n",
       "      <td>53.0</td>\n",
       "      <td>1.0</td>\n",
       "      <td>26.5</td>\n",
       "      <td>97.00</td>\n",
       "      <td>193.0</td>\n",
       "      <td>122.4</td>\n",
       "      <td>58.0</td>\n",
       "      <td>3.00</td>\n",
       "      <td>4.1431</td>\n",
       "      <td>99.0</td>\n",
       "    </tr>\n",
       "    <tr>\n",
       "      <th>435</th>\n",
       "      <td>45.0</td>\n",
       "      <td>1.0</td>\n",
       "      <td>24.2</td>\n",
       "      <td>83.00</td>\n",
       "      <td>177.0</td>\n",
       "      <td>118.4</td>\n",
       "      <td>45.0</td>\n",
       "      <td>4.00</td>\n",
       "      <td>4.2195</td>\n",
       "      <td>82.0</td>\n",
       "    </tr>\n",
       "    <tr>\n",
       "      <th>436</th>\n",
       "      <td>33.0</td>\n",
       "      <td>1.0</td>\n",
       "      <td>19.5</td>\n",
       "      <td>80.00</td>\n",
       "      <td>171.0</td>\n",
       "      <td>85.4</td>\n",
       "      <td>75.0</td>\n",
       "      <td>2.00</td>\n",
       "      <td>3.9703</td>\n",
       "      <td>80.0</td>\n",
       "    </tr>\n",
       "    <tr>\n",
       "      <th>437</th>\n",
       "      <td>60.0</td>\n",
       "      <td>2.0</td>\n",
       "      <td>28.2</td>\n",
       "      <td>112.00</td>\n",
       "      <td>185.0</td>\n",
       "      <td>113.8</td>\n",
       "      <td>42.0</td>\n",
       "      <td>4.00</td>\n",
       "      <td>4.9836</td>\n",
       "      <td>93.0</td>\n",
       "    </tr>\n",
       "    <tr>\n",
       "      <th>438</th>\n",
       "      <td>47.0</td>\n",
       "      <td>2.0</td>\n",
       "      <td>24.9</td>\n",
       "      <td>75.00</td>\n",
       "      <td>225.0</td>\n",
       "      <td>166.0</td>\n",
       "      <td>42.0</td>\n",
       "      <td>5.00</td>\n",
       "      <td>4.4427</td>\n",
       "      <td>102.0</td>\n",
       "    </tr>\n",
       "    <tr>\n",
       "      <th>439</th>\n",
       "      <td>60.0</td>\n",
       "      <td>2.0</td>\n",
       "      <td>24.9</td>\n",
       "      <td>99.67</td>\n",
       "      <td>162.0</td>\n",
       "      <td>106.6</td>\n",
       "      <td>43.0</td>\n",
       "      <td>3.77</td>\n",
       "      <td>4.1271</td>\n",
       "      <td>95.0</td>\n",
       "    </tr>\n",
       "    <tr>\n",
       "      <th>440</th>\n",
       "      <td>36.0</td>\n",
       "      <td>1.0</td>\n",
       "      <td>30.0</td>\n",
       "      <td>95.00</td>\n",
       "      <td>201.0</td>\n",
       "      <td>125.2</td>\n",
       "      <td>42.0</td>\n",
       "      <td>4.79</td>\n",
       "      <td>5.1299</td>\n",
       "      <td>85.0</td>\n",
       "    </tr>\n",
       "    <tr>\n",
       "      <th>441</th>\n",
       "      <td>36.0</td>\n",
       "      <td>1.0</td>\n",
       "      <td>19.6</td>\n",
       "      <td>71.00</td>\n",
       "      <td>250.0</td>\n",
       "      <td>133.2</td>\n",
       "      <td>97.0</td>\n",
       "      <td>3.00</td>\n",
       "      <td>4.5951</td>\n",
       "      <td>92.0</td>\n",
       "    </tr>\n",
       "  </tbody>\n",
       "</table>\n",
       "</div>"
      ],
      "text/plain": [
       "      age  sex   bmi      bp     s1     s2    s3    s4      s5     s6\n",
       "422  27.0  2.0  33.6  110.00  246.0  156.6  57.0  4.00  5.0876   89.0\n",
       "423  51.0  2.0  22.7  103.00  217.0  162.4  30.0  7.00  4.8122   80.0\n",
       "424  49.0  2.0  27.4   89.00  177.0  113.0  37.0  5.00  4.9053   97.0\n",
       "425  27.0  1.0  22.6   71.00  116.0   43.4  56.0  2.00  4.4188   79.0\n",
       "426  57.0  2.0  23.2  107.33  231.0  159.4  41.0  5.63  5.0304  112.0\n",
       "427  39.0  2.0  26.9   93.00  136.0   75.4  48.0  3.00  4.1431   99.0\n",
       "428  62.0  2.0  34.6  120.00  215.0  129.2  43.0  5.00  5.3660  123.0\n",
       "429  37.0  1.0  23.3   88.00  223.0  142.0  65.0  3.40  4.3567   82.0\n",
       "430  46.0  1.0  21.1   80.00  205.0  144.4  42.0  5.00  4.5326   87.0\n",
       "431  68.0  2.0  23.5  101.00  162.0   85.4  59.0  3.00  4.4773   91.0\n",
       "432  51.0  1.0  31.5   93.00  231.0  144.0  49.0  4.70  5.2523  117.0\n",
       "433  41.0  1.0  20.8   86.00  223.0  128.2  83.0  3.00  4.0775   89.0\n",
       "434  53.0  1.0  26.5   97.00  193.0  122.4  58.0  3.00  4.1431   99.0\n",
       "435  45.0  1.0  24.2   83.00  177.0  118.4  45.0  4.00  4.2195   82.0\n",
       "436  33.0  1.0  19.5   80.00  171.0   85.4  75.0  2.00  3.9703   80.0\n",
       "437  60.0  2.0  28.2  112.00  185.0  113.8  42.0  4.00  4.9836   93.0\n",
       "438  47.0  2.0  24.9   75.00  225.0  166.0  42.0  5.00  4.4427  102.0\n",
       "439  60.0  2.0  24.9   99.67  162.0  106.6  43.0  3.77  4.1271   95.0\n",
       "440  36.0  1.0  30.0   95.00  201.0  125.2  42.0  4.79  5.1299   85.0\n",
       "441  36.0  1.0  19.6   71.00  250.0  133.2  97.0  3.00  4.5951   92.0"
      ]
     },
     "execution_count": 65,
     "metadata": {},
     "output_type": "execute_result"
    }
   ],
   "source": [
    "diabetes_data_test"
   ]
  },
  {
   "cell_type": "code",
   "execution_count": 66,
   "metadata": {},
   "outputs": [
    {
     "data": {
      "text/plain": [
       "array([197.61898486, 155.44031962, 172.88875144, 111.53270645,\n",
       "       164.79397301, 131.06765869, 259.12441219, 100.47873746,\n",
       "       117.06005372, 124.30261597, 218.36868146,  61.19581944,\n",
       "       132.24837933, 120.33293546,  52.54513009, 194.03746764,\n",
       "       102.5756431 , 123.56778709, 211.03465323,  52.60221696])"
      ]
     },
     "execution_count": 66,
     "metadata": {},
     "output_type": "execute_result"
    }
   ],
   "source": [
    "predictions = diabetes_model.predict(diabetes_data_test)\n",
    "predictions"
   ]
  },
  {
   "cell_type": "markdown",
   "metadata": {},
   "source": [
    "y = a + b*x1 + c*x2 + d*x3 + ...."
   ]
  },
  {
   "attachments": {},
   "cell_type": "markdown",
   "metadata": {
    "id": "brjk_9PS1TRB"
   },
   "source": [
    "#### Print your `diabetes_target_test` and compare with the prediction. "
   ]
  },
  {
   "cell_type": "code",
   "execution_count": 69,
   "metadata": {},
   "outputs": [
    {
     "data": {
      "image/png": "[encoded data removed]",
      "text/plain": [
       "<Figure size 640x480 with 1 Axes>"
      ]
     },
     "metadata": {},
     "output_type": "display_data"
    }
   ],
   "source": [
    "sns.scatterplot(x = diabetes_target_test, y = predictions);"
   ]
  },
  {
   "attachments": {},
   "cell_type": "markdown",
   "metadata": {
    "id": "6UON_L4F1TRD"
   },
   "source": [
    "#### Is `diabetes_target_test` exactly the same as the model prediction? Use different error metrics"
   ]
  },
  {
   "cell_type": "code",
   "execution_count": 70,
   "metadata": {},
   "outputs": [
    {
     "data": {
      "image/png": "[encoded data removed]",
      "text/plain": [
       "<Figure size 500x500 with 1 Axes>"
      ]
     },
     "metadata": {},
     "output_type": "display_data"
    }
   ],
   "source": [
    "sns.displot((diabetes_target_test - predictions));"
   ]
  },
  {
   "cell_type": "code",
   "execution_count": 71,
   "metadata": {},
   "outputs": [],
   "source": [
    "from sklearn import metrics"
   ]
  },
  {
   "cell_type": "code",
   "execution_count": 72,
   "metadata": {},
   "outputs": [
    {
     "data": {
      "text/plain": [
       "0.5850854274471944"
      ]
     },
     "execution_count": 72,
     "metadata": {},
     "output_type": "execute_result"
    }
   ],
   "source": [
    "diabetes_model.score(diabetes_data_test, diabetes_target_test) #Cuanto más se acerque a 1 el score mejor (de normal que siempre sea mayor que 0.7 es lo óptimo)"
   ]
  },
  {
   "cell_type": "code",
   "execution_count": 73,
   "metadata": {},
   "outputs": [
    {
     "name": "stdout",
     "output_type": "stream",
     "text": [
      "MAE: 36.609618655458824\n",
      "MSE: 2004.5186863342128\n",
      "RMSE: 44.77185149549003\n"
     ]
    }
   ],
   "source": [
    "print('MAE:', metrics.mean_absolute_error(diabetes_target_test, predictions))\n",
    "print('MSE:', metrics.mean_squared_error(diabetes_target_test, predictions))\n",
    "print('RMSE:', np.sqrt(metrics.mean_squared_error(diabetes_target_test, predictions)))"
   ]
  },
  {
   "attachments": {},
   "cell_type": "markdown",
   "metadata": {},
   "source": [
    "#### Iterate with a new model to assess if any improvements can be made compared to the previous one. Consider reducing the number of variables or using `StandardScaler` to enhance model performance."
   ]
  },
  {
   "cell_type": "code",
   "execution_count": 80,
   "metadata": {},
   "outputs": [
    {
     "data": {
      "text/plain": [
       "Index(['age', 'sex', 'bmi', 'bp', 's1', 's2', 's3', 's4', 's5', 's6'], dtype='object')"
      ]
     },
     "execution_count": 80,
     "metadata": {},
     "output_type": "execute_result"
    }
   ],
   "source": [
    "diabetes[\"data\"].columns"
   ]
  },
  {
   "cell_type": "code",
   "execution_count": 81,
   "metadata": {},
   "outputs": [],
   "source": [
    "X = diabetes[\"data\"][[\"age\",\"sex\",\"bmi\",\"bp\",\"s1\",\"s3\",\"s4\",\"s5\",\"s6\"]] # Iteramos quitando la columna s2"
   ]
  },
  {
   "cell_type": "code",
   "execution_count": 82,
   "metadata": {},
   "outputs": [
    {
     "data": {
      "application/vnd.microsoft.datawrangler.viewer.v0+json": {
       "columns": [
        {
         "name": "index",
         "rawType": "int64",
         "type": "integer"
        },
        {
         "name": "age",
         "rawType": "float64",
         "type": "float"
        },
        {
         "name": "sex",
         "rawType": "float64",
         "type": "float"
        },
        {
         "name": "bmi",
         "rawType": "float64",
         "type": "float"
        },
        {
         "name": "bp",
         "rawType": "float64",
         "type": "float"
        },
        {
         "name": "s1",
         "rawType": "float64",
         "type": "float"
        },
        {
         "name": "s3",
         "rawType": "float64",
         "type": "float"
        },
        {
         "name": "s4",
         "rawType": "float64",
         "type": "float"
        },
        {
         "name": "s5",
         "rawType": "float64",
         "type": "float"
        },
        {
         "name": "s6",
         "rawType": "float64",
         "type": "float"
        }
       ],
       "conversionMethod": "pd.DataFrame",
       "ref": "89dcff18-8934-407f-85c8-e00f64065f22",
       "rows": [
        [
         "0",
         "59.0",
         "2.0",
         "32.1",
         "101.0",
         "157.0",
         "38.0",
         "4.0",
         "4.8598",
         "87.0"
        ],
        [
         "1",
         "48.0",
         "1.0",
         "21.6",
         "87.0",
         "183.0",
         "70.0",
         "3.0",
         "3.8918",
         "69.0"
        ],
        [
         "2",
         "72.0",
         "2.0",
         "30.5",
         "93.0",
         "156.0",
         "41.0",
         "4.0",
         "4.6728",
         "85.0"
        ],
        [
         "3",
         "24.0",
         "1.0",
         "25.3",
         "84.0",
         "198.0",
         "40.0",
         "5.0",
         "4.8903",
         "89.0"
        ],
        [
         "4",
         "50.0",
         "1.0",
         "23.0",
         "101.0",
         "192.0",
         "52.0",
         "4.0",
         "4.2905",
         "80.0"
        ],
        [
         "5",
         "23.0",
         "1.0",
         "22.6",
         "89.0",
         "139.0",
         "61.0",
         "2.0",
         "4.1897",
         "68.0"
        ],
        [
         "6",
         "36.0",
         "2.0",
         "22.0",
         "90.0",
         "160.0",
         "50.0",
         "3.0",
         "3.9512",
         "82.0"
        ],
        [
         "7",
         "66.0",
         "2.0",
         "26.2",
         "114.0",
         "255.0",
         "56.0",
         "4.55",
         "4.2485",
         "92.0"
        ],
        [
         "8",
         "60.0",
         "2.0",
         "32.1",
         "83.0",
         "179.0",
         "42.0",
         "4.0",
         "4.4773",
         "94.0"
        ],
        [
         "9",
         "29.0",
         "1.0",
         "30.0",
         "85.0",
         "180.0",
         "43.0",
         "4.0",
         "5.3845",
         "88.0"
        ],
        [
         "10",
         "22.0",
         "1.0",
         "18.6",
         "97.0",
         "114.0",
         "46.0",
         "2.0",
         "3.9512",
         "83.0"
        ],
        [
         "11",
         "56.0",
         "2.0",
         "28.0",
         "85.0",
         "184.0",
         "32.0",
         "6.0",
         "3.5835",
         "77.0"
        ],
        [
         "12",
         "53.0",
         "1.0",
         "23.7",
         "92.0",
         "186.0",
         "62.0",
         "3.0",
         "4.3041",
         "81.0"
        ],
        [
         "13",
         "50.0",
         "2.0",
         "26.2",
         "97.0",
         "186.0",
         "49.0",
         "4.0",
         "5.0626",
         "88.0"
        ],
        [
         "14",
         "61.0",
         "1.0",
         "24.0",
         "91.0",
         "202.0",
         "72.0",
         "3.0",
         "4.2905",
         "73.0"
        ],
        [
         "15",
         "34.0",
         "2.0",
         "24.7",
         "118.0",
         "254.0",
         "39.0",
         "7.0",
         "5.037",
         "81.0"
        ],
        [
         "16",
         "47.0",
         "1.0",
         "30.3",
         "109.0",
         "207.0",
         "70.0",
         "3.0",
         "5.2149",
         "98.0"
        ],
        [
         "17",
         "68.0",
         "2.0",
         "27.5",
         "111.0",
         "214.0",
         "39.0",
         "5.0",
         "4.9416",
         "91.0"
        ],
        [
         "18",
         "38.0",
         "1.0",
         "25.4",
         "84.0",
         "162.0",
         "42.0",
         "4.0",
         "4.4427",
         "87.0"
        ],
        [
         "19",
         "41.0",
         "1.0",
         "24.7",
         "83.0",
         "187.0",
         "60.0",
         "3.0",
         "4.5433",
         "78.0"
        ],
        [
         "20",
         "35.0",
         "1.0",
         "21.1",
         "82.0",
         "156.0",
         "50.0",
         "3.0",
         "4.5109",
         "95.0"
        ],
        [
         "21",
         "25.0",
         "2.0",
         "24.3",
         "95.0",
         "162.0",
         "54.0",
         "3.0",
         "3.8501",
         "87.0"
        ],
        [
         "22",
         "25.0",
         "1.0",
         "26.0",
         "92.0",
         "187.0",
         "56.0",
         "3.0",
         "3.9703",
         "88.0"
        ],
        [
         "23",
         "61.0",
         "2.0",
         "32.0",
         "103.67",
         "210.0",
         "35.0",
         "6.0",
         "6.107",
         "124.0"
        ],
        [
         "24",
         "31.0",
         "1.0",
         "29.7",
         "88.0",
         "167.0",
         "48.0",
         "4.0",
         "4.3567",
         "78.0"
        ],
        [
         "25",
         "30.0",
         "2.0",
         "25.2",
         "83.0",
         "178.0",
         "34.0",
         "5.0",
         "4.852",
         "83.0"
        ],
        [
         "26",
         "19.0",
         "1.0",
         "19.2",
         "87.0",
         "124.0",
         "57.0",
         "2.0",
         "4.1744",
         "90.0"
        ],
        [
         "27",
         "42.0",
         "1.0",
         "31.9",
         "83.0",
         "158.0",
         "53.0",
         "3.0",
         "4.4659",
         "101.0"
        ],
        [
         "28",
         "63.0",
         "1.0",
         "24.4",
         "73.0",
         "160.0",
         "48.0",
         "3.0",
         "4.6347",
         "78.0"
        ],
        [
         "29",
         "67.0",
         "2.0",
         "25.8",
         "113.0",
         "158.0",
         "64.0",
         "2.0",
         "5.2933",
         "104.0"
        ],
        [
         "30",
         "32.0",
         "1.0",
         "30.5",
         "89.0",
         "182.0",
         "56.0",
         "3.0",
         "4.3438",
         "89.0"
        ],
        [
         "31",
         "42.0",
         "1.0",
         "20.3",
         "71.0",
         "161.0",
         "66.0",
         "2.0",
         "4.2341",
         "81.0"
        ],
        [
         "32",
         "58.0",
         "2.0",
         "38.0",
         "103.0",
         "150.0",
         "22.0",
         "7.0",
         "4.6444",
         "98.0"
        ],
        [
         "33",
         "57.0",
         "1.0",
         "21.7",
         "94.0",
         "157.0",
         "82.0",
         "2.0",
         "4.4427",
         "92.0"
        ],
        [
         "34",
         "53.0",
         "1.0",
         "20.5",
         "78.0",
         "147.0",
         "52.0",
         "3.0",
         "3.989",
         "75.0"
        ],
        [
         "35",
         "62.0",
         "2.0",
         "23.5",
         "80.33",
         "225.0",
         "86.0",
         "2.62",
         "4.8752",
         "96.0"
        ],
        [
         "36",
         "52.0",
         "1.0",
         "28.5",
         "110.0",
         "195.0",
         "60.0",
         "3.0",
         "5.2417",
         "85.0"
        ],
        [
         "37",
         "46.0",
         "1.0",
         "27.4",
         "78.0",
         "171.0",
         "58.0",
         "3.0",
         "4.8283",
         "90.0"
        ],
        [
         "38",
         "48.0",
         "2.0",
         "33.0",
         "123.0",
         "253.0",
         "44.0",
         "6.0",
         "5.425",
         "97.0"
        ],
        [
         "39",
         "48.0",
         "2.0",
         "27.7",
         "73.0",
         "191.0",
         "46.0",
         "4.0",
         "4.852",
         "92.0"
        ],
        [
         "40",
         "50.0",
         "2.0",
         "25.6",
         "101.0",
         "229.0",
         "43.0",
         "5.0",
         "4.7791",
         "114.0"
        ],
        [
         "41",
         "21.0",
         "1.0",
         "20.1",
         "63.0",
         "135.0",
         "54.0",
         "3.0",
         "4.0943",
         "89.0"
        ],
        [
         "42",
         "32.0",
         "2.0",
         "25.4",
         "90.33",
         "153.0",
         "34.0",
         "4.5",
         "4.5326",
         "83.0"
        ],
        [
         "43",
         "54.0",
         "1.0",
         "24.2",
         "74.0",
         "204.0",
         "82.0",
         "2.0",
         "4.1744",
         "109.0"
        ],
        [
         "44",
         "61.0",
         "2.0",
         "32.7",
         "97.0",
         "177.0",
         "29.0",
         "6.0",
         "4.9972",
         "87.0"
        ],
        [
         "45",
         "56.0",
         "2.0",
         "23.1",
         "104.0",
         "181.0",
         "47.0",
         "4.0",
         "4.4773",
         "79.0"
        ],
        [
         "46",
         "33.0",
         "1.0",
         "25.3",
         "85.0",
         "155.0",
         "51.0",
         "3.0",
         "4.5539",
         "70.0"
        ],
        [
         "47",
         "27.0",
         "1.0",
         "19.6",
         "78.0",
         "128.0",
         "43.0",
         "3.0",
         "4.4427",
         "71.0"
        ],
        [
         "48",
         "67.0",
         "2.0",
         "22.5",
         "98.0",
         "191.0",
         "61.0",
         "3.0",
         "3.989",
         "86.0"
        ],
        [
         "49",
         "37.0",
         "2.0",
         "27.7",
         "93.0",
         "180.0",
         "30.0",
         "6.0",
         "5.0304",
         "88.0"
        ]
       ],
       "shape": {
        "columns": 9,
        "rows": 442
       }
      },
      "text/html": [
       "<div>\n",
       "<style scoped>\n",
       "    .dataframe tbody tr th:only-of-type {\n",
       "        vertical-align: middle;\n",
       "    }\n",
       "\n",
       "    .dataframe tbody tr th {\n",
       "        vertical-align: top;\n",
       "    }\n",
       "\n",
       "    .dataframe thead th {\n",
       "        text-align: right;\n",
       "    }\n",
       "</style>\n",
       "<table border=\"1\" class=\"dataframe\">\n",
       "  <thead>\n",
       "    <tr style=\"text-align: right;\">\n",
       "      <th></th>\n",
       "      <th>age</th>\n",
       "      <th>sex</th>\n",
       "      <th>bmi</th>\n",
       "      <th>bp</th>\n",
       "      <th>s1</th>\n",
       "      <th>s3</th>\n",
       "      <th>s4</th>\n",
       "      <th>s5</th>\n",
       "      <th>s6</th>\n",
       "    </tr>\n",
       "  </thead>\n",
       "  <tbody>\n",
       "    <tr>\n",
       "      <th>0</th>\n",
       "      <td>59.0</td>\n",
       "      <td>2.0</td>\n",
       "      <td>32.1</td>\n",
       "      <td>101.00</td>\n",
       "      <td>157.0</td>\n",
       "      <td>38.0</td>\n",
       "      <td>4.00</td>\n",
       "      <td>4.8598</td>\n",
       "      <td>87.0</td>\n",
       "    </tr>\n",
       "    <tr>\n",
       "      <th>1</th>\n",
       "      <td>48.0</td>\n",
       "      <td>1.0</td>\n",
       "      <td>21.6</td>\n",
       "      <td>87.00</td>\n",
       "      <td>183.0</td>\n",
       "      <td>70.0</td>\n",
       "      <td>3.00</td>\n",
       "      <td>3.8918</td>\n",
       "      <td>69.0</td>\n",
       "    </tr>\n",
       "    <tr>\n",
       "      <th>2</th>\n",
       "      <td>72.0</td>\n",
       "      <td>2.0</td>\n",
       "      <td>30.5</td>\n",
       "      <td>93.00</td>\n",
       "      <td>156.0</td>\n",
       "      <td>41.0</td>\n",
       "      <td>4.00</td>\n",
       "      <td>4.6728</td>\n",
       "      <td>85.0</td>\n",
       "    </tr>\n",
       "    <tr>\n",
       "      <th>3</th>\n",
       "      <td>24.0</td>\n",
       "      <td>1.0</td>\n",
       "      <td>25.3</td>\n",
       "      <td>84.00</td>\n",
       "      <td>198.0</td>\n",
       "      <td>40.0</td>\n",
       "      <td>5.00</td>\n",
       "      <td>4.8903</td>\n",
       "      <td>89.0</td>\n",
       "    </tr>\n",
       "    <tr>\n",
       "      <th>4</th>\n",
       "      <td>50.0</td>\n",
       "      <td>1.0</td>\n",
       "      <td>23.0</td>\n",
       "      <td>101.00</td>\n",
       "      <td>192.0</td>\n",
       "      <td>52.0</td>\n",
       "      <td>4.00</td>\n",
       "      <td>4.2905</td>\n",
       "      <td>80.0</td>\n",
       "    </tr>\n",
       "    <tr>\n",
       "      <th>...</th>\n",
       "      <td>...</td>\n",
       "      <td>...</td>\n",
       "      <td>...</td>\n",
       "      <td>...</td>\n",
       "      <td>...</td>\n",
       "      <td>...</td>\n",
       "      <td>...</td>\n",
       "      <td>...</td>\n",
       "      <td>...</td>\n",
       "    </tr>\n",
       "    <tr>\n",
       "      <th>437</th>\n",
       "      <td>60.0</td>\n",
       "      <td>2.0</td>\n",
       "      <td>28.2</td>\n",
       "      <td>112.00</td>\n",
       "      <td>185.0</td>\n",
       "      <td>42.0</td>\n",
       "      <td>4.00</td>\n",
       "      <td>4.9836</td>\n",
       "      <td>93.0</td>\n",
       "    </tr>\n",
       "    <tr>\n",
       "      <th>438</th>\n",
       "      <td>47.0</td>\n",
       "      <td>2.0</td>\n",
       "      <td>24.9</td>\n",
       "      <td>75.00</td>\n",
       "      <td>225.0</td>\n",
       "      <td>42.0</td>\n",
       "      <td>5.00</td>\n",
       "      <td>4.4427</td>\n",
       "      <td>102.0</td>\n",
       "    </tr>\n",
       "    <tr>\n",
       "      <th>439</th>\n",
       "      <td>60.0</td>\n",
       "      <td>2.0</td>\n",
       "      <td>24.9</td>\n",
       "      <td>99.67</td>\n",
       "      <td>162.0</td>\n",
       "      <td>43.0</td>\n",
       "      <td>3.77</td>\n",
       "      <td>4.1271</td>\n",
       "      <td>95.0</td>\n",
       "    </tr>\n",
       "    <tr>\n",
       "      <th>440</th>\n",
       "      <td>36.0</td>\n",
       "      <td>1.0</td>\n",
       "      <td>30.0</td>\n",
       "      <td>95.00</td>\n",
       "      <td>201.0</td>\n",
       "      <td>42.0</td>\n",
       "      <td>4.79</td>\n",
       "      <td>5.1299</td>\n",
       "      <td>85.0</td>\n",
       "    </tr>\n",
       "    <tr>\n",
       "      <th>441</th>\n",
       "      <td>36.0</td>\n",
       "      <td>1.0</td>\n",
       "      <td>19.6</td>\n",
       "      <td>71.00</td>\n",
       "      <td>250.0</td>\n",
       "      <td>97.0</td>\n",
       "      <td>3.00</td>\n",
       "      <td>4.5951</td>\n",
       "      <td>92.0</td>\n",
       "    </tr>\n",
       "  </tbody>\n",
       "</table>\n",
       "<p>442 rows × 9 columns</p>\n",
       "</div>"
      ],
      "text/plain": [
       "      age  sex   bmi      bp     s1    s3    s4      s5     s6\n",
       "0    59.0  2.0  32.1  101.00  157.0  38.0  4.00  4.8598   87.0\n",
       "1    48.0  1.0  21.6   87.00  183.0  70.0  3.00  3.8918   69.0\n",
       "2    72.0  2.0  30.5   93.00  156.0  41.0  4.00  4.6728   85.0\n",
       "3    24.0  1.0  25.3   84.00  198.0  40.0  5.00  4.8903   89.0\n",
       "4    50.0  1.0  23.0  101.00  192.0  52.0  4.00  4.2905   80.0\n",
       "..    ...  ...   ...     ...    ...   ...   ...     ...    ...\n",
       "437  60.0  2.0  28.2  112.00  185.0  42.0  4.00  4.9836   93.0\n",
       "438  47.0  2.0  24.9   75.00  225.0  42.0  5.00  4.4427  102.0\n",
       "439  60.0  2.0  24.9   99.67  162.0  43.0  3.77  4.1271   95.0\n",
       "440  36.0  1.0  30.0   95.00  201.0  42.0  4.79  5.1299   85.0\n",
       "441  36.0  1.0  19.6   71.00  250.0  97.0  3.00  4.5951   92.0\n",
       "\n",
       "[442 rows x 9 columns]"
      ]
     },
     "execution_count": 82,
     "metadata": {},
     "output_type": "execute_result"
    }
   ],
   "source": [
    "X"
   ]
  },
  {
   "cell_type": "code",
   "execution_count": 83,
   "metadata": {},
   "outputs": [
    {
     "data": {
      "text/plain": [
       "0      151.0\n",
       "1       75.0\n",
       "2      141.0\n",
       "3      206.0\n",
       "4      135.0\n",
       "       ...  \n",
       "437    178.0\n",
       "438    104.0\n",
       "439    132.0\n",
       "440    220.0\n",
       "441     57.0\n",
       "Name: target, Length: 442, dtype: float64"
      ]
     },
     "execution_count": 83,
     "metadata": {},
     "output_type": "execute_result"
    }
   ],
   "source": [
    "y = diabetes[\"target\"]\n",
    "y"
   ]
  },
  {
   "cell_type": "code",
   "execution_count": 84,
   "metadata": {},
   "outputs": [
    {
     "name": "stdout",
     "output_type": "stream",
     "text": [
      "MAE: 36.619289870863\n",
      "MSE: 1988.658442346688\n",
      "RMSE: 44.59437680186469\n"
     ]
    }
   ],
   "source": [
    "from sklearn.model_selection import train_test_split\n",
    "X_train, X_test, y_train, y_test = train_test_split(X,\n",
    "                                                    y,\n",
    "                                                    test_size=20,\n",
    "                                                    random_state=42,\n",
    "                                                    shuffle=False)\n",
    "\n",
    "dia_model = linear_model.LinearRegression() \n",
    "dia_model.fit(X_train, y_train)\n",
    "\n",
    "predictions = dia_model.predict(X_test)\n",
    "predictions\n",
    "\n",
    "# A little bit lower without Avg. Area Number of Bedrooms\n",
    "print('MAE:', metrics.mean_absolute_error(y_test, predictions))\n",
    "print('MSE:', metrics.mean_squared_error(y_test, predictions))\n",
    "print('RMSE:', np.sqrt(metrics.mean_squared_error(y_test, predictions)))"
   ]
  },
  {
   "cell_type": "markdown",
   "metadata": {},
   "source": [
    "## Datos de la primera predicción (con la columna s2 incluida)\n",
    "\n",
    "### MAE: 36.609618655458824\n",
    "### MSE: 2004.5186863342128\n",
    "### RMSE: 44.77185149549003"
   ]
  }
 ],
 "metadata": {
  "colab": {
   "name": "Linear_regression_diabetes.ipynb",
   "provenance": []
  },
  "kernelspec": {
   "display_name": "Python 3",
   "language": "python",
   "name": "python3"
  },
  "language_info": {
   "codemirror_mode": {
    "name": "ipython",
    "version": 3
   },
   "file_extension": ".py",
   "mimetype": "text/x-python",
   "name": "python",
   "nbconvert_exporter": "python",
   "pygments_lexer": "ipython3",
   "version": "3.11.9"
  }
 },
 "nbformat": 4,
 "nbformat_minor": 4
}
