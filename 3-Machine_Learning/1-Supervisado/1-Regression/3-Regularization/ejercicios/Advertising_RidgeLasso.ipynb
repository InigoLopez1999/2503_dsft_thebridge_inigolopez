{
 "cells": [
  {
   "attachments": {},
   "cell_type": "markdown",
   "metadata": {},
   "source": [
    "# Ejercicio Ridge, Lasso y ElasticNet\n",
    "Para este ejercicio vas a trabajar con datos de ventas de una empresa que fabrica muebles en España. Esta empresa es una Pyme que demanda conocer de antemano qué ingresos va a tener cada mes, ya que necesita pedir un anticipio a su entidad financiera de cara a poder abastecerse de materia prima al comenzar el mes. Como desconoce cuánto tiene que pedir, tira al alza y acaba pagando muchos intereses. El objetivo es reducir estos gastos.\n",
    "\n",
    "En las bases de datos de la empresa constan todos los gastos en publicidad y ventas, para cada uno de los meses desde su fundación (hace más de 15 años).\n",
    "\n",
    "Dado que los presupuestos de marketing se cierran al principio de cada mes, la empresa necesita un modelo predictivo que le anticipe las ventas que conseguirá a final de mes en función de los gastos que realizará en marketing.\n",
    "\n",
    "Para ello tendrás que utilizar tanto modelos de regresión normales, como regularizados.\n",
    "\n",
    "1. Carga los datos y realiza un pequeño análisis exploratorio. Mira a ver cómo se relaciona las ventas con el resto de variables.\n",
    "2. Crea varios modelos y modifica los hiperparámetros necesarios para mejorar el performance del modelo.\n",
    "3. Interpreta los resultados. Traduce a una fórmula tu mejor modelo (escribir la fórmula simplemente). ¿Cuánto cambian las ventas si aumentamos la inversión en radio un punto más? ¿Y si aumentamos la inversión en TV o periódicos?"
   ]
  },
  {
   "attachments": {},
   "cell_type": "markdown",
   "metadata": {},
   "source": [
    "## Import libraries "
   ]
  },
  {
   "cell_type": "code",
   "execution_count": 31,
   "metadata": {},
   "outputs": [],
   "source": [
    "import pandas as pd\n",
    "import numpy as np\n",
    "from sklearn import linear_model, metrics, model_selection\n",
    "from sklearn.linear_model import ElasticNet\n",
    "import matplotlib.pyplot as plt\n",
    "from sklearn.linear_model import Ridge\n",
    "from sklearn.linear_model import LinearRegression\n",
    "import seaborn as sns"
   ]
  },
  {
   "attachments": {},
   "cell_type": "markdown",
   "metadata": {},
   "source": [
    "## Exploratory Data Analysis "
   ]
  },
  {
   "cell_type": "code",
   "execution_count": 36,
   "metadata": {},
   "outputs": [
    {
     "data": {
      "application/vnd.microsoft.datawrangler.viewer.v0+json": {
       "columns": [
        {
         "name": "index",
         "rawType": "int64",
         "type": "integer"
        },
        {
         "name": "Unnamed: 0",
         "rawType": "int64",
         "type": "integer"
        },
        {
         "name": "TV",
         "rawType": "float64",
         "type": "float"
        },
        {
         "name": "radio",
         "rawType": "float64",
         "type": "float"
        },
        {
         "name": "newpaper",
         "rawType": "object",
         "type": "string"
        },
        {
         "name": "sales",
         "rawType": "float64",
         "type": "float"
        }
       ],
       "conversionMethod": "pd.DataFrame",
       "ref": "5bc5d646-9ef4-4597-af0c-69a778c4b60f",
       "rows": [
        [
         "0",
         "0",
         "230.1",
         "37.8",
         "6s9.2",
         "22100.0"
        ],
        [
         "1",
         "1",
         "44.5",
         "39.3",
         "45.1",
         "10400.0"
        ],
        [
         "2",
         "2",
         "17.2",
         "45.9",
         "69.3",
         "9300.0"
        ],
        [
         "3",
         "3",
         "151.5",
         "41.3",
         "58.5",
         "18500.0"
        ],
        [
         "4",
         "4",
         "180.8",
         "10.8",
         "58.4",
         "12900.0"
        ],
        [
         "5",
         "5",
         "8.7",
         "48.9",
         "75.0",
         "7200.0"
        ],
        [
         "6",
         "6",
         "57.5",
         "32.8",
         "23.5",
         "11800.0"
        ],
        [
         "7",
         "7",
         "120.2",
         "19.6",
         "11.6",
         "13200.0"
        ],
        [
         "8",
         "8",
         "8.6",
         "2.1",
         "1.0",
         "4800.0"
        ],
        [
         "9",
         "9",
         "199.8",
         "2.6",
         "21.2",
         "10600.0"
        ],
        [
         "10",
         "10",
         "66.1",
         "5.8",
         "24.2",
         "8600.0"
        ],
        [
         "11",
         "11",
         "214.7",
         "24.0",
         "4.0",
         "17400.0"
        ],
        [
         "12",
         "12",
         "23.8",
         "35.1",
         "65.9",
         "9200.0"
        ],
        [
         "13",
         "13",
         "97.5",
         "7.6",
         "7.2",
         "9700.0"
        ],
        [
         "14",
         "14",
         "204.1",
         "32.9",
         "46.0",
         "19000.0"
        ],
        [
         "15",
         "15",
         "195.4",
         "47.7",
         "52.9",
         "22400.0"
        ],
        [
         "16",
         "16",
         "67.8",
         "36.6",
         "114.0",
         "12500.0"
        ],
        [
         "17",
         "17",
         "281.4",
         "39.6",
         "55.8",
         "24400.0"
        ],
        [
         "18",
         "18",
         "69.2",
         "20.5",
         "18.3",
         "11300.0"
        ],
        [
         "19",
         "19",
         "147.3",
         "23.9",
         "19.1",
         "14600.0"
        ],
        [
         "20",
         "20",
         "218.4",
         "27.7",
         "53.4",
         "18000.0"
        ],
        [
         "21",
         "21",
         "237.4",
         "5.1",
         "23.5",
         "12500.0"
        ],
        [
         "22",
         "22",
         "13.2",
         "15.9",
         "49.6",
         "5600.0"
        ],
        [
         "23",
         "23",
         "228.3",
         "16.9",
         "26.2",
         "15500.0"
        ],
        [
         "24",
         "24",
         "62.3",
         "12.6",
         "18.3",
         "9700.0"
        ],
        [
         "25",
         "25",
         "262.9",
         "3.5",
         "19.5",
         "12000.0"
        ],
        [
         "26",
         "26",
         "142.9",
         "29.3",
         "12.6",
         "15000.0"
        ],
        [
         "27",
         "27",
         "240.1",
         "16.7",
         "22.9",
         "15900.0"
        ],
        [
         "28",
         "28",
         "248.8",
         "27.1",
         "22.9",
         "18900.0"
        ],
        [
         "29",
         "29",
         "70.6",
         "16.0",
         "40.8",
         "10500.0"
        ],
        [
         "30",
         "30",
         "292.9",
         "28.3",
         "43.2",
         "21400.0"
        ],
        [
         "31",
         "31",
         "112.9",
         "17.4",
         "38.6",
         "11900.0"
        ],
        [
         "32",
         "32",
         "97.2",
         "1.5",
         "30.0",
         "9600.0"
        ],
        [
         "33",
         "33",
         "265.6",
         "20.0",
         "0.3",
         "17400.0"
        ],
        [
         "34",
         "34",
         "95.7",
         "1.4",
         "7.4",
         "9500.0"
        ],
        [
         "35",
         "35",
         "290.7",
         "4.1",
         "8.5",
         "12800.0"
        ],
        [
         "36",
         "36",
         "266.9",
         "43.8",
         "5.0",
         "25400.0"
        ],
        [
         "37",
         "37",
         "74.7",
         "49.4",
         "45.7",
         "14700.0"
        ],
        [
         "38",
         "38",
         "43.1",
         "26.7",
         "35.1",
         "10100.0"
        ],
        [
         "39",
         "39",
         "228.0",
         "37.7",
         "32.0",
         "21500.0"
        ],
        [
         "40",
         "40",
         "202.5",
         "22.3",
         "31.6",
         "16600.0"
        ],
        [
         "41",
         "41",
         "177.0",
         "33.4",
         "38.7",
         "17100.0"
        ],
        [
         "42",
         "42",
         "293.6",
         "27.7",
         "1.8",
         "20700.0"
        ],
        [
         "43",
         "43",
         "206.9",
         "8.4",
         "26.4",
         "12900.0"
        ],
        [
         "44",
         "44",
         "25.1",
         "25.7",
         "43.3",
         "8500.0"
        ],
        [
         "45",
         "45",
         "175.1",
         "22.5",
         "31.5",
         "14900.0"
        ],
        [
         "46",
         "46",
         "89.7",
         "9.9",
         "35.7",
         "10600.0"
        ],
        [
         "47",
         "47",
         "239.9",
         "41.5",
         "18.5",
         "23200.0"
        ],
        [
         "48",
         "48",
         "227.2",
         "15.8",
         "49.9",
         "14800.0"
        ],
        [
         "49",
         "49",
         "66.9",
         "11.7",
         "36.8",
         "9700.0"
        ]
       ],
       "shape": {
        "columns": 5,
        "rows": 200
       }
      },
      "text/html": [
       "<div>\n",
       "<style scoped>\n",
       "    .dataframe tbody tr th:only-of-type {\n",
       "        vertical-align: middle;\n",
       "    }\n",
       "\n",
       "    .dataframe tbody tr th {\n",
       "        vertical-align: top;\n",
       "    }\n",
       "\n",
       "    .dataframe thead th {\n",
       "        text-align: right;\n",
       "    }\n",
       "</style>\n",
       "<table border=\"1\" class=\"dataframe\">\n",
       "  <thead>\n",
       "    <tr style=\"text-align: right;\">\n",
       "      <th></th>\n",
       "      <th>Unnamed: 0</th>\n",
       "      <th>TV</th>\n",
       "      <th>radio</th>\n",
       "      <th>newpaper</th>\n",
       "      <th>sales</th>\n",
       "    </tr>\n",
       "  </thead>\n",
       "  <tbody>\n",
       "    <tr>\n",
       "      <th>0</th>\n",
       "      <td>0</td>\n",
       "      <td>230.1</td>\n",
       "      <td>37.8</td>\n",
       "      <td>6s9.2</td>\n",
       "      <td>22100.0</td>\n",
       "    </tr>\n",
       "    <tr>\n",
       "      <th>1</th>\n",
       "      <td>1</td>\n",
       "      <td>44.5</td>\n",
       "      <td>39.3</td>\n",
       "      <td>45.1</td>\n",
       "      <td>10400.0</td>\n",
       "    </tr>\n",
       "    <tr>\n",
       "      <th>2</th>\n",
       "      <td>2</td>\n",
       "      <td>17.2</td>\n",
       "      <td>45.9</td>\n",
       "      <td>69.3</td>\n",
       "      <td>9300.0</td>\n",
       "    </tr>\n",
       "    <tr>\n",
       "      <th>3</th>\n",
       "      <td>3</td>\n",
       "      <td>151.5</td>\n",
       "      <td>41.3</td>\n",
       "      <td>58.5</td>\n",
       "      <td>18500.0</td>\n",
       "    </tr>\n",
       "    <tr>\n",
       "      <th>4</th>\n",
       "      <td>4</td>\n",
       "      <td>180.8</td>\n",
       "      <td>10.8</td>\n",
       "      <td>58.4</td>\n",
       "      <td>12900.0</td>\n",
       "    </tr>\n",
       "    <tr>\n",
       "      <th>...</th>\n",
       "      <td>...</td>\n",
       "      <td>...</td>\n",
       "      <td>...</td>\n",
       "      <td>...</td>\n",
       "      <td>...</td>\n",
       "    </tr>\n",
       "    <tr>\n",
       "      <th>195</th>\n",
       "      <td>195</td>\n",
       "      <td>38.2</td>\n",
       "      <td>3.7</td>\n",
       "      <td>13.8</td>\n",
       "      <td>7600.0</td>\n",
       "    </tr>\n",
       "    <tr>\n",
       "      <th>196</th>\n",
       "      <td>196</td>\n",
       "      <td>94.2</td>\n",
       "      <td>4.9</td>\n",
       "      <td>8.1</td>\n",
       "      <td>9700.0</td>\n",
       "    </tr>\n",
       "    <tr>\n",
       "      <th>197</th>\n",
       "      <td>197</td>\n",
       "      <td>177.0</td>\n",
       "      <td>9.3</td>\n",
       "      <td>6.4</td>\n",
       "      <td>12800.0</td>\n",
       "    </tr>\n",
       "    <tr>\n",
       "      <th>198</th>\n",
       "      <td>198</td>\n",
       "      <td>283.6</td>\n",
       "      <td>42.0</td>\n",
       "      <td>66.2</td>\n",
       "      <td>25500.0</td>\n",
       "    </tr>\n",
       "    <tr>\n",
       "      <th>199</th>\n",
       "      <td>199</td>\n",
       "      <td>232.1</td>\n",
       "      <td>8.6</td>\n",
       "      <td>8.7</td>\n",
       "      <td>13400.0</td>\n",
       "    </tr>\n",
       "  </tbody>\n",
       "</table>\n",
       "<p>200 rows × 5 columns</p>\n",
       "</div>"
      ],
      "text/plain": [
       "     Unnamed: 0     TV  radio newpaper    sales\n",
       "0             0  230.1   37.8    6s9.2  22100.0\n",
       "1             1   44.5   39.3     45.1  10400.0\n",
       "2             2   17.2   45.9     69.3   9300.0\n",
       "3             3  151.5   41.3     58.5  18500.0\n",
       "4             4  180.8   10.8     58.4  12900.0\n",
       "..          ...    ...    ...      ...      ...\n",
       "195         195   38.2    3.7     13.8   7600.0\n",
       "196         196   94.2    4.9      8.1   9700.0\n",
       "197         197  177.0    9.3      6.4  12800.0\n",
       "198         198  283.6   42.0     66.2  25500.0\n",
       "199         199  232.1    8.6      8.7  13400.0\n",
       "\n",
       "[200 rows x 5 columns]"
      ]
     },
     "execution_count": 36,
     "metadata": {},
     "output_type": "execute_result"
    }
   ],
   "source": [
    "muebles = pd.read_csv(\"data\\\\Advertising.csv\")\n",
    "muebles\n"
   ]
  },
  {
   "cell_type": "code",
   "execution_count": 39,
   "metadata": {},
   "outputs": [],
   "source": [
    "muebles.drop([0],inplace=True)"
   ]
  },
  {
   "cell_type": "code",
   "execution_count": 40,
   "metadata": {},
   "outputs": [],
   "source": [
    "muebles[\"newpaper\"] = muebles[\"newpaper\"].astype(float)"
   ]
  },
  {
   "cell_type": "code",
   "execution_count": 41,
   "metadata": {},
   "outputs": [
    {
     "data": {
      "application/vnd.microsoft.datawrangler.viewer.v0+json": {
       "columns": [
        {
         "name": "index",
         "rawType": "int64",
         "type": "integer"
        },
        {
         "name": "Unnamed: 0",
         "rawType": "int64",
         "type": "integer"
        },
        {
         "name": "TV",
         "rawType": "float64",
         "type": "float"
        },
        {
         "name": "radio",
         "rawType": "float64",
         "type": "float"
        },
        {
         "name": "newpaper",
         "rawType": "float64",
         "type": "float"
        },
        {
         "name": "sales",
         "rawType": "float64",
         "type": "float"
        }
       ],
       "conversionMethod": "pd.DataFrame",
       "ref": "ebc02736-a814-4c27-ac4b-a34d49b0328e",
       "rows": [
        [
         "1",
         "1",
         "44.5",
         "39.3",
         "45.1",
         "10400.0"
        ],
        [
         "2",
         "2",
         "17.2",
         "45.9",
         "69.3",
         "9300.0"
        ],
        [
         "3",
         "3",
         "151.5",
         "41.3",
         "58.5",
         "18500.0"
        ],
        [
         "4",
         "4",
         "180.8",
         "10.8",
         "58.4",
         "12900.0"
        ],
        [
         "5",
         "5",
         "8.7",
         "48.9",
         "75.0",
         "7200.0"
        ],
        [
         "6",
         "6",
         "57.5",
         "32.8",
         "23.5",
         "11800.0"
        ],
        [
         "7",
         "7",
         "120.2",
         "19.6",
         "11.6",
         "13200.0"
        ],
        [
         "8",
         "8",
         "8.6",
         "2.1",
         "1.0",
         "4800.0"
        ],
        [
         "9",
         "9",
         "199.8",
         "2.6",
         "21.2",
         "10600.0"
        ],
        [
         "10",
         "10",
         "66.1",
         "5.8",
         "24.2",
         "8600.0"
        ],
        [
         "11",
         "11",
         "214.7",
         "24.0",
         "4.0",
         "17400.0"
        ],
        [
         "12",
         "12",
         "23.8",
         "35.1",
         "65.9",
         "9200.0"
        ],
        [
         "13",
         "13",
         "97.5",
         "7.6",
         "7.2",
         "9700.0"
        ],
        [
         "14",
         "14",
         "204.1",
         "32.9",
         "46.0",
         "19000.0"
        ],
        [
         "15",
         "15",
         "195.4",
         "47.7",
         "52.9",
         "22400.0"
        ],
        [
         "16",
         "16",
         "67.8",
         "36.6",
         "114.0",
         "12500.0"
        ],
        [
         "17",
         "17",
         "281.4",
         "39.6",
         "55.8",
         "24400.0"
        ],
        [
         "18",
         "18",
         "69.2",
         "20.5",
         "18.3",
         "11300.0"
        ],
        [
         "19",
         "19",
         "147.3",
         "23.9",
         "19.1",
         "14600.0"
        ],
        [
         "20",
         "20",
         "218.4",
         "27.7",
         "53.4",
         "18000.0"
        ],
        [
         "21",
         "21",
         "237.4",
         "5.1",
         "23.5",
         "12500.0"
        ],
        [
         "22",
         "22",
         "13.2",
         "15.9",
         "49.6",
         "5600.0"
        ],
        [
         "23",
         "23",
         "228.3",
         "16.9",
         "26.2",
         "15500.0"
        ],
        [
         "24",
         "24",
         "62.3",
         "12.6",
         "18.3",
         "9700.0"
        ],
        [
         "25",
         "25",
         "262.9",
         "3.5",
         "19.5",
         "12000.0"
        ],
        [
         "26",
         "26",
         "142.9",
         "29.3",
         "12.6",
         "15000.0"
        ],
        [
         "27",
         "27",
         "240.1",
         "16.7",
         "22.9",
         "15900.0"
        ],
        [
         "28",
         "28",
         "248.8",
         "27.1",
         "22.9",
         "18900.0"
        ],
        [
         "29",
         "29",
         "70.6",
         "16.0",
         "40.8",
         "10500.0"
        ],
        [
         "30",
         "30",
         "292.9",
         "28.3",
         "43.2",
         "21400.0"
        ],
        [
         "31",
         "31",
         "112.9",
         "17.4",
         "38.6",
         "11900.0"
        ],
        [
         "32",
         "32",
         "97.2",
         "1.5",
         "30.0",
         "9600.0"
        ],
        [
         "33",
         "33",
         "265.6",
         "20.0",
         "0.3",
         "17400.0"
        ],
        [
         "34",
         "34",
         "95.7",
         "1.4",
         "7.4",
         "9500.0"
        ],
        [
         "35",
         "35",
         "290.7",
         "4.1",
         "8.5",
         "12800.0"
        ],
        [
         "36",
         "36",
         "266.9",
         "43.8",
         "5.0",
         "25400.0"
        ],
        [
         "37",
         "37",
         "74.7",
         "49.4",
         "45.7",
         "14700.0"
        ],
        [
         "38",
         "38",
         "43.1",
         "26.7",
         "35.1",
         "10100.0"
        ],
        [
         "39",
         "39",
         "228.0",
         "37.7",
         "32.0",
         "21500.0"
        ],
        [
         "40",
         "40",
         "202.5",
         "22.3",
         "31.6",
         "16600.0"
        ],
        [
         "41",
         "41",
         "177.0",
         "33.4",
         "38.7",
         "17100.0"
        ],
        [
         "42",
         "42",
         "293.6",
         "27.7",
         "1.8",
         "20700.0"
        ],
        [
         "43",
         "43",
         "206.9",
         "8.4",
         "26.4",
         "12900.0"
        ],
        [
         "44",
         "44",
         "25.1",
         "25.7",
         "43.3",
         "8500.0"
        ],
        [
         "45",
         "45",
         "175.1",
         "22.5",
         "31.5",
         "14900.0"
        ],
        [
         "46",
         "46",
         "89.7",
         "9.9",
         "35.7",
         "10600.0"
        ],
        [
         "47",
         "47",
         "239.9",
         "41.5",
         "18.5",
         "23200.0"
        ],
        [
         "48",
         "48",
         "227.2",
         "15.8",
         "49.9",
         "14800.0"
        ],
        [
         "49",
         "49",
         "66.9",
         "11.7",
         "36.8",
         "9700.0"
        ],
        [
         "50",
         "50",
         "199.8",
         "3.1",
         "34.6",
         "11400.0"
        ]
       ],
       "shape": {
        "columns": 5,
        "rows": 199
       }
      },
      "text/html": [
       "<div>\n",
       "<style scoped>\n",
       "    .dataframe tbody tr th:only-of-type {\n",
       "        vertical-align: middle;\n",
       "    }\n",
       "\n",
       "    .dataframe tbody tr th {\n",
       "        vertical-align: top;\n",
       "    }\n",
       "\n",
       "    .dataframe thead th {\n",
       "        text-align: right;\n",
       "    }\n",
       "</style>\n",
       "<table border=\"1\" class=\"dataframe\">\n",
       "  <thead>\n",
       "    <tr style=\"text-align: right;\">\n",
       "      <th></th>\n",
       "      <th>Unnamed: 0</th>\n",
       "      <th>TV</th>\n",
       "      <th>radio</th>\n",
       "      <th>newpaper</th>\n",
       "      <th>sales</th>\n",
       "    </tr>\n",
       "  </thead>\n",
       "  <tbody>\n",
       "    <tr>\n",
       "      <th>1</th>\n",
       "      <td>1</td>\n",
       "      <td>44.5</td>\n",
       "      <td>39.3</td>\n",
       "      <td>45.1</td>\n",
       "      <td>10400.0</td>\n",
       "    </tr>\n",
       "    <tr>\n",
       "      <th>2</th>\n",
       "      <td>2</td>\n",
       "      <td>17.2</td>\n",
       "      <td>45.9</td>\n",
       "      <td>69.3</td>\n",
       "      <td>9300.0</td>\n",
       "    </tr>\n",
       "    <tr>\n",
       "      <th>3</th>\n",
       "      <td>3</td>\n",
       "      <td>151.5</td>\n",
       "      <td>41.3</td>\n",
       "      <td>58.5</td>\n",
       "      <td>18500.0</td>\n",
       "    </tr>\n",
       "    <tr>\n",
       "      <th>4</th>\n",
       "      <td>4</td>\n",
       "      <td>180.8</td>\n",
       "      <td>10.8</td>\n",
       "      <td>58.4</td>\n",
       "      <td>12900.0</td>\n",
       "    </tr>\n",
       "    <tr>\n",
       "      <th>5</th>\n",
       "      <td>5</td>\n",
       "      <td>8.7</td>\n",
       "      <td>48.9</td>\n",
       "      <td>75.0</td>\n",
       "      <td>7200.0</td>\n",
       "    </tr>\n",
       "    <tr>\n",
       "      <th>...</th>\n",
       "      <td>...</td>\n",
       "      <td>...</td>\n",
       "      <td>...</td>\n",
       "      <td>...</td>\n",
       "      <td>...</td>\n",
       "    </tr>\n",
       "    <tr>\n",
       "      <th>195</th>\n",
       "      <td>195</td>\n",
       "      <td>38.2</td>\n",
       "      <td>3.7</td>\n",
       "      <td>13.8</td>\n",
       "      <td>7600.0</td>\n",
       "    </tr>\n",
       "    <tr>\n",
       "      <th>196</th>\n",
       "      <td>196</td>\n",
       "      <td>94.2</td>\n",
       "      <td>4.9</td>\n",
       "      <td>8.1</td>\n",
       "      <td>9700.0</td>\n",
       "    </tr>\n",
       "    <tr>\n",
       "      <th>197</th>\n",
       "      <td>197</td>\n",
       "      <td>177.0</td>\n",
       "      <td>9.3</td>\n",
       "      <td>6.4</td>\n",
       "      <td>12800.0</td>\n",
       "    </tr>\n",
       "    <tr>\n",
       "      <th>198</th>\n",
       "      <td>198</td>\n",
       "      <td>283.6</td>\n",
       "      <td>42.0</td>\n",
       "      <td>66.2</td>\n",
       "      <td>25500.0</td>\n",
       "    </tr>\n",
       "    <tr>\n",
       "      <th>199</th>\n",
       "      <td>199</td>\n",
       "      <td>232.1</td>\n",
       "      <td>8.6</td>\n",
       "      <td>8.7</td>\n",
       "      <td>13400.0</td>\n",
       "    </tr>\n",
       "  </tbody>\n",
       "</table>\n",
       "<p>199 rows × 5 columns</p>\n",
       "</div>"
      ],
      "text/plain": [
       "     Unnamed: 0     TV  radio  newpaper    sales\n",
       "1             1   44.5   39.3      45.1  10400.0\n",
       "2             2   17.2   45.9      69.3   9300.0\n",
       "3             3  151.5   41.3      58.5  18500.0\n",
       "4             4  180.8   10.8      58.4  12900.0\n",
       "5             5    8.7   48.9      75.0   7200.0\n",
       "..          ...    ...    ...       ...      ...\n",
       "195         195   38.2    3.7      13.8   7600.0\n",
       "196         196   94.2    4.9       8.1   9700.0\n",
       "197         197  177.0    9.3       6.4  12800.0\n",
       "198         198  283.6   42.0      66.2  25500.0\n",
       "199         199  232.1    8.6       8.7  13400.0\n",
       "\n",
       "[199 rows x 5 columns]"
      ]
     },
     "execution_count": 41,
     "metadata": {},
     "output_type": "execute_result"
    }
   ],
   "source": [
    "muebles"
   ]
  },
  {
   "cell_type": "code",
   "execution_count": 42,
   "metadata": {},
   "outputs": [
    {
     "name": "stdout",
     "output_type": "stream",
     "text": [
      "<class 'pandas.core.frame.DataFrame'>\n",
      "RangeIndex: 199 entries, 1 to 199\n",
      "Data columns (total 5 columns):\n",
      " #   Column      Non-Null Count  Dtype  \n",
      "---  ------      --------------  -----  \n",
      " 0   Unnamed: 0  199 non-null    int64  \n",
      " 1   TV          199 non-null    float64\n",
      " 2   radio       199 non-null    float64\n",
      " 3   newpaper    199 non-null    float64\n",
      " 4   sales       199 non-null    float64\n",
      "dtypes: float64(4), int64(1)\n",
      "memory usage: 7.9 KB\n"
     ]
    }
   ],
   "source": [
    "muebles.info()"
   ]
  },
  {
   "cell_type": "code",
   "execution_count": 43,
   "metadata": {},
   "outputs": [
    {
     "data": {
      "application/vnd.microsoft.datawrangler.viewer.v0+json": {
       "columns": [
        {
         "name": "index",
         "rawType": "object",
         "type": "string"
        },
        {
         "name": "Unnamed: 0",
         "rawType": "float64",
         "type": "float"
        },
        {
         "name": "TV",
         "rawType": "float64",
         "type": "float"
        },
        {
         "name": "radio",
         "rawType": "float64",
         "type": "float"
        },
        {
         "name": "newpaper",
         "rawType": "float64",
         "type": "float"
        },
        {
         "name": "sales",
         "rawType": "float64",
         "type": "float"
        }
       ],
       "conversionMethod": "pd.DataFrame",
       "ref": "3062833b-97e0-49ed-b843-43b9bb5225f5",
       "rows": [
        [
         "count",
         "199.0",
         "199.0",
         "199.0",
         "199.0",
         "199.0"
        ],
        [
         "mean",
         "100.0",
         "146.62512562814072",
         "23.190954773869347",
         "30.359798994974877",
         "13981.909547738693"
        ],
        [
         "std",
         "57.590508477236654",
         "85.86711057585292",
         "14.848181829074473",
         "21.659245627941758",
         "5198.861022490503"
        ],
        [
         "min",
         "1.0",
         "0.7",
         "0.0",
         "0.3",
         "1600.0"
        ],
        [
         "25%",
         "50.5",
         "74.05000000000001",
         "9.95",
         "12.7",
         "10350.0"
        ],
        [
         "50%",
         "100.0",
         "149.7",
         "22.5",
         "25.6",
         "12900.0"
        ],
        [
         "75%",
         "149.5",
         "218.45",
         "36.4",
         "44.7",
         "17350.0"
        ],
        [
         "max",
         "199.0",
         "296.4",
         "49.6",
         "114.0",
         "27000.0"
        ]
       ],
       "shape": {
        "columns": 5,
        "rows": 8
       }
      },
      "text/html": [
       "<div>\n",
       "<style scoped>\n",
       "    .dataframe tbody tr th:only-of-type {\n",
       "        vertical-align: middle;\n",
       "    }\n",
       "\n",
       "    .dataframe tbody tr th {\n",
       "        vertical-align: top;\n",
       "    }\n",
       "\n",
       "    .dataframe thead th {\n",
       "        text-align: right;\n",
       "    }\n",
       "</style>\n",
       "<table border=\"1\" class=\"dataframe\">\n",
       "  <thead>\n",
       "    <tr style=\"text-align: right;\">\n",
       "      <th></th>\n",
       "      <th>Unnamed: 0</th>\n",
       "      <th>TV</th>\n",
       "      <th>radio</th>\n",
       "      <th>newpaper</th>\n",
       "      <th>sales</th>\n",
       "    </tr>\n",
       "  </thead>\n",
       "  <tbody>\n",
       "    <tr>\n",
       "      <th>count</th>\n",
       "      <td>199.000000</td>\n",
       "      <td>199.000000</td>\n",
       "      <td>199.000000</td>\n",
       "      <td>199.000000</td>\n",
       "      <td>199.000000</td>\n",
       "    </tr>\n",
       "    <tr>\n",
       "      <th>mean</th>\n",
       "      <td>100.000000</td>\n",
       "      <td>146.625126</td>\n",
       "      <td>23.190955</td>\n",
       "      <td>30.359799</td>\n",
       "      <td>13981.909548</td>\n",
       "    </tr>\n",
       "    <tr>\n",
       "      <th>std</th>\n",
       "      <td>57.590508</td>\n",
       "      <td>85.867111</td>\n",
       "      <td>14.848182</td>\n",
       "      <td>21.659246</td>\n",
       "      <td>5198.861022</td>\n",
       "    </tr>\n",
       "    <tr>\n",
       "      <th>min</th>\n",
       "      <td>1.000000</td>\n",
       "      <td>0.700000</td>\n",
       "      <td>0.000000</td>\n",
       "      <td>0.300000</td>\n",
       "      <td>1600.000000</td>\n",
       "    </tr>\n",
       "    <tr>\n",
       "      <th>25%</th>\n",
       "      <td>50.500000</td>\n",
       "      <td>74.050000</td>\n",
       "      <td>9.950000</td>\n",
       "      <td>12.700000</td>\n",
       "      <td>10350.000000</td>\n",
       "    </tr>\n",
       "    <tr>\n",
       "      <th>50%</th>\n",
       "      <td>100.000000</td>\n",
       "      <td>149.700000</td>\n",
       "      <td>22.500000</td>\n",
       "      <td>25.600000</td>\n",
       "      <td>12900.000000</td>\n",
       "    </tr>\n",
       "    <tr>\n",
       "      <th>75%</th>\n",
       "      <td>149.500000</td>\n",
       "      <td>218.450000</td>\n",
       "      <td>36.400000</td>\n",
       "      <td>44.700000</td>\n",
       "      <td>17350.000000</td>\n",
       "    </tr>\n",
       "    <tr>\n",
       "      <th>max</th>\n",
       "      <td>199.000000</td>\n",
       "      <td>296.400000</td>\n",
       "      <td>49.600000</td>\n",
       "      <td>114.000000</td>\n",
       "      <td>27000.000000</td>\n",
       "    </tr>\n",
       "  </tbody>\n",
       "</table>\n",
       "</div>"
      ],
      "text/plain": [
       "       Unnamed: 0          TV       radio    newpaper         sales\n",
       "count  199.000000  199.000000  199.000000  199.000000    199.000000\n",
       "mean   100.000000  146.625126   23.190955   30.359799  13981.909548\n",
       "std     57.590508   85.867111   14.848182   21.659246   5198.861022\n",
       "min      1.000000    0.700000    0.000000    0.300000   1600.000000\n",
       "25%     50.500000   74.050000    9.950000   12.700000  10350.000000\n",
       "50%    100.000000  149.700000   22.500000   25.600000  12900.000000\n",
       "75%    149.500000  218.450000   36.400000   44.700000  17350.000000\n",
       "max    199.000000  296.400000   49.600000  114.000000  27000.000000"
      ]
     },
     "execution_count": 43,
     "metadata": {},
     "output_type": "execute_result"
    }
   ],
   "source": [
    "muebles.describe()"
   ]
  },
  {
   "cell_type": "code",
   "execution_count": 44,
   "metadata": {},
   "outputs": [
    {
     "data": {
      "text/plain": [
       "<seaborn.axisgrid.PairGrid at 0x18a29f4e790>"
      ]
     },
     "execution_count": 44,
     "metadata": {},
     "output_type": "execute_result"
    },
    {
     "data": {
      "image/png": "[encoded data removed]",
      "text/plain": [
       "<Figure size 1250x1250 with 30 Axes>"
      ]
     },
     "metadata": {},
     "output_type": "display_data"
    }
   ],
   "source": [
    "sns.pairplot(muebles)"
   ]
  },
  {
   "cell_type": "code",
   "execution_count": 45,
   "metadata": {},
   "outputs": [
    {
     "data": {
      "image/png": "[encoded data removed]",
      "text/plain": [
       "<Figure size 1000x1000 with 2 Axes>"
      ]
     },
     "metadata": {},
     "output_type": "display_data"
    }
   ],
   "source": [
    "plt.figure(figsize=(10,10))\n",
    "sns.heatmap(muebles.corr(),\n",
    "           vmin=-1,\n",
    "           vmax=1,\n",
    "           cmap=sns.diverging_palette(145, 280, s=85, l=25, n=7),\n",
    "           annot=True);"
   ]
  },
  {
   "cell_type": "code",
   "execution_count": 46,
   "metadata": {},
   "outputs": [
    {
     "data": {
      "image/png": "[encoded data removed]",
      "text/plain": [
       "<Figure size 640x480 with 1 Axes>"
      ]
     },
     "metadata": {},
     "output_type": "display_data"
    }
   ],
   "source": [
    "plt.scatter(muebles[\"sales\"], muebles[\"TV\"])\n",
    "plt.xlabel(\"sales\", fontsize=16)\n",
    "plt.ylabel(\"TV\", fontsize=16)\n",
    "plt.title(\"Relationship between sales and TV\", fontsize=14)\n",
    "plt.show()"
   ]
  },
  {
   "attachments": {},
   "cell_type": "markdown",
   "metadata": {},
   "source": [
    "## Modelado"
   ]
  },
  {
   "cell_type": "code",
   "execution_count": 55,
   "metadata": {},
   "outputs": [],
   "source": [
    "# train : the first rows \n",
    "# test : the last rows \n",
    "n_split = 160\n",
    "X_train = muebles.iloc[:n_split,1:-1]\n",
    "X_test = muebles.iloc[n_split:,1:-1]\n",
    "y_train = muebles.iloc[:n_split,-1]\n",
    "y_test = muebles.iloc[n_split:,-1]  "
   ]
  },
  {
   "cell_type": "code",
   "execution_count": 56,
   "metadata": {},
   "outputs": [
    {
     "data": {
      "application/vnd.microsoft.datawrangler.viewer.v0+json": {
       "columns": [
        {
         "name": "index",
         "rawType": "int64",
         "type": "integer"
        },
        {
         "name": "TV",
         "rawType": "float64",
         "type": "float"
        },
        {
         "name": "radio",
         "rawType": "float64",
         "type": "float"
        },
        {
         "name": "newpaper",
         "rawType": "float64",
         "type": "float"
        }
       ],
       "conversionMethod": "pd.DataFrame",
       "ref": "25a0b4e2-eefa-4eec-8f0b-f71f1a9ae29c",
       "rows": [
        [
         "1",
         "44.5",
         "39.3",
         "45.1"
        ],
        [
         "2",
         "17.2",
         "45.9",
         "69.3"
        ],
        [
         "3",
         "151.5",
         "41.3",
         "58.5"
        ],
        [
         "4",
         "180.8",
         "10.8",
         "58.4"
        ],
        [
         "5",
         "8.7",
         "48.9",
         "75.0"
        ],
        [
         "6",
         "57.5",
         "32.8",
         "23.5"
        ],
        [
         "7",
         "120.2",
         "19.6",
         "11.6"
        ],
        [
         "8",
         "8.6",
         "2.1",
         "1.0"
        ],
        [
         "9",
         "199.8",
         "2.6",
         "21.2"
        ],
        [
         "10",
         "66.1",
         "5.8",
         "24.2"
        ],
        [
         "11",
         "214.7",
         "24.0",
         "4.0"
        ],
        [
         "12",
         "23.8",
         "35.1",
         "65.9"
        ],
        [
         "13",
         "97.5",
         "7.6",
         "7.2"
        ],
        [
         "14",
         "204.1",
         "32.9",
         "46.0"
        ],
        [
         "15",
         "195.4",
         "47.7",
         "52.9"
        ],
        [
         "16",
         "67.8",
         "36.6",
         "114.0"
        ],
        [
         "17",
         "281.4",
         "39.6",
         "55.8"
        ],
        [
         "18",
         "69.2",
         "20.5",
         "18.3"
        ],
        [
         "19",
         "147.3",
         "23.9",
         "19.1"
        ],
        [
         "20",
         "218.4",
         "27.7",
         "53.4"
        ],
        [
         "21",
         "237.4",
         "5.1",
         "23.5"
        ],
        [
         "22",
         "13.2",
         "15.9",
         "49.6"
        ],
        [
         "23",
         "228.3",
         "16.9",
         "26.2"
        ],
        [
         "24",
         "62.3",
         "12.6",
         "18.3"
        ],
        [
         "25",
         "262.9",
         "3.5",
         "19.5"
        ],
        [
         "26",
         "142.9",
         "29.3",
         "12.6"
        ],
        [
         "27",
         "240.1",
         "16.7",
         "22.9"
        ],
        [
         "28",
         "248.8",
         "27.1",
         "22.9"
        ],
        [
         "29",
         "70.6",
         "16.0",
         "40.8"
        ],
        [
         "30",
         "292.9",
         "28.3",
         "43.2"
        ],
        [
         "31",
         "112.9",
         "17.4",
         "38.6"
        ],
        [
         "32",
         "97.2",
         "1.5",
         "30.0"
        ],
        [
         "33",
         "265.6",
         "20.0",
         "0.3"
        ],
        [
         "34",
         "95.7",
         "1.4",
         "7.4"
        ],
        [
         "35",
         "290.7",
         "4.1",
         "8.5"
        ],
        [
         "36",
         "266.9",
         "43.8",
         "5.0"
        ],
        [
         "37",
         "74.7",
         "49.4",
         "45.7"
        ],
        [
         "38",
         "43.1",
         "26.7",
         "35.1"
        ],
        [
         "39",
         "228.0",
         "37.7",
         "32.0"
        ],
        [
         "40",
         "202.5",
         "22.3",
         "31.6"
        ],
        [
         "41",
         "177.0",
         "33.4",
         "38.7"
        ],
        [
         "42",
         "293.6",
         "27.7",
         "1.8"
        ],
        [
         "43",
         "206.9",
         "8.4",
         "26.4"
        ],
        [
         "44",
         "25.1",
         "25.7",
         "43.3"
        ],
        [
         "45",
         "175.1",
         "22.5",
         "31.5"
        ],
        [
         "46",
         "89.7",
         "9.9",
         "35.7"
        ],
        [
         "47",
         "239.9",
         "41.5",
         "18.5"
        ],
        [
         "48",
         "227.2",
         "15.8",
         "49.9"
        ],
        [
         "49",
         "66.9",
         "11.7",
         "36.8"
        ],
        [
         "50",
         "199.8",
         "3.1",
         "34.6"
        ]
       ],
       "shape": {
        "columns": 3,
        "rows": 160
       }
      },
      "text/html": [
       "<div>\n",
       "<style scoped>\n",
       "    .dataframe tbody tr th:only-of-type {\n",
       "        vertical-align: middle;\n",
       "    }\n",
       "\n",
       "    .dataframe tbody tr th {\n",
       "        vertical-align: top;\n",
       "    }\n",
       "\n",
       "    .dataframe thead th {\n",
       "        text-align: right;\n",
       "    }\n",
       "</style>\n",
       "<table border=\"1\" class=\"dataframe\">\n",
       "  <thead>\n",
       "    <tr style=\"text-align: right;\">\n",
       "      <th></th>\n",
       "      <th>TV</th>\n",
       "      <th>radio</th>\n",
       "      <th>newpaper</th>\n",
       "    </tr>\n",
       "  </thead>\n",
       "  <tbody>\n",
       "    <tr>\n",
       "      <th>1</th>\n",
       "      <td>44.5</td>\n",
       "      <td>39.3</td>\n",
       "      <td>45.1</td>\n",
       "    </tr>\n",
       "    <tr>\n",
       "      <th>2</th>\n",
       "      <td>17.2</td>\n",
       "      <td>45.9</td>\n",
       "      <td>69.3</td>\n",
       "    </tr>\n",
       "    <tr>\n",
       "      <th>3</th>\n",
       "      <td>151.5</td>\n",
       "      <td>41.3</td>\n",
       "      <td>58.5</td>\n",
       "    </tr>\n",
       "    <tr>\n",
       "      <th>4</th>\n",
       "      <td>180.8</td>\n",
       "      <td>10.8</td>\n",
       "      <td>58.4</td>\n",
       "    </tr>\n",
       "    <tr>\n",
       "      <th>5</th>\n",
       "      <td>8.7</td>\n",
       "      <td>48.9</td>\n",
       "      <td>75.0</td>\n",
       "    </tr>\n",
       "    <tr>\n",
       "      <th>...</th>\n",
       "      <td>...</td>\n",
       "      <td>...</td>\n",
       "      <td>...</td>\n",
       "    </tr>\n",
       "    <tr>\n",
       "      <th>156</th>\n",
       "      <td>93.9</td>\n",
       "      <td>43.5</td>\n",
       "      <td>50.5</td>\n",
       "    </tr>\n",
       "    <tr>\n",
       "      <th>157</th>\n",
       "      <td>149.8</td>\n",
       "      <td>1.3</td>\n",
       "      <td>24.3</td>\n",
       "    </tr>\n",
       "    <tr>\n",
       "      <th>158</th>\n",
       "      <td>11.7</td>\n",
       "      <td>36.9</td>\n",
       "      <td>45.2</td>\n",
       "    </tr>\n",
       "    <tr>\n",
       "      <th>159</th>\n",
       "      <td>131.7</td>\n",
       "      <td>18.4</td>\n",
       "      <td>34.6</td>\n",
       "    </tr>\n",
       "    <tr>\n",
       "      <th>160</th>\n",
       "      <td>172.5</td>\n",
       "      <td>18.1</td>\n",
       "      <td>30.7</td>\n",
       "    </tr>\n",
       "  </tbody>\n",
       "</table>\n",
       "<p>160 rows × 3 columns</p>\n",
       "</div>"
      ],
      "text/plain": [
       "        TV  radio  newpaper\n",
       "1     44.5   39.3      45.1\n",
       "2     17.2   45.9      69.3\n",
       "3    151.5   41.3      58.5\n",
       "4    180.8   10.8      58.4\n",
       "5      8.7   48.9      75.0\n",
       "..     ...    ...       ...\n",
       "156   93.9   43.5      50.5\n",
       "157  149.8    1.3      24.3\n",
       "158   11.7   36.9      45.2\n",
       "159  131.7   18.4      34.6\n",
       "160  172.5   18.1      30.7\n",
       "\n",
       "[160 rows x 3 columns]"
      ]
     },
     "execution_count": 56,
     "metadata": {},
     "output_type": "execute_result"
    }
   ],
   "source": [
    "X_train"
   ]
  },
  {
   "cell_type": "code",
   "execution_count": 57,
   "metadata": {},
   "outputs": [
    {
     "name": "stdout",
     "output_type": "stream",
     "text": [
      "(160, 3)\n",
      "(39, 3)\n",
      "(160,)\n",
      "(39,)\n"
     ]
    }
   ],
   "source": [
    "print(X_train.shape)\n",
    "print(X_test.shape)\n",
    "print(y_train.shape)\n",
    "print(y_test.shape)"
   ]
  },
  {
   "cell_type": "markdown",
   "metadata": {},
   "source": [
    "## 1.Regresión lineal"
   ]
  },
  {
   "cell_type": "code",
   "execution_count": 59,
   "metadata": {},
   "outputs": [
    {
     "name": "stdout",
     "output_type": "stream",
     "text": [
      "Train MSE: 2806497.6759488443\n",
      "Test MSE: 2857963.795671228\n",
      "Test RMSE: 1690.5513289075927\n"
     ]
    }
   ],
   "source": [
    "lr = linear_model.LinearRegression()\n",
    "\n",
    "lr.fit(X_train, y_train)\n",
    "\n",
    "y_pred = lr.predict(X_test)\n",
    "baseline_error = metrics.mean_squared_error(y_test, y_pred)\n",
    "\n",
    "print(\"Train MSE:\", metrics.mean_squared_error(y_train, lr.predict(X_train)))\n",
    "print(\"Test MSE:\", metrics.mean_squared_error(y_test, lr.predict(X_test)))\n",
    "print(\"Test RMSE:\", np.sqrt(metrics.mean_squared_error(y_test, lr.predict(X_test))))"
   ]
  },
  {
   "cell_type": "markdown",
   "metadata": {},
   "source": [
    "# (Explicación contaminación entre train y test)"
   ]
  },
  {
   "attachments": {},
   "cell_type": "markdown",
   "metadata": {},
   "source": [
    "## Resultados"
   ]
  }
 ],
 "metadata": {
  "kernelspec": {
   "display_name": "Python 3",
   "language": "python",
   "name": "python3"
  },
  "language_info": {
   "codemirror_mode": {
    "name": "ipython",
    "version": 3
   },
   "file_extension": ".py",
   "mimetype": "text/x-python",
   "name": "python",
   "nbconvert_exporter": "python",
   "pygments_lexer": "ipython3",
   "version": "3.11.9"
  }
 },
 "nbformat": 4,
 "nbformat_minor": 4
}
