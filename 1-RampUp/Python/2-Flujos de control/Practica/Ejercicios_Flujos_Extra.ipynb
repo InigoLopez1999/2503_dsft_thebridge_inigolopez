{
 "cells": [
  {
   "cell_type": "markdown",
   "metadata": {},
   "source": [
    "![imagen](./img/ejercicios.png)"
   ]
  },
  {
   "cell_type": "markdown",
   "metadata": {},
   "source": [
    "# Ejercicios Flujos de control"
   ]
  },
  {
   "cell_type": "markdown",
   "metadata": {},
   "source": [
    "## Ejercicio Extra\n",
    "Programa una calculadora que\n",
    "\n",
    "* Pregunte qué operación quieres realizar (multiplicación/división/suma/resta/potencia/salir)\n",
    "* Pida dos números \n",
    "* Realice la operación\n",
    "* Siga funcionando hasta que el usuario elija salir\n",
    "\n",
    "#### Bonus:\n",
    "* Que guarde todas las operaciones realizadas y las imprima por pantalla cuando el usuario elija esa opción\n",
    "* Que sea robusta frente a entradas erróneas del usuario o frente a operaciones como dividir por 0"
   ]
  },
  {
   "cell_type": "code",
   "execution_count": null,
   "metadata": {},
   "outputs": [
    {
     "name": "stdout",
     "output_type": "stream",
     "text": [
      "Indeterminado\n",
      "Indeterminado\n",
      "Indeterminado\n",
      "Indeterminado\n",
      "Indeterminado\n",
      "Indeterminado\n",
      "Indeterminado\n"
     ]
    }
   ],
   "source": [
    "operacion = input (\"Dígame que operación desea realizar:\")\n",
    "\n",
    "while (operacion != \"multiplicar\" and operacion != \"suma\" and operacion != \"resta\" and operacion != \"división\" and operacion != \"potencia\" and operacion != \"salir\"):\n",
    "    print(\"Palabra no registrada en el archivo, vuelva a intentarlo\")\n",
    "    operacion = input (\"Dígame que operación desea realizar:\")\n",
    "\n",
    "while (operacion == \"multiplicar\" or operacion == \"suma\" or operacion == \"resta\" or operacion == \"división\" or operacion == \"potencia\"):\n",
    "    primer_num = float(input(\"Dígame el primer número para el cálculo:\"))\n",
    "    segundo_num = float(input(\"Dígame el segundo número para el cálculo:\"))\n",
    "    if operacion == \"multiplicar\":\n",
    "        resultado = primer_num * segundo_num\n",
    "        print(f\"El resultado de la multiplicación entre {primer_num} y {segundo_num} es {resultado}\")\n",
    "    elif operacion == \"suma\":\n",
    "        resultado = primer_num + segundo_num\n",
    "        print(f\"El resultado de la suma entre {primer_num} y {segundo_num} es {resultado}\")\n",
    "    elif operacion == \"división\":\n",
    "        if (primer_num == segundo_num == 0) or (segundo_num == 0):\n",
    "            print(\"Indeterminado\")\n",
    "            break\n",
    "        resultado = primer_num / segundo_num\n",
    "        print(f\"El resultado de la división entre {primer_num} y {segundo_num} es {resultado}\")\n",
    "    elif operacion == \"resta\":\n",
    "        resultado = primer_num - segundo_num\n",
    "        print(f\"El resultado de la resta entre {primer_num} y {segundo_num} es {resultado}\")\n",
    "    elif operacion == \"potencia\":\n",
    "        if primer_num == segundo_num == 0:\n",
    "            print(\"Indeterminado\")\n",
    "            break\n",
    "        resultado = primer_num ** segundo_num\n",
    "        print(f\"El resultado de {primer_num} elevado a {segundo_num} es {resultado}\")\n",
    "    elif operacion == \"salir\":\n",
    "        break\n",
    "    operacion = input (\"Dígame que operación desea realizar:\")\n",
    "    while (operacion != \"multiplicar\" and operacion != \"suma\" and operacion != \"resta\" and operacion != \"división\" and operacion != \"potencia\" and operacion != \"salir\"):\n",
    "        print(\"Palabra no registrada en el archivo, vuelva a intentarlo\")\n",
    "        operacion = input (\"Dígame que operación desea realizar:\")\n",
    "\n",
    "print(\"Gracias por usar esta calculadora. Vuelva cuando guste\")\n",
    "    "
   ]
  },
  {
   "cell_type": "code",
   "execution_count": null,
   "metadata": {},
   "outputs": [],
   "source": []
  }
 ],
 "metadata": {
  "kernelspec": {
   "display_name": "Python 3",
   "language": "python",
   "name": "python3"
  },
  "language_info": {
   "codemirror_mode": {
    "name": "ipython",
    "version": 3
   },
   "file_extension": ".py",
   "mimetype": "text/x-python",
   "name": "python",
   "nbconvert_exporter": "python",
   "pygments_lexer": "ipython3",
   "version": "3.11.9"
  }
 },
 "nbformat": 4,
 "nbformat_minor": 4
}
