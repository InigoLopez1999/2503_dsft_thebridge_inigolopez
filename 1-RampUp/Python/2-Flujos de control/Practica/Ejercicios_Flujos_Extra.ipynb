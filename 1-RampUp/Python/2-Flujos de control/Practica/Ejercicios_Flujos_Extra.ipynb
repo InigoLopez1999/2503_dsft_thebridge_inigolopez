{
 "cells": [
  {
   "cell_type": "markdown",
   "metadata": {},
   "source": [
    "![imagen](./img/ejercicios.png)"
   ]
  },
  {
   "cell_type": "markdown",
   "metadata": {},
   "source": [
    "# Ejercicios Flujos de control"
   ]
  },
  {
   "cell_type": "markdown",
   "metadata": {},
   "source": [
    "## Ejercicio Extra\n",
    "Programa una calculadora que\n",
    "\n",
    "* Pregunte qué operación quieres realizar (multiplicación/división/suma/resta/potencia/salir)\n",
    "* Pida dos números \n",
    "* Realice la operación\n",
    "* Siga funcionando hasta que el usuario elija salir\n",
    "\n",
    "#### Bonus:\n",
    "* Que guarde todas las operaciones realizadas y las imprima por pantalla cuando el usuario elija esa opción\n",
    "* Que sea robusta frente a entradas erróneas del usuario o frente a operaciones como dividir por 0"
   ]
  },
  {
   "cell_type": "code",
   "execution_count": 4,
   "metadata": {},
   "outputs": [
    {
     "name": "stdout",
     "output_type": "stream",
     "text": [
      "Palabra no registrada en el archivo, vuelva a intentarlo\n",
      "Palabra no registrada en el archivo, vuelva a intentarlo\n",
      "El resultado de la suma entre 8.0 y 9.0 es 17.0\n",
      "Indeterminado\n",
      "Gracias por usar esta calculadora. Vuelva cuando guste\n"
     ]
    }
   ],
   "source": [
    "import time\n",
    "operacion = input (\"Dígame que operación desea realizar:\")\n",
    "\n",
    "while (operacion != \"multiplicar\" and operacion != \"suma\" and operacion != \"resta\" and operacion != \"división\" and operacion != \"potencia\" and operacion != \"salir\"):\n",
    "    print(\"Palabra no registrada en el archivo, vuelva a intentarlo\")\n",
    "    time.sleep(1)\n",
    "    operacion = input (\"Dígame que operación desea realizar:\")\n",
    "\n",
    "while (operacion == \"multiplicar\" or operacion == \"suma\" or operacion == \"resta\" or operacion == \"división\" or operacion == \"potencia\"):\n",
    "    primer_num = float(input(\"Dígame el primer número para el cálculo:\"))\n",
    "    segundo_num = float(input(\"Dígame el segundo número para el cálculo:\"))\n",
    "    time.sleep(1)\n",
    "    if operacion == \"multiplicar\":\n",
    "        resultado = primer_num * segundo_num\n",
    "        print(f\"El resultado de la multiplicación entre {primer_num} y {segundo_num} es {resultado}\")\n",
    "        time.sleep(1)\n",
    "    elif operacion == \"suma\":\n",
    "        resultado = primer_num + segundo_num\n",
    "        print(f\"El resultado de la suma entre {primer_num} y {segundo_num} es {resultado}\")\n",
    "        time.sleep(1)\n",
    "    elif operacion == \"división\":\n",
    "        if (primer_num == segundo_num == 0) or (segundo_num == 0):\n",
    "            print(\"Indeterminado\")\n",
    "            break\n",
    "        resultado = primer_num / segundo_num\n",
    "        print(f\"El resultado de la división entre {primer_num} y {segundo_num} es {resultado}\")\n",
    "        time.sleep(1)\n",
    "    elif operacion == \"resta\":\n",
    "        resultado = primer_num - segundo_num\n",
    "        print(f\"El resultado de la resta entre {primer_num} y {segundo_num} es {resultado}\")\n",
    "        time.sleep(1)\n",
    "    elif operacion == \"potencia\":\n",
    "        if primer_num == segundo_num == 0:\n",
    "            print(\"Indeterminado\")\n",
    "            break\n",
    "        resultado = primer_num ** segundo_num\n",
    "        print(f\"El resultado de {primer_num} elevado a {segundo_num} es {resultado}\")\n",
    "        time.sleep(1)\n",
    "    elif operacion == \"salir\":\n",
    "        break\n",
    "    operacion = input (\"Dígame que operación desea realizar:\")\n",
    "    while (operacion != \"multiplicar\" and operacion != \"suma\" and operacion != \"resta\" and operacion != \"división\" and operacion != \"potencia\" and operacion != \"salir\"):\n",
    "        print(\"Palabra no registrada en el archivo, vuelva a intentarlo\")\n",
    "        time.sleep(1)\n",
    "        operacion = input (\"Dígame que operación desea realizar:\")\n",
    "\n",
    "print(\"Gracias por usar esta calculadora. Vuelva cuando guste\")\n",
    "    "
   ]
  },
  {
   "cell_type": "code",
   "execution_count": 14,
   "metadata": {},
   "outputs": [
    {
     "name": "stdout",
     "output_type": "stream",
     "text": [
      "La lista completa de los resultados de sus sumas hasta ahora es de [15.0]\n",
      "La lista completa de los resultados de sus restas hasta ahora es de [-3.0]\n",
      "La lista completa de los resultados de sus divisiones hasta ahora es de []\n",
      "La lista completa de los resultados de sus multiplicaciones hasta ahora es de []\n",
      "La lista completa de los resultados de sus potencias hasta ahora es de [16807.0]\n",
      "Gracias por usar esta calculadora. Vuelva cuando guste\n"
     ]
    }
   ],
   "source": [
    "import time\n",
    "operacion = input (\"Dígame que operación desea realizar:\")\n",
    "lista_sum = []\n",
    "lista_resta = []\n",
    "lista_div = []\n",
    "lista_mult = []\n",
    "lista_pot = []\n",
    "\n",
    "while (operacion != \"multiplicar\" and operacion != \"suma\" and operacion != \"resta\" and operacion != \"división\" and operacion != \"potencia\" and operacion != \"salir\"):\n",
    "    print(\"Palabra no registrada en el archivo, vuelva a intentarlo\")\n",
    "    time.sleep(1)\n",
    "    operacion = input (\"Dígame que operación desea realizar:\")\n",
    "\n",
    "while (operacion == \"multiplicar\" or operacion == \"suma\" or operacion == \"resta\" or operacion == \"división\" or operacion == \"potencia\"):\n",
    "    primer_num = float(input(\"Dígame el primer número para el cálculo:\"))\n",
    "    segundo_num = float(input(\"Dígame el segundo número para el cálculo:\"))\n",
    "    time.sleep(1)\n",
    "    if operacion == \"multiplicar\":\n",
    "        resultado = primer_num * segundo_num\n",
    "        lista_mult.append(resultado)\n",
    "        time.sleep(1)\n",
    "    elif operacion == \"suma\":\n",
    "        resultado = primer_num + segundo_num\n",
    "        lista_sum.append(resultado)\n",
    "        time.sleep(1)\n",
    "    elif operacion == \"división\":\n",
    "        if (primer_num == segundo_num == 0) or (segundo_num == 0):\n",
    "            print(\"Indeterminado\")\n",
    "            break\n",
    "        resultado = primer_num / segundo_num\n",
    "        lista_div.append(resultado)\n",
    "        time.sleep(1)\n",
    "    elif operacion == \"resta\":\n",
    "        resultado = primer_num - segundo_num\n",
    "        lista_resta.append(resultado)\n",
    "        time.sleep(1)\n",
    "    elif operacion == \"potencia\":\n",
    "        if primer_num == segundo_num == 0:\n",
    "            print(\"Indeterminado\")\n",
    "            break\n",
    "        resultado = primer_num ** segundo_num\n",
    "        lista_pot.append(resultado)\n",
    "        time.sleep(1)\n",
    "    elif operacion == \"salir\":\n",
    "        break\n",
    "    imprime = input(\"Desea imprimir sus resultados por pantalla?\")\n",
    "    if imprime == \"si\":\n",
    "        print(f\"La lista completa de los resultados de sus sumas hasta ahora es de {lista_sum}\")\n",
    "        print(f\"La lista completa de los resultados de sus restas hasta ahora es de {lista_resta}\")\n",
    "        print(f\"La lista completa de los resultados de sus divisiones hasta ahora es de {lista_div}\")\n",
    "        print(f\"La lista completa de los resultados de sus multiplicaciones hasta ahora es de {lista_mult}\")\n",
    "        print(f\"La lista completa de los resultados de sus potencias hasta ahora es de {lista_pot}\")\n",
    "        break\n",
    "    elif imprime == \"no\":\n",
    "        operacion = input (\"Dígame que operación desea realizar:\")\n",
    "    \n",
    "    while (operacion != \"multiplicar\" and operacion != \"suma\" and operacion != \"resta\" and operacion != \"división\" and operacion != \"potencia\" and operacion != \"salir\"):\n",
    "        print(\"Palabra no registrada en el archivo, vuelva a intentarlo\")\n",
    "        time.sleep(1)\n",
    "        operacion = input (\"Dígame que operación desea realizar:\")\n",
    "\n",
    "print(\"Gracias por usar esta calculadora. Vuelva cuando guste\")"
   ]
  }
 ],
 "metadata": {
  "kernelspec": {
   "display_name": "Python 3",
   "language": "python",
   "name": "python3"
  },
  "language_info": {
   "codemirror_mode": {
    "name": "ipython",
    "version": 3
   },
   "file_extension": ".py",
   "mimetype": "text/x-python",
   "name": "python",
   "nbconvert_exporter": "python",
   "pygments_lexer": "ipython3",
   "version": "3.11.9"
  }
 },
 "nbformat": 4,
 "nbformat_minor": 4
}
