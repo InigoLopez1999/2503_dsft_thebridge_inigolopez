{
 "cells": [
  {
   "cell_type": "markdown",
   "metadata": {},
   "source": [
    "![imagen](./img/ejercicios.png)"
   ]
  },
  {
   "cell_type": "markdown",
   "metadata": {},
   "source": [
    "# Ejercicios Flujos de control"
   ]
  },
  {
   "cell_type": "markdown",
   "metadata": {},
   "source": [
    "## Ejercicio Extra\n",
    "Programa una calculadora que\n",
    "\n",
    "* Pregunte qué operación quieres realizar (multiplicación/división/suma/resta/potencia/salir)\n",
    "* Pida dos números \n",
    "* Realice la operación\n",
    "* Siga funcionando hasta que el usuario elija salir\n",
    "\n",
    "#### Bonus:\n",
    "* Que guarde todas las operaciones realizadas y las imprima por pantalla cuando el usuario elija esa opción\n",
    "* Que sea robusta frente a entradas erróneas del usuario o frente a operaciones como dividir por 0"
   ]
  },
  {
   "cell_type": "code",
   "execution_count": 25,
   "metadata": {},
   "outputs": [
    {
     "name": "stdout",
     "output_type": "stream",
     "text": [
      "El resultado de 6.0 elevado a 4.0 es 1296.0\n"
     ]
    }
   ],
   "source": [
    "operacion = input (\"Dígame que operación desea realizar:\")\n",
    "\n",
    "if operacion == \"multiplicar\" or operacion == \"suma\" or operacion == \"resta\" or operacion == \"división\" or operacion == \"potencia\":\n",
    "    primer_num = float(input(\"Dígame el primer número para el cálculo:\"))\n",
    "    segundo_num = float(input(\"Dígame el segundo número para el cálculo:\"))\n",
    "    if operacion == \"multiplicar\":\n",
    "        resultado = primer_num * segundo_num\n",
    "        print(f\"El resultado de la multiplicación entre {primer_num} y {segundo_num} es {resultado}\")\n",
    "    elif operacion == \"suma\":\n",
    "        resultado = primer_num + segundo_num\n",
    "        print(f\"El resultado de la suma entre {primer_num} y {segundo_num} es {resultado}\")\n",
    "    elif operacion == \"división\":\n",
    "        elecc_1 = float(input(\"Qué número desea como dividendo?\"))\n",
    "        if elecc_1 == primer_num:\n",
    "            resultado = primer_num / segundo_num\n",
    "            print(f\"El resultado de la división entre {primer_num} y {segundo_num} es {resultado}\")\n",
    "        elif elecc_1 == segundo_num:\n",
    "            resultado = segundo_num / primer_num\n",
    "            print(f\"El resultado de la división entre {segundo_num} y {primer_num} es {resultado}\")\n",
    "    elif operacion == \"resta\":\n",
    "        elecc_2 = float(input(\"Qué número desea como minuendo?\"))\n",
    "        if elecc_2 == primer_num:\n",
    "            resultado = primer_num - segundo_num\n",
    "            print(f\"El resultado de la resta entre {primer_num} y {segundo_num} es {resultado}\")\n",
    "        elif elecc_2 == segundo_num:\n",
    "            resultado = segundo_num - primer_num\n",
    "            print(f\"El resultado de la resta entre {segundo_num} y {primer_num} es {resultado}\")\n",
    "    elif operacion == \"potencia\":\n",
    "        elecc_3 = float(input(\"Qué número desea como base?\"))\n",
    "        if elecc_3 == primer_num:\n",
    "            resultado = primer_num ** segundo_num\n",
    "            print(f\"El resultado de {primer_num} elevado a {segundo_num} es {resultado}\")\n",
    "        elif elecc_3 == segundo_num:\n",
    "            resultado = segundo_num ** primer_num\n",
    "            print(f\"El resultado de {segundo_num} elevado a {primer_num} es {resultado}\")\n",
    "elif operacion == \"salir\":\n",
    "    print(\"Gracias por usar esta calculadora. Vuelva cuando guste\")\n",
    "    "
   ]
  },
  {
   "cell_type": "code",
   "execution_count": null,
   "metadata": {},
   "outputs": [],
   "source": []
  }
 ],
 "metadata": {
  "kernelspec": {
   "display_name": "Python 3",
   "language": "python",
   "name": "python3"
  },
  "language_info": {
   "codemirror_mode": {
    "name": "ipython",
    "version": 3
   },
   "file_extension": ".py",
   "mimetype": "text/x-python",
   "name": "python",
   "nbconvert_exporter": "python",
   "pygments_lexer": "ipython3",
   "version": "3.11.9"
  }
 },
 "nbformat": 4,
 "nbformat_minor": 4
}
