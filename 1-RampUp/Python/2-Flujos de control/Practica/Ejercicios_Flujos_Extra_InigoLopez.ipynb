{
 "cells": [
  {
   "cell_type": "markdown",
   "metadata": {},
   "source": [
    "![imagen](./img/ejercicios.png)"
   ]
  },
  {
   "cell_type": "markdown",
   "metadata": {},
   "source": [
    "# Ejercicios Flujos de control"
   ]
  },
  {
   "cell_type": "markdown",
   "metadata": {},
   "source": [
    "## Ejercicio Extra\n",
    "Programa una calculadora que\n",
    "\n",
    "* Pregunte qué operación quieres realizar (multiplicación/división/suma/resta/potencia/salir)\n",
    "* Pida dos números \n",
    "* Realice la operación\n",
    "* Siga funcionando hasta que el usuario elija salir\n",
    "\n",
    "#### Bonus:\n",
    "* Que guarde todas las operaciones realizadas y las imprima por pantalla cuando el usuario elija esa opción\n",
    "* Que sea robusta frente a entradas erróneas del usuario o frente a operaciones como dividir por 0"
   ]
  },
  {
   "cell_type": "code",
   "execution_count": 1,
   "metadata": {},
   "outputs": [
    {
     "name": "stdout",
     "output_type": "stream",
     "text": [
      "Palabra no registrada en el archivo, vuelva a intentarlo\n",
      "Palabra no registrada en el archivo, vuelva a intentarlo\n",
      "La lista completa de los resultados de sus sumas hasta ahora es de [15.0]\n",
      "La lista completa de los resultados de sus restas hasta ahora es de [-3.0]\n",
      "La lista completa de los resultados de sus divisiones hasta ahora es de []\n",
      "La lista completa de los resultados de sus multiplicaciones hasta ahora es de []\n",
      "La lista completa de los resultados de sus potencias hasta ahora es de [64.0]\n",
      "Gracias por usar esta calculadora. Vuelva cuando guste\n"
     ]
    }
   ],
   "source": [
    "import time # importo la librería time para facilitar la fluidez del programa\n",
    "operacion = input (\"Dígame que operación desea realizar:\") # declaro la variable operacion como el input que controla la operación a realizar\n",
    "lista_sum = [] # declaro las 5 listas donde voy a almacenar todos los resultados para cada operación\n",
    "lista_resta = []\n",
    "lista_div = []\n",
    "lista_mult = []\n",
    "lista_pot = []\n",
    "\n",
    "while (operacion != \"multiplicar\" and operacion != \"suma\" and operacion != \"resta\" and operacion != \"división\" and operacion != \"potencia\" and operacion != \"salir\"): \n",
    "    # este primer while controla que se incluya una de las operaciones concretas o la instrucción salir, de lo contrario saltará el mensaje de volver a intentarlo.\n",
    "    # hasta que el usuario no escriba las palabras concretas no saltará al siguiente while\n",
    "    print(\"Palabra no registrada en el archivo, vuelva a intentarlo\")\n",
    "    time.sleep(1) # estos comandos hacen que el programa se tome un segundo para procesar los datos y que todos los resultados queden reflejados\n",
    "    operacion = input (\"Dígame que operación desea realizar:\") # el while repetirá el input para introducir la operación hasta que reciba las palabras determinadas\n",
    "\n",
    "while (operacion == \"multiplicar\" or operacion == \"suma\" or operacion == \"resta\" or operacion == \"división\" or operacion == \"potencia\"):\n",
    "    # este segundo while se activa cuando el usuario mete las palabras concretas de operación matemática\n",
    "    primer_num = float(input(\"Dígame el primer número para el cálculo:\"))\n",
    "    segundo_num = float(input(\"Dígame el segundo número para el cálculo:\")) # primero pide los dos números con los que va a operar\n",
    "    time.sleep(1)\n",
    "    if operacion == \"multiplicar\": # en caso de que se quiera multiplicar\n",
    "        resultado = primer_num * segundo_num\n",
    "        lista_mult.append(resultado) # se añade el resultado a la lista de multiplicaciones\n",
    "        time.sleep(1)\n",
    "    elif operacion == \"suma\": # en caso de que se quiera sumar\n",
    "        resultado = primer_num + segundo_num\n",
    "        lista_sum.append(resultado) # se añade el resultado a la lista de sumas\n",
    "        time.sleep(1)\n",
    "    elif operacion == \"división\": # en caso de que se quiera dividir\n",
    "        if (primer_num == segundo_num == 0) or (segundo_num == 0):\n",
    "            print(\"Indeterminado\") # en caso de que se dé la operación 0/0 o cualquier número dividido por 0 se saldrá del bucle y la pantalla indicará la indeterminación\n",
    "            break \n",
    "        resultado = primer_num / segundo_num\n",
    "        lista_div.append(resultado) # se añade el resultado a la lista de divisiones\n",
    "        time.sleep(1)\n",
    "    elif operacion == \"resta\": # en caso de que se quiera restar\n",
    "        resultado = primer_num - segundo_num\n",
    "        lista_resta.append(resultado) # se añade el resultado a la lista de restas\n",
    "        time.sleep(1)\n",
    "    elif operacion == \"potencia\": # en caso de que se quiera una potenciación\n",
    "        if primer_num == segundo_num == 0:\n",
    "            print(\"Indeterminado\") # en caso de que se dé la operación 0**0 la pantalla indicará la indeterminación\n",
    "            break\n",
    "        resultado = primer_num ** segundo_num\n",
    "        lista_pot.append(resultado) # se añade el resultado a la lista de potencias\n",
    "        time.sleep(1)\n",
    "    elif operacion == \"salir\": # tal como indica el enunciado, si el usuario indica \"salir\", se romperá el bucle y el programa acabará\n",
    "        break\n",
    "    imprime = input(\"Desea imprimir sus resultados por pantalla?\") # a continuación, tras cada cálculo, el programa pregunta si se desea imprimir los resultados\n",
    "    if imprime == \"si\": # en caso afirmativo el programa imprimirá las listas de todas las operaciones con los resultados incluidos hasta ese momento\n",
    "        print(f\"La lista completa de los resultados de sus sumas hasta ahora es de {lista_sum}\")\n",
    "        print(f\"La lista completa de los resultados de sus restas hasta ahora es de {lista_resta}\")\n",
    "        print(f\"La lista completa de los resultados de sus divisiones hasta ahora es de {lista_div}\")\n",
    "        print(f\"La lista completa de los resultados de sus multiplicaciones hasta ahora es de {lista_mult}\")\n",
    "        print(f\"La lista completa de los resultados de sus potencias hasta ahora es de {lista_pot}\")\n",
    "        break # una vez impresos los resultados se finaliza el programa\n",
    "    elif imprime == \"no\":\n",
    "        operacion = input (\"Dígame que operación desea realizar:\") # si no se desea imprimir los resultados se sigue preguntando por nuevas operaciones hasta que se desee salir del programa\n",
    "    \n",
    "    while (operacion != \"multiplicar\" and operacion != \"suma\" and operacion != \"resta\" and operacion != \"división\" and operacion != \"potencia\" and operacion != \"salir\"):\n",
    "        print(\"Palabra no registrada en el archivo, vuelva a intentarlo\")\n",
    "        time.sleep(1)\n",
    "        operacion = input (\"Dígame que operación desea realizar:\") # este segundo while es idéntico al primero y lo he anidado en el while de las operaciones\n",
    "        # en caso de que el usuario escriba una palabra errónea tras escribir alguna operación con éxito y así siga preguntando por nuevas operaciones\n",
    "\n",
    "print(\"Gracias por usar esta calculadora. Vuelva cuando guste\")"
   ]
  }
 ],
 "metadata": {
  "kernelspec": {
   "display_name": "Python 3",
   "language": "python",
   "name": "python3"
  },
  "language_info": {
   "codemirror_mode": {
    "name": "ipython",
    "version": 3
   },
   "file_extension": ".py",
   "mimetype": "text/x-python",
   "name": "python",
   "nbconvert_exporter": "python",
   "pygments_lexer": "ipython3",
   "version": "3.11.9"
  }
 },
 "nbformat": 4,
 "nbformat_minor": 4
}
