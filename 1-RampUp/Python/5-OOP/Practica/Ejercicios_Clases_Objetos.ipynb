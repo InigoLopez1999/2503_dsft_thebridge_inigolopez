{
 "cells": [
  {
   "cell_type": "markdown",
   "metadata": {},
   "source": [
    "![imagen](./img/ejercicios.png)\n",
    "\n",
    "# Ejercicios Clases y Objetos"
   ]
  },
  {
   "attachments": {},
   "cell_type": "markdown",
   "metadata": {},
   "source": [
    "## Ejercicio 1\n",
    "Somos una empresa que tiene varias tiendas de electrodomésticos. Necesitamos un programa para manejar las tiendas, ver las ventas que han tenido, cuántos empleados hay, etc... Para ello vamos a modelizar la tienda en una clase, que tendrá las siguientes características:\n",
    "* Nombre clase: \"Tienda\"\n",
    "* Atributos comunes:\n",
    "    * Tipo: \"Electrodomésticos\"\n",
    "    * Abierta: True\n",
    "* Atributos propios de cada tienda:\n",
    "    * Nombre - String\n",
    "    * Dirección - String\n",
    "    * Número de empleados - int\n",
    "    * Ventas últimos 3 meses - Lista de 3 numeros\n",
    "* Método para calcular las ventas de todos los meses, que devuelva un número con todas las ventas.\n",
    "* Método que calcula la media de ventas de los últimos meses, por empleado\n",
    "* Método que devuelve en un string el nombre de la tienda, junto con su dirección.\n",
    "* Método que obtiene las ventas del último mes.\n",
    "* Método para dar una proyección de las ventas en caso de haber invertido X dinero en marketing en esa tienda. Siendo X el parámetro de entrada. Si X es menor de 1000, las ventas de los ultimos 3 meses hubiesen sido de (1.2 x ventas), si es mayor o igual de 1000, las ventas hubiesen sido de (1.5 x venta). El método reescribe el atributo de ventas en los últimos 3 meses, y además devuelve las ventas con el aumento.\n",
    "\n",
    "Se pide:\n",
    "1. Implementar la clase \"Tienda\"\n",
    "2. Crear tres tiendas con datos inventados\n",
    "3. Comprueba en al menos una de ellas, todo lo implementado en la clase tienda (sus atributos, media de ventas, ventas/empleado...)\n",
    "3. Calcular las ventas del último mes de todas las tiendas. Para ello usa el bucle `for`\n",
    "4. Imprime por pantalla los nombres de las tiendas cuya dirección lleve el string \"Avenida\"\n",
    "5. Seguro que ya has hecho este apartado... Documenta la clase :)"
   ]
  },
  {
   "cell_type": "code",
   "execution_count": 33,
   "metadata": {},
   "outputs": [],
   "source": [
    "class Tienda:\n",
    "    '''\n",
    "    Clase Tienda: utilizada para conocer las ventas de una tienda a lo largo de 3 meses, conocer su nombre y dirección\n",
    "    y adicionalmente en función de una inversión inicial, saber cómo varían las ventas totales en esos 3 meses en función\n",
    "    de esa inversión inicial\n",
    "\n",
    "    Parámetros invariables:\n",
    "        - el tipo de artículos en venta: electrodomésticos\n",
    "        - si está o no abierta la tienda (siempre está abierta)\n",
    "    \n",
    "    Parámetros que si varían:\n",
    "        - el nombre del establecimiento (nombre)\n",
    "        - la dirección del mismo (direccion)\n",
    "        - el número de empleados que tiene esa tienda (num_empleados)\n",
    "        - una lista con las ventas en los últimos 3 meses (ventas_3meses)\n",
    "    '''\n",
    "    tipo = \"Electrodomésticos\"\n",
    "    abierta = True\n",
    "\n",
    "    def __init__(self, nombre:str, direccion:str, num_empleados:int, ventas_3meses:list = [20,40,60]):\n",
    "        '''\n",
    "        Constructor con los argumentos de entrada variables definidos previamente\n",
    "        '''\n",
    "        self.nombre = nombre\n",
    "        self.direccion = direccion\n",
    "        self.num_empleados = num_empleados\n",
    "        self.ventas3_meses = ventas_3meses\n",
    "    \n",
    "    def ventas_todos_meses (self):\n",
    "        '''\n",
    "        Primer método para obtener las ventas de todos los meses\n",
    "\n",
    "            1. En primer lugar se crea una variable cuenta_precios incializada a 0\n",
    "            2. A continuación se recorre cada elemento de la lista con un bucle for para ir sumándolos uno a uno\n",
    "            3. Este primer método devuelve la variable cuenta_precios con todos los elementos de la lista sumados\n",
    "        '''\n",
    "        cuenta_precios = 0\n",
    "        for i in self.ventas3_meses:\n",
    "            cuenta_precios = cuenta_precios + i\n",
    "        return cuenta_precios\n",
    "       \n",
    "    def media_ventas (self):\n",
    "        '''\n",
    "        Segundo método para obtener la media de ventas totales del establecimiento en función del número de empleados de la misma\n",
    "\n",
    "            1. Se crea una variable que almacenará la media de ventas por número de empleados\n",
    "            2. Se llama al método previamente creado que nos daba las ventas totales y lo dividimos por el número de empleados correspondiente a la tienda\n",
    "            3. Este segundo método devuelve ese cociente redondeado a 1 decimal\n",
    "        '''\n",
    "        media_empleado = self.ventas_todos_meses()/self.num_empleados\n",
    "        return round(media_empleado,1)\n",
    "    \n",
    "    def nombre_direccion (self):\n",
    "        '''\n",
    "        Tercer método para obtener la concatenación entre el nombre de la tienda y su respectiva dirección\n",
    "\n",
    "            1. Este tercer método devuelve ambos strings unidos por una coma\n",
    "\n",
    "        '''\n",
    "        return self.nombre + \", \" + self.direccion\n",
    "    \n",
    "    def ventas_ultimo_mes (self):\n",
    "        '''\n",
    "        Cuarto método para  obtener el último elemento de la lista de ventas correspondiente al último mes\n",
    "\n",
    "            1. Este cuarto método devuelve el último elemento de la lista de los 3 meses de ventas\n",
    "        '''\n",
    "        return self.ventas3_meses[-1]\n",
    "    \n",
    "    def proyeccion_ventas (self, inversion):\n",
    "        '''\n",
    "        Quinto método para obtener un nuevo valor de ventas totales durante los 3 meses en función de un parámetro inicial de inversión\n",
    "\n",
    "            1. Un primer if comprueba si el valor de inversión introducido como parámetro es menor que 1000 y si lo es, asigna un nuevo valor de vantas\n",
    "            totales correspondiente al valor inicial * 1.2\n",
    "            2. En caso contrario, se redefine el valor de ventas totales como el inicial * 1.5\n",
    "            3. Este método devuelve las ventas totales en función de la inversión inicial\n",
    "        '''\n",
    "        if inversion < 1000:\n",
    "            ventas_inversion = self.ventas_todos_meses() * 1.2\n",
    "        else:\n",
    "            ventas_inversion = self.ventas_todos_meses() * 1.5\n",
    "        return ventas_inversion\n",
    "\n",
    " "
   ]
  },
  {
   "cell_type": "code",
   "execution_count": 34,
   "metadata": {},
   "outputs": [
    {
     "name": "stdout",
     "output_type": "stream",
     "text": [
      "1000\n",
      "43.5\n",
      "Casa Pepe, Calle Mayor\n",
      "300\n"
     ]
    }
   ],
   "source": [
    "mi_tienda1 = Tienda(\"Casa Pepe\",\"Calle Mayor\",23,[500,200,300]) # declaramos una variable como la primera tienda y le asignamos atributos iniciales\n",
    "print(mi_tienda1.ventas_todos_meses()) # comprobamos que todos los métodos descritos en la case Tienda funcionen\n",
    "print(mi_tienda1.media_ventas())\n",
    "print(mi_tienda1.nombre_direccion())\n",
    "print(mi_tienda1.ventas_ultimo_mes())"
   ]
  },
  {
   "cell_type": "code",
   "execution_count": 35,
   "metadata": {},
   "outputs": [
    {
     "name": "stdout",
     "output_type": "stream",
     "text": [
      "4100\n",
      "82.0\n",
      "Supersonido, Avenida de los chopos\n",
      "1700\n",
      "4920.0\n"
     ]
    }
   ],
   "source": [
    "mi_tienda2 = Tienda(\"Supersonido\",\"Avenida de los chopos\",50,[1500,900,1700]) # variable con sus atributos para la segunda tienda\n",
    "print(mi_tienda2.ventas_todos_meses()) # comprobación de los métodos\n",
    "print(mi_tienda2.media_ventas())\n",
    "print(mi_tienda2.nombre_direccion())\n",
    "print(mi_tienda2.ventas_ultimo_mes())\n",
    "print(mi_tienda2.proyeccion_ventas(900))"
   ]
  },
  {
   "cell_type": "code",
   "execution_count": 36,
   "metadata": {},
   "outputs": [
    {
     "name": "stdout",
     "output_type": "stream",
     "text": [
      "1150\n",
      "76.7\n",
      "Mediamarkt, Avenida Elíptica\n",
      "500\n",
      "1725.0\n"
     ]
    }
   ],
   "source": [
    "mi_tienda3 = Tienda(\"Mediamarkt\",\"Avenida Elíptica\",15,[400,250,500]) # variable con sus atributos para la tercera tienda\n",
    "print(mi_tienda3.ventas_todos_meses()) # comprobación de los métodos\n",
    "print(mi_tienda3.media_ventas())\n",
    "print(mi_tienda3.nombre_direccion())\n",
    "print(mi_tienda3.ventas_ultimo_mes())\n",
    "print(mi_tienda3.proyeccion_ventas(1200))"
   ]
  },
  {
   "cell_type": "code",
   "execution_count": 37,
   "metadata": {},
   "outputs": [
    {
     "name": "stdout",
     "output_type": "stream",
     "text": [
      "[300, 1700, 500]\n"
     ]
    }
   ],
   "source": [
    "lista_ventas = [] # queremos aislar las ventas del último mes de cada tienda. Para ello creamos en primer lugar una lista vacía\n",
    "for i in mi_tienda1.ventas3_meses,mi_tienda2.ventas3_meses,mi_tienda3.ventas3_meses: # creamos un bucle for que vaya recorriendo las listas con las \n",
    "    # ventas de los 3 meses para cada tienda\n",
    "    lista_ventas.append(i[-1]) # añadimos el último valor de cada lista a la nueva lista vacía\n",
    "print(lista_ventas)"
   ]
  },
  {
   "cell_type": "code",
   "execution_count": 38,
   "metadata": {},
   "outputs": [
    {
     "name": "stdout",
     "output_type": "stream",
     "text": [
      "Esta tienda no se encuentra en ninguna avenida\n",
      "Supersonido\n",
      "Mediamarkt\n"
     ]
    }
   ],
   "source": [
    "for i in mi_tienda1.__dict__,mi_tienda2.__dict__,mi_tienda3.__dict__: # en primer lugar recorremos los diccionarios correspondientes a cada tienda con un for\n",
    "    if \"Avenida\" in i[\"direccion\"]: # en el caso en el que la palabra \"Avenida\" esté como valor asigando a cualquier claver \"dirección\" en cualquiera de las 3 tiendas\n",
    "        print(i[\"nombre\"]) # se imprimirá el nombre de la tienda asociado a la tienda que cumpla con la condición del if\n",
    "    else: # he implementado un else que, en caso de que la tienda no se encuentre en una avenida, se indique de igual manera\n",
    "        print(\"Esta tienda no se encuentra en ninguna avenida\")"
   ]
  },
  {
   "cell_type": "code",
   "execution_count": 58,
   "metadata": {},
   "outputs": [
    {
     "name": "stdout",
     "output_type": "stream",
     "text": [
      "\n",
      "    Clase Tienda: utilizada para conocer las ventas de una tienda a lo largo de 3 meses, conocer su nombre y dirección\n",
      "    y adicionalmente en función de una inversión inicial, saber cómo varían las ventas totales en esos 3 meses en función\n",
      "    de esa inversión inicial\n",
      "\n",
      "    Parámetros invariables:\n",
      "        - el tipo de artículos en venta: electrodomésticos\n",
      "        - si está o no abierta la tienda (siempre está abierta)\n",
      "    \n",
      "    Parámetros que si varían:\n",
      "        - el nombre del establecimiento (nombre)\n",
      "        - la dirección del mismo (direccion)\n",
      "        - el número de empleados que tiene esa tienda (num_empleados)\n",
      "        - una lista con las ventas en los últimos 3 meses (ventas_3meses)\n",
      "    \n",
      "\n",
      "        Constructor con los argumentos de entrada variables definidos previamente\n",
      "        \n",
      "\n",
      "        Primer método para obtener las ventas de todos los meses\n",
      "\n",
      "            1. En primer lugar se crea una variable cuenta_precios incializada a 0\n",
      "            2. A continuación se recorre cada elemento de la lista con un bucle for para ir sumándolos uno a uno\n",
      "            3. Este primer método devuelve la variable cuenta_precios con todos los elementos de la lista sumados\n",
      "        \n",
      "\n",
      "        Segundo método para obtener la media de ventas totales del establecimiento en función del número de empleados de la misma\n",
      "\n",
      "            1. Se crea una variable que almacenará la media de ventas por número de empleados\n",
      "            2. Se llama al método previamente creado que nos daba las ventas totales y lo dividimos por el número de empleados correspondiente a la tienda\n",
      "            3. Este segundo método devuelve ese cociente redondeado a 1 decimal\n",
      "        \n",
      "\n",
      "        Cuarto método para  obtener el último elemento de la lista de ventas correspondiente al último mes\n",
      "\n",
      "            1. Este cuarto método devuelve el último elemento de la lista de los 3 meses de ventas\n",
      "        \n",
      "\n",
      "        Quinto método para obtener un nuevo valor de ventas totales durante los 3 meses en función de un parámetro inicial de inversión\n",
      "\n",
      "            1. Un primer if comprueba si el valor de inversión introducido como parámetro es menor que 1000 y si lo es, asigna un nuevo valor de vantas\n",
      "            totales correspondiente al valor inicial * 1.2\n",
      "            2. En caso contrario, se redefine el valor de ventas totales como el inicial * 1.5\n",
      "            3. Este método devuelve las ventas totales en función de la inversión inicial\n",
      "        \n"
     ]
    }
   ],
   "source": [
    "print(mi_tienda1.__doc__)\n",
    "print(mi_tienda1.__init__.__doc__)\n",
    "print(mi_tienda1.ventas_todos_meses.__doc__)\n",
    "print(mi_tienda1.media_ventas.__doc__)\n",
    "print(mi_tienda1.ventas_ultimo_mes.__doc__)\n",
    "print(mi_tienda1.proyeccion_ventas.__doc__)"
   ]
  },
  {
   "cell_type": "markdown",
   "metadata": {},
   "source": [
    "## Ejercicio 2\n",
    "En este ejercicio vamos a implementar una clase *Perro* en Python. La clase tiene las siguientes características:\n",
    "* Cosas que sabemos seguro que tiene un perro\n",
    "    * Tiene 4 patas\n",
    "    * 2 orejas\n",
    "    * 2 ojos\n",
    "    * Una velocidad de 0. Por defecto, el perro está parado\n",
    "* Cuando se inicialice:\n",
    "    * El perro será de una determinada raza\n",
    "    * Por defecto tendrá pelo \"Marrón\", a no ser que se diga lo contrario.\n",
    "    * Por defecto no tendrá dueño, a no ser que se diga lo contrario.\n",
    "    \n",
    "* Dispondrá también de un método llamado andar, que tiene un argumento de entrada (aumento_velocidad). Este valor se le sumará a la velocidad que ya llevaba el perro.\n",
    "* Necesita otro método (parar), donde pondremos la velocidad a 0.\n",
    "* Otro método llamado \"ladrar\", que tendrá un argumento de entrada, y la salida será el siguiente string: \"GUAU!\" + el argumento de entrada.\n",
    "\n",
    "\n",
    "Se pide:\n",
    "* Implementa la clase *Perro*\n",
    "* Crea un objeto de tipo *Perro*, sin dueño\n",
    "* Comprueba que están bien todos sus atributos\n",
    "* Prueba que ande, y comprueba su velocidad\n",
    "* Páralo\n",
    "* Documenta la clase *Perro*"
   ]
  },
  {
   "cell_type": "code",
   "execution_count": 60,
   "metadata": {},
   "outputs": [],
   "source": [
    "class Perro:\n",
    "    '''\n",
    "    Clase Perro: utilizada para hacer que un perro avance a cierta velocidad, se detenga o ladre\n",
    "    un texto que el usuario le facilite\n",
    "\n",
    "    Parámetros invariables:\n",
    "        - las patas de un perro (4)\n",
    "        - las orejas de un perro (2)\n",
    "        - los ojos de un perro (2)\n",
    "    \n",
    "    Parámetros que sí varían:\n",
    "        - la raza del perro\n",
    "        - el color del pelo del perro\n",
    "        - el dueño (puede tener o no)\n",
    "        - la velocidad inicial del perro (por defecto está parado)\n",
    "    '''\n",
    "    patas = 4\n",
    "    orejas = 2\n",
    "    ojos = 2\n",
    "\n",
    "    def __init__(self, raza:str, pelo = \"Marrón\", dueño = None, velocidad = 0):\n",
    "        '''\n",
    "        Constructor con los argumentos de entrada variables definidos previamente\n",
    "        '''\n",
    "        self.raza = raza\n",
    "        self.pelo = pelo\n",
    "        self.dueño = dueño\n",
    "        self.velocidad = velocidad\n",
    "    \n",
    "    def andar (self,aumento_velocidad):\n",
    "        '''\n",
    "        Primer método para incrementar la velocidad del perro\n",
    "\n",
    "            1. Se define una nueva variable como la suma de la velocidad inicial\n",
    "            indicada en el argumento (por defecto 0) y el argumento de este método\n",
    "            correspondiente al aumento de velocidad\n",
    "            2. Este método devuelve el incremento de velocidad determinada por el usuario\n",
    "        '''\n",
    "        nueva_velocidad = aumento_velocidad + self.velocidad\n",
    "        return \"El perro ha aumentado la velocidad hasta los \" + str(nueva_velocidad) + \" km/h\"\n",
    "    \n",
    "    def parar (self):\n",
    "        '''\n",
    "        Segundo método que detiene al perro\n",
    "\n",
    "            1. Se establece la velocidad del perro a 0 (se detiene)\n",
    "            2. Devuelve un texto por pantalla para indicar el nuevoe stado del perro\n",
    "        '''\n",
    "        self.velocidad = 0\n",
    "        return \"El perro está quieto\"\n",
    "    \n",
    "    def ladrido (self, texto:str):\n",
    "        '''\n",
    "        Tercer método que hace que el perro ladre y añada un texto de tipo string al mismo\n",
    "\n",
    "            1. Este método devuelve un ladrido (GUAU!) concatenado a un texto introducido por el usuario\n",
    "        '''\n",
    "        return \"GUAU! \" + texto\n"
   ]
  },
  {
   "cell_type": "code",
   "execution_count": 61,
   "metadata": {},
   "outputs": [
    {
     "name": "stdout",
     "output_type": "stream",
     "text": [
      "El perro ha aumentado la velocidad hasta los 20 km/h\n",
      "El perro está quieto\n",
      "GUAU! soy un perro!\n"
     ]
    }
   ],
   "source": [
    "caniche = Perro(\"Caniche\", \"Blanco\",velocidad = 10) # se define un nuevo perro con los siguientes argumentos iniciales\n",
    "print(caniche.andar(10)) # se prueban los métodos descritos\n",
    "print(caniche.parar())\n",
    "print(caniche.ladrido(\"soy un perro!\"))"
   ]
  },
  {
   "cell_type": "code",
   "execution_count": 62,
   "metadata": {},
   "outputs": [
    {
     "name": "stdout",
     "output_type": "stream",
     "text": [
      "{'raza': 'Caniche', 'pelo': 'Blanco', 'dueño': None, 'velocidad': 0}\n"
     ]
    }
   ],
   "source": [
    "print(caniche.__dict__) # se imprime el diccionario del nuevo perro para ver sus características\n",
    "# en este caso velocidad es 0 a pesar de haberla definido previamente con 10 ya que se ha hecho un print del método parar\n",
    "# de manera que se reasigna el valor de velocidad a 0"
   ]
  },
  {
   "cell_type": "code",
   "execution_count": 64,
   "metadata": {},
   "outputs": [
    {
     "name": "stdout",
     "output_type": "stream",
     "text": [
      "\n",
      "    Clase Perro: utilizada para hacer que un perro avance a cierta velocidad, se detenga o ladre\n",
      "    un texto que el usuario le facilite\n",
      "\n",
      "    Parámetros invariables:\n",
      "        - las patas de un perro (4)\n",
      "        - las orejas de un perro (2)\n",
      "        - los ojos de un perro (2)\n",
      "    \n",
      "    Parámetros que sí varían:\n",
      "        - la raza del perro\n",
      "        - el color del pelo del perro\n",
      "        - el dueño (puede tener o no)\n",
      "        - la velocidad inicial del perro (por defecto está parado)\n",
      "    \n",
      "\n",
      "        Constructor con los argumentos de entrada variables definidos previamente\n",
      "        \n",
      "\n",
      "        Primer método para incrementar la velocidad del perro\n",
      "\n",
      "            1. Se define una nueva variable como la suma de la velocidad inicial\n",
      "            indicada en el argumento (por defecto 0) y el argumento de este método\n",
      "            correspondiente al aumento de velocidad\n",
      "            2. Este método devuelve el incremento de velocidad determinada por el usuario\n",
      "        \n",
      "\n",
      "        Segundo método que detiene al perro\n",
      "\n",
      "            1. Se establece la velocidad del perro a 0 (se detiene)\n",
      "            2. Devuelve un texto por pantalla para indicar el nuevoe stado del perro\n",
      "        \n",
      "\n",
      "        Tercer método que hace que el perro ladre y añada un texto de tipo string al mismo\n",
      "\n",
      "            1. Este método devuelve un ladrido (GUAU!) concatenado a un texto introducido por el usuario\n",
      "        \n"
     ]
    }
   ],
   "source": [
    "print(caniche.__doc__)\n",
    "print(caniche.__init__.__doc__)\n",
    "print(caniche.andar.__doc__)\n",
    "print(caniche.parar.__doc__)\n",
    "print(caniche.ladrido.__doc__)"
   ]
  }
 ],
 "metadata": {
  "kernelspec": {
   "display_name": "Python 3",
   "language": "python",
   "name": "python3"
  },
  "language_info": {
   "codemirror_mode": {
    "name": "ipython",
    "version": 3
   },
   "file_extension": ".py",
   "mimetype": "text/x-python",
   "name": "python",
   "nbconvert_exporter": "python",
   "pygments_lexer": "ipython3",
   "version": "3.11.9"
  }
 },
 "nbformat": 4,
 "nbformat_minor": 4
}
