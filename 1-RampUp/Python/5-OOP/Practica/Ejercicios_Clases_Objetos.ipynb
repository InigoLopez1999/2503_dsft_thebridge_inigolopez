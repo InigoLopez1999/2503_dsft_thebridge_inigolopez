{
 "cells": [
  {
   "cell_type": "markdown",
   "metadata": {},
   "source": [
    "![imagen](./img/ejercicios.png)\n",
    "\n",
    "# Ejercicios Clases y Objetos"
   ]
  },
  {
   "attachments": {},
   "cell_type": "markdown",
   "metadata": {},
   "source": [
    "## Ejercicio 1\n",
    "Somos una empresa que tiene varias tiendas de electrodomésticos. Necesitamos un programa para manejar las tiendas, ver las ventas que han tenido, cuántos empleados hay, etc... Para ello vamos a modelizar la tienda en una clase, que tendrá las siguientes características:\n",
    "* Nombre clase: \"Tienda\"\n",
    "* Atributos comunes:\n",
    "    * Tipo: \"Electrodomésticos\"\n",
    "    * Abierta: True\n",
    "* Atributos propios de cada tienda:\n",
    "    * Nombre - String\n",
    "    * Dirección - String\n",
    "    * Número de empleados - int\n",
    "    * Ventas últimos 3 meses - Lista de 3 numeros\n",
    "* Método para calcular las ventas de todos los meses, que devuelva un número con todas las ventas.\n",
    "* Método que calcula la media de ventas de los últimos meses, por empleado\n",
    "* Método que devuelve en un string el nombre de la tienda, junto con su dirección.\n",
    "* Método que obtiene las ventas del último mes.\n",
    "* Método para dar una proyección de las ventas en caso de haber invertido X dinero en marketing en esa tienda. Siendo X el parámetro de entrada. Si X es menor de 1000, las ventas de los ultimos 3 meses hubiesen sido de (1.2 x ventas), si es mayor o igual de 1000, las ventas hubiesen sido de (1.5 x venta). El método reescribe el atributo de ventas en los últimos 3 meses, y además devuelve las ventas con el aumento.\n",
    "\n",
    "Se pide:\n",
    "1. Implementar la clase \"Tienda\"\n",
    "2. Crear tres tiendas con datos inventados\n",
    "3. Comprueba en al menos una de ellas, todo lo implementado en la clase tienda (sus atributos, media de ventas, ventas/empleado...)\n",
    "3. Calcular las ventas del último mes de todas las tiendas. Para ello usa el bucle `for`\n",
    "4. Imprime por pantalla los nombres de las tiendas cuya dirección lleve el string \"Avenida\"\n",
    "5. Seguro que ya has hecho este apartado... Documenta la clase :)"
   ]
  },
  {
   "cell_type": "code",
   "execution_count": 88,
   "metadata": {},
   "outputs": [],
   "source": [
    "class Tienda:\n",
    "    '''\n",
    "    Clase Tienda: utilizada para conocer las ventas de una tienda a lo largo de 3 meses, conocer su nombre y dirección\n",
    "    y adicionalmente en función de una inversión inicial, saber cómo varían las ventas totales en esos 3 meses en función\n",
    "    de esa inversión inicial\n",
    "\n",
    "    Parámetros invariables:\n",
    "        - el tipo de artículos en venta: electrodomésticos\n",
    "        - si está o no abierta la tienda (siempre está abierta)\n",
    "    \n",
    "    Parámetros que si varían:\n",
    "        - el nombre del establecimiento (nombre)\n",
    "        - la dirección del mismo (direccion)\n",
    "        - el número de empleados que tiene esa tienda (num_empleados)\n",
    "        - una lista con las ventas en los últimos 3 meses (ventas_3meses)\n",
    "    '''\n",
    "    tipo = \"Electrodomésticos\"\n",
    "    abierta = True\n",
    "\n",
    "    def __init__(self, nombre:str, direccion:str, num_empleados:int, ventas_3meses:list = [20,40,60]):\n",
    "        '''\n",
    "        Constructor con los argumentos de entrada variables definidos previamente\n",
    "        '''\n",
    "        self.nombre = nombre\n",
    "        self.direccion = direccion\n",
    "        self.num_empleados = num_empleados\n",
    "        self.ventas3_meses = ventas_3meses\n",
    "    \n",
    "    def ventas_todos_meses (self):\n",
    "        '''\n",
    "        Primer método para obtener las ventas de todos los meses\n",
    "\n",
    "            1. En primer lugar se crea una variable cuenta_precios incializada a 0\n",
    "            2. A continuación se recorre cada elemento de la lista con un bucle for para ir sumándolos uno a uno\n",
    "            3. Este primer método devuelve la variable cuenta_precios con todos los elementos de la lista sumados\n",
    "        '''\n",
    "        cuenta_precios = 0\n",
    "        for i in self.ventas3_meses:\n",
    "            cuenta_precios = cuenta_precios + i\n",
    "        return cuenta_precios\n",
    "       \n",
    "    def media_ventas (self):\n",
    "        '''\n",
    "        Segundo método para obtener la media de ventas totales del establecimiento en función del número de empleados de la misma\n",
    "\n",
    "            1. Se crea una variable que almacenará la media de ventas por número de empleados\n",
    "            2. Se llama al método previamente creado que nos daba las ventas totales y lo dividimos por el número de empleados correspondiente a la tienda\n",
    "            3. Este segundo método devuelve ese cociente redondeado a 1 decimal\n",
    "        '''\n",
    "        media_empleado = self.ventas_todos_meses()/self.num_empleados\n",
    "        return round(media_empleado,1)\n",
    "    \n",
    "    def nombre_direccion (self):\n",
    "        '''\n",
    "        Tercer método para obtener la concatenación entre el nombre de la tienda y su respectiva dirección\n",
    "\n",
    "            1. Este tercer método devuelve ambos strings unidos por una coma\n",
    "\n",
    "        '''\n",
    "        return self.nombre + \", \" + self.direccion\n",
    "    \n",
    "    def ventas_ultimo_mes (self):\n",
    "        '''\n",
    "        Cuarto método para  obtener el último elemento de la lista de ventas correspondiente al último mes\n",
    "\n",
    "            1. Este cuarto método devuelve el último elemento de la lista de los 3 meses de ventas\n",
    "        '''\n",
    "        return self.ventas3_meses[-1]\n",
    "    \n",
    "    def proyeccion_ventas (self, inversion):\n",
    "        '''\n",
    "        Quinto método para obtener un nuevo valor de ventas totales durante los 3 meses en función de un parámetro inicial de inversión\n",
    "\n",
    "            1. Un primer if comprueba si el valor de inversión introducido como parámetro es menor que 1000 y si lo es, asigna un nuevo valor de vantas\n",
    "            totales correspondiente al valor inicial * 1.2\n",
    "            2. En caso contrario, se redefine el valor de ventas totales como el inicial * 1.5\n",
    "            3. Este método devuelve las ventas totales en función de la inversión inicial\n",
    "        '''\n",
    "        if inversion < 1000:\n",
    "            ventas_inversion = self.ventas_todos_meses() * 1.2\n",
    "        else:\n",
    "            ventas_inversion = self.ventas_todos_meses() * 1.5\n",
    "        return ventas_inversion\n",
    "\n",
    " "
   ]
  },
  {
   "cell_type": "code",
   "execution_count": 105,
   "metadata": {},
   "outputs": [
    {
     "name": "stdout",
     "output_type": "stream",
     "text": [
      "1000\n",
      "43.5\n",
      "Casa Pepe, Calle Mayor\n",
      "300\n"
     ]
    }
   ],
   "source": [
    "mi_tienda1 = Tienda(\"Casa Pepe\",\"Calle Mayor\",23,[500,200,300])\n",
    "print(mi_tienda1.ventas_todos_meses())\n",
    "print(mi_tienda1.media_ventas())\n",
    "print(mi_tienda1.nombre_direccion())\n",
    "print(mi_tienda1.ventas_ultimo_mes())"
   ]
  },
  {
   "cell_type": "code",
   "execution_count": 106,
   "metadata": {},
   "outputs": [
    {
     "name": "stdout",
     "output_type": "stream",
     "text": [
      "4100\n",
      "82.0\n",
      "Supersonido, Avenida de los chopos\n",
      "1700\n",
      "4920.0\n"
     ]
    }
   ],
   "source": [
    "mi_tienda2 = Tienda(\"Supersonido\",\"Avenida de los chopos\",50,[1500,900,1700])\n",
    "print(mi_tienda2.ventas_todos_meses())\n",
    "print(mi_tienda2.media_ventas())\n",
    "print(mi_tienda2.nombre_direccion())\n",
    "print(mi_tienda2.ventas_ultimo_mes())\n",
    "print(mi_tienda2.proyeccion_ventas(900))"
   ]
  },
  {
   "cell_type": "code",
   "execution_count": 107,
   "metadata": {},
   "outputs": [
    {
     "name": "stdout",
     "output_type": "stream",
     "text": [
      "1150\n",
      "76.7\n",
      "Mediamarkt, Plaza Elíptica\n",
      "500\n",
      "1725.0\n"
     ]
    }
   ],
   "source": [
    "mi_tienda3 = Tienda(\"Mediamarkt\",\"Plaza Elíptica\",15,[400,250,500])\n",
    "print(mi_tienda3.ventas_todos_meses())\n",
    "print(mi_tienda3.media_ventas())\n",
    "print(mi_tienda3.nombre_direccion())\n",
    "print(mi_tienda3.ventas_ultimo_mes())\n",
    "print(mi_tienda3.proyeccion_ventas(1200))"
   ]
  },
  {
   "cell_type": "code",
   "execution_count": 111,
   "metadata": {},
   "outputs": [
    {
     "name": "stdout",
     "output_type": "stream",
     "text": [
      "[300, 1700, 500]\n"
     ]
    }
   ],
   "source": [
    "lista_ventas = []\n",
    "for i in mi_tienda1.ventas3_meses,mi_tienda2.ventas3_meses,mi_tienda3.ventas3_meses:\n",
    "    lista_ventas.append(i[-1])\n",
    "print (lista_ventas)"
   ]
  },
  {
   "cell_type": "code",
   "execution_count": 96,
   "metadata": {},
   "outputs": [
    {
     "data": {
      "text/plain": [
       "{'nombre': 'Casa Pepe',\n",
       " 'direccion': 'Calle Mayor',\n",
       " 'num_empleados': 23,\n",
       " 'ventas3_meses': [500, 200, 300]}"
      ]
     },
     "execution_count": 96,
     "metadata": {},
     "output_type": "execute_result"
    }
   ],
   "source": [
    "mi_tienda1.__dict__"
   ]
  },
  {
   "cell_type": "code",
   "execution_count": 18,
   "metadata": {},
   "outputs": [],
   "source": []
  },
  {
   "cell_type": "code",
   "execution_count": null,
   "metadata": {},
   "outputs": [],
   "source": []
  },
  {
   "cell_type": "code",
   "execution_count": null,
   "metadata": {},
   "outputs": [],
   "source": []
  },
  {
   "cell_type": "code",
   "execution_count": null,
   "metadata": {},
   "outputs": [],
   "source": []
  },
  {
   "cell_type": "markdown",
   "metadata": {},
   "source": [
    "## Ejercicio 2\n",
    "En este ejercicio vamos a implementar una clase *Perro* en Python. La clase tiene las siguientes características:\n",
    "* Cosas que sabemos seguro que tiene un perro\n",
    "    * Tiene 4 patas\n",
    "    * 2 orejas\n",
    "    * 2 ojos\n",
    "    * Una velocidad de 0. Por defecto, el perro está parado\n",
    "* Cuando se inicialice:\n",
    "    * El perro será de una determinada raza\n",
    "    * Por defecto tendrá pelo \"Marrón\", a no ser que se diga lo contrario.\n",
    "    * Por defecto no tendrá dueño, a no ser que se diga lo contrario.\n",
    "    \n",
    "* Dispondrá también de un método llamado andar, que tiene un argumento de entrada (aumento_velocidad). Este valor se le sumará a la velocidad que ya llevaba el perro.\n",
    "* Necesita otro método (parar), donde pondremos la velocidad a 0.\n",
    "* Otro método llamado \"ladrar\", que tendrá un argumento de entrada, y la salida será el siguiente string: \"GUAU!\" + el argumento de entrada.\n",
    "\n",
    "\n",
    "Se pide:\n",
    "* Implementa la clase *Perro*\n",
    "* Crea un objeto de tipo *Perro*, sin dueño\n",
    "* Comprueba que están bien todos sus atributos\n",
    "* Prueba que ande, y comprueba su velocidad\n",
    "* Páralo\n",
    "* Documenta la clase *Perro*"
   ]
  },
  {
   "cell_type": "code",
   "execution_count": 38,
   "metadata": {},
   "outputs": [],
   "source": []
  },
  {
   "cell_type": "code",
   "execution_count": 32,
   "metadata": {},
   "outputs": [],
   "source": []
  },
  {
   "cell_type": "code",
   "execution_count": null,
   "metadata": {},
   "outputs": [],
   "source": []
  },
  {
   "cell_type": "code",
   "execution_count": null,
   "metadata": {},
   "outputs": [],
   "source": []
  },
  {
   "cell_type": "code",
   "execution_count": null,
   "metadata": {},
   "outputs": [],
   "source": []
  }
 ],
 "metadata": {
  "kernelspec": {
   "display_name": "Python 3",
   "language": "python",
   "name": "python3"
  },
  "language_info": {
   "codemirror_mode": {
    "name": "ipython",
    "version": 3
   },
   "file_extension": ".py",
   "mimetype": "text/x-python",
   "name": "python",
   "nbconvert_exporter": "python",
   "pygments_lexer": "ipython3",
   "version": "3.11.9"
  }
 },
 "nbformat": 4,
 "nbformat_minor": 4
}
