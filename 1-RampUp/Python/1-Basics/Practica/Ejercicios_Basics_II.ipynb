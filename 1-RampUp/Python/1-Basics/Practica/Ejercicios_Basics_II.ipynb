{
 "cells": [
  {
   "cell_type": "markdown",
   "metadata": {},
   "source": [
    "![imagen](./img/ejercicios.png)"
   ]
  },
  {
   "cell_type": "markdown",
   "metadata": {},
   "source": [
    "# Ejercicios Python Basics II"
   ]
  },
  {
   "cell_type": "markdown",
   "metadata": {},
   "source": [
    "## Ejercicio 1\n",
    "* Crea dos variables numericas: un `int` y un `float`\n",
    "* Comprueba sus tipos\n",
    "* Sumalas en otra nueva\n",
    "* ¿De qué tipo es la nueva variable?\n",
    "* Elimina las variables creadas"
   ]
  },
  {
   "cell_type": "code",
   "execution_count": 14,
   "metadata": {},
   "outputs": [
    {
     "name": "stdout",
     "output_type": "stream",
     "text": [
      "<class 'int'>\n",
      "<class 'float'>\n"
     ]
    }
   ],
   "source": [
    "var_ent = 7\n",
    "var_flo = 2.5\n",
    "print(type(var_ent))\n",
    "print(type(var_flo))"
   ]
  },
  {
   "cell_type": "code",
   "execution_count": 15,
   "metadata": {},
   "outputs": [
    {
     "name": "stdout",
     "output_type": "stream",
     "text": [
      "<class 'float'>\n"
     ]
    }
   ],
   "source": [
    "var_sum = var_ent + var_flo\n",
    "print(type(var_sum))\n",
    "#La nueva variable creada a partir de la suma de las dos anteriores es de tipo \"float\""
   ]
  },
  {
   "cell_type": "code",
   "execution_count": 16,
   "metadata": {},
   "outputs": [],
   "source": [
    "del var_ent, var_flo, var_sum"
   ]
  },
  {
   "cell_type": "markdown",
   "metadata": {},
   "source": [
    "## Ejercicio 2\n",
    "Escribe un programa para pasar de grados a radianes. Hay que usar `input`. Recuerda que la conversión se realiza mediante\n",
    "\n",
    "$$radianes = grados*(pi/180)$$"
   ]
  },
  {
   "cell_type": "code",
   "execution_count": 18,
   "metadata": {},
   "outputs": [
    {
     "name": "stdout",
     "output_type": "stream",
     "text": [
      "El valor de su ángulo en radianes es de 0.7853981633974483\n"
     ]
    }
   ],
   "source": [
    "import math\n",
    "grados = float(input(\"Dígame el valor en grados:\"))\n",
    "radianes = grados * (math.pi/180)\n",
    "print(f\"El valor de su ángulo en radianes es de {radianes}\")"
   ]
  },
  {
   "cell_type": "markdown",
   "metadata": {},
   "source": [
    "## Ejercicio 3\n",
    "Escribe un programa que calcule el area de un paralelogramo (base x altura). También con `input`"
   ]
  },
  {
   "cell_type": "code",
   "execution_count": 19,
   "metadata": {},
   "outputs": [
    {
     "name": "stdout",
     "output_type": "stream",
     "text": [
      "El área de su paralelogramo es de 1350.0 centímetros cuadrados\n"
     ]
    }
   ],
   "source": [
    "base = float(input(\"Introduzca el valor de la base del paralelogramo:\"))\n",
    "altura = float(input(\"Introduzca la altura del paralelogramo:\"))\n",
    "area_paralelogramo = base * altura\n",
    "print (f\"El área de su paralelogramo es de {area_paralelogramo} centímetros cuadrados\")"
   ]
  },
  {
   "cell_type": "markdown",
   "metadata": {},
   "source": [
    "## Ejercicio 4\n",
    "Tenemos las siguientes variables:\n",
    "\n",
    "```Python\n",
    "A = 4\n",
    "B = \"Text\"\n",
    "C = 4.1\n",
    "```\n",
    "\n",
    "Comprueba:\n",
    "1. Si A y B son equivalentes\n",
    "2. Si A y C NO son equivalentes\n",
    "3. Si A es mayor que C \n",
    "4. Si C es menor o igual que A\n",
    "5. Si B NO es equivalente a C"
   ]
  },
  {
   "cell_type": "code",
   "execution_count": 20,
   "metadata": {},
   "outputs": [
    {
     "name": "stdout",
     "output_type": "stream",
     "text": [
      "False\n",
      "True\n",
      "False\n",
      "False\n",
      "True\n"
     ]
    }
   ],
   "source": [
    "A = 4\n",
    "B = \"Text\"\n",
    "C = 4.1\n",
    "\n",
    "print (A == B)\n",
    "print (A != C)\n",
    "print (A>C)\n",
    "print (C<=A)\n",
    "print (B!=C)"
   ]
  },
  {
   "cell_type": "markdown",
   "metadata": {},
   "source": [
    "## Ejercicio 5\n",
    "Crea un programa donde se recojan dos inputs del usuario, y el output del programa sea si esos inputs son iguales o no"
   ]
  },
  {
   "cell_type": "code",
   "execution_count": 25,
   "metadata": {},
   "outputs": [
    {
     "name": "stdout",
     "output_type": "stream",
     "text": [
      "Las dos palabras son idénticas\n"
     ]
    }
   ],
   "source": [
    "primer_input = input(\"Introduzca una palabra:\")\n",
    "segundo_input = input(\"Introduzca otra palabra:\")\n",
    "if (primer_input == segundo_input):\n",
    "    print(\"Las dos palabras son idénticas\")\n",
    "else:\n",
    "    print(\"Las dos palabras no son idénticas\")"
   ]
  },
  {
   "cell_type": "markdown",
   "metadata": {},
   "source": [
    "## Ejercicio 6\n",
    "Mismo programa que en 5, pero en esta ocasión tienen que ser tres inputs y dos salidas. Una de las salidas que nos indique si todos son iguales, y la otra si al menos dos inputs sí que lo son"
   ]
  },
  {
   "cell_type": "code",
   "execution_count": 27,
   "metadata": {},
   "outputs": [
    {
     "name": "stdout",
     "output_type": "stream",
     "text": [
      "Las tres palabras no son idénticas\n",
      "Al menos dos palabras son idénticas\n"
     ]
    }
   ],
   "source": [
    "primera_palabra = input(\"Introduzca una palabra:\")\n",
    "segunda_palabra = input(\"Introduzca una segunda palabra:\")\n",
    "tercera_palabra = input(\"Introduzca una tercera palabra:\")\n",
    "if (primera_palabra == segunda_palabra == tercera_palabra):\n",
    "    print(\"Las tres palabras son idénticas\")\n",
    "else:\n",
    "    print(\"Las tres palabras no son idénticas\")\n",
    "\n",
    "if (primera_palabra == segunda_palabra or primera_palabra == tercera_palabra or segunda_palabra == tercera_palabra):\n",
    "    print(\"Al menos dos palabras son idénticas\")\n",
    "else:\n",
    "    print(\"Ni siquiera dos de las palabras introducidas son idénticas\")"
   ]
  },
  {
   "cell_type": "markdown",
   "metadata": {},
   "source": [
    "## Ejercicio 7\n",
    "Crea un programa que recoja dos inputs. Tiene que comprobar si su suma es igual, superior o inferior a 10, cada condición por separado"
   ]
  },
  {
   "cell_type": "code",
   "execution_count": 30,
   "metadata": {},
   "outputs": [
    {
     "name": "stdout",
     "output_type": "stream",
     "text": [
      "La suma es igual a 10\n"
     ]
    }
   ],
   "source": [
    "primer_numero = float(input(\"Introduzca un primer número:\"))\n",
    "segundo_numero = float(input(\"Introduzca un segundo número:\"))\n",
    "suma = primer_numero + segundo_numero\n",
    "if suma == 10:\n",
    "    print(\"La suma es igual a 10\")\n",
    "elif suma > 10:\n",
    "    print(\"La suma es superior a 10\")\n",
    "elif suma < 10:\n",
    "    print (\"La suma es inferior a 10\")"
   ]
  },
  {
   "attachments": {},
   "cell_type": "markdown",
   "metadata": {},
   "source": [
    "## Ejercicio 8\n",
    "Razona sin ejecutar código el output que obtendremos de las siguientes sentencias\n",
    "1. True and True and False\n",
    "2. not ((True or False) and (True or False))\n",
    "3. (False or False or False or True) and False\n",
    "4. not False and True and not True\n",
    "\n",
    "Compruébalo después con python"
   ]
  },
  {
   "cell_type": "markdown",
   "metadata": {},
   "source": [
    "1. False\n",
    "2. not (True) and (True) = False and True = False\n",
    "3. True and False = False\n",
    "4. True and True and False = False"
   ]
  },
  {
   "cell_type": "code",
   "execution_count": 34,
   "metadata": {},
   "outputs": [
    {
     "name": "stdout",
     "output_type": "stream",
     "text": [
      "False\n",
      "False\n",
      "False\n",
      "False\n"
     ]
    }
   ],
   "source": [
    "#En el caso de True and True and False con que exista un False el output será False\n",
    "\n",
    "#En el caso de not ((True or False) and (True or False)) primero ejecutamos lo que está entre paréntesis. En este caso son dos True or False, cuyo resultado es True\n",
    "#A continuación nos queda not (True and True), lo que resulta en un not True, que equivale a un False como resultado final\n",
    "\n",
    "#En el caso de (False or False or False or True) and False volvemos a ejecutar primero las paréntesis. En una sucesión de or con un único True el resultado será True\n",
    "#Nos quedaría de la siguiente manera True and False, cuyo resultado es False\n",
    "\n",
    "#En el caso de not False and True and not True, al no existir paréntesis lo resuelve de manera lineal, es decir podemos convertir la operación con booleanos a:\n",
    "#not False and True and not True = True and True and False, lo que resulta en un False\n",
    "\n",
    "print (True and True and False)\n",
    "print (not((True or False) and (True or False)))\n",
    "print (False or False or False or True and False)\n",
    "print (not False and True and not True)"
   ]
  },
  {
   "cell_type": "markdown",
   "metadata": {},
   "source": [
    "## Ejercicio 9\n",
    "Para este ejercicio vamos a poner en práctica [las funciones built in](https://docs.python.org/3/library/functions.html).\n",
    "\n",
    "1. Calcula el máximo de la lista: [4, 6, 8, -1]\n",
    "2. Suma todos los elementos de la lista anterior\n",
    "3. Redondea este float a 3 dígitos decimales: 63.451256965\n",
    "4. Valor absoluto de: -74"
   ]
  },
  {
   "cell_type": "code",
   "execution_count": 41,
   "metadata": {},
   "outputs": [
    {
     "name": "stdout",
     "output_type": "stream",
     "text": [
      "17\n",
      "63.45\n",
      "74.0\n"
     ]
    }
   ],
   "source": [
    "lista = [4,6,8,-1]\n",
    "print(sum (lista))\n",
    "print(round(63.451256965, 2))\n",
    "print(math.fabs(-74))"
   ]
  },
  {
   "cell_type": "markdown",
   "metadata": {},
   "source": [
    "## Ejercicio 10\n",
    "Para el siguiente string se pide imprimir por pantalla los siguientes casos\n",
    "\n",
    "    \"Lo primero de todo, cómo están los máquinas\"\n",
    "\n",
    "1. Pasarlo todo a mayúsculas\n",
    "2. Pasarlo todo a minúsculas\n",
    "3. Pasar a mayúsculas solo las iniciales de las palabras\n",
    "4. Crea una lista dividiendolo por sus espacios\n",
    "5. Sustituye las comas `,` por puntos y comas `;`\n",
    "6. Elimina las `a` minúsculas"
   ]
  },
  {
   "cell_type": "code",
   "execution_count": 2,
   "metadata": {},
   "outputs": [
    {
     "name": "stdout",
     "output_type": "stream",
     "text": [
      "LO PRIMERO DE TODO, CÓMO ESTÁN LOS MÁQUINAS\n",
      "lo primero de todo, cómo están los máquinas\n",
      "Lo Primero De Todo, Cómo Están Los Máquinas\n"
     ]
    }
   ],
   "source": [
    "frase = \"Lo primero de todo, cómo están los máquinas\"\n",
    "print (frase.upper())\n",
    "print (frase.lower())\n",
    "print (frase.title())"
   ]
  },
  {
   "cell_type": "code",
   "execution_count": 3,
   "metadata": {},
   "outputs": [
    {
     "name": "stdout",
     "output_type": "stream",
     "text": [
      "['Lo', 'primero', 'de', 'todo,', 'cómo', 'están', 'los', 'máquinas']\n",
      "['Lo', 'primero', 'de', 'todo;', 'cómo', 'están', 'los', 'máquinas']\n",
      "['Lo', 'primero', 'de', 'todo,', 'cómo', 'estn', 'los', 'mquinas']\n"
     ]
    }
   ],
   "source": [
    "listabis = frase.split()\n",
    "print (listabis)\n",
    "nueva_lista = [i.replace(',',';') for i in listabis]\n",
    "print (nueva_lista)\n",
    "lista_sin_a = [i.replace('á',\"\") for i in listabis]\n",
    "print (lista_sin_a)"
   ]
  },
  {
   "cell_type": "markdown",
   "metadata": {},
   "source": [
    "## Ejercicio 11\n",
    "1. Crea una lista con 3 elementos numéricos\n",
    "2. Añade un cuarto elemento\n",
    "3. Calcula la suma de todos\n",
    "4. Elimina el segundo elemento de la lista\n",
    "5. Añade otro elemento en la posicion 3 de la lista\n",
    "6. Crea otra lista con 4 elementos y concaténala a la que ya tenías."
   ]
  },
  {
   "cell_type": "code",
   "execution_count": 22,
   "metadata": {},
   "outputs": [
    {
     "name": "stdout",
     "output_type": "stream",
     "text": [
      "[4, 9, 12]\n",
      "[4, 9, 12, 10]\n",
      "35\n",
      "[4, 12, 10]\n",
      "[4, 12, 4, 10]\n"
     ]
    }
   ],
   "source": [
    "lista_num = [4,9,12]\n",
    "print(lista_num)\n",
    "lista_num.append(10)\n",
    "print (lista_num)\n",
    "suma_num = sum(lista_num)\n",
    "print (suma_num)\n",
    "lista_num.remove(lista_num[1])\n",
    "print (lista_num)\n",
    "lista_num.insert(2, 4)\n",
    "print (lista_num)"
   ]
  },
  {
   "cell_type": "code",
   "execution_count": 23,
   "metadata": {},
   "outputs": [
    {
     "name": "stdout",
     "output_type": "stream",
     "text": [
      "[4, 12, 4, 10, 45, 7, 14, 28]\n"
     ]
    }
   ],
   "source": [
    "lista_num2 = [45, 7, 14, 28]\n",
    "lista_total = lista_num + lista_num2\n",
    "print (lista_total)"
   ]
  }
 ],
 "metadata": {
  "kernelspec": {
   "display_name": "Python 3",
   "language": "python",
   "name": "python3"
  },
  "language_info": {
   "codemirror_mode": {
    "name": "ipython",
    "version": 3
   },
   "file_extension": ".py",
   "mimetype": "text/x-python",
   "name": "python",
   "nbconvert_exporter": "python",
   "pygments_lexer": "ipython3",
   "version": "3.11.9"
  },
  "nbTranslate": {
   "displayLangs": [
    "*"
   ],
   "hotkey": "alt-t",
   "langInMainMenu": true,
   "sourceLang": "en",
   "targetLang": "fr",
   "useGoogleTranslate": true
  },
  "varInspector": {
   "cols": {
    "lenName": 16,
    "lenType": 16,
    "lenVar": 40
   },
   "kernels_config": {
    "python": {
     "delete_cmd_postfix": "",
     "delete_cmd_prefix": "del ",
     "library": "var_list.py",
     "varRefreshCmd": "print(var_dic_list())"
    },
    "r": {
     "delete_cmd_postfix": ") ",
     "delete_cmd_prefix": "rm(",
     "library": "var_list.r",
     "varRefreshCmd": "cat(var_dic_list()) "
    }
   },
   "types_to_exclude": [
    "module",
    "function",
    "builtin_function_or_method",
    "instance",
    "_Feature"
   ],
   "window_display": false
  }
 },
 "nbformat": 4,
 "nbformat_minor": 4
}
