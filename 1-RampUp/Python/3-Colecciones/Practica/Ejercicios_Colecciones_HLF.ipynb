{
 "cells": [
  {
   "cell_type": "markdown",
   "metadata": {},
   "source": [
    "## Ejercicio Extra HLF\n",
    "Vamos a empezar a programar trozos de código que nos servirán para el HLF:\n",
    "\n",
    "* Crear un Tablero como una lista de listas de 10x10 que contenga caracteres espacio: \" \"\n",
    "* Insertar dos barcos sustituyendo en el Tablero los espacios en blanco por el caracter \"B\":\n",
    "    * Uno de 4 casillas en horizontal: casillas [1][0], [1][1], [1][2], [1][3]\n",
    "    * Uno de 3 casillas en vertical:   casillas [3][3], [4][3], [4][4], [4][5]\n",
    "* Escribir una celda de código separada de las anteriores para simular que el usuario está efectuando un disparo: \n",
    "    *  Solicite al usuario dos coordenadas `i,j` mediante dos inputs\n",
    "    *  Compruebe si esas coordenadas están ocupada por una casilla barco (que haya una en \"B\")\n",
    "        * Si hay una \"B\":\n",
    "            * Cambiar el contenido de esa posición por una \"x\"\n",
    "            * Imprimir por pantalla el texto \"Tocado en posición `i,j`\"\n",
    "        * Si hay un \" \":\n",
    "            * Cambiar el contenido de esa posición por una \"o\"\n",
    "            * Imprimir por pantalla el texto \"Agua\"\n",
    "    * Imprimir por pantalla el Tablero\n",
    "* Para comprobar que funciona bien la celda de disparar ejecutarla varias veces metiendo distintas coordenadas\n",
    "\n",
    "### Bonus\n",
    "* En la celda de disparar, si el usuario acierta a tocar un barco, vuelve a disparar\n",
    "* Restilizando funciones\n",
    "    \n"
   ]
  },
  {
   "cell_type": "code",
   "execution_count": 34,
   "metadata": {},
   "outputs": [
    {
     "data": {
      "text/plain": [
       "[[' ', ' ', ' ', ' ', ' ', ' ', ' ', ' ', ' ', ' '],\n",
       " [' ', ' ', ' ', ' ', ' ', ' ', ' ', ' ', ' ', ' '],\n",
       " [' ', ' ', ' ', ' ', ' ', ' ', ' ', ' ', ' ', ' '],\n",
       " [' ', ' ', ' ', ' ', ' ', ' ', ' ', ' ', ' ', ' '],\n",
       " [' ', ' ', ' ', ' ', ' ', ' ', ' ', ' ', ' ', ' '],\n",
       " [' ', ' ', ' ', ' ', ' ', ' ', ' ', ' ', ' ', ' '],\n",
       " [' ', ' ', ' ', ' ', ' ', ' ', ' ', ' ', ' ', ' '],\n",
       " [' ', ' ', ' ', ' ', ' ', ' ', ' ', ' ', ' ', ' '],\n",
       " [' ', ' ', ' ', ' ', ' ', ' ', ' ', ' ', ' ', ' '],\n",
       " [' ', ' ', ' ', ' ', ' ', ' ', ' ', ' ', ' ', ' ']]"
      ]
     },
     "execution_count": 34,
     "metadata": {},
     "output_type": "execute_result"
    }
   ],
   "source": [
    "tablero = [[\" \" for i in range(10)] for j in range(10)]\n",
    "\n",
    "tablero\n",
    "   \n",
    "        "
   ]
  },
  {
   "cell_type": "code",
   "execution_count": 35,
   "metadata": {},
   "outputs": [
    {
     "data": {
      "text/plain": [
       "[[' ', ' ', ' ', ' ', ' ', ' ', ' ', ' ', ' ', ' '],\n",
       " ['B', 'B', 'B', 'B', ' ', ' ', ' ', ' ', ' ', ' '],\n",
       " [' ', ' ', ' ', ' ', ' ', ' ', ' ', ' ', ' ', ' '],\n",
       " [' ', ' ', ' ', ' ', ' ', ' ', ' ', ' ', ' ', ' '],\n",
       " [' ', ' ', ' ', ' ', ' ', ' ', ' ', ' ', ' ', ' '],\n",
       " [' ', ' ', ' ', ' ', ' ', ' ', ' ', ' ', ' ', ' '],\n",
       " [' ', ' ', ' ', ' ', ' ', ' ', ' ', ' ', ' ', ' '],\n",
       " [' ', ' ', ' ', ' ', ' ', ' ', ' ', ' ', ' ', ' '],\n",
       " [' ', ' ', ' ', ' ', ' ', ' ', ' ', ' ', ' ', ' '],\n",
       " [' ', ' ', ' ', ' ', ' ', ' ', ' ', ' ', ' ', ' ']]"
      ]
     },
     "execution_count": 35,
     "metadata": {},
     "output_type": "execute_result"
    }
   ],
   "source": [
    "tablero[1][0] = \"B\"\n",
    "tablero[1][1] = \"B\"\n",
    "tablero[1][2] = \"B\"\n",
    "tablero[1][3] = \"B\"\n",
    "tablero"
   ]
  },
  {
   "cell_type": "code",
   "execution_count": 36,
   "metadata": {},
   "outputs": [
    {
     "data": {
      "text/plain": [
       "[[' ', ' ', ' ', ' ', ' ', ' ', ' ', ' ', ' ', ' '],\n",
       " ['B', 'B', 'B', 'B', ' ', ' ', ' ', ' ', ' ', ' '],\n",
       " [' ', ' ', ' ', ' ', ' ', ' ', ' ', ' ', ' ', ' '],\n",
       " [' ', ' ', ' ', 'B', ' ', ' ', ' ', ' ', ' ', ' '],\n",
       " [' ', ' ', ' ', 'B', ' ', ' ', ' ', ' ', ' ', ' '],\n",
       " [' ', ' ', ' ', 'B', ' ', ' ', ' ', ' ', ' ', ' '],\n",
       " [' ', ' ', ' ', ' ', ' ', ' ', ' ', ' ', ' ', ' '],\n",
       " [' ', ' ', ' ', ' ', ' ', ' ', ' ', ' ', ' ', ' '],\n",
       " [' ', ' ', ' ', ' ', ' ', ' ', ' ', ' ', ' ', ' '],\n",
       " [' ', ' ', ' ', ' ', ' ', ' ', ' ', ' ', ' ', ' ']]"
      ]
     },
     "execution_count": 36,
     "metadata": {},
     "output_type": "execute_result"
    }
   ],
   "source": [
    "tablero[3][3] = \"B\"\n",
    "tablero[4][3] = \"B\"\n",
    "tablero[5][3] = \"B\"\n",
    "tablero"
   ]
  },
  {
   "cell_type": "code",
   "execution_count": 44,
   "metadata": {},
   "outputs": [
    {
     "name": "stdout",
     "output_type": "stream",
     "text": [
      "Ya habías disparado aquí\n"
     ]
    },
    {
     "data": {
      "text/plain": [
       "[[' ', ' ', ' ', ' ', ' ', ' ', ' ', ' ', ' ', ' '],\n",
       " ['B', 'X', 'X', 'B', ' ', ' ', ' ', ' ', ' ', ' '],\n",
       " [' ', ' ', 'O', ' ', ' ', ' ', ' ', ' ', ' ', ' '],\n",
       " [' ', ' ', ' ', 'B', ' ', ' ', ' ', ' ', ' ', ' '],\n",
       " [' ', ' ', ' ', 'B', ' ', ' ', ' ', ' ', ' ', ' '],\n",
       " [' ', ' ', ' ', 'B', ' ', ' ', ' ', ' ', ' ', ' '],\n",
       " [' ', ' ', ' ', ' ', ' ', ' ', ' ', ' ', ' ', ' '],\n",
       " [' ', ' ', ' ', ' ', ' ', ' ', ' ', ' ', ' ', ' '],\n",
       " [' ', ' ', ' ', ' ', ' ', ' ', ' ', ' ', ' ', ' '],\n",
       " [' ', ' ', ' ', ' ', ' ', ' ', ' ', ' ', ' ', ' ']]"
      ]
     },
     "execution_count": 44,
     "metadata": {},
     "output_type": "execute_result"
    }
   ],
   "source": [
    "def disparo(tablero,coord_x,coord_y):\n",
    "    if tablero[coord_x][coord_y] == \"B\":\n",
    "        print(\"Tocado\")\n",
    "        tablero[coord_x][coord_y] = \"X\"\n",
    "    elif tablero[coord_x][coord_y] == \" \":\n",
    "        print(\"Agua\")\n",
    "        tablero[coord_x][coord_y] = \"O\"\n",
    "    else:\n",
    "        print(\"Ya habías disparado aquí\")\n",
    "disparo(tablero,1,2)\n",
    "tablero"
   ]
  }
 ],
 "metadata": {
  "kernelspec": {
   "display_name": "Python 3",
   "language": "python",
   "name": "python3"
  },
  "language_info": {
   "codemirror_mode": {
    "name": "ipython",
    "version": 3
   },
   "file_extension": ".py",
   "mimetype": "text/x-python",
   "name": "python",
   "nbconvert_exporter": "python",
   "pygments_lexer": "ipython3",
   "version": "3.11.9"
  }
 },
 "nbformat": 4,
 "nbformat_minor": 2
}
