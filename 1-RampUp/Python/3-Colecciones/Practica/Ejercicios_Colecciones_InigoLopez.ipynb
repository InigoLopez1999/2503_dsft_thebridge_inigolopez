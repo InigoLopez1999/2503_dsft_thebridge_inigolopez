{
 "cells": [
  {
   "cell_type": "markdown",
   "metadata": {},
   "source": [
    "![imagen](./img/ejercicios.png)"
   ]
  },
  {
   "cell_type": "markdown",
   "metadata": {},
   "source": [
    "## Ejercicio 1\n",
    "Dada la siguiente lista:\n",
    "> ```ejer_1 = [1,2,3,4,5]```\n",
    "\n",
    "Inviértela para que quede de la siguiente manera\n",
    "> ```ejer_1 = [5,4,3,2,1]```"
   ]
  },
  {
   "cell_type": "code",
   "execution_count": null,
   "metadata": {},
   "outputs": [
    {
     "name": "stdout",
     "output_type": "stream",
     "text": [
      "[5, 4, 3, 2, 1]\n"
     ]
    }
   ],
   "source": [
    "ejer_1 = [1,2,3,4,5]\n",
    "\n",
    "print(sorted(ejer_1, reverse=True)) #con el comando sorted ordenamos la lista, en este caso añadiendo el parámetro reverse = True para que la ordene en orden descendente. Esto se hace así ya que Pyhton ordena en orden ascendente por defecto."
   ]
  },
  {
   "cell_type": "markdown",
   "metadata": {},
   "source": [
    "## Ejercicio 2\n",
    "Eleva todos los elementos de la lista al cuadrado\n",
    "> ```ejer_2 = [1,2,3,4,5]```"
   ]
  },
  {
   "cell_type": "code",
   "execution_count": null,
   "metadata": {},
   "outputs": [
    {
     "name": "stdout",
     "output_type": "stream",
     "text": [
      "[1, 4, 9, 16, 25]\n"
     ]
    }
   ],
   "source": [
    "ejer_2 = [1,2,3,4,5]\n",
    "for i in range(len(ejer_2)): # se crea un for que recorra un range con el tamaño de la lsita inicial\n",
    "    ejer_2[i] = ejer_2[i] ** 2 # se sustituye el valor de cada posición de la lista con su equivalente al cuadrado\n",
    "print (ejer_2)"
   ]
  },
  {
   "cell_type": "markdown",
   "metadata": {},
   "source": [
    "## Ejercicio 3\n",
    "Crea una lista nueva con todas las combinaciones de las siguientes dos listas:\n",
    "> ```ejer_3_1 = [\"Hola\", \"amigo\"]```\n",
    ">\n",
    "> ```ejer_3_2 = [\"Que\", \"tal\"]```\n",
    "\n",
    "Obten el siguiente output:\n",
    "\n",
    "```['Hola Que', 'Hola tal', 'amigo Que', 'amigo tal']```"
   ]
  },
  {
   "cell_type": "code",
   "execution_count": null,
   "metadata": {},
   "outputs": [
    {
     "name": "stdout",
     "output_type": "stream",
     "text": [
      "['Hola Que', 'Hola tal', 'amigo Que', 'amigo tal']\n"
     ]
    }
   ],
   "source": [
    "ejer_3_1 = [\"Hola\", \"amigo\"]\n",
    "ejer_3_2 = [\"Que\", \"tal\"] # se crean dos listas iniciales con los valores a combinar\n",
    "listafinal = [] # se crea una lista vacía para almacenar las combinaciones\n",
    "\n",
    "for i in ejer_3_1:\n",
    "    for j in ejer_3_2: # se crean dos for anidados para que puedan darse las combinaciones entre ambas listas\n",
    "        listafinal.append(i + \" \" + j) # se añade a la lista vacía cada posible combinación concatenada entre los strings de ambas listas\n",
    "print (listafinal)\n",
    "\n",
    "\n"
   ]
  },
  {
   "attachments": {},
   "cell_type": "markdown",
   "metadata": {},
   "source": [
    "## Ejercicio 4\n",
    "Dada la siguiente lista, encuentra por el índice el valor 45 y sustitúyelo por el 0\n",
    "> ```ejer_4 = [20, 47, 19, 29, 45, 67, 78, 90]```"
   ]
  },
  {
   "cell_type": "code",
   "execution_count": null,
   "metadata": {},
   "outputs": [
    {
     "name": "stdout",
     "output_type": "stream",
     "text": [
      "4\n",
      "[45, 20, 47, 19, 29, 67, 78, 90]\n"
     ]
    }
   ],
   "source": [
    "ejer_4 = [20,47,19,29,45,67,78,90]\n",
    "\n",
    "print(ejer_4.index(45)) # con index se encuentra dónde está un determinado valor\n",
    "\n",
    "saca = ejer_4.pop(4) # en primer lugar se extrae el valor que nos interesa\n",
    "\n",
    "ejer_4.insert(0, saca) # una vez hecho el pop, insertamos dicho valor en la posición 0\n",
    "\n",
    "print (ejer_4)\n"
   ]
  },
  {
   "cell_type": "markdown",
   "metadata": {},
   "source": [
    "## Ejercicio 5\n",
    "Dada la siguiente lista, elimina todos los valores iguales a 3\n",
    "> ```ejer_5 = [3, 20, 3, 47, 19, 3, 29, 45, 67, 78, 90, 3, 3]```\n",
    "\n",
    "TIP: No intentes eliminar elementos sobre la lista que estás iterando. Haz una copia con `ejer_5.copy()`."
   ]
  },
  {
   "cell_type": "code",
   "execution_count": null,
   "metadata": {},
   "outputs": [
    {
     "name": "stdout",
     "output_type": "stream",
     "text": [
      "[20, 47, 19, 29, 45, 67, 78, 90]\n",
      "[3, 20, 3, 47, 19, 3, 29, 45, 67, 78, 90, 3, 3]\n"
     ]
    }
   ],
   "source": [
    "ejer_5 = [3,20,3,47,19,3,29,45,67,78,90,3,3]\n",
    "copia_5 = ejer_5.copy() # se crea una copia de la lista inicial para poder iterar sobre ella y no modificarla\n",
    "while 3 in copia_5: # se crea un while que vaya eliminando el valor 3 mientras se encuentre en la lista\n",
    "    copia_5.remove(3)\n",
    "print (copia_5)\n",
    "print (ejer_5) # imprimimos las dos listas para comprobar que la inicial no ha cambiado\n"
   ]
  },
  {
   "attachments": {},
   "cell_type": "markdown",
   "metadata": {},
   "source": [
    "## Ejercicio 6\n",
    "1. Crea una tupla con 3 elementos\n",
    "2. Crea otra tupla con un elemento y comprueba su tipo\n",
    "3. Crea una tupla con elementos de diferentes tipos\n",
    "4. Imprime por pantalla el primer y último elemento de la tupla del apartado 3. Usa `len` para el último\n",
    "5. Añade un elemento a la tupla del apartado 3.\n",
    "6. Eliminar un elemento de la tupla del apartado 5, que se encuentre más o menos en la mitad.\n",
    "7. Convierte la tupla del apartado 5 en una lista"
   ]
  },
  {
   "cell_type": "code",
   "execution_count": null,
   "metadata": {},
   "outputs": [
    {
     "name": "stdout",
     "output_type": "stream",
     "text": [
      "<class 'tuple'>\n",
      "Pepe ['Felipe', 9]\n",
      "('Pepe', 12.9, True, ['Felipe', 9], 20)\n",
      "['Pepe', 12.9, True, ['Felipe', 9], 20]\n"
     ]
    }
   ],
   "source": [
    "ejer_6_1 = (8,4,7) # se crea la primera tupla con 3 elementos\n",
    "\n",
    "ejer_6_2 = (10,) # se crea la segunda con un único elemento\n",
    "\n",
    "print(type(ejer_6_2)) # se comprueba el tipo de la segunda tupla\n",
    "\n",
    "ejer_6_3 = (\"Pepe\",12.9,True,[\"Felipe\",9]) # creamos una tercera tupla con elementos de distintos tipos\n",
    "\n",
    "print(ejer_6_3[0],ejer_6_3[len(ejer_6_3)-1]) # imprimimos el primer y último valor de la tupla con ayuda de len-1\n",
    "\n",
    "ejer_6_4 = (20,) # para poder añadir un elemento a la tupla debemos crear una nueva y concatenar ambas tuplas\n",
    "\n",
    "ejer_6_5 = ejer_6_3 + ejer_6_4\n",
    "\n",
    "print(ejer_6_5)\n",
    "\n",
    "# en respuesta a la pregunta 6, a no ser que se convierta la tupla en una lista no pueden eliminarse elementos de una tupla, son inmutables\n",
    "\n",
    "lista_6_5 = list(ejer_6_5) # si se convierte en lista la tupla, ahí sí podremos eliminar sus elementos\n",
    "\n",
    "print(lista_6_5)"
   ]
  },
  {
   "attachments": {},
   "cell_type": "markdown",
   "metadata": {},
   "source": [
    "## Ejercicio 7\n",
    "Concatena todos los elementos de la tupla en un único string. Para ello utiliza el metodo `.join()` de los Strings\n",
    "> ```ejer_7 = (\"cien\", \"cañones\", \"por\", \"banda\")```\n",
    "\n",
    "Resultado: `cien cañones por banda`"
   ]
  },
  {
   "cell_type": "code",
   "execution_count": null,
   "metadata": {},
   "outputs": [
    {
     "name": "stdout",
     "output_type": "stream",
     "text": [
      "cien cañones por banda "
     ]
    }
   ],
   "source": [
    "ejer_7 = (\"cien\", \"cañones\", \"por\", \"banda\")\n",
    "for i in ejer_7:\n",
    "    print (i, end = \" \") # en este ejercicio recorremos con un for cada elemento de la tupla e imprimimos cada uno de ellos separados entre sí por un espacio\n",
    "# en este ejercicio no he encontrado la manera de poder unirlos mediante .join()"
   ]
  },
  {
   "cell_type": "markdown",
   "metadata": {},
   "source": [
    "## Ejercicio 8\n",
    "Obten el tercer elemento de la siguiente tupla, y el tercero empezando por la cola\n",
    "> ```ejer_8 = (3, 20, 3, 47, 19, 3, 29, 45, 67, 78, 90, 3, 3)```"
   ]
  },
  {
   "cell_type": "code",
   "execution_count": null,
   "metadata": {},
   "outputs": [
    {
     "name": "stdout",
     "output_type": "stream",
     "text": [
      "El tercer elemento de la tupla es 3 y el tercero empezando por la cola es 90\n"
     ]
    }
   ],
   "source": [
    "ejer_8 = (3, 20, 3, 47, 19, 3, 29, 45, 67, 78, 90, 3, 3)\n",
    "print (f\"El tercer elemento de la tupla es {ejer_8 [2]} y el tercero empezando por la cola es {ejer_8 [-3]}\")\n",
    "# en este ejercicio realizamos un fprint con las posiciones indicadas en el ejercicio"
   ]
  },
  {
   "attachments": {},
   "cell_type": "markdown",
   "metadata": {},
   "source": [
    "## Ejercicio 9\n",
    "1. ¿Cuántas veces se repite el 3 en la siguiente tupla?\n",
    "2. Crea una tupla nueva con los elementos desde la posición 5 a la 10.\n",
    "3. ¿Cuántos elementos tiene la tupla `ejer_9`?\n",
    "4. Comprueba si el numero 60 está en la tupla\n",
    "> ```ejer_9 = (3, 20, 3, 47, 19, 3, 29, 45, 67, 78, 90, 3, 3, 5, 2, 4, 7, 9, 4, 2, 4, 3, 3, 4, 6, 7)```"
   ]
  },
  {
   "cell_type": "code",
   "execution_count": null,
   "metadata": {},
   "outputs": [
    {
     "name": "stdout",
     "output_type": "stream",
     "text": [
      "El elemento 3 se repite 7 veces\n",
      "(19, 3, 29, 45, 67, 78)\n",
      "La nueva tupla tiene 26 elementos\n",
      "El número 60 no está en la tupla\n"
     ]
    }
   ],
   "source": [
    "ejer_9 = (3, 20, 3, 47, 19, 3, 29, 45, 67, 78, 90, 3, 3, 5, 2, 4, 7, 9, 4, 2, 4, 3, 3, 4, 6, 7)\n",
    "\n",
    "print (f\"El elemento 3 se repite {ejer_9.count(3)} veces\") # con count podemos contar cuántas veces está el número 3\n",
    "\n",
    "ejer_9_1 = (ejer_9[4:10]) # creamos una nuevas tupla con los valores comprendidos en el intervalo solicitado\n",
    "\n",
    "print (ejer_9_1)\n",
    "\n",
    "print (f\"La nueva tupla tiene {len(ejer_9)} elementos\") # con un fprint y el comando len podemos saber la longitud de la tupla inicial\n",
    "\n",
    "num_buscar = 60 # declaramos una nueva variable con el número que queramos buscar\n",
    "\n",
    "if num_buscar in ejer_9_1: # hacemos un sencillo condicional que compruebe si dicho número se encuentra en la tupls\n",
    "    print (f\"El número {num_buscar} está en la tupla\") \n",
    "else:\n",
    "    print (f\"El número {num_buscar} no está en la tupla\")\n"
   ]
  },
  {
   "attachments": {},
   "cell_type": "markdown",
   "metadata": {},
   "source": [
    "## Ejercicio 10\n",
    "1. Convierte la tupla del ejercicio 9 en una lista\n",
    "2. Convierte la tupla del ejercicio 9 en un set\n",
    "3. Convierte la tupla del ejercicio 9 en un diccionario. Usa también los índices"
   ]
  },
  {
   "cell_type": "code",
   "execution_count": null,
   "metadata": {},
   "outputs": [
    {
     "name": "stdout",
     "output_type": "stream",
     "text": [
      "La lista del ejercicio 9 convertida a tupla es [3, 20, 3, 47, 19, 3, 29, 45, 67, 78, 90, 3, 3, 5, 2, 4, 7, 9, 4, 2, 4, 3, 3, 4, 6, 7]\n",
      "La lista del ejercicio 9 convertida a set es {2, 3, 67, 5, 4, 7, 6, 9, 45, 78, 47, 19, 20, 90, 29}\n",
      "{0: 3, 1: 20, 2: 3, 3: 47, 4: 19, 5: 3, 6: 29, 7: 45, 8: 67, 9: 78, 10: 90, 11: 3, 12: 3, 13: 5, 14: 2, 15: 4, 16: 7, 17: 9, 18: 4, 19: 2, 20: 4, 21: 3, 22: 3, 23: 4, 24: 6, 25: 7}\n"
     ]
    }
   ],
   "source": [
    "print (f\"La lista del ejercicio 9 convertida a tupla es {list(ejer_9)}\") # con list convertimos la tupla del ejercicio 9 en una lista\n",
    "print (f\"La lista del ejercicio 9 convertida a set es {set(ejer_9)}\") # con set convertimos la tupla del ejercicio 9 en un set\n",
    "mi_dic = {} # declaramos una nueva variable como un diccionario vacío\n",
    "for ind,cont in enumerate(list(ejer_9)): # recorremos un enumerate de la lista de la tupla del ejercicio 9 con dos variables de control ind y cont\n",
    "    mi_dic[ind] = cont # asignamos el primer valor del enumerate (0) con el primer valor de la lista y así sucesivamente dentro del diccionario vacío\n",
    "print (mi_dic)"
   ]
  },
  {
   "cell_type": "markdown",
   "metadata": {},
   "source": [
    "## Ejercicio 11\n",
    "Convierte la siguiente lista en un diccionario\n",
    "> ```ejer_11 = [(\"x\", 1), (\"x\", 2), (\"x\", 3), (\"y\", 1), (\"y\", 2), (\"z\", 1)]```\n",
    "\n",
    "TIP: Puedes usar dos variables de control en un bucle `for`. Una por cada valor de las tuplas."
   ]
  },
  {
   "cell_type": "code",
   "execution_count": 7,
   "metadata": {},
   "outputs": [
    {
     "name": "stdout",
     "output_type": "stream",
     "text": [
      "{'x': 3, 'y': 2, 'z': 1}\n"
     ]
    }
   ],
   "source": [
    "ejer_11 = [(\"x\", 1), (\"x\", 2), (\"x\", 3), (\"y\", 1), (\"y\", 2), (\"z\", 1)]\n",
    "dicc_11 = {} # declaramos una nueva variable como diccionario vacío\n",
    "\n",
    "for clave, valor in ejer_11: # hacemos un for con dos variables de control para recorrer cada valor de las tuplas\n",
    "\n",
    "    dicc_11[clave] = valor # asignamos el valor de las claves (x, y, z) con un valor (1, 2 y 3)\n",
    "\n",
    "print (dicc_11) # al no poder existir dos valores con las misma clave en un diccionario, se sobreescribe la clave con el último valor que se recorre en el for (en este caso x y 3)\n",
    "# ocurre lo mismo con y donde toma el valor 2 ya que es el último que se recorre en el for\n"
   ]
  },
  {
   "attachments": {},
   "cell_type": "markdown",
   "metadata": {},
   "source": [
    "## Ejercicio 12\n",
    "1. Crea una lista ordenada ascendente con las claves del diccionario\n",
    "2. Crea otra lista ordenada descendente con los valores\n",
    "3. Añade una nueva clave/valor\n",
    "4. Busca la clave igual a 2 dentro del diccionario\n",
    "5. Itera la clave y el valor del diccionario con un único for\n",
    "> ```ejer_12 = {4:78, 2:98, 8:234, 5:29}```"
   ]
  },
  {
   "cell_type": "code",
   "execution_count": null,
   "metadata": {},
   "outputs": [
    {
     "name": "stdout",
     "output_type": "stream",
     "text": [
      "[2, 4, 5, 8]\n",
      "[8, 5, 4, 2]\n",
      "{4: 78, 2: 98, 8: 234, 5: 29, 7: 45}\n",
      "Clave igual a 2 encontrada en la posición 1\n"
     ]
    }
   ],
   "source": [
    "ejer_12 = {4:78, 2:98, 8:234, 5:29}\n",
    "\n",
    "lista_ejer_12 = list(ejer_12.keys()) # primero creamos una variable con una lista de las claves del diccionario inicial\n",
    "\n",
    "print(sorted(lista_ejer_12)) # con sorted ordenamos los valores en orden ascendente por defecto\n",
    "\n",
    "print(sorted(lista_ejer_12,reverse=True)) # si indicamos reverse = True se imprime la lista de claves en orden descendente\n",
    "\n",
    "ejer_12[7] = 45 # se añade una nueva clave y un nuevo valor al diccionario\n",
    "print (ejer_12)\n",
    "\n",
    "for clave in lista_ejer_12: # se crea un for que recorre la lista de claves\n",
    "    if clave == 2: # si se encuentra el 2 en la lista\n",
    "        print(f\"Clave igual a 2 encontrada en la posición {lista_ejer_12.index(2)}\") # se imprime su posición con ayuda de index"
   ]
  },
  {
   "cell_type": "markdown",
   "metadata": {},
   "source": [
    "## Ejercicio 13\n",
    "Junta ambos diccionarios. Para ello, utiliza `update`\n",
    "> ```ejer_13_1 = {1: 11, 2: 22}```\n",
    ">\n",
    "> ```ejer_13_1 = {1: 11, 2: 22}```"
   ]
  },
  {
   "cell_type": "code",
   "execution_count": 44,
   "metadata": {},
   "outputs": [
    {
     "name": "stdout",
     "output_type": "stream",
     "text": [
      "{6: 18, 12: 20, 4: 3, 9: 27}\n"
     ]
    }
   ],
   "source": [
    "ejer_13_1 = {1: 11, 2: 22}\n",
    "\n",
    "ejer_13_1 = {1: 11, 2: 22}\n",
    "\n",
    "# en este caso, los dos diccionarios poseen el mismo nombre, de modo que al declarar el segundo se sobreescribirá sobre el primero. \n",
    "# Igualmente, ambos diccionarios poseeen idénticas claves y valores, así que juntarlos  con un update daría como resultado el mismo diccionario ya que se sobreescribirán claves y valores\n",
    "\n",
    "#Si desearamos juntar dos diccionarios y que resulte sería de la siguiente manera:\n",
    "\n",
    "ejer_13_3 = {6: 18, 12: 20}\n",
    "\n",
    "ejer_13_4 = {4: 3, 9: 27}\n",
    "\n",
    "ejer_13_3.update(ejer_13_4)\n",
    "\n",
    "print (ejer_13_3)\n"
   ]
  },
  {
   "cell_type": "markdown",
   "metadata": {},
   "source": [
    "## Ejercicio 14\n",
    "Suma todos los valores del dicionario\n",
    "> ```ejer_14 = {1: 11, 2: 22, 3: 33, 4: 44, 5: 55}```"
   ]
  },
  {
   "cell_type": "code",
   "execution_count": null,
   "metadata": {},
   "outputs": [
    {
     "name": "stdout",
     "output_type": "stream",
     "text": [
      "165\n"
     ]
    }
   ],
   "source": [
    "ejer_14 = {1: 11, 2: 22, 3: 33, 4: 44, 5: 55}\n",
    "\n",
    "lista_ejer_14 = list(ejer_14.values()) # primero creamos una lista con los valores del diccionario\n",
    "\n",
    "print(sum(lista_ejer_14)) # con sum se pueden sumar todos los elementos de una lista"
   ]
  },
  {
   "cell_type": "markdown",
   "metadata": {},
   "source": [
    "## Ejercicio 15\n",
    "Multiplica todos los valores del diccionario\n",
    "> ```ejer_15 = {1: 11, 2: 22, 3: 33, 4: 44, 5: 55}```"
   ]
  },
  {
   "cell_type": "code",
   "execution_count": null,
   "metadata": {},
   "outputs": [
    {
     "name": "stdout",
     "output_type": "stream",
     "text": [
      "19326120\n"
     ]
    }
   ],
   "source": [
    "ejer_15 = {1: 11, 2: 22, 3: 33, 4: 44, 5: 55}\n",
    "\n",
    "lista_ejer_15 = list(ejer_15.values()) # se crea una lista con los valores del diccionario\n",
    "\n",
    "multip = 1 # definimos el valor inicial 1 para poder multiplicar el primer valor de lista por éste y que obtengamos el primer valor de la lista\n",
    "# multip irá cambiando se´gun vayamos multiplicando sucesivamente todos los valores de la lista\n",
    "\n",
    "for i in lista_ejer_15: # recorremos los valores de la lista de valores\n",
    "    multip = multip * i # hacemos que el primer valor sea 1 y los multiplicamos por el primer valor de la lista\n",
    "    # posteriormente en la siguiente vuelta del for multip será 11 y i será el siguiente valor (22), de modo que multip será 242\n",
    "    # en la siguiente vuelta multip será 242 y i 33 y así sucesivamente hasta obtener el resultado final\n",
    "print (multip)"
   ]
  },
  {
   "cell_type": "markdown",
   "metadata": {},
   "source": [
    "## Ejercicio 16\n",
    "1. Crea un set de tres elementos\n",
    "2. Añade un cuarto\n",
    "3. Elimina el último elemento añadido\n",
    "4. Elimina el elemento 10, si está presente. Usa `discard()`"
   ]
  },
  {
   "cell_type": "code",
   "execution_count": null,
   "metadata": {},
   "outputs": [
    {
     "name": "stdout",
     "output_type": "stream",
     "text": [
      "{1, 100, 'Ejercicio', 10, 15}\n",
      "{1, 100, 'Ejercicio', 10}\n",
      "{1, 100, 'Ejercicio'}\n"
     ]
    }
   ],
   "source": [
    "set_16 = {1,100,10, \"Ejercicio\"} # creamos un set con 3 elementos\n",
    "\n",
    "nuevo_elemento = 15 # declaramos una nueva variable\n",
    "\n",
    "set_16.add(nuevo_elemento) # la añadimos al set con add\n",
    "\n",
    "print(set_16)\n",
    "\n",
    "set_16.remove(nuevo_elemento) # con remove eliminamos el valor recientemente añadido\n",
    "\n",
    "print(set_16)\n",
    "\n",
    "set_16.discard(10) # con discard eliminamos el elemento 10\n",
    "\n",
    "print(set_16)"
   ]
  }
 ],
 "metadata": {
  "kernelspec": {
   "display_name": "Python 3",
   "language": "python",
   "name": "python3"
  },
  "language_info": {
   "codemirror_mode": {
    "name": "ipython",
    "version": 3
   },
   "file_extension": ".py",
   "mimetype": "text/x-python",
   "name": "python",
   "nbconvert_exporter": "python",
   "pygments_lexer": "ipython3",
   "version": "3.11.9"
  }
 },
 "nbformat": 4,
 "nbformat_minor": 4
}
