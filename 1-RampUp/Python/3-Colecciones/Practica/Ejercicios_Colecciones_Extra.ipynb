{
 "cells": [
  {
   "cell_type": "markdown",
   "metadata": {},
   "source": [
    "## Ejercicio Extra\n",
    "Programa el SW de una biblioteca:\n",
    "\n",
    "* Preguntar qué operación quieres realizar (visualizar todos los libros de la biblioteca/buscar libro/añadir libro/eliminar libro por título)\n",
    "    * En caso de que pida el usuario elija visualizar se visualizarán todos los libros\n",
    "    * Buscar libro: búsqueda por título que introduce el usuario y se visualiza todos los campos del libro\n",
    "    * Añadir libro: se debe solicitar al usuario que introduzca título y autor para el nuevo libro y se añade el libro a la lista de libros\n",
    "    * Eliminar libro: se solicita al usuario el título del libro y éste debe ser eliminado de la lista de libros\n",
    "    * Alquilar libro: se solicita al usuario el título del libro y se debe pasar el campo \"Alquilado\" a True\n",
    "    * Devolver libro: se solicita al usuario el título del libro y se debe pasar el campo \"Alquilado\" a False"
   ]
  },
  {
   "cell_type": "code",
   "execution_count": null,
   "metadata": {},
   "outputs": [
    {
     "name": "stdout",
     "output_type": "stream",
     "text": [
      "[{'Titulo': 'Hands-On Machine Learning with Scikit-Learn, Keras, and TensorFlow', 'Autor': 'Aurélien Géron', 'Alquilado': True}, {'Titulo': 'Pattern Recognition and Machine Learning', 'Autor': 'Christopher M. Bishop', 'Alquilado': False}, {'Titulo': 'Deep Learning', 'Autor': 'Ian Goodfellow, Yoshua Bengio, Aaron Courville', 'Alquilado': True}, {'Titulo': 'The Elements of Statistical Learning', 'Autor': 'Trevor Hastie, Robert Tibshirani, Jerome Friedman', 'Alquilado': False}, {'Titulo': 'Data Science for Business', 'Autor': 'Foster Provost, Tom Fawcett', 'Alquilado': False}, {'Titulo': 'Bayesian Data Analysis', 'Autor': 'Andrew Gelman et al.', 'Alquilado': True}, {'Titulo': 'Introduction to the Theory of Computation', 'Autor': 'Michael Sipser', 'Alquilado': False}, {'Titulo': 'Artificial Intelligence: A Modern Approach', 'Autor': 'Stuart Russell, Peter Norvig', 'Alquilado': True}, {'Titulo': 'Computer Vision: Algorithms and Applications', 'Autor': 'Richard Szeliski', 'Alquilado': False}, {'Titulo': 'Data Science from Scratch', 'Autor': 'Joel Grus', 'Alquilado': True}, {'Titulo': 'The Art of Statistics', 'Autor': 'David Spiegelhalter', 'Alquilado': False}, {'Titulo': 'Python Machine Learning', 'Autor': 'Sebastian Raschka, Vahid Mirjalili', 'Alquilado': True}, {'Titulo': 'An Introduction to Statistical Learning', 'Autor': 'Gareth James, Daniela Witten, Trevor Hastie, Robert Tibshirani', 'Alquilado': False}, {'Titulo': 'Fundamentals of Data Engineering', 'Autor': 'Joe Reis, Matt Housley', 'Alquilado': False}, {'Titulo': 'Storytelling with Data', 'Autor': 'Cole Nussbaumer Knaflic', 'Alquilado': True}, {'Titulo': 'Building Machine Learning Powered Applications', 'Autor': 'Emmanuel Ameisen', 'Alquilado': False}, {'Titulo': 'Practical Statistics for Data Scientists', 'Autor': 'Peter Bruce, Andrew Bruce', 'Alquilado': True}, {'Titulo': 'SQL for Data Scientists', 'Autor': 'Renee M. P. Teate', 'Alquilado': False}, {'Titulo': 'Data Engineering on Azure', 'Autor': 'Vlad Riscutia', 'Alquilado': True}]\n"
     ]
    }
   ],
   "source": [
    "import pprint\n",
    "\n",
    "libros = [\n",
    "    {\"Titulo\": \"Python Data Science Handbook\", \"Autor\": \"Jake VanderPlas\", \"Alquilado\": False},\n",
    "    {\"Titulo\": \"Hands-On Machine Learning with Scikit-Learn, Keras, and TensorFlow\", \"Autor\": \"Aurélien Géron\", \"Alquilado\": True},\n",
    "    {\"Titulo\": \"Pattern Recognition and Machine Learning\", \"Autor\": \"Christopher M. Bishop\", \"Alquilado\": False},\n",
    "    {\"Titulo\": \"Deep Learning\", \"Autor\": \"Ian Goodfellow, Yoshua Bengio, Aaron Courville\", \"Alquilado\": True},\n",
    "    {\"Titulo\": \"The Elements of Statistical Learning\", \"Autor\": \"Trevor Hastie, Robert Tibshirani, Jerome Friedman\", \"Alquilado\": False},\n",
    "    {\"Titulo\": \"Data Science for Business\", \"Autor\": \"Foster Provost, Tom Fawcett\", \"Alquilado\": False},\n",
    "    {\"Titulo\": \"Bayesian Data Analysis\", \"Autor\": \"Andrew Gelman et al.\", \"Alquilado\": True},\n",
    "    {\"Titulo\": \"Introduction to the Theory of Computation\", \"Autor\": \"Michael Sipser\", \"Alquilado\": False},\n",
    "    {\"Titulo\": \"Artificial Intelligence: A Modern Approach\", \"Autor\": \"Stuart Russell, Peter Norvig\", \"Alquilado\": True},\n",
    "    {\"Titulo\": \"Computer Vision: Algorithms and Applications\", \"Autor\": \"Richard Szeliski\", \"Alquilado\": False},\n",
    "    {\"Titulo\": \"Data Science from Scratch\", \"Autor\": \"Joel Grus\", \"Alquilado\": True},\n",
    "    {\"Titulo\": \"The Art of Statistics\", \"Autor\": \"David Spiegelhalter\", \"Alquilado\": False},\n",
    "    {\"Titulo\": \"Python Machine Learning\", \"Autor\": \"Sebastian Raschka, Vahid Mirjalili\", \"Alquilado\": True},\n",
    "    {\"Titulo\": \"An Introduction to Statistical Learning\", \"Autor\": \"Gareth James, Daniela Witten, Trevor Hastie, Robert Tibshirani\", \"Alquilado\": False},\n",
    "    {\"Titulo\": \"Fundamentals of Data Engineering\", \"Autor\": \"Joe Reis, Matt Housley\", \"Alquilado\": False},\n",
    "    {\"Titulo\": \"Storytelling with Data\", \"Autor\": \"Cole Nussbaumer Knaflic\", \"Alquilado\": True},\n",
    "    {\"Titulo\": \"Building Machine Learning Powered Applications\", \"Autor\": \"Emmanuel Ameisen\", \"Alquilado\": False},\n",
    "    {\"Titulo\": \"Practical Statistics for Data Scientists\", \"Autor\": \"Peter Bruce, Andrew Bruce\", \"Alquilado\": True},\n",
    "    {\"Titulo\": \"SQL for Data Scientists\", \"Autor\": \"Renee M. P. Teate\", \"Alquilado\": False},\n",
    "    {\"Titulo\": \"Data Engineering on Azure\", \"Autor\": \"Vlad Riscutia\", \"Alquilado\": True}\n",
    "]\n",
    "\n",
    "def imprimir ():\n",
    "    pprint.pprint (libros)\n",
    "\n",
    "def buscar (libros):\n",
    "    libro_buscar = input (\"Introduce el título del libro para que lo busque:\")\n",
    "    for libro in libros:\n",
    "        titulo = libro[\"Titulo\"]\n",
    "        if libro_buscar == titulo:\n",
    "            print (libro)\n",
    "\n",
    "def nuevo_libro (libros):\n",
    "    nuevo_titulo = input (\"Introduce el título del  nuevo libro:\")\n",
    "    nuevo_autor = input (\"Introduce el autor del  nuevo libro:\")\n",
    "    for libro in libros:\n",
    "        if nuevo_titulo != libro or nuevo_autor != libro:\n",
    "            libros.append({\"Titulo\":nuevo_titulo,\n",
    "                           \"Autor\":nuevo_autor})\n",
    "            print(libros)\n",
    "            break\n",
    "           \n",
    "def eliminar (libros):\n",
    "    libro_a_eliminar = input (\"Introduce el título del libro para que lo elimine:\")\n",
    "    for libro in libros:\n",
    "        titulo = libro[\"Titulo\"]\n",
    "        if libro_a_eliminar == titulo:\n",
    "            libros.remove(libro)\n",
    "    print(libros)\n",
    "\n",
    "\n"
   ]
  }
 ],
 "metadata": {
  "kernelspec": {
   "display_name": "Python 3",
   "language": "python",
   "name": "python3"
  },
  "language_info": {
   "codemirror_mode": {
    "name": "ipython",
    "version": 3
   },
   "file_extension": ".py",
   "mimetype": "text/x-python",
   "name": "python",
   "nbconvert_exporter": "python",
   "pygments_lexer": "ipython3",
   "version": "3.11.9"
  }
 },
 "nbformat": 4,
 "nbformat_minor": 2
}
