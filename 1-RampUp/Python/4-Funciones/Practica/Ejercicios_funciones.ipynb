{
 "cells": [
  {
   "cell_type": "markdown",
   "metadata": {},
   "source": [
    "![imagen](./img/ejercicios.png)"
   ]
  },
  {
   "cell_type": "markdown",
   "metadata": {},
   "source": [
    "# Ejercicios funciones\n",
    "## Ejercicio 1\n",
    "Escribe una función que convierta números del 1 al 7 en nombres de los dias de la semana. La función constará de un único argumento numérico y una salida de tipo string"
   ]
  },
  {
   "cell_type": "code",
   "execution_count": null,
   "metadata": {},
   "outputs": [
    {
     "name": "stdout",
     "output_type": "stream",
     "text": [
      "El número 1 corresponde al Lunes\n"
     ]
    }
   ],
   "source": [
    "def dia_semana(numero): # se define una función con un argumento correpondiente al número que deseamos convertir en día de la semana\n",
    "    dicc_dias = {\"1\":\"Lunes\",\"2\":\"Martes\",\"3\":\"Miércoles\",\"4\":\"Jueves\",\"5\":\"Viernes\",\"6\":\"Sábado\",\"7\":\"Domingo\"} # declaramos un diccionario donde se asignan claves numéricas a valores definidos como días de la semana\n",
    "    if numero in dicc_dias.keys(): # si se da el caso de que el numero introducido se encuentra entre la lista de claves del diccionario\n",
    "        print(f\"El número {numero} corresponde al {dicc_dias[numero]}\") # se imprime el valor asignado a esa clave equivalente al número introducido\n",
    "\n",
    "dia_semana(\"1\")"
   ]
  },
  {
   "cell_type": "markdown",
   "metadata": {},
   "source": [
    "## Ejercicio 2\n",
    "En el ejercicio 8 de flujos de control, creábamos una pirámide invertida de números desde el 5. Crea una función que replique el comportamiento de la pirámide, y utiliza un único parámetro de entrada de la función para determinar el número de filas de la pirámide."
   ]
  },
  {
   "cell_type": "code",
   "execution_count": null,
   "metadata": {},
   "outputs": [
    {
     "name": "stdout",
     "output_type": "stream",
     "text": [
      "6 5 4 3 2 1 \n",
      "5 4 3 2 1 \n",
      "4 3 2 1 \n",
      "3 2 1 \n",
      "2 1 \n",
      "1 \n"
     ]
    }
   ],
   "source": [
    "def piramide_invertida(longitud_lista): # se define una función con un argumento que definirá el tamaño de la pirámide invertida\n",
    "    lista_nueva =[] # esta lista vacía servirá para ir añadiendo números en oreden descendente en función del número introducido\n",
    "    while longitud_lista > 0: # mientras el número introducido sea mayor que 0 se ejecuta este bucle while\n",
    "        lista_nueva.append(longitud_lista) # se añade el número a la lista\n",
    "        longitud_lista = longitud_lista - 1 # se resta una unidad al número y se vuelve a recorrer el while hasta que no se cumpla la condición de su ejecución\n",
    "    # este primer while nos permite crear una lista en función del número que hayamos introducido, de manera que si metemos un 7 como argumento la lista\n",
    "    # final tendría el siguiente aspecto [7,6,5,4,3,2,1]\n",
    "    while lista_nueva != []: # mientras la lista recién creada no esté vacía\n",
    "        for num in lista_nueva: # este bucle for va recorriendo sus elementos\n",
    "            print (num, end=\" \") # imprime cada elemento de esa lista separado con un espacio\n",
    "        print()\n",
    "        del(lista_nueva[0]) # elimina el primer elemento de la lista y repite el proceso de impresión de cada elemento de la lista hasta que esté vacía\n",
    "\n",
    "piramide_invertida(6)"
   ]
  },
  {
   "cell_type": "markdown",
   "metadata": {},
   "source": [
    "## Ejercicio 3\n",
    "Escribe una función que compare dos números. La función tiene dos argumentos y hay tres salidas posibles: que sean iguales, que el primero sea  mayor que el segundo, o que el segundo sea mayor que el primero"
   ]
  },
  {
   "cell_type": "code",
   "execution_count": null,
   "metadata": {},
   "outputs": [
    {
     "name": "stdout",
     "output_type": "stream",
     "text": [
      "5 es mayor que 1\n"
     ]
    }
   ],
   "source": [
    "def comparador (num_1,num_2): # esta función posee dos argumentos y nos servirá para comparar dichos argumentos\n",
    "    if num_1 > num_2: # si el primero es mayor al segundo\n",
    "        print(f\"{num_1} es mayor que {num_2}\") \n",
    "    elif num_1 == num_2: # si ambos son iguales\n",
    "        print(f\"{num_1} y {num_2} son idénticos\")\n",
    "    elif num_2 > num_1: # si el segundo es mayor que el primero\n",
    "        print(f\"{num_2} es mayor que {num_1}\")\n",
    "\n",
    "comparador(1,5)"
   ]
  },
  {
   "attachments": {},
   "cell_type": "markdown",
   "metadata": {},
   "source": [
    "## Ejercicio 4\n",
    "Escribe una función que sea un contador de letras. En el primer argumento tienes que introducir un texto, y el segundo que sea una letra que contar. La función tiene que devolver un entero con el número de veces que aparece esa letra, tanto mayúscula, como minúscula"
   ]
  },
  {
   "cell_type": "code",
   "execution_count": 67,
   "metadata": {},
   "outputs": [
    {
     "name": "stdout",
     "output_type": "stream",
     "text": [
      "La letra e está 5 vez / veces en su palabra\n"
     ]
    }
   ],
   "source": [
    "def cuenta_letras (texto,letra):\n",
    "    num_letras = 0\n",
    "    for i in texto:\n",
    "        if letra == i:\n",
    "            num_letras = num_letras + 1\n",
    "    print(f\"La letra {letra} está {num_letras} vez / veces en su palabra\")\n",
    "\n",
    "cuenta_letras(\"En un lugar de la Mancha, de cuyo nombre no quiero acordarme\",\"e\")"
   ]
  },
  {
   "cell_type": "markdown",
   "metadata": {},
   "source": [
    "## Ejercicio 5\n",
    "Escribe una función que tenga un único argumento, un string. La salida de la función tiene que ser un diccionario con el conteo de todas las letras de ese string, siendo la clave la letra y el valor el conteo."
   ]
  },
  {
   "cell_type": "code",
   "execution_count": 75,
   "metadata": {},
   "outputs": [
    {
     "data": {
      "text/plain": [
       "{'Esternocleidomastoideo': 22}"
      ]
     },
     "execution_count": 75,
     "metadata": {},
     "output_type": "execute_result"
    }
   ],
   "source": [
    "def dicc_letras (palabra):\n",
    "    num_letras = 0\n",
    "    dicc = {}\n",
    "    for letra in palabra:\n",
    "        num_letras = num_letras + 1\n",
    "    dicc[palabra] = num_letras\n",
    "    return dicc\n",
    "\n",
    "dicc_letras(\"Esternocleidomastoideo\")\n"
   ]
  },
  {
   "cell_type": "markdown",
   "metadata": {},
   "source": [
    "## Ejercicio 6\n",
    "Escribir una función que añada o elimine elementos en una lista. La función necesita los siguientes argumentos:\n",
    "* lista: la lista donde se añadirán o eliminarán los elementos\n",
    "* comando: \"add\" o \"remove\"\n",
    "* elemento: Por defecto es None.\n",
    "\n",
    "Tendrá como salida la lista"
   ]
  },
  {
   "cell_type": "code",
   "execution_count": 130,
   "metadata": {},
   "outputs": [
    {
     "data": {
      "text/plain": [
       "[3, 5, 6, 4, 4, 2, False, 2, 9]"
      ]
     },
     "execution_count": 130,
     "metadata": {},
     "output_type": "execute_result"
    }
   ],
   "source": [
    "def lista_modificable (*args, accion = \"add\",elemento = None):\n",
    "    lista_nueva = [*args]\n",
    "    if accion == \"add\":\n",
    "        lista_nueva.append(elemento)\n",
    "        return lista_nueva\n",
    "    elif accion == \"remove\":\n",
    "        if elemento not in lista_nueva:\n",
    "            print(\"Error! Ese elemento no está en la lista. No puedo eliminarlo\")\n",
    "        elif elemento in lista_nueva:\n",
    "            for num in lista_nueva:\n",
    "                while elemento in lista_nueva:\n",
    "                    lista_nueva.remove(elemento)\n",
    "            return lista_nueva\n",
    "        \n",
    "\n",
    "lista_modificable(3,5,6,4,4,2,True,True,False,2,9,accion=\"remove\",elemento=True)"
   ]
  },
  {
   "cell_type": "markdown",
   "metadata": {},
   "source": [
    "## Ejercicio 7\n",
    "Crea una función que reciba un número arbitrario de palabras, y devuelva una frase completa, separando las palabras con espacios."
   ]
  },
  {
   "cell_type": "code",
   "execution_count": 132,
   "metadata": {},
   "outputs": [
    {
     "data": {
      "text/plain": [
       "'En un lugar de la Mancha'"
      ]
     },
     "execution_count": 132,
     "metadata": {},
     "output_type": "execute_result"
    }
   ],
   "source": [
    "def union_palabras(*args):\n",
    "    return \" \".join(args)\n",
    "\n",
    "union_palabras(\"En\",\"un\",\"lugar\",\"de\",\"la\",\"Mancha\")"
   ]
  },
  {
   "cell_type": "markdown",
   "metadata": {},
   "source": [
    "## Ejercicio 8\n",
    "Escribe un programa que obtenga el enésimo número de la [serie de Fibonacci](https://es.wikipedia.org/wiki/Sucesi%C3%B3n_de_Fibonacci). Tienes que crear una función recursiva con un único argumento.\n",
    "\n",
    "```Python\n",
    "fibonacci(2) = 1\n",
    "fibonacci(4) = 3\n",
    "fibonacci(5) = 5\n",
    "fibonacci(8) = 21\n",
    "```"
   ]
  },
  {
   "cell_type": "markdown",
   "metadata": {},
   "source": [
    "fibonacci(n) = fibonacci(n-1) + fibonacci(n-2)"
   ]
  },
  {
   "cell_type": "code",
   "execution_count": 21,
   "metadata": {},
   "outputs": [
    {
     "data": {
      "text/plain": [
       "6765"
      ]
     },
     "execution_count": 21,
     "metadata": {},
     "output_type": "execute_result"
    }
   ],
   "source": [
    "def fibonacci (numero):\n",
    "    lista_fibo = [1,1]\n",
    "    for num in lista_fibo:\n",
    "        while lista_fibo[-1] < 10000000:\n",
    "            lista_fibo.append(lista_fibo[-1] + lista_fibo[-2])\n",
    "    fibo_final = lista_fibo[numero-2] + lista_fibo[numero-3]\n",
    "    return fibo_final\n",
    "\n",
    "fibonacci(20)   \n"
   ]
  },
  {
   "attachments": {},
   "cell_type": "markdown",
   "metadata": {},
   "source": [
    "## Ejercicio 9\n",
    "Define en una única celda las siguientes funciones:\n",
    "* Función que calcule el área de un cuadrado\n",
    "* Función que calcule el área de un triángulo\n",
    "* Función que calcule el área de un círculo\n",
    "\n",
    "En otra celda, calcular el area de:\n",
    "* Dos círculos de radio 10 + un triángulo de base 3 y altura 7\n",
    "* Un cuadrado de lado = 10 + 3 círculos (uno de radio = 4 y los otros dos de radio = 6) + 5 triángulos de base = 2 + altura = 4"
   ]
  },
  {
   "cell_type": "code",
   "execution_count": 2,
   "metadata": {},
   "outputs": [],
   "source": [
    "import math\n",
    "\n",
    "def area_cuadrado(lado):\n",
    "    area = lado * lado\n",
    "    return area\n",
    "\n",
    "def area_triángulo(base,altura):\n",
    "    area = (base * altura)/2\n",
    "    return area\n",
    "\n",
    "def area_circulo(radio):\n",
    "    area = math.pi * (radio**2)\n",
    "    return area"
   ]
  },
  {
   "cell_type": "code",
   "execution_count": 11,
   "metadata": {},
   "outputs": [
    {
     "name": "stdout",
     "output_type": "stream",
     "text": [
      "El resultado del primer cálculo de áreas es 638.8 cm cuadrados\n",
      "El resultado del segundo cálculo de áreas es 396.5 cm cuadrados\n"
     ]
    }
   ],
   "source": [
    "primer_calculo = (2*area_circulo(10))+ area_triángulo(3,7)\n",
    "\n",
    "print(f\"El resultado del primer cálculo de áreas es {primer_calculo.__round__(1)} cm cuadrados\")\n",
    "\n",
    "segundo_calculo = area_cuadrado(10) + (2*area_circulo(6)) + area_circulo(4) + (5*area_triángulo(2,4))\n",
    "\n",
    "print(f\"El resultado del segundo cálculo de áreas es {segundo_calculo.__round__(1)} cm cuadrados\")"
   ]
  },
  {
   "cell_type": "markdown",
   "metadata": {},
   "source": [
    "## Ejercicio 10\n",
    "\n",
    "Guarda las funciones de estos ejercicios en un fichero llamado `funciones.py` e importalas desde este jupyter notebook para probar que puedes hacer uso de ellas."
   ]
  }
 ],
 "metadata": {
  "kernelspec": {
   "display_name": "Python 3",
   "language": "python",
   "name": "python3"
  },
  "language_info": {
   "codemirror_mode": {
    "name": "ipython",
    "version": 3
   },
   "file_extension": ".py",
   "mimetype": "text/x-python",
   "name": "python",
   "nbconvert_exporter": "python",
   "pygments_lexer": "ipython3",
   "version": "3.11.9"
  }
 },
 "nbformat": 4,
 "nbformat_minor": 4
}
