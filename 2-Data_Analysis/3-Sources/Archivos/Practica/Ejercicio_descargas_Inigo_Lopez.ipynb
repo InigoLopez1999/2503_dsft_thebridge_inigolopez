{
 "cells": [
  {
   "attachments": {},
   "cell_type": "markdown",
   "metadata": {},
   "source": [
    "## Ejercicio descargas"
   ]
  },
  {
   "attachments": {},
   "cell_type": "markdown",
   "metadata": {},
   "source": [
    "Python es un lenguaje de propósito general, por lo que podemos desarrollar otros programas,\n",
    "aparte de ciencia de datos, que nos permitan montar dashboards, crear APIs o automatizar\n",
    "procesos. En este caso vas a automatizar un proceso, en el que tendrás que desarrollar un\n",
    "script que ordene todos los archivos de una carpeta, dependiendo de la extensión de los\n",
    "mismos.\n",
    "\n",
    "\n",
    "El objetivo es ordenar la típica carpeta de cajón desastre donde se nos acumulan archivos de\n",
    "todos los formatos como: imágenes, words, presentaciones, excels, ejecutables, zips, etc... Y\n",
    "que no vamos a ir viendo archivo a archivo, ordenándolos.... La solución suele ser eliminarlo\n",
    "todo. Vamos a intentar no tener que llegar a eso, ordenando los ficheros automáticamente en\n",
    "carpetas y revisar las que nos interesen. La típica carpeta donde aplicaríamos este programa es\n",
    "la de “Descargas”, donde se suelen acumular muchos archivos temporales.\n",
    "\n",
    "\n",
    "Por tanto, **el programa tiene que guardar los archivos de la carpeta “Descargas” (o cualquier\n",
    "otra donde acumules mucho archivo temporal) en los siguientes directorios dentro de la\n",
    "propia carpeta “Descargas”**:\n",
    "- Imagenes\n",
    "- Documentos\n",
    "- Software\n",
    "- Otros\n",
    "\n",
    "Cada vez que ejecutes el script, automáticamente se ordenarán todos los archivos en sus\n",
    "correspondientes carpetas.\n"
   ]
  },
  {
   "attachments": {},
   "cell_type": "markdown",
   "metadata": {},
   "source": [
    "### 1. Crea un un programa con el flujo principal y encapsúlalo en funciones."
   ]
  },
  {
   "cell_type": "code",
   "execution_count": 1,
   "metadata": {},
   "outputs": [],
   "source": [
    "import os\n",
    "import shutil"
   ]
  },
  {
   "cell_type": "code",
   "execution_count": 2,
   "metadata": {},
   "outputs": [
    {
     "data": {
      "text/plain": [
       "'c:\\\\Users\\\\inilo\\\\The_Bridge\\\\Iñigo\\\\2503_dsft_thebridge_inigolopez\\\\2-Data_Analysis\\\\3-Sources\\\\Archivos\\\\Practica'"
      ]
     },
     "execution_count": 2,
     "metadata": {},
     "output_type": "execute_result"
    }
   ],
   "source": [
    "os.getcwd()"
   ]
  },
  {
   "cell_type": "code",
   "execution_count": 370,
   "metadata": {},
   "outputs": [
    {
     "data": {
      "text/plain": [
       "['2023_Mw_7.8_Kahramanmaras_Turkiye_EQ_Media Repository.pdf',\n",
       " 'Battle.net-Setup.exe',\n",
       " 'bitdefender_avfree.exe',\n",
       " 'BraveBrowserSetup-BRV010.exe',\n",
       " 'Daño-acumulado-en-estructuras-caso-estudio-daño-en-edificios-de-marcos-de-H.A-en-ciudad-de-Mexico-durante-el-terremoto-de-Puebla-Morelos.pdf',\n",
       " 'DiscordSetup.exe',\n",
       " 'DuckDuckGo.appinstaller',\n",
       " 'Ejercicios_Flujos_Extra_InigoLopez.ipynb',\n",
       " 'EpicInstaller-18.0.0.msi',\n",
       " 'eq2015.csv.zip',\n",
       " 'eqcat_CEUS1568-2018.csv',\n",
       " 'eth-2234-02.pdf',\n",
       " 'Examen_RampUp_DSFT_2402.ipynb',\n",
       " 'Examen_RampUp_DSFT_2503.ipynb',\n",
       " 'Examen_RampUp_DSFT_2503_InigoLopez.ipynb',\n",
       " 'export.geojson',\n",
       " 'gadm41_NPL_shp',\n",
       " 'gadm41_NPL_shp.zip',\n",
       " 'Git-2.48.1-64-bit.exe',\n",
       " 'git-lfs-windows-v3.6.1.exe',\n",
       " 'GitHubDesktopSetup-x64.exe',\n",
       " 'hotosm_tur_destroyed_buildings_polygons_csv_csv_uid_447d931d-bfba-4e57-9c17-c335e146c471.zip',\n",
       " 'mesaugat-geoJSON-Nepal-37f73c5.zip',\n",
       " 'npl_admin_centralregion_a0l_20150428.pdf',\n",
       " 'OperaSetup.exe',\n",
       " 'python-3.11.9-amd64.exe',\n",
       " 'Revista+119+Reforma+Siglo+XXI+version+web_watermark-43-48.pdf',\n",
       " 'SlackSetup.exe',\n",
       " 'SteamSetup.exe',\n",
       " 'Supervivencia en el hundimiento del Titanic.ipynb',\n",
       " 'VSCodeUserSetup-x64-1.98.0.exe',\n",
       " '桃園市震災災害建物損失_112年.csv']"
      ]
     },
     "execution_count": 370,
     "metadata": {},
     "output_type": "execute_result"
    }
   ],
   "source": [
    "os.listdir()"
   ]
  },
  {
   "cell_type": "code",
   "execution_count": null,
   "metadata": {},
   "outputs": [
    {
     "data": {
      "text/plain": [
       "'C:\\\\Users\\\\inilo\\\\The_Bridge\\\\Iñigo\\\\Descargas_Prueba_ejer'"
      ]
     },
     "execution_count": 3,
     "metadata": {},
     "output_type": "execute_result"
    }
   ],
   "source": [
    "ruta = os.path.join(os.getcwd(),  \"C:\\\\Users\\\\inilo\\\\The_Bridge\\\\Iñigo\\\\Descargas_Prueba_ejer\") # Se crea una ruta de acceso al directorio donde se va a realizar la\n",
    "# clasificación de archivos\n",
    "ruta"
   ]
  },
  {
   "cell_type": "code",
   "execution_count": 4,
   "metadata": {},
   "outputs": [
    {
     "data": {
      "text/plain": [
       "'c:\\\\Users\\\\inilo\\\\The_Bridge\\\\Iñigo\\\\2503_dsft_thebridge_inigolopez\\\\2-Data_Analysis\\\\3-Sources\\\\Archivos\\\\Practica'"
      ]
     },
     "execution_count": 4,
     "metadata": {},
     "output_type": "execute_result"
    }
   ],
   "source": [
    "os.getcwd()"
   ]
  },
  {
   "cell_type": "code",
   "execution_count": 373,
   "metadata": {},
   "outputs": [
    {
     "data": {
      "text/plain": [
       "['2023_Mw_7.8_Kahramanmaras_Turkiye_EQ_Media Repository.pdf',\n",
       " 'Battle.net-Setup.exe',\n",
       " 'bitdefender_avfree.exe',\n",
       " 'BraveBrowserSetup-BRV010.exe',\n",
       " 'Daño-acumulado-en-estructuras-caso-estudio-daño-en-edificios-de-marcos-de-H.A-en-ciudad-de-Mexico-durante-el-terremoto-de-Puebla-Morelos.pdf',\n",
       " 'DiscordSetup.exe',\n",
       " 'DuckDuckGo.appinstaller',\n",
       " 'Ejercicios_Flujos_Extra_InigoLopez.ipynb',\n",
       " 'EpicInstaller-18.0.0.msi',\n",
       " 'eq2015.csv.zip',\n",
       " 'eqcat_CEUS1568-2018.csv',\n",
       " 'eth-2234-02.pdf',\n",
       " 'Examen_RampUp_DSFT_2402.ipynb',\n",
       " 'Examen_RampUp_DSFT_2503.ipynb',\n",
       " 'Examen_RampUp_DSFT_2503_InigoLopez.ipynb',\n",
       " 'export.geojson',\n",
       " 'gadm41_NPL_shp',\n",
       " 'gadm41_NPL_shp.zip',\n",
       " 'Git-2.48.1-64-bit.exe',\n",
       " 'git-lfs-windows-v3.6.1.exe',\n",
       " 'GitHubDesktopSetup-x64.exe',\n",
       " 'hotosm_tur_destroyed_buildings_polygons_csv_csv_uid_447d931d-bfba-4e57-9c17-c335e146c471.zip',\n",
       " 'mesaugat-geoJSON-Nepal-37f73c5.zip',\n",
       " 'npl_admin_centralregion_a0l_20150428.pdf',\n",
       " 'OperaSetup.exe',\n",
       " 'python-3.11.9-amd64.exe',\n",
       " 'Revista+119+Reforma+Siglo+XXI+version+web_watermark-43-48.pdf',\n",
       " 'SlackSetup.exe',\n",
       " 'SteamSetup.exe',\n",
       " 'Supervivencia en el hundimiento del Titanic.ipynb',\n",
       " 'VSCodeUserSetup-x64-1.98.0.exe',\n",
       " '桃園市震災災害建物損失_112年.csv']"
      ]
     },
     "execution_count": 373,
     "metadata": {},
     "output_type": "execute_result"
    }
   ],
   "source": [
    "os.listdir(ruta)"
   ]
  },
  {
   "cell_type": "code",
   "execution_count": 374,
   "metadata": {},
   "outputs": [
    {
     "name": "stdout",
     "output_type": "stream",
     "text": [
      "2023_Mw_7.8_Kahramanmaras_Turkiye_EQ_Media Repository.pdf\n",
      "Battle.net-Setup.exe\n",
      "bitdefender_avfree.exe\n",
      "BraveBrowserSetup-BRV010.exe\n",
      "Daño-acumulado-en-estructuras-caso-estudio-daño-en-edificios-de-marcos-de-H.A-en-ciudad-de-Mexico-durante-el-terremoto-de-Puebla-Morelos.pdf\n",
      "DiscordSetup.exe\n",
      "DuckDuckGo.appinstaller\n",
      "Ejercicios_Flujos_Extra_InigoLopez.ipynb\n",
      "EpicInstaller-18.0.0.msi\n",
      "eq2015.csv.zip\n",
      "eqcat_CEUS1568-2018.csv\n",
      "eth-2234-02.pdf\n",
      "Examen_RampUp_DSFT_2402.ipynb\n",
      "Examen_RampUp_DSFT_2503.ipynb\n",
      "Examen_RampUp_DSFT_2503_InigoLopez.ipynb\n",
      "export.geojson\n",
      "gadm41_NPL_shp\n",
      "gadm41_NPL_shp.zip\n",
      "Git-2.48.1-64-bit.exe\n",
      "git-lfs-windows-v3.6.1.exe\n",
      "GitHubDesktopSetup-x64.exe\n",
      "hotosm_tur_destroyed_buildings_polygons_csv_csv_uid_447d931d-bfba-4e57-9c17-c335e146c471.zip\n",
      "mesaugat-geoJSON-Nepal-37f73c5.zip\n",
      "npl_admin_centralregion_a0l_20150428.pdf\n",
      "OperaSetup.exe\n",
      "python-3.11.9-amd64.exe\n",
      "Revista+119+Reforma+Siglo+XXI+version+web_watermark-43-48.pdf\n",
      "SlackSetup.exe\n",
      "SteamSetup.exe\n",
      "Supervivencia en el hundimiento del Titanic.ipynb\n",
      "VSCodeUserSetup-x64-1.98.0.exe\n",
      "桃園市震災災害建物損失_112年.csv\n"
     ]
    }
   ],
   "source": [
    "for archivo in os.listdir(ruta):\n",
    "    print(archivo)"
   ]
  },
  {
   "cell_type": "code",
   "execution_count": null,
   "metadata": {},
   "outputs": [
    {
     "name": "stdout",
     "output_type": "stream",
     "text": [
      "C:\\Users\\inilo\\The_Bridge\\Iñigo\\Descargas_Prueba_ejer\n"
     ]
    }
   ],
   "source": [
    "os.chdir(ruta) # Se cambia el directorio a dicha ruta de acceso\n",
    "print(os.getcwd())"
   ]
  },
  {
   "attachments": {},
   "cell_type": "markdown",
   "metadata": {},
   "source": [
    "### 2. Crea un programa standalone (main.py, funciones.py, variables.py) que realice la tarea sin necesidad de Jupyter notebooks."
   ]
  },
  {
   "cell_type": "code",
   "execution_count": null,
   "metadata": {},
   "outputs": [],
   "source": [
    "doc_types = ('.doc', '.docx', '.txt', '.pdf', '.xls', '.ppt', '.xlsx', '.pptx') # Se definen 3 tuplas con las terminaciones de archivos que se desea clasificar\n",
    "# Todos los demás archivos van a la carpeta Otros\n",
    "img_types = ('.jpg', '.jpeg', '.png', '.svg', '.gif')\n",
    "software_types = ('.exe', '.py','.ipynb')"
   ]
  },
  {
   "cell_type": "code",
   "execution_count": 5,
   "metadata": {},
   "outputs": [
    {
     "data": {
      "text/plain": [
       "'c:\\\\Users\\\\inilo\\\\The_Bridge\\\\Iñigo\\\\2503_dsft_thebridge_inigolopez\\\\2-Data_Analysis\\\\3-Sources\\\\Archivos\\\\Practica'"
      ]
     },
     "execution_count": 5,
     "metadata": {},
     "output_type": "execute_result"
    }
   ],
   "source": [
    "os.getcwd()"
   ]
  },
  {
   "cell_type": "code",
   "execution_count": null,
   "metadata": {},
   "outputs": [],
   "source": [
    "os.mkdir('Imágenes') # Se crean las carpetas donde se irán almacenando los archivos\n",
    "os.mkdir('Documentos')\n",
    "os.mkdir('Software')\n",
    "os.mkdir('Otros')\n"
   ]
  },
  {
   "cell_type": "code",
   "execution_count": 379,
   "metadata": {},
   "outputs": [
    {
     "data": {
      "text/plain": [
       "['2023_Mw_7.8_Kahramanmaras_Turkiye_EQ_Media Repository.pdf',\n",
       " 'Battle.net-Setup.exe',\n",
       " 'bitdefender_avfree.exe',\n",
       " 'BraveBrowserSetup-BRV010.exe',\n",
       " 'Daño-acumulado-en-estructuras-caso-estudio-daño-en-edificios-de-marcos-de-H.A-en-ciudad-de-Mexico-durante-el-terremoto-de-Puebla-Morelos.pdf',\n",
       " 'DiscordSetup.exe',\n",
       " 'Documentos',\n",
       " 'DuckDuckGo.appinstaller',\n",
       " 'Ejercicios_Flujos_Extra_InigoLopez.ipynb',\n",
       " 'EpicInstaller-18.0.0.msi',\n",
       " 'eq2015.csv.zip',\n",
       " 'eqcat_CEUS1568-2018.csv',\n",
       " 'eth-2234-02.pdf',\n",
       " 'Examen_RampUp_DSFT_2402.ipynb',\n",
       " 'Examen_RampUp_DSFT_2503.ipynb',\n",
       " 'Examen_RampUp_DSFT_2503_InigoLopez.ipynb',\n",
       " 'export.geojson',\n",
       " 'gadm41_NPL_shp',\n",
       " 'gadm41_NPL_shp.zip',\n",
       " 'Git-2.48.1-64-bit.exe',\n",
       " 'git-lfs-windows-v3.6.1.exe',\n",
       " 'GitHubDesktopSetup-x64.exe',\n",
       " 'hotosm_tur_destroyed_buildings_polygons_csv_csv_uid_447d931d-bfba-4e57-9c17-c335e146c471.zip',\n",
       " 'Imágenes',\n",
       " 'mesaugat-geoJSON-Nepal-37f73c5.zip',\n",
       " 'npl_admin_centralregion_a0l_20150428.pdf',\n",
       " 'OperaSetup.exe',\n",
       " 'Otros',\n",
       " 'python-3.11.9-amd64.exe',\n",
       " 'Revista+119+Reforma+Siglo+XXI+version+web_watermark-43-48.pdf',\n",
       " 'SlackSetup.exe',\n",
       " 'Software',\n",
       " 'SteamSetup.exe',\n",
       " 'Supervivencia en el hundimiento del Titanic.ipynb',\n",
       " 'VSCodeUserSetup-x64-1.98.0.exe',\n",
       " '桃園市震災災害建物損失_112年.csv']"
      ]
     },
     "execution_count": 379,
     "metadata": {},
     "output_type": "execute_result"
    }
   ],
   "source": [
    "os.listdir()"
   ]
  },
  {
   "cell_type": "code",
   "execution_count": null,
   "metadata": {},
   "outputs": [],
   "source": [
    "for i in os.listdir(ruta): # Con un for se recorren los archivos del directorio\n",
    "    nuevo_path = os.path.join(ruta, i) # Se crea una nueva ruta de acceso que cuyo término sea el archivo y no el directorio\n",
    "    if  os.path.isfile(nuevo_path): # isfile dará True al ser un archivo el que stá leyendo tras el cambio de ruta\n",
    "        if i.endswith(doc_types):\n",
    "            shutil.move(i,\"Documentos\") \n",
    "        elif i.endswith(img_types):\n",
    "            shutil.move(i,\"Imágenes\")\n",
    "        elif i.endswith(software_types):\n",
    "            shutil.move(i,\"Software\") # en función de la terminación, irá almacenando los archivos en su carpeta correspondiente\n",
    "        else:\n",
    "            shutil.move(i, \"Otros\") # Los que no cumplan con las terminaciones de las tuplas irán a la carpeta Otros\n",
    "    elif os.path.isdir(ruta) and i not in [\"Imágenes\",\"Documentos\",\"Software\",\"Otros\"]: # Este elif asegura que no se guarden las carpetas creadas anteriormente en Otros\n",
    "        # y que sólo se almecenen archivos ajenos a carpetas o carpetas que no se llamen como se indica en el condicional\n",
    "        shutil.move(i,\"Otros\")\n"
   ]
  },
  {
   "cell_type": "code",
   "execution_count": 381,
   "metadata": {},
   "outputs": [
    {
     "data": {
      "text/plain": [
       "False"
      ]
     },
     "execution_count": 381,
     "metadata": {},
     "output_type": "execute_result"
    }
   ],
   "source": [
    "os.path.isfile(ruta)"
   ]
  },
  {
   "cell_type": "code",
   "execution_count": 382,
   "metadata": {},
   "outputs": [
    {
     "data": {
      "text/plain": [
       "True"
      ]
     },
     "execution_count": 382,
     "metadata": {},
     "output_type": "execute_result"
    }
   ],
   "source": [
    "os.path.isdir(ruta)"
   ]
  },
  {
   "cell_type": "code",
   "execution_count": 383,
   "metadata": {},
   "outputs": [
    {
     "data": {
      "text/plain": [
       "'C:\\\\Users\\\\inilo\\\\The_Bridge\\\\Iñigo\\\\Descargas_Prueba_ejer'"
      ]
     },
     "execution_count": 383,
     "metadata": {},
     "output_type": "execute_result"
    }
   ],
   "source": [
    "ruta"
   ]
  },
  {
   "cell_type": "code",
   "execution_count": null,
   "metadata": {},
   "outputs": [],
   "source": []
  }
 ],
 "metadata": {
  "kernelspec": {
   "display_name": "Python 3",
   "language": "python",
   "name": "python3"
  },
  "language_info": {
   "codemirror_mode": {
    "name": "ipython",
    "version": 3
   },
   "file_extension": ".py",
   "mimetype": "text/x-python",
   "name": "python",
   "nbconvert_exporter": "python",
   "pygments_lexer": "ipython3",
   "version": "3.11.9"
  },
  "orig_nbformat": 4
 },
 "nbformat": 4,
 "nbformat_minor": 2
}
