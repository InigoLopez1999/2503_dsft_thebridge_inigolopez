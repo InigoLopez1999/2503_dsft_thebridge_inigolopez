{
 "cells": [
  {
   "cell_type": "markdown",
   "metadata": {},
   "source": [
    "## Análisis de Datos Meteorológicos con una API Pública\n",
    "Obtener datos del clima de una ciudad usando la API de Open-Meteo (https://open-meteo.com/) y analizar la temperatura."
   ]
  },
  {
   "cell_type": "markdown",
   "metadata": {},
   "source": [
    "* Haz una petición a la API para que devuelva el pronóstico de las temperaturas para una semana en Bilbao. El parámetro correspondiente es `temperature_2m` además de la latitud y la longitud.\n",
    "* Procesa la respuesta en formato JSON para obtener dos listas: una con la lista de temperaturas y otra con las fechas-horas correspondientes.\n",
    "* Crea un DataFrame con esas dos columnas: `Hora` y `Temperatura`\n",
    "* Elige la gráfica adecuada y visualiza el pronóstico de temperaturas."
   ]
  },
  {
   "cell_type": "markdown",
   "metadata": {},
   "source": [
    "Para crear la variable `Hora` del DataFrame puedes introducir directamente la lista que se obtiene del campo `data[\"hourly\"][\"time\"]` o procesar esa lista mediante el siguiente código:\n",
    "\n",
    "`hours = pd.date_range(start=lista_de_horas, periods=len(temps), freq=\"H\")`"
   ]
  },
  {
   "cell_type": "code",
   "execution_count": 52,
   "metadata": {},
   "outputs": [],
   "source": [
    "import requests\n",
    "import pandas as pd\n",
    "import matplotlib.pyplot as plt\n",
    "\n",
    "# Coordenadas de Madrid\n",
    "latitude = 40.4168\n",
    "longitude = -3.7038\n",
    "\n",
    "\n",
    "url = f\"https://api.open-meteo.com/v1/forecast?latitude=43.2627&longitude=-2.9253&hourly=temperature_2m\"  # Aquí vienen el resto de los parámetros\n",
    "tiempo = requests.get(url)\n"
   ]
  },
  {
   "cell_type": "code",
   "execution_count": 53,
   "metadata": {},
   "outputs": [],
   "source": [
    "pronostico = tiempo.json()"
   ]
  },
  {
   "cell_type": "code",
   "execution_count": null,
   "metadata": {},
   "outputs": [
    {
     "data": {
      "text/plain": [
       "{'Hora': ['2025-03-27T00:00',\n",
       "  '2025-03-27T01:00',\n",
       "  '2025-03-27T02:00',\n",
       "  '2025-03-27T03:00',\n",
       "  '2025-03-27T04:00',\n",
       "  '2025-03-27T05:00',\n",
       "  '2025-03-27T06:00',\n",
       "  '2025-03-27T07:00',\n",
       "  '2025-03-27T08:00',\n",
       "  '2025-03-27T09:00',\n",
       "  '2025-03-27T10:00',\n",
       "  '2025-03-27T11:00',\n",
       "  '2025-03-27T12:00',\n",
       "  '2025-03-27T13:00',\n",
       "  '2025-03-27T14:00',\n",
       "  '2025-03-27T15:00',\n",
       "  '2025-03-27T16:00',\n",
       "  '2025-03-27T17:00',\n",
       "  '2025-03-27T18:00',\n",
       "  '2025-03-27T19:00',\n",
       "  '2025-03-27T20:00',\n",
       "  '2025-03-27T21:00',\n",
       "  '2025-03-27T22:00',\n",
       "  '2025-03-27T23:00',\n",
       "  '2025-03-28T00:00',\n",
       "  '2025-03-28T01:00',\n",
       "  '2025-03-28T02:00',\n",
       "  '2025-03-28T03:00',\n",
       "  '2025-03-28T04:00',\n",
       "  '2025-03-28T05:00',\n",
       "  '2025-03-28T06:00',\n",
       "  '2025-03-28T07:00',\n",
       "  '2025-03-28T08:00',\n",
       "  '2025-03-28T09:00',\n",
       "  '2025-03-28T10:00',\n",
       "  '2025-03-28T11:00',\n",
       "  '2025-03-28T12:00',\n",
       "  '2025-03-28T13:00',\n",
       "  '2025-03-28T14:00',\n",
       "  '2025-03-28T15:00',\n",
       "  '2025-03-28T16:00',\n",
       "  '2025-03-28T17:00',\n",
       "  '2025-03-28T18:00',\n",
       "  '2025-03-28T19:00',\n",
       "  '2025-03-28T20:00',\n",
       "  '2025-03-28T21:00',\n",
       "  '2025-03-28T22:00',\n",
       "  '2025-03-28T23:00',\n",
       "  '2025-03-29T00:00',\n",
       "  '2025-03-29T01:00',\n",
       "  '2025-03-29T02:00',\n",
       "  '2025-03-29T03:00',\n",
       "  '2025-03-29T04:00',\n",
       "  '2025-03-29T05:00',\n",
       "  '2025-03-29T06:00',\n",
       "  '2025-03-29T07:00',\n",
       "  '2025-03-29T08:00',\n",
       "  '2025-03-29T09:00',\n",
       "  '2025-03-29T10:00',\n",
       "  '2025-03-29T11:00',\n",
       "  '2025-03-29T12:00',\n",
       "  '2025-03-29T13:00',\n",
       "  '2025-03-29T14:00',\n",
       "  '2025-03-29T15:00',\n",
       "  '2025-03-29T16:00',\n",
       "  '2025-03-29T17:00',\n",
       "  '2025-03-29T18:00',\n",
       "  '2025-03-29T19:00',\n",
       "  '2025-03-29T20:00',\n",
       "  '2025-03-29T21:00',\n",
       "  '2025-03-29T22:00',\n",
       "  '2025-03-29T23:00',\n",
       "  '2025-03-30T00:00',\n",
       "  '2025-03-30T01:00',\n",
       "  '2025-03-30T02:00',\n",
       "  '2025-03-30T03:00',\n",
       "  '2025-03-30T04:00',\n",
       "  '2025-03-30T05:00',\n",
       "  '2025-03-30T06:00',\n",
       "  '2025-03-30T07:00',\n",
       "  '2025-03-30T08:00',\n",
       "  '2025-03-30T09:00',\n",
       "  '2025-03-30T10:00',\n",
       "  '2025-03-30T11:00',\n",
       "  '2025-03-30T12:00',\n",
       "  '2025-03-30T13:00',\n",
       "  '2025-03-30T14:00',\n",
       "  '2025-03-30T15:00',\n",
       "  '2025-03-30T16:00',\n",
       "  '2025-03-30T17:00',\n",
       "  '2025-03-30T18:00',\n",
       "  '2025-03-30T19:00',\n",
       "  '2025-03-30T20:00',\n",
       "  '2025-03-30T21:00',\n",
       "  '2025-03-30T22:00',\n",
       "  '2025-03-30T23:00',\n",
       "  '2025-03-31T00:00',\n",
       "  '2025-03-31T01:00',\n",
       "  '2025-03-31T02:00',\n",
       "  '2025-03-31T03:00',\n",
       "  '2025-03-31T04:00',\n",
       "  '2025-03-31T05:00',\n",
       "  '2025-03-31T06:00',\n",
       "  '2025-03-31T07:00',\n",
       "  '2025-03-31T08:00',\n",
       "  '2025-03-31T09:00',\n",
       "  '2025-03-31T10:00',\n",
       "  '2025-03-31T11:00',\n",
       "  '2025-03-31T12:00',\n",
       "  '2025-03-31T13:00',\n",
       "  '2025-03-31T14:00',\n",
       "  '2025-03-31T15:00',\n",
       "  '2025-03-31T16:00',\n",
       "  '2025-03-31T17:00',\n",
       "  '2025-03-31T18:00',\n",
       "  '2025-03-31T19:00',\n",
       "  '2025-03-31T20:00',\n",
       "  '2025-03-31T21:00',\n",
       "  '2025-03-31T22:00',\n",
       "  '2025-03-31T23:00',\n",
       "  '2025-04-01T00:00',\n",
       "  '2025-04-01T01:00',\n",
       "  '2025-04-01T02:00',\n",
       "  '2025-04-01T03:00',\n",
       "  '2025-04-01T04:00',\n",
       "  '2025-04-01T05:00',\n",
       "  '2025-04-01T06:00',\n",
       "  '2025-04-01T07:00',\n",
       "  '2025-04-01T08:00',\n",
       "  '2025-04-01T09:00',\n",
       "  '2025-04-01T10:00',\n",
       "  '2025-04-01T11:00',\n",
       "  '2025-04-01T12:00',\n",
       "  '2025-04-01T13:00',\n",
       "  '2025-04-01T14:00',\n",
       "  '2025-04-01T15:00',\n",
       "  '2025-04-01T16:00',\n",
       "  '2025-04-01T17:00',\n",
       "  '2025-04-01T18:00',\n",
       "  '2025-04-01T19:00',\n",
       "  '2025-04-01T20:00',\n",
       "  '2025-04-01T21:00',\n",
       "  '2025-04-01T22:00',\n",
       "  '2025-04-01T23:00',\n",
       "  '2025-04-02T00:00',\n",
       "  '2025-04-02T01:00',\n",
       "  '2025-04-02T02:00',\n",
       "  '2025-04-02T03:00',\n",
       "  '2025-04-02T04:00',\n",
       "  '2025-04-02T05:00',\n",
       "  '2025-04-02T06:00',\n",
       "  '2025-04-02T07:00',\n",
       "  '2025-04-02T08:00',\n",
       "  '2025-04-02T09:00',\n",
       "  '2025-04-02T10:00',\n",
       "  '2025-04-02T11:00',\n",
       "  '2025-04-02T12:00',\n",
       "  '2025-04-02T13:00',\n",
       "  '2025-04-02T14:00',\n",
       "  '2025-04-02T15:00',\n",
       "  '2025-04-02T16:00',\n",
       "  '2025-04-02T17:00',\n",
       "  '2025-04-02T18:00',\n",
       "  '2025-04-02T19:00',\n",
       "  '2025-04-02T20:00',\n",
       "  '2025-04-02T21:00',\n",
       "  '2025-04-02T22:00',\n",
       "  '2025-04-02T23:00'],\n",
       " 'Temperatura': [10.7,\n",
       "  10.8,\n",
       "  11.0,\n",
       "  10.6,\n",
       "  10.8,\n",
       "  10.4,\n",
       "  10.5,\n",
       "  10.9,\n",
       "  11.4,\n",
       "  11.6,\n",
       "  12.2,\n",
       "  12.5,\n",
       "  13.4,\n",
       "  13.1,\n",
       "  14.1,\n",
       "  13.8,\n",
       "  14.0,\n",
       "  14.0,\n",
       "  13.7,\n",
       "  13.2,\n",
       "  12.6,\n",
       "  12.5,\n",
       "  12.8,\n",
       "  12.6,\n",
       "  11.8,\n",
       "  11.6,\n",
       "  11.9,\n",
       "  11.8,\n",
       "  12.0,\n",
       "  11.7,\n",
       "  11.8,\n",
       "  12.2,\n",
       "  13.0,\n",
       "  13.4,\n",
       "  14.4,\n",
       "  14.9,\n",
       "  15.5,\n",
       "  15.6,\n",
       "  15.6,\n",
       "  15.0,\n",
       "  14.9,\n",
       "  14.6,\n",
       "  14.4,\n",
       "  13.5,\n",
       "  13.1,\n",
       "  13.1,\n",
       "  13.0,\n",
       "  13.1,\n",
       "  13.2,\n",
       "  12.6,\n",
       "  12.6,\n",
       "  12.2,\n",
       "  12.0,\n",
       "  12.2,\n",
       "  12.1,\n",
       "  12.1,\n",
       "  12.8,\n",
       "  13.5,\n",
       "  13.0,\n",
       "  12.7,\n",
       "  13.2,\n",
       "  13.5,\n",
       "  13.3,\n",
       "  13.4,\n",
       "  13.1,\n",
       "  12.6,\n",
       "  11.8,\n",
       "  10.7,\n",
       "  10.0,\n",
       "  9.6,\n",
       "  9.2,\n",
       "  8.6,\n",
       "  7.8,\n",
       "  7.2,\n",
       "  6.6,\n",
       "  6.2,\n",
       "  5.9,\n",
       "  5.8,\n",
       "  5.4,\n",
       "  5.7,\n",
       "  8.0,\n",
       "  11.0,\n",
       "  12.9,\n",
       "  14.0,\n",
       "  14.7,\n",
       "  14.9,\n",
       "  15.0,\n",
       "  14.6,\n",
       "  13.9,\n",
       "  13.1,\n",
       "  12.1,\n",
       "  10.5,\n",
       "  9.3,\n",
       "  8.3,\n",
       "  7.5,\n",
       "  7.0,\n",
       "  6.6,\n",
       "  6.4,\n",
       "  6.4,\n",
       "  6.6,\n",
       "  6.6,\n",
       "  6.3,\n",
       "  5.8,\n",
       "  6.2,\n",
       "  8.6,\n",
       "  11.8,\n",
       "  13.9,\n",
       "  16.2,\n",
       "  17.4,\n",
       "  18.6,\n",
       "  19.7,\n",
       "  20.2,\n",
       "  19.9,\n",
       "  19.1,\n",
       "  17.9,\n",
       "  16.2,\n",
       "  14.1,\n",
       "  12.4,\n",
       "  11.6,\n",
       "  11.3,\n",
       "  10.9,\n",
       "  10.5,\n",
       "  10.0,\n",
       "  9.7,\n",
       "  9.4,\n",
       "  9.2,\n",
       "  9.1,\n",
       "  11.8,\n",
       "  15.4,\n",
       "  18.6,\n",
       "  20.7,\n",
       "  22.3,\n",
       "  23.6,\n",
       "  24.6,\n",
       "  25.3,\n",
       "  25.4,\n",
       "  24.7,\n",
       "  23.4,\n",
       "  21.7,\n",
       "  19.5,\n",
       "  16.8,\n",
       "  14.7,\n",
       "  13.3,\n",
       "  12.4,\n",
       "  11.8,\n",
       "  11.5,\n",
       "  11.5,\n",
       "  11.3,\n",
       "  10.5,\n",
       "  9.6,\n",
       "  9.8,\n",
       "  12.2,\n",
       "  15.8,\n",
       "  18.9,\n",
       "  20.9,\n",
       "  22.3,\n",
       "  23.5,\n",
       "  24.6,\n",
       "  25.4,\n",
       "  25.4,\n",
       "  24.3,\n",
       "  22.6,\n",
       "  20.6,\n",
       "  18.3,\n",
       "  15.7,\n",
       "  13.7,\n",
       "  12.6,\n",
       "  12.0]}"
      ]
     },
     "execution_count": 51,
     "metadata": {},
     "output_type": "execute_result"
    }
   ],
   "source": [
    "tiempo_dict = {\n",
    "    \"Hora\":pronostico[\"hourly\"][\"time\"],\n",
    "    \"Temperatura\":pronostico[\"hourly\"][\"temperature_2m\"],\n",
    "}\n",
    "tiempo_dict\n"
   ]
  },
  {
   "cell_type": "code",
   "execution_count": 54,
   "metadata": {},
   "outputs": [],
   "source": [
    "df_tiempo = pd.DataFrame(tiempo_dict)"
   ]
  },
  {
   "cell_type": "code",
   "execution_count": 55,
   "metadata": {},
   "outputs": [
    {
     "data": {
      "application/vnd.microsoft.datawrangler.viewer.v0+json": {
       "columns": [
        {
         "name": "index",
         "rawType": "int64",
         "type": "integer"
        },
        {
         "name": "Hora",
         "rawType": "object",
         "type": "string"
        },
        {
         "name": "Temperatura",
         "rawType": "float64",
         "type": "float"
        }
       ],
       "conversionMethod": "pd.DataFrame",
       "ref": "68ae1fe4-3fb0-4046-a407-d548b7bc027f",
       "rows": [
        [
         "0",
         "2025-03-27T00:00",
         "10.7"
        ],
        [
         "1",
         "2025-03-27T01:00",
         "10.8"
        ],
        [
         "2",
         "2025-03-27T02:00",
         "11.0"
        ],
        [
         "3",
         "2025-03-27T03:00",
         "10.6"
        ],
        [
         "4",
         "2025-03-27T04:00",
         "10.8"
        ],
        [
         "5",
         "2025-03-27T05:00",
         "10.4"
        ],
        [
         "6",
         "2025-03-27T06:00",
         "10.5"
        ],
        [
         "7",
         "2025-03-27T07:00",
         "10.9"
        ],
        [
         "8",
         "2025-03-27T08:00",
         "11.4"
        ],
        [
         "9",
         "2025-03-27T09:00",
         "11.6"
        ],
        [
         "10",
         "2025-03-27T10:00",
         "12.2"
        ],
        [
         "11",
         "2025-03-27T11:00",
         "12.5"
        ],
        [
         "12",
         "2025-03-27T12:00",
         "13.4"
        ],
        [
         "13",
         "2025-03-27T13:00",
         "13.1"
        ],
        [
         "14",
         "2025-03-27T14:00",
         "14.1"
        ],
        [
         "15",
         "2025-03-27T15:00",
         "13.8"
        ],
        [
         "16",
         "2025-03-27T16:00",
         "14.0"
        ],
        [
         "17",
         "2025-03-27T17:00",
         "14.0"
        ],
        [
         "18",
         "2025-03-27T18:00",
         "13.7"
        ],
        [
         "19",
         "2025-03-27T19:00",
         "13.2"
        ],
        [
         "20",
         "2025-03-27T20:00",
         "12.6"
        ],
        [
         "21",
         "2025-03-27T21:00",
         "12.5"
        ],
        [
         "22",
         "2025-03-27T22:00",
         "12.8"
        ],
        [
         "23",
         "2025-03-27T23:00",
         "12.6"
        ],
        [
         "24",
         "2025-03-28T00:00",
         "11.8"
        ],
        [
         "25",
         "2025-03-28T01:00",
         "11.6"
        ],
        [
         "26",
         "2025-03-28T02:00",
         "11.9"
        ],
        [
         "27",
         "2025-03-28T03:00",
         "11.8"
        ],
        [
         "28",
         "2025-03-28T04:00",
         "12.0"
        ],
        [
         "29",
         "2025-03-28T05:00",
         "11.7"
        ],
        [
         "30",
         "2025-03-28T06:00",
         "11.8"
        ],
        [
         "31",
         "2025-03-28T07:00",
         "12.2"
        ],
        [
         "32",
         "2025-03-28T08:00",
         "13.0"
        ],
        [
         "33",
         "2025-03-28T09:00",
         "13.4"
        ],
        [
         "34",
         "2025-03-28T10:00",
         "14.4"
        ],
        [
         "35",
         "2025-03-28T11:00",
         "14.9"
        ],
        [
         "36",
         "2025-03-28T12:00",
         "15.5"
        ],
        [
         "37",
         "2025-03-28T13:00",
         "15.6"
        ],
        [
         "38",
         "2025-03-28T14:00",
         "15.6"
        ],
        [
         "39",
         "2025-03-28T15:00",
         "15.0"
        ],
        [
         "40",
         "2025-03-28T16:00",
         "14.9"
        ],
        [
         "41",
         "2025-03-28T17:00",
         "14.6"
        ],
        [
         "42",
         "2025-03-28T18:00",
         "14.4"
        ],
        [
         "43",
         "2025-03-28T19:00",
         "13.5"
        ],
        [
         "44",
         "2025-03-28T20:00",
         "13.1"
        ],
        [
         "45",
         "2025-03-28T21:00",
         "13.1"
        ],
        [
         "46",
         "2025-03-28T22:00",
         "13.0"
        ],
        [
         "47",
         "2025-03-28T23:00",
         "13.1"
        ],
        [
         "48",
         "2025-03-29T00:00",
         "13.2"
        ],
        [
         "49",
         "2025-03-29T01:00",
         "12.6"
        ]
       ],
       "shape": {
        "columns": 2,
        "rows": 168
       }
      },
      "text/html": [
       "<div>\n",
       "<style scoped>\n",
       "    .dataframe tbody tr th:only-of-type {\n",
       "        vertical-align: middle;\n",
       "    }\n",
       "\n",
       "    .dataframe tbody tr th {\n",
       "        vertical-align: top;\n",
       "    }\n",
       "\n",
       "    .dataframe thead th {\n",
       "        text-align: right;\n",
       "    }\n",
       "</style>\n",
       "<table border=\"1\" class=\"dataframe\">\n",
       "  <thead>\n",
       "    <tr style=\"text-align: right;\">\n",
       "      <th></th>\n",
       "      <th>Hora</th>\n",
       "      <th>Temperatura</th>\n",
       "    </tr>\n",
       "  </thead>\n",
       "  <tbody>\n",
       "    <tr>\n",
       "      <th>0</th>\n",
       "      <td>2025-03-27T00:00</td>\n",
       "      <td>10.7</td>\n",
       "    </tr>\n",
       "    <tr>\n",
       "      <th>1</th>\n",
       "      <td>2025-03-27T01:00</td>\n",
       "      <td>10.8</td>\n",
       "    </tr>\n",
       "    <tr>\n",
       "      <th>2</th>\n",
       "      <td>2025-03-27T02:00</td>\n",
       "      <td>11.0</td>\n",
       "    </tr>\n",
       "    <tr>\n",
       "      <th>3</th>\n",
       "      <td>2025-03-27T03:00</td>\n",
       "      <td>10.6</td>\n",
       "    </tr>\n",
       "    <tr>\n",
       "      <th>4</th>\n",
       "      <td>2025-03-27T04:00</td>\n",
       "      <td>10.8</td>\n",
       "    </tr>\n",
       "    <tr>\n",
       "      <th>...</th>\n",
       "      <td>...</td>\n",
       "      <td>...</td>\n",
       "    </tr>\n",
       "    <tr>\n",
       "      <th>163</th>\n",
       "      <td>2025-04-02T19:00</td>\n",
       "      <td>18.3</td>\n",
       "    </tr>\n",
       "    <tr>\n",
       "      <th>164</th>\n",
       "      <td>2025-04-02T20:00</td>\n",
       "      <td>15.7</td>\n",
       "    </tr>\n",
       "    <tr>\n",
       "      <th>165</th>\n",
       "      <td>2025-04-02T21:00</td>\n",
       "      <td>13.7</td>\n",
       "    </tr>\n",
       "    <tr>\n",
       "      <th>166</th>\n",
       "      <td>2025-04-02T22:00</td>\n",
       "      <td>12.6</td>\n",
       "    </tr>\n",
       "    <tr>\n",
       "      <th>167</th>\n",
       "      <td>2025-04-02T23:00</td>\n",
       "      <td>12.0</td>\n",
       "    </tr>\n",
       "  </tbody>\n",
       "</table>\n",
       "<p>168 rows × 2 columns</p>\n",
       "</div>"
      ],
      "text/plain": [
       "                 Hora  Temperatura\n",
       "0    2025-03-27T00:00         10.7\n",
       "1    2025-03-27T01:00         10.8\n",
       "2    2025-03-27T02:00         11.0\n",
       "3    2025-03-27T03:00         10.6\n",
       "4    2025-03-27T04:00         10.8\n",
       "..                ...          ...\n",
       "163  2025-04-02T19:00         18.3\n",
       "164  2025-04-02T20:00         15.7\n",
       "165  2025-04-02T21:00         13.7\n",
       "166  2025-04-02T22:00         12.6\n",
       "167  2025-04-02T23:00         12.0\n",
       "\n",
       "[168 rows x 2 columns]"
      ]
     },
     "execution_count": 55,
     "metadata": {},
     "output_type": "execute_result"
    }
   ],
   "source": [
    "df_tiempo"
   ]
  },
  {
   "cell_type": "code",
   "execution_count": 57,
   "metadata": {},
   "outputs": [],
   "source": [
    "fechas = pd.to_datetime(df_tiempo[\"Hora\"])"
   ]
  },
  {
   "cell_type": "code",
   "execution_count": null,
   "metadata": {},
   "outputs": [
    {
     "data": {
      "image/png": "[encoded data removed]",
      "text/plain": [
       "<Figure size 1000x600 with 1 Axes>"
      ]
     },
     "metadata": {},
     "output_type": "display_data"
    }
   ],
   "source": [
    "plt.figure(figsize=(10, 6))\n",
    "plt.plot(fechas, df_tiempo[\"Temperatura\"], color=\"red\", marker=\"o\")\n",
    "plt.grid()\n",
    "plt.title(\"Evolución del pronóstico del tiempo a lo largo de una semana en Bilbao\")\n",
    "plt.xlabel(\"Fecha\")\n",
    "plt.ylabel(\"Temperatura\")\n",
    "plt.xticks(rotation=45)\n",
    "plt.tight_layout()"
   ]
  },
  {
   "cell_type": "code",
   "execution_count": null,
   "metadata": {},
   "outputs": [],
   "source": []
  }
 ],
 "metadata": {
  "kernelspec": {
   "display_name": "Python 3",
   "language": "python",
   "name": "python3"
  },
  "language_info": {
   "codemirror_mode": {
    "name": "ipython",
    "version": 3
   },
   "file_extension": ".py",
   "mimetype": "text/x-python",
   "name": "python",
   "nbconvert_exporter": "python",
   "pygments_lexer": "ipython3",
   "version": "3.11.9"
  }
 },
 "nbformat": 4,
 "nbformat_minor": 2
}
