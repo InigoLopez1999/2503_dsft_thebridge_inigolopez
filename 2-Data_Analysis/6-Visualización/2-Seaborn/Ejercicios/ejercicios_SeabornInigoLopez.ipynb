{
 "cells": [
  {
   "attachments": {},
   "cell_type": "markdown",
   "metadata": {},
   "source": [
    "# Ejercicios de Seaborn"
   ]
  },
  {
   "cell_type": "code",
   "execution_count": 3,
   "metadata": {},
   "outputs": [],
   "source": [
    "# 1. Importa pandas, pyplot y seaborn\n",
    "import pandas as pd\n",
    "import matplotlib.pyplot as plt\n",
    "import seaborn as sns"
   ]
  },
  {
   "cell_type": "code",
   "execution_count": 4,
   "metadata": {},
   "outputs": [
    {
     "data": {
      "application/vnd.microsoft.datawrangler.viewer.v0+json": {
       "columns": [
        {
         "name": "#",
         "rawType": "int64",
         "type": "integer"
        },
        {
         "name": "Name",
         "rawType": "object",
         "type": "string"
        },
        {
         "name": "Type 1",
         "rawType": "object",
         "type": "string"
        },
        {
         "name": "Type 2",
         "rawType": "object",
         "type": "unknown"
        },
        {
         "name": "Total",
         "rawType": "int64",
         "type": "integer"
        },
        {
         "name": "HP",
         "rawType": "int64",
         "type": "integer"
        },
        {
         "name": "Attack",
         "rawType": "int64",
         "type": "integer"
        },
        {
         "name": "Defense",
         "rawType": "int64",
         "type": "integer"
        },
        {
         "name": "Sp. Atk",
         "rawType": "int64",
         "type": "integer"
        },
        {
         "name": "Sp. Def",
         "rawType": "int64",
         "type": "integer"
        },
        {
         "name": "Speed",
         "rawType": "int64",
         "type": "integer"
        },
        {
         "name": "Stage",
         "rawType": "int64",
         "type": "integer"
        },
        {
         "name": "Legendary",
         "rawType": "bool",
         "type": "boolean"
        }
       ],
       "conversionMethod": "pd.DataFrame",
       "ref": "c4ad85ee-54a2-43f6-bf0e-5d12551ba49d",
       "rows": [
        [
         "1",
         "Bulbasaur",
         "Grass",
         "Poison",
         "318",
         "45",
         "49",
         "49",
         "65",
         "65",
         "45",
         "1",
         "False"
        ],
        [
         "2",
         "Ivysaur",
         "Grass",
         "Poison",
         "405",
         "60",
         "62",
         "63",
         "80",
         "80",
         "60",
         "2",
         "False"
        ],
        [
         "3",
         "Venusaur",
         "Grass",
         "Poison",
         "525",
         "80",
         "82",
         "83",
         "100",
         "100",
         "80",
         "3",
         "False"
        ],
        [
         "4",
         "Charmander",
         "Fire",
         null,
         "309",
         "39",
         "52",
         "43",
         "60",
         "50",
         "65",
         "1",
         "False"
        ],
        [
         "5",
         "Charmeleon",
         "Fire",
         null,
         "405",
         "58",
         "64",
         "58",
         "80",
         "65",
         "80",
         "2",
         "False"
        ],
        [
         "6",
         "Charizard",
         "Fire",
         "Flying",
         "534",
         "78",
         "84",
         "78",
         "109",
         "85",
         "100",
         "3",
         "False"
        ],
        [
         "7",
         "Squirtle",
         "Water",
         null,
         "314",
         "44",
         "48",
         "65",
         "50",
         "64",
         "43",
         "1",
         "False"
        ],
        [
         "8",
         "Wartortle",
         "Water",
         null,
         "405",
         "59",
         "63",
         "80",
         "65",
         "80",
         "58",
         "2",
         "False"
        ],
        [
         "9",
         "Blastoise",
         "Water",
         null,
         "530",
         "79",
         "83",
         "100",
         "85",
         "105",
         "78",
         "3",
         "False"
        ],
        [
         "10",
         "Caterpie",
         "Bug",
         null,
         "195",
         "45",
         "30",
         "35",
         "20",
         "20",
         "45",
         "1",
         "False"
        ],
        [
         "11",
         "Metapod",
         "Bug",
         null,
         "205",
         "50",
         "20",
         "55",
         "25",
         "25",
         "30",
         "2",
         "False"
        ],
        [
         "12",
         "Butterfree",
         "Bug",
         "Flying",
         "395",
         "60",
         "45",
         "50",
         "90",
         "80",
         "70",
         "3",
         "False"
        ],
        [
         "13",
         "Weedle",
         "Bug",
         "Poison",
         "195",
         "40",
         "35",
         "30",
         "20",
         "20",
         "50",
         "1",
         "False"
        ],
        [
         "14",
         "Kakuna",
         "Bug",
         "Poison",
         "205",
         "45",
         "25",
         "50",
         "25",
         "25",
         "35",
         "2",
         "False"
        ],
        [
         "15",
         "Beedrill",
         "Bug",
         "Poison",
         "395",
         "65",
         "90",
         "40",
         "45",
         "80",
         "75",
         "3",
         "False"
        ],
        [
         "16",
         "Pidgey",
         "Normal",
         "Flying",
         "251",
         "40",
         "45",
         "40",
         "35",
         "35",
         "56",
         "1",
         "False"
        ],
        [
         "17",
         "Pidgeotto",
         "Normal",
         "Flying",
         "349",
         "63",
         "60",
         "55",
         "50",
         "50",
         "71",
         "2",
         "False"
        ],
        [
         "18",
         "Pidgeot",
         "Normal",
         "Flying",
         "479",
         "83",
         "80",
         "75",
         "70",
         "70",
         "101",
         "3",
         "False"
        ],
        [
         "19",
         "Rattata",
         "Normal",
         null,
         "253",
         "30",
         "56",
         "35",
         "25",
         "35",
         "72",
         "1",
         "False"
        ],
        [
         "20",
         "Raticate",
         "Normal",
         null,
         "413",
         "55",
         "81",
         "60",
         "50",
         "70",
         "97",
         "2",
         "False"
        ],
        [
         "21",
         "Spearow",
         "Normal",
         "Flying",
         "262",
         "40",
         "60",
         "30",
         "31",
         "31",
         "70",
         "1",
         "False"
        ],
        [
         "22",
         "Fearow",
         "Normal",
         "Flying",
         "442",
         "65",
         "90",
         "65",
         "61",
         "61",
         "100",
         "2",
         "False"
        ],
        [
         "23",
         "Ekans",
         "Poison",
         null,
         "288",
         "35",
         "60",
         "44",
         "40",
         "54",
         "55",
         "1",
         "False"
        ],
        [
         "24",
         "Arbok",
         "Poison",
         null,
         "438",
         "60",
         "85",
         "69",
         "65",
         "79",
         "80",
         "2",
         "False"
        ],
        [
         "25",
         "Pikachu",
         "Electric",
         null,
         "320",
         "35",
         "55",
         "40",
         "50",
         "50",
         "90",
         "1",
         "False"
        ],
        [
         "26",
         "Raichu",
         "Electric",
         null,
         "485",
         "60",
         "90",
         "55",
         "90",
         "80",
         "110",
         "2",
         "False"
        ],
        [
         "27",
         "Sandshrew",
         "Ground",
         null,
         "300",
         "50",
         "75",
         "85",
         "20",
         "30",
         "40",
         "1",
         "False"
        ],
        [
         "28",
         "Sandslash",
         "Ground",
         null,
         "450",
         "75",
         "100",
         "110",
         "45",
         "55",
         "65",
         "2",
         "False"
        ],
        [
         "29",
         "Nidoran���",
         "Poison",
         null,
         "275",
         "55",
         "47",
         "52",
         "40",
         "40",
         "41",
         "1",
         "False"
        ],
        [
         "30",
         "Nidorina",
         "Poison",
         null,
         "365",
         "70",
         "62",
         "67",
         "55",
         "55",
         "56",
         "2",
         "False"
        ],
        [
         "31",
         "Nidoqueen",
         "Poison",
         "Ground",
         "505",
         "90",
         "92",
         "87",
         "75",
         "85",
         "76",
         "3",
         "False"
        ],
        [
         "32",
         "Nidoran���",
         "Poison",
         null,
         "273",
         "46",
         "57",
         "40",
         "40",
         "40",
         "50",
         "1",
         "False"
        ],
        [
         "33",
         "Nidorino",
         "Poison",
         null,
         "365",
         "61",
         "72",
         "57",
         "55",
         "55",
         "65",
         "2",
         "False"
        ],
        [
         "34",
         "Nidoking",
         "Poison",
         "Ground",
         "505",
         "81",
         "102",
         "77",
         "85",
         "75",
         "85",
         "3",
         "False"
        ],
        [
         "35",
         "Clefairy",
         "Fairy",
         null,
         "323",
         "70",
         "45",
         "48",
         "60",
         "65",
         "35",
         "1",
         "False"
        ],
        [
         "36",
         "Clefable",
         "Fairy",
         null,
         "483",
         "95",
         "70",
         "73",
         "95",
         "90",
         "60",
         "2",
         "False"
        ],
        [
         "37",
         "Vulpix",
         "Fire",
         null,
         "299",
         "38",
         "41",
         "40",
         "50",
         "65",
         "65",
         "1",
         "False"
        ],
        [
         "38",
         "Ninetales",
         "Fire",
         null,
         "505",
         "73",
         "76",
         "75",
         "81",
         "100",
         "100",
         "2",
         "False"
        ],
        [
         "39",
         "Jigglypuff",
         "Normal",
         "Fairy",
         "270",
         "115",
         "45",
         "20",
         "45",
         "25",
         "20",
         "1",
         "False"
        ],
        [
         "40",
         "Wigglytuff",
         "Normal",
         "Fairy",
         "435",
         "140",
         "70",
         "45",
         "85",
         "50",
         "45",
         "2",
         "False"
        ],
        [
         "41",
         "Zubat",
         "Poison",
         "Flying",
         "245",
         "40",
         "45",
         "35",
         "30",
         "40",
         "55",
         "1",
         "False"
        ],
        [
         "42",
         "Golbat",
         "Poison",
         "Flying",
         "455",
         "75",
         "80",
         "70",
         "65",
         "75",
         "90",
         "2",
         "False"
        ],
        [
         "43",
         "Oddish",
         "Grass",
         "Poison",
         "320",
         "45",
         "50",
         "55",
         "75",
         "65",
         "30",
         "1",
         "False"
        ],
        [
         "44",
         "Gloom",
         "Grass",
         "Poison",
         "395",
         "60",
         "65",
         "70",
         "85",
         "75",
         "40",
         "2",
         "False"
        ],
        [
         "45",
         "Vileplume",
         "Grass",
         "Poison",
         "490",
         "75",
         "80",
         "85",
         "110",
         "90",
         "50",
         "3",
         "False"
        ],
        [
         "46",
         "Paras",
         "Bug",
         "Grass",
         "285",
         "35",
         "70",
         "55",
         "45",
         "55",
         "25",
         "1",
         "False"
        ],
        [
         "47",
         "Parasect",
         "Bug",
         "Grass",
         "405",
         "60",
         "95",
         "80",
         "60",
         "80",
         "30",
         "2",
         "False"
        ],
        [
         "48",
         "Venonat",
         "Bug",
         "Poison",
         "305",
         "60",
         "55",
         "50",
         "40",
         "55",
         "45",
         "1",
         "False"
        ],
        [
         "49",
         "Venomoth",
         "Bug",
         "Poison",
         "450",
         "70",
         "65",
         "60",
         "90",
         "75",
         "90",
         "2",
         "False"
        ],
        [
         "50",
         "Diglett",
         "Ground",
         null,
         "265",
         "10",
         "55",
         "25",
         "35",
         "45",
         "95",
         "1",
         "False"
        ]
       ],
       "shape": {
        "columns": 12,
        "rows": 151
       }
      },
      "text/html": [
       "<div>\n",
       "<style scoped>\n",
       "    .dataframe tbody tr th:only-of-type {\n",
       "        vertical-align: middle;\n",
       "    }\n",
       "\n",
       "    .dataframe tbody tr th {\n",
       "        vertical-align: top;\n",
       "    }\n",
       "\n",
       "    .dataframe thead th {\n",
       "        text-align: right;\n",
       "    }\n",
       "</style>\n",
       "<table border=\"1\" class=\"dataframe\">\n",
       "  <thead>\n",
       "    <tr style=\"text-align: right;\">\n",
       "      <th></th>\n",
       "      <th>Name</th>\n",
       "      <th>Type 1</th>\n",
       "      <th>Type 2</th>\n",
       "      <th>Total</th>\n",
       "      <th>HP</th>\n",
       "      <th>Attack</th>\n",
       "      <th>Defense</th>\n",
       "      <th>Sp. Atk</th>\n",
       "      <th>Sp. Def</th>\n",
       "      <th>Speed</th>\n",
       "      <th>Stage</th>\n",
       "      <th>Legendary</th>\n",
       "    </tr>\n",
       "    <tr>\n",
       "      <th>#</th>\n",
       "      <th></th>\n",
       "      <th></th>\n",
       "      <th></th>\n",
       "      <th></th>\n",
       "      <th></th>\n",
       "      <th></th>\n",
       "      <th></th>\n",
       "      <th></th>\n",
       "      <th></th>\n",
       "      <th></th>\n",
       "      <th></th>\n",
       "      <th></th>\n",
       "    </tr>\n",
       "  </thead>\n",
       "  <tbody>\n",
       "    <tr>\n",
       "      <th>1</th>\n",
       "      <td>Bulbasaur</td>\n",
       "      <td>Grass</td>\n",
       "      <td>Poison</td>\n",
       "      <td>318</td>\n",
       "      <td>45</td>\n",
       "      <td>49</td>\n",
       "      <td>49</td>\n",
       "      <td>65</td>\n",
       "      <td>65</td>\n",
       "      <td>45</td>\n",
       "      <td>1</td>\n",
       "      <td>False</td>\n",
       "    </tr>\n",
       "    <tr>\n",
       "      <th>2</th>\n",
       "      <td>Ivysaur</td>\n",
       "      <td>Grass</td>\n",
       "      <td>Poison</td>\n",
       "      <td>405</td>\n",
       "      <td>60</td>\n",
       "      <td>62</td>\n",
       "      <td>63</td>\n",
       "      <td>80</td>\n",
       "      <td>80</td>\n",
       "      <td>60</td>\n",
       "      <td>2</td>\n",
       "      <td>False</td>\n",
       "    </tr>\n",
       "    <tr>\n",
       "      <th>3</th>\n",
       "      <td>Venusaur</td>\n",
       "      <td>Grass</td>\n",
       "      <td>Poison</td>\n",
       "      <td>525</td>\n",
       "      <td>80</td>\n",
       "      <td>82</td>\n",
       "      <td>83</td>\n",
       "      <td>100</td>\n",
       "      <td>100</td>\n",
       "      <td>80</td>\n",
       "      <td>3</td>\n",
       "      <td>False</td>\n",
       "    </tr>\n",
       "    <tr>\n",
       "      <th>4</th>\n",
       "      <td>Charmander</td>\n",
       "      <td>Fire</td>\n",
       "      <td>NaN</td>\n",
       "      <td>309</td>\n",
       "      <td>39</td>\n",
       "      <td>52</td>\n",
       "      <td>43</td>\n",
       "      <td>60</td>\n",
       "      <td>50</td>\n",
       "      <td>65</td>\n",
       "      <td>1</td>\n",
       "      <td>False</td>\n",
       "    </tr>\n",
       "    <tr>\n",
       "      <th>5</th>\n",
       "      <td>Charmeleon</td>\n",
       "      <td>Fire</td>\n",
       "      <td>NaN</td>\n",
       "      <td>405</td>\n",
       "      <td>58</td>\n",
       "      <td>64</td>\n",
       "      <td>58</td>\n",
       "      <td>80</td>\n",
       "      <td>65</td>\n",
       "      <td>80</td>\n",
       "      <td>2</td>\n",
       "      <td>False</td>\n",
       "    </tr>\n",
       "    <tr>\n",
       "      <th>...</th>\n",
       "      <td>...</td>\n",
       "      <td>...</td>\n",
       "      <td>...</td>\n",
       "      <td>...</td>\n",
       "      <td>...</td>\n",
       "      <td>...</td>\n",
       "      <td>...</td>\n",
       "      <td>...</td>\n",
       "      <td>...</td>\n",
       "      <td>...</td>\n",
       "      <td>...</td>\n",
       "      <td>...</td>\n",
       "    </tr>\n",
       "    <tr>\n",
       "      <th>147</th>\n",
       "      <td>Dratini</td>\n",
       "      <td>Dragon</td>\n",
       "      <td>NaN</td>\n",
       "      <td>300</td>\n",
       "      <td>41</td>\n",
       "      <td>64</td>\n",
       "      <td>45</td>\n",
       "      <td>50</td>\n",
       "      <td>50</td>\n",
       "      <td>50</td>\n",
       "      <td>1</td>\n",
       "      <td>False</td>\n",
       "    </tr>\n",
       "    <tr>\n",
       "      <th>148</th>\n",
       "      <td>Dragonair</td>\n",
       "      <td>Dragon</td>\n",
       "      <td>NaN</td>\n",
       "      <td>420</td>\n",
       "      <td>61</td>\n",
       "      <td>84</td>\n",
       "      <td>65</td>\n",
       "      <td>70</td>\n",
       "      <td>70</td>\n",
       "      <td>70</td>\n",
       "      <td>2</td>\n",
       "      <td>False</td>\n",
       "    </tr>\n",
       "    <tr>\n",
       "      <th>149</th>\n",
       "      <td>Dragonite</td>\n",
       "      <td>Dragon</td>\n",
       "      <td>Flying</td>\n",
       "      <td>600</td>\n",
       "      <td>91</td>\n",
       "      <td>134</td>\n",
       "      <td>95</td>\n",
       "      <td>100</td>\n",
       "      <td>100</td>\n",
       "      <td>80</td>\n",
       "      <td>3</td>\n",
       "      <td>False</td>\n",
       "    </tr>\n",
       "    <tr>\n",
       "      <th>150</th>\n",
       "      <td>Mewtwo</td>\n",
       "      <td>Psychic</td>\n",
       "      <td>NaN</td>\n",
       "      <td>680</td>\n",
       "      <td>106</td>\n",
       "      <td>110</td>\n",
       "      <td>90</td>\n",
       "      <td>154</td>\n",
       "      <td>90</td>\n",
       "      <td>130</td>\n",
       "      <td>1</td>\n",
       "      <td>True</td>\n",
       "    </tr>\n",
       "    <tr>\n",
       "      <th>151</th>\n",
       "      <td>Mew</td>\n",
       "      <td>Psychic</td>\n",
       "      <td>NaN</td>\n",
       "      <td>600</td>\n",
       "      <td>100</td>\n",
       "      <td>100</td>\n",
       "      <td>100</td>\n",
       "      <td>100</td>\n",
       "      <td>100</td>\n",
       "      <td>100</td>\n",
       "      <td>1</td>\n",
       "      <td>False</td>\n",
       "    </tr>\n",
       "  </tbody>\n",
       "</table>\n",
       "<p>151 rows × 12 columns</p>\n",
       "</div>"
      ],
      "text/plain": [
       "           Name   Type 1  Type 2  Total   HP  Attack  Defense  Sp. Atk  \\\n",
       "#                                                                        \n",
       "1     Bulbasaur    Grass  Poison    318   45      49       49       65   \n",
       "2       Ivysaur    Grass  Poison    405   60      62       63       80   \n",
       "3      Venusaur    Grass  Poison    525   80      82       83      100   \n",
       "4    Charmander     Fire     NaN    309   39      52       43       60   \n",
       "5    Charmeleon     Fire     NaN    405   58      64       58       80   \n",
       "..          ...      ...     ...    ...  ...     ...      ...      ...   \n",
       "147     Dratini   Dragon     NaN    300   41      64       45       50   \n",
       "148   Dragonair   Dragon     NaN    420   61      84       65       70   \n",
       "149   Dragonite   Dragon  Flying    600   91     134       95      100   \n",
       "150      Mewtwo  Psychic     NaN    680  106     110       90      154   \n",
       "151         Mew  Psychic     NaN    600  100     100      100      100   \n",
       "\n",
       "     Sp. Def  Speed  Stage  Legendary  \n",
       "#                                      \n",
       "1         65     45      1      False  \n",
       "2         80     60      2      False  \n",
       "3        100     80      3      False  \n",
       "4         50     65      1      False  \n",
       "5         65     80      2      False  \n",
       "..       ...    ...    ...        ...  \n",
       "147       50     50      1      False  \n",
       "148       70     70      2      False  \n",
       "149      100     80      3      False  \n",
       "150       90    130      1       True  \n",
       "151      100    100      1      False  \n",
       "\n",
       "[151 rows x 12 columns]"
      ]
     },
     "execution_count": 4,
     "metadata": {},
     "output_type": "execute_result"
    }
   ],
   "source": [
    "pokemon = pd.read_csv(\"data/Pokemon.csv\",index_col=0)\n",
    "pokemon"
   ]
  },
  {
   "cell_type": "code",
   "execution_count": 5,
   "metadata": {},
   "outputs": [],
   "source": [
    "# 4. Mira las primeras filas del dataset para hacerte una idea de los datos cargados"
   ]
  },
  {
   "cell_type": "code",
   "execution_count": 6,
   "metadata": {},
   "outputs": [
    {
     "data": {
      "application/vnd.microsoft.datawrangler.viewer.v0+json": {
       "columns": [
        {
         "name": "#",
         "rawType": "int64",
         "type": "integer"
        },
        {
         "name": "Name",
         "rawType": "object",
         "type": "string"
        },
        {
         "name": "Type 1",
         "rawType": "object",
         "type": "string"
        },
        {
         "name": "Type 2",
         "rawType": "object",
         "type": "unknown"
        },
        {
         "name": "Total",
         "rawType": "int64",
         "type": "integer"
        },
        {
         "name": "HP",
         "rawType": "int64",
         "type": "integer"
        },
        {
         "name": "Attack",
         "rawType": "int64",
         "type": "integer"
        },
        {
         "name": "Defense",
         "rawType": "int64",
         "type": "integer"
        },
        {
         "name": "Sp. Atk",
         "rawType": "int64",
         "type": "integer"
        },
        {
         "name": "Sp. Def",
         "rawType": "int64",
         "type": "integer"
        },
        {
         "name": "Speed",
         "rawType": "int64",
         "type": "integer"
        },
        {
         "name": "Stage",
         "rawType": "int64",
         "type": "integer"
        },
        {
         "name": "Legendary",
         "rawType": "bool",
         "type": "boolean"
        }
       ],
       "conversionMethod": "pd.DataFrame",
       "ref": "f0864333-9bd0-46f7-a61a-042c82d71990",
       "rows": [
        [
         "1",
         "Bulbasaur",
         "Grass",
         "Poison",
         "318",
         "45",
         "49",
         "49",
         "65",
         "65",
         "45",
         "1",
         "False"
        ],
        [
         "2",
         "Ivysaur",
         "Grass",
         "Poison",
         "405",
         "60",
         "62",
         "63",
         "80",
         "80",
         "60",
         "2",
         "False"
        ],
        [
         "3",
         "Venusaur",
         "Grass",
         "Poison",
         "525",
         "80",
         "82",
         "83",
         "100",
         "100",
         "80",
         "3",
         "False"
        ],
        [
         "4",
         "Charmander",
         "Fire",
         null,
         "309",
         "39",
         "52",
         "43",
         "60",
         "50",
         "65",
         "1",
         "False"
        ]
       ],
       "shape": {
        "columns": 12,
        "rows": 4
       }
      },
      "text/html": [
       "<div>\n",
       "<style scoped>\n",
       "    .dataframe tbody tr th:only-of-type {\n",
       "        vertical-align: middle;\n",
       "    }\n",
       "\n",
       "    .dataframe tbody tr th {\n",
       "        vertical-align: top;\n",
       "    }\n",
       "\n",
       "    .dataframe thead th {\n",
       "        text-align: right;\n",
       "    }\n",
       "</style>\n",
       "<table border=\"1\" class=\"dataframe\">\n",
       "  <thead>\n",
       "    <tr style=\"text-align: right;\">\n",
       "      <th></th>\n",
       "      <th>Name</th>\n",
       "      <th>Type 1</th>\n",
       "      <th>Type 2</th>\n",
       "      <th>Total</th>\n",
       "      <th>HP</th>\n",
       "      <th>Attack</th>\n",
       "      <th>Defense</th>\n",
       "      <th>Sp. Atk</th>\n",
       "      <th>Sp. Def</th>\n",
       "      <th>Speed</th>\n",
       "      <th>Stage</th>\n",
       "      <th>Legendary</th>\n",
       "    </tr>\n",
       "    <tr>\n",
       "      <th>#</th>\n",
       "      <th></th>\n",
       "      <th></th>\n",
       "      <th></th>\n",
       "      <th></th>\n",
       "      <th></th>\n",
       "      <th></th>\n",
       "      <th></th>\n",
       "      <th></th>\n",
       "      <th></th>\n",
       "      <th></th>\n",
       "      <th></th>\n",
       "      <th></th>\n",
       "    </tr>\n",
       "  </thead>\n",
       "  <tbody>\n",
       "    <tr>\n",
       "      <th>1</th>\n",
       "      <td>Bulbasaur</td>\n",
       "      <td>Grass</td>\n",
       "      <td>Poison</td>\n",
       "      <td>318</td>\n",
       "      <td>45</td>\n",
       "      <td>49</td>\n",
       "      <td>49</td>\n",
       "      <td>65</td>\n",
       "      <td>65</td>\n",
       "      <td>45</td>\n",
       "      <td>1</td>\n",
       "      <td>False</td>\n",
       "    </tr>\n",
       "    <tr>\n",
       "      <th>2</th>\n",
       "      <td>Ivysaur</td>\n",
       "      <td>Grass</td>\n",
       "      <td>Poison</td>\n",
       "      <td>405</td>\n",
       "      <td>60</td>\n",
       "      <td>62</td>\n",
       "      <td>63</td>\n",
       "      <td>80</td>\n",
       "      <td>80</td>\n",
       "      <td>60</td>\n",
       "      <td>2</td>\n",
       "      <td>False</td>\n",
       "    </tr>\n",
       "    <tr>\n",
       "      <th>3</th>\n",
       "      <td>Venusaur</td>\n",
       "      <td>Grass</td>\n",
       "      <td>Poison</td>\n",
       "      <td>525</td>\n",
       "      <td>80</td>\n",
       "      <td>82</td>\n",
       "      <td>83</td>\n",
       "      <td>100</td>\n",
       "      <td>100</td>\n",
       "      <td>80</td>\n",
       "      <td>3</td>\n",
       "      <td>False</td>\n",
       "    </tr>\n",
       "    <tr>\n",
       "      <th>4</th>\n",
       "      <td>Charmander</td>\n",
       "      <td>Fire</td>\n",
       "      <td>NaN</td>\n",
       "      <td>309</td>\n",
       "      <td>39</td>\n",
       "      <td>52</td>\n",
       "      <td>43</td>\n",
       "      <td>60</td>\n",
       "      <td>50</td>\n",
       "      <td>65</td>\n",
       "      <td>1</td>\n",
       "      <td>False</td>\n",
       "    </tr>\n",
       "  </tbody>\n",
       "</table>\n",
       "</div>"
      ],
      "text/plain": [
       "         Name Type 1  Type 2  Total  HP  Attack  Defense  Sp. Atk  Sp. Def  \\\n",
       "#                                                                            \n",
       "1   Bulbasaur  Grass  Poison    318  45      49       49       65       65   \n",
       "2     Ivysaur  Grass  Poison    405  60      62       63       80       80   \n",
       "3    Venusaur  Grass  Poison    525  80      82       83      100      100   \n",
       "4  Charmander   Fire     NaN    309  39      52       43       60       50   \n",
       "\n",
       "   Speed  Stage  Legendary  \n",
       "#                           \n",
       "1     45      1      False  \n",
       "2     60      2      False  \n",
       "3     80      3      False  \n",
       "4     65      1      False  "
      ]
     },
     "execution_count": 6,
     "metadata": {},
     "output_type": "execute_result"
    }
   ],
   "source": [
    "pokemon.head(4)"
   ]
  },
  {
   "cell_type": "code",
   "execution_count": 7,
   "metadata": {},
   "outputs": [],
   "source": [
    "# 5. Haz un scatter plot con lmplot(), que es el método que pinta una regresión lineal\n",
    "# Pasa el DataFrame como argumento del método en el parámetro llamado data"
   ]
  },
  {
   "cell_type": "code",
   "execution_count": 8,
   "metadata": {},
   "outputs": [
    {
     "data": {
      "text/plain": [
       "<seaborn.axisgrid.FacetGrid at 0x179f867ab90>"
      ]
     },
     "execution_count": 8,
     "metadata": {},
     "output_type": "execute_result"
    },
    {
     "data": {
      "image/png": "[encoded data removed]",
      "text/plain": [
       "<Figure size 500x500 with 1 Axes>"
      ]
     },
     "metadata": {},
     "output_type": "display_data"
    }
   ],
   "source": [
    "ejer_5 = sns.lmplot(data=pokemon,x=\"Attack\",y=\"Defense\")\n",
    "ejer_5"
   ]
  },
  {
   "cell_type": "code",
   "execution_count": 9,
   "metadata": {},
   "outputs": [],
   "source": [
    "# 6. No queremos ver la línea recta de la regresión lineal.\n",
    "# prueba a añadir fit_reg a falso"
   ]
  },
  {
   "cell_type": "code",
   "execution_count": 10,
   "metadata": {},
   "outputs": [
    {
     "data": {
      "text/plain": [
       "<seaborn.axisgrid.FacetGrid at 0x179f82a5f90>"
      ]
     },
     "execution_count": 10,
     "metadata": {},
     "output_type": "execute_result"
    },
    {
     "data": {
      "image/png": "[encoded data removed]",
      "text/plain": [
       "<Figure size 500x500 with 1 Axes>"
      ]
     },
     "metadata": {},
     "output_type": "display_data"
    }
   ],
   "source": [
    "ejer_6 = sns.lmplot(data=pokemon,x=\"Attack\",y=\"Defense\",fit_reg=False)\n",
    "ejer_6"
   ]
  },
  {
   "cell_type": "code",
   "execution_count": 11,
   "metadata": {},
   "outputs": [],
   "source": [
    "# 7. Vamos a decir qué variable (columna del DataFrame) codifica los colores (hue)\n",
    "# Que el hue sea el Stage"
   ]
  },
  {
   "cell_type": "code",
   "execution_count": null,
   "metadata": {},
   "outputs": [
    {
     "data": {
      "text/plain": [
       "<seaborn.axisgrid.FacetGrid at 0x179f87d5f90>"
      ]
     },
     "execution_count": 12,
     "metadata": {},
     "output_type": "execute_result"
    },
    {
     "data": {
      "image/png": "[encoded data removed]",
      "text/plain": [
       "<Figure size 558.875x500 with 1 Axes>"
      ]
     },
     "metadata": {},
     "output_type": "display_data"
    }
   ],
   "source": [
    "ejer_7 = sns.lmplot(data=pokemon,x=\"Attack\",y=\"Defense\",fit_reg=False,hue=\"Stage\")\n",
    "# hue permite codificar los datos por colores\n",
    "ejer_7"
   ]
  },
  {
   "cell_type": "code",
   "execution_count": 13,
   "metadata": {},
   "outputs": [],
   "source": [
    "# 8. Limita el eje x entre 20 y 100"
   ]
  },
  {
   "cell_type": "code",
   "execution_count": 14,
   "metadata": {},
   "outputs": [
    {
     "data": {
      "text/plain": [
       "<seaborn.axisgrid.FacetGrid at 0x179f8451f10>"
      ]
     },
     "execution_count": 14,
     "metadata": {},
     "output_type": "execute_result"
    },
    {
     "data": {
      "image/png": "[encoded data removed]",
      "text/plain": [
       "<Figure size 558.875x500 with 1 Axes>"
      ]
     },
     "metadata": {},
     "output_type": "display_data"
    }
   ],
   "source": [
    "ejer_8 = sns.lmplot(data=pokemon,x=\"Attack\",y=\"Defense\",fit_reg=False,hue=\"Stage\")\n",
    "ejer_8.set(xlim=(20,100))"
   ]
  },
  {
   "cell_type": "code",
   "execution_count": 15,
   "metadata": {},
   "outputs": [],
   "source": [
    "# 9. Dibuja un diagrama de cajas con el dataframe"
   ]
  },
  {
   "cell_type": "code",
   "execution_count": 16,
   "metadata": {},
   "outputs": [
    {
     "data": {
      "text/plain": [
       "<Axes: >"
      ]
     },
     "execution_count": 16,
     "metadata": {},
     "output_type": "execute_result"
    },
    {
     "data": {
      "image/png": "[encoded data removed]",
      "text/plain": [
       "<Figure size 640x480 with 1 Axes>"
      ]
     },
     "metadata": {},
     "output_type": "display_data"
    }
   ],
   "source": [
    "sns.boxplot(data=pokemon)"
   ]
  },
  {
   "cell_type": "code",
   "execution_count": 17,
   "metadata": {},
   "outputs": [],
   "source": [
    "# 10. No nos interesan las columnas Total, Stage ni Legendary\n",
    "# Bórralos del DataFrame y vuelve a dibujar el diagrama de cajas"
   ]
  },
  {
   "cell_type": "code",
   "execution_count": 18,
   "metadata": {},
   "outputs": [
    {
     "data": {
      "application/vnd.microsoft.datawrangler.viewer.v0+json": {
       "columns": [
        {
         "name": "#",
         "rawType": "int64",
         "type": "integer"
        },
        {
         "name": "Name",
         "rawType": "object",
         "type": "string"
        },
        {
         "name": "Type 1",
         "rawType": "object",
         "type": "string"
        },
        {
         "name": "Type 2",
         "rawType": "object",
         "type": "unknown"
        },
        {
         "name": "HP",
         "rawType": "int64",
         "type": "integer"
        },
        {
         "name": "Attack",
         "rawType": "int64",
         "type": "integer"
        },
        {
         "name": "Defense",
         "rawType": "int64",
         "type": "integer"
        },
        {
         "name": "Sp. Atk",
         "rawType": "int64",
         "type": "integer"
        },
        {
         "name": "Sp. Def",
         "rawType": "int64",
         "type": "integer"
        },
        {
         "name": "Speed",
         "rawType": "int64",
         "type": "integer"
        }
       ],
       "conversionMethod": "pd.DataFrame",
       "ref": "502b83bf-25c5-4fa1-9927-153403f7acff",
       "rows": [
        [
         "1",
         "Bulbasaur",
         "Grass",
         "Poison",
         "45",
         "49",
         "49",
         "65",
         "65",
         "45"
        ],
        [
         "2",
         "Ivysaur",
         "Grass",
         "Poison",
         "60",
         "62",
         "63",
         "80",
         "80",
         "60"
        ],
        [
         "3",
         "Venusaur",
         "Grass",
         "Poison",
         "80",
         "82",
         "83",
         "100",
         "100",
         "80"
        ],
        [
         "4",
         "Charmander",
         "Fire",
         null,
         "39",
         "52",
         "43",
         "60",
         "50",
         "65"
        ],
        [
         "5",
         "Charmeleon",
         "Fire",
         null,
         "58",
         "64",
         "58",
         "80",
         "65",
         "80"
        ],
        [
         "6",
         "Charizard",
         "Fire",
         "Flying",
         "78",
         "84",
         "78",
         "109",
         "85",
         "100"
        ],
        [
         "7",
         "Squirtle",
         "Water",
         null,
         "44",
         "48",
         "65",
         "50",
         "64",
         "43"
        ],
        [
         "8",
         "Wartortle",
         "Water",
         null,
         "59",
         "63",
         "80",
         "65",
         "80",
         "58"
        ],
        [
         "9",
         "Blastoise",
         "Water",
         null,
         "79",
         "83",
         "100",
         "85",
         "105",
         "78"
        ],
        [
         "10",
         "Caterpie",
         "Bug",
         null,
         "45",
         "30",
         "35",
         "20",
         "20",
         "45"
        ],
        [
         "11",
         "Metapod",
         "Bug",
         null,
         "50",
         "20",
         "55",
         "25",
         "25",
         "30"
        ],
        [
         "12",
         "Butterfree",
         "Bug",
         "Flying",
         "60",
         "45",
         "50",
         "90",
         "80",
         "70"
        ],
        [
         "13",
         "Weedle",
         "Bug",
         "Poison",
         "40",
         "35",
         "30",
         "20",
         "20",
         "50"
        ],
        [
         "14",
         "Kakuna",
         "Bug",
         "Poison",
         "45",
         "25",
         "50",
         "25",
         "25",
         "35"
        ],
        [
         "15",
         "Beedrill",
         "Bug",
         "Poison",
         "65",
         "90",
         "40",
         "45",
         "80",
         "75"
        ],
        [
         "16",
         "Pidgey",
         "Normal",
         "Flying",
         "40",
         "45",
         "40",
         "35",
         "35",
         "56"
        ],
        [
         "17",
         "Pidgeotto",
         "Normal",
         "Flying",
         "63",
         "60",
         "55",
         "50",
         "50",
         "71"
        ],
        [
         "18",
         "Pidgeot",
         "Normal",
         "Flying",
         "83",
         "80",
         "75",
         "70",
         "70",
         "101"
        ],
        [
         "19",
         "Rattata",
         "Normal",
         null,
         "30",
         "56",
         "35",
         "25",
         "35",
         "72"
        ],
        [
         "20",
         "Raticate",
         "Normal",
         null,
         "55",
         "81",
         "60",
         "50",
         "70",
         "97"
        ],
        [
         "21",
         "Spearow",
         "Normal",
         "Flying",
         "40",
         "60",
         "30",
         "31",
         "31",
         "70"
        ],
        [
         "22",
         "Fearow",
         "Normal",
         "Flying",
         "65",
         "90",
         "65",
         "61",
         "61",
         "100"
        ],
        [
         "23",
         "Ekans",
         "Poison",
         null,
         "35",
         "60",
         "44",
         "40",
         "54",
         "55"
        ],
        [
         "24",
         "Arbok",
         "Poison",
         null,
         "60",
         "85",
         "69",
         "65",
         "79",
         "80"
        ],
        [
         "25",
         "Pikachu",
         "Electric",
         null,
         "35",
         "55",
         "40",
         "50",
         "50",
         "90"
        ],
        [
         "26",
         "Raichu",
         "Electric",
         null,
         "60",
         "90",
         "55",
         "90",
         "80",
         "110"
        ],
        [
         "27",
         "Sandshrew",
         "Ground",
         null,
         "50",
         "75",
         "85",
         "20",
         "30",
         "40"
        ],
        [
         "28",
         "Sandslash",
         "Ground",
         null,
         "75",
         "100",
         "110",
         "45",
         "55",
         "65"
        ],
        [
         "29",
         "Nidoran���",
         "Poison",
         null,
         "55",
         "47",
         "52",
         "40",
         "40",
         "41"
        ],
        [
         "30",
         "Nidorina",
         "Poison",
         null,
         "70",
         "62",
         "67",
         "55",
         "55",
         "56"
        ],
        [
         "31",
         "Nidoqueen",
         "Poison",
         "Ground",
         "90",
         "92",
         "87",
         "75",
         "85",
         "76"
        ],
        [
         "32",
         "Nidoran���",
         "Poison",
         null,
         "46",
         "57",
         "40",
         "40",
         "40",
         "50"
        ],
        [
         "33",
         "Nidorino",
         "Poison",
         null,
         "61",
         "72",
         "57",
         "55",
         "55",
         "65"
        ],
        [
         "34",
         "Nidoking",
         "Poison",
         "Ground",
         "81",
         "102",
         "77",
         "85",
         "75",
         "85"
        ],
        [
         "35",
         "Clefairy",
         "Fairy",
         null,
         "70",
         "45",
         "48",
         "60",
         "65",
         "35"
        ],
        [
         "36",
         "Clefable",
         "Fairy",
         null,
         "95",
         "70",
         "73",
         "95",
         "90",
         "60"
        ],
        [
         "37",
         "Vulpix",
         "Fire",
         null,
         "38",
         "41",
         "40",
         "50",
         "65",
         "65"
        ],
        [
         "38",
         "Ninetales",
         "Fire",
         null,
         "73",
         "76",
         "75",
         "81",
         "100",
         "100"
        ],
        [
         "39",
         "Jigglypuff",
         "Normal",
         "Fairy",
         "115",
         "45",
         "20",
         "45",
         "25",
         "20"
        ],
        [
         "40",
         "Wigglytuff",
         "Normal",
         "Fairy",
         "140",
         "70",
         "45",
         "85",
         "50",
         "45"
        ],
        [
         "41",
         "Zubat",
         "Poison",
         "Flying",
         "40",
         "45",
         "35",
         "30",
         "40",
         "55"
        ],
        [
         "42",
         "Golbat",
         "Poison",
         "Flying",
         "75",
         "80",
         "70",
         "65",
         "75",
         "90"
        ],
        [
         "43",
         "Oddish",
         "Grass",
         "Poison",
         "45",
         "50",
         "55",
         "75",
         "65",
         "30"
        ],
        [
         "44",
         "Gloom",
         "Grass",
         "Poison",
         "60",
         "65",
         "70",
         "85",
         "75",
         "40"
        ],
        [
         "45",
         "Vileplume",
         "Grass",
         "Poison",
         "75",
         "80",
         "85",
         "110",
         "90",
         "50"
        ],
        [
         "46",
         "Paras",
         "Bug",
         "Grass",
         "35",
         "70",
         "55",
         "45",
         "55",
         "25"
        ],
        [
         "47",
         "Parasect",
         "Bug",
         "Grass",
         "60",
         "95",
         "80",
         "60",
         "80",
         "30"
        ],
        [
         "48",
         "Venonat",
         "Bug",
         "Poison",
         "60",
         "55",
         "50",
         "40",
         "55",
         "45"
        ],
        [
         "49",
         "Venomoth",
         "Bug",
         "Poison",
         "70",
         "65",
         "60",
         "90",
         "75",
         "90"
        ],
        [
         "50",
         "Diglett",
         "Ground",
         null,
         "10",
         "55",
         "25",
         "35",
         "45",
         "95"
        ]
       ],
       "shape": {
        "columns": 9,
        "rows": 151
       }
      },
      "text/html": [
       "<div>\n",
       "<style scoped>\n",
       "    .dataframe tbody tr th:only-of-type {\n",
       "        vertical-align: middle;\n",
       "    }\n",
       "\n",
       "    .dataframe tbody tr th {\n",
       "        vertical-align: top;\n",
       "    }\n",
       "\n",
       "    .dataframe thead th {\n",
       "        text-align: right;\n",
       "    }\n",
       "</style>\n",
       "<table border=\"1\" class=\"dataframe\">\n",
       "  <thead>\n",
       "    <tr style=\"text-align: right;\">\n",
       "      <th></th>\n",
       "      <th>Name</th>\n",
       "      <th>Type 1</th>\n",
       "      <th>Type 2</th>\n",
       "      <th>HP</th>\n",
       "      <th>Attack</th>\n",
       "      <th>Defense</th>\n",
       "      <th>Sp. Atk</th>\n",
       "      <th>Sp. Def</th>\n",
       "      <th>Speed</th>\n",
       "    </tr>\n",
       "    <tr>\n",
       "      <th>#</th>\n",
       "      <th></th>\n",
       "      <th></th>\n",
       "      <th></th>\n",
       "      <th></th>\n",
       "      <th></th>\n",
       "      <th></th>\n",
       "      <th></th>\n",
       "      <th></th>\n",
       "      <th></th>\n",
       "    </tr>\n",
       "  </thead>\n",
       "  <tbody>\n",
       "    <tr>\n",
       "      <th>1</th>\n",
       "      <td>Bulbasaur</td>\n",
       "      <td>Grass</td>\n",
       "      <td>Poison</td>\n",
       "      <td>45</td>\n",
       "      <td>49</td>\n",
       "      <td>49</td>\n",
       "      <td>65</td>\n",
       "      <td>65</td>\n",
       "      <td>45</td>\n",
       "    </tr>\n",
       "    <tr>\n",
       "      <th>2</th>\n",
       "      <td>Ivysaur</td>\n",
       "      <td>Grass</td>\n",
       "      <td>Poison</td>\n",
       "      <td>60</td>\n",
       "      <td>62</td>\n",
       "      <td>63</td>\n",
       "      <td>80</td>\n",
       "      <td>80</td>\n",
       "      <td>60</td>\n",
       "    </tr>\n",
       "    <tr>\n",
       "      <th>3</th>\n",
       "      <td>Venusaur</td>\n",
       "      <td>Grass</td>\n",
       "      <td>Poison</td>\n",
       "      <td>80</td>\n",
       "      <td>82</td>\n",
       "      <td>83</td>\n",
       "      <td>100</td>\n",
       "      <td>100</td>\n",
       "      <td>80</td>\n",
       "    </tr>\n",
       "    <tr>\n",
       "      <th>4</th>\n",
       "      <td>Charmander</td>\n",
       "      <td>Fire</td>\n",
       "      <td>NaN</td>\n",
       "      <td>39</td>\n",
       "      <td>52</td>\n",
       "      <td>43</td>\n",
       "      <td>60</td>\n",
       "      <td>50</td>\n",
       "      <td>65</td>\n",
       "    </tr>\n",
       "    <tr>\n",
       "      <th>5</th>\n",
       "      <td>Charmeleon</td>\n",
       "      <td>Fire</td>\n",
       "      <td>NaN</td>\n",
       "      <td>58</td>\n",
       "      <td>64</td>\n",
       "      <td>58</td>\n",
       "      <td>80</td>\n",
       "      <td>65</td>\n",
       "      <td>80</td>\n",
       "    </tr>\n",
       "    <tr>\n",
       "      <th>...</th>\n",
       "      <td>...</td>\n",
       "      <td>...</td>\n",
       "      <td>...</td>\n",
       "      <td>...</td>\n",
       "      <td>...</td>\n",
       "      <td>...</td>\n",
       "      <td>...</td>\n",
       "      <td>...</td>\n",
       "      <td>...</td>\n",
       "    </tr>\n",
       "    <tr>\n",
       "      <th>147</th>\n",
       "      <td>Dratini</td>\n",
       "      <td>Dragon</td>\n",
       "      <td>NaN</td>\n",
       "      <td>41</td>\n",
       "      <td>64</td>\n",
       "      <td>45</td>\n",
       "      <td>50</td>\n",
       "      <td>50</td>\n",
       "      <td>50</td>\n",
       "    </tr>\n",
       "    <tr>\n",
       "      <th>148</th>\n",
       "      <td>Dragonair</td>\n",
       "      <td>Dragon</td>\n",
       "      <td>NaN</td>\n",
       "      <td>61</td>\n",
       "      <td>84</td>\n",
       "      <td>65</td>\n",
       "      <td>70</td>\n",
       "      <td>70</td>\n",
       "      <td>70</td>\n",
       "    </tr>\n",
       "    <tr>\n",
       "      <th>149</th>\n",
       "      <td>Dragonite</td>\n",
       "      <td>Dragon</td>\n",
       "      <td>Flying</td>\n",
       "      <td>91</td>\n",
       "      <td>134</td>\n",
       "      <td>95</td>\n",
       "      <td>100</td>\n",
       "      <td>100</td>\n",
       "      <td>80</td>\n",
       "    </tr>\n",
       "    <tr>\n",
       "      <th>150</th>\n",
       "      <td>Mewtwo</td>\n",
       "      <td>Psychic</td>\n",
       "      <td>NaN</td>\n",
       "      <td>106</td>\n",
       "      <td>110</td>\n",
       "      <td>90</td>\n",
       "      <td>154</td>\n",
       "      <td>90</td>\n",
       "      <td>130</td>\n",
       "    </tr>\n",
       "    <tr>\n",
       "      <th>151</th>\n",
       "      <td>Mew</td>\n",
       "      <td>Psychic</td>\n",
       "      <td>NaN</td>\n",
       "      <td>100</td>\n",
       "      <td>100</td>\n",
       "      <td>100</td>\n",
       "      <td>100</td>\n",
       "      <td>100</td>\n",
       "      <td>100</td>\n",
       "    </tr>\n",
       "  </tbody>\n",
       "</table>\n",
       "<p>151 rows × 9 columns</p>\n",
       "</div>"
      ],
      "text/plain": [
       "           Name   Type 1  Type 2   HP  Attack  Defense  Sp. Atk  Sp. Def  \\\n",
       "#                                                                          \n",
       "1     Bulbasaur    Grass  Poison   45      49       49       65       65   \n",
       "2       Ivysaur    Grass  Poison   60      62       63       80       80   \n",
       "3      Venusaur    Grass  Poison   80      82       83      100      100   \n",
       "4    Charmander     Fire     NaN   39      52       43       60       50   \n",
       "5    Charmeleon     Fire     NaN   58      64       58       80       65   \n",
       "..          ...      ...     ...  ...     ...      ...      ...      ...   \n",
       "147     Dratini   Dragon     NaN   41      64       45       50       50   \n",
       "148   Dragonair   Dragon     NaN   61      84       65       70       70   \n",
       "149   Dragonite   Dragon  Flying   91     134       95      100      100   \n",
       "150      Mewtwo  Psychic     NaN  106     110       90      154       90   \n",
       "151         Mew  Psychic     NaN  100     100      100      100      100   \n",
       "\n",
       "     Speed  \n",
       "#           \n",
       "1       45  \n",
       "2       60  \n",
       "3       80  \n",
       "4       65  \n",
       "5       80  \n",
       "..     ...  \n",
       "147     50  \n",
       "148     70  \n",
       "149     80  \n",
       "150    130  \n",
       "151    100  \n",
       "\n",
       "[151 rows x 9 columns]"
      ]
     },
     "execution_count": 18,
     "metadata": {},
     "output_type": "execute_result"
    }
   ],
   "source": [
    "nuevo_poke = pokemon.drop([\"Total\",\"Stage\",\"Legendary\"],axis=1)\n",
    "nuevo_poke"
   ]
  },
  {
   "cell_type": "code",
   "execution_count": 19,
   "metadata": {},
   "outputs": [
    {
     "data": {
      "text/plain": [
       "<Axes: >"
      ]
     },
     "execution_count": 19,
     "metadata": {},
     "output_type": "execute_result"
    },
    {
     "data": {
      "image/png": "[encoded data removed]",
      "text/plain": [
       "<Figure size 640x480 with 1 Axes>"
      ]
     },
     "metadata": {},
     "output_type": "display_data"
    }
   ],
   "source": [
    "sns.boxplot(data=nuevo_poke)"
   ]
  },
  {
   "cell_type": "code",
   "execution_count": 20,
   "metadata": {},
   "outputs": [],
   "source": [
    "# 11. Mira cuántos 'Type 1' diferentes hay en el DataFrame"
   ]
  },
  {
   "cell_type": "code",
   "execution_count": 21,
   "metadata": {},
   "outputs": [
    {
     "data": {
      "text/plain": [
       "15"
      ]
     },
     "execution_count": 21,
     "metadata": {},
     "output_type": "execute_result"
    }
   ],
   "source": [
    "pokemon[\"Type 1\"].nunique()"
   ]
  },
  {
   "cell_type": "code",
   "execution_count": 22,
   "metadata": {},
   "outputs": [],
   "source": [
    "# 12. Quédate del Dataframe solo con los 'Type 1' iguales a 'Grass', 'Fire' o 'Water'"
   ]
  },
  {
   "cell_type": "code",
   "execution_count": 23,
   "metadata": {},
   "outputs": [
    {
     "data": {
      "application/vnd.microsoft.datawrangler.viewer.v0+json": {
       "columns": [
        {
         "name": "#",
         "rawType": "int64",
         "type": "integer"
        },
        {
         "name": "Name",
         "rawType": "object",
         "type": "string"
        },
        {
         "name": "Type 1",
         "rawType": "object",
         "type": "string"
        },
        {
         "name": "Type 2",
         "rawType": "object",
         "type": "unknown"
        },
        {
         "name": "HP",
         "rawType": "int64",
         "type": "integer"
        },
        {
         "name": "Attack",
         "rawType": "int64",
         "type": "integer"
        },
        {
         "name": "Defense",
         "rawType": "int64",
         "type": "integer"
        },
        {
         "name": "Sp. Atk",
         "rawType": "int64",
         "type": "integer"
        },
        {
         "name": "Sp. Def",
         "rawType": "int64",
         "type": "integer"
        },
        {
         "name": "Speed",
         "rawType": "int64",
         "type": "integer"
        }
       ],
       "conversionMethod": "pd.DataFrame",
       "ref": "ab341bcf-7f53-4517-9f9b-2ed3cd2390ab",
       "rows": [
        [
         "1",
         "Bulbasaur",
         "Grass",
         "Poison",
         "45",
         "49",
         "49",
         "65",
         "65",
         "45"
        ],
        [
         "2",
         "Ivysaur",
         "Grass",
         "Poison",
         "60",
         "62",
         "63",
         "80",
         "80",
         "60"
        ],
        [
         "3",
         "Venusaur",
         "Grass",
         "Poison",
         "80",
         "82",
         "83",
         "100",
         "100",
         "80"
        ],
        [
         "4",
         "Charmander",
         "Fire",
         null,
         "39",
         "52",
         "43",
         "60",
         "50",
         "65"
        ],
        [
         "5",
         "Charmeleon",
         "Fire",
         null,
         "58",
         "64",
         "58",
         "80",
         "65",
         "80"
        ],
        [
         "6",
         "Charizard",
         "Fire",
         "Flying",
         "78",
         "84",
         "78",
         "109",
         "85",
         "100"
        ],
        [
         "7",
         "Squirtle",
         "Water",
         null,
         "44",
         "48",
         "65",
         "50",
         "64",
         "43"
        ],
        [
         "8",
         "Wartortle",
         "Water",
         null,
         "59",
         "63",
         "80",
         "65",
         "80",
         "58"
        ],
        [
         "9",
         "Blastoise",
         "Water",
         null,
         "79",
         "83",
         "100",
         "85",
         "105",
         "78"
        ],
        [
         "10",
         "Caterpie",
         "Bug",
         null,
         "45",
         "30",
         "35",
         "20",
         "20",
         "45"
        ],
        [
         "11",
         "Metapod",
         "Bug",
         null,
         "50",
         "20",
         "55",
         "25",
         "25",
         "30"
        ],
        [
         "12",
         "Butterfree",
         "Bug",
         "Flying",
         "60",
         "45",
         "50",
         "90",
         "80",
         "70"
        ],
        [
         "13",
         "Weedle",
         "Bug",
         "Poison",
         "40",
         "35",
         "30",
         "20",
         "20",
         "50"
        ],
        [
         "14",
         "Kakuna",
         "Bug",
         "Poison",
         "45",
         "25",
         "50",
         "25",
         "25",
         "35"
        ],
        [
         "15",
         "Beedrill",
         "Bug",
         "Poison",
         "65",
         "90",
         "40",
         "45",
         "80",
         "75"
        ],
        [
         "16",
         "Pidgey",
         "Normal",
         "Flying",
         "40",
         "45",
         "40",
         "35",
         "35",
         "56"
        ],
        [
         "17",
         "Pidgeotto",
         "Normal",
         "Flying",
         "63",
         "60",
         "55",
         "50",
         "50",
         "71"
        ],
        [
         "18",
         "Pidgeot",
         "Normal",
         "Flying",
         "83",
         "80",
         "75",
         "70",
         "70",
         "101"
        ],
        [
         "19",
         "Rattata",
         "Normal",
         null,
         "30",
         "56",
         "35",
         "25",
         "35",
         "72"
        ],
        [
         "20",
         "Raticate",
         "Normal",
         null,
         "55",
         "81",
         "60",
         "50",
         "70",
         "97"
        ],
        [
         "21",
         "Spearow",
         "Normal",
         "Flying",
         "40",
         "60",
         "30",
         "31",
         "31",
         "70"
        ],
        [
         "22",
         "Fearow",
         "Normal",
         "Flying",
         "65",
         "90",
         "65",
         "61",
         "61",
         "100"
        ],
        [
         "23",
         "Ekans",
         "Poison",
         null,
         "35",
         "60",
         "44",
         "40",
         "54",
         "55"
        ],
        [
         "24",
         "Arbok",
         "Poison",
         null,
         "60",
         "85",
         "69",
         "65",
         "79",
         "80"
        ],
        [
         "25",
         "Pikachu",
         "Electric",
         null,
         "35",
         "55",
         "40",
         "50",
         "50",
         "90"
        ],
        [
         "26",
         "Raichu",
         "Electric",
         null,
         "60",
         "90",
         "55",
         "90",
         "80",
         "110"
        ],
        [
         "27",
         "Sandshrew",
         "Ground",
         null,
         "50",
         "75",
         "85",
         "20",
         "30",
         "40"
        ],
        [
         "28",
         "Sandslash",
         "Ground",
         null,
         "75",
         "100",
         "110",
         "45",
         "55",
         "65"
        ],
        [
         "29",
         "Nidoran���",
         "Poison",
         null,
         "55",
         "47",
         "52",
         "40",
         "40",
         "41"
        ],
        [
         "30",
         "Nidorina",
         "Poison",
         null,
         "70",
         "62",
         "67",
         "55",
         "55",
         "56"
        ],
        [
         "31",
         "Nidoqueen",
         "Poison",
         "Ground",
         "90",
         "92",
         "87",
         "75",
         "85",
         "76"
        ],
        [
         "32",
         "Nidoran���",
         "Poison",
         null,
         "46",
         "57",
         "40",
         "40",
         "40",
         "50"
        ],
        [
         "33",
         "Nidorino",
         "Poison",
         null,
         "61",
         "72",
         "57",
         "55",
         "55",
         "65"
        ],
        [
         "34",
         "Nidoking",
         "Poison",
         "Ground",
         "81",
         "102",
         "77",
         "85",
         "75",
         "85"
        ],
        [
         "35",
         "Clefairy",
         "Fairy",
         null,
         "70",
         "45",
         "48",
         "60",
         "65",
         "35"
        ],
        [
         "36",
         "Clefable",
         "Fairy",
         null,
         "95",
         "70",
         "73",
         "95",
         "90",
         "60"
        ],
        [
         "37",
         "Vulpix",
         "Fire",
         null,
         "38",
         "41",
         "40",
         "50",
         "65",
         "65"
        ],
        [
         "38",
         "Ninetales",
         "Fire",
         null,
         "73",
         "76",
         "75",
         "81",
         "100",
         "100"
        ],
        [
         "39",
         "Jigglypuff",
         "Normal",
         "Fairy",
         "115",
         "45",
         "20",
         "45",
         "25",
         "20"
        ],
        [
         "40",
         "Wigglytuff",
         "Normal",
         "Fairy",
         "140",
         "70",
         "45",
         "85",
         "50",
         "45"
        ],
        [
         "41",
         "Zubat",
         "Poison",
         "Flying",
         "40",
         "45",
         "35",
         "30",
         "40",
         "55"
        ],
        [
         "42",
         "Golbat",
         "Poison",
         "Flying",
         "75",
         "80",
         "70",
         "65",
         "75",
         "90"
        ],
        [
         "43",
         "Oddish",
         "Grass",
         "Poison",
         "45",
         "50",
         "55",
         "75",
         "65",
         "30"
        ],
        [
         "44",
         "Gloom",
         "Grass",
         "Poison",
         "60",
         "65",
         "70",
         "85",
         "75",
         "40"
        ],
        [
         "45",
         "Vileplume",
         "Grass",
         "Poison",
         "75",
         "80",
         "85",
         "110",
         "90",
         "50"
        ],
        [
         "46",
         "Paras",
         "Bug",
         "Grass",
         "35",
         "70",
         "55",
         "45",
         "55",
         "25"
        ],
        [
         "47",
         "Parasect",
         "Bug",
         "Grass",
         "60",
         "95",
         "80",
         "60",
         "80",
         "30"
        ],
        [
         "48",
         "Venonat",
         "Bug",
         "Poison",
         "60",
         "55",
         "50",
         "40",
         "55",
         "45"
        ],
        [
         "49",
         "Venomoth",
         "Bug",
         "Poison",
         "70",
         "65",
         "60",
         "90",
         "75",
         "90"
        ],
        [
         "50",
         "Diglett",
         "Ground",
         null,
         "10",
         "55",
         "25",
         "35",
         "45",
         "95"
        ]
       ],
       "shape": {
        "columns": 9,
        "rows": 151
       }
      },
      "text/html": [
       "<div>\n",
       "<style scoped>\n",
       "    .dataframe tbody tr th:only-of-type {\n",
       "        vertical-align: middle;\n",
       "    }\n",
       "\n",
       "    .dataframe tbody tr th {\n",
       "        vertical-align: top;\n",
       "    }\n",
       "\n",
       "    .dataframe thead th {\n",
       "        text-align: right;\n",
       "    }\n",
       "</style>\n",
       "<table border=\"1\" class=\"dataframe\">\n",
       "  <thead>\n",
       "    <tr style=\"text-align: right;\">\n",
       "      <th></th>\n",
       "      <th>Name</th>\n",
       "      <th>Type 1</th>\n",
       "      <th>Type 2</th>\n",
       "      <th>HP</th>\n",
       "      <th>Attack</th>\n",
       "      <th>Defense</th>\n",
       "      <th>Sp. Atk</th>\n",
       "      <th>Sp. Def</th>\n",
       "      <th>Speed</th>\n",
       "    </tr>\n",
       "    <tr>\n",
       "      <th>#</th>\n",
       "      <th></th>\n",
       "      <th></th>\n",
       "      <th></th>\n",
       "      <th></th>\n",
       "      <th></th>\n",
       "      <th></th>\n",
       "      <th></th>\n",
       "      <th></th>\n",
       "      <th></th>\n",
       "    </tr>\n",
       "  </thead>\n",
       "  <tbody>\n",
       "    <tr>\n",
       "      <th>1</th>\n",
       "      <td>Bulbasaur</td>\n",
       "      <td>Grass</td>\n",
       "      <td>Poison</td>\n",
       "      <td>45</td>\n",
       "      <td>49</td>\n",
       "      <td>49</td>\n",
       "      <td>65</td>\n",
       "      <td>65</td>\n",
       "      <td>45</td>\n",
       "    </tr>\n",
       "    <tr>\n",
       "      <th>2</th>\n",
       "      <td>Ivysaur</td>\n",
       "      <td>Grass</td>\n",
       "      <td>Poison</td>\n",
       "      <td>60</td>\n",
       "      <td>62</td>\n",
       "      <td>63</td>\n",
       "      <td>80</td>\n",
       "      <td>80</td>\n",
       "      <td>60</td>\n",
       "    </tr>\n",
       "    <tr>\n",
       "      <th>3</th>\n",
       "      <td>Venusaur</td>\n",
       "      <td>Grass</td>\n",
       "      <td>Poison</td>\n",
       "      <td>80</td>\n",
       "      <td>82</td>\n",
       "      <td>83</td>\n",
       "      <td>100</td>\n",
       "      <td>100</td>\n",
       "      <td>80</td>\n",
       "    </tr>\n",
       "    <tr>\n",
       "      <th>4</th>\n",
       "      <td>Charmander</td>\n",
       "      <td>Fire</td>\n",
       "      <td>NaN</td>\n",
       "      <td>39</td>\n",
       "      <td>52</td>\n",
       "      <td>43</td>\n",
       "      <td>60</td>\n",
       "      <td>50</td>\n",
       "      <td>65</td>\n",
       "    </tr>\n",
       "    <tr>\n",
       "      <th>5</th>\n",
       "      <td>Charmeleon</td>\n",
       "      <td>Fire</td>\n",
       "      <td>NaN</td>\n",
       "      <td>58</td>\n",
       "      <td>64</td>\n",
       "      <td>58</td>\n",
       "      <td>80</td>\n",
       "      <td>65</td>\n",
       "      <td>80</td>\n",
       "    </tr>\n",
       "    <tr>\n",
       "      <th>...</th>\n",
       "      <td>...</td>\n",
       "      <td>...</td>\n",
       "      <td>...</td>\n",
       "      <td>...</td>\n",
       "      <td>...</td>\n",
       "      <td>...</td>\n",
       "      <td>...</td>\n",
       "      <td>...</td>\n",
       "      <td>...</td>\n",
       "    </tr>\n",
       "    <tr>\n",
       "      <th>147</th>\n",
       "      <td>Dratini</td>\n",
       "      <td>Dragon</td>\n",
       "      <td>NaN</td>\n",
       "      <td>41</td>\n",
       "      <td>64</td>\n",
       "      <td>45</td>\n",
       "      <td>50</td>\n",
       "      <td>50</td>\n",
       "      <td>50</td>\n",
       "    </tr>\n",
       "    <tr>\n",
       "      <th>148</th>\n",
       "      <td>Dragonair</td>\n",
       "      <td>Dragon</td>\n",
       "      <td>NaN</td>\n",
       "      <td>61</td>\n",
       "      <td>84</td>\n",
       "      <td>65</td>\n",
       "      <td>70</td>\n",
       "      <td>70</td>\n",
       "      <td>70</td>\n",
       "    </tr>\n",
       "    <tr>\n",
       "      <th>149</th>\n",
       "      <td>Dragonite</td>\n",
       "      <td>Dragon</td>\n",
       "      <td>Flying</td>\n",
       "      <td>91</td>\n",
       "      <td>134</td>\n",
       "      <td>95</td>\n",
       "      <td>100</td>\n",
       "      <td>100</td>\n",
       "      <td>80</td>\n",
       "    </tr>\n",
       "    <tr>\n",
       "      <th>150</th>\n",
       "      <td>Mewtwo</td>\n",
       "      <td>Psychic</td>\n",
       "      <td>NaN</td>\n",
       "      <td>106</td>\n",
       "      <td>110</td>\n",
       "      <td>90</td>\n",
       "      <td>154</td>\n",
       "      <td>90</td>\n",
       "      <td>130</td>\n",
       "    </tr>\n",
       "    <tr>\n",
       "      <th>151</th>\n",
       "      <td>Mew</td>\n",
       "      <td>Psychic</td>\n",
       "      <td>NaN</td>\n",
       "      <td>100</td>\n",
       "      <td>100</td>\n",
       "      <td>100</td>\n",
       "      <td>100</td>\n",
       "      <td>100</td>\n",
       "      <td>100</td>\n",
       "    </tr>\n",
       "  </tbody>\n",
       "</table>\n",
       "<p>151 rows × 9 columns</p>\n",
       "</div>"
      ],
      "text/plain": [
       "           Name   Type 1  Type 2   HP  Attack  Defense  Sp. Atk  Sp. Def  \\\n",
       "#                                                                          \n",
       "1     Bulbasaur    Grass  Poison   45      49       49       65       65   \n",
       "2       Ivysaur    Grass  Poison   60      62       63       80       80   \n",
       "3      Venusaur    Grass  Poison   80      82       83      100      100   \n",
       "4    Charmander     Fire     NaN   39      52       43       60       50   \n",
       "5    Charmeleon     Fire     NaN   58      64       58       80       65   \n",
       "..          ...      ...     ...  ...     ...      ...      ...      ...   \n",
       "147     Dratini   Dragon     NaN   41      64       45       50       50   \n",
       "148   Dragonair   Dragon     NaN   61      84       65       70       70   \n",
       "149   Dragonite   Dragon  Flying   91     134       95      100      100   \n",
       "150      Mewtwo  Psychic     NaN  106     110       90      154       90   \n",
       "151         Mew  Psychic     NaN  100     100      100      100      100   \n",
       "\n",
       "     Speed  \n",
       "#           \n",
       "1       45  \n",
       "2       60  \n",
       "3       80  \n",
       "4       65  \n",
       "5       80  \n",
       "..     ...  \n",
       "147     50  \n",
       "148     70  \n",
       "149     80  \n",
       "150    130  \n",
       "151    100  \n",
       "\n",
       "[151 rows x 9 columns]"
      ]
     },
     "execution_count": 23,
     "metadata": {},
     "output_type": "execute_result"
    }
   ],
   "source": [
    "nuevo_poke"
   ]
  },
  {
   "cell_type": "code",
   "execution_count": null,
   "metadata": {},
   "outputs": [
    {
     "data": {
      "application/vnd.microsoft.datawrangler.viewer.v0+json": {
       "columns": [
        {
         "name": "#",
         "rawType": "int64",
         "type": "integer"
        },
        {
         "name": "Name",
         "rawType": "object",
         "type": "string"
        },
        {
         "name": "Type 1",
         "rawType": "object",
         "type": "string"
        },
        {
         "name": "Type 2",
         "rawType": "object",
         "type": "unknown"
        },
        {
         "name": "HP",
         "rawType": "int64",
         "type": "integer"
        },
        {
         "name": "Attack",
         "rawType": "int64",
         "type": "integer"
        },
        {
         "name": "Defense",
         "rawType": "int64",
         "type": "integer"
        },
        {
         "name": "Sp. Atk",
         "rawType": "int64",
         "type": "integer"
        },
        {
         "name": "Sp. Def",
         "rawType": "int64",
         "type": "integer"
        },
        {
         "name": "Speed",
         "rawType": "int64",
         "type": "integer"
        }
       ],
       "conversionMethod": "pd.DataFrame",
       "ref": "dc41e1c5-fc4d-4257-a178-9e70c0b94f04",
       "rows": [
        [
         "1",
         "Bulbasaur",
         "Grass",
         "Poison",
         "45",
         "49",
         "49",
         "65",
         "65",
         "45"
        ],
        [
         "2",
         "Ivysaur",
         "Grass",
         "Poison",
         "60",
         "62",
         "63",
         "80",
         "80",
         "60"
        ],
        [
         "3",
         "Venusaur",
         "Grass",
         "Poison",
         "80",
         "82",
         "83",
         "100",
         "100",
         "80"
        ],
        [
         "4",
         "Charmander",
         "Fire",
         null,
         "39",
         "52",
         "43",
         "60",
         "50",
         "65"
        ],
        [
         "5",
         "Charmeleon",
         "Fire",
         null,
         "58",
         "64",
         "58",
         "80",
         "65",
         "80"
        ],
        [
         "6",
         "Charizard",
         "Fire",
         "Flying",
         "78",
         "84",
         "78",
         "109",
         "85",
         "100"
        ],
        [
         "7",
         "Squirtle",
         "Water",
         null,
         "44",
         "48",
         "65",
         "50",
         "64",
         "43"
        ],
        [
         "8",
         "Wartortle",
         "Water",
         null,
         "59",
         "63",
         "80",
         "65",
         "80",
         "58"
        ],
        [
         "9",
         "Blastoise",
         "Water",
         null,
         "79",
         "83",
         "100",
         "85",
         "105",
         "78"
        ],
        [
         "37",
         "Vulpix",
         "Fire",
         null,
         "38",
         "41",
         "40",
         "50",
         "65",
         "65"
        ],
        [
         "38",
         "Ninetales",
         "Fire",
         null,
         "73",
         "76",
         "75",
         "81",
         "100",
         "100"
        ],
        [
         "43",
         "Oddish",
         "Grass",
         "Poison",
         "45",
         "50",
         "55",
         "75",
         "65",
         "30"
        ],
        [
         "44",
         "Gloom",
         "Grass",
         "Poison",
         "60",
         "65",
         "70",
         "85",
         "75",
         "40"
        ],
        [
         "45",
         "Vileplume",
         "Grass",
         "Poison",
         "75",
         "80",
         "85",
         "110",
         "90",
         "50"
        ],
        [
         "54",
         "Psyduck",
         "Water",
         null,
         "50",
         "52",
         "48",
         "65",
         "50",
         "55"
        ],
        [
         "55",
         "Golduck",
         "Water",
         null,
         "80",
         "82",
         "78",
         "95",
         "80",
         "85"
        ],
        [
         "58",
         "Growlithe",
         "Fire",
         null,
         "55",
         "70",
         "45",
         "70",
         "50",
         "60"
        ],
        [
         "59",
         "Arcanine",
         "Fire",
         null,
         "90",
         "110",
         "80",
         "100",
         "80",
         "95"
        ],
        [
         "60",
         "Poliwag",
         "Water",
         null,
         "40",
         "50",
         "40",
         "40",
         "40",
         "90"
        ],
        [
         "61",
         "Poliwhirl",
         "Water",
         null,
         "65",
         "65",
         "65",
         "50",
         "50",
         "90"
        ],
        [
         "62",
         "Poliwrath",
         "Water",
         "Fighting",
         "90",
         "95",
         "95",
         "70",
         "90",
         "70"
        ],
        [
         "69",
         "Bellsprout",
         "Grass",
         "Poison",
         "50",
         "75",
         "35",
         "70",
         "30",
         "40"
        ],
        [
         "70",
         "Weepinbell",
         "Grass",
         "Poison",
         "65",
         "90",
         "50",
         "85",
         "45",
         "55"
        ],
        [
         "71",
         "Victreebel",
         "Grass",
         "Poison",
         "80",
         "105",
         "65",
         "100",
         "70",
         "70"
        ],
        [
         "72",
         "Tentacool",
         "Water",
         "Poison",
         "40",
         "40",
         "35",
         "50",
         "100",
         "70"
        ],
        [
         "73",
         "Tentacruel",
         "Water",
         "Poison",
         "80",
         "70",
         "65",
         "80",
         "120",
         "100"
        ],
        [
         "77",
         "Ponyta",
         "Fire",
         null,
         "50",
         "85",
         "55",
         "65",
         "65",
         "90"
        ],
        [
         "78",
         "Rapidash",
         "Fire",
         null,
         "65",
         "100",
         "70",
         "80",
         "80",
         "105"
        ],
        [
         "79",
         "Slowpoke",
         "Water",
         "Psychic",
         "90",
         "65",
         "65",
         "40",
         "40",
         "15"
        ],
        [
         "80",
         "Slowbro",
         "Water",
         "Psychic",
         "95",
         "75",
         "110",
         "100",
         "80",
         "30"
        ],
        [
         "86",
         "Seel",
         "Water",
         null,
         "65",
         "45",
         "55",
         "45",
         "70",
         "45"
        ],
        [
         "87",
         "Dewgong",
         "Water",
         "Ice",
         "90",
         "70",
         "80",
         "70",
         "95",
         "70"
        ],
        [
         "90",
         "Shellder",
         "Water",
         null,
         "30",
         "65",
         "100",
         "45",
         "25",
         "40"
        ],
        [
         "91",
         "Cloyster",
         "Water",
         "Ice",
         "50",
         "95",
         "180",
         "85",
         "45",
         "70"
        ],
        [
         "98",
         "Krabby",
         "Water",
         null,
         "30",
         "105",
         "90",
         "25",
         "25",
         "50"
        ],
        [
         "99",
         "Kingler",
         "Water",
         null,
         "55",
         "130",
         "115",
         "50",
         "50",
         "75"
        ],
        [
         "102",
         "Exeggcute",
         "Grass",
         "Psychic",
         "60",
         "40",
         "80",
         "60",
         "45",
         "40"
        ],
        [
         "103",
         "Exeggutor",
         "Grass",
         "Psychic",
         "95",
         "95",
         "85",
         "125",
         "65",
         "55"
        ],
        [
         "114",
         "Tangela",
         "Grass",
         null,
         "65",
         "55",
         "115",
         "100",
         "40",
         "60"
        ],
        [
         "116",
         "Horsea",
         "Water",
         null,
         "30",
         "40",
         "70",
         "70",
         "25",
         "60"
        ],
        [
         "117",
         "Seadra",
         "Water",
         null,
         "55",
         "65",
         "95",
         "95",
         "45",
         "85"
        ],
        [
         "118",
         "Goldeen",
         "Water",
         null,
         "45",
         "67",
         "60",
         "35",
         "50",
         "63"
        ],
        [
         "119",
         "Seaking",
         "Water",
         null,
         "80",
         "92",
         "65",
         "65",
         "80",
         "68"
        ],
        [
         "120",
         "Staryu",
         "Water",
         null,
         "30",
         "45",
         "55",
         "70",
         "55",
         "85"
        ],
        [
         "121",
         "Starmie",
         "Water",
         "Psychic",
         "60",
         "75",
         "85",
         "100",
         "85",
         "115"
        ],
        [
         "126",
         "Magmar",
         "Fire",
         null,
         "65",
         "95",
         "57",
         "100",
         "85",
         "93"
        ],
        [
         "129",
         "Magikarp",
         "Water",
         null,
         "20",
         "10",
         "55",
         "15",
         "20",
         "80"
        ],
        [
         "130",
         "Gyarados",
         "Water",
         "Flying",
         "95",
         "125",
         "79",
         "60",
         "100",
         "81"
        ],
        [
         "131",
         "Lapras",
         "Water",
         "Ice",
         "130",
         "85",
         "80",
         "85",
         "95",
         "60"
        ],
        [
         "134",
         "Vaporeon",
         "Water",
         null,
         "130",
         "65",
         "60",
         "110",
         "95",
         "65"
        ]
       ],
       "shape": {
        "columns": 9,
        "rows": 52
       }
      },
      "text/html": [
       "<div>\n",
       "<style scoped>\n",
       "    .dataframe tbody tr th:only-of-type {\n",
       "        vertical-align: middle;\n",
       "    }\n",
       "\n",
       "    .dataframe tbody tr th {\n",
       "        vertical-align: top;\n",
       "    }\n",
       "\n",
       "    .dataframe thead th {\n",
       "        text-align: right;\n",
       "    }\n",
       "</style>\n",
       "<table border=\"1\" class=\"dataframe\">\n",
       "  <thead>\n",
       "    <tr style=\"text-align: right;\">\n",
       "      <th></th>\n",
       "      <th>Name</th>\n",
       "      <th>Type 1</th>\n",
       "      <th>Type 2</th>\n",
       "      <th>HP</th>\n",
       "      <th>Attack</th>\n",
       "      <th>Defense</th>\n",
       "      <th>Sp. Atk</th>\n",
       "      <th>Sp. Def</th>\n",
       "      <th>Speed</th>\n",
       "    </tr>\n",
       "    <tr>\n",
       "      <th>#</th>\n",
       "      <th></th>\n",
       "      <th></th>\n",
       "      <th></th>\n",
       "      <th></th>\n",
       "      <th></th>\n",
       "      <th></th>\n",
       "      <th></th>\n",
       "      <th></th>\n",
       "      <th></th>\n",
       "    </tr>\n",
       "  </thead>\n",
       "  <tbody>\n",
       "    <tr>\n",
       "      <th>1</th>\n",
       "      <td>Bulbasaur</td>\n",
       "      <td>Grass</td>\n",
       "      <td>Poison</td>\n",
       "      <td>45</td>\n",
       "      <td>49</td>\n",
       "      <td>49</td>\n",
       "      <td>65</td>\n",
       "      <td>65</td>\n",
       "      <td>45</td>\n",
       "    </tr>\n",
       "    <tr>\n",
       "      <th>2</th>\n",
       "      <td>Ivysaur</td>\n",
       "      <td>Grass</td>\n",
       "      <td>Poison</td>\n",
       "      <td>60</td>\n",
       "      <td>62</td>\n",
       "      <td>63</td>\n",
       "      <td>80</td>\n",
       "      <td>80</td>\n",
       "      <td>60</td>\n",
       "    </tr>\n",
       "    <tr>\n",
       "      <th>3</th>\n",
       "      <td>Venusaur</td>\n",
       "      <td>Grass</td>\n",
       "      <td>Poison</td>\n",
       "      <td>80</td>\n",
       "      <td>82</td>\n",
       "      <td>83</td>\n",
       "      <td>100</td>\n",
       "      <td>100</td>\n",
       "      <td>80</td>\n",
       "    </tr>\n",
       "    <tr>\n",
       "      <th>4</th>\n",
       "      <td>Charmander</td>\n",
       "      <td>Fire</td>\n",
       "      <td>NaN</td>\n",
       "      <td>39</td>\n",
       "      <td>52</td>\n",
       "      <td>43</td>\n",
       "      <td>60</td>\n",
       "      <td>50</td>\n",
       "      <td>65</td>\n",
       "    </tr>\n",
       "    <tr>\n",
       "      <th>5</th>\n",
       "      <td>Charmeleon</td>\n",
       "      <td>Fire</td>\n",
       "      <td>NaN</td>\n",
       "      <td>58</td>\n",
       "      <td>64</td>\n",
       "      <td>58</td>\n",
       "      <td>80</td>\n",
       "      <td>65</td>\n",
       "      <td>80</td>\n",
       "    </tr>\n",
       "    <tr>\n",
       "      <th>6</th>\n",
       "      <td>Charizard</td>\n",
       "      <td>Fire</td>\n",
       "      <td>Flying</td>\n",
       "      <td>78</td>\n",
       "      <td>84</td>\n",
       "      <td>78</td>\n",
       "      <td>109</td>\n",
       "      <td>85</td>\n",
       "      <td>100</td>\n",
       "    </tr>\n",
       "    <tr>\n",
       "      <th>7</th>\n",
       "      <td>Squirtle</td>\n",
       "      <td>Water</td>\n",
       "      <td>NaN</td>\n",
       "      <td>44</td>\n",
       "      <td>48</td>\n",
       "      <td>65</td>\n",
       "      <td>50</td>\n",
       "      <td>64</td>\n",
       "      <td>43</td>\n",
       "    </tr>\n",
       "    <tr>\n",
       "      <th>8</th>\n",
       "      <td>Wartortle</td>\n",
       "      <td>Water</td>\n",
       "      <td>NaN</td>\n",
       "      <td>59</td>\n",
       "      <td>63</td>\n",
       "      <td>80</td>\n",
       "      <td>65</td>\n",
       "      <td>80</td>\n",
       "      <td>58</td>\n",
       "    </tr>\n",
       "    <tr>\n",
       "      <th>9</th>\n",
       "      <td>Blastoise</td>\n",
       "      <td>Water</td>\n",
       "      <td>NaN</td>\n",
       "      <td>79</td>\n",
       "      <td>83</td>\n",
       "      <td>100</td>\n",
       "      <td>85</td>\n",
       "      <td>105</td>\n",
       "      <td>78</td>\n",
       "    </tr>\n",
       "    <tr>\n",
       "      <th>37</th>\n",
       "      <td>Vulpix</td>\n",
       "      <td>Fire</td>\n",
       "      <td>NaN</td>\n",
       "      <td>38</td>\n",
       "      <td>41</td>\n",
       "      <td>40</td>\n",
       "      <td>50</td>\n",
       "      <td>65</td>\n",
       "      <td>65</td>\n",
       "    </tr>\n",
       "    <tr>\n",
       "      <th>38</th>\n",
       "      <td>Ninetales</td>\n",
       "      <td>Fire</td>\n",
       "      <td>NaN</td>\n",
       "      <td>73</td>\n",
       "      <td>76</td>\n",
       "      <td>75</td>\n",
       "      <td>81</td>\n",
       "      <td>100</td>\n",
       "      <td>100</td>\n",
       "    </tr>\n",
       "    <tr>\n",
       "      <th>43</th>\n",
       "      <td>Oddish</td>\n",
       "      <td>Grass</td>\n",
       "      <td>Poison</td>\n",
       "      <td>45</td>\n",
       "      <td>50</td>\n",
       "      <td>55</td>\n",
       "      <td>75</td>\n",
       "      <td>65</td>\n",
       "      <td>30</td>\n",
       "    </tr>\n",
       "    <tr>\n",
       "      <th>44</th>\n",
       "      <td>Gloom</td>\n",
       "      <td>Grass</td>\n",
       "      <td>Poison</td>\n",
       "      <td>60</td>\n",
       "      <td>65</td>\n",
       "      <td>70</td>\n",
       "      <td>85</td>\n",
       "      <td>75</td>\n",
       "      <td>40</td>\n",
       "    </tr>\n",
       "    <tr>\n",
       "      <th>45</th>\n",
       "      <td>Vileplume</td>\n",
       "      <td>Grass</td>\n",
       "      <td>Poison</td>\n",
       "      <td>75</td>\n",
       "      <td>80</td>\n",
       "      <td>85</td>\n",
       "      <td>110</td>\n",
       "      <td>90</td>\n",
       "      <td>50</td>\n",
       "    </tr>\n",
       "    <tr>\n",
       "      <th>54</th>\n",
       "      <td>Psyduck</td>\n",
       "      <td>Water</td>\n",
       "      <td>NaN</td>\n",
       "      <td>50</td>\n",
       "      <td>52</td>\n",
       "      <td>48</td>\n",
       "      <td>65</td>\n",
       "      <td>50</td>\n",
       "      <td>55</td>\n",
       "    </tr>\n",
       "    <tr>\n",
       "      <th>55</th>\n",
       "      <td>Golduck</td>\n",
       "      <td>Water</td>\n",
       "      <td>NaN</td>\n",
       "      <td>80</td>\n",
       "      <td>82</td>\n",
       "      <td>78</td>\n",
       "      <td>95</td>\n",
       "      <td>80</td>\n",
       "      <td>85</td>\n",
       "    </tr>\n",
       "    <tr>\n",
       "      <th>58</th>\n",
       "      <td>Growlithe</td>\n",
       "      <td>Fire</td>\n",
       "      <td>NaN</td>\n",
       "      <td>55</td>\n",
       "      <td>70</td>\n",
       "      <td>45</td>\n",
       "      <td>70</td>\n",
       "      <td>50</td>\n",
       "      <td>60</td>\n",
       "    </tr>\n",
       "    <tr>\n",
       "      <th>59</th>\n",
       "      <td>Arcanine</td>\n",
       "      <td>Fire</td>\n",
       "      <td>NaN</td>\n",
       "      <td>90</td>\n",
       "      <td>110</td>\n",
       "      <td>80</td>\n",
       "      <td>100</td>\n",
       "      <td>80</td>\n",
       "      <td>95</td>\n",
       "    </tr>\n",
       "    <tr>\n",
       "      <th>60</th>\n",
       "      <td>Poliwag</td>\n",
       "      <td>Water</td>\n",
       "      <td>NaN</td>\n",
       "      <td>40</td>\n",
       "      <td>50</td>\n",
       "      <td>40</td>\n",
       "      <td>40</td>\n",
       "      <td>40</td>\n",
       "      <td>90</td>\n",
       "    </tr>\n",
       "    <tr>\n",
       "      <th>61</th>\n",
       "      <td>Poliwhirl</td>\n",
       "      <td>Water</td>\n",
       "      <td>NaN</td>\n",
       "      <td>65</td>\n",
       "      <td>65</td>\n",
       "      <td>65</td>\n",
       "      <td>50</td>\n",
       "      <td>50</td>\n",
       "      <td>90</td>\n",
       "    </tr>\n",
       "    <tr>\n",
       "      <th>62</th>\n",
       "      <td>Poliwrath</td>\n",
       "      <td>Water</td>\n",
       "      <td>Fighting</td>\n",
       "      <td>90</td>\n",
       "      <td>95</td>\n",
       "      <td>95</td>\n",
       "      <td>70</td>\n",
       "      <td>90</td>\n",
       "      <td>70</td>\n",
       "    </tr>\n",
       "    <tr>\n",
       "      <th>69</th>\n",
       "      <td>Bellsprout</td>\n",
       "      <td>Grass</td>\n",
       "      <td>Poison</td>\n",
       "      <td>50</td>\n",
       "      <td>75</td>\n",
       "      <td>35</td>\n",
       "      <td>70</td>\n",
       "      <td>30</td>\n",
       "      <td>40</td>\n",
       "    </tr>\n",
       "    <tr>\n",
       "      <th>70</th>\n",
       "      <td>Weepinbell</td>\n",
       "      <td>Grass</td>\n",
       "      <td>Poison</td>\n",
       "      <td>65</td>\n",
       "      <td>90</td>\n",
       "      <td>50</td>\n",
       "      <td>85</td>\n",
       "      <td>45</td>\n",
       "      <td>55</td>\n",
       "    </tr>\n",
       "    <tr>\n",
       "      <th>71</th>\n",
       "      <td>Victreebel</td>\n",
       "      <td>Grass</td>\n",
       "      <td>Poison</td>\n",
       "      <td>80</td>\n",
       "      <td>105</td>\n",
       "      <td>65</td>\n",
       "      <td>100</td>\n",
       "      <td>70</td>\n",
       "      <td>70</td>\n",
       "    </tr>\n",
       "    <tr>\n",
       "      <th>72</th>\n",
       "      <td>Tentacool</td>\n",
       "      <td>Water</td>\n",
       "      <td>Poison</td>\n",
       "      <td>40</td>\n",
       "      <td>40</td>\n",
       "      <td>35</td>\n",
       "      <td>50</td>\n",
       "      <td>100</td>\n",
       "      <td>70</td>\n",
       "    </tr>\n",
       "    <tr>\n",
       "      <th>73</th>\n",
       "      <td>Tentacruel</td>\n",
       "      <td>Water</td>\n",
       "      <td>Poison</td>\n",
       "      <td>80</td>\n",
       "      <td>70</td>\n",
       "      <td>65</td>\n",
       "      <td>80</td>\n",
       "      <td>120</td>\n",
       "      <td>100</td>\n",
       "    </tr>\n",
       "    <tr>\n",
       "      <th>77</th>\n",
       "      <td>Ponyta</td>\n",
       "      <td>Fire</td>\n",
       "      <td>NaN</td>\n",
       "      <td>50</td>\n",
       "      <td>85</td>\n",
       "      <td>55</td>\n",
       "      <td>65</td>\n",
       "      <td>65</td>\n",
       "      <td>90</td>\n",
       "    </tr>\n",
       "    <tr>\n",
       "      <th>78</th>\n",
       "      <td>Rapidash</td>\n",
       "      <td>Fire</td>\n",
       "      <td>NaN</td>\n",
       "      <td>65</td>\n",
       "      <td>100</td>\n",
       "      <td>70</td>\n",
       "      <td>80</td>\n",
       "      <td>80</td>\n",
       "      <td>105</td>\n",
       "    </tr>\n",
       "    <tr>\n",
       "      <th>79</th>\n",
       "      <td>Slowpoke</td>\n",
       "      <td>Water</td>\n",
       "      <td>Psychic</td>\n",
       "      <td>90</td>\n",
       "      <td>65</td>\n",
       "      <td>65</td>\n",
       "      <td>40</td>\n",
       "      <td>40</td>\n",
       "      <td>15</td>\n",
       "    </tr>\n",
       "    <tr>\n",
       "      <th>80</th>\n",
       "      <td>Slowbro</td>\n",
       "      <td>Water</td>\n",
       "      <td>Psychic</td>\n",
       "      <td>95</td>\n",
       "      <td>75</td>\n",
       "      <td>110</td>\n",
       "      <td>100</td>\n",
       "      <td>80</td>\n",
       "      <td>30</td>\n",
       "    </tr>\n",
       "    <tr>\n",
       "      <th>86</th>\n",
       "      <td>Seel</td>\n",
       "      <td>Water</td>\n",
       "      <td>NaN</td>\n",
       "      <td>65</td>\n",
       "      <td>45</td>\n",
       "      <td>55</td>\n",
       "      <td>45</td>\n",
       "      <td>70</td>\n",
       "      <td>45</td>\n",
       "    </tr>\n",
       "    <tr>\n",
       "      <th>87</th>\n",
       "      <td>Dewgong</td>\n",
       "      <td>Water</td>\n",
       "      <td>Ice</td>\n",
       "      <td>90</td>\n",
       "      <td>70</td>\n",
       "      <td>80</td>\n",
       "      <td>70</td>\n",
       "      <td>95</td>\n",
       "      <td>70</td>\n",
       "    </tr>\n",
       "    <tr>\n",
       "      <th>90</th>\n",
       "      <td>Shellder</td>\n",
       "      <td>Water</td>\n",
       "      <td>NaN</td>\n",
       "      <td>30</td>\n",
       "      <td>65</td>\n",
       "      <td>100</td>\n",
       "      <td>45</td>\n",
       "      <td>25</td>\n",
       "      <td>40</td>\n",
       "    </tr>\n",
       "    <tr>\n",
       "      <th>91</th>\n",
       "      <td>Cloyster</td>\n",
       "      <td>Water</td>\n",
       "      <td>Ice</td>\n",
       "      <td>50</td>\n",
       "      <td>95</td>\n",
       "      <td>180</td>\n",
       "      <td>85</td>\n",
       "      <td>45</td>\n",
       "      <td>70</td>\n",
       "    </tr>\n",
       "    <tr>\n",
       "      <th>98</th>\n",
       "      <td>Krabby</td>\n",
       "      <td>Water</td>\n",
       "      <td>NaN</td>\n",
       "      <td>30</td>\n",
       "      <td>105</td>\n",
       "      <td>90</td>\n",
       "      <td>25</td>\n",
       "      <td>25</td>\n",
       "      <td>50</td>\n",
       "    </tr>\n",
       "    <tr>\n",
       "      <th>99</th>\n",
       "      <td>Kingler</td>\n",
       "      <td>Water</td>\n",
       "      <td>NaN</td>\n",
       "      <td>55</td>\n",
       "      <td>130</td>\n",
       "      <td>115</td>\n",
       "      <td>50</td>\n",
       "      <td>50</td>\n",
       "      <td>75</td>\n",
       "    </tr>\n",
       "    <tr>\n",
       "      <th>102</th>\n",
       "      <td>Exeggcute</td>\n",
       "      <td>Grass</td>\n",
       "      <td>Psychic</td>\n",
       "      <td>60</td>\n",
       "      <td>40</td>\n",
       "      <td>80</td>\n",
       "      <td>60</td>\n",
       "      <td>45</td>\n",
       "      <td>40</td>\n",
       "    </tr>\n",
       "    <tr>\n",
       "      <th>103</th>\n",
       "      <td>Exeggutor</td>\n",
       "      <td>Grass</td>\n",
       "      <td>Psychic</td>\n",
       "      <td>95</td>\n",
       "      <td>95</td>\n",
       "      <td>85</td>\n",
       "      <td>125</td>\n",
       "      <td>65</td>\n",
       "      <td>55</td>\n",
       "    </tr>\n",
       "    <tr>\n",
       "      <th>114</th>\n",
       "      <td>Tangela</td>\n",
       "      <td>Grass</td>\n",
       "      <td>NaN</td>\n",
       "      <td>65</td>\n",
       "      <td>55</td>\n",
       "      <td>115</td>\n",
       "      <td>100</td>\n",
       "      <td>40</td>\n",
       "      <td>60</td>\n",
       "    </tr>\n",
       "    <tr>\n",
       "      <th>116</th>\n",
       "      <td>Horsea</td>\n",
       "      <td>Water</td>\n",
       "      <td>NaN</td>\n",
       "      <td>30</td>\n",
       "      <td>40</td>\n",
       "      <td>70</td>\n",
       "      <td>70</td>\n",
       "      <td>25</td>\n",
       "      <td>60</td>\n",
       "    </tr>\n",
       "    <tr>\n",
       "      <th>117</th>\n",
       "      <td>Seadra</td>\n",
       "      <td>Water</td>\n",
       "      <td>NaN</td>\n",
       "      <td>55</td>\n",
       "      <td>65</td>\n",
       "      <td>95</td>\n",
       "      <td>95</td>\n",
       "      <td>45</td>\n",
       "      <td>85</td>\n",
       "    </tr>\n",
       "    <tr>\n",
       "      <th>118</th>\n",
       "      <td>Goldeen</td>\n",
       "      <td>Water</td>\n",
       "      <td>NaN</td>\n",
       "      <td>45</td>\n",
       "      <td>67</td>\n",
       "      <td>60</td>\n",
       "      <td>35</td>\n",
       "      <td>50</td>\n",
       "      <td>63</td>\n",
       "    </tr>\n",
       "    <tr>\n",
       "      <th>119</th>\n",
       "      <td>Seaking</td>\n",
       "      <td>Water</td>\n",
       "      <td>NaN</td>\n",
       "      <td>80</td>\n",
       "      <td>92</td>\n",
       "      <td>65</td>\n",
       "      <td>65</td>\n",
       "      <td>80</td>\n",
       "      <td>68</td>\n",
       "    </tr>\n",
       "    <tr>\n",
       "      <th>120</th>\n",
       "      <td>Staryu</td>\n",
       "      <td>Water</td>\n",
       "      <td>NaN</td>\n",
       "      <td>30</td>\n",
       "      <td>45</td>\n",
       "      <td>55</td>\n",
       "      <td>70</td>\n",
       "      <td>55</td>\n",
       "      <td>85</td>\n",
       "    </tr>\n",
       "    <tr>\n",
       "      <th>121</th>\n",
       "      <td>Starmie</td>\n",
       "      <td>Water</td>\n",
       "      <td>Psychic</td>\n",
       "      <td>60</td>\n",
       "      <td>75</td>\n",
       "      <td>85</td>\n",
       "      <td>100</td>\n",
       "      <td>85</td>\n",
       "      <td>115</td>\n",
       "    </tr>\n",
       "    <tr>\n",
       "      <th>126</th>\n",
       "      <td>Magmar</td>\n",
       "      <td>Fire</td>\n",
       "      <td>NaN</td>\n",
       "      <td>65</td>\n",
       "      <td>95</td>\n",
       "      <td>57</td>\n",
       "      <td>100</td>\n",
       "      <td>85</td>\n",
       "      <td>93</td>\n",
       "    </tr>\n",
       "    <tr>\n",
       "      <th>129</th>\n",
       "      <td>Magikarp</td>\n",
       "      <td>Water</td>\n",
       "      <td>NaN</td>\n",
       "      <td>20</td>\n",
       "      <td>10</td>\n",
       "      <td>55</td>\n",
       "      <td>15</td>\n",
       "      <td>20</td>\n",
       "      <td>80</td>\n",
       "    </tr>\n",
       "    <tr>\n",
       "      <th>130</th>\n",
       "      <td>Gyarados</td>\n",
       "      <td>Water</td>\n",
       "      <td>Flying</td>\n",
       "      <td>95</td>\n",
       "      <td>125</td>\n",
       "      <td>79</td>\n",
       "      <td>60</td>\n",
       "      <td>100</td>\n",
       "      <td>81</td>\n",
       "    </tr>\n",
       "    <tr>\n",
       "      <th>131</th>\n",
       "      <td>Lapras</td>\n",
       "      <td>Water</td>\n",
       "      <td>Ice</td>\n",
       "      <td>130</td>\n",
       "      <td>85</td>\n",
       "      <td>80</td>\n",
       "      <td>85</td>\n",
       "      <td>95</td>\n",
       "      <td>60</td>\n",
       "    </tr>\n",
       "    <tr>\n",
       "      <th>134</th>\n",
       "      <td>Vaporeon</td>\n",
       "      <td>Water</td>\n",
       "      <td>NaN</td>\n",
       "      <td>130</td>\n",
       "      <td>65</td>\n",
       "      <td>60</td>\n",
       "      <td>110</td>\n",
       "      <td>95</td>\n",
       "      <td>65</td>\n",
       "    </tr>\n",
       "    <tr>\n",
       "      <th>136</th>\n",
       "      <td>Flareon</td>\n",
       "      <td>Fire</td>\n",
       "      <td>NaN</td>\n",
       "      <td>65</td>\n",
       "      <td>130</td>\n",
       "      <td>60</td>\n",
       "      <td>95</td>\n",
       "      <td>110</td>\n",
       "      <td>65</td>\n",
       "    </tr>\n",
       "    <tr>\n",
       "      <th>146</th>\n",
       "      <td>Moltres</td>\n",
       "      <td>Fire</td>\n",
       "      <td>Flying</td>\n",
       "      <td>90</td>\n",
       "      <td>100</td>\n",
       "      <td>90</td>\n",
       "      <td>125</td>\n",
       "      <td>85</td>\n",
       "      <td>90</td>\n",
       "    </tr>\n",
       "  </tbody>\n",
       "</table>\n",
       "</div>"
      ],
      "text/plain": [
       "           Name Type 1    Type 2   HP  Attack  Defense  Sp. Atk  Sp. Def  \\\n",
       "#                                                                          \n",
       "1     Bulbasaur  Grass    Poison   45      49       49       65       65   \n",
       "2       Ivysaur  Grass    Poison   60      62       63       80       80   \n",
       "3      Venusaur  Grass    Poison   80      82       83      100      100   \n",
       "4    Charmander   Fire       NaN   39      52       43       60       50   \n",
       "5    Charmeleon   Fire       NaN   58      64       58       80       65   \n",
       "6     Charizard   Fire    Flying   78      84       78      109       85   \n",
       "7      Squirtle  Water       NaN   44      48       65       50       64   \n",
       "8     Wartortle  Water       NaN   59      63       80       65       80   \n",
       "9     Blastoise  Water       NaN   79      83      100       85      105   \n",
       "37       Vulpix   Fire       NaN   38      41       40       50       65   \n",
       "38    Ninetales   Fire       NaN   73      76       75       81      100   \n",
       "43       Oddish  Grass    Poison   45      50       55       75       65   \n",
       "44        Gloom  Grass    Poison   60      65       70       85       75   \n",
       "45    Vileplume  Grass    Poison   75      80       85      110       90   \n",
       "54      Psyduck  Water       NaN   50      52       48       65       50   \n",
       "55      Golduck  Water       NaN   80      82       78       95       80   \n",
       "58    Growlithe   Fire       NaN   55      70       45       70       50   \n",
       "59     Arcanine   Fire       NaN   90     110       80      100       80   \n",
       "60      Poliwag  Water       NaN   40      50       40       40       40   \n",
       "61    Poliwhirl  Water       NaN   65      65       65       50       50   \n",
       "62    Poliwrath  Water  Fighting   90      95       95       70       90   \n",
       "69   Bellsprout  Grass    Poison   50      75       35       70       30   \n",
       "70   Weepinbell  Grass    Poison   65      90       50       85       45   \n",
       "71   Victreebel  Grass    Poison   80     105       65      100       70   \n",
       "72    Tentacool  Water    Poison   40      40       35       50      100   \n",
       "73   Tentacruel  Water    Poison   80      70       65       80      120   \n",
       "77       Ponyta   Fire       NaN   50      85       55       65       65   \n",
       "78     Rapidash   Fire       NaN   65     100       70       80       80   \n",
       "79     Slowpoke  Water   Psychic   90      65       65       40       40   \n",
       "80      Slowbro  Water   Psychic   95      75      110      100       80   \n",
       "86         Seel  Water       NaN   65      45       55       45       70   \n",
       "87      Dewgong  Water       Ice   90      70       80       70       95   \n",
       "90     Shellder  Water       NaN   30      65      100       45       25   \n",
       "91     Cloyster  Water       Ice   50      95      180       85       45   \n",
       "98       Krabby  Water       NaN   30     105       90       25       25   \n",
       "99      Kingler  Water       NaN   55     130      115       50       50   \n",
       "102   Exeggcute  Grass   Psychic   60      40       80       60       45   \n",
       "103   Exeggutor  Grass   Psychic   95      95       85      125       65   \n",
       "114     Tangela  Grass       NaN   65      55      115      100       40   \n",
       "116      Horsea  Water       NaN   30      40       70       70       25   \n",
       "117      Seadra  Water       NaN   55      65       95       95       45   \n",
       "118     Goldeen  Water       NaN   45      67       60       35       50   \n",
       "119     Seaking  Water       NaN   80      92       65       65       80   \n",
       "120      Staryu  Water       NaN   30      45       55       70       55   \n",
       "121     Starmie  Water   Psychic   60      75       85      100       85   \n",
       "126      Magmar   Fire       NaN   65      95       57      100       85   \n",
       "129    Magikarp  Water       NaN   20      10       55       15       20   \n",
       "130    Gyarados  Water    Flying   95     125       79       60      100   \n",
       "131      Lapras  Water       Ice  130      85       80       85       95   \n",
       "134    Vaporeon  Water       NaN  130      65       60      110       95   \n",
       "136     Flareon   Fire       NaN   65     130       60       95      110   \n",
       "146     Moltres   Fire    Flying   90     100       90      125       85   \n",
       "\n",
       "     Speed  \n",
       "#           \n",
       "1       45  \n",
       "2       60  \n",
       "3       80  \n",
       "4       65  \n",
       "5       80  \n",
       "6      100  \n",
       "7       43  \n",
       "8       58  \n",
       "9       78  \n",
       "37      65  \n",
       "38     100  \n",
       "43      30  \n",
       "44      40  \n",
       "45      50  \n",
       "54      55  \n",
       "55      85  \n",
       "58      60  \n",
       "59      95  \n",
       "60      90  \n",
       "61      90  \n",
       "62      70  \n",
       "69      40  \n",
       "70      55  \n",
       "71      70  \n",
       "72      70  \n",
       "73     100  \n",
       "77      90  \n",
       "78     105  \n",
       "79      15  \n",
       "80      30  \n",
       "86      45  \n",
       "87      70  \n",
       "90      40  \n",
       "91      70  \n",
       "98      50  \n",
       "99      75  \n",
       "102     40  \n",
       "103     55  \n",
       "114     60  \n",
       "116     60  \n",
       "117     85  \n",
       "118     63  \n",
       "119     68  \n",
       "120     85  \n",
       "121    115  \n",
       "126     93  \n",
       "129     80  \n",
       "130     81  \n",
       "131     60  \n",
       "134     65  \n",
       "136     65  \n",
       "146     90  "
      ]
     },
     "execution_count": 24,
     "metadata": {},
     "output_type": "execute_result"
    }
   ],
   "source": [
    "nuevos_tipos = nuevo_poke[\"Type 1\"].isin([\"Grass\",\"Water\",\"Fire\"]) # A partir del nuevo DataFrame sin las columnas Total, Stage y Legendary, creamos\n",
    "# una máscara que sólo escoja los Pokémons de tipo Planta, Fuego y Agua.\n",
    "poke_filtrado = nuevo_poke[nuevos_tipos]\n",
    "poke_filtrado"
   ]
  },
  {
   "cell_type": "code",
   "execution_count": 25,
   "metadata": {},
   "outputs": [],
   "source": [
    "# 13. Usa un estilo 'whitegrid'"
   ]
  },
  {
   "cell_type": "code",
   "execution_count": 26,
   "metadata": {},
   "outputs": [],
   "source": [
    "sns.set_style(\"whitegrid\")"
   ]
  },
  {
   "cell_type": "code",
   "execution_count": 27,
   "metadata": {},
   "outputs": [],
   "source": [
    "# 14. Pinta diagramas de violín con el DataFrame filtrado por los 3 tipos"
   ]
  },
  {
   "cell_type": "code",
   "execution_count": null,
   "metadata": {},
   "outputs": [
    {
     "data": {
      "text/plain": [
       "<Axes: xlabel='Type 1', ylabel='Attack'>"
      ]
     },
     "execution_count": 28,
     "metadata": {},
     "output_type": "execute_result"
    },
    {
     "data": {
      "image/png": "[encoded data removed]",
      "text/plain": [
       "<Figure size 600x600 with 1 Axes>"
      ]
     },
     "metadata": {},
     "output_type": "display_data"
    }
   ],
   "source": [
    "plt.figure(figsize=(6,6))\n",
    "sns.violinplot(x=\"Type 1\",y=\"Attack\",data=poke_filtrado) # Ejemplo de diagramas de violín del ataque de los Pokémon de los 3 tipos filtrados"
   ]
  },
  {
   "cell_type": "code",
   "execution_count": 29,
   "metadata": {},
   "outputs": [],
   "source": [
    "# 15. Escribe una lista de colores con valores '#78C850', '#F08030',  '#6890F0'"
   ]
  },
  {
   "cell_type": "code",
   "execution_count": null,
   "metadata": {},
   "outputs": [],
   "source": [
    "lista_colores = [\"#78C850\",\"#F08030\",\"#6890F0\"] # Creamos una paleta de colores para cada tipo de Pokémon"
   ]
  },
  {
   "cell_type": "code",
   "execution_count": 31,
   "metadata": {},
   "outputs": [],
   "source": [
    "# 16. Pinta de nuevo los diagramas de violín añadiendo esos colores en la paleta (palette)"
   ]
  },
  {
   "cell_type": "code",
   "execution_count": null,
   "metadata": {},
   "outputs": [
    {
     "name": "stderr",
     "output_type": "stream",
     "text": [
      "C:\\Users\\inilo\\AppData\\Local\\Temp\\ipykernel_17928\\130745542.py:2: FutureWarning: \n",
      "\n",
      "Passing `palette` without assigning `hue` is deprecated and will be removed in v0.14.0. Assign the `x` variable to `hue` and set `legend=False` for the same effect.\n",
      "\n",
      "  sns.violinplot(x=\"Type 1\",y=\"Attack\",data=poke_filtrado,palette=lista_colores)\n"
     ]
    },
    {
     "data": {
      "text/plain": [
       "<Axes: xlabel='Type 1', ylabel='Attack'>"
      ]
     },
     "execution_count": 32,
     "metadata": {},
     "output_type": "execute_result"
    },
    {
     "data": {
      "image/png": "[encoded data removed]",
      "text/plain": [
       "<Figure size 600x600 with 1 Axes>"
      ]
     },
     "metadata": {},
     "output_type": "display_data"
    }
   ],
   "source": [
    "plt.figure(figsize=(6,6))\n",
    "sns.violinplot(x=\"Type 1\",y=\"Attack\",data=poke_filtrado,palette=lista_colores) # Usamos esa paleta para dar color a cada tipo de Pokémon"
   ]
  },
  {
   "cell_type": "code",
   "execution_count": 33,
   "metadata": {},
   "outputs": [],
   "source": [
    "# 17. Con el diagrama de violín vemos la forma de la distribución, pero no sabemos si Grass tiene muchos puntos y Fire tiene muy pocos.\n",
    "# Para ver esto, usamos el swarmplot.\n",
    "# Pinta el último diagrama de violines pero con un swarmplot en lugar de un violin"
   ]
  },
  {
   "cell_type": "code",
   "execution_count": 73,
   "metadata": {},
   "outputs": [
    {
     "name": "stderr",
     "output_type": "stream",
     "text": [
      "C:\\Users\\inilo\\AppData\\Local\\Temp\\ipykernel_17928\\1347607881.py:2: FutureWarning: \n",
      "\n",
      "Passing `palette` without assigning `hue` is deprecated and will be removed in v0.14.0. Assign the `x` variable to `hue` and set `legend=False` for the same effect.\n",
      "\n",
      "  sns.violinplot(x=\"Type 1\",y=\"Attack\",data=poke_filtrado[poke_filtrado[\"Type 1\"].isin([\"Grass\",\"Fire\"])],palette=lista_colores)\n",
      "C:\\Users\\inilo\\AppData\\Local\\Temp\\ipykernel_17928\\1347607881.py:2: UserWarning: The palette list has more values (3) than needed (2), which may not be intended.\n",
      "  sns.violinplot(x=\"Type 1\",y=\"Attack\",data=poke_filtrado[poke_filtrado[\"Type 1\"].isin([\"Grass\",\"Fire\"])],palette=lista_colores)\n"
     ]
    },
    {
     "data": {
      "text/plain": [
       "<Axes: xlabel='Type 1', ylabel='Attack'>"
      ]
     },
     "execution_count": 73,
     "metadata": {},
     "output_type": "execute_result"
    },
    {
     "data": {
      "image/png": "[encoded data removed]",
      "text/plain": [
       "<Figure size 600x600 with 1 Axes>"
      ]
     },
     "metadata": {},
     "output_type": "display_data"
    }
   ],
   "source": [
    "plt.figure(figsize=(6,6))\n",
    "sns.violinplot(x=\"Type 1\",y=\"Attack\",data=poke_filtrado[poke_filtrado[\"Type 1\"].isin([\"Grass\",\"Fire\"])],palette=lista_colores)\n",
    "sns.swarmplot(x=\"Type 1\",y=\"Attack\",data=poke_filtrado[poke_filtrado[\"Type 1\"].isin([\"Water\"])],color=\"black\",edgecolor=\"auto\")"
   ]
  },
  {
   "cell_type": "code",
   "execution_count": 35,
   "metadata": {},
   "outputs": [],
   "source": [
    "# 18. Queremos ver los violines a la vez que los swarm, los podemos pintar juntos. \n",
    "# Elimina los diagramas de caja dentro de los violines con el parámetro inner = None y pon una transparencia de 0.9 en el swarmplot\n",
    "# Pon un título con pyplot (como siempre)"
   ]
  },
  {
   "cell_type": "code",
   "execution_count": 36,
   "metadata": {},
   "outputs": [
    {
     "name": "stderr",
     "output_type": "stream",
     "text": [
      "C:\\Users\\inilo\\AppData\\Local\\Temp\\ipykernel_17928\\3873454372.py:2: FutureWarning: \n",
      "\n",
      "Passing `palette` without assigning `hue` is deprecated and will be removed in v0.14.0. Assign the `x` variable to `hue` and set `legend=False` for the same effect.\n",
      "\n",
      "  sns.violinplot(x= \"Type 1\",y=\"Attack\",data=poke_filtrado,inner=None,palette=lista_colores)\n"
     ]
    },
    {
     "data": {
      "text/plain": [
       "Text(0.5, 1.0, 'Estadísticas de los Pokémons de primera generación')"
      ]
     },
     "execution_count": 36,
     "metadata": {},
     "output_type": "execute_result"
    },
    {
     "data": {
      "image/png": "[encoded data removed]",
      "text/plain": [
       "<Figure size 600x600 with 1 Axes>"
      ]
     },
     "metadata": {},
     "output_type": "display_data"
    }
   ],
   "source": [
    "plt.figure(figsize=(6,6))\n",
    "sns.violinplot(x= \"Type 1\",y=\"Attack\",data=poke_filtrado,inner=None,palette=lista_colores)\n",
    "sns.swarmplot(x= \"Type 1\",y=\"Attack\",data=poke_filtrado,\n",
    "             color=\"black\",alpha=0.9)\n",
    "plt.xlabel(\"Stats\")\n",
    "plt.title(\"Estadísticas de los Pokémons de primera generación\")"
   ]
  },
  {
   "cell_type": "code",
   "execution_count": 37,
   "metadata": {},
   "outputs": [],
   "source": [
    "# 19. Veamos la función melt() de pandas. Melt toma los valores de varias columnas y los junta todos en una misma columna nueva.\n",
    "# Dado un DataFrame, melt recibe varios parámetros:\n",
    "# * qué columnas del DataFrame se quedan igual\n",
    "# * qué nombres de columnas del dataframe pasan a ser una columna nueva\n",
    "# * cómo queremos llamar esas nuevas columnas\n",
    "\n",
    "# Primero recuerda el Dataframe df_grass_fire_water con las primeras 5 filas"
   ]
  },
  {
   "cell_type": "code",
   "execution_count": 38,
   "metadata": {},
   "outputs": [
    {
     "data": {
      "application/vnd.microsoft.datawrangler.viewer.v0+json": {
       "columns": [
        {
         "name": "#",
         "rawType": "int64",
         "type": "integer"
        },
        {
         "name": "Name",
         "rawType": "object",
         "type": "string"
        },
        {
         "name": "Type 1",
         "rawType": "object",
         "type": "string"
        },
        {
         "name": "Type 2",
         "rawType": "object",
         "type": "unknown"
        },
        {
         "name": "HP",
         "rawType": "int64",
         "type": "integer"
        },
        {
         "name": "Attack",
         "rawType": "int64",
         "type": "integer"
        },
        {
         "name": "Defense",
         "rawType": "int64",
         "type": "integer"
        },
        {
         "name": "Sp. Atk",
         "rawType": "int64",
         "type": "integer"
        },
        {
         "name": "Sp. Def",
         "rawType": "int64",
         "type": "integer"
        },
        {
         "name": "Speed",
         "rawType": "int64",
         "type": "integer"
        }
       ],
       "conversionMethod": "pd.DataFrame",
       "ref": "2e6e77e1-5a3f-428e-857e-ff510d71dd3b",
       "rows": [
        [
         "1",
         "Bulbasaur",
         "Grass",
         "Poison",
         "45",
         "49",
         "49",
         "65",
         "65",
         "45"
        ],
        [
         "2",
         "Ivysaur",
         "Grass",
         "Poison",
         "60",
         "62",
         "63",
         "80",
         "80",
         "60"
        ],
        [
         "3",
         "Venusaur",
         "Grass",
         "Poison",
         "80",
         "82",
         "83",
         "100",
         "100",
         "80"
        ],
        [
         "4",
         "Charmander",
         "Fire",
         null,
         "39",
         "52",
         "43",
         "60",
         "50",
         "65"
        ],
        [
         "5",
         "Charmeleon",
         "Fire",
         null,
         "58",
         "64",
         "58",
         "80",
         "65",
         "80"
        ]
       ],
       "shape": {
        "columns": 9,
        "rows": 5
       }
      },
      "text/html": [
       "<div>\n",
       "<style scoped>\n",
       "    .dataframe tbody tr th:only-of-type {\n",
       "        vertical-align: middle;\n",
       "    }\n",
       "\n",
       "    .dataframe tbody tr th {\n",
       "        vertical-align: top;\n",
       "    }\n",
       "\n",
       "    .dataframe thead th {\n",
       "        text-align: right;\n",
       "    }\n",
       "</style>\n",
       "<table border=\"1\" class=\"dataframe\">\n",
       "  <thead>\n",
       "    <tr style=\"text-align: right;\">\n",
       "      <th></th>\n",
       "      <th>Name</th>\n",
       "      <th>Type 1</th>\n",
       "      <th>Type 2</th>\n",
       "      <th>HP</th>\n",
       "      <th>Attack</th>\n",
       "      <th>Defense</th>\n",
       "      <th>Sp. Atk</th>\n",
       "      <th>Sp. Def</th>\n",
       "      <th>Speed</th>\n",
       "    </tr>\n",
       "    <tr>\n",
       "      <th>#</th>\n",
       "      <th></th>\n",
       "      <th></th>\n",
       "      <th></th>\n",
       "      <th></th>\n",
       "      <th></th>\n",
       "      <th></th>\n",
       "      <th></th>\n",
       "      <th></th>\n",
       "      <th></th>\n",
       "    </tr>\n",
       "  </thead>\n",
       "  <tbody>\n",
       "    <tr>\n",
       "      <th>1</th>\n",
       "      <td>Bulbasaur</td>\n",
       "      <td>Grass</td>\n",
       "      <td>Poison</td>\n",
       "      <td>45</td>\n",
       "      <td>49</td>\n",
       "      <td>49</td>\n",
       "      <td>65</td>\n",
       "      <td>65</td>\n",
       "      <td>45</td>\n",
       "    </tr>\n",
       "    <tr>\n",
       "      <th>2</th>\n",
       "      <td>Ivysaur</td>\n",
       "      <td>Grass</td>\n",
       "      <td>Poison</td>\n",
       "      <td>60</td>\n",
       "      <td>62</td>\n",
       "      <td>63</td>\n",
       "      <td>80</td>\n",
       "      <td>80</td>\n",
       "      <td>60</td>\n",
       "    </tr>\n",
       "    <tr>\n",
       "      <th>3</th>\n",
       "      <td>Venusaur</td>\n",
       "      <td>Grass</td>\n",
       "      <td>Poison</td>\n",
       "      <td>80</td>\n",
       "      <td>82</td>\n",
       "      <td>83</td>\n",
       "      <td>100</td>\n",
       "      <td>100</td>\n",
       "      <td>80</td>\n",
       "    </tr>\n",
       "    <tr>\n",
       "      <th>4</th>\n",
       "      <td>Charmander</td>\n",
       "      <td>Fire</td>\n",
       "      <td>NaN</td>\n",
       "      <td>39</td>\n",
       "      <td>52</td>\n",
       "      <td>43</td>\n",
       "      <td>60</td>\n",
       "      <td>50</td>\n",
       "      <td>65</td>\n",
       "    </tr>\n",
       "    <tr>\n",
       "      <th>5</th>\n",
       "      <td>Charmeleon</td>\n",
       "      <td>Fire</td>\n",
       "      <td>NaN</td>\n",
       "      <td>58</td>\n",
       "      <td>64</td>\n",
       "      <td>58</td>\n",
       "      <td>80</td>\n",
       "      <td>65</td>\n",
       "      <td>80</td>\n",
       "    </tr>\n",
       "  </tbody>\n",
       "</table>\n",
       "</div>"
      ],
      "text/plain": [
       "         Name Type 1  Type 2  HP  Attack  Defense  Sp. Atk  Sp. Def  Speed\n",
       "#                                                                         \n",
       "1   Bulbasaur  Grass  Poison  45      49       49       65       65     45\n",
       "2     Ivysaur  Grass  Poison  60      62       63       80       80     60\n",
       "3    Venusaur  Grass  Poison  80      82       83      100      100     80\n",
       "4  Charmander   Fire     NaN  39      52       43       60       50     65\n",
       "5  Charmeleon   Fire     NaN  58      64       58       80       65     80"
      ]
     },
     "execution_count": 38,
     "metadata": {},
     "output_type": "execute_result"
    }
   ],
   "source": [
    "poke_filtrado.head(5)"
   ]
  },
  {
   "cell_type": "code",
   "execution_count": 39,
   "metadata": {},
   "outputs": [],
   "source": [
    "# 20. Queremos dejar igual las variables 'Name' y 'Type 1'\n",
    "# Queremos añadir una columa nueva cuyos valores sean las columnas que queremos apilar y que se llame 'New Column'\n",
    "# Escribimos df_gfw.melt(id_vars=['Name', 'Type 1'], value_vars=[...], var_name='New Column')"
   ]
  },
  {
   "cell_type": "code",
   "execution_count": 40,
   "metadata": {},
   "outputs": [
    {
     "data": {
      "application/vnd.microsoft.datawrangler.viewer.v0+json": {
       "columns": [
        {
         "name": "index",
         "rawType": "int64",
         "type": "integer"
        },
        {
         "name": "Name",
         "rawType": "object",
         "type": "string"
        },
        {
         "name": "Type 1",
         "rawType": "object",
         "type": "string"
        },
        {
         "name": "New Column",
         "rawType": "object",
         "type": "string"
        },
        {
         "name": "value",
         "rawType": "int64",
         "type": "integer"
        }
       ],
       "conversionMethod": "pd.DataFrame",
       "ref": "a9b3eddd-f22c-450f-ad53-5f761a85f3bf",
       "rows": [
        [
         "0",
         "Bulbasaur",
         "Grass",
         "HP",
         "45"
        ],
        [
         "1",
         "Ivysaur",
         "Grass",
         "HP",
         "60"
        ],
        [
         "2",
         "Venusaur",
         "Grass",
         "HP",
         "80"
        ],
        [
         "3",
         "Charmander",
         "Fire",
         "HP",
         "39"
        ],
        [
         "4",
         "Charmeleon",
         "Fire",
         "HP",
         "58"
        ],
        [
         "5",
         "Charizard",
         "Fire",
         "HP",
         "78"
        ],
        [
         "6",
         "Squirtle",
         "Water",
         "HP",
         "44"
        ],
        [
         "7",
         "Wartortle",
         "Water",
         "HP",
         "59"
        ],
        [
         "8",
         "Blastoise",
         "Water",
         "HP",
         "79"
        ],
        [
         "9",
         "Vulpix",
         "Fire",
         "HP",
         "38"
        ],
        [
         "10",
         "Ninetales",
         "Fire",
         "HP",
         "73"
        ],
        [
         "11",
         "Oddish",
         "Grass",
         "HP",
         "45"
        ],
        [
         "12",
         "Gloom",
         "Grass",
         "HP",
         "60"
        ],
        [
         "13",
         "Vileplume",
         "Grass",
         "HP",
         "75"
        ],
        [
         "14",
         "Psyduck",
         "Water",
         "HP",
         "50"
        ],
        [
         "15",
         "Golduck",
         "Water",
         "HP",
         "80"
        ],
        [
         "16",
         "Growlithe",
         "Fire",
         "HP",
         "55"
        ],
        [
         "17",
         "Arcanine",
         "Fire",
         "HP",
         "90"
        ],
        [
         "18",
         "Poliwag",
         "Water",
         "HP",
         "40"
        ],
        [
         "19",
         "Poliwhirl",
         "Water",
         "HP",
         "65"
        ],
        [
         "20",
         "Poliwrath",
         "Water",
         "HP",
         "90"
        ],
        [
         "21",
         "Bellsprout",
         "Grass",
         "HP",
         "50"
        ],
        [
         "22",
         "Weepinbell",
         "Grass",
         "HP",
         "65"
        ],
        [
         "23",
         "Victreebel",
         "Grass",
         "HP",
         "80"
        ],
        [
         "24",
         "Tentacool",
         "Water",
         "HP",
         "40"
        ],
        [
         "25",
         "Tentacruel",
         "Water",
         "HP",
         "80"
        ],
        [
         "26",
         "Ponyta",
         "Fire",
         "HP",
         "50"
        ],
        [
         "27",
         "Rapidash",
         "Fire",
         "HP",
         "65"
        ],
        [
         "28",
         "Slowpoke",
         "Water",
         "HP",
         "90"
        ],
        [
         "29",
         "Slowbro",
         "Water",
         "HP",
         "95"
        ],
        [
         "30",
         "Seel",
         "Water",
         "HP",
         "65"
        ],
        [
         "31",
         "Dewgong",
         "Water",
         "HP",
         "90"
        ],
        [
         "32",
         "Shellder",
         "Water",
         "HP",
         "30"
        ],
        [
         "33",
         "Cloyster",
         "Water",
         "HP",
         "50"
        ],
        [
         "34",
         "Krabby",
         "Water",
         "HP",
         "30"
        ],
        [
         "35",
         "Kingler",
         "Water",
         "HP",
         "55"
        ],
        [
         "36",
         "Exeggcute",
         "Grass",
         "HP",
         "60"
        ],
        [
         "37",
         "Exeggutor",
         "Grass",
         "HP",
         "95"
        ],
        [
         "38",
         "Tangela",
         "Grass",
         "HP",
         "65"
        ],
        [
         "39",
         "Horsea",
         "Water",
         "HP",
         "30"
        ],
        [
         "40",
         "Seadra",
         "Water",
         "HP",
         "55"
        ],
        [
         "41",
         "Goldeen",
         "Water",
         "HP",
         "45"
        ],
        [
         "42",
         "Seaking",
         "Water",
         "HP",
         "80"
        ],
        [
         "43",
         "Staryu",
         "Water",
         "HP",
         "30"
        ],
        [
         "44",
         "Starmie",
         "Water",
         "HP",
         "60"
        ],
        [
         "45",
         "Magmar",
         "Fire",
         "HP",
         "65"
        ],
        [
         "46",
         "Magikarp",
         "Water",
         "HP",
         "20"
        ],
        [
         "47",
         "Gyarados",
         "Water",
         "HP",
         "95"
        ],
        [
         "48",
         "Lapras",
         "Water",
         "HP",
         "130"
        ],
        [
         "49",
         "Vaporeon",
         "Water",
         "HP",
         "130"
        ]
       ],
       "shape": {
        "columns": 4,
        "rows": 312
       }
      },
      "text/html": [
       "<div>\n",
       "<style scoped>\n",
       "    .dataframe tbody tr th:only-of-type {\n",
       "        vertical-align: middle;\n",
       "    }\n",
       "\n",
       "    .dataframe tbody tr th {\n",
       "        vertical-align: top;\n",
       "    }\n",
       "\n",
       "    .dataframe thead th {\n",
       "        text-align: right;\n",
       "    }\n",
       "</style>\n",
       "<table border=\"1\" class=\"dataframe\">\n",
       "  <thead>\n",
       "    <tr style=\"text-align: right;\">\n",
       "      <th></th>\n",
       "      <th>Name</th>\n",
       "      <th>Type 1</th>\n",
       "      <th>New Column</th>\n",
       "      <th>value</th>\n",
       "    </tr>\n",
       "  </thead>\n",
       "  <tbody>\n",
       "    <tr>\n",
       "      <th>0</th>\n",
       "      <td>Bulbasaur</td>\n",
       "      <td>Grass</td>\n",
       "      <td>HP</td>\n",
       "      <td>45</td>\n",
       "    </tr>\n",
       "    <tr>\n",
       "      <th>1</th>\n",
       "      <td>Ivysaur</td>\n",
       "      <td>Grass</td>\n",
       "      <td>HP</td>\n",
       "      <td>60</td>\n",
       "    </tr>\n",
       "    <tr>\n",
       "      <th>2</th>\n",
       "      <td>Venusaur</td>\n",
       "      <td>Grass</td>\n",
       "      <td>HP</td>\n",
       "      <td>80</td>\n",
       "    </tr>\n",
       "    <tr>\n",
       "      <th>3</th>\n",
       "      <td>Charmander</td>\n",
       "      <td>Fire</td>\n",
       "      <td>HP</td>\n",
       "      <td>39</td>\n",
       "    </tr>\n",
       "    <tr>\n",
       "      <th>4</th>\n",
       "      <td>Charmeleon</td>\n",
       "      <td>Fire</td>\n",
       "      <td>HP</td>\n",
       "      <td>58</td>\n",
       "    </tr>\n",
       "    <tr>\n",
       "      <th>...</th>\n",
       "      <td>...</td>\n",
       "      <td>...</td>\n",
       "      <td>...</td>\n",
       "      <td>...</td>\n",
       "    </tr>\n",
       "    <tr>\n",
       "      <th>307</th>\n",
       "      <td>Gyarados</td>\n",
       "      <td>Water</td>\n",
       "      <td>Speed</td>\n",
       "      <td>81</td>\n",
       "    </tr>\n",
       "    <tr>\n",
       "      <th>308</th>\n",
       "      <td>Lapras</td>\n",
       "      <td>Water</td>\n",
       "      <td>Speed</td>\n",
       "      <td>60</td>\n",
       "    </tr>\n",
       "    <tr>\n",
       "      <th>309</th>\n",
       "      <td>Vaporeon</td>\n",
       "      <td>Water</td>\n",
       "      <td>Speed</td>\n",
       "      <td>65</td>\n",
       "    </tr>\n",
       "    <tr>\n",
       "      <th>310</th>\n",
       "      <td>Flareon</td>\n",
       "      <td>Fire</td>\n",
       "      <td>Speed</td>\n",
       "      <td>65</td>\n",
       "    </tr>\n",
       "    <tr>\n",
       "      <th>311</th>\n",
       "      <td>Moltres</td>\n",
       "      <td>Fire</td>\n",
       "      <td>Speed</td>\n",
       "      <td>90</td>\n",
       "    </tr>\n",
       "  </tbody>\n",
       "</table>\n",
       "<p>312 rows × 4 columns</p>\n",
       "</div>"
      ],
      "text/plain": [
       "           Name Type 1 New Column  value\n",
       "0     Bulbasaur  Grass         HP     45\n",
       "1       Ivysaur  Grass         HP     60\n",
       "2      Venusaur  Grass         HP     80\n",
       "3    Charmander   Fire         HP     39\n",
       "4    Charmeleon   Fire         HP     58\n",
       "..          ...    ...        ...    ...\n",
       "307    Gyarados  Water      Speed     81\n",
       "308      Lapras  Water      Speed     60\n",
       "309    Vaporeon  Water      Speed     65\n",
       "310     Flareon   Fire      Speed     65\n",
       "311     Moltres   Fire      Speed     90\n",
       "\n",
       "[312 rows x 4 columns]"
      ]
     },
     "execution_count": 40,
     "metadata": {},
     "output_type": "execute_result"
    }
   ],
   "source": [
    "poke_melt = poke_filtrado.melt(id_vars=['Name', 'Type 1'], value_vars=[\"HP\",\"Attack\",\"Defense\",\"Sp. Atk\",\"Sp. Def\",\"Speed\"], var_name='New Column')\n",
    "poke_melt"
   ]
  },
  {
   "cell_type": "code",
   "execution_count": 41,
   "metadata": {},
   "outputs": [],
   "source": [
    "# 21. Pintamos el swarmplot con el melted y entendemos la información"
   ]
  },
  {
   "cell_type": "code",
   "execution_count": 42,
   "metadata": {},
   "outputs": [
    {
     "data": {
      "text/plain": [
       "<Axes: xlabel='New Column', ylabel='value'>"
      ]
     },
     "execution_count": 42,
     "metadata": {},
     "output_type": "execute_result"
    },
    {
     "data": {
      "image/png": "[encoded data removed]",
      "text/plain": [
       "<Figure size 640x480 with 1 Axes>"
      ]
     },
     "metadata": {},
     "output_type": "display_data"
    }
   ],
   "source": [
    "sns.swarmplot(data=poke_melt[poke_melt.columns], x= \"New Column\", y= \"value\",hue=\"New Column\",legend=True)"
   ]
  },
  {
   "cell_type": "code",
   "execution_count": null,
   "metadata": {},
   "outputs": [],
   "source": [
    "# 22. Basándote en el gráfico anterior, define el tamaño de la figura en (10,6) (usa plt)\n",
    "# En el swarmplot añade el argumento dodge a True y usa la anterior paleta de colores Pokemon\n",
    "\n",
    "# Dodge en inglés es \"esquivar\", ¿qué diferencia ves?\n",
    "\n",
    "# Con dodge los datos de cada tipo descrito en el hue se separan entre sí\n",
    "\n",
    "# Usando plt \n",
    "# fija el límite del eje Y entre 0 y 200\n",
    "# fija la leyenda con bbox_to_anchor en upper left. Pista: upper left es el código 2 y se usa el parámetro loc.\n"
   ]
  },
  {
   "cell_type": "code",
   "execution_count": 44,
   "metadata": {},
   "outputs": [
    {
     "data": {
      "text/plain": [
       "<matplotlib.legend.Legend at 0x179fe58d010>"
      ]
     },
     "execution_count": 44,
     "metadata": {},
     "output_type": "execute_result"
    },
    {
     "data": {
      "image/png": "[encoded data removed]",
      "text/plain": [
       "<Figure size 1000x600 with 1 Axes>"
      ]
     },
     "metadata": {},
     "output_type": "display_data"
    }
   ],
   "source": [
    "plt.figure(figsize=(10,6))\n",
    "sns.swarmplot(data=poke_melt[poke_melt.columns], x= \"New Column\", y= \"value\",palette=lista_colores,hue=\"Type 1\",legend=True,dodge=True)\n",
    "plt.ylim(0,200)\n",
    "plt.legend(loc=\"upper left\")\n"
   ]
  },
  {
   "cell_type": "code",
   "execution_count": 45,
   "metadata": {},
   "outputs": [],
   "source": [
    "# Observa que incluso usando Seaborn, usamos Pyplot para trabajar con los ejes, la leyenda y el tamaño\n",
    "# Lo importante es que Seaborn y Pyplot conviven bien juntos"
   ]
  },
  {
   "cell_type": "code",
   "execution_count": 46,
   "metadata": {},
   "outputs": [],
   "source": [
    "# 23. Mapas de calor\n",
    "# Calcula las correlaciones del primer DataFrame original df\n",
    "# Pista: las correlaciones se calculan con el método corr()\n",
    "# Recuerda: las correlaciones miden entre dos variables, si varío una, cuánto me varía la otra (cómo están de relacionadas)"
   ]
  },
  {
   "cell_type": "code",
   "execution_count": 47,
   "metadata": {},
   "outputs": [
    {
     "data": {
      "application/vnd.microsoft.datawrangler.viewer.v0+json": {
       "columns": [
        {
         "name": "index",
         "rawType": "object",
         "type": "string"
        },
        {
         "name": "HP",
         "rawType": "float64",
         "type": "float"
        },
        {
         "name": "Attack",
         "rawType": "float64",
         "type": "float"
        },
        {
         "name": "Defense",
         "rawType": "float64",
         "type": "float"
        },
        {
         "name": "Sp. Atk",
         "rawType": "float64",
         "type": "float"
        },
        {
         "name": "Sp. Def",
         "rawType": "float64",
         "type": "float"
        },
        {
         "name": "Speed",
         "rawType": "float64",
         "type": "float"
        },
        {
         "name": "Stage",
         "rawType": "float64",
         "type": "float"
        },
        {
         "name": "Legendary",
         "rawType": "float64",
         "type": "float"
        }
       ],
       "conversionMethod": "pd.DataFrame",
       "ref": "d6ddf53c-74c9-442b-afdc-8e4c993fd503",
       "rows": [
        [
         "HP",
         "1.0",
         "0.3067682863058986",
         "0.11978224311596322",
         "0.23664859219772524",
         "0.49097792315819505",
         "-0.04093895419696984",
         "0.24920744471441328",
         "0.17244108370968256"
        ],
        [
         "Attack",
         "0.3067682863058986",
         "1.0",
         "0.49196546026664245",
         "0.14631222952920597",
         "0.3690688159004182",
         "0.19470094249222097",
         "0.3613213720416266",
         "0.14748559730165847"
        ],
        [
         "Defense",
         "0.11978224311596322",
         "0.49196546026664245",
         "1.0",
         "0.18756910061633092",
         "0.1399122615364243",
         "-0.0532522662955018",
         "0.2708610226360892",
         "0.14157572924517534"
        ],
        [
         "Sp. Atk",
         "0.23664859219772524",
         "0.14631222952920597",
         "0.18756910061633092",
         "1.0",
         "0.5229066753542297",
         "0.41151590860732506",
         "0.39171193048196756",
         "0.334159141595228"
        ],
        [
         "Sp. Def",
         "0.49097792315819505",
         "0.3690688159004182",
         "0.1399122615364243",
         "0.5229066753542297",
         "1.0",
         "0.3926563559033713",
         "0.3583080589888005",
         "0.21531415735295925"
        ],
        [
         "Speed",
         "-0.04093895419696984",
         "0.19470094249222097",
         "-0.0532522662955018",
         "0.41151590860732506",
         "0.3926563559033713",
         "1.0",
         "0.24004221377403057",
         "0.19996853736838552"
        ],
        [
         "Stage",
         "0.24920744471441328",
         "0.3613213720416266",
         "0.2708610226360892",
         "0.39171193048196756",
         "0.3583080589888005",
         "0.24004221377403057",
         "1.0",
         "-0.14250792577458632"
        ],
        [
         "Legendary",
         "0.17244108370968256",
         "0.14748559730165847",
         "0.14157572924517534",
         "0.334159141595228",
         "0.21531415735295925",
         "0.19996853736838552",
         "-0.14250792577458632",
         "1.0"
        ]
       ],
       "shape": {
        "columns": 8,
        "rows": 8
       }
      },
      "text/html": [
       "<div>\n",
       "<style scoped>\n",
       "    .dataframe tbody tr th:only-of-type {\n",
       "        vertical-align: middle;\n",
       "    }\n",
       "\n",
       "    .dataframe tbody tr th {\n",
       "        vertical-align: top;\n",
       "    }\n",
       "\n",
       "    .dataframe thead th {\n",
       "        text-align: right;\n",
       "    }\n",
       "</style>\n",
       "<table border=\"1\" class=\"dataframe\">\n",
       "  <thead>\n",
       "    <tr style=\"text-align: right;\">\n",
       "      <th></th>\n",
       "      <th>HP</th>\n",
       "      <th>Attack</th>\n",
       "      <th>Defense</th>\n",
       "      <th>Sp. Atk</th>\n",
       "      <th>Sp. Def</th>\n",
       "      <th>Speed</th>\n",
       "      <th>Stage</th>\n",
       "      <th>Legendary</th>\n",
       "    </tr>\n",
       "  </thead>\n",
       "  <tbody>\n",
       "    <tr>\n",
       "      <th>HP</th>\n",
       "      <td>1.000000</td>\n",
       "      <td>0.306768</td>\n",
       "      <td>0.119782</td>\n",
       "      <td>0.236649</td>\n",
       "      <td>0.490978</td>\n",
       "      <td>-0.040939</td>\n",
       "      <td>0.249207</td>\n",
       "      <td>0.172441</td>\n",
       "    </tr>\n",
       "    <tr>\n",
       "      <th>Attack</th>\n",
       "      <td>0.306768</td>\n",
       "      <td>1.000000</td>\n",
       "      <td>0.491965</td>\n",
       "      <td>0.146312</td>\n",
       "      <td>0.369069</td>\n",
       "      <td>0.194701</td>\n",
       "      <td>0.361321</td>\n",
       "      <td>0.147486</td>\n",
       "    </tr>\n",
       "    <tr>\n",
       "      <th>Defense</th>\n",
       "      <td>0.119782</td>\n",
       "      <td>0.491965</td>\n",
       "      <td>1.000000</td>\n",
       "      <td>0.187569</td>\n",
       "      <td>0.139912</td>\n",
       "      <td>-0.053252</td>\n",
       "      <td>0.270861</td>\n",
       "      <td>0.141576</td>\n",
       "    </tr>\n",
       "    <tr>\n",
       "      <th>Sp. Atk</th>\n",
       "      <td>0.236649</td>\n",
       "      <td>0.146312</td>\n",
       "      <td>0.187569</td>\n",
       "      <td>1.000000</td>\n",
       "      <td>0.522907</td>\n",
       "      <td>0.411516</td>\n",
       "      <td>0.391712</td>\n",
       "      <td>0.334159</td>\n",
       "    </tr>\n",
       "    <tr>\n",
       "      <th>Sp. Def</th>\n",
       "      <td>0.490978</td>\n",
       "      <td>0.369069</td>\n",
       "      <td>0.139912</td>\n",
       "      <td>0.522907</td>\n",
       "      <td>1.000000</td>\n",
       "      <td>0.392656</td>\n",
       "      <td>0.358308</td>\n",
       "      <td>0.215314</td>\n",
       "    </tr>\n",
       "    <tr>\n",
       "      <th>Speed</th>\n",
       "      <td>-0.040939</td>\n",
       "      <td>0.194701</td>\n",
       "      <td>-0.053252</td>\n",
       "      <td>0.411516</td>\n",
       "      <td>0.392656</td>\n",
       "      <td>1.000000</td>\n",
       "      <td>0.240042</td>\n",
       "      <td>0.199969</td>\n",
       "    </tr>\n",
       "    <tr>\n",
       "      <th>Stage</th>\n",
       "      <td>0.249207</td>\n",
       "      <td>0.361321</td>\n",
       "      <td>0.270861</td>\n",
       "      <td>0.391712</td>\n",
       "      <td>0.358308</td>\n",
       "      <td>0.240042</td>\n",
       "      <td>1.000000</td>\n",
       "      <td>-0.142508</td>\n",
       "    </tr>\n",
       "    <tr>\n",
       "      <th>Legendary</th>\n",
       "      <td>0.172441</td>\n",
       "      <td>0.147486</td>\n",
       "      <td>0.141576</td>\n",
       "      <td>0.334159</td>\n",
       "      <td>0.215314</td>\n",
       "      <td>0.199969</td>\n",
       "      <td>-0.142508</td>\n",
       "      <td>1.000000</td>\n",
       "    </tr>\n",
       "  </tbody>\n",
       "</table>\n",
       "</div>"
      ],
      "text/plain": [
       "                 HP    Attack   Defense   Sp. Atk   Sp. Def     Speed  \\\n",
       "HP         1.000000  0.306768  0.119782  0.236649  0.490978 -0.040939   \n",
       "Attack     0.306768  1.000000  0.491965  0.146312  0.369069  0.194701   \n",
       "Defense    0.119782  0.491965  1.000000  0.187569  0.139912 -0.053252   \n",
       "Sp. Atk    0.236649  0.146312  0.187569  1.000000  0.522907  0.411516   \n",
       "Sp. Def    0.490978  0.369069  0.139912  0.522907  1.000000  0.392656   \n",
       "Speed     -0.040939  0.194701 -0.053252  0.411516  0.392656  1.000000   \n",
       "Stage      0.249207  0.361321  0.270861  0.391712  0.358308  0.240042   \n",
       "Legendary  0.172441  0.147486  0.141576  0.334159  0.215314  0.199969   \n",
       "\n",
       "              Stage  Legendary  \n",
       "HP         0.249207   0.172441  \n",
       "Attack     0.361321   0.147486  \n",
       "Defense    0.270861   0.141576  \n",
       "Sp. Atk    0.391712   0.334159  \n",
       "Sp. Def    0.358308   0.215314  \n",
       "Speed      0.240042   0.199969  \n",
       "Stage      1.000000  -0.142508  \n",
       "Legendary -0.142508   1.000000  "
      ]
     },
     "execution_count": 47,
     "metadata": {},
     "output_type": "execute_result"
    }
   ],
   "source": [
    "num_poke = pokemon.columns[4:12]\n",
    "pokemon[num_poke].corr()"
   ]
  },
  {
   "cell_type": "code",
   "execution_count": 48,
   "metadata": {},
   "outputs": [
    {
     "data": {
      "text/plain": [
       "<Axes: >"
      ]
     },
     "execution_count": 48,
     "metadata": {},
     "output_type": "execute_result"
    },
    {
     "data": {
      "image/png": "[encoded data removed]",
      "text/plain": [
       "<Figure size 1000x1000 with 2 Axes>"
      ]
     },
     "metadata": {},
     "output_type": "display_data"
    }
   ],
   "source": [
    "plt.figure(figsize=(10,10))\n",
    "sns.heatmap(pokemon[num_poke].corr(),\n",
    "            vmin=-1,\n",
    "            vmax=1,\n",
    "            cmap=sns.diverging_palette(145, 280, s=85, l=25, n=7),\n",
    "            square=True,\n",
    "            linewidths=.1,\n",
    "            annot=True)"
   ]
  },
  {
   "cell_type": "code",
   "execution_count": null,
   "metadata": {},
   "outputs": [],
   "source": [
    "# ¿la correlación entre qué valores se encuentra? \n",
    "# La correlación se encuentra entre -0.053 y 1\n",
    "# la autocorrelación es la correlación de una variable consigo misma, ¿qué aprecias?\n",
    "# Se aprecia que siempre el dato se autocorrelaciona consigo mismo\n",
    "# Encuentra dos variables que veas que están fuertemente relacionadas según la correlación\n",
    "# Sp. Atk y Sp. Def tienen una correlación ligeramente superior a 0,5\n",
    "# Si tuvieras una matriz de correlación muy grande y te cobrasen por cada dato que lees, ¿qué harías? (ML)"
   ]
  },
  {
   "cell_type": "code",
   "execution_count": 50,
   "metadata": {},
   "outputs": [],
   "source": [
    "# 24. Pinta el histograma y la densidad de probabilidad del nivel de defensa usando el DataFrame original"
   ]
  },
  {
   "cell_type": "code",
   "execution_count": 51,
   "metadata": {},
   "outputs": [
    {
     "data": {
      "text/plain": [
       "<Axes: xlabel='Defense', ylabel='Count'>"
      ]
     },
     "execution_count": 51,
     "metadata": {},
     "output_type": "execute_result"
    },
    {
     "data": {
      "image/png": "[encoded data removed]",
      "text/plain": [
       "<Figure size 1000x500 with 1 Axes>"
      ]
     },
     "metadata": {},
     "output_type": "display_data"
    }
   ],
   "source": [
    "plt.figure(figsize=(10,5))\n",
    "sns.histplot(pokemon[\"Defense\"], \n",
    "             kde=True,\n",
    "             line_kws={\"color\": \"k\", \"lw\": 3, \"label\": \"KDE\"},\n",
    "             color=\"g\", edgecolor=\"g\", linewidth=3, alpha=0.5)\n"
   ]
  },
  {
   "cell_type": "code",
   "execution_count": 52,
   "metadata": {},
   "outputs": [],
   "source": [
    "# 25. Pinta un diagrama de barras de la columna 'Type 1' usando el DataFrame original\n",
    "# Usa un sns.countplot\n",
    "# Usa plt.xticks y gira las etiquetas"
   ]
  },
  {
   "cell_type": "code",
   "execution_count": 53,
   "metadata": {},
   "outputs": [
    {
     "data": {
      "text/plain": [
       "([0, 1, 2, 3, 4, 5, 6, 7, 8, 9, 10, 11, 12, 13, 14],\n",
       " [Text(0, 0, 'Grass'),\n",
       "  Text(1, 0, 'Fire'),\n",
       "  Text(2, 0, 'Water'),\n",
       "  Text(3, 0, 'Bug'),\n",
       "  Text(4, 0, 'Normal'),\n",
       "  Text(5, 0, 'Poison'),\n",
       "  Text(6, 0, 'Electric'),\n",
       "  Text(7, 0, 'Ground'),\n",
       "  Text(8, 0, 'Fairy'),\n",
       "  Text(9, 0, 'Fighting'),\n",
       "  Text(10, 0, 'Psychic'),\n",
       "  Text(11, 0, 'Rock'),\n",
       "  Text(12, 0, 'Ghost'),\n",
       "  Text(13, 0, 'Ice'),\n",
       "  Text(14, 0, 'Dragon')])"
      ]
     },
     "execution_count": 53,
     "metadata": {},
     "output_type": "execute_result"
    },
    {
     "data": {
      "image/png": "[encoded data removed]",
      "text/plain": [
       "<Figure size 1000x600 with 1 Axes>"
      ]
     },
     "metadata": {},
     "output_type": "display_data"
    }
   ],
   "source": [
    "plt.figure(figsize=(10,6))\n",
    "sns.countplot(pokemon, x=\"Type 1\")\n",
    "plt.xticks(rotation = 90)"
   ]
  },
  {
   "cell_type": "code",
   "execution_count": 75,
   "metadata": {},
   "outputs": [],
   "source": [
    "# 26. Usa catplot con el DataFrame original. Muestra el valor de Defense según el 'Type 1', muestra un subplot para legendarios y otro para no legendarios\n",
    "# y divide los colores según el Type 2"
   ]
  },
  {
   "cell_type": "code",
   "execution_count": 76,
   "metadata": {},
   "outputs": [
    {
     "data": {
      "text/plain": [
       "<seaborn.axisgrid.FacetGrid at 0x179847db3d0>"
      ]
     },
     "execution_count": 76,
     "metadata": {},
     "output_type": "execute_result"
    },
    {
     "data": {
      "text/plain": [
       "<Figure size 1000x1000 with 0 Axes>"
      ]
     },
     "metadata": {},
     "output_type": "display_data"
    },
    {
     "data": {
      "image/png": "[encoded data removed]",
      "text/plain": [
       "<Figure size 1099.5x500 with 2 Axes>"
      ]
     },
     "metadata": {},
     "output_type": "display_data"
    }
   ],
   "source": [
    "plt.figure(figsize=(10,10))\n",
    "catplo = sns.catplot(x=\"Type 1\",\n",
    "            y=\"Defense\",\n",
    "            hue=\"Type 2\",\n",
    "            col=\"Legendary\",\n",
    "            data=pokemon)\n",
    "catplo.set_xticklabels(rotation=45)"
   ]
  },
  {
   "cell_type": "code",
   "execution_count": 56,
   "metadata": {},
   "outputs": [],
   "source": [
    "# 27. Muestra una función distribución de probabilidad con kdeplot (curvas de nivel) de la defensa respecto al ataque.\n",
    "# Di un bin 2D donde caigan muchos puntos (ataque, defensa)."
   ]
  },
  {
   "cell_type": "code",
   "execution_count": null,
   "metadata": {},
   "outputs": [
    {
     "data": {
      "image/png": "[encoded data removed]",
      "text/plain": [
       "<Figure size 800x600 with 1 Axes>"
      ]
     },
     "metadata": {},
     "output_type": "display_data"
    }
   ],
   "source": [
    "plt.figure(figsize=(8,6))\n",
    "\n",
    "sns.kdeplot(\n",
    "    data=pokemon, \n",
    "    x=\"Attack\", \n",
    "    y=\"Defense\", \n",
    "    fill=False, \n",
    "    cmap=\"Blues\", \n",
    "    thresh=0.05  \n",
    ")\n",
    "\n",
    "plt.title(\"Distribución de Probabilidad: Defensa vs Ataque\")\n",
    "plt.xlabel(\"Ataque\")\n",
    "plt.ylabel(\"Defensa\")\n",
    "\n",
    "plt.show()\n",
    "\n",
    "# Se podría seleccionar el bin 2D de intervalos x(50,75) e y(50,100)\n"
   ]
  },
  {
   "cell_type": "code",
   "execution_count": 58,
   "metadata": {},
   "outputs": [],
   "source": [
    "# 28. Pinta una distribución de probabilidad conjunta con jointplot, pintando la defensa respecto al ataque del DataFrame original"
   ]
  },
  {
   "cell_type": "code",
   "execution_count": 59,
   "metadata": {},
   "outputs": [
    {
     "data": {
      "text/plain": [
       "<seaborn.axisgrid.JointGrid at 0x17980a5c6d0>"
      ]
     },
     "execution_count": 59,
     "metadata": {},
     "output_type": "execute_result"
    },
    {
     "data": {
      "image/png": "[encoded data removed]",
      "text/plain": [
       "<Figure size 600x600 with 3 Axes>"
      ]
     },
     "metadata": {},
     "output_type": "display_data"
    }
   ],
   "source": [
    "sns.jointplot(x=pokemon[\"Attack\"],\n",
    "              y=pokemon[\"Defense\"],\n",
    "              color=\"#F08030\",\n",
    "             height = 6)"
   ]
  }
 ],
 "metadata": {
  "kernelspec": {
   "display_name": "Python 3",
   "language": "python",
   "name": "python3"
  },
  "language_info": {
   "codemirror_mode": {
    "name": "ipython",
    "version": 3
   },
   "file_extension": ".py",
   "mimetype": "text/x-python",
   "name": "python",
   "nbconvert_exporter": "python",
   "pygments_lexer": "ipython3",
   "version": "3.11.9"
  }
 },
 "nbformat": 4,
 "nbformat_minor": 4
}
