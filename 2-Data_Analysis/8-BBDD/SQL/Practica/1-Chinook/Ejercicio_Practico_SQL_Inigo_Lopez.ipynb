{
 "cells": [
  {
   "cell_type": "code",
   "execution_count": 53,
   "metadata": {},
   "outputs": [],
   "source": [
    "import pandas as pd\n",
    "import sqlite3"
   ]
  },
  {
   "cell_type": "code",
   "execution_count": 54,
   "metadata": {},
   "outputs": [],
   "source": [
    "connection = sqlite3.connect(\"data/chinook.db\")\n",
    "crsr = connection.cursor()"
   ]
  },
  {
   "cell_type": "code",
   "execution_count": 55,
   "metadata": {},
   "outputs": [],
   "source": [
    "# Con esta función leemos los datos y lo pasamos a un DataFrame de Pandas\n",
    "def sql_query(query):\n",
    "\n",
    "    # Ejecuta la query\n",
    "    crsr.execute(query)\n",
    "\n",
    "    # Almacena los datos de la query \n",
    "    ans = crsr.fetchall()\n",
    "\n",
    "    # Obtenemos los nombres de las columnas de la tabla\n",
    "    names = [description[0] for description in crsr.description]\n",
    "\n",
    "    return pd.DataFrame(ans,columns=names)"
   ]
  },
  {
   "cell_type": "code",
   "execution_count": 56,
   "metadata": {},
   "outputs": [
    {
     "data": {
      "application/vnd.microsoft.datawrangler.viewer.v0+json": {
       "columns": [
        {
         "name": "index",
         "rawType": "int64",
         "type": "integer"
        },
        {
         "name": "FirstName",
         "rawType": "object",
         "type": "string"
        },
        {
         "name": "LastName",
         "rawType": "object",
         "type": "string"
        },
        {
         "name": "Country",
         "rawType": "object",
         "type": "string"
        }
       ],
       "conversionMethod": "pd.DataFrame",
       "ref": "2c421c35-015f-4a33-bcb2-f24c9e7ee330",
       "rows": [
        [
         "0",
         "Luís",
         "Gonçalves",
         "Brazil"
        ],
        [
         "1",
         "Eduardo",
         "Martins",
         "Brazil"
        ],
        [
         "2",
         "Alexandre",
         "Rocha",
         "Brazil"
        ],
        [
         "3",
         "Roberto",
         "Almeida",
         "Brazil"
        ],
        [
         "4",
         "Fernanda",
         "Ramos",
         "Brazil"
        ]
       ],
       "shape": {
        "columns": 3,
        "rows": 5
       }
      },
      "text/html": [
       "<div>\n",
       "<style scoped>\n",
       "    .dataframe tbody tr th:only-of-type {\n",
       "        vertical-align: middle;\n",
       "    }\n",
       "\n",
       "    .dataframe tbody tr th {\n",
       "        vertical-align: top;\n",
       "    }\n",
       "\n",
       "    .dataframe thead th {\n",
       "        text-align: right;\n",
       "    }\n",
       "</style>\n",
       "<table border=\"1\" class=\"dataframe\">\n",
       "  <thead>\n",
       "    <tr style=\"text-align: right;\">\n",
       "      <th></th>\n",
       "      <th>FirstName</th>\n",
       "      <th>LastName</th>\n",
       "      <th>Country</th>\n",
       "    </tr>\n",
       "  </thead>\n",
       "  <tbody>\n",
       "    <tr>\n",
       "      <th>0</th>\n",
       "      <td>Luís</td>\n",
       "      <td>Gonçalves</td>\n",
       "      <td>Brazil</td>\n",
       "    </tr>\n",
       "    <tr>\n",
       "      <th>1</th>\n",
       "      <td>Eduardo</td>\n",
       "      <td>Martins</td>\n",
       "      <td>Brazil</td>\n",
       "    </tr>\n",
       "    <tr>\n",
       "      <th>2</th>\n",
       "      <td>Alexandre</td>\n",
       "      <td>Rocha</td>\n",
       "      <td>Brazil</td>\n",
       "    </tr>\n",
       "    <tr>\n",
       "      <th>3</th>\n",
       "      <td>Roberto</td>\n",
       "      <td>Almeida</td>\n",
       "      <td>Brazil</td>\n",
       "    </tr>\n",
       "    <tr>\n",
       "      <th>4</th>\n",
       "      <td>Fernanda</td>\n",
       "      <td>Ramos</td>\n",
       "      <td>Brazil</td>\n",
       "    </tr>\n",
       "  </tbody>\n",
       "</table>\n",
       "</div>"
      ],
      "text/plain": [
       "   FirstName   LastName Country\n",
       "0       Luís  Gonçalves  Brazil\n",
       "1    Eduardo    Martins  Brazil\n",
       "2  Alexandre      Rocha  Brazil\n",
       "3    Roberto    Almeida  Brazil\n",
       "4   Fernanda      Ramos  Brazil"
      ]
     },
     "execution_count": 56,
     "metadata": {},
     "output_type": "execute_result"
    }
   ],
   "source": [
    "query = '''\n",
    "SELECT c.FirstName,c.LastName,c.Country\n",
    "FROM customers as c\n",
    "WHERE c.Country  = \"Brazil\" \n",
    "'''\n",
    "\n",
    "df = sql_query(query)\n",
    "df"
   ]
  },
  {
   "cell_type": "code",
   "execution_count": 57,
   "metadata": {},
   "outputs": [
    {
     "data": {
      "application/vnd.microsoft.datawrangler.viewer.v0+json": {
       "columns": [
        {
         "name": "index",
         "rawType": "int64",
         "type": "integer"
        },
        {
         "name": "FirstName",
         "rawType": "object",
         "type": "string"
        },
        {
         "name": "LastName",
         "rawType": "object",
         "type": "string"
        },
        {
         "name": "Title",
         "rawType": "object",
         "type": "string"
        }
       ],
       "conversionMethod": "pd.DataFrame",
       "ref": "ee44afd6-9bcc-49da-a328-d73f984b9157",
       "rows": [
        [
         "0",
         "Jane",
         "Peacock",
         "Sales Support Agent"
        ],
        [
         "1",
         "Margaret",
         "Park",
         "Sales Support Agent"
        ],
        [
         "2",
         "Steve",
         "Johnson",
         "Sales Support Agent"
        ]
       ],
       "shape": {
        "columns": 3,
        "rows": 3
       }
      },
      "text/html": [
       "<div>\n",
       "<style scoped>\n",
       "    .dataframe tbody tr th:only-of-type {\n",
       "        vertical-align: middle;\n",
       "    }\n",
       "\n",
       "    .dataframe tbody tr th {\n",
       "        vertical-align: top;\n",
       "    }\n",
       "\n",
       "    .dataframe thead th {\n",
       "        text-align: right;\n",
       "    }\n",
       "</style>\n",
       "<table border=\"1\" class=\"dataframe\">\n",
       "  <thead>\n",
       "    <tr style=\"text-align: right;\">\n",
       "      <th></th>\n",
       "      <th>FirstName</th>\n",
       "      <th>LastName</th>\n",
       "      <th>Title</th>\n",
       "    </tr>\n",
       "  </thead>\n",
       "  <tbody>\n",
       "    <tr>\n",
       "      <th>0</th>\n",
       "      <td>Jane</td>\n",
       "      <td>Peacock</td>\n",
       "      <td>Sales Support Agent</td>\n",
       "    </tr>\n",
       "    <tr>\n",
       "      <th>1</th>\n",
       "      <td>Margaret</td>\n",
       "      <td>Park</td>\n",
       "      <td>Sales Support Agent</td>\n",
       "    </tr>\n",
       "    <tr>\n",
       "      <th>2</th>\n",
       "      <td>Steve</td>\n",
       "      <td>Johnson</td>\n",
       "      <td>Sales Support Agent</td>\n",
       "    </tr>\n",
       "  </tbody>\n",
       "</table>\n",
       "</div>"
      ],
      "text/plain": [
       "  FirstName LastName                Title\n",
       "0      Jane  Peacock  Sales Support Agent\n",
       "1  Margaret     Park  Sales Support Agent\n",
       "2     Steve  Johnson  Sales Support Agent"
      ]
     },
     "execution_count": 57,
     "metadata": {},
     "output_type": "execute_result"
    }
   ],
   "source": [
    "query = '''\n",
    "SELECT e.FirstName,e.LastName,e.Title\n",
    "FROM employees as e\n",
    "WHERE e.Title  = \"Sales Support Agent\" \n",
    "'''\n",
    "\n",
    "df = sql_query(query)\n",
    "df"
   ]
  },
  {
   "cell_type": "code",
   "execution_count": 58,
   "metadata": {},
   "outputs": [
    {
     "data": {
      "application/vnd.microsoft.datawrangler.viewer.v0+json": {
       "columns": [
        {
         "name": "index",
         "rawType": "int64",
         "type": "integer"
        },
        {
         "name": "Name",
         "rawType": "object",
         "type": "string"
        },
        {
         "name": "Composer",
         "rawType": "object",
         "type": "string"
        }
       ],
       "conversionMethod": "pd.DataFrame",
       "ref": "840f7e62-f151-44cd-a127-28a6864d645c",
       "rows": [
        [
         "0",
         "Go Down",
         "AC/DC"
        ],
        [
         "1",
         "Dog Eat Dog",
         "AC/DC"
        ],
        [
         "2",
         "Let There Be Rock",
         "AC/DC"
        ],
        [
         "3",
         "Bad Boy Boogie",
         "AC/DC"
        ],
        [
         "4",
         "Problem Child",
         "AC/DC"
        ],
        [
         "5",
         "Overdose",
         "AC/DC"
        ],
        [
         "6",
         "Hell Ain't A Bad Place To Be",
         "AC/DC"
        ],
        [
         "7",
         "Whole Lotta Rosie",
         "AC/DC"
        ]
       ],
       "shape": {
        "columns": 2,
        "rows": 8
       }
      },
      "text/html": [
       "<div>\n",
       "<style scoped>\n",
       "    .dataframe tbody tr th:only-of-type {\n",
       "        vertical-align: middle;\n",
       "    }\n",
       "\n",
       "    .dataframe tbody tr th {\n",
       "        vertical-align: top;\n",
       "    }\n",
       "\n",
       "    .dataframe thead th {\n",
       "        text-align: right;\n",
       "    }\n",
       "</style>\n",
       "<table border=\"1\" class=\"dataframe\">\n",
       "  <thead>\n",
       "    <tr style=\"text-align: right;\">\n",
       "      <th></th>\n",
       "      <th>Name</th>\n",
       "      <th>Composer</th>\n",
       "    </tr>\n",
       "  </thead>\n",
       "  <tbody>\n",
       "    <tr>\n",
       "      <th>0</th>\n",
       "      <td>Go Down</td>\n",
       "      <td>AC/DC</td>\n",
       "    </tr>\n",
       "    <tr>\n",
       "      <th>1</th>\n",
       "      <td>Dog Eat Dog</td>\n",
       "      <td>AC/DC</td>\n",
       "    </tr>\n",
       "    <tr>\n",
       "      <th>2</th>\n",
       "      <td>Let There Be Rock</td>\n",
       "      <td>AC/DC</td>\n",
       "    </tr>\n",
       "    <tr>\n",
       "      <th>3</th>\n",
       "      <td>Bad Boy Boogie</td>\n",
       "      <td>AC/DC</td>\n",
       "    </tr>\n",
       "    <tr>\n",
       "      <th>4</th>\n",
       "      <td>Problem Child</td>\n",
       "      <td>AC/DC</td>\n",
       "    </tr>\n",
       "    <tr>\n",
       "      <th>5</th>\n",
       "      <td>Overdose</td>\n",
       "      <td>AC/DC</td>\n",
       "    </tr>\n",
       "    <tr>\n",
       "      <th>6</th>\n",
       "      <td>Hell Ain't A Bad Place To Be</td>\n",
       "      <td>AC/DC</td>\n",
       "    </tr>\n",
       "    <tr>\n",
       "      <th>7</th>\n",
       "      <td>Whole Lotta Rosie</td>\n",
       "      <td>AC/DC</td>\n",
       "    </tr>\n",
       "  </tbody>\n",
       "</table>\n",
       "</div>"
      ],
      "text/plain": [
       "                           Name Composer\n",
       "0                       Go Down    AC/DC\n",
       "1                   Dog Eat Dog    AC/DC\n",
       "2             Let There Be Rock    AC/DC\n",
       "3                Bad Boy Boogie    AC/DC\n",
       "4                 Problem Child    AC/DC\n",
       "5                      Overdose    AC/DC\n",
       "6  Hell Ain't A Bad Place To Be    AC/DC\n",
       "7             Whole Lotta Rosie    AC/DC"
      ]
     },
     "execution_count": 58,
     "metadata": {},
     "output_type": "execute_result"
    }
   ],
   "source": [
    "query = '''\n",
    "SELECT t.Name,t.Composer\n",
    "FROM tracks as t\n",
    "WHERE t.Composer  = \"AC/DC\" \n",
    "'''\n",
    "\n",
    "df = sql_query(query)\n",
    "df"
   ]
  },
  {
   "cell_type": "code",
   "execution_count": 59,
   "metadata": {},
   "outputs": [
    {
     "data": {
      "application/vnd.microsoft.datawrangler.viewer.v0+json": {
       "columns": [
        {
         "name": "index",
         "rawType": "int64",
         "type": "integer"
        },
        {
         "name": "FirstName",
         "rawType": "object",
         "type": "string"
        },
        {
         "name": "LastName",
         "rawType": "object",
         "type": "string"
        },
        {
         "name": "Country",
         "rawType": "object",
         "type": "string"
        },
        {
         "name": "CustomerId",
         "rawType": "int64",
         "type": "integer"
        }
       ],
       "conversionMethod": "pd.DataFrame",
       "ref": "3593e131-0fe6-4f51-bc8f-cd3f0f808dd3",
       "rows": [
        [
         "0",
         "Luís",
         "Gonçalves",
         "Brazil",
         "1"
        ],
        [
         "1",
         "Leonie",
         "Köhler",
         "Germany",
         "2"
        ],
        [
         "2",
         "François",
         "Tremblay",
         "Canada",
         "3"
        ],
        [
         "3",
         "Bjørn",
         "Hansen",
         "Norway",
         "4"
        ],
        [
         "4",
         "František",
         "Wichterlová",
         "Czech Republic",
         "5"
        ],
        [
         "5",
         "Helena",
         "Holý",
         "Czech Republic",
         "6"
        ],
        [
         "6",
         "Astrid",
         "Gruber",
         "Austria",
         "7"
        ],
        [
         "7",
         "Daan",
         "Peeters",
         "Belgium",
         "8"
        ],
        [
         "8",
         "Kara",
         "Nielsen",
         "Denmark",
         "9"
        ],
        [
         "9",
         "Eduardo",
         "Martins",
         "Brazil",
         "10"
        ],
        [
         "10",
         "Alexandre",
         "Rocha",
         "Brazil",
         "11"
        ],
        [
         "11",
         "Roberto",
         "Almeida",
         "Brazil",
         "12"
        ],
        [
         "12",
         "Fernanda",
         "Ramos",
         "Brazil",
         "13"
        ],
        [
         "13",
         "Mark",
         "Philips",
         "Canada",
         "14"
        ],
        [
         "14",
         "Jennifer",
         "Peterson",
         "Canada",
         "15"
        ],
        [
         "15",
         "Robert",
         "Brown",
         "Canada",
         "29"
        ],
        [
         "16",
         "Edward",
         "Francis",
         "Canada",
         "30"
        ],
        [
         "17",
         "Martha",
         "Silk",
         "Canada",
         "31"
        ],
        [
         "18",
         "Aaron",
         "Mitchell",
         "Canada",
         "32"
        ],
        [
         "19",
         "Ellie",
         "Sullivan",
         "Canada",
         "33"
        ],
        [
         "20",
         "João",
         "Fernandes",
         "Portugal",
         "34"
        ],
        [
         "21",
         "Madalena",
         "Sampaio",
         "Portugal",
         "35"
        ],
        [
         "22",
         "Hannah",
         "Schneider",
         "Germany",
         "36"
        ],
        [
         "23",
         "Fynn",
         "Zimmermann",
         "Germany",
         "37"
        ],
        [
         "24",
         "Niklas",
         "Schröder",
         "Germany",
         "38"
        ],
        [
         "25",
         "Camille",
         "Bernard",
         "France",
         "39"
        ],
        [
         "26",
         "Dominique",
         "Lefebvre",
         "France",
         "40"
        ],
        [
         "27",
         "Marc",
         "Dubois",
         "France",
         "41"
        ],
        [
         "28",
         "Wyatt",
         "Girard",
         "France",
         "42"
        ],
        [
         "29",
         "Isabelle",
         "Mercier",
         "France",
         "43"
        ],
        [
         "30",
         "Terhi",
         "Hämäläinen",
         "Finland",
         "44"
        ],
        [
         "31",
         "Ladislav",
         "Kovács",
         "Hungary",
         "45"
        ],
        [
         "32",
         "Hugh",
         "O'Reilly",
         "Ireland",
         "46"
        ],
        [
         "33",
         "Lucas",
         "Mancini",
         "Italy",
         "47"
        ],
        [
         "34",
         "Johannes",
         "Van der Berg",
         "Netherlands",
         "48"
        ],
        [
         "35",
         "Stanisław",
         "Wójcik",
         "Poland",
         "49"
        ],
        [
         "36",
         "Enrique",
         "Muñoz",
         "Spain",
         "50"
        ],
        [
         "37",
         "Joakim",
         "Johansson",
         "Sweden",
         "51"
        ],
        [
         "38",
         "Emma",
         "Jones",
         "United Kingdom",
         "52"
        ],
        [
         "39",
         "Phil",
         "Hughes",
         "United Kingdom",
         "53"
        ],
        [
         "40",
         "Steve",
         "Murray",
         "United Kingdom",
         "54"
        ],
        [
         "41",
         "Mark",
         "Taylor",
         "Australia",
         "55"
        ],
        [
         "42",
         "Diego",
         "Gutiérrez",
         "Argentina",
         "56"
        ],
        [
         "43",
         "Luis",
         "Rojas",
         "Chile",
         "57"
        ],
        [
         "44",
         "Manoj",
         "Pareek",
         "India",
         "58"
        ],
        [
         "45",
         "Puja",
         "Srivastava",
         "India",
         "59"
        ]
       ],
       "shape": {
        "columns": 4,
        "rows": 46
       }
      },
      "text/html": [
       "<div>\n",
       "<style scoped>\n",
       "    .dataframe tbody tr th:only-of-type {\n",
       "        vertical-align: middle;\n",
       "    }\n",
       "\n",
       "    .dataframe tbody tr th {\n",
       "        vertical-align: top;\n",
       "    }\n",
       "\n",
       "    .dataframe thead th {\n",
       "        text-align: right;\n",
       "    }\n",
       "</style>\n",
       "<table border=\"1\" class=\"dataframe\">\n",
       "  <thead>\n",
       "    <tr style=\"text-align: right;\">\n",
       "      <th></th>\n",
       "      <th>FirstName</th>\n",
       "      <th>LastName</th>\n",
       "      <th>Country</th>\n",
       "      <th>CustomerId</th>\n",
       "    </tr>\n",
       "  </thead>\n",
       "  <tbody>\n",
       "    <tr>\n",
       "      <th>0</th>\n",
       "      <td>Luís</td>\n",
       "      <td>Gonçalves</td>\n",
       "      <td>Brazil</td>\n",
       "      <td>1</td>\n",
       "    </tr>\n",
       "    <tr>\n",
       "      <th>1</th>\n",
       "      <td>Leonie</td>\n",
       "      <td>Köhler</td>\n",
       "      <td>Germany</td>\n",
       "      <td>2</td>\n",
       "    </tr>\n",
       "    <tr>\n",
       "      <th>2</th>\n",
       "      <td>François</td>\n",
       "      <td>Tremblay</td>\n",
       "      <td>Canada</td>\n",
       "      <td>3</td>\n",
       "    </tr>\n",
       "    <tr>\n",
       "      <th>3</th>\n",
       "      <td>Bjørn</td>\n",
       "      <td>Hansen</td>\n",
       "      <td>Norway</td>\n",
       "      <td>4</td>\n",
       "    </tr>\n",
       "    <tr>\n",
       "      <th>4</th>\n",
       "      <td>František</td>\n",
       "      <td>Wichterlová</td>\n",
       "      <td>Czech Republic</td>\n",
       "      <td>5</td>\n",
       "    </tr>\n",
       "    <tr>\n",
       "      <th>5</th>\n",
       "      <td>Helena</td>\n",
       "      <td>Holý</td>\n",
       "      <td>Czech Republic</td>\n",
       "      <td>6</td>\n",
       "    </tr>\n",
       "    <tr>\n",
       "      <th>6</th>\n",
       "      <td>Astrid</td>\n",
       "      <td>Gruber</td>\n",
       "      <td>Austria</td>\n",
       "      <td>7</td>\n",
       "    </tr>\n",
       "    <tr>\n",
       "      <th>7</th>\n",
       "      <td>Daan</td>\n",
       "      <td>Peeters</td>\n",
       "      <td>Belgium</td>\n",
       "      <td>8</td>\n",
       "    </tr>\n",
       "    <tr>\n",
       "      <th>8</th>\n",
       "      <td>Kara</td>\n",
       "      <td>Nielsen</td>\n",
       "      <td>Denmark</td>\n",
       "      <td>9</td>\n",
       "    </tr>\n",
       "    <tr>\n",
       "      <th>9</th>\n",
       "      <td>Eduardo</td>\n",
       "      <td>Martins</td>\n",
       "      <td>Brazil</td>\n",
       "      <td>10</td>\n",
       "    </tr>\n",
       "    <tr>\n",
       "      <th>10</th>\n",
       "      <td>Alexandre</td>\n",
       "      <td>Rocha</td>\n",
       "      <td>Brazil</td>\n",
       "      <td>11</td>\n",
       "    </tr>\n",
       "    <tr>\n",
       "      <th>11</th>\n",
       "      <td>Roberto</td>\n",
       "      <td>Almeida</td>\n",
       "      <td>Brazil</td>\n",
       "      <td>12</td>\n",
       "    </tr>\n",
       "    <tr>\n",
       "      <th>12</th>\n",
       "      <td>Fernanda</td>\n",
       "      <td>Ramos</td>\n",
       "      <td>Brazil</td>\n",
       "      <td>13</td>\n",
       "    </tr>\n",
       "    <tr>\n",
       "      <th>13</th>\n",
       "      <td>Mark</td>\n",
       "      <td>Philips</td>\n",
       "      <td>Canada</td>\n",
       "      <td>14</td>\n",
       "    </tr>\n",
       "    <tr>\n",
       "      <th>14</th>\n",
       "      <td>Jennifer</td>\n",
       "      <td>Peterson</td>\n",
       "      <td>Canada</td>\n",
       "      <td>15</td>\n",
       "    </tr>\n",
       "    <tr>\n",
       "      <th>15</th>\n",
       "      <td>Robert</td>\n",
       "      <td>Brown</td>\n",
       "      <td>Canada</td>\n",
       "      <td>29</td>\n",
       "    </tr>\n",
       "    <tr>\n",
       "      <th>16</th>\n",
       "      <td>Edward</td>\n",
       "      <td>Francis</td>\n",
       "      <td>Canada</td>\n",
       "      <td>30</td>\n",
       "    </tr>\n",
       "    <tr>\n",
       "      <th>17</th>\n",
       "      <td>Martha</td>\n",
       "      <td>Silk</td>\n",
       "      <td>Canada</td>\n",
       "      <td>31</td>\n",
       "    </tr>\n",
       "    <tr>\n",
       "      <th>18</th>\n",
       "      <td>Aaron</td>\n",
       "      <td>Mitchell</td>\n",
       "      <td>Canada</td>\n",
       "      <td>32</td>\n",
       "    </tr>\n",
       "    <tr>\n",
       "      <th>19</th>\n",
       "      <td>Ellie</td>\n",
       "      <td>Sullivan</td>\n",
       "      <td>Canada</td>\n",
       "      <td>33</td>\n",
       "    </tr>\n",
       "    <tr>\n",
       "      <th>20</th>\n",
       "      <td>João</td>\n",
       "      <td>Fernandes</td>\n",
       "      <td>Portugal</td>\n",
       "      <td>34</td>\n",
       "    </tr>\n",
       "    <tr>\n",
       "      <th>21</th>\n",
       "      <td>Madalena</td>\n",
       "      <td>Sampaio</td>\n",
       "      <td>Portugal</td>\n",
       "      <td>35</td>\n",
       "    </tr>\n",
       "    <tr>\n",
       "      <th>22</th>\n",
       "      <td>Hannah</td>\n",
       "      <td>Schneider</td>\n",
       "      <td>Germany</td>\n",
       "      <td>36</td>\n",
       "    </tr>\n",
       "    <tr>\n",
       "      <th>23</th>\n",
       "      <td>Fynn</td>\n",
       "      <td>Zimmermann</td>\n",
       "      <td>Germany</td>\n",
       "      <td>37</td>\n",
       "    </tr>\n",
       "    <tr>\n",
       "      <th>24</th>\n",
       "      <td>Niklas</td>\n",
       "      <td>Schröder</td>\n",
       "      <td>Germany</td>\n",
       "      <td>38</td>\n",
       "    </tr>\n",
       "    <tr>\n",
       "      <th>25</th>\n",
       "      <td>Camille</td>\n",
       "      <td>Bernard</td>\n",
       "      <td>France</td>\n",
       "      <td>39</td>\n",
       "    </tr>\n",
       "    <tr>\n",
       "      <th>26</th>\n",
       "      <td>Dominique</td>\n",
       "      <td>Lefebvre</td>\n",
       "      <td>France</td>\n",
       "      <td>40</td>\n",
       "    </tr>\n",
       "    <tr>\n",
       "      <th>27</th>\n",
       "      <td>Marc</td>\n",
       "      <td>Dubois</td>\n",
       "      <td>France</td>\n",
       "      <td>41</td>\n",
       "    </tr>\n",
       "    <tr>\n",
       "      <th>28</th>\n",
       "      <td>Wyatt</td>\n",
       "      <td>Girard</td>\n",
       "      <td>France</td>\n",
       "      <td>42</td>\n",
       "    </tr>\n",
       "    <tr>\n",
       "      <th>29</th>\n",
       "      <td>Isabelle</td>\n",
       "      <td>Mercier</td>\n",
       "      <td>France</td>\n",
       "      <td>43</td>\n",
       "    </tr>\n",
       "    <tr>\n",
       "      <th>30</th>\n",
       "      <td>Terhi</td>\n",
       "      <td>Hämäläinen</td>\n",
       "      <td>Finland</td>\n",
       "      <td>44</td>\n",
       "    </tr>\n",
       "    <tr>\n",
       "      <th>31</th>\n",
       "      <td>Ladislav</td>\n",
       "      <td>Kovács</td>\n",
       "      <td>Hungary</td>\n",
       "      <td>45</td>\n",
       "    </tr>\n",
       "    <tr>\n",
       "      <th>32</th>\n",
       "      <td>Hugh</td>\n",
       "      <td>O'Reilly</td>\n",
       "      <td>Ireland</td>\n",
       "      <td>46</td>\n",
       "    </tr>\n",
       "    <tr>\n",
       "      <th>33</th>\n",
       "      <td>Lucas</td>\n",
       "      <td>Mancini</td>\n",
       "      <td>Italy</td>\n",
       "      <td>47</td>\n",
       "    </tr>\n",
       "    <tr>\n",
       "      <th>34</th>\n",
       "      <td>Johannes</td>\n",
       "      <td>Van der Berg</td>\n",
       "      <td>Netherlands</td>\n",
       "      <td>48</td>\n",
       "    </tr>\n",
       "    <tr>\n",
       "      <th>35</th>\n",
       "      <td>Stanisław</td>\n",
       "      <td>Wójcik</td>\n",
       "      <td>Poland</td>\n",
       "      <td>49</td>\n",
       "    </tr>\n",
       "    <tr>\n",
       "      <th>36</th>\n",
       "      <td>Enrique</td>\n",
       "      <td>Muñoz</td>\n",
       "      <td>Spain</td>\n",
       "      <td>50</td>\n",
       "    </tr>\n",
       "    <tr>\n",
       "      <th>37</th>\n",
       "      <td>Joakim</td>\n",
       "      <td>Johansson</td>\n",
       "      <td>Sweden</td>\n",
       "      <td>51</td>\n",
       "    </tr>\n",
       "    <tr>\n",
       "      <th>38</th>\n",
       "      <td>Emma</td>\n",
       "      <td>Jones</td>\n",
       "      <td>United Kingdom</td>\n",
       "      <td>52</td>\n",
       "    </tr>\n",
       "    <tr>\n",
       "      <th>39</th>\n",
       "      <td>Phil</td>\n",
       "      <td>Hughes</td>\n",
       "      <td>United Kingdom</td>\n",
       "      <td>53</td>\n",
       "    </tr>\n",
       "    <tr>\n",
       "      <th>40</th>\n",
       "      <td>Steve</td>\n",
       "      <td>Murray</td>\n",
       "      <td>United Kingdom</td>\n",
       "      <td>54</td>\n",
       "    </tr>\n",
       "    <tr>\n",
       "      <th>41</th>\n",
       "      <td>Mark</td>\n",
       "      <td>Taylor</td>\n",
       "      <td>Australia</td>\n",
       "      <td>55</td>\n",
       "    </tr>\n",
       "    <tr>\n",
       "      <th>42</th>\n",
       "      <td>Diego</td>\n",
       "      <td>Gutiérrez</td>\n",
       "      <td>Argentina</td>\n",
       "      <td>56</td>\n",
       "    </tr>\n",
       "    <tr>\n",
       "      <th>43</th>\n",
       "      <td>Luis</td>\n",
       "      <td>Rojas</td>\n",
       "      <td>Chile</td>\n",
       "      <td>57</td>\n",
       "    </tr>\n",
       "    <tr>\n",
       "      <th>44</th>\n",
       "      <td>Manoj</td>\n",
       "      <td>Pareek</td>\n",
       "      <td>India</td>\n",
       "      <td>58</td>\n",
       "    </tr>\n",
       "    <tr>\n",
       "      <th>45</th>\n",
       "      <td>Puja</td>\n",
       "      <td>Srivastava</td>\n",
       "      <td>India</td>\n",
       "      <td>59</td>\n",
       "    </tr>\n",
       "  </tbody>\n",
       "</table>\n",
       "</div>"
      ],
      "text/plain": [
       "    FirstName      LastName         Country  CustomerId\n",
       "0        Luís     Gonçalves          Brazil           1\n",
       "1      Leonie        Köhler         Germany           2\n",
       "2    François      Tremblay          Canada           3\n",
       "3       Bjørn        Hansen          Norway           4\n",
       "4   František   Wichterlová  Czech Republic           5\n",
       "5      Helena          Holý  Czech Republic           6\n",
       "6      Astrid        Gruber         Austria           7\n",
       "7        Daan       Peeters         Belgium           8\n",
       "8        Kara       Nielsen         Denmark           9\n",
       "9     Eduardo       Martins          Brazil          10\n",
       "10  Alexandre         Rocha          Brazil          11\n",
       "11    Roberto       Almeida          Brazil          12\n",
       "12   Fernanda         Ramos          Brazil          13\n",
       "13       Mark       Philips          Canada          14\n",
       "14   Jennifer      Peterson          Canada          15\n",
       "15     Robert         Brown          Canada          29\n",
       "16     Edward       Francis          Canada          30\n",
       "17     Martha          Silk          Canada          31\n",
       "18      Aaron      Mitchell          Canada          32\n",
       "19      Ellie      Sullivan          Canada          33\n",
       "20       João     Fernandes        Portugal          34\n",
       "21   Madalena       Sampaio        Portugal          35\n",
       "22     Hannah     Schneider         Germany          36\n",
       "23       Fynn    Zimmermann         Germany          37\n",
       "24     Niklas      Schröder         Germany          38\n",
       "25    Camille       Bernard          France          39\n",
       "26  Dominique      Lefebvre          France          40\n",
       "27       Marc        Dubois          France          41\n",
       "28      Wyatt        Girard          France          42\n",
       "29   Isabelle       Mercier          France          43\n",
       "30      Terhi    Hämäläinen         Finland          44\n",
       "31   Ladislav        Kovács         Hungary          45\n",
       "32       Hugh      O'Reilly         Ireland          46\n",
       "33      Lucas       Mancini           Italy          47\n",
       "34   Johannes  Van der Berg     Netherlands          48\n",
       "35  Stanisław        Wójcik          Poland          49\n",
       "36    Enrique         Muñoz           Spain          50\n",
       "37     Joakim     Johansson          Sweden          51\n",
       "38       Emma         Jones  United Kingdom          52\n",
       "39       Phil        Hughes  United Kingdom          53\n",
       "40      Steve        Murray  United Kingdom          54\n",
       "41       Mark        Taylor       Australia          55\n",
       "42      Diego     Gutiérrez       Argentina          56\n",
       "43       Luis         Rojas           Chile          57\n",
       "44      Manoj        Pareek           India          58\n",
       "45       Puja    Srivastava           India          59"
      ]
     },
     "execution_count": 59,
     "metadata": {},
     "output_type": "execute_result"
    }
   ],
   "source": [
    "query = '''\n",
    "SELECT c.FirstName,c.LastName,c.Country,c.CustomerId\n",
    "FROM customers as c\n",
    "WHERE c.Country  != \"USA\" \n",
    "'''\n",
    "\n",
    "df = sql_query(query)\n",
    "df"
   ]
  },
  {
   "cell_type": "code",
   "execution_count": 60,
   "metadata": {},
   "outputs": [
    {
     "data": {
      "application/vnd.microsoft.datawrangler.viewer.v0+json": {
       "columns": [
        {
         "name": "index",
         "rawType": "int64",
         "type": "integer"
        },
        {
         "name": "FirstName",
         "rawType": "object",
         "type": "string"
        },
        {
         "name": "LastName",
         "rawType": "object",
         "type": "string"
        },
        {
         "name": "Title",
         "rawType": "object",
         "type": "string"
        },
        {
         "name": "City",
         "rawType": "object",
         "type": "string"
        },
        {
         "name": "State",
         "rawType": "object",
         "type": "string"
        },
        {
         "name": "Country",
         "rawType": "object",
         "type": "string"
        },
        {
         "name": "Email",
         "rawType": "object",
         "type": "string"
        }
       ],
       "conversionMethod": "pd.DataFrame",
       "ref": "e2e09eec-240a-4286-aeda-e2f7de8e40c5",
       "rows": [
        [
         "0",
         "Jane",
         "Peacock",
         "Sales Support Agent",
         "Calgary",
         "AB",
         "Canada",
         "jane@chinookcorp.com"
        ],
        [
         "1",
         "Margaret",
         "Park",
         "Sales Support Agent",
         "Calgary",
         "AB",
         "Canada",
         "margaret@chinookcorp.com"
        ],
        [
         "2",
         "Steve",
         "Johnson",
         "Sales Support Agent",
         "Calgary",
         "AB",
         "Canada",
         "steve@chinookcorp.com"
        ]
       ],
       "shape": {
        "columns": 7,
        "rows": 3
       }
      },
      "text/html": [
       "<div>\n",
       "<style scoped>\n",
       "    .dataframe tbody tr th:only-of-type {\n",
       "        vertical-align: middle;\n",
       "    }\n",
       "\n",
       "    .dataframe tbody tr th {\n",
       "        vertical-align: top;\n",
       "    }\n",
       "\n",
       "    .dataframe thead th {\n",
       "        text-align: right;\n",
       "    }\n",
       "</style>\n",
       "<table border=\"1\" class=\"dataframe\">\n",
       "  <thead>\n",
       "    <tr style=\"text-align: right;\">\n",
       "      <th></th>\n",
       "      <th>FirstName</th>\n",
       "      <th>LastName</th>\n",
       "      <th>Title</th>\n",
       "      <th>City</th>\n",
       "      <th>State</th>\n",
       "      <th>Country</th>\n",
       "      <th>Email</th>\n",
       "    </tr>\n",
       "  </thead>\n",
       "  <tbody>\n",
       "    <tr>\n",
       "      <th>0</th>\n",
       "      <td>Jane</td>\n",
       "      <td>Peacock</td>\n",
       "      <td>Sales Support Agent</td>\n",
       "      <td>Calgary</td>\n",
       "      <td>AB</td>\n",
       "      <td>Canada</td>\n",
       "      <td>jane@chinookcorp.com</td>\n",
       "    </tr>\n",
       "    <tr>\n",
       "      <th>1</th>\n",
       "      <td>Margaret</td>\n",
       "      <td>Park</td>\n",
       "      <td>Sales Support Agent</td>\n",
       "      <td>Calgary</td>\n",
       "      <td>AB</td>\n",
       "      <td>Canada</td>\n",
       "      <td>margaret@chinookcorp.com</td>\n",
       "    </tr>\n",
       "    <tr>\n",
       "      <th>2</th>\n",
       "      <td>Steve</td>\n",
       "      <td>Johnson</td>\n",
       "      <td>Sales Support Agent</td>\n",
       "      <td>Calgary</td>\n",
       "      <td>AB</td>\n",
       "      <td>Canada</td>\n",
       "      <td>steve@chinookcorp.com</td>\n",
       "    </tr>\n",
       "  </tbody>\n",
       "</table>\n",
       "</div>"
      ],
      "text/plain": [
       "  FirstName LastName                Title     City State Country  \\\n",
       "0      Jane  Peacock  Sales Support Agent  Calgary    AB  Canada   \n",
       "1  Margaret     Park  Sales Support Agent  Calgary    AB  Canada   \n",
       "2     Steve  Johnson  Sales Support Agent  Calgary    AB  Canada   \n",
       "\n",
       "                      Email  \n",
       "0      jane@chinookcorp.com  \n",
       "1  margaret@chinookcorp.com  \n",
       "2     steve@chinookcorp.com  "
      ]
     },
     "execution_count": 60,
     "metadata": {},
     "output_type": "execute_result"
    }
   ],
   "source": [
    "query = '''\n",
    "SELECT e.FirstName,e.LastName,e.Title,e.City,e.State,e.Country,e.Email\n",
    "FROM employees as e\n",
    "WHERE e.Title  = \"Sales Support Agent\" \n",
    "'''\n",
    "\n",
    "df = sql_query(query)\n",
    "df"
   ]
  },
  {
   "cell_type": "code",
   "execution_count": 61,
   "metadata": {},
   "outputs": [
    {
     "data": {
      "application/vnd.microsoft.datawrangler.viewer.v0+json": {
       "columns": [
        {
         "name": "index",
         "rawType": "int64",
         "type": "integer"
        },
        {
         "name": "BillingCountry",
         "rawType": "object",
         "type": "string"
        }
       ],
       "conversionMethod": "pd.DataFrame",
       "ref": "8b9ceca9-0c00-4a6b-b1d5-77cedb0ce29a",
       "rows": [
        [
         "0",
         "Germany"
        ],
        [
         "1",
         "Norway"
        ],
        [
         "2",
         "Belgium"
        ],
        [
         "3",
         "Canada"
        ],
        [
         "4",
         "USA"
        ],
        [
         "5",
         "France"
        ],
        [
         "6",
         "Ireland"
        ],
        [
         "7",
         "United Kingdom"
        ],
        [
         "8",
         "Australia"
        ],
        [
         "9",
         "Chile"
        ],
        [
         "10",
         "India"
        ],
        [
         "11",
         "Brazil"
        ],
        [
         "12",
         "Portugal"
        ],
        [
         "13",
         "Netherlands"
        ],
        [
         "14",
         "Spain"
        ],
        [
         "15",
         "Sweden"
        ],
        [
         "16",
         "Czech Republic"
        ],
        [
         "17",
         "Finland"
        ],
        [
         "18",
         "Denmark"
        ],
        [
         "19",
         "Italy"
        ],
        [
         "20",
         "Poland"
        ],
        [
         "21",
         "Austria"
        ],
        [
         "22",
         "Hungary"
        ],
        [
         "23",
         "Argentina"
        ]
       ],
       "shape": {
        "columns": 1,
        "rows": 24
       }
      },
      "text/html": [
       "<div>\n",
       "<style scoped>\n",
       "    .dataframe tbody tr th:only-of-type {\n",
       "        vertical-align: middle;\n",
       "    }\n",
       "\n",
       "    .dataframe tbody tr th {\n",
       "        vertical-align: top;\n",
       "    }\n",
       "\n",
       "    .dataframe thead th {\n",
       "        text-align: right;\n",
       "    }\n",
       "</style>\n",
       "<table border=\"1\" class=\"dataframe\">\n",
       "  <thead>\n",
       "    <tr style=\"text-align: right;\">\n",
       "      <th></th>\n",
       "      <th>BillingCountry</th>\n",
       "    </tr>\n",
       "  </thead>\n",
       "  <tbody>\n",
       "    <tr>\n",
       "      <th>0</th>\n",
       "      <td>Germany</td>\n",
       "    </tr>\n",
       "    <tr>\n",
       "      <th>1</th>\n",
       "      <td>Norway</td>\n",
       "    </tr>\n",
       "    <tr>\n",
       "      <th>2</th>\n",
       "      <td>Belgium</td>\n",
       "    </tr>\n",
       "    <tr>\n",
       "      <th>3</th>\n",
       "      <td>Canada</td>\n",
       "    </tr>\n",
       "    <tr>\n",
       "      <th>4</th>\n",
       "      <td>USA</td>\n",
       "    </tr>\n",
       "    <tr>\n",
       "      <th>5</th>\n",
       "      <td>France</td>\n",
       "    </tr>\n",
       "    <tr>\n",
       "      <th>6</th>\n",
       "      <td>Ireland</td>\n",
       "    </tr>\n",
       "    <tr>\n",
       "      <th>7</th>\n",
       "      <td>United Kingdom</td>\n",
       "    </tr>\n",
       "    <tr>\n",
       "      <th>8</th>\n",
       "      <td>Australia</td>\n",
       "    </tr>\n",
       "    <tr>\n",
       "      <th>9</th>\n",
       "      <td>Chile</td>\n",
       "    </tr>\n",
       "    <tr>\n",
       "      <th>10</th>\n",
       "      <td>India</td>\n",
       "    </tr>\n",
       "    <tr>\n",
       "      <th>11</th>\n",
       "      <td>Brazil</td>\n",
       "    </tr>\n",
       "    <tr>\n",
       "      <th>12</th>\n",
       "      <td>Portugal</td>\n",
       "    </tr>\n",
       "    <tr>\n",
       "      <th>13</th>\n",
       "      <td>Netherlands</td>\n",
       "    </tr>\n",
       "    <tr>\n",
       "      <th>14</th>\n",
       "      <td>Spain</td>\n",
       "    </tr>\n",
       "    <tr>\n",
       "      <th>15</th>\n",
       "      <td>Sweden</td>\n",
       "    </tr>\n",
       "    <tr>\n",
       "      <th>16</th>\n",
       "      <td>Czech Republic</td>\n",
       "    </tr>\n",
       "    <tr>\n",
       "      <th>17</th>\n",
       "      <td>Finland</td>\n",
       "    </tr>\n",
       "    <tr>\n",
       "      <th>18</th>\n",
       "      <td>Denmark</td>\n",
       "    </tr>\n",
       "    <tr>\n",
       "      <th>19</th>\n",
       "      <td>Italy</td>\n",
       "    </tr>\n",
       "    <tr>\n",
       "      <th>20</th>\n",
       "      <td>Poland</td>\n",
       "    </tr>\n",
       "    <tr>\n",
       "      <th>21</th>\n",
       "      <td>Austria</td>\n",
       "    </tr>\n",
       "    <tr>\n",
       "      <th>22</th>\n",
       "      <td>Hungary</td>\n",
       "    </tr>\n",
       "    <tr>\n",
       "      <th>23</th>\n",
       "      <td>Argentina</td>\n",
       "    </tr>\n",
       "  </tbody>\n",
       "</table>\n",
       "</div>"
      ],
      "text/plain": [
       "    BillingCountry\n",
       "0          Germany\n",
       "1           Norway\n",
       "2          Belgium\n",
       "3           Canada\n",
       "4              USA\n",
       "5           France\n",
       "6          Ireland\n",
       "7   United Kingdom\n",
       "8        Australia\n",
       "9            Chile\n",
       "10           India\n",
       "11          Brazil\n",
       "12        Portugal\n",
       "13     Netherlands\n",
       "14           Spain\n",
       "15          Sweden\n",
       "16  Czech Republic\n",
       "17         Finland\n",
       "18         Denmark\n",
       "19           Italy\n",
       "20          Poland\n",
       "21         Austria\n",
       "22         Hungary\n",
       "23       Argentina"
      ]
     },
     "execution_count": 61,
     "metadata": {},
     "output_type": "execute_result"
    }
   ],
   "source": [
    "query = '''\n",
    "SELECT DISTINCT BillingCountry\n",
    "FROM invoices\n",
    "'''\n",
    "\n",
    "df = sql_query(query)\n",
    "df"
   ]
  },
  {
   "cell_type": "code",
   "execution_count": 62,
   "metadata": {},
   "outputs": [
    {
     "data": {
      "application/vnd.microsoft.datawrangler.viewer.v0+json": {
       "columns": [
        {
         "name": "index",
         "rawType": "int64",
         "type": "integer"
        },
        {
         "name": "State",
         "rawType": "object",
         "type": "string"
        },
        {
         "name": "TOT",
         "rawType": "int64",
         "type": "integer"
        }
       ],
       "conversionMethod": "pd.DataFrame",
       "ref": "393ea5e4-3ab3-43fe-b952-abd8aeed6cbc",
       "rows": [
        [
         "0",
         "CA",
         "3"
        ],
        [
         "1",
         "WI",
         "1"
        ],
        [
         "2",
         "WA",
         "1"
        ],
        [
         "3",
         "UT",
         "1"
        ],
        [
         "4",
         "TX",
         "1"
        ],
        [
         "5",
         "NY",
         "1"
        ],
        [
         "6",
         "NV",
         "1"
        ],
        [
         "7",
         "MA",
         "1"
        ],
        [
         "8",
         "IL",
         "1"
        ],
        [
         "9",
         "FL",
         "1"
        ],
        [
         "10",
         "AZ",
         "1"
        ]
       ],
       "shape": {
        "columns": 2,
        "rows": 11
       }
      },
      "text/html": [
       "<div>\n",
       "<style scoped>\n",
       "    .dataframe tbody tr th:only-of-type {\n",
       "        vertical-align: middle;\n",
       "    }\n",
       "\n",
       "    .dataframe tbody tr th {\n",
       "        vertical-align: top;\n",
       "    }\n",
       "\n",
       "    .dataframe thead th {\n",
       "        text-align: right;\n",
       "    }\n",
       "</style>\n",
       "<table border=\"1\" class=\"dataframe\">\n",
       "  <thead>\n",
       "    <tr style=\"text-align: right;\">\n",
       "      <th></th>\n",
       "      <th>State</th>\n",
       "      <th>TOT</th>\n",
       "    </tr>\n",
       "  </thead>\n",
       "  <tbody>\n",
       "    <tr>\n",
       "      <th>0</th>\n",
       "      <td>CA</td>\n",
       "      <td>3</td>\n",
       "    </tr>\n",
       "    <tr>\n",
       "      <th>1</th>\n",
       "      <td>WI</td>\n",
       "      <td>1</td>\n",
       "    </tr>\n",
       "    <tr>\n",
       "      <th>2</th>\n",
       "      <td>WA</td>\n",
       "      <td>1</td>\n",
       "    </tr>\n",
       "    <tr>\n",
       "      <th>3</th>\n",
       "      <td>UT</td>\n",
       "      <td>1</td>\n",
       "    </tr>\n",
       "    <tr>\n",
       "      <th>4</th>\n",
       "      <td>TX</td>\n",
       "      <td>1</td>\n",
       "    </tr>\n",
       "    <tr>\n",
       "      <th>5</th>\n",
       "      <td>NY</td>\n",
       "      <td>1</td>\n",
       "    </tr>\n",
       "    <tr>\n",
       "      <th>6</th>\n",
       "      <td>NV</td>\n",
       "      <td>1</td>\n",
       "    </tr>\n",
       "    <tr>\n",
       "      <th>7</th>\n",
       "      <td>MA</td>\n",
       "      <td>1</td>\n",
       "    </tr>\n",
       "    <tr>\n",
       "      <th>8</th>\n",
       "      <td>IL</td>\n",
       "      <td>1</td>\n",
       "    </tr>\n",
       "    <tr>\n",
       "      <th>9</th>\n",
       "      <td>FL</td>\n",
       "      <td>1</td>\n",
       "    </tr>\n",
       "    <tr>\n",
       "      <th>10</th>\n",
       "      <td>AZ</td>\n",
       "      <td>1</td>\n",
       "    </tr>\n",
       "  </tbody>\n",
       "</table>\n",
       "</div>"
      ],
      "text/plain": [
       "   State  TOT\n",
       "0     CA    3\n",
       "1     WI    1\n",
       "2     WA    1\n",
       "3     UT    1\n",
       "4     TX    1\n",
       "5     NY    1\n",
       "6     NV    1\n",
       "7     MA    1\n",
       "8     IL    1\n",
       "9     FL    1\n",
       "10    AZ    1"
      ]
     },
     "execution_count": 62,
     "metadata": {},
     "output_type": "execute_result"
    }
   ],
   "source": [
    "query = '''\n",
    "SELECT DISTINCT State, COUNT (customers.CustomerId) as TOT\n",
    "FROM customers\n",
    "WHERE Country = \"USA\"\n",
    "GROUP BY State \n",
    "ORDER BY TOT DESC\n",
    "'''\n",
    "\n",
    "df = sql_query(query)\n",
    "df"
   ]
  },
  {
   "cell_type": "code",
   "execution_count": 63,
   "metadata": {},
   "outputs": [
    {
     "data": {
      "application/vnd.microsoft.datawrangler.viewer.v0+json": {
       "columns": [
        {
         "name": "index",
         "rawType": "int64",
         "type": "integer"
        },
        {
         "name": "InvoiceId",
         "rawType": "int64",
         "type": "integer"
        },
        {
         "name": "Cantidad_Total",
         "rawType": "int64",
         "type": "integer"
        }
       ],
       "conversionMethod": "pd.DataFrame",
       "ref": "65ad75fc-aaaf-4a1f-9447-0553eed64823",
       "rows": [
        [
         "0",
         "37",
         "4"
        ]
       ],
       "shape": {
        "columns": 2,
        "rows": 1
       }
      },
      "text/html": [
       "<div>\n",
       "<style scoped>\n",
       "    .dataframe tbody tr th:only-of-type {\n",
       "        vertical-align: middle;\n",
       "    }\n",
       "\n",
       "    .dataframe tbody tr th {\n",
       "        vertical-align: top;\n",
       "    }\n",
       "\n",
       "    .dataframe thead th {\n",
       "        text-align: right;\n",
       "    }\n",
       "</style>\n",
       "<table border=\"1\" class=\"dataframe\">\n",
       "  <thead>\n",
       "    <tr style=\"text-align: right;\">\n",
       "      <th></th>\n",
       "      <th>InvoiceId</th>\n",
       "      <th>Cantidad_Total</th>\n",
       "    </tr>\n",
       "  </thead>\n",
       "  <tbody>\n",
       "    <tr>\n",
       "      <th>0</th>\n",
       "      <td>37</td>\n",
       "      <td>4</td>\n",
       "    </tr>\n",
       "  </tbody>\n",
       "</table>\n",
       "</div>"
      ],
      "text/plain": [
       "   InvoiceId  Cantidad_Total\n",
       "0         37               4"
      ]
     },
     "execution_count": 63,
     "metadata": {},
     "output_type": "execute_result"
    }
   ],
   "source": [
    "query = '''\n",
    "SELECT i.invoiceId,COUNT (it.Quantity) as Cantidad_Total FROM invoice_items as it\n",
    "INNER JOIN invoices as i\n",
    "ON it.InvoiceId = i.InvoiceId\n",
    "WHERE i.InvoiceId = 37\n",
    "'''\n",
    "\n",
    "df = sql_query(query)\n",
    "df"
   ]
  },
  {
   "cell_type": "code",
   "execution_count": 103,
   "metadata": {},
   "outputs": [
    {
     "data": {
      "application/vnd.microsoft.datawrangler.viewer.v0+json": {
       "columns": [
        {
         "name": "index",
         "rawType": "int64",
         "type": "integer"
        },
        {
         "name": "InvoiceId",
         "rawType": "int64",
         "type": "integer"
        },
        {
         "name": "Cantidad_Total",
         "rawType": "int64",
         "type": "integer"
        }
       ],
       "conversionMethod": "pd.DataFrame",
       "ref": "a9fc4d21-c628-4647-8936-5ddc451f8296",
       "rows": [
        [
         "0",
         "1",
         "2"
        ],
        [
         "1",
         "2",
         "4"
        ],
        [
         "2",
         "3",
         "6"
        ],
        [
         "3",
         "4",
         "9"
        ],
        [
         "4",
         "5",
         "14"
        ],
        [
         "5",
         "6",
         "1"
        ],
        [
         "6",
         "7",
         "2"
        ],
        [
         "7",
         "8",
         "2"
        ],
        [
         "8",
         "9",
         "4"
        ],
        [
         "9",
         "10",
         "6"
        ],
        [
         "10",
         "11",
         "9"
        ],
        [
         "11",
         "12",
         "14"
        ],
        [
         "12",
         "13",
         "1"
        ],
        [
         "13",
         "14",
         "2"
        ],
        [
         "14",
         "15",
         "2"
        ],
        [
         "15",
         "16",
         "4"
        ],
        [
         "16",
         "17",
         "6"
        ],
        [
         "17",
         "18",
         "9"
        ],
        [
         "18",
         "19",
         "14"
        ],
        [
         "19",
         "20",
         "1"
        ],
        [
         "20",
         "21",
         "2"
        ],
        [
         "21",
         "22",
         "2"
        ],
        [
         "22",
         "23",
         "4"
        ],
        [
         "23",
         "24",
         "6"
        ],
        [
         "24",
         "25",
         "9"
        ],
        [
         "25",
         "26",
         "14"
        ],
        [
         "26",
         "27",
         "1"
        ],
        [
         "27",
         "28",
         "2"
        ],
        [
         "28",
         "29",
         "2"
        ],
        [
         "29",
         "30",
         "4"
        ],
        [
         "30",
         "31",
         "6"
        ],
        [
         "31",
         "32",
         "9"
        ],
        [
         "32",
         "33",
         "14"
        ],
        [
         "33",
         "34",
         "1"
        ],
        [
         "34",
         "35",
         "2"
        ],
        [
         "35",
         "36",
         "2"
        ],
        [
         "36",
         "37",
         "4"
        ],
        [
         "37",
         "38",
         "6"
        ],
        [
         "38",
         "39",
         "9"
        ],
        [
         "39",
         "40",
         "14"
        ],
        [
         "40",
         "41",
         "1"
        ],
        [
         "41",
         "42",
         "2"
        ],
        [
         "42",
         "43",
         "2"
        ],
        [
         "43",
         "44",
         "4"
        ],
        [
         "44",
         "45",
         "6"
        ],
        [
         "45",
         "46",
         "9"
        ],
        [
         "46",
         "47",
         "14"
        ],
        [
         "47",
         "48",
         "1"
        ],
        [
         "48",
         "49",
         "2"
        ],
        [
         "49",
         "50",
         "2"
        ]
       ],
       "shape": {
        "columns": 2,
        "rows": 412
       }
      },
      "text/html": [
       "<div>\n",
       "<style scoped>\n",
       "    .dataframe tbody tr th:only-of-type {\n",
       "        vertical-align: middle;\n",
       "    }\n",
       "\n",
       "    .dataframe tbody tr th {\n",
       "        vertical-align: top;\n",
       "    }\n",
       "\n",
       "    .dataframe thead th {\n",
       "        text-align: right;\n",
       "    }\n",
       "</style>\n",
       "<table border=\"1\" class=\"dataframe\">\n",
       "  <thead>\n",
       "    <tr style=\"text-align: right;\">\n",
       "      <th></th>\n",
       "      <th>InvoiceId</th>\n",
       "      <th>Cantidad_Total</th>\n",
       "    </tr>\n",
       "  </thead>\n",
       "  <tbody>\n",
       "    <tr>\n",
       "      <th>0</th>\n",
       "      <td>1</td>\n",
       "      <td>2</td>\n",
       "    </tr>\n",
       "    <tr>\n",
       "      <th>1</th>\n",
       "      <td>2</td>\n",
       "      <td>4</td>\n",
       "    </tr>\n",
       "    <tr>\n",
       "      <th>2</th>\n",
       "      <td>3</td>\n",
       "      <td>6</td>\n",
       "    </tr>\n",
       "    <tr>\n",
       "      <th>3</th>\n",
       "      <td>4</td>\n",
       "      <td>9</td>\n",
       "    </tr>\n",
       "    <tr>\n",
       "      <th>4</th>\n",
       "      <td>5</td>\n",
       "      <td>14</td>\n",
       "    </tr>\n",
       "    <tr>\n",
       "      <th>...</th>\n",
       "      <td>...</td>\n",
       "      <td>...</td>\n",
       "    </tr>\n",
       "    <tr>\n",
       "      <th>407</th>\n",
       "      <td>408</td>\n",
       "      <td>4</td>\n",
       "    </tr>\n",
       "    <tr>\n",
       "      <th>408</th>\n",
       "      <td>409</td>\n",
       "      <td>6</td>\n",
       "    </tr>\n",
       "    <tr>\n",
       "      <th>409</th>\n",
       "      <td>410</td>\n",
       "      <td>9</td>\n",
       "    </tr>\n",
       "    <tr>\n",
       "      <th>410</th>\n",
       "      <td>411</td>\n",
       "      <td>14</td>\n",
       "    </tr>\n",
       "    <tr>\n",
       "      <th>411</th>\n",
       "      <td>412</td>\n",
       "      <td>1</td>\n",
       "    </tr>\n",
       "  </tbody>\n",
       "</table>\n",
       "<p>412 rows × 2 columns</p>\n",
       "</div>"
      ],
      "text/plain": [
       "     InvoiceId  Cantidad_Total\n",
       "0            1               2\n",
       "1            2               4\n",
       "2            3               6\n",
       "3            4               9\n",
       "4            5              14\n",
       "..         ...             ...\n",
       "407        408               4\n",
       "408        409               6\n",
       "409        410               9\n",
       "410        411              14\n",
       "411        412               1\n",
       "\n",
       "[412 rows x 2 columns]"
      ]
     },
     "execution_count": 103,
     "metadata": {},
     "output_type": "execute_result"
    }
   ],
   "source": [
    "query = '''\n",
    "SELECT InvoiceId, SUM(Quantity) AS Cantidad_Total\n",
    "FROM invoice_items\n",
    "GROUP BY InvoiceId;\n",
    "'''\n",
    "\n",
    "df = sql_query(query)\n",
    "df"
   ]
  },
  {
   "cell_type": "code",
   "execution_count": 102,
   "metadata": {},
   "outputs": [
    {
     "data": {
      "application/vnd.microsoft.datawrangler.viewer.v0+json": {
       "columns": [
        {
         "name": "index",
         "rawType": "int64",
         "type": "integer"
        },
        {
         "name": "Total_Facturas",
         "rawType": "int64",
         "type": "integer"
        }
       ],
       "conversionMethod": "pd.DataFrame",
       "ref": "5aefcacc-9e3f-4862-9357-8b5fa5dd5a37",
       "rows": [
        [
         "0",
         "412"
        ]
       ],
       "shape": {
        "columns": 1,
        "rows": 1
       }
      },
      "text/html": [
       "<div>\n",
       "<style scoped>\n",
       "    .dataframe tbody tr th:only-of-type {\n",
       "        vertical-align: middle;\n",
       "    }\n",
       "\n",
       "    .dataframe tbody tr th {\n",
       "        vertical-align: top;\n",
       "    }\n",
       "\n",
       "    .dataframe thead th {\n",
       "        text-align: right;\n",
       "    }\n",
       "</style>\n",
       "<table border=\"1\" class=\"dataframe\">\n",
       "  <thead>\n",
       "    <tr style=\"text-align: right;\">\n",
       "      <th></th>\n",
       "      <th>Total_Facturas</th>\n",
       "    </tr>\n",
       "  </thead>\n",
       "  <tbody>\n",
       "    <tr>\n",
       "      <th>0</th>\n",
       "      <td>412</td>\n",
       "    </tr>\n",
       "  </tbody>\n",
       "</table>\n",
       "</div>"
      ],
      "text/plain": [
       "   Total_Facturas\n",
       "0             412"
      ]
     },
     "execution_count": 102,
     "metadata": {},
     "output_type": "execute_result"
    }
   ],
   "source": [
    "query = '''\n",
    "SELECT COUNT(DISTINCT InvoiceId) AS Total_Facturas\n",
    "FROM invoice_items;\n",
    "'''\n",
    "\n",
    "df = sql_query(query)\n",
    "df"
   ]
  },
  {
   "cell_type": "code",
   "execution_count": 83,
   "metadata": {},
   "outputs": [
    {
     "data": {
      "application/vnd.microsoft.datawrangler.viewer.v0+json": {
       "columns": [
        {
         "name": "index",
         "rawType": "int64",
         "type": "integer"
        },
        {
         "name": "BillingCountry",
         "rawType": "object",
         "type": "string"
        },
        {
         "name": "COUNT (i.InvoiceId)",
         "rawType": "int64",
         "type": "integer"
        }
       ],
       "conversionMethod": "pd.DataFrame",
       "ref": "b8527c3f-6825-4b4c-bc4b-85d6d16ceba8",
       "rows": [
        [
         "0",
         "Argentina",
         "7"
        ],
        [
         "1",
         "Australia",
         "7"
        ],
        [
         "2",
         "Austria",
         "7"
        ],
        [
         "3",
         "Belgium",
         "7"
        ],
        [
         "4",
         "Brazil",
         "35"
        ],
        [
         "5",
         "Canada",
         "56"
        ],
        [
         "6",
         "Chile",
         "7"
        ],
        [
         "7",
         "Czech Republic",
         "14"
        ],
        [
         "8",
         "Denmark",
         "7"
        ],
        [
         "9",
         "Finland",
         "7"
        ],
        [
         "10",
         "France",
         "35"
        ],
        [
         "11",
         "Germany",
         "28"
        ],
        [
         "12",
         "Hungary",
         "7"
        ],
        [
         "13",
         "India",
         "13"
        ],
        [
         "14",
         "Ireland",
         "7"
        ],
        [
         "15",
         "Italy",
         "7"
        ],
        [
         "16",
         "Netherlands",
         "7"
        ],
        [
         "17",
         "Norway",
         "7"
        ],
        [
         "18",
         "Poland",
         "7"
        ],
        [
         "19",
         "Portugal",
         "14"
        ],
        [
         "20",
         "Spain",
         "7"
        ],
        [
         "21",
         "Sweden",
         "7"
        ],
        [
         "22",
         "USA",
         "91"
        ],
        [
         "23",
         "United Kingdom",
         "21"
        ]
       ],
       "shape": {
        "columns": 2,
        "rows": 24
       }
      },
      "text/html": [
       "<div>\n",
       "<style scoped>\n",
       "    .dataframe tbody tr th:only-of-type {\n",
       "        vertical-align: middle;\n",
       "    }\n",
       "\n",
       "    .dataframe tbody tr th {\n",
       "        vertical-align: top;\n",
       "    }\n",
       "\n",
       "    .dataframe thead th {\n",
       "        text-align: right;\n",
       "    }\n",
       "</style>\n",
       "<table border=\"1\" class=\"dataframe\">\n",
       "  <thead>\n",
       "    <tr style=\"text-align: right;\">\n",
       "      <th></th>\n",
       "      <th>BillingCountry</th>\n",
       "      <th>COUNT (i.InvoiceId)</th>\n",
       "    </tr>\n",
       "  </thead>\n",
       "  <tbody>\n",
       "    <tr>\n",
       "      <th>0</th>\n",
       "      <td>Argentina</td>\n",
       "      <td>7</td>\n",
       "    </tr>\n",
       "    <tr>\n",
       "      <th>1</th>\n",
       "      <td>Australia</td>\n",
       "      <td>7</td>\n",
       "    </tr>\n",
       "    <tr>\n",
       "      <th>2</th>\n",
       "      <td>Austria</td>\n",
       "      <td>7</td>\n",
       "    </tr>\n",
       "    <tr>\n",
       "      <th>3</th>\n",
       "      <td>Belgium</td>\n",
       "      <td>7</td>\n",
       "    </tr>\n",
       "    <tr>\n",
       "      <th>4</th>\n",
       "      <td>Brazil</td>\n",
       "      <td>35</td>\n",
       "    </tr>\n",
       "    <tr>\n",
       "      <th>5</th>\n",
       "      <td>Canada</td>\n",
       "      <td>56</td>\n",
       "    </tr>\n",
       "    <tr>\n",
       "      <th>6</th>\n",
       "      <td>Chile</td>\n",
       "      <td>7</td>\n",
       "    </tr>\n",
       "    <tr>\n",
       "      <th>7</th>\n",
       "      <td>Czech Republic</td>\n",
       "      <td>14</td>\n",
       "    </tr>\n",
       "    <tr>\n",
       "      <th>8</th>\n",
       "      <td>Denmark</td>\n",
       "      <td>7</td>\n",
       "    </tr>\n",
       "    <tr>\n",
       "      <th>9</th>\n",
       "      <td>Finland</td>\n",
       "      <td>7</td>\n",
       "    </tr>\n",
       "    <tr>\n",
       "      <th>10</th>\n",
       "      <td>France</td>\n",
       "      <td>35</td>\n",
       "    </tr>\n",
       "    <tr>\n",
       "      <th>11</th>\n",
       "      <td>Germany</td>\n",
       "      <td>28</td>\n",
       "    </tr>\n",
       "    <tr>\n",
       "      <th>12</th>\n",
       "      <td>Hungary</td>\n",
       "      <td>7</td>\n",
       "    </tr>\n",
       "    <tr>\n",
       "      <th>13</th>\n",
       "      <td>India</td>\n",
       "      <td>13</td>\n",
       "    </tr>\n",
       "    <tr>\n",
       "      <th>14</th>\n",
       "      <td>Ireland</td>\n",
       "      <td>7</td>\n",
       "    </tr>\n",
       "    <tr>\n",
       "      <th>15</th>\n",
       "      <td>Italy</td>\n",
       "      <td>7</td>\n",
       "    </tr>\n",
       "    <tr>\n",
       "      <th>16</th>\n",
       "      <td>Netherlands</td>\n",
       "      <td>7</td>\n",
       "    </tr>\n",
       "    <tr>\n",
       "      <th>17</th>\n",
       "      <td>Norway</td>\n",
       "      <td>7</td>\n",
       "    </tr>\n",
       "    <tr>\n",
       "      <th>18</th>\n",
       "      <td>Poland</td>\n",
       "      <td>7</td>\n",
       "    </tr>\n",
       "    <tr>\n",
       "      <th>19</th>\n",
       "      <td>Portugal</td>\n",
       "      <td>14</td>\n",
       "    </tr>\n",
       "    <tr>\n",
       "      <th>20</th>\n",
       "      <td>Spain</td>\n",
       "      <td>7</td>\n",
       "    </tr>\n",
       "    <tr>\n",
       "      <th>21</th>\n",
       "      <td>Sweden</td>\n",
       "      <td>7</td>\n",
       "    </tr>\n",
       "    <tr>\n",
       "      <th>22</th>\n",
       "      <td>USA</td>\n",
       "      <td>91</td>\n",
       "    </tr>\n",
       "    <tr>\n",
       "      <th>23</th>\n",
       "      <td>United Kingdom</td>\n",
       "      <td>21</td>\n",
       "    </tr>\n",
       "  </tbody>\n",
       "</table>\n",
       "</div>"
      ],
      "text/plain": [
       "    BillingCountry  COUNT (i.InvoiceId)\n",
       "0        Argentina                    7\n",
       "1        Australia                    7\n",
       "2          Austria                    7\n",
       "3          Belgium                    7\n",
       "4           Brazil                   35\n",
       "5           Canada                   56\n",
       "6            Chile                    7\n",
       "7   Czech Republic                   14\n",
       "8          Denmark                    7\n",
       "9          Finland                    7\n",
       "10          France                   35\n",
       "11         Germany                   28\n",
       "12         Hungary                    7\n",
       "13           India                   13\n",
       "14         Ireland                    7\n",
       "15           Italy                    7\n",
       "16     Netherlands                    7\n",
       "17          Norway                    7\n",
       "18          Poland                    7\n",
       "19        Portugal                   14\n",
       "20           Spain                    7\n",
       "21          Sweden                    7\n",
       "22             USA                   91\n",
       "23  United Kingdom                   21"
      ]
     },
     "execution_count": 83,
     "metadata": {},
     "output_type": "execute_result"
    }
   ],
   "source": [
    "query = '''\n",
    "SELECT i.BillingCountry, COUNT (i.InvoiceId) FROM invoices as i\n",
    "GROUP BY i.BillingCountry\n",
    "'''\n",
    "\n",
    "df = sql_query(query)\n",
    "df"
   ]
  },
  {
   "cell_type": "code",
   "execution_count": 129,
   "metadata": {},
   "outputs": [
    {
     "data": {
      "application/vnd.microsoft.datawrangler.viewer.v0+json": {
       "columns": [
        {
         "name": "index",
         "rawType": "int64",
         "type": "integer"
        },
        {
         "name": "Año",
         "rawType": "object",
         "type": "string"
        },
        {
         "name": "TOT",
         "rawType": "int64",
         "type": "integer"
        }
       ],
       "conversionMethod": "pd.DataFrame",
       "ref": "d502b179-9fb6-4446-afb4-8e81b72f4649",
       "rows": [
        [
         "0",
         "2009",
         "83"
        ],
        [
         "1",
         "2011",
         "83"
        ]
       ],
       "shape": {
        "columns": 2,
        "rows": 2
       }
      },
      "text/html": [
       "<div>\n",
       "<style scoped>\n",
       "    .dataframe tbody tr th:only-of-type {\n",
       "        vertical-align: middle;\n",
       "    }\n",
       "\n",
       "    .dataframe tbody tr th {\n",
       "        vertical-align: top;\n",
       "    }\n",
       "\n",
       "    .dataframe thead th {\n",
       "        text-align: right;\n",
       "    }\n",
       "</style>\n",
       "<table border=\"1\" class=\"dataframe\">\n",
       "  <thead>\n",
       "    <tr style=\"text-align: right;\">\n",
       "      <th></th>\n",
       "      <th>Año</th>\n",
       "      <th>TOT</th>\n",
       "    </tr>\n",
       "  </thead>\n",
       "  <tbody>\n",
       "    <tr>\n",
       "      <th>0</th>\n",
       "      <td>2009</td>\n",
       "      <td>83</td>\n",
       "    </tr>\n",
       "    <tr>\n",
       "      <th>1</th>\n",
       "      <td>2011</td>\n",
       "      <td>83</td>\n",
       "    </tr>\n",
       "  </tbody>\n",
       "</table>\n",
       "</div>"
      ],
      "text/plain": [
       "    Año  TOT\n",
       "0  2009   83\n",
       "1  2011   83"
      ]
     },
     "execution_count": 129,
     "metadata": {},
     "output_type": "execute_result"
    }
   ],
   "source": [
    "query = '''\n",
    "SELECT strftime(\"%Y\",InvoiceDate) AS Año,COUNT (InvoiceId) as TOT\n",
    "FROM invoices\n",
    "WHERE Año = \"2009\" or Año = \"2011\"\n",
    "GROUP BY Año\n",
    "'''\n",
    "\n",
    "df = sql_query(query)\n",
    "df"
   ]
  },
  {
   "cell_type": "code",
   "execution_count": 131,
   "metadata": {},
   "outputs": [
    {
     "data": {
      "application/vnd.microsoft.datawrangler.viewer.v0+json": {
       "columns": [
        {
         "name": "index",
         "rawType": "int64",
         "type": "integer"
        },
        {
         "name": "Año",
         "rawType": "object",
         "type": "string"
        },
        {
         "name": "TOT",
         "rawType": "int64",
         "type": "integer"
        }
       ],
       "conversionMethod": "pd.DataFrame",
       "ref": "4bd79d9b-66ac-4819-8be6-eeff2b6c2959",
       "rows": [
        [
         "0",
         "2009",
         "83"
        ],
        [
         "1",
         "2010",
         "83"
        ],
        [
         "2",
         "2011",
         "83"
        ]
       ],
       "shape": {
        "columns": 2,
        "rows": 3
       }
      },
      "text/html": [
       "<div>\n",
       "<style scoped>\n",
       "    .dataframe tbody tr th:only-of-type {\n",
       "        vertical-align: middle;\n",
       "    }\n",
       "\n",
       "    .dataframe tbody tr th {\n",
       "        vertical-align: top;\n",
       "    }\n",
       "\n",
       "    .dataframe thead th {\n",
       "        text-align: right;\n",
       "    }\n",
       "</style>\n",
       "<table border=\"1\" class=\"dataframe\">\n",
       "  <thead>\n",
       "    <tr style=\"text-align: right;\">\n",
       "      <th></th>\n",
       "      <th>Año</th>\n",
       "      <th>TOT</th>\n",
       "    </tr>\n",
       "  </thead>\n",
       "  <tbody>\n",
       "    <tr>\n",
       "      <th>0</th>\n",
       "      <td>2009</td>\n",
       "      <td>83</td>\n",
       "    </tr>\n",
       "    <tr>\n",
       "      <th>1</th>\n",
       "      <td>2010</td>\n",
       "      <td>83</td>\n",
       "    </tr>\n",
       "    <tr>\n",
       "      <th>2</th>\n",
       "      <td>2011</td>\n",
       "      <td>83</td>\n",
       "    </tr>\n",
       "  </tbody>\n",
       "</table>\n",
       "</div>"
      ],
      "text/plain": [
       "    Año  TOT\n",
       "0  2009   83\n",
       "1  2010   83\n",
       "2  2011   83"
      ]
     },
     "execution_count": 131,
     "metadata": {},
     "output_type": "execute_result"
    }
   ],
   "source": [
    "query = '''\n",
    "SELECT strftime(\"%Y\",InvoiceDate) AS Año,COUNT (InvoiceId) as TOT\n",
    "FROM invoices\n",
    "WHERE strftime(\"%Y\", InvoiceDate) BETWEEN \"2009\" AND \"2011\"\n",
    "GROUP BY Año\n",
    "'''\n",
    "\n",
    "df = sql_query(query)\n",
    "df"
   ]
  },
  {
   "cell_type": "code",
   "execution_count": 138,
   "metadata": {},
   "outputs": [
    {
     "data": {
      "application/vnd.microsoft.datawrangler.viewer.v0+json": {
       "columns": [
        {
         "name": "index",
         "rawType": "int64",
         "type": "integer"
        },
        {
         "name": "Country",
         "rawType": "object",
         "type": "string"
        },
        {
         "name": "Clientes",
         "rawType": "int64",
         "type": "integer"
        }
       ],
       "conversionMethod": "pd.DataFrame",
       "ref": "f29f6aec-899b-4145-9691-7903ad2a240b",
       "rows": [
        [
         "0",
         "Brazil",
         "5"
        ],
        [
         "1",
         "Spain",
         "1"
        ]
       ],
       "shape": {
        "columns": 2,
        "rows": 2
       }
      },
      "text/html": [
       "<div>\n",
       "<style scoped>\n",
       "    .dataframe tbody tr th:only-of-type {\n",
       "        vertical-align: middle;\n",
       "    }\n",
       "\n",
       "    .dataframe tbody tr th {\n",
       "        vertical-align: top;\n",
       "    }\n",
       "\n",
       "    .dataframe thead th {\n",
       "        text-align: right;\n",
       "    }\n",
       "</style>\n",
       "<table border=\"1\" class=\"dataframe\">\n",
       "  <thead>\n",
       "    <tr style=\"text-align: right;\">\n",
       "      <th></th>\n",
       "      <th>Country</th>\n",
       "      <th>Clientes</th>\n",
       "    </tr>\n",
       "  </thead>\n",
       "  <tbody>\n",
       "    <tr>\n",
       "      <th>0</th>\n",
       "      <td>Brazil</td>\n",
       "      <td>5</td>\n",
       "    </tr>\n",
       "    <tr>\n",
       "      <th>1</th>\n",
       "      <td>Spain</td>\n",
       "      <td>1</td>\n",
       "    </tr>\n",
       "  </tbody>\n",
       "</table>\n",
       "</div>"
      ],
      "text/plain": [
       "  Country  Clientes\n",
       "0  Brazil         5\n",
       "1   Spain         1"
      ]
     },
     "execution_count": 138,
     "metadata": {},
     "output_type": "execute_result"
    }
   ],
   "source": [
    "query = '''\n",
    "SELECT c.Country,COUNT (c.CustomerId) as Clientes FROM customers as c\n",
    "WHERE c.Country = \"Spain\" or c.Country = \"Brazil\"\n",
    "GROUP BY c.Country\n",
    "'''\n",
    "\n",
    "df = sql_query(query)\n",
    "df"
   ]
  },
  {
   "cell_type": "code",
   "execution_count": 143,
   "metadata": {},
   "outputs": [
    {
     "data": {
      "application/vnd.microsoft.datawrangler.viewer.v0+json": {
       "columns": [
        {
         "name": "index",
         "rawType": "int64",
         "type": "integer"
        },
        {
         "name": "TrackId",
         "rawType": "int64",
         "type": "integer"
        },
        {
         "name": "Name",
         "rawType": "object",
         "type": "string"
        },
        {
         "name": "AlbumId",
         "rawType": "int64",
         "type": "integer"
        },
        {
         "name": "MediaTypeId",
         "rawType": "int64",
         "type": "integer"
        },
        {
         "name": "GenreId",
         "rawType": "int64",
         "type": "integer"
        },
        {
         "name": "Composer",
         "rawType": "object",
         "type": "unknown"
        },
        {
         "name": "Milliseconds",
         "rawType": "int64",
         "type": "integer"
        },
        {
         "name": "Bytes",
         "rawType": "int64",
         "type": "integer"
        },
        {
         "name": "UnitPrice",
         "rawType": "float64",
         "type": "float"
        }
       ],
       "conversionMethod": "pd.DataFrame",
       "ref": "dbaf4eb3-c0ab-4dbd-a5f9-7be6d88dae1d",
       "rows": [
        [
         "0",
         "39",
         "You Oughta Know",
         "6",
         "1",
         "1",
         "Alanis Morissette & Glenn Ballard",
         "249234",
         "8196916",
         "0.99"
        ],
        [
         "1",
         "44",
         "You Learn",
         "6",
         "1",
         "1",
         "Alanis Morissette & Glenn Ballard",
         "239699",
         "7824837",
         "0.99"
        ],
        [
         "2",
         "50",
         "You Oughta Know (Alternate)",
         "6",
         "1",
         "1",
         "Alanis Morissette & Glenn Ballard",
         "491885",
         "16008629",
         "0.99"
        ],
        [
         "3",
         "99",
         "Your Time Has Come",
         "11",
         "1",
         "4",
         "Cornell, Commerford, Morello, Wilk",
         "255529",
         "8273592",
         "0.99"
        ],
        [
         "4",
         "337",
         "You Shook Me",
         "30",
         "1",
         "1",
         "J B Lenoir/Willie Dixon",
         "315951",
         "10249958",
         "0.99"
        ],
        [
         "5",
         "349",
         "You Shook Me(2)",
         "30",
         "1",
         "1",
         "J B Lenoir/Willie Dixon",
         "619467",
         "20138673",
         "0.99"
        ],
        [
         "6",
         "549",
         "You Fool No One",
         "43",
         "1",
         "1",
         "Coverdale/Lord/Paice",
         "804101",
         "26369966",
         "0.99"
        ],
        [
         "7",
         "623",
         "You Fool No One (Alternate Version)",
         "50",
         "1",
         "1",
         "Blackmore/Coverdale/Lord/Paice",
         "763924",
         "24887209",
         "0.99"
        ],
        [
         "8",
         "753",
         "You Keep On Moving",
         "58",
         "1",
         "1",
         "Coverdale/Hughes",
         "319111",
         "10447868",
         "0.99"
        ],
        [
         "9",
         "812",
         "You Can't Do it Right (With the One You Love)",
         "65",
         "1",
         "1",
         "D.Coverdale/G.Hughes/Glenn Hughes/R.Blackmore/Ritchie Blackmore",
         "203755",
         "6709579",
         "0.99"
        ],
        [
         "10",
         "1155",
         "You're Crazy",
         "90",
         "2",
         "1",
         null,
         "197135",
         "3301971",
         "0.99"
        ],
        [
         "11",
         "1163",
         "You Ain't the First",
         "91",
         "2",
         "1",
         null,
         "156268",
         "2754414",
         "0.99"
        ],
        [
         "12",
         "1185",
         "You Could Be Mine",
         "92",
         "1",
         "3",
         "Izzy Stradlin'/W. Axl Rose",
         "343875",
         "11207355",
         "0.99"
        ],
        [
         "13",
         "1553",
         "You've Got Another Thing Comin'",
         "125",
         "1",
         "3",
         null,
         "305162",
         "9962558",
         "0.99"
        ],
        [
         "14",
         "1620",
         "You Shook Me",
         "132",
         "1",
         "1",
         "J. B. Lenoir/Willie Dixon",
         "388179",
         "12643067",
         "0.99"
        ],
        [
         "15",
         "1622",
         "Your Time Is Gonna Come",
         "132",
         "1",
         "1",
         "Jimmy Page/John Paul Jones",
         "274860",
         "9011653",
         "0.99"
        ],
        [
         "16",
         "1776",
         "You've Been A Long Time Coming",
         "146",
         "1",
         "14",
         "Brian Holland/Eddie Holland/Lamont Dozier",
         "137221",
         "4437949",
         "0.99"
        ],
        [
         "17",
         "1778",
         "You're What's Happening (In The World Today)",
         "146",
         "1",
         "14",
         "Allen Story/George Gordy/Robert Gordy",
         "142027",
         "4631104",
         "0.99"
        ],
        [
         "18",
         "1787",
         "You Sure Love To Ball",
         "146",
         "1",
         "14",
         "Marvin Gaye",
         "218540",
         "7217872",
         "0.99"
        ],
        [
         "19",
         "2127",
         "Your Blue Room",
         "176",
         "1",
         "10",
         "Brian Eno, Bono, Adam Clayton, The Edge & Larry Mullen Jnr.",
         "328228",
         "10867860",
         "0.99"
        ],
        [
         "20",
         "2185",
         "You Are",
         "180",
         "1",
         "1",
         "Matt Cameron",
         "270863",
         "8938409",
         "0.99"
        ],
        [
         "21",
         "2259",
         "You're My Best Friend",
         "185",
         "1",
         "1",
         "Deacon, John",
         "172225",
         "5602173",
         "0.99"
        ],
        [
         "22",
         "2287",
         "You Are The Everything",
         "188",
         "1",
         "4",
         "Bill Berry-Peter Buck-Mike Mills-Michael Stipe",
         "226298",
         "7373181",
         "0.99"
        ],
        [
         "23",
         "2439",
         "You've Got It",
         "141",
         "1",
         "1",
         "Mick Hucknall and Lamont Dozier",
         "235232",
         "7712845",
         "0.99"
        ],
        [
         "24",
         "2444",
         "Your Mirror",
         "141",
         "1",
         "1",
         "Mick Hucknall",
         "240666",
         "7893821",
         "0.99"
        ],
        [
         "25",
         "2677",
         "You Got Me Rocking",
         "217",
         "1",
         "1",
         "Jagger/Richards",
         "205766",
         "6734385",
         "0.99"
        ],
        [
         "26",
         "2691",
         "You Got Me Rocking",
         "218",
         "1",
         "1",
         "Jagger/Richards",
         "215928",
         "7162159",
         "0.99"
        ],
        [
         "27",
         "2750",
         "You Better You Bet",
         "221",
         "1",
         "1",
         "Pete Townshend",
         "338520",
         "11160877",
         "0.99"
        ],
        [
         "28",
         "3083",
         "You Really Got Me",
         "244",
         "1",
         "1",
         "Ray Davies",
         "158589",
         "5194092",
         "0.99"
        ],
        [
         "29",
         "3113",
         "You Got No Right",
         "246",
         "1",
         "1",
         "Dave Kushner, Duff, Matt Sorum, Scott Weiland & Slash",
         "335412",
         "10991094",
         "0.99"
        ],
        [
         "30",
         "3141",
         "You're Gonna Break My Hart Again",
         "141",
         "1",
         "3",
         "Sykes",
         "250853",
         "8176847",
         "0.99"
        ],
        [
         "31",
         "3225",
         "Your Time Is Gonna Come",
         "252",
         "2",
         "1",
         "Page, Jones",
         "310774",
         "5126563",
         "0.99"
        ],
        [
         "32",
         "3372",
         "Your Savior",
         "269",
         "2",
         "23",
         null,
         "244226",
         "4199626",
         "0.99"
        ],
        [
         "33",
         "3384",
         "Your Soul Today",
         "270",
         "2",
         "23",
         "Chris Cornell",
         "205959",
         "3385722",
         "0.99"
        ],
        [
         "34",
         "3388",
         "You Know My Name",
         "270",
         "2",
         "23",
         "Chris Cornell",
         "240255",
         "3940651",
         "0.99"
        ],
        [
         "35",
         "3456",
         "You Know I'm No Good",
         "321",
         "2",
         "14",
         null,
         "256946",
         "4133694",
         "0.99"
        ],
        [
         "36",
         "3465",
         "You Know I'm No Good (feat. Ghostface Killah)",
         "321",
         "2",
         "14",
         null,
         "202320",
         "3260658",
         "0.99"
        ],
        [
         "37",
         "3468",
         "You Sent Me Flying / Cherry",
         "322",
         "2",
         "9",
         null,
         "409906",
         "6657517",
         "0.99"
        ]
       ],
       "shape": {
        "columns": 9,
        "rows": 38
       }
      },
      "text/html": [
       "<div>\n",
       "<style scoped>\n",
       "    .dataframe tbody tr th:only-of-type {\n",
       "        vertical-align: middle;\n",
       "    }\n",
       "\n",
       "    .dataframe tbody tr th {\n",
       "        vertical-align: top;\n",
       "    }\n",
       "\n",
       "    .dataframe thead th {\n",
       "        text-align: right;\n",
       "    }\n",
       "</style>\n",
       "<table border=\"1\" class=\"dataframe\">\n",
       "  <thead>\n",
       "    <tr style=\"text-align: right;\">\n",
       "      <th></th>\n",
       "      <th>TrackId</th>\n",
       "      <th>Name</th>\n",
       "      <th>AlbumId</th>\n",
       "      <th>MediaTypeId</th>\n",
       "      <th>GenreId</th>\n",
       "      <th>Composer</th>\n",
       "      <th>Milliseconds</th>\n",
       "      <th>Bytes</th>\n",
       "      <th>UnitPrice</th>\n",
       "    </tr>\n",
       "  </thead>\n",
       "  <tbody>\n",
       "    <tr>\n",
       "      <th>0</th>\n",
       "      <td>39</td>\n",
       "      <td>You Oughta Know</td>\n",
       "      <td>6</td>\n",
       "      <td>1</td>\n",
       "      <td>1</td>\n",
       "      <td>Alanis Morissette &amp; Glenn Ballard</td>\n",
       "      <td>249234</td>\n",
       "      <td>8196916</td>\n",
       "      <td>0.99</td>\n",
       "    </tr>\n",
       "    <tr>\n",
       "      <th>1</th>\n",
       "      <td>44</td>\n",
       "      <td>You Learn</td>\n",
       "      <td>6</td>\n",
       "      <td>1</td>\n",
       "      <td>1</td>\n",
       "      <td>Alanis Morissette &amp; Glenn Ballard</td>\n",
       "      <td>239699</td>\n",
       "      <td>7824837</td>\n",
       "      <td>0.99</td>\n",
       "    </tr>\n",
       "    <tr>\n",
       "      <th>2</th>\n",
       "      <td>50</td>\n",
       "      <td>You Oughta Know (Alternate)</td>\n",
       "      <td>6</td>\n",
       "      <td>1</td>\n",
       "      <td>1</td>\n",
       "      <td>Alanis Morissette &amp; Glenn Ballard</td>\n",
       "      <td>491885</td>\n",
       "      <td>16008629</td>\n",
       "      <td>0.99</td>\n",
       "    </tr>\n",
       "    <tr>\n",
       "      <th>3</th>\n",
       "      <td>99</td>\n",
       "      <td>Your Time Has Come</td>\n",
       "      <td>11</td>\n",
       "      <td>1</td>\n",
       "      <td>4</td>\n",
       "      <td>Cornell, Commerford, Morello, Wilk</td>\n",
       "      <td>255529</td>\n",
       "      <td>8273592</td>\n",
       "      <td>0.99</td>\n",
       "    </tr>\n",
       "    <tr>\n",
       "      <th>4</th>\n",
       "      <td>337</td>\n",
       "      <td>You Shook Me</td>\n",
       "      <td>30</td>\n",
       "      <td>1</td>\n",
       "      <td>1</td>\n",
       "      <td>J B Lenoir/Willie Dixon</td>\n",
       "      <td>315951</td>\n",
       "      <td>10249958</td>\n",
       "      <td>0.99</td>\n",
       "    </tr>\n",
       "    <tr>\n",
       "      <th>5</th>\n",
       "      <td>349</td>\n",
       "      <td>You Shook Me(2)</td>\n",
       "      <td>30</td>\n",
       "      <td>1</td>\n",
       "      <td>1</td>\n",
       "      <td>J B Lenoir/Willie Dixon</td>\n",
       "      <td>619467</td>\n",
       "      <td>20138673</td>\n",
       "      <td>0.99</td>\n",
       "    </tr>\n",
       "    <tr>\n",
       "      <th>6</th>\n",
       "      <td>549</td>\n",
       "      <td>You Fool No One</td>\n",
       "      <td>43</td>\n",
       "      <td>1</td>\n",
       "      <td>1</td>\n",
       "      <td>Coverdale/Lord/Paice</td>\n",
       "      <td>804101</td>\n",
       "      <td>26369966</td>\n",
       "      <td>0.99</td>\n",
       "    </tr>\n",
       "    <tr>\n",
       "      <th>7</th>\n",
       "      <td>623</td>\n",
       "      <td>You Fool No One (Alternate Version)</td>\n",
       "      <td>50</td>\n",
       "      <td>1</td>\n",
       "      <td>1</td>\n",
       "      <td>Blackmore/Coverdale/Lord/Paice</td>\n",
       "      <td>763924</td>\n",
       "      <td>24887209</td>\n",
       "      <td>0.99</td>\n",
       "    </tr>\n",
       "    <tr>\n",
       "      <th>8</th>\n",
       "      <td>753</td>\n",
       "      <td>You Keep On Moving</td>\n",
       "      <td>58</td>\n",
       "      <td>1</td>\n",
       "      <td>1</td>\n",
       "      <td>Coverdale/Hughes</td>\n",
       "      <td>319111</td>\n",
       "      <td>10447868</td>\n",
       "      <td>0.99</td>\n",
       "    </tr>\n",
       "    <tr>\n",
       "      <th>9</th>\n",
       "      <td>812</td>\n",
       "      <td>You Can't Do it Right (With the One You Love)</td>\n",
       "      <td>65</td>\n",
       "      <td>1</td>\n",
       "      <td>1</td>\n",
       "      <td>D.Coverdale/G.Hughes/Glenn Hughes/R.Blackmore/...</td>\n",
       "      <td>203755</td>\n",
       "      <td>6709579</td>\n",
       "      <td>0.99</td>\n",
       "    </tr>\n",
       "    <tr>\n",
       "      <th>10</th>\n",
       "      <td>1155</td>\n",
       "      <td>You're Crazy</td>\n",
       "      <td>90</td>\n",
       "      <td>2</td>\n",
       "      <td>1</td>\n",
       "      <td>None</td>\n",
       "      <td>197135</td>\n",
       "      <td>3301971</td>\n",
       "      <td>0.99</td>\n",
       "    </tr>\n",
       "    <tr>\n",
       "      <th>11</th>\n",
       "      <td>1163</td>\n",
       "      <td>You Ain't the First</td>\n",
       "      <td>91</td>\n",
       "      <td>2</td>\n",
       "      <td>1</td>\n",
       "      <td>None</td>\n",
       "      <td>156268</td>\n",
       "      <td>2754414</td>\n",
       "      <td>0.99</td>\n",
       "    </tr>\n",
       "    <tr>\n",
       "      <th>12</th>\n",
       "      <td>1185</td>\n",
       "      <td>You Could Be Mine</td>\n",
       "      <td>92</td>\n",
       "      <td>1</td>\n",
       "      <td>3</td>\n",
       "      <td>Izzy Stradlin'/W. Axl Rose</td>\n",
       "      <td>343875</td>\n",
       "      <td>11207355</td>\n",
       "      <td>0.99</td>\n",
       "    </tr>\n",
       "    <tr>\n",
       "      <th>13</th>\n",
       "      <td>1553</td>\n",
       "      <td>You've Got Another Thing Comin'</td>\n",
       "      <td>125</td>\n",
       "      <td>1</td>\n",
       "      <td>3</td>\n",
       "      <td>None</td>\n",
       "      <td>305162</td>\n",
       "      <td>9962558</td>\n",
       "      <td>0.99</td>\n",
       "    </tr>\n",
       "    <tr>\n",
       "      <th>14</th>\n",
       "      <td>1620</td>\n",
       "      <td>You Shook Me</td>\n",
       "      <td>132</td>\n",
       "      <td>1</td>\n",
       "      <td>1</td>\n",
       "      <td>J. B. Lenoir/Willie Dixon</td>\n",
       "      <td>388179</td>\n",
       "      <td>12643067</td>\n",
       "      <td>0.99</td>\n",
       "    </tr>\n",
       "    <tr>\n",
       "      <th>15</th>\n",
       "      <td>1622</td>\n",
       "      <td>Your Time Is Gonna Come</td>\n",
       "      <td>132</td>\n",
       "      <td>1</td>\n",
       "      <td>1</td>\n",
       "      <td>Jimmy Page/John Paul Jones</td>\n",
       "      <td>274860</td>\n",
       "      <td>9011653</td>\n",
       "      <td>0.99</td>\n",
       "    </tr>\n",
       "    <tr>\n",
       "      <th>16</th>\n",
       "      <td>1776</td>\n",
       "      <td>You've Been A Long Time Coming</td>\n",
       "      <td>146</td>\n",
       "      <td>1</td>\n",
       "      <td>14</td>\n",
       "      <td>Brian Holland/Eddie Holland/Lamont Dozier</td>\n",
       "      <td>137221</td>\n",
       "      <td>4437949</td>\n",
       "      <td>0.99</td>\n",
       "    </tr>\n",
       "    <tr>\n",
       "      <th>17</th>\n",
       "      <td>1778</td>\n",
       "      <td>You're What's Happening (In The World Today)</td>\n",
       "      <td>146</td>\n",
       "      <td>1</td>\n",
       "      <td>14</td>\n",
       "      <td>Allen Story/George Gordy/Robert Gordy</td>\n",
       "      <td>142027</td>\n",
       "      <td>4631104</td>\n",
       "      <td>0.99</td>\n",
       "    </tr>\n",
       "    <tr>\n",
       "      <th>18</th>\n",
       "      <td>1787</td>\n",
       "      <td>You Sure Love To Ball</td>\n",
       "      <td>146</td>\n",
       "      <td>1</td>\n",
       "      <td>14</td>\n",
       "      <td>Marvin Gaye</td>\n",
       "      <td>218540</td>\n",
       "      <td>7217872</td>\n",
       "      <td>0.99</td>\n",
       "    </tr>\n",
       "    <tr>\n",
       "      <th>19</th>\n",
       "      <td>2127</td>\n",
       "      <td>Your Blue Room</td>\n",
       "      <td>176</td>\n",
       "      <td>1</td>\n",
       "      <td>10</td>\n",
       "      <td>Brian Eno, Bono, Adam Clayton, The Edge &amp; Larr...</td>\n",
       "      <td>328228</td>\n",
       "      <td>10867860</td>\n",
       "      <td>0.99</td>\n",
       "    </tr>\n",
       "    <tr>\n",
       "      <th>20</th>\n",
       "      <td>2185</td>\n",
       "      <td>You Are</td>\n",
       "      <td>180</td>\n",
       "      <td>1</td>\n",
       "      <td>1</td>\n",
       "      <td>Matt Cameron</td>\n",
       "      <td>270863</td>\n",
       "      <td>8938409</td>\n",
       "      <td>0.99</td>\n",
       "    </tr>\n",
       "    <tr>\n",
       "      <th>21</th>\n",
       "      <td>2259</td>\n",
       "      <td>You're My Best Friend</td>\n",
       "      <td>185</td>\n",
       "      <td>1</td>\n",
       "      <td>1</td>\n",
       "      <td>Deacon, John</td>\n",
       "      <td>172225</td>\n",
       "      <td>5602173</td>\n",
       "      <td>0.99</td>\n",
       "    </tr>\n",
       "    <tr>\n",
       "      <th>22</th>\n",
       "      <td>2287</td>\n",
       "      <td>You Are The Everything</td>\n",
       "      <td>188</td>\n",
       "      <td>1</td>\n",
       "      <td>4</td>\n",
       "      <td>Bill Berry-Peter Buck-Mike Mills-Michael Stipe</td>\n",
       "      <td>226298</td>\n",
       "      <td>7373181</td>\n",
       "      <td>0.99</td>\n",
       "    </tr>\n",
       "    <tr>\n",
       "      <th>23</th>\n",
       "      <td>2439</td>\n",
       "      <td>You've Got It</td>\n",
       "      <td>141</td>\n",
       "      <td>1</td>\n",
       "      <td>1</td>\n",
       "      <td>Mick Hucknall and Lamont Dozier</td>\n",
       "      <td>235232</td>\n",
       "      <td>7712845</td>\n",
       "      <td>0.99</td>\n",
       "    </tr>\n",
       "    <tr>\n",
       "      <th>24</th>\n",
       "      <td>2444</td>\n",
       "      <td>Your Mirror</td>\n",
       "      <td>141</td>\n",
       "      <td>1</td>\n",
       "      <td>1</td>\n",
       "      <td>Mick Hucknall</td>\n",
       "      <td>240666</td>\n",
       "      <td>7893821</td>\n",
       "      <td>0.99</td>\n",
       "    </tr>\n",
       "    <tr>\n",
       "      <th>25</th>\n",
       "      <td>2677</td>\n",
       "      <td>You Got Me Rocking</td>\n",
       "      <td>217</td>\n",
       "      <td>1</td>\n",
       "      <td>1</td>\n",
       "      <td>Jagger/Richards</td>\n",
       "      <td>205766</td>\n",
       "      <td>6734385</td>\n",
       "      <td>0.99</td>\n",
       "    </tr>\n",
       "    <tr>\n",
       "      <th>26</th>\n",
       "      <td>2691</td>\n",
       "      <td>You Got Me Rocking</td>\n",
       "      <td>218</td>\n",
       "      <td>1</td>\n",
       "      <td>1</td>\n",
       "      <td>Jagger/Richards</td>\n",
       "      <td>215928</td>\n",
       "      <td>7162159</td>\n",
       "      <td>0.99</td>\n",
       "    </tr>\n",
       "    <tr>\n",
       "      <th>27</th>\n",
       "      <td>2750</td>\n",
       "      <td>You Better You Bet</td>\n",
       "      <td>221</td>\n",
       "      <td>1</td>\n",
       "      <td>1</td>\n",
       "      <td>Pete Townshend</td>\n",
       "      <td>338520</td>\n",
       "      <td>11160877</td>\n",
       "      <td>0.99</td>\n",
       "    </tr>\n",
       "    <tr>\n",
       "      <th>28</th>\n",
       "      <td>3083</td>\n",
       "      <td>You Really Got Me</td>\n",
       "      <td>244</td>\n",
       "      <td>1</td>\n",
       "      <td>1</td>\n",
       "      <td>Ray Davies</td>\n",
       "      <td>158589</td>\n",
       "      <td>5194092</td>\n",
       "      <td>0.99</td>\n",
       "    </tr>\n",
       "    <tr>\n",
       "      <th>29</th>\n",
       "      <td>3113</td>\n",
       "      <td>You Got No Right</td>\n",
       "      <td>246</td>\n",
       "      <td>1</td>\n",
       "      <td>1</td>\n",
       "      <td>Dave Kushner, Duff, Matt Sorum, Scott Weiland ...</td>\n",
       "      <td>335412</td>\n",
       "      <td>10991094</td>\n",
       "      <td>0.99</td>\n",
       "    </tr>\n",
       "    <tr>\n",
       "      <th>30</th>\n",
       "      <td>3141</td>\n",
       "      <td>You're Gonna Break My Hart Again</td>\n",
       "      <td>141</td>\n",
       "      <td>1</td>\n",
       "      <td>3</td>\n",
       "      <td>Sykes</td>\n",
       "      <td>250853</td>\n",
       "      <td>8176847</td>\n",
       "      <td>0.99</td>\n",
       "    </tr>\n",
       "    <tr>\n",
       "      <th>31</th>\n",
       "      <td>3225</td>\n",
       "      <td>Your Time Is Gonna Come</td>\n",
       "      <td>252</td>\n",
       "      <td>2</td>\n",
       "      <td>1</td>\n",
       "      <td>Page, Jones</td>\n",
       "      <td>310774</td>\n",
       "      <td>5126563</td>\n",
       "      <td>0.99</td>\n",
       "    </tr>\n",
       "    <tr>\n",
       "      <th>32</th>\n",
       "      <td>3372</td>\n",
       "      <td>Your Savior</td>\n",
       "      <td>269</td>\n",
       "      <td>2</td>\n",
       "      <td>23</td>\n",
       "      <td>None</td>\n",
       "      <td>244226</td>\n",
       "      <td>4199626</td>\n",
       "      <td>0.99</td>\n",
       "    </tr>\n",
       "    <tr>\n",
       "      <th>33</th>\n",
       "      <td>3384</td>\n",
       "      <td>Your Soul Today</td>\n",
       "      <td>270</td>\n",
       "      <td>2</td>\n",
       "      <td>23</td>\n",
       "      <td>Chris Cornell</td>\n",
       "      <td>205959</td>\n",
       "      <td>3385722</td>\n",
       "      <td>0.99</td>\n",
       "    </tr>\n",
       "    <tr>\n",
       "      <th>34</th>\n",
       "      <td>3388</td>\n",
       "      <td>You Know My Name</td>\n",
       "      <td>270</td>\n",
       "      <td>2</td>\n",
       "      <td>23</td>\n",
       "      <td>Chris Cornell</td>\n",
       "      <td>240255</td>\n",
       "      <td>3940651</td>\n",
       "      <td>0.99</td>\n",
       "    </tr>\n",
       "    <tr>\n",
       "      <th>35</th>\n",
       "      <td>3456</td>\n",
       "      <td>You Know I'm No Good</td>\n",
       "      <td>321</td>\n",
       "      <td>2</td>\n",
       "      <td>14</td>\n",
       "      <td>None</td>\n",
       "      <td>256946</td>\n",
       "      <td>4133694</td>\n",
       "      <td>0.99</td>\n",
       "    </tr>\n",
       "    <tr>\n",
       "      <th>36</th>\n",
       "      <td>3465</td>\n",
       "      <td>You Know I'm No Good (feat. Ghostface Killah)</td>\n",
       "      <td>321</td>\n",
       "      <td>2</td>\n",
       "      <td>14</td>\n",
       "      <td>None</td>\n",
       "      <td>202320</td>\n",
       "      <td>3260658</td>\n",
       "      <td>0.99</td>\n",
       "    </tr>\n",
       "    <tr>\n",
       "      <th>37</th>\n",
       "      <td>3468</td>\n",
       "      <td>You Sent Me Flying / Cherry</td>\n",
       "      <td>322</td>\n",
       "      <td>2</td>\n",
       "      <td>9</td>\n",
       "      <td>None</td>\n",
       "      <td>409906</td>\n",
       "      <td>6657517</td>\n",
       "      <td>0.99</td>\n",
       "    </tr>\n",
       "  </tbody>\n",
       "</table>\n",
       "</div>"
      ],
      "text/plain": [
       "    TrackId                                           Name  AlbumId  \\\n",
       "0        39                                You Oughta Know        6   \n",
       "1        44                                      You Learn        6   \n",
       "2        50                    You Oughta Know (Alternate)        6   \n",
       "3        99                             Your Time Has Come       11   \n",
       "4       337                                   You Shook Me       30   \n",
       "5       349                                You Shook Me(2)       30   \n",
       "6       549                                You Fool No One       43   \n",
       "7       623            You Fool No One (Alternate Version)       50   \n",
       "8       753                             You Keep On Moving       58   \n",
       "9       812  You Can't Do it Right (With the One You Love)       65   \n",
       "10     1155                                   You're Crazy       90   \n",
       "11     1163                            You Ain't the First       91   \n",
       "12     1185                              You Could Be Mine       92   \n",
       "13     1553                You've Got Another Thing Comin'      125   \n",
       "14     1620                                   You Shook Me      132   \n",
       "15     1622                        Your Time Is Gonna Come      132   \n",
       "16     1776                 You've Been A Long Time Coming      146   \n",
       "17     1778   You're What's Happening (In The World Today)      146   \n",
       "18     1787                          You Sure Love To Ball      146   \n",
       "19     2127                                 Your Blue Room      176   \n",
       "20     2185                                        You Are      180   \n",
       "21     2259                          You're My Best Friend      185   \n",
       "22     2287                         You Are The Everything      188   \n",
       "23     2439                                  You've Got It      141   \n",
       "24     2444                                    Your Mirror      141   \n",
       "25     2677                             You Got Me Rocking      217   \n",
       "26     2691                             You Got Me Rocking      218   \n",
       "27     2750                             You Better You Bet      221   \n",
       "28     3083                              You Really Got Me      244   \n",
       "29     3113                               You Got No Right      246   \n",
       "30     3141               You're Gonna Break My Hart Again      141   \n",
       "31     3225                        Your Time Is Gonna Come      252   \n",
       "32     3372                                    Your Savior      269   \n",
       "33     3384                                Your Soul Today      270   \n",
       "34     3388                               You Know My Name      270   \n",
       "35     3456                           You Know I'm No Good      321   \n",
       "36     3465  You Know I'm No Good (feat. Ghostface Killah)      321   \n",
       "37     3468                    You Sent Me Flying / Cherry      322   \n",
       "\n",
       "    MediaTypeId  GenreId                                           Composer  \\\n",
       "0             1        1                  Alanis Morissette & Glenn Ballard   \n",
       "1             1        1                  Alanis Morissette & Glenn Ballard   \n",
       "2             1        1                  Alanis Morissette & Glenn Ballard   \n",
       "3             1        4                 Cornell, Commerford, Morello, Wilk   \n",
       "4             1        1                            J B Lenoir/Willie Dixon   \n",
       "5             1        1                            J B Lenoir/Willie Dixon   \n",
       "6             1        1                               Coverdale/Lord/Paice   \n",
       "7             1        1                     Blackmore/Coverdale/Lord/Paice   \n",
       "8             1        1                                   Coverdale/Hughes   \n",
       "9             1        1  D.Coverdale/G.Hughes/Glenn Hughes/R.Blackmore/...   \n",
       "10            2        1                                               None   \n",
       "11            2        1                                               None   \n",
       "12            1        3                         Izzy Stradlin'/W. Axl Rose   \n",
       "13            1        3                                               None   \n",
       "14            1        1                          J. B. Lenoir/Willie Dixon   \n",
       "15            1        1                         Jimmy Page/John Paul Jones   \n",
       "16            1       14          Brian Holland/Eddie Holland/Lamont Dozier   \n",
       "17            1       14              Allen Story/George Gordy/Robert Gordy   \n",
       "18            1       14                                        Marvin Gaye   \n",
       "19            1       10  Brian Eno, Bono, Adam Clayton, The Edge & Larr...   \n",
       "20            1        1                                       Matt Cameron   \n",
       "21            1        1                                       Deacon, John   \n",
       "22            1        4     Bill Berry-Peter Buck-Mike Mills-Michael Stipe   \n",
       "23            1        1                    Mick Hucknall and Lamont Dozier   \n",
       "24            1        1                                      Mick Hucknall   \n",
       "25            1        1                                    Jagger/Richards   \n",
       "26            1        1                                    Jagger/Richards   \n",
       "27            1        1                                     Pete Townshend   \n",
       "28            1        1                                         Ray Davies   \n",
       "29            1        1  Dave Kushner, Duff, Matt Sorum, Scott Weiland ...   \n",
       "30            1        3                                              Sykes   \n",
       "31            2        1                                        Page, Jones   \n",
       "32            2       23                                               None   \n",
       "33            2       23                                      Chris Cornell   \n",
       "34            2       23                                      Chris Cornell   \n",
       "35            2       14                                               None   \n",
       "36            2       14                                               None   \n",
       "37            2        9                                               None   \n",
       "\n",
       "    Milliseconds     Bytes  UnitPrice  \n",
       "0         249234   8196916       0.99  \n",
       "1         239699   7824837       0.99  \n",
       "2         491885  16008629       0.99  \n",
       "3         255529   8273592       0.99  \n",
       "4         315951  10249958       0.99  \n",
       "5         619467  20138673       0.99  \n",
       "6         804101  26369966       0.99  \n",
       "7         763924  24887209       0.99  \n",
       "8         319111  10447868       0.99  \n",
       "9         203755   6709579       0.99  \n",
       "10        197135   3301971       0.99  \n",
       "11        156268   2754414       0.99  \n",
       "12        343875  11207355       0.99  \n",
       "13        305162   9962558       0.99  \n",
       "14        388179  12643067       0.99  \n",
       "15        274860   9011653       0.99  \n",
       "16        137221   4437949       0.99  \n",
       "17        142027   4631104       0.99  \n",
       "18        218540   7217872       0.99  \n",
       "19        328228  10867860       0.99  \n",
       "20        270863   8938409       0.99  \n",
       "21        172225   5602173       0.99  \n",
       "22        226298   7373181       0.99  \n",
       "23        235232   7712845       0.99  \n",
       "24        240666   7893821       0.99  \n",
       "25        205766   6734385       0.99  \n",
       "26        215928   7162159       0.99  \n",
       "27        338520  11160877       0.99  \n",
       "28        158589   5194092       0.99  \n",
       "29        335412  10991094       0.99  \n",
       "30        250853   8176847       0.99  \n",
       "31        310774   5126563       0.99  \n",
       "32        244226   4199626       0.99  \n",
       "33        205959   3385722       0.99  \n",
       "34        240255   3940651       0.99  \n",
       "35        256946   4133694       0.99  \n",
       "36        202320   3260658       0.99  \n",
       "37        409906   6657517       0.99  "
      ]
     },
     "execution_count": 143,
     "metadata": {},
     "output_type": "execute_result"
    }
   ],
   "source": [
    "query = '''\n",
    "SELECT * \n",
    "FROM tracks\n",
    "WHERE Name LIKE 'You%'\n",
    "'''\n",
    "\n",
    "sql_query(query)"
   ]
  },
  {
   "cell_type": "code",
   "execution_count": null,
   "metadata": {},
   "outputs": [],
   "source": [
    "# Segunda parte"
   ]
  },
  {
   "cell_type": "code",
   "execution_count": null,
   "metadata": {},
   "outputs": [],
   "source": [
    "# Ejercicio 1"
   ]
  },
  {
   "cell_type": "code",
   "execution_count": 144,
   "metadata": {},
   "outputs": [
    {
     "data": {
      "application/vnd.microsoft.datawrangler.viewer.v0+json": {
       "columns": [
        {
         "name": "index",
         "rawType": "int64",
         "type": "integer"
        },
        {
         "name": "BillingCountry",
         "rawType": "object",
         "type": "string"
        },
        {
         "name": "FirstName",
         "rawType": "object",
         "type": "string"
        },
        {
         "name": "LastName",
         "rawType": "object",
         "type": "string"
        },
        {
         "name": "InvoiceId",
         "rawType": "int64",
         "type": "integer"
        },
        {
         "name": "InvoiceDate",
         "rawType": "object",
         "type": "string"
        }
       ],
       "conversionMethod": "pd.DataFrame",
       "ref": "6525ab05-1ba8-4676-891b-b6295736ec6e",
       "rows": [
        [
         "0",
         "Brazil",
         "Eduardo",
         "Martins",
         "25",
         "2009-04-09 00:00:00"
        ],
        [
         "1",
         "Brazil",
         "Roberto",
         "Almeida",
         "34",
         "2009-05-23 00:00:00"
        ],
        [
         "2",
         "Brazil",
         "Fernanda",
         "Ramos",
         "35",
         "2009-06-05 00:00:00"
        ],
        [
         "3",
         "Brazil",
         "Alexandre",
         "Rocha",
         "57",
         "2009-09-06 00:00:00"
        ],
        [
         "4",
         "Brazil",
         "Fernanda",
         "Ramos",
         "58",
         "2009-09-07 00:00:00"
        ],
        [
         "5",
         "Brazil",
         "Alexandre",
         "Rocha",
         "68",
         "2009-10-17 00:00:00"
        ],
        [
         "6",
         "Brazil",
         "Fernanda",
         "Ramos",
         "80",
         "2009-12-10 00:00:00"
        ],
        [
         "7",
         "Brazil",
         "Luís",
         "Gonçalves",
         "98",
         "2010-03-11 00:00:00"
        ],
        [
         "8",
         "Brazil",
         "Luís",
         "Gonçalves",
         "121",
         "2010-06-13 00:00:00"
        ],
        [
         "9",
         "Brazil",
         "Alexandre",
         "Rocha",
         "123",
         "2010-06-17 00:00:00"
        ],
        [
         "10",
         "Brazil",
         "Fernanda",
         "Ramos",
         "132",
         "2010-07-31 00:00:00"
        ],
        [
         "11",
         "Brazil",
         "Luís",
         "Gonçalves",
         "143",
         "2010-09-15 00:00:00"
        ],
        [
         "12",
         "Brazil",
         "Eduardo",
         "Martins",
         "154",
         "2010-11-14 00:00:00"
        ],
        [
         "13",
         "Brazil",
         "Roberto",
         "Almeida",
         "155",
         "2010-11-14 00:00:00"
        ],
        [
         "14",
         "Brazil",
         "Roberto",
         "Almeida",
         "166",
         "2010-12-25 00:00:00"
        ],
        [
         "15",
         "Brazil",
         "Eduardo",
         "Martins",
         "177",
         "2011-02-16 00:00:00"
        ],
        [
         "16",
         "Brazil",
         "Luís",
         "Gonçalves",
         "195",
         "2011-05-06 00:00:00"
        ],
        [
         "17",
         "Brazil",
         "Eduardo",
         "Martins",
         "199",
         "2011-05-21 00:00:00"
        ],
        [
         "18",
         "Brazil",
         "Roberto",
         "Almeida",
         "221",
         "2011-08-25 00:00:00"
        ],
        [
         "19",
         "Brazil",
         "Eduardo",
         "Martins",
         "251",
         "2012-01-09 00:00:00"
        ],
        [
         "20",
         "Brazil",
         "Alexandre",
         "Rocha",
         "252",
         "2012-01-22 00:00:00"
        ],
        [
         "21",
         "Brazil",
         "Fernanda",
         "Ramos",
         "253",
         "2012-01-22 00:00:00"
        ],
        [
         "22",
         "Brazil",
         "Fernanda",
         "Ramos",
         "264",
         "2012-03-03 00:00:00"
        ],
        [
         "23",
         "Brazil",
         "Alexandre",
         "Rocha",
         "275",
         "2012-04-25 00:00:00"
        ],
        [
         "24",
         "Brazil",
         "Alexandre",
         "Rocha",
         "297",
         "2012-07-28 00:00:00"
        ],
        [
         "25",
         "Brazil",
         "Luís",
         "Gonçalves",
         "316",
         "2012-10-27 00:00:00"
        ],
        [
         "26",
         "Brazil",
         "Fernanda",
         "Ramos",
         "319",
         "2012-11-01 00:00:00"
        ],
        [
         "27",
         "Brazil",
         "Luís",
         "Gonçalves",
         "327",
         "2012-12-07 00:00:00"
        ],
        [
         "28",
         "Brazil",
         "Alexandre",
         "Rocha",
         "349",
         "2013-03-18 00:00:00"
        ],
        [
         "29",
         "Brazil",
         "Roberto",
         "Almeida",
         "350",
         "2013-03-31 00:00:00"
        ],
        [
         "30",
         "Brazil",
         "Eduardo",
         "Martins",
         "372",
         "2013-07-02 00:00:00"
        ],
        [
         "31",
         "Brazil",
         "Roberto",
         "Almeida",
         "373",
         "2013-07-03 00:00:00"
        ],
        [
         "32",
         "Brazil",
         "Luís",
         "Gonçalves",
         "382",
         "2013-08-07 00:00:00"
        ],
        [
         "33",
         "Brazil",
         "Eduardo",
         "Martins",
         "383",
         "2013-08-12 00:00:00"
        ],
        [
         "34",
         "Brazil",
         "Roberto",
         "Almeida",
         "395",
         "2013-10-05 00:00:00"
        ]
       ],
       "shape": {
        "columns": 5,
        "rows": 35
       }
      },
      "text/html": [
       "<div>\n",
       "<style scoped>\n",
       "    .dataframe tbody tr th:only-of-type {\n",
       "        vertical-align: middle;\n",
       "    }\n",
       "\n",
       "    .dataframe tbody tr th {\n",
       "        vertical-align: top;\n",
       "    }\n",
       "\n",
       "    .dataframe thead th {\n",
       "        text-align: right;\n",
       "    }\n",
       "</style>\n",
       "<table border=\"1\" class=\"dataframe\">\n",
       "  <thead>\n",
       "    <tr style=\"text-align: right;\">\n",
       "      <th></th>\n",
       "      <th>BillingCountry</th>\n",
       "      <th>FirstName</th>\n",
       "      <th>LastName</th>\n",
       "      <th>InvoiceId</th>\n",
       "      <th>InvoiceDate</th>\n",
       "    </tr>\n",
       "  </thead>\n",
       "  <tbody>\n",
       "    <tr>\n",
       "      <th>0</th>\n",
       "      <td>Brazil</td>\n",
       "      <td>Eduardo</td>\n",
       "      <td>Martins</td>\n",
       "      <td>25</td>\n",
       "      <td>2009-04-09 00:00:00</td>\n",
       "    </tr>\n",
       "    <tr>\n",
       "      <th>1</th>\n",
       "      <td>Brazil</td>\n",
       "      <td>Roberto</td>\n",
       "      <td>Almeida</td>\n",
       "      <td>34</td>\n",
       "      <td>2009-05-23 00:00:00</td>\n",
       "    </tr>\n",
       "    <tr>\n",
       "      <th>2</th>\n",
       "      <td>Brazil</td>\n",
       "      <td>Fernanda</td>\n",
       "      <td>Ramos</td>\n",
       "      <td>35</td>\n",
       "      <td>2009-06-05 00:00:00</td>\n",
       "    </tr>\n",
       "    <tr>\n",
       "      <th>3</th>\n",
       "      <td>Brazil</td>\n",
       "      <td>Alexandre</td>\n",
       "      <td>Rocha</td>\n",
       "      <td>57</td>\n",
       "      <td>2009-09-06 00:00:00</td>\n",
       "    </tr>\n",
       "    <tr>\n",
       "      <th>4</th>\n",
       "      <td>Brazil</td>\n",
       "      <td>Fernanda</td>\n",
       "      <td>Ramos</td>\n",
       "      <td>58</td>\n",
       "      <td>2009-09-07 00:00:00</td>\n",
       "    </tr>\n",
       "    <tr>\n",
       "      <th>5</th>\n",
       "      <td>Brazil</td>\n",
       "      <td>Alexandre</td>\n",
       "      <td>Rocha</td>\n",
       "      <td>68</td>\n",
       "      <td>2009-10-17 00:00:00</td>\n",
       "    </tr>\n",
       "    <tr>\n",
       "      <th>6</th>\n",
       "      <td>Brazil</td>\n",
       "      <td>Fernanda</td>\n",
       "      <td>Ramos</td>\n",
       "      <td>80</td>\n",
       "      <td>2009-12-10 00:00:00</td>\n",
       "    </tr>\n",
       "    <tr>\n",
       "      <th>7</th>\n",
       "      <td>Brazil</td>\n",
       "      <td>Luís</td>\n",
       "      <td>Gonçalves</td>\n",
       "      <td>98</td>\n",
       "      <td>2010-03-11 00:00:00</td>\n",
       "    </tr>\n",
       "    <tr>\n",
       "      <th>8</th>\n",
       "      <td>Brazil</td>\n",
       "      <td>Luís</td>\n",
       "      <td>Gonçalves</td>\n",
       "      <td>121</td>\n",
       "      <td>2010-06-13 00:00:00</td>\n",
       "    </tr>\n",
       "    <tr>\n",
       "      <th>9</th>\n",
       "      <td>Brazil</td>\n",
       "      <td>Alexandre</td>\n",
       "      <td>Rocha</td>\n",
       "      <td>123</td>\n",
       "      <td>2010-06-17 00:00:00</td>\n",
       "    </tr>\n",
       "    <tr>\n",
       "      <th>10</th>\n",
       "      <td>Brazil</td>\n",
       "      <td>Fernanda</td>\n",
       "      <td>Ramos</td>\n",
       "      <td>132</td>\n",
       "      <td>2010-07-31 00:00:00</td>\n",
       "    </tr>\n",
       "    <tr>\n",
       "      <th>11</th>\n",
       "      <td>Brazil</td>\n",
       "      <td>Luís</td>\n",
       "      <td>Gonçalves</td>\n",
       "      <td>143</td>\n",
       "      <td>2010-09-15 00:00:00</td>\n",
       "    </tr>\n",
       "    <tr>\n",
       "      <th>12</th>\n",
       "      <td>Brazil</td>\n",
       "      <td>Eduardo</td>\n",
       "      <td>Martins</td>\n",
       "      <td>154</td>\n",
       "      <td>2010-11-14 00:00:00</td>\n",
       "    </tr>\n",
       "    <tr>\n",
       "      <th>13</th>\n",
       "      <td>Brazil</td>\n",
       "      <td>Roberto</td>\n",
       "      <td>Almeida</td>\n",
       "      <td>155</td>\n",
       "      <td>2010-11-14 00:00:00</td>\n",
       "    </tr>\n",
       "    <tr>\n",
       "      <th>14</th>\n",
       "      <td>Brazil</td>\n",
       "      <td>Roberto</td>\n",
       "      <td>Almeida</td>\n",
       "      <td>166</td>\n",
       "      <td>2010-12-25 00:00:00</td>\n",
       "    </tr>\n",
       "    <tr>\n",
       "      <th>15</th>\n",
       "      <td>Brazil</td>\n",
       "      <td>Eduardo</td>\n",
       "      <td>Martins</td>\n",
       "      <td>177</td>\n",
       "      <td>2011-02-16 00:00:00</td>\n",
       "    </tr>\n",
       "    <tr>\n",
       "      <th>16</th>\n",
       "      <td>Brazil</td>\n",
       "      <td>Luís</td>\n",
       "      <td>Gonçalves</td>\n",
       "      <td>195</td>\n",
       "      <td>2011-05-06 00:00:00</td>\n",
       "    </tr>\n",
       "    <tr>\n",
       "      <th>17</th>\n",
       "      <td>Brazil</td>\n",
       "      <td>Eduardo</td>\n",
       "      <td>Martins</td>\n",
       "      <td>199</td>\n",
       "      <td>2011-05-21 00:00:00</td>\n",
       "    </tr>\n",
       "    <tr>\n",
       "      <th>18</th>\n",
       "      <td>Brazil</td>\n",
       "      <td>Roberto</td>\n",
       "      <td>Almeida</td>\n",
       "      <td>221</td>\n",
       "      <td>2011-08-25 00:00:00</td>\n",
       "    </tr>\n",
       "    <tr>\n",
       "      <th>19</th>\n",
       "      <td>Brazil</td>\n",
       "      <td>Eduardo</td>\n",
       "      <td>Martins</td>\n",
       "      <td>251</td>\n",
       "      <td>2012-01-09 00:00:00</td>\n",
       "    </tr>\n",
       "    <tr>\n",
       "      <th>20</th>\n",
       "      <td>Brazil</td>\n",
       "      <td>Alexandre</td>\n",
       "      <td>Rocha</td>\n",
       "      <td>252</td>\n",
       "      <td>2012-01-22 00:00:00</td>\n",
       "    </tr>\n",
       "    <tr>\n",
       "      <th>21</th>\n",
       "      <td>Brazil</td>\n",
       "      <td>Fernanda</td>\n",
       "      <td>Ramos</td>\n",
       "      <td>253</td>\n",
       "      <td>2012-01-22 00:00:00</td>\n",
       "    </tr>\n",
       "    <tr>\n",
       "      <th>22</th>\n",
       "      <td>Brazil</td>\n",
       "      <td>Fernanda</td>\n",
       "      <td>Ramos</td>\n",
       "      <td>264</td>\n",
       "      <td>2012-03-03 00:00:00</td>\n",
       "    </tr>\n",
       "    <tr>\n",
       "      <th>23</th>\n",
       "      <td>Brazil</td>\n",
       "      <td>Alexandre</td>\n",
       "      <td>Rocha</td>\n",
       "      <td>275</td>\n",
       "      <td>2012-04-25 00:00:00</td>\n",
       "    </tr>\n",
       "    <tr>\n",
       "      <th>24</th>\n",
       "      <td>Brazil</td>\n",
       "      <td>Alexandre</td>\n",
       "      <td>Rocha</td>\n",
       "      <td>297</td>\n",
       "      <td>2012-07-28 00:00:00</td>\n",
       "    </tr>\n",
       "    <tr>\n",
       "      <th>25</th>\n",
       "      <td>Brazil</td>\n",
       "      <td>Luís</td>\n",
       "      <td>Gonçalves</td>\n",
       "      <td>316</td>\n",
       "      <td>2012-10-27 00:00:00</td>\n",
       "    </tr>\n",
       "    <tr>\n",
       "      <th>26</th>\n",
       "      <td>Brazil</td>\n",
       "      <td>Fernanda</td>\n",
       "      <td>Ramos</td>\n",
       "      <td>319</td>\n",
       "      <td>2012-11-01 00:00:00</td>\n",
       "    </tr>\n",
       "    <tr>\n",
       "      <th>27</th>\n",
       "      <td>Brazil</td>\n",
       "      <td>Luís</td>\n",
       "      <td>Gonçalves</td>\n",
       "      <td>327</td>\n",
       "      <td>2012-12-07 00:00:00</td>\n",
       "    </tr>\n",
       "    <tr>\n",
       "      <th>28</th>\n",
       "      <td>Brazil</td>\n",
       "      <td>Alexandre</td>\n",
       "      <td>Rocha</td>\n",
       "      <td>349</td>\n",
       "      <td>2013-03-18 00:00:00</td>\n",
       "    </tr>\n",
       "    <tr>\n",
       "      <th>29</th>\n",
       "      <td>Brazil</td>\n",
       "      <td>Roberto</td>\n",
       "      <td>Almeida</td>\n",
       "      <td>350</td>\n",
       "      <td>2013-03-31 00:00:00</td>\n",
       "    </tr>\n",
       "    <tr>\n",
       "      <th>30</th>\n",
       "      <td>Brazil</td>\n",
       "      <td>Eduardo</td>\n",
       "      <td>Martins</td>\n",
       "      <td>372</td>\n",
       "      <td>2013-07-02 00:00:00</td>\n",
       "    </tr>\n",
       "    <tr>\n",
       "      <th>31</th>\n",
       "      <td>Brazil</td>\n",
       "      <td>Roberto</td>\n",
       "      <td>Almeida</td>\n",
       "      <td>373</td>\n",
       "      <td>2013-07-03 00:00:00</td>\n",
       "    </tr>\n",
       "    <tr>\n",
       "      <th>32</th>\n",
       "      <td>Brazil</td>\n",
       "      <td>Luís</td>\n",
       "      <td>Gonçalves</td>\n",
       "      <td>382</td>\n",
       "      <td>2013-08-07 00:00:00</td>\n",
       "    </tr>\n",
       "    <tr>\n",
       "      <th>33</th>\n",
       "      <td>Brazil</td>\n",
       "      <td>Eduardo</td>\n",
       "      <td>Martins</td>\n",
       "      <td>383</td>\n",
       "      <td>2013-08-12 00:00:00</td>\n",
       "    </tr>\n",
       "    <tr>\n",
       "      <th>34</th>\n",
       "      <td>Brazil</td>\n",
       "      <td>Roberto</td>\n",
       "      <td>Almeida</td>\n",
       "      <td>395</td>\n",
       "      <td>2013-10-05 00:00:00</td>\n",
       "    </tr>\n",
       "  </tbody>\n",
       "</table>\n",
       "</div>"
      ],
      "text/plain": [
       "   BillingCountry  FirstName   LastName  InvoiceId          InvoiceDate\n",
       "0          Brazil    Eduardo    Martins         25  2009-04-09 00:00:00\n",
       "1          Brazil    Roberto    Almeida         34  2009-05-23 00:00:00\n",
       "2          Brazil   Fernanda      Ramos         35  2009-06-05 00:00:00\n",
       "3          Brazil  Alexandre      Rocha         57  2009-09-06 00:00:00\n",
       "4          Brazil   Fernanda      Ramos         58  2009-09-07 00:00:00\n",
       "5          Brazil  Alexandre      Rocha         68  2009-10-17 00:00:00\n",
       "6          Brazil   Fernanda      Ramos         80  2009-12-10 00:00:00\n",
       "7          Brazil       Luís  Gonçalves         98  2010-03-11 00:00:00\n",
       "8          Brazil       Luís  Gonçalves        121  2010-06-13 00:00:00\n",
       "9          Brazil  Alexandre      Rocha        123  2010-06-17 00:00:00\n",
       "10         Brazil   Fernanda      Ramos        132  2010-07-31 00:00:00\n",
       "11         Brazil       Luís  Gonçalves        143  2010-09-15 00:00:00\n",
       "12         Brazil    Eduardo    Martins        154  2010-11-14 00:00:00\n",
       "13         Brazil    Roberto    Almeida        155  2010-11-14 00:00:00\n",
       "14         Brazil    Roberto    Almeida        166  2010-12-25 00:00:00\n",
       "15         Brazil    Eduardo    Martins        177  2011-02-16 00:00:00\n",
       "16         Brazil       Luís  Gonçalves        195  2011-05-06 00:00:00\n",
       "17         Brazil    Eduardo    Martins        199  2011-05-21 00:00:00\n",
       "18         Brazil    Roberto    Almeida        221  2011-08-25 00:00:00\n",
       "19         Brazil    Eduardo    Martins        251  2012-01-09 00:00:00\n",
       "20         Brazil  Alexandre      Rocha        252  2012-01-22 00:00:00\n",
       "21         Brazil   Fernanda      Ramos        253  2012-01-22 00:00:00\n",
       "22         Brazil   Fernanda      Ramos        264  2012-03-03 00:00:00\n",
       "23         Brazil  Alexandre      Rocha        275  2012-04-25 00:00:00\n",
       "24         Brazil  Alexandre      Rocha        297  2012-07-28 00:00:00\n",
       "25         Brazil       Luís  Gonçalves        316  2012-10-27 00:00:00\n",
       "26         Brazil   Fernanda      Ramos        319  2012-11-01 00:00:00\n",
       "27         Brazil       Luís  Gonçalves        327  2012-12-07 00:00:00\n",
       "28         Brazil  Alexandre      Rocha        349  2013-03-18 00:00:00\n",
       "29         Brazil    Roberto    Almeida        350  2013-03-31 00:00:00\n",
       "30         Brazil    Eduardo    Martins        372  2013-07-02 00:00:00\n",
       "31         Brazil    Roberto    Almeida        373  2013-07-03 00:00:00\n",
       "32         Brazil       Luís  Gonçalves        382  2013-08-07 00:00:00\n",
       "33         Brazil    Eduardo    Martins        383  2013-08-12 00:00:00\n",
       "34         Brazil    Roberto    Almeida        395  2013-10-05 00:00:00"
      ]
     },
     "execution_count": 144,
     "metadata": {},
     "output_type": "execute_result"
    }
   ],
   "source": [
    "query = '''\n",
    "SELECT i.BillingCountry, c.FirstName, c.LastName, i.InvoiceId, i.InvoiceDate\n",
    "FROM invoices as i\n",
    "INNER JOIN customers as c\n",
    "ON i.CustomerId = c.CustomerId\n",
    "WHERE i.BillingCountry = \"Brazil\"\n",
    "'''\n",
    "\n",
    "sql_query(query)"
   ]
  },
  {
   "cell_type": "code",
   "execution_count": null,
   "metadata": {},
   "outputs": [],
   "source": [
    "# Ejercicio 2"
   ]
  },
  {
   "cell_type": "code",
   "execution_count": null,
   "metadata": {},
   "outputs": [
    {
     "data": {
      "application/vnd.microsoft.datawrangler.viewer.v0+json": {
       "columns": [
        {
         "name": "index",
         "rawType": "int64",
         "type": "integer"
        },
        {
         "name": "FirstName",
         "rawType": "object",
         "type": "string"
        },
        {
         "name": "LastName",
         "rawType": "object",
         "type": "string"
        },
        {
         "name": "InvoiceId",
         "rawType": "int64",
         "type": "integer"
        }
       ],
       "conversionMethod": "pd.DataFrame",
       "ref": "340ae229-230b-4f4b-9463-828c373aae3d",
       "rows": [
        [
         "0",
         "Jane",
         "Peacock",
         "98"
        ],
        [
         "1",
         "Jane",
         "Peacock",
         "121"
        ],
        [
         "2",
         "Jane",
         "Peacock",
         "143"
        ],
        [
         "3",
         "Jane",
         "Peacock",
         "195"
        ],
        [
         "4",
         "Jane",
         "Peacock",
         "316"
        ],
        [
         "5",
         "Jane",
         "Peacock",
         "327"
        ],
        [
         "6",
         "Jane",
         "Peacock",
         "382"
        ],
        [
         "7",
         "Jane",
         "Peacock",
         "99"
        ],
        [
         "8",
         "Jane",
         "Peacock",
         "110"
        ],
        [
         "9",
         "Jane",
         "Peacock",
         "165"
        ],
        [
         "10",
         "Jane",
         "Peacock",
         "294"
        ],
        [
         "11",
         "Jane",
         "Peacock",
         "317"
        ],
        [
         "12",
         "Jane",
         "Peacock",
         "339"
        ],
        [
         "13",
         "Jane",
         "Peacock",
         "391"
        ],
        [
         "14",
         "Jane",
         "Peacock",
         "34"
        ],
        [
         "15",
         "Jane",
         "Peacock",
         "155"
        ],
        [
         "16",
         "Jane",
         "Peacock",
         "166"
        ],
        [
         "17",
         "Jane",
         "Peacock",
         "221"
        ],
        [
         "18",
         "Jane",
         "Peacock",
         "350"
        ],
        [
         "19",
         "Jane",
         "Peacock",
         "373"
        ],
        [
         "20",
         "Jane",
         "Peacock",
         "395"
        ],
        [
         "21",
         "Jane",
         "Peacock",
         "36"
        ],
        [
         "22",
         "Jane",
         "Peacock",
         "47"
        ],
        [
         "23",
         "Jane",
         "Peacock",
         "102"
        ],
        [
         "24",
         "Jane",
         "Peacock",
         "231"
        ],
        [
         "25",
         "Jane",
         "Peacock",
         "254"
        ],
        [
         "26",
         "Jane",
         "Peacock",
         "276"
        ],
        [
         "27",
         "Jane",
         "Peacock",
         "328"
        ],
        [
         "28",
         "Jane",
         "Peacock",
         "112"
        ],
        [
         "29",
         "Jane",
         "Peacock",
         "135"
        ],
        [
         "30",
         "Jane",
         "Peacock",
         "157"
        ],
        [
         "31",
         "Jane",
         "Peacock",
         "209"
        ],
        [
         "32",
         "Jane",
         "Peacock",
         "330"
        ],
        [
         "33",
         "Jane",
         "Peacock",
         "341"
        ],
        [
         "34",
         "Jane",
         "Peacock",
         "396"
        ],
        [
         "35",
         "Jane",
         "Peacock",
         "15"
        ],
        [
         "36",
         "Jane",
         "Peacock",
         "26"
        ],
        [
         "37",
         "Jane",
         "Peacock",
         "81"
        ],
        [
         "38",
         "Jane",
         "Peacock",
         "210"
        ],
        [
         "39",
         "Jane",
         "Peacock",
         "233"
        ],
        [
         "40",
         "Jane",
         "Peacock",
         "255"
        ],
        [
         "41",
         "Jane",
         "Peacock",
         "307"
        ],
        [
         "42",
         "Jane",
         "Peacock",
         "92"
        ],
        [
         "43",
         "Jane",
         "Peacock",
         "103"
        ],
        [
         "44",
         "Jane",
         "Peacock",
         "158"
        ],
        [
         "45",
         "Jane",
         "Peacock",
         "287"
        ],
        [
         "46",
         "Jane",
         "Peacock",
         "310"
        ],
        [
         "47",
         "Jane",
         "Peacock",
         "332"
        ],
        [
         "48",
         "Jane",
         "Peacock",
         "384"
        ],
        [
         "49",
         "Jane",
         "Peacock",
         "48"
        ]
       ],
       "shape": {
        "columns": 3,
        "rows": 412
       }
      },
      "text/html": [
       "<div>\n",
       "<style scoped>\n",
       "    .dataframe tbody tr th:only-of-type {\n",
       "        vertical-align: middle;\n",
       "    }\n",
       "\n",
       "    .dataframe tbody tr th {\n",
       "        vertical-align: top;\n",
       "    }\n",
       "\n",
       "    .dataframe thead th {\n",
       "        text-align: right;\n",
       "    }\n",
       "</style>\n",
       "<table border=\"1\" class=\"dataframe\">\n",
       "  <thead>\n",
       "    <tr style=\"text-align: right;\">\n",
       "      <th></th>\n",
       "      <th>FirstName</th>\n",
       "      <th>LastName</th>\n",
       "      <th>InvoiceId</th>\n",
       "    </tr>\n",
       "  </thead>\n",
       "  <tbody>\n",
       "    <tr>\n",
       "      <th>0</th>\n",
       "      <td>Jane</td>\n",
       "      <td>Peacock</td>\n",
       "      <td>98</td>\n",
       "    </tr>\n",
       "    <tr>\n",
       "      <th>1</th>\n",
       "      <td>Jane</td>\n",
       "      <td>Peacock</td>\n",
       "      <td>121</td>\n",
       "    </tr>\n",
       "    <tr>\n",
       "      <th>2</th>\n",
       "      <td>Jane</td>\n",
       "      <td>Peacock</td>\n",
       "      <td>143</td>\n",
       "    </tr>\n",
       "    <tr>\n",
       "      <th>3</th>\n",
       "      <td>Jane</td>\n",
       "      <td>Peacock</td>\n",
       "      <td>195</td>\n",
       "    </tr>\n",
       "    <tr>\n",
       "      <th>4</th>\n",
       "      <td>Jane</td>\n",
       "      <td>Peacock</td>\n",
       "      <td>316</td>\n",
       "    </tr>\n",
       "    <tr>\n",
       "      <th>...</th>\n",
       "      <td>...</td>\n",
       "      <td>...</td>\n",
       "      <td>...</td>\n",
       "    </tr>\n",
       "    <tr>\n",
       "      <th>407</th>\n",
       "      <td>Steve</td>\n",
       "      <td>Johnson</td>\n",
       "      <td>88</td>\n",
       "    </tr>\n",
       "    <tr>\n",
       "      <th>408</th>\n",
       "      <td>Steve</td>\n",
       "      <td>Johnson</td>\n",
       "      <td>217</td>\n",
       "    </tr>\n",
       "    <tr>\n",
       "      <th>409</th>\n",
       "      <td>Steve</td>\n",
       "      <td>Johnson</td>\n",
       "      <td>240</td>\n",
       "    </tr>\n",
       "    <tr>\n",
       "      <th>410</th>\n",
       "      <td>Steve</td>\n",
       "      <td>Johnson</td>\n",
       "      <td>262</td>\n",
       "    </tr>\n",
       "    <tr>\n",
       "      <th>411</th>\n",
       "      <td>Steve</td>\n",
       "      <td>Johnson</td>\n",
       "      <td>314</td>\n",
       "    </tr>\n",
       "  </tbody>\n",
       "</table>\n",
       "<p>412 rows × 3 columns</p>\n",
       "</div>"
      ],
      "text/plain": [
       "    FirstName LastName  InvoiceId\n",
       "0        Jane  Peacock         98\n",
       "1        Jane  Peacock        121\n",
       "2        Jane  Peacock        143\n",
       "3        Jane  Peacock        195\n",
       "4        Jane  Peacock        316\n",
       "..        ...      ...        ...\n",
       "407     Steve  Johnson         88\n",
       "408     Steve  Johnson        217\n",
       "409     Steve  Johnson        240\n",
       "410     Steve  Johnson        262\n",
       "411     Steve  Johnson        314\n",
       "\n",
       "[412 rows x 3 columns]"
      ]
     },
     "execution_count": 151,
     "metadata": {},
     "output_type": "execute_result"
    }
   ],
   "source": [
    "query = '''\n",
    "SELECT e.FirstName,e.LastName,i.InvoiceId\n",
    "FROM employees as e\n",
    "INNER JOIN customers as c\n",
    "ON e.EmployeeId = c.SupportRepId\n",
    "INNER JOIN invoices as i\n",
    "ON c.CustomerId = i.CustomerId\n",
    "'''\n",
    "\n",
    "df = sql_query(query)\n",
    "df"
   ]
  },
  {
   "cell_type": "code",
   "execution_count": null,
   "metadata": {},
   "outputs": [],
   "source": [
    "# Ejercicio 3"
   ]
  },
  {
   "cell_type": "code",
   "execution_count": 152,
   "metadata": {},
   "outputs": [
    {
     "data": {
      "application/vnd.microsoft.datawrangler.viewer.v0+json": {
       "columns": [
        {
         "name": "index",
         "rawType": "int64",
         "type": "integer"
        },
        {
         "name": "FirstName",
         "rawType": "object",
         "type": "string"
        },
        {
         "name": "LastName",
         "rawType": "object",
         "type": "string"
        },
        {
         "name": "Country",
         "rawType": "object",
         "type": "string"
        },
        {
         "name": "FirstName",
         "rawType": "object",
         "type": "string"
        },
        {
         "name": "LastName",
         "rawType": "object",
         "type": "string"
        }
       ],
       "conversionMethod": "pd.DataFrame",
       "ref": "425124bb-15b3-443b-bdad-c1668f58c78d",
       "rows": [
        [
         "0",
         "Luís",
         "Gonçalves",
         "Brazil",
         "Jane",
         "Peacock"
        ],
        [
         "1",
         "Leonie",
         "Köhler",
         "Germany",
         "Steve",
         "Johnson"
        ],
        [
         "2",
         "François",
         "Tremblay",
         "Canada",
         "Jane",
         "Peacock"
        ],
        [
         "3",
         "Bjørn",
         "Hansen",
         "Norway",
         "Margaret",
         "Park"
        ],
        [
         "4",
         "František",
         "Wichterlová",
         "Czech Republic",
         "Margaret",
         "Park"
        ],
        [
         "5",
         "Helena",
         "Holý",
         "Czech Republic",
         "Steve",
         "Johnson"
        ],
        [
         "6",
         "Astrid",
         "Gruber",
         "Austria",
         "Steve",
         "Johnson"
        ],
        [
         "7",
         "Daan",
         "Peeters",
         "Belgium",
         "Margaret",
         "Park"
        ],
        [
         "8",
         "Kara",
         "Nielsen",
         "Denmark",
         "Margaret",
         "Park"
        ],
        [
         "9",
         "Eduardo",
         "Martins",
         "Brazil",
         "Margaret",
         "Park"
        ],
        [
         "10",
         "Alexandre",
         "Rocha",
         "Brazil",
         "Steve",
         "Johnson"
        ],
        [
         "11",
         "Roberto",
         "Almeida",
         "Brazil",
         "Jane",
         "Peacock"
        ],
        [
         "12",
         "Fernanda",
         "Ramos",
         "Brazil",
         "Margaret",
         "Park"
        ],
        [
         "13",
         "Mark",
         "Philips",
         "Canada",
         "Steve",
         "Johnson"
        ],
        [
         "14",
         "Jennifer",
         "Peterson",
         "Canada",
         "Jane",
         "Peacock"
        ],
        [
         "15",
         "Frank",
         "Harris",
         "USA",
         "Margaret",
         "Park"
        ],
        [
         "16",
         "Jack",
         "Smith",
         "USA",
         "Steve",
         "Johnson"
        ],
        [
         "17",
         "Michelle",
         "Brooks",
         "USA",
         "Jane",
         "Peacock"
        ],
        [
         "18",
         "Tim",
         "Goyer",
         "USA",
         "Jane",
         "Peacock"
        ],
        [
         "19",
         "Dan",
         "Miller",
         "USA",
         "Margaret",
         "Park"
        ],
        [
         "20",
         "Kathy",
         "Chase",
         "USA",
         "Steve",
         "Johnson"
        ],
        [
         "21",
         "Heather",
         "Leacock",
         "USA",
         "Margaret",
         "Park"
        ],
        [
         "22",
         "John",
         "Gordon",
         "USA",
         "Margaret",
         "Park"
        ],
        [
         "23",
         "Frank",
         "Ralston",
         "USA",
         "Jane",
         "Peacock"
        ],
        [
         "24",
         "Victor",
         "Stevens",
         "USA",
         "Steve",
         "Johnson"
        ],
        [
         "25",
         "Richard",
         "Cunningham",
         "USA",
         "Margaret",
         "Park"
        ],
        [
         "26",
         "Patrick",
         "Gray",
         "USA",
         "Margaret",
         "Park"
        ],
        [
         "27",
         "Julia",
         "Barnett",
         "USA",
         "Steve",
         "Johnson"
        ],
        [
         "28",
         "Robert",
         "Brown",
         "Canada",
         "Jane",
         "Peacock"
        ],
        [
         "29",
         "Edward",
         "Francis",
         "Canada",
         "Jane",
         "Peacock"
        ],
        [
         "30",
         "Martha",
         "Silk",
         "Canada",
         "Steve",
         "Johnson"
        ],
        [
         "31",
         "Aaron",
         "Mitchell",
         "Canada",
         "Margaret",
         "Park"
        ],
        [
         "32",
         "Ellie",
         "Sullivan",
         "Canada",
         "Jane",
         "Peacock"
        ],
        [
         "33",
         "João",
         "Fernandes",
         "Portugal",
         "Margaret",
         "Park"
        ],
        [
         "34",
         "Madalena",
         "Sampaio",
         "Portugal",
         "Margaret",
         "Park"
        ],
        [
         "35",
         "Hannah",
         "Schneider",
         "Germany",
         "Steve",
         "Johnson"
        ],
        [
         "36",
         "Fynn",
         "Zimmermann",
         "Germany",
         "Jane",
         "Peacock"
        ],
        [
         "37",
         "Niklas",
         "Schröder",
         "Germany",
         "Jane",
         "Peacock"
        ],
        [
         "38",
         "Camille",
         "Bernard",
         "France",
         "Margaret",
         "Park"
        ],
        [
         "39",
         "Dominique",
         "Lefebvre",
         "France",
         "Margaret",
         "Park"
        ],
        [
         "40",
         "Marc",
         "Dubois",
         "France",
         "Steve",
         "Johnson"
        ],
        [
         "41",
         "Wyatt",
         "Girard",
         "France",
         "Jane",
         "Peacock"
        ],
        [
         "42",
         "Isabelle",
         "Mercier",
         "France",
         "Jane",
         "Peacock"
        ],
        [
         "43",
         "Terhi",
         "Hämäläinen",
         "Finland",
         "Jane",
         "Peacock"
        ],
        [
         "44",
         "Ladislav",
         "Kovács",
         "Hungary",
         "Jane",
         "Peacock"
        ],
        [
         "45",
         "Hugh",
         "O'Reilly",
         "Ireland",
         "Jane",
         "Peacock"
        ],
        [
         "46",
         "Lucas",
         "Mancini",
         "Italy",
         "Steve",
         "Johnson"
        ],
        [
         "47",
         "Johannes",
         "Van der Berg",
         "Netherlands",
         "Steve",
         "Johnson"
        ],
        [
         "48",
         "Stanisław",
         "Wójcik",
         "Poland",
         "Margaret",
         "Park"
        ],
        [
         "49",
         "Enrique",
         "Muñoz",
         "Spain",
         "Steve",
         "Johnson"
        ]
       ],
       "shape": {
        "columns": 5,
        "rows": 59
       }
      },
      "text/html": [
       "<div>\n",
       "<style scoped>\n",
       "    .dataframe tbody tr th:only-of-type {\n",
       "        vertical-align: middle;\n",
       "    }\n",
       "\n",
       "    .dataframe tbody tr th {\n",
       "        vertical-align: top;\n",
       "    }\n",
       "\n",
       "    .dataframe thead th {\n",
       "        text-align: right;\n",
       "    }\n",
       "</style>\n",
       "<table border=\"1\" class=\"dataframe\">\n",
       "  <thead>\n",
       "    <tr style=\"text-align: right;\">\n",
       "      <th></th>\n",
       "      <th>FirstName</th>\n",
       "      <th>LastName</th>\n",
       "      <th>Country</th>\n",
       "      <th>FirstName</th>\n",
       "      <th>LastName</th>\n",
       "    </tr>\n",
       "  </thead>\n",
       "  <tbody>\n",
       "    <tr>\n",
       "      <th>0</th>\n",
       "      <td>Luís</td>\n",
       "      <td>Gonçalves</td>\n",
       "      <td>Brazil</td>\n",
       "      <td>Jane</td>\n",
       "      <td>Peacock</td>\n",
       "    </tr>\n",
       "    <tr>\n",
       "      <th>1</th>\n",
       "      <td>Leonie</td>\n",
       "      <td>Köhler</td>\n",
       "      <td>Germany</td>\n",
       "      <td>Steve</td>\n",
       "      <td>Johnson</td>\n",
       "    </tr>\n",
       "    <tr>\n",
       "      <th>2</th>\n",
       "      <td>François</td>\n",
       "      <td>Tremblay</td>\n",
       "      <td>Canada</td>\n",
       "      <td>Jane</td>\n",
       "      <td>Peacock</td>\n",
       "    </tr>\n",
       "    <tr>\n",
       "      <th>3</th>\n",
       "      <td>Bjørn</td>\n",
       "      <td>Hansen</td>\n",
       "      <td>Norway</td>\n",
       "      <td>Margaret</td>\n",
       "      <td>Park</td>\n",
       "    </tr>\n",
       "    <tr>\n",
       "      <th>4</th>\n",
       "      <td>František</td>\n",
       "      <td>Wichterlová</td>\n",
       "      <td>Czech Republic</td>\n",
       "      <td>Margaret</td>\n",
       "      <td>Park</td>\n",
       "    </tr>\n",
       "    <tr>\n",
       "      <th>5</th>\n",
       "      <td>Helena</td>\n",
       "      <td>Holý</td>\n",
       "      <td>Czech Republic</td>\n",
       "      <td>Steve</td>\n",
       "      <td>Johnson</td>\n",
       "    </tr>\n",
       "    <tr>\n",
       "      <th>6</th>\n",
       "      <td>Astrid</td>\n",
       "      <td>Gruber</td>\n",
       "      <td>Austria</td>\n",
       "      <td>Steve</td>\n",
       "      <td>Johnson</td>\n",
       "    </tr>\n",
       "    <tr>\n",
       "      <th>7</th>\n",
       "      <td>Daan</td>\n",
       "      <td>Peeters</td>\n",
       "      <td>Belgium</td>\n",
       "      <td>Margaret</td>\n",
       "      <td>Park</td>\n",
       "    </tr>\n",
       "    <tr>\n",
       "      <th>8</th>\n",
       "      <td>Kara</td>\n",
       "      <td>Nielsen</td>\n",
       "      <td>Denmark</td>\n",
       "      <td>Margaret</td>\n",
       "      <td>Park</td>\n",
       "    </tr>\n",
       "    <tr>\n",
       "      <th>9</th>\n",
       "      <td>Eduardo</td>\n",
       "      <td>Martins</td>\n",
       "      <td>Brazil</td>\n",
       "      <td>Margaret</td>\n",
       "      <td>Park</td>\n",
       "    </tr>\n",
       "    <tr>\n",
       "      <th>10</th>\n",
       "      <td>Alexandre</td>\n",
       "      <td>Rocha</td>\n",
       "      <td>Brazil</td>\n",
       "      <td>Steve</td>\n",
       "      <td>Johnson</td>\n",
       "    </tr>\n",
       "    <tr>\n",
       "      <th>11</th>\n",
       "      <td>Roberto</td>\n",
       "      <td>Almeida</td>\n",
       "      <td>Brazil</td>\n",
       "      <td>Jane</td>\n",
       "      <td>Peacock</td>\n",
       "    </tr>\n",
       "    <tr>\n",
       "      <th>12</th>\n",
       "      <td>Fernanda</td>\n",
       "      <td>Ramos</td>\n",
       "      <td>Brazil</td>\n",
       "      <td>Margaret</td>\n",
       "      <td>Park</td>\n",
       "    </tr>\n",
       "    <tr>\n",
       "      <th>13</th>\n",
       "      <td>Mark</td>\n",
       "      <td>Philips</td>\n",
       "      <td>Canada</td>\n",
       "      <td>Steve</td>\n",
       "      <td>Johnson</td>\n",
       "    </tr>\n",
       "    <tr>\n",
       "      <th>14</th>\n",
       "      <td>Jennifer</td>\n",
       "      <td>Peterson</td>\n",
       "      <td>Canada</td>\n",
       "      <td>Jane</td>\n",
       "      <td>Peacock</td>\n",
       "    </tr>\n",
       "    <tr>\n",
       "      <th>15</th>\n",
       "      <td>Frank</td>\n",
       "      <td>Harris</td>\n",
       "      <td>USA</td>\n",
       "      <td>Margaret</td>\n",
       "      <td>Park</td>\n",
       "    </tr>\n",
       "    <tr>\n",
       "      <th>16</th>\n",
       "      <td>Jack</td>\n",
       "      <td>Smith</td>\n",
       "      <td>USA</td>\n",
       "      <td>Steve</td>\n",
       "      <td>Johnson</td>\n",
       "    </tr>\n",
       "    <tr>\n",
       "      <th>17</th>\n",
       "      <td>Michelle</td>\n",
       "      <td>Brooks</td>\n",
       "      <td>USA</td>\n",
       "      <td>Jane</td>\n",
       "      <td>Peacock</td>\n",
       "    </tr>\n",
       "    <tr>\n",
       "      <th>18</th>\n",
       "      <td>Tim</td>\n",
       "      <td>Goyer</td>\n",
       "      <td>USA</td>\n",
       "      <td>Jane</td>\n",
       "      <td>Peacock</td>\n",
       "    </tr>\n",
       "    <tr>\n",
       "      <th>19</th>\n",
       "      <td>Dan</td>\n",
       "      <td>Miller</td>\n",
       "      <td>USA</td>\n",
       "      <td>Margaret</td>\n",
       "      <td>Park</td>\n",
       "    </tr>\n",
       "    <tr>\n",
       "      <th>20</th>\n",
       "      <td>Kathy</td>\n",
       "      <td>Chase</td>\n",
       "      <td>USA</td>\n",
       "      <td>Steve</td>\n",
       "      <td>Johnson</td>\n",
       "    </tr>\n",
       "    <tr>\n",
       "      <th>21</th>\n",
       "      <td>Heather</td>\n",
       "      <td>Leacock</td>\n",
       "      <td>USA</td>\n",
       "      <td>Margaret</td>\n",
       "      <td>Park</td>\n",
       "    </tr>\n",
       "    <tr>\n",
       "      <th>22</th>\n",
       "      <td>John</td>\n",
       "      <td>Gordon</td>\n",
       "      <td>USA</td>\n",
       "      <td>Margaret</td>\n",
       "      <td>Park</td>\n",
       "    </tr>\n",
       "    <tr>\n",
       "      <th>23</th>\n",
       "      <td>Frank</td>\n",
       "      <td>Ralston</td>\n",
       "      <td>USA</td>\n",
       "      <td>Jane</td>\n",
       "      <td>Peacock</td>\n",
       "    </tr>\n",
       "    <tr>\n",
       "      <th>24</th>\n",
       "      <td>Victor</td>\n",
       "      <td>Stevens</td>\n",
       "      <td>USA</td>\n",
       "      <td>Steve</td>\n",
       "      <td>Johnson</td>\n",
       "    </tr>\n",
       "    <tr>\n",
       "      <th>25</th>\n",
       "      <td>Richard</td>\n",
       "      <td>Cunningham</td>\n",
       "      <td>USA</td>\n",
       "      <td>Margaret</td>\n",
       "      <td>Park</td>\n",
       "    </tr>\n",
       "    <tr>\n",
       "      <th>26</th>\n",
       "      <td>Patrick</td>\n",
       "      <td>Gray</td>\n",
       "      <td>USA</td>\n",
       "      <td>Margaret</td>\n",
       "      <td>Park</td>\n",
       "    </tr>\n",
       "    <tr>\n",
       "      <th>27</th>\n",
       "      <td>Julia</td>\n",
       "      <td>Barnett</td>\n",
       "      <td>USA</td>\n",
       "      <td>Steve</td>\n",
       "      <td>Johnson</td>\n",
       "    </tr>\n",
       "    <tr>\n",
       "      <th>28</th>\n",
       "      <td>Robert</td>\n",
       "      <td>Brown</td>\n",
       "      <td>Canada</td>\n",
       "      <td>Jane</td>\n",
       "      <td>Peacock</td>\n",
       "    </tr>\n",
       "    <tr>\n",
       "      <th>29</th>\n",
       "      <td>Edward</td>\n",
       "      <td>Francis</td>\n",
       "      <td>Canada</td>\n",
       "      <td>Jane</td>\n",
       "      <td>Peacock</td>\n",
       "    </tr>\n",
       "    <tr>\n",
       "      <th>30</th>\n",
       "      <td>Martha</td>\n",
       "      <td>Silk</td>\n",
       "      <td>Canada</td>\n",
       "      <td>Steve</td>\n",
       "      <td>Johnson</td>\n",
       "    </tr>\n",
       "    <tr>\n",
       "      <th>31</th>\n",
       "      <td>Aaron</td>\n",
       "      <td>Mitchell</td>\n",
       "      <td>Canada</td>\n",
       "      <td>Margaret</td>\n",
       "      <td>Park</td>\n",
       "    </tr>\n",
       "    <tr>\n",
       "      <th>32</th>\n",
       "      <td>Ellie</td>\n",
       "      <td>Sullivan</td>\n",
       "      <td>Canada</td>\n",
       "      <td>Jane</td>\n",
       "      <td>Peacock</td>\n",
       "    </tr>\n",
       "    <tr>\n",
       "      <th>33</th>\n",
       "      <td>João</td>\n",
       "      <td>Fernandes</td>\n",
       "      <td>Portugal</td>\n",
       "      <td>Margaret</td>\n",
       "      <td>Park</td>\n",
       "    </tr>\n",
       "    <tr>\n",
       "      <th>34</th>\n",
       "      <td>Madalena</td>\n",
       "      <td>Sampaio</td>\n",
       "      <td>Portugal</td>\n",
       "      <td>Margaret</td>\n",
       "      <td>Park</td>\n",
       "    </tr>\n",
       "    <tr>\n",
       "      <th>35</th>\n",
       "      <td>Hannah</td>\n",
       "      <td>Schneider</td>\n",
       "      <td>Germany</td>\n",
       "      <td>Steve</td>\n",
       "      <td>Johnson</td>\n",
       "    </tr>\n",
       "    <tr>\n",
       "      <th>36</th>\n",
       "      <td>Fynn</td>\n",
       "      <td>Zimmermann</td>\n",
       "      <td>Germany</td>\n",
       "      <td>Jane</td>\n",
       "      <td>Peacock</td>\n",
       "    </tr>\n",
       "    <tr>\n",
       "      <th>37</th>\n",
       "      <td>Niklas</td>\n",
       "      <td>Schröder</td>\n",
       "      <td>Germany</td>\n",
       "      <td>Jane</td>\n",
       "      <td>Peacock</td>\n",
       "    </tr>\n",
       "    <tr>\n",
       "      <th>38</th>\n",
       "      <td>Camille</td>\n",
       "      <td>Bernard</td>\n",
       "      <td>France</td>\n",
       "      <td>Margaret</td>\n",
       "      <td>Park</td>\n",
       "    </tr>\n",
       "    <tr>\n",
       "      <th>39</th>\n",
       "      <td>Dominique</td>\n",
       "      <td>Lefebvre</td>\n",
       "      <td>France</td>\n",
       "      <td>Margaret</td>\n",
       "      <td>Park</td>\n",
       "    </tr>\n",
       "    <tr>\n",
       "      <th>40</th>\n",
       "      <td>Marc</td>\n",
       "      <td>Dubois</td>\n",
       "      <td>France</td>\n",
       "      <td>Steve</td>\n",
       "      <td>Johnson</td>\n",
       "    </tr>\n",
       "    <tr>\n",
       "      <th>41</th>\n",
       "      <td>Wyatt</td>\n",
       "      <td>Girard</td>\n",
       "      <td>France</td>\n",
       "      <td>Jane</td>\n",
       "      <td>Peacock</td>\n",
       "    </tr>\n",
       "    <tr>\n",
       "      <th>42</th>\n",
       "      <td>Isabelle</td>\n",
       "      <td>Mercier</td>\n",
       "      <td>France</td>\n",
       "      <td>Jane</td>\n",
       "      <td>Peacock</td>\n",
       "    </tr>\n",
       "    <tr>\n",
       "      <th>43</th>\n",
       "      <td>Terhi</td>\n",
       "      <td>Hämäläinen</td>\n",
       "      <td>Finland</td>\n",
       "      <td>Jane</td>\n",
       "      <td>Peacock</td>\n",
       "    </tr>\n",
       "    <tr>\n",
       "      <th>44</th>\n",
       "      <td>Ladislav</td>\n",
       "      <td>Kovács</td>\n",
       "      <td>Hungary</td>\n",
       "      <td>Jane</td>\n",
       "      <td>Peacock</td>\n",
       "    </tr>\n",
       "    <tr>\n",
       "      <th>45</th>\n",
       "      <td>Hugh</td>\n",
       "      <td>O'Reilly</td>\n",
       "      <td>Ireland</td>\n",
       "      <td>Jane</td>\n",
       "      <td>Peacock</td>\n",
       "    </tr>\n",
       "    <tr>\n",
       "      <th>46</th>\n",
       "      <td>Lucas</td>\n",
       "      <td>Mancini</td>\n",
       "      <td>Italy</td>\n",
       "      <td>Steve</td>\n",
       "      <td>Johnson</td>\n",
       "    </tr>\n",
       "    <tr>\n",
       "      <th>47</th>\n",
       "      <td>Johannes</td>\n",
       "      <td>Van der Berg</td>\n",
       "      <td>Netherlands</td>\n",
       "      <td>Steve</td>\n",
       "      <td>Johnson</td>\n",
       "    </tr>\n",
       "    <tr>\n",
       "      <th>48</th>\n",
       "      <td>Stanisław</td>\n",
       "      <td>Wójcik</td>\n",
       "      <td>Poland</td>\n",
       "      <td>Margaret</td>\n",
       "      <td>Park</td>\n",
       "    </tr>\n",
       "    <tr>\n",
       "      <th>49</th>\n",
       "      <td>Enrique</td>\n",
       "      <td>Muñoz</td>\n",
       "      <td>Spain</td>\n",
       "      <td>Steve</td>\n",
       "      <td>Johnson</td>\n",
       "    </tr>\n",
       "    <tr>\n",
       "      <th>50</th>\n",
       "      <td>Joakim</td>\n",
       "      <td>Johansson</td>\n",
       "      <td>Sweden</td>\n",
       "      <td>Steve</td>\n",
       "      <td>Johnson</td>\n",
       "    </tr>\n",
       "    <tr>\n",
       "      <th>51</th>\n",
       "      <td>Emma</td>\n",
       "      <td>Jones</td>\n",
       "      <td>United Kingdom</td>\n",
       "      <td>Jane</td>\n",
       "      <td>Peacock</td>\n",
       "    </tr>\n",
       "    <tr>\n",
       "      <th>52</th>\n",
       "      <td>Phil</td>\n",
       "      <td>Hughes</td>\n",
       "      <td>United Kingdom</td>\n",
       "      <td>Jane</td>\n",
       "      <td>Peacock</td>\n",
       "    </tr>\n",
       "    <tr>\n",
       "      <th>53</th>\n",
       "      <td>Steve</td>\n",
       "      <td>Murray</td>\n",
       "      <td>United Kingdom</td>\n",
       "      <td>Steve</td>\n",
       "      <td>Johnson</td>\n",
       "    </tr>\n",
       "    <tr>\n",
       "      <th>54</th>\n",
       "      <td>Mark</td>\n",
       "      <td>Taylor</td>\n",
       "      <td>Australia</td>\n",
       "      <td>Margaret</td>\n",
       "      <td>Park</td>\n",
       "    </tr>\n",
       "    <tr>\n",
       "      <th>55</th>\n",
       "      <td>Diego</td>\n",
       "      <td>Gutiérrez</td>\n",
       "      <td>Argentina</td>\n",
       "      <td>Margaret</td>\n",
       "      <td>Park</td>\n",
       "    </tr>\n",
       "    <tr>\n",
       "      <th>56</th>\n",
       "      <td>Luis</td>\n",
       "      <td>Rojas</td>\n",
       "      <td>Chile</td>\n",
       "      <td>Steve</td>\n",
       "      <td>Johnson</td>\n",
       "    </tr>\n",
       "    <tr>\n",
       "      <th>57</th>\n",
       "      <td>Manoj</td>\n",
       "      <td>Pareek</td>\n",
       "      <td>India</td>\n",
       "      <td>Jane</td>\n",
       "      <td>Peacock</td>\n",
       "    </tr>\n",
       "    <tr>\n",
       "      <th>58</th>\n",
       "      <td>Puja</td>\n",
       "      <td>Srivastava</td>\n",
       "      <td>India</td>\n",
       "      <td>Jane</td>\n",
       "      <td>Peacock</td>\n",
       "    </tr>\n",
       "  </tbody>\n",
       "</table>\n",
       "</div>"
      ],
      "text/plain": [
       "    FirstName      LastName         Country FirstName LastName\n",
       "0        Luís     Gonçalves          Brazil      Jane  Peacock\n",
       "1      Leonie        Köhler         Germany     Steve  Johnson\n",
       "2    François      Tremblay          Canada      Jane  Peacock\n",
       "3       Bjørn        Hansen          Norway  Margaret     Park\n",
       "4   František   Wichterlová  Czech Republic  Margaret     Park\n",
       "5      Helena          Holý  Czech Republic     Steve  Johnson\n",
       "6      Astrid        Gruber         Austria     Steve  Johnson\n",
       "7        Daan       Peeters         Belgium  Margaret     Park\n",
       "8        Kara       Nielsen         Denmark  Margaret     Park\n",
       "9     Eduardo       Martins          Brazil  Margaret     Park\n",
       "10  Alexandre         Rocha          Brazil     Steve  Johnson\n",
       "11    Roberto       Almeida          Brazil      Jane  Peacock\n",
       "12   Fernanda         Ramos          Brazil  Margaret     Park\n",
       "13       Mark       Philips          Canada     Steve  Johnson\n",
       "14   Jennifer      Peterson          Canada      Jane  Peacock\n",
       "15      Frank        Harris             USA  Margaret     Park\n",
       "16       Jack         Smith             USA     Steve  Johnson\n",
       "17   Michelle        Brooks             USA      Jane  Peacock\n",
       "18        Tim         Goyer             USA      Jane  Peacock\n",
       "19        Dan        Miller             USA  Margaret     Park\n",
       "20      Kathy         Chase             USA     Steve  Johnson\n",
       "21    Heather       Leacock             USA  Margaret     Park\n",
       "22       John        Gordon             USA  Margaret     Park\n",
       "23      Frank       Ralston             USA      Jane  Peacock\n",
       "24     Victor       Stevens             USA     Steve  Johnson\n",
       "25    Richard    Cunningham             USA  Margaret     Park\n",
       "26    Patrick          Gray             USA  Margaret     Park\n",
       "27      Julia       Barnett             USA     Steve  Johnson\n",
       "28     Robert         Brown          Canada      Jane  Peacock\n",
       "29     Edward       Francis          Canada      Jane  Peacock\n",
       "30     Martha          Silk          Canada     Steve  Johnson\n",
       "31      Aaron      Mitchell          Canada  Margaret     Park\n",
       "32      Ellie      Sullivan          Canada      Jane  Peacock\n",
       "33       João     Fernandes        Portugal  Margaret     Park\n",
       "34   Madalena       Sampaio        Portugal  Margaret     Park\n",
       "35     Hannah     Schneider         Germany     Steve  Johnson\n",
       "36       Fynn    Zimmermann         Germany      Jane  Peacock\n",
       "37     Niklas      Schröder         Germany      Jane  Peacock\n",
       "38    Camille       Bernard          France  Margaret     Park\n",
       "39  Dominique      Lefebvre          France  Margaret     Park\n",
       "40       Marc        Dubois          France     Steve  Johnson\n",
       "41      Wyatt        Girard          France      Jane  Peacock\n",
       "42   Isabelle       Mercier          France      Jane  Peacock\n",
       "43      Terhi    Hämäläinen         Finland      Jane  Peacock\n",
       "44   Ladislav        Kovács         Hungary      Jane  Peacock\n",
       "45       Hugh      O'Reilly         Ireland      Jane  Peacock\n",
       "46      Lucas       Mancini           Italy     Steve  Johnson\n",
       "47   Johannes  Van der Berg     Netherlands     Steve  Johnson\n",
       "48  Stanisław        Wójcik          Poland  Margaret     Park\n",
       "49    Enrique         Muñoz           Spain     Steve  Johnson\n",
       "50     Joakim     Johansson          Sweden     Steve  Johnson\n",
       "51       Emma         Jones  United Kingdom      Jane  Peacock\n",
       "52       Phil        Hughes  United Kingdom      Jane  Peacock\n",
       "53      Steve        Murray  United Kingdom     Steve  Johnson\n",
       "54       Mark        Taylor       Australia  Margaret     Park\n",
       "55      Diego     Gutiérrez       Argentina  Margaret     Park\n",
       "56       Luis         Rojas           Chile     Steve  Johnson\n",
       "57      Manoj        Pareek           India      Jane  Peacock\n",
       "58       Puja    Srivastava           India      Jane  Peacock"
      ]
     },
     "execution_count": 152,
     "metadata": {},
     "output_type": "execute_result"
    }
   ],
   "source": [
    "query = '''\n",
    "SELECT c.FirstName,c.LastName,c.Country,e.FirstName,e.LastName\n",
    "FROM employees as e\n",
    "INNER JOIN customers as c\n",
    "ON e.EmployeeId = c.SupportRepId\n",
    "'''\n",
    "\n",
    "df = sql_query(query)\n",
    "df"
   ]
  },
  {
   "cell_type": "code",
   "execution_count": null,
   "metadata": {},
   "outputs": [],
   "source": [
    "#Ejercicio 4"
   ]
  },
  {
   "cell_type": "code",
   "execution_count": 153,
   "metadata": {},
   "outputs": [
    {
     "data": {
      "application/vnd.microsoft.datawrangler.viewer.v0+json": {
       "columns": [
        {
         "name": "index",
         "rawType": "int64",
         "type": "integer"
        },
        {
         "name": "InvoiceLineId",
         "rawType": "int64",
         "type": "integer"
        },
        {
         "name": "Name",
         "rawType": "object",
         "type": "string"
        }
       ],
       "conversionMethod": "pd.DataFrame",
       "ref": "f4261c30-c7f1-4bbd-a7da-e5a0a1e4ef75",
       "rows": [
        [
         "0",
         "579",
         "For Those About To Rock (We Salute You)"
        ],
        [
         "1",
         "1",
         "Balls to the Wall"
        ],
        [
         "2",
         "1154",
         "Balls to the Wall"
        ],
        [
         "3",
         "1728",
         "Fast As a Shark"
        ],
        [
         "4",
         "2",
         "Restless and Wild"
        ],
        [
         "5",
         "580",
         "Princess of the Dawn"
        ],
        [
         "6",
         "3",
         "Put The Finger On You"
        ],
        [
         "7",
         "4",
         "Inject The Venom"
        ],
        [
         "8",
         "1155",
         "Inject The Venom"
        ],
        [
         "9",
         "581",
         "Snowballed"
        ],
        [
         "10",
         "1729",
         "Snowballed"
        ],
        [
         "11",
         "5",
         "Evil Walks"
        ],
        [
         "12",
         "6",
         "Breaking The Rules"
        ],
        [
         "13",
         "582",
         "Night Of The Long Knives"
        ],
        [
         "14",
         "1156",
         "Spellbound"
        ],
        [
         "15",
         "1730",
         "Go Down"
        ],
        [
         "16",
         "7",
         "Dog Eat Dog"
        ],
        [
         "17",
         "583",
         "Problem Child"
        ],
        [
         "18",
         "8",
         "Overdose"
        ],
        [
         "19",
         "1157",
         "Overdose"
        ],
        [
         "20",
         "1731",
         "Hell Ain't A Bad Place To Be"
        ],
        [
         "21",
         "9",
         "Love In An Elevator"
        ],
        [
         "22",
         "584",
         "Rag Doll"
        ],
        [
         "23",
         "1158",
         "What It Takes"
        ],
        [
         "24",
         "10",
         "Janie's Got A Gun"
        ],
        [
         "25",
         "1732",
         "Amazing"
        ],
        [
         "26",
         "585",
         "Blind Man"
        ],
        [
         "27",
         "11",
         "Deuces Are Wild"
        ],
        [
         "28",
         "1159",
         "Deuces Are Wild"
        ],
        [
         "29",
         "12",
         "Angel"
        ],
        [
         "30",
         "586",
         "Livin' On The Edge"
        ],
        [
         "31",
         "1160",
         "All I Really Want"
        ],
        [
         "32",
         "1733",
         "You Oughta Know"
        ],
        [
         "33",
         "13",
         "Right Through You"
        ],
        [
         "34",
         "587",
         "Forgiven"
        ],
        [
         "35",
         "1161",
         "You Learn"
        ],
        [
         "36",
         "14",
         "Not The Doctor"
        ],
        [
         "37",
         "1734",
         "Not The Doctor"
        ],
        [
         "38",
         "588",
         "Wake Up"
        ],
        [
         "39",
         "1162",
         "Sea Of Sorrow"
        ],
        [
         "40",
         "15",
         "Bleed The Freak"
        ],
        [
         "41",
         "589",
         "I Can't Remember"
        ],
        [
         "42",
         "1735",
         "It Ain't Like That"
        ],
        [
         "43",
         "16",
         "Confusion"
        ],
        [
         "44",
         "590",
         "I Know Somethin (Bout You)"
        ],
        [
         "45",
         "1163",
         "Real Thing"
        ],
        [
         "46",
         "17",
         "Por Causa De Você"
        ],
        [
         "47",
         "1736",
         "Por Causa De Você"
        ],
        [
         "48",
         "591",
         "Ligia"
        ],
        [
         "49",
         "1164",
         "Falando De Amor"
        ]
       ],
       "shape": {
        "columns": 2,
        "rows": 2240
       }
      },
      "text/html": [
       "<div>\n",
       "<style scoped>\n",
       "    .dataframe tbody tr th:only-of-type {\n",
       "        vertical-align: middle;\n",
       "    }\n",
       "\n",
       "    .dataframe tbody tr th {\n",
       "        vertical-align: top;\n",
       "    }\n",
       "\n",
       "    .dataframe thead th {\n",
       "        text-align: right;\n",
       "    }\n",
       "</style>\n",
       "<table border=\"1\" class=\"dataframe\">\n",
       "  <thead>\n",
       "    <tr style=\"text-align: right;\">\n",
       "      <th></th>\n",
       "      <th>InvoiceLineId</th>\n",
       "      <th>Name</th>\n",
       "    </tr>\n",
       "  </thead>\n",
       "  <tbody>\n",
       "    <tr>\n",
       "      <th>0</th>\n",
       "      <td>579</td>\n",
       "      <td>For Those About To Rock (We Salute You)</td>\n",
       "    </tr>\n",
       "    <tr>\n",
       "      <th>1</th>\n",
       "      <td>1</td>\n",
       "      <td>Balls to the Wall</td>\n",
       "    </tr>\n",
       "    <tr>\n",
       "      <th>2</th>\n",
       "      <td>1154</td>\n",
       "      <td>Balls to the Wall</td>\n",
       "    </tr>\n",
       "    <tr>\n",
       "      <th>3</th>\n",
       "      <td>1728</td>\n",
       "      <td>Fast As a Shark</td>\n",
       "    </tr>\n",
       "    <tr>\n",
       "      <th>4</th>\n",
       "      <td>2</td>\n",
       "      <td>Restless and Wild</td>\n",
       "    </tr>\n",
       "    <tr>\n",
       "      <th>...</th>\n",
       "      <td>...</td>\n",
       "      <td>...</td>\n",
       "    </tr>\n",
       "    <tr>\n",
       "      <th>2235</th>\n",
       "      <td>1726</td>\n",
       "      <td>Symphony No. 2, Op. 16 -  \"The Four Temperamen...</td>\n",
       "    </tr>\n",
       "    <tr>\n",
       "      <th>2236</th>\n",
       "      <td>577</td>\n",
       "      <td>Étude 1, In C Major - Preludio (Presto) - Liszt</td>\n",
       "    </tr>\n",
       "    <tr>\n",
       "      <th>2237</th>\n",
       "      <td>1153</td>\n",
       "      <td>Pini Di Roma (Pinien Von Rom) \\ I Pini Della V...</td>\n",
       "    </tr>\n",
       "    <tr>\n",
       "      <th>2238</th>\n",
       "      <td>578</td>\n",
       "      <td>String Quartet No. 12 in C Minor, D. 703 \"Quar...</td>\n",
       "    </tr>\n",
       "    <tr>\n",
       "      <th>2239</th>\n",
       "      <td>1727</td>\n",
       "      <td>String Quartet No. 12 in C Minor, D. 703 \"Quar...</td>\n",
       "    </tr>\n",
       "  </tbody>\n",
       "</table>\n",
       "<p>2240 rows × 2 columns</p>\n",
       "</div>"
      ],
      "text/plain": [
       "      InvoiceLineId                                               Name\n",
       "0               579            For Those About To Rock (We Salute You)\n",
       "1                 1                                  Balls to the Wall\n",
       "2              1154                                  Balls to the Wall\n",
       "3              1728                                    Fast As a Shark\n",
       "4                 2                                  Restless and Wild\n",
       "...             ...                                                ...\n",
       "2235           1726  Symphony No. 2, Op. 16 -  \"The Four Temperamen...\n",
       "2236            577    Étude 1, In C Major - Preludio (Presto) - Liszt\n",
       "2237           1153  Pini Di Roma (Pinien Von Rom) \\ I Pini Della V...\n",
       "2238            578  String Quartet No. 12 in C Minor, D. 703 \"Quar...\n",
       "2239           1727  String Quartet No. 12 in C Minor, D. 703 \"Quar...\n",
       "\n",
       "[2240 rows x 2 columns]"
      ]
     },
     "execution_count": 153,
     "metadata": {},
     "output_type": "execute_result"
    }
   ],
   "source": [
    "query = '''\n",
    "SELECT it.InvoiceLineId,t.Name\n",
    "FROM invoice_items as it\n",
    "INNER JOIN tracks as t\n",
    "ON it.TrackId = t.TrackId\n",
    "'''\n",
    "\n",
    "df = sql_query(query)\n",
    "df"
   ]
  },
  {
   "cell_type": "code",
   "execution_count": null,
   "metadata": {},
   "outputs": [],
   "source": [
    "#Ejercicio 5"
   ]
  },
  {
   "cell_type": "code",
   "execution_count": 154,
   "metadata": {},
   "outputs": [
    {
     "data": {
      "application/vnd.microsoft.datawrangler.viewer.v0+json": {
       "columns": [
        {
         "name": "index",
         "rawType": "int64",
         "type": "integer"
        },
        {
         "name": "Name",
         "rawType": "object",
         "type": "string"
        },
        {
         "name": "Name",
         "rawType": "object",
         "type": "string"
        },
        {
         "name": "Title",
         "rawType": "object",
         "type": "string"
        },
        {
         "name": "Name",
         "rawType": "object",
         "type": "string"
        }
       ],
       "conversionMethod": "pd.DataFrame",
       "ref": "6d30eff6-57b9-4794-8e1a-433b01519c08",
       "rows": [
        [
         "0",
         "For Those About To Rock (We Salute You)",
         "MPEG audio file",
         "For Those About To Rock We Salute You",
         "Rock"
        ],
        [
         "1",
         "Balls to the Wall",
         "Protected AAC audio file",
         "Balls to the Wall",
         "Rock"
        ],
        [
         "2",
         "Fast As a Shark",
         "Protected AAC audio file",
         "Restless and Wild",
         "Rock"
        ],
        [
         "3",
         "Restless and Wild",
         "Protected AAC audio file",
         "Restless and Wild",
         "Rock"
        ],
        [
         "4",
         "Princess of the Dawn",
         "Protected AAC audio file",
         "Restless and Wild",
         "Rock"
        ],
        [
         "5",
         "Put The Finger On You",
         "MPEG audio file",
         "For Those About To Rock We Salute You",
         "Rock"
        ],
        [
         "6",
         "Let's Get It Up",
         "MPEG audio file",
         "For Those About To Rock We Salute You",
         "Rock"
        ],
        [
         "7",
         "Inject The Venom",
         "MPEG audio file",
         "For Those About To Rock We Salute You",
         "Rock"
        ],
        [
         "8",
         "Snowballed",
         "MPEG audio file",
         "For Those About To Rock We Salute You",
         "Rock"
        ],
        [
         "9",
         "Evil Walks",
         "MPEG audio file",
         "For Those About To Rock We Salute You",
         "Rock"
        ],
        [
         "10",
         "C.O.D.",
         "MPEG audio file",
         "For Those About To Rock We Salute You",
         "Rock"
        ],
        [
         "11",
         "Breaking The Rules",
         "MPEG audio file",
         "For Those About To Rock We Salute You",
         "Rock"
        ],
        [
         "12",
         "Night Of The Long Knives",
         "MPEG audio file",
         "For Those About To Rock We Salute You",
         "Rock"
        ],
        [
         "13",
         "Spellbound",
         "MPEG audio file",
         "For Those About To Rock We Salute You",
         "Rock"
        ],
        [
         "14",
         "Go Down",
         "MPEG audio file",
         "Let There Be Rock",
         "Rock"
        ],
        [
         "15",
         "Dog Eat Dog",
         "MPEG audio file",
         "Let There Be Rock",
         "Rock"
        ],
        [
         "16",
         "Let There Be Rock",
         "MPEG audio file",
         "Let There Be Rock",
         "Rock"
        ],
        [
         "17",
         "Bad Boy Boogie",
         "MPEG audio file",
         "Let There Be Rock",
         "Rock"
        ],
        [
         "18",
         "Problem Child",
         "MPEG audio file",
         "Let There Be Rock",
         "Rock"
        ],
        [
         "19",
         "Overdose",
         "MPEG audio file",
         "Let There Be Rock",
         "Rock"
        ],
        [
         "20",
         "Hell Ain't A Bad Place To Be",
         "MPEG audio file",
         "Let There Be Rock",
         "Rock"
        ],
        [
         "21",
         "Whole Lotta Rosie",
         "MPEG audio file",
         "Let There Be Rock",
         "Rock"
        ],
        [
         "22",
         "Walk On Water",
         "MPEG audio file",
         "Big Ones",
         "Rock"
        ],
        [
         "23",
         "Love In An Elevator",
         "MPEG audio file",
         "Big Ones",
         "Rock"
        ],
        [
         "24",
         "Rag Doll",
         "MPEG audio file",
         "Big Ones",
         "Rock"
        ],
        [
         "25",
         "What It Takes",
         "MPEG audio file",
         "Big Ones",
         "Rock"
        ],
        [
         "26",
         "Dude (Looks Like A Lady)",
         "MPEG audio file",
         "Big Ones",
         "Rock"
        ],
        [
         "27",
         "Janie's Got A Gun",
         "MPEG audio file",
         "Big Ones",
         "Rock"
        ],
        [
         "28",
         "Cryin'",
         "MPEG audio file",
         "Big Ones",
         "Rock"
        ],
        [
         "29",
         "Amazing",
         "MPEG audio file",
         "Big Ones",
         "Rock"
        ],
        [
         "30",
         "Blind Man",
         "MPEG audio file",
         "Big Ones",
         "Rock"
        ],
        [
         "31",
         "Deuces Are Wild",
         "MPEG audio file",
         "Big Ones",
         "Rock"
        ],
        [
         "32",
         "The Other Side",
         "MPEG audio file",
         "Big Ones",
         "Rock"
        ],
        [
         "33",
         "Crazy",
         "MPEG audio file",
         "Big Ones",
         "Rock"
        ],
        [
         "34",
         "Eat The Rich",
         "MPEG audio file",
         "Big Ones",
         "Rock"
        ],
        [
         "35",
         "Angel",
         "MPEG audio file",
         "Big Ones",
         "Rock"
        ],
        [
         "36",
         "Livin' On The Edge",
         "MPEG audio file",
         "Big Ones",
         "Rock"
        ],
        [
         "37",
         "All I Really Want",
         "MPEG audio file",
         "Jagged Little Pill",
         "Rock"
        ],
        [
         "38",
         "You Oughta Know",
         "MPEG audio file",
         "Jagged Little Pill",
         "Rock"
        ],
        [
         "39",
         "Perfect",
         "MPEG audio file",
         "Jagged Little Pill",
         "Rock"
        ],
        [
         "40",
         "Hand In My Pocket",
         "MPEG audio file",
         "Jagged Little Pill",
         "Rock"
        ],
        [
         "41",
         "Right Through You",
         "MPEG audio file",
         "Jagged Little Pill",
         "Rock"
        ],
        [
         "42",
         "Forgiven",
         "MPEG audio file",
         "Jagged Little Pill",
         "Rock"
        ],
        [
         "43",
         "You Learn",
         "MPEG audio file",
         "Jagged Little Pill",
         "Rock"
        ],
        [
         "44",
         "Head Over Feet",
         "MPEG audio file",
         "Jagged Little Pill",
         "Rock"
        ],
        [
         "45",
         "Mary Jane",
         "MPEG audio file",
         "Jagged Little Pill",
         "Rock"
        ],
        [
         "46",
         "Ironic",
         "MPEG audio file",
         "Jagged Little Pill",
         "Rock"
        ],
        [
         "47",
         "Not The Doctor",
         "MPEG audio file",
         "Jagged Little Pill",
         "Rock"
        ],
        [
         "48",
         "Wake Up",
         "MPEG audio file",
         "Jagged Little Pill",
         "Rock"
        ],
        [
         "49",
         "You Oughta Know (Alternate)",
         "MPEG audio file",
         "Jagged Little Pill",
         "Rock"
        ]
       ],
       "shape": {
        "columns": 4,
        "rows": 3503
       }
      },
      "text/html": [
       "<div>\n",
       "<style scoped>\n",
       "    .dataframe tbody tr th:only-of-type {\n",
       "        vertical-align: middle;\n",
       "    }\n",
       "\n",
       "    .dataframe tbody tr th {\n",
       "        vertical-align: top;\n",
       "    }\n",
       "\n",
       "    .dataframe thead th {\n",
       "        text-align: right;\n",
       "    }\n",
       "</style>\n",
       "<table border=\"1\" class=\"dataframe\">\n",
       "  <thead>\n",
       "    <tr style=\"text-align: right;\">\n",
       "      <th></th>\n",
       "      <th>Name</th>\n",
       "      <th>Name</th>\n",
       "      <th>Title</th>\n",
       "      <th>Name</th>\n",
       "    </tr>\n",
       "  </thead>\n",
       "  <tbody>\n",
       "    <tr>\n",
       "      <th>0</th>\n",
       "      <td>For Those About To Rock (We Salute You)</td>\n",
       "      <td>MPEG audio file</td>\n",
       "      <td>For Those About To Rock We Salute You</td>\n",
       "      <td>Rock</td>\n",
       "    </tr>\n",
       "    <tr>\n",
       "      <th>1</th>\n",
       "      <td>Balls to the Wall</td>\n",
       "      <td>Protected AAC audio file</td>\n",
       "      <td>Balls to the Wall</td>\n",
       "      <td>Rock</td>\n",
       "    </tr>\n",
       "    <tr>\n",
       "      <th>2</th>\n",
       "      <td>Fast As a Shark</td>\n",
       "      <td>Protected AAC audio file</td>\n",
       "      <td>Restless and Wild</td>\n",
       "      <td>Rock</td>\n",
       "    </tr>\n",
       "    <tr>\n",
       "      <th>3</th>\n",
       "      <td>Restless and Wild</td>\n",
       "      <td>Protected AAC audio file</td>\n",
       "      <td>Restless and Wild</td>\n",
       "      <td>Rock</td>\n",
       "    </tr>\n",
       "    <tr>\n",
       "      <th>4</th>\n",
       "      <td>Princess of the Dawn</td>\n",
       "      <td>Protected AAC audio file</td>\n",
       "      <td>Restless and Wild</td>\n",
       "      <td>Rock</td>\n",
       "    </tr>\n",
       "    <tr>\n",
       "      <th>...</th>\n",
       "      <td>...</td>\n",
       "      <td>...</td>\n",
       "      <td>...</td>\n",
       "      <td>...</td>\n",
       "    </tr>\n",
       "    <tr>\n",
       "      <th>3498</th>\n",
       "      <td>Pini Di Roma (Pinien Von Rom) \\ I Pini Della V...</td>\n",
       "      <td>Protected AAC audio file</td>\n",
       "      <td>Respighi:Pines of Rome</td>\n",
       "      <td>Classical</td>\n",
       "    </tr>\n",
       "    <tr>\n",
       "      <th>3499</th>\n",
       "      <td>String Quartet No. 12 in C Minor, D. 703 \"Quar...</td>\n",
       "      <td>Protected AAC audio file</td>\n",
       "      <td>Schubert: The Late String Quartets &amp; String Qu...</td>\n",
       "      <td>Classical</td>\n",
       "    </tr>\n",
       "    <tr>\n",
       "      <th>3500</th>\n",
       "      <td>L'orfeo, Act 3, Sinfonia (Orchestra)</td>\n",
       "      <td>Protected AAC audio file</td>\n",
       "      <td>Monteverdi: L'Orfeo</td>\n",
       "      <td>Classical</td>\n",
       "    </tr>\n",
       "    <tr>\n",
       "      <th>3501</th>\n",
       "      <td>Quintet for Horn, Violin, 2 Violas, and Cello ...</td>\n",
       "      <td>Protected AAC audio file</td>\n",
       "      <td>Mozart: Chamber Music</td>\n",
       "      <td>Classical</td>\n",
       "    </tr>\n",
       "    <tr>\n",
       "      <th>3502</th>\n",
       "      <td>Die Zauberflöte, K.620: \"Der Hölle Rache Kocht...</td>\n",
       "      <td>Protected AAC audio file</td>\n",
       "      <td>Mozart Gala: Famous Arias</td>\n",
       "      <td>Opera</td>\n",
       "    </tr>\n",
       "  </tbody>\n",
       "</table>\n",
       "<p>3503 rows × 4 columns</p>\n",
       "</div>"
      ],
      "text/plain": [
       "                                                   Name  \\\n",
       "0               For Those About To Rock (We Salute You)   \n",
       "1                                     Balls to the Wall   \n",
       "2                                       Fast As a Shark   \n",
       "3                                     Restless and Wild   \n",
       "4                                  Princess of the Dawn   \n",
       "...                                                 ...   \n",
       "3498  Pini Di Roma (Pinien Von Rom) \\ I Pini Della V...   \n",
       "3499  String Quartet No. 12 in C Minor, D. 703 \"Quar...   \n",
       "3500               L'orfeo, Act 3, Sinfonia (Orchestra)   \n",
       "3501  Quintet for Horn, Violin, 2 Violas, and Cello ...   \n",
       "3502  Die Zauberflöte, K.620: \"Der Hölle Rache Kocht...   \n",
       "\n",
       "                          Name  \\\n",
       "0              MPEG audio file   \n",
       "1     Protected AAC audio file   \n",
       "2     Protected AAC audio file   \n",
       "3     Protected AAC audio file   \n",
       "4     Protected AAC audio file   \n",
       "...                        ...   \n",
       "3498  Protected AAC audio file   \n",
       "3499  Protected AAC audio file   \n",
       "3500  Protected AAC audio file   \n",
       "3501  Protected AAC audio file   \n",
       "3502  Protected AAC audio file   \n",
       "\n",
       "                                                  Title       Name  \n",
       "0                 For Those About To Rock We Salute You       Rock  \n",
       "1                                     Balls to the Wall       Rock  \n",
       "2                                     Restless and Wild       Rock  \n",
       "3                                     Restless and Wild       Rock  \n",
       "4                                     Restless and Wild       Rock  \n",
       "...                                                 ...        ...  \n",
       "3498                             Respighi:Pines of Rome  Classical  \n",
       "3499  Schubert: The Late String Quartets & String Qu...  Classical  \n",
       "3500                                Monteverdi: L'Orfeo  Classical  \n",
       "3501                              Mozart: Chamber Music  Classical  \n",
       "3502                          Mozart Gala: Famous Arias      Opera  \n",
       "\n",
       "[3503 rows x 4 columns]"
      ]
     },
     "execution_count": 154,
     "metadata": {},
     "output_type": "execute_result"
    }
   ],
   "source": [
    "query = '''\n",
    "SELECT t.Name,m.Name,al.Title,gen.Name\n",
    "FROM tracks as t\n",
    "INNER JOIN media_types as m\n",
    "ON t.MediaTypeId = m.MediaTypeId\n",
    "INNER JOIN albums as al\n",
    "ON t.AlbumId = al.AlbumId\n",
    "INNER JOIN genres as gen\n",
    "ON t.GenreId = gen.GenreId\n",
    "'''\n",
    "\n",
    "df = sql_query(query)\n",
    "df"
   ]
  },
  {
   "cell_type": "code",
   "execution_count": null,
   "metadata": {},
   "outputs": [],
   "source": [
    "#Ejercicio 6"
   ]
  },
  {
   "cell_type": "code",
   "execution_count": 157,
   "metadata": {},
   "outputs": [
    {
     "data": {
      "application/vnd.microsoft.datawrangler.viewer.v0+json": {
       "columns": [
        {
         "name": "index",
         "rawType": "int64",
         "type": "integer"
        },
        {
         "name": "Name",
         "rawType": "object",
         "type": "string"
        },
        {
         "name": "Canciones_totales",
         "rawType": "int64",
         "type": "integer"
        }
       ],
       "conversionMethod": "pd.DataFrame",
       "ref": "667fcc08-7933-4396-8df5-2667b0def17f",
       "rows": [
        [
         "0",
         "90’s Music",
         "1477"
        ],
        [
         "1",
         "Brazilian Music",
         "39"
        ],
        [
         "2",
         "Classical",
         "75"
        ],
        [
         "3",
         "Classical 101 - Deep Cuts",
         "25"
        ],
        [
         "4",
         "Classical 101 - Next Steps",
         "25"
        ],
        [
         "5",
         "Classical 101 - The Basics",
         "25"
        ],
        [
         "6",
         "Grunge",
         "15"
        ],
        [
         "7",
         "Heavy Metal Classic",
         "26"
        ],
        [
         "8",
         "Music",
         "6580"
        ],
        [
         "9",
         "Music Videos",
         "1"
        ],
        [
         "10",
         "On-The-Go 1",
         "1"
        ],
        [
         "11",
         "TV Shows",
         "426"
        ]
       ],
       "shape": {
        "columns": 2,
        "rows": 12
       }
      },
      "text/html": [
       "<div>\n",
       "<style scoped>\n",
       "    .dataframe tbody tr th:only-of-type {\n",
       "        vertical-align: middle;\n",
       "    }\n",
       "\n",
       "    .dataframe tbody tr th {\n",
       "        vertical-align: top;\n",
       "    }\n",
       "\n",
       "    .dataframe thead th {\n",
       "        text-align: right;\n",
       "    }\n",
       "</style>\n",
       "<table border=\"1\" class=\"dataframe\">\n",
       "  <thead>\n",
       "    <tr style=\"text-align: right;\">\n",
       "      <th></th>\n",
       "      <th>Name</th>\n",
       "      <th>Canciones_totales</th>\n",
       "    </tr>\n",
       "  </thead>\n",
       "  <tbody>\n",
       "    <tr>\n",
       "      <th>0</th>\n",
       "      <td>90’s Music</td>\n",
       "      <td>1477</td>\n",
       "    </tr>\n",
       "    <tr>\n",
       "      <th>1</th>\n",
       "      <td>Brazilian Music</td>\n",
       "      <td>39</td>\n",
       "    </tr>\n",
       "    <tr>\n",
       "      <th>2</th>\n",
       "      <td>Classical</td>\n",
       "      <td>75</td>\n",
       "    </tr>\n",
       "    <tr>\n",
       "      <th>3</th>\n",
       "      <td>Classical 101 - Deep Cuts</td>\n",
       "      <td>25</td>\n",
       "    </tr>\n",
       "    <tr>\n",
       "      <th>4</th>\n",
       "      <td>Classical 101 - Next Steps</td>\n",
       "      <td>25</td>\n",
       "    </tr>\n",
       "    <tr>\n",
       "      <th>5</th>\n",
       "      <td>Classical 101 - The Basics</td>\n",
       "      <td>25</td>\n",
       "    </tr>\n",
       "    <tr>\n",
       "      <th>6</th>\n",
       "      <td>Grunge</td>\n",
       "      <td>15</td>\n",
       "    </tr>\n",
       "    <tr>\n",
       "      <th>7</th>\n",
       "      <td>Heavy Metal Classic</td>\n",
       "      <td>26</td>\n",
       "    </tr>\n",
       "    <tr>\n",
       "      <th>8</th>\n",
       "      <td>Music</td>\n",
       "      <td>6580</td>\n",
       "    </tr>\n",
       "    <tr>\n",
       "      <th>9</th>\n",
       "      <td>Music Videos</td>\n",
       "      <td>1</td>\n",
       "    </tr>\n",
       "    <tr>\n",
       "      <th>10</th>\n",
       "      <td>On-The-Go 1</td>\n",
       "      <td>1</td>\n",
       "    </tr>\n",
       "    <tr>\n",
       "      <th>11</th>\n",
       "      <td>TV Shows</td>\n",
       "      <td>426</td>\n",
       "    </tr>\n",
       "  </tbody>\n",
       "</table>\n",
       "</div>"
      ],
      "text/plain": [
       "                          Name  Canciones_totales\n",
       "0                   90’s Music               1477\n",
       "1              Brazilian Music                 39\n",
       "2                    Classical                 75\n",
       "3    Classical 101 - Deep Cuts                 25\n",
       "4   Classical 101 - Next Steps                 25\n",
       "5   Classical 101 - The Basics                 25\n",
       "6                       Grunge                 15\n",
       "7          Heavy Metal Classic                 26\n",
       "8                        Music               6580\n",
       "9                 Music Videos                  1\n",
       "10                 On-The-Go 1                  1\n",
       "11                    TV Shows                426"
      ]
     },
     "execution_count": 157,
     "metadata": {},
     "output_type": "execute_result"
    }
   ],
   "source": [
    "query = '''\n",
    "SELECT pl.Name,COUNT (t.Name) AS Canciones_totales\n",
    "FROM tracks as t\n",
    "INNER JOIN playlist_track as pt\n",
    "ON t.TrackId = pt.TrackId\n",
    "INNER JOIN playlists as pl\n",
    "ON pt.PlaylistId = pl.PlaylistId\n",
    "GROUP BY pl.Name\n",
    "'''\n",
    "\n",
    "df = sql_query(query)\n",
    "df"
   ]
  }
 ],
 "metadata": {
  "kernelspec": {
   "display_name": "Python 3",
   "language": "python",
   "name": "python3"
  },
  "language_info": {
   "codemirror_mode": {
    "name": "ipython",
    "version": 3
   },
   "file_extension": ".py",
   "mimetype": "text/x-python",
   "name": "python",
   "nbconvert_exporter": "python",
   "pygments_lexer": "ipython3",
   "version": "3.11.9"
  }
 },
 "nbformat": 4,
 "nbformat_minor": 2
}
