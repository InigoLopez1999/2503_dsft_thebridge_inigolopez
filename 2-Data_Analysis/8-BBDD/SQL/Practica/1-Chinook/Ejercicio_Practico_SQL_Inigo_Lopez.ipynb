{
 "cells": [
  {
   "cell_type": "code",
   "execution_count": 1,
   "metadata": {},
   "outputs": [],
   "source": [
    "import pandas as pd\n",
    "import sqlite3"
   ]
  },
  {
   "cell_type": "code",
   "execution_count": 2,
   "metadata": {},
   "outputs": [],
   "source": [
    "connection = sqlite3.connect(\"data/chinook.db\")\n",
    "crsr = connection.cursor()"
   ]
  },
  {
   "cell_type": "code",
   "execution_count": 13,
   "metadata": {},
   "outputs": [],
   "source": [
    "# Con esta función leemos los datos y lo pasamos a un DataFrame de Pandas\n",
    "def sql_query(query):\n",
    "\n",
    "    # Ejecuta la query\n",
    "    crsr.execute(query)\n",
    "\n",
    "    # Almacena los datos de la query \n",
    "    ans = crsr.fetchall()\n",
    "\n",
    "    # Obtenemos los nombres de las columnas de la tabla\n",
    "    names = [description[0] for description in crsr.description]\n",
    "\n",
    "    return pd.DataFrame(ans,columns=names)"
   ]
  },
  {
   "cell_type": "code",
   "execution_count": 8,
   "metadata": {},
   "outputs": [
    {
     "data": {
      "application/vnd.microsoft.datawrangler.viewer.v0+json": {
       "columns": [
        {
         "name": "index",
         "rawType": "int64",
         "type": "integer"
        },
        {
         "name": "FirstName",
         "rawType": "object",
         "type": "string"
        },
        {
         "name": "LastName",
         "rawType": "object",
         "type": "string"
        },
        {
         "name": "Country",
         "rawType": "object",
         "type": "string"
        }
       ],
       "conversionMethod": "pd.DataFrame",
       "ref": "c0f60be0-4fd8-492e-b41a-1a45d7a68455",
       "rows": [
        [
         "0",
         "Luís",
         "Gonçalves",
         "Brazil"
        ],
        [
         "1",
         "Eduardo",
         "Martins",
         "Brazil"
        ],
        [
         "2",
         "Alexandre",
         "Rocha",
         "Brazil"
        ],
        [
         "3",
         "Roberto",
         "Almeida",
         "Brazil"
        ],
        [
         "4",
         "Fernanda",
         "Ramos",
         "Brazil"
        ]
       ],
       "shape": {
        "columns": 3,
        "rows": 5
       }
      },
      "text/html": [
       "<div>\n",
       "<style scoped>\n",
       "    .dataframe tbody tr th:only-of-type {\n",
       "        vertical-align: middle;\n",
       "    }\n",
       "\n",
       "    .dataframe tbody tr th {\n",
       "        vertical-align: top;\n",
       "    }\n",
       "\n",
       "    .dataframe thead th {\n",
       "        text-align: right;\n",
       "    }\n",
       "</style>\n",
       "<table border=\"1\" class=\"dataframe\">\n",
       "  <thead>\n",
       "    <tr style=\"text-align: right;\">\n",
       "      <th></th>\n",
       "      <th>FirstName</th>\n",
       "      <th>LastName</th>\n",
       "      <th>Country</th>\n",
       "    </tr>\n",
       "  </thead>\n",
       "  <tbody>\n",
       "    <tr>\n",
       "      <th>0</th>\n",
       "      <td>Luís</td>\n",
       "      <td>Gonçalves</td>\n",
       "      <td>Brazil</td>\n",
       "    </tr>\n",
       "    <tr>\n",
       "      <th>1</th>\n",
       "      <td>Eduardo</td>\n",
       "      <td>Martins</td>\n",
       "      <td>Brazil</td>\n",
       "    </tr>\n",
       "    <tr>\n",
       "      <th>2</th>\n",
       "      <td>Alexandre</td>\n",
       "      <td>Rocha</td>\n",
       "      <td>Brazil</td>\n",
       "    </tr>\n",
       "    <tr>\n",
       "      <th>3</th>\n",
       "      <td>Roberto</td>\n",
       "      <td>Almeida</td>\n",
       "      <td>Brazil</td>\n",
       "    </tr>\n",
       "    <tr>\n",
       "      <th>4</th>\n",
       "      <td>Fernanda</td>\n",
       "      <td>Ramos</td>\n",
       "      <td>Brazil</td>\n",
       "    </tr>\n",
       "  </tbody>\n",
       "</table>\n",
       "</div>"
      ],
      "text/plain": [
       "   FirstName   LastName Country\n",
       "0       Luís  Gonçalves  Brazil\n",
       "1    Eduardo    Martins  Brazil\n",
       "2  Alexandre      Rocha  Brazil\n",
       "3    Roberto    Almeida  Brazil\n",
       "4   Fernanda      Ramos  Brazil"
      ]
     },
     "execution_count": 8,
     "metadata": {},
     "output_type": "execute_result"
    }
   ],
   "source": [
    "query = '''\n",
    "SELECT c.FirstName,c.LastName,c.Country\n",
    "FROM customers as c\n",
    "WHERE c.Country  = \"Brazil\" \n",
    "'''\n",
    "\n",
    "df = sql_query(query)\n",
    "df"
   ]
  },
  {
   "cell_type": "code",
   "execution_count": 9,
   "metadata": {},
   "outputs": [
    {
     "data": {
      "application/vnd.microsoft.datawrangler.viewer.v0+json": {
       "columns": [
        {
         "name": "index",
         "rawType": "int64",
         "type": "integer"
        },
        {
         "name": "FirstName",
         "rawType": "object",
         "type": "string"
        },
        {
         "name": "LastName",
         "rawType": "object",
         "type": "string"
        },
        {
         "name": "Title",
         "rawType": "object",
         "type": "string"
        }
       ],
       "conversionMethod": "pd.DataFrame",
       "ref": "2c0a1f8f-7187-4c2a-8f1f-2c812336fc5b",
       "rows": [
        [
         "0",
         "Jane",
         "Peacock",
         "Sales Support Agent"
        ],
        [
         "1",
         "Margaret",
         "Park",
         "Sales Support Agent"
        ],
        [
         "2",
         "Steve",
         "Johnson",
         "Sales Support Agent"
        ]
       ],
       "shape": {
        "columns": 3,
        "rows": 3
       }
      },
      "text/html": [
       "<div>\n",
       "<style scoped>\n",
       "    .dataframe tbody tr th:only-of-type {\n",
       "        vertical-align: middle;\n",
       "    }\n",
       "\n",
       "    .dataframe tbody tr th {\n",
       "        vertical-align: top;\n",
       "    }\n",
       "\n",
       "    .dataframe thead th {\n",
       "        text-align: right;\n",
       "    }\n",
       "</style>\n",
       "<table border=\"1\" class=\"dataframe\">\n",
       "  <thead>\n",
       "    <tr style=\"text-align: right;\">\n",
       "      <th></th>\n",
       "      <th>FirstName</th>\n",
       "      <th>LastName</th>\n",
       "      <th>Title</th>\n",
       "    </tr>\n",
       "  </thead>\n",
       "  <tbody>\n",
       "    <tr>\n",
       "      <th>0</th>\n",
       "      <td>Jane</td>\n",
       "      <td>Peacock</td>\n",
       "      <td>Sales Support Agent</td>\n",
       "    </tr>\n",
       "    <tr>\n",
       "      <th>1</th>\n",
       "      <td>Margaret</td>\n",
       "      <td>Park</td>\n",
       "      <td>Sales Support Agent</td>\n",
       "    </tr>\n",
       "    <tr>\n",
       "      <th>2</th>\n",
       "      <td>Steve</td>\n",
       "      <td>Johnson</td>\n",
       "      <td>Sales Support Agent</td>\n",
       "    </tr>\n",
       "  </tbody>\n",
       "</table>\n",
       "</div>"
      ],
      "text/plain": [
       "  FirstName LastName                Title\n",
       "0      Jane  Peacock  Sales Support Agent\n",
       "1  Margaret     Park  Sales Support Agent\n",
       "2     Steve  Johnson  Sales Support Agent"
      ]
     },
     "execution_count": 9,
     "metadata": {},
     "output_type": "execute_result"
    }
   ],
   "source": [
    "query = '''\n",
    "SELECT e.FirstName,e.LastName,e.Title\n",
    "FROM employees as e\n",
    "WHERE e.Title  = \"Sales Support Agent\" \n",
    "'''\n",
    "\n",
    "df = sql_query(query)\n",
    "df"
   ]
  },
  {
   "cell_type": "code",
   "execution_count": 10,
   "metadata": {},
   "outputs": [
    {
     "data": {
      "application/vnd.microsoft.datawrangler.viewer.v0+json": {
       "columns": [
        {
         "name": "index",
         "rawType": "int64",
         "type": "integer"
        },
        {
         "name": "Name",
         "rawType": "object",
         "type": "string"
        },
        {
         "name": "Composer",
         "rawType": "object",
         "type": "string"
        }
       ],
       "conversionMethod": "pd.DataFrame",
       "ref": "166cfe89-277c-44a5-bb7c-aa92c7f400db",
       "rows": [
        [
         "0",
         "Go Down",
         "AC/DC"
        ],
        [
         "1",
         "Dog Eat Dog",
         "AC/DC"
        ],
        [
         "2",
         "Let There Be Rock",
         "AC/DC"
        ],
        [
         "3",
         "Bad Boy Boogie",
         "AC/DC"
        ],
        [
         "4",
         "Problem Child",
         "AC/DC"
        ],
        [
         "5",
         "Overdose",
         "AC/DC"
        ],
        [
         "6",
         "Hell Ain't A Bad Place To Be",
         "AC/DC"
        ],
        [
         "7",
         "Whole Lotta Rosie",
         "AC/DC"
        ]
       ],
       "shape": {
        "columns": 2,
        "rows": 8
       }
      },
      "text/html": [
       "<div>\n",
       "<style scoped>\n",
       "    .dataframe tbody tr th:only-of-type {\n",
       "        vertical-align: middle;\n",
       "    }\n",
       "\n",
       "    .dataframe tbody tr th {\n",
       "        vertical-align: top;\n",
       "    }\n",
       "\n",
       "    .dataframe thead th {\n",
       "        text-align: right;\n",
       "    }\n",
       "</style>\n",
       "<table border=\"1\" class=\"dataframe\">\n",
       "  <thead>\n",
       "    <tr style=\"text-align: right;\">\n",
       "      <th></th>\n",
       "      <th>Name</th>\n",
       "      <th>Composer</th>\n",
       "    </tr>\n",
       "  </thead>\n",
       "  <tbody>\n",
       "    <tr>\n",
       "      <th>0</th>\n",
       "      <td>Go Down</td>\n",
       "      <td>AC/DC</td>\n",
       "    </tr>\n",
       "    <tr>\n",
       "      <th>1</th>\n",
       "      <td>Dog Eat Dog</td>\n",
       "      <td>AC/DC</td>\n",
       "    </tr>\n",
       "    <tr>\n",
       "      <th>2</th>\n",
       "      <td>Let There Be Rock</td>\n",
       "      <td>AC/DC</td>\n",
       "    </tr>\n",
       "    <tr>\n",
       "      <th>3</th>\n",
       "      <td>Bad Boy Boogie</td>\n",
       "      <td>AC/DC</td>\n",
       "    </tr>\n",
       "    <tr>\n",
       "      <th>4</th>\n",
       "      <td>Problem Child</td>\n",
       "      <td>AC/DC</td>\n",
       "    </tr>\n",
       "    <tr>\n",
       "      <th>5</th>\n",
       "      <td>Overdose</td>\n",
       "      <td>AC/DC</td>\n",
       "    </tr>\n",
       "    <tr>\n",
       "      <th>6</th>\n",
       "      <td>Hell Ain't A Bad Place To Be</td>\n",
       "      <td>AC/DC</td>\n",
       "    </tr>\n",
       "    <tr>\n",
       "      <th>7</th>\n",
       "      <td>Whole Lotta Rosie</td>\n",
       "      <td>AC/DC</td>\n",
       "    </tr>\n",
       "  </tbody>\n",
       "</table>\n",
       "</div>"
      ],
      "text/plain": [
       "                           Name Composer\n",
       "0                       Go Down    AC/DC\n",
       "1                   Dog Eat Dog    AC/DC\n",
       "2             Let There Be Rock    AC/DC\n",
       "3                Bad Boy Boogie    AC/DC\n",
       "4                 Problem Child    AC/DC\n",
       "5                      Overdose    AC/DC\n",
       "6  Hell Ain't A Bad Place To Be    AC/DC\n",
       "7             Whole Lotta Rosie    AC/DC"
      ]
     },
     "execution_count": 10,
     "metadata": {},
     "output_type": "execute_result"
    }
   ],
   "source": [
    "query = '''\n",
    "SELECT t.Name,t.Composer\n",
    "FROM tracks as t\n",
    "WHERE t.Composer  = \"AC/DC\" \n",
    "'''\n",
    "\n",
    "df = sql_query(query)\n",
    "df"
   ]
  },
  {
   "cell_type": "code",
   "execution_count": 16,
   "metadata": {},
   "outputs": [
    {
     "data": {
      "application/vnd.microsoft.datawrangler.viewer.v0+json": {
       "columns": [
        {
         "name": "index",
         "rawType": "int64",
         "type": "integer"
        },
        {
         "name": "FirstName",
         "rawType": "object",
         "type": "string"
        },
        {
         "name": "LastName",
         "rawType": "object",
         "type": "string"
        },
        {
         "name": "Country",
         "rawType": "object",
         "type": "string"
        },
        {
         "name": "CustomerId",
         "rawType": "int64",
         "type": "integer"
        }
       ],
       "conversionMethod": "pd.DataFrame",
       "ref": "73e223d0-0f8b-40f4-aab5-af69ae64fae2",
       "rows": [
        [
         "0",
         "Luís",
         "Gonçalves",
         "Brazil",
         "1"
        ],
        [
         "1",
         "Leonie",
         "Köhler",
         "Germany",
         "2"
        ],
        [
         "2",
         "François",
         "Tremblay",
         "Canada",
         "3"
        ],
        [
         "3",
         "Bjørn",
         "Hansen",
         "Norway",
         "4"
        ],
        [
         "4",
         "František",
         "Wichterlová",
         "Czech Republic",
         "5"
        ],
        [
         "5",
         "Helena",
         "Holý",
         "Czech Republic",
         "6"
        ],
        [
         "6",
         "Astrid",
         "Gruber",
         "Austria",
         "7"
        ],
        [
         "7",
         "Daan",
         "Peeters",
         "Belgium",
         "8"
        ],
        [
         "8",
         "Kara",
         "Nielsen",
         "Denmark",
         "9"
        ],
        [
         "9",
         "Eduardo",
         "Martins",
         "Brazil",
         "10"
        ],
        [
         "10",
         "Alexandre",
         "Rocha",
         "Brazil",
         "11"
        ],
        [
         "11",
         "Roberto",
         "Almeida",
         "Brazil",
         "12"
        ],
        [
         "12",
         "Fernanda",
         "Ramos",
         "Brazil",
         "13"
        ],
        [
         "13",
         "Mark",
         "Philips",
         "Canada",
         "14"
        ],
        [
         "14",
         "Jennifer",
         "Peterson",
         "Canada",
         "15"
        ],
        [
         "15",
         "Robert",
         "Brown",
         "Canada",
         "29"
        ],
        [
         "16",
         "Edward",
         "Francis",
         "Canada",
         "30"
        ],
        [
         "17",
         "Martha",
         "Silk",
         "Canada",
         "31"
        ],
        [
         "18",
         "Aaron",
         "Mitchell",
         "Canada",
         "32"
        ],
        [
         "19",
         "Ellie",
         "Sullivan",
         "Canada",
         "33"
        ],
        [
         "20",
         "João",
         "Fernandes",
         "Portugal",
         "34"
        ],
        [
         "21",
         "Madalena",
         "Sampaio",
         "Portugal",
         "35"
        ],
        [
         "22",
         "Hannah",
         "Schneider",
         "Germany",
         "36"
        ],
        [
         "23",
         "Fynn",
         "Zimmermann",
         "Germany",
         "37"
        ],
        [
         "24",
         "Niklas",
         "Schröder",
         "Germany",
         "38"
        ],
        [
         "25",
         "Camille",
         "Bernard",
         "France",
         "39"
        ],
        [
         "26",
         "Dominique",
         "Lefebvre",
         "France",
         "40"
        ],
        [
         "27",
         "Marc",
         "Dubois",
         "France",
         "41"
        ],
        [
         "28",
         "Wyatt",
         "Girard",
         "France",
         "42"
        ],
        [
         "29",
         "Isabelle",
         "Mercier",
         "France",
         "43"
        ],
        [
         "30",
         "Terhi",
         "Hämäläinen",
         "Finland",
         "44"
        ],
        [
         "31",
         "Ladislav",
         "Kovács",
         "Hungary",
         "45"
        ],
        [
         "32",
         "Hugh",
         "O'Reilly",
         "Ireland",
         "46"
        ],
        [
         "33",
         "Lucas",
         "Mancini",
         "Italy",
         "47"
        ],
        [
         "34",
         "Johannes",
         "Van der Berg",
         "Netherlands",
         "48"
        ],
        [
         "35",
         "Stanisław",
         "Wójcik",
         "Poland",
         "49"
        ],
        [
         "36",
         "Enrique",
         "Muñoz",
         "Spain",
         "50"
        ],
        [
         "37",
         "Joakim",
         "Johansson",
         "Sweden",
         "51"
        ],
        [
         "38",
         "Emma",
         "Jones",
         "United Kingdom",
         "52"
        ],
        [
         "39",
         "Phil",
         "Hughes",
         "United Kingdom",
         "53"
        ],
        [
         "40",
         "Steve",
         "Murray",
         "United Kingdom",
         "54"
        ],
        [
         "41",
         "Mark",
         "Taylor",
         "Australia",
         "55"
        ],
        [
         "42",
         "Diego",
         "Gutiérrez",
         "Argentina",
         "56"
        ],
        [
         "43",
         "Luis",
         "Rojas",
         "Chile",
         "57"
        ],
        [
         "44",
         "Manoj",
         "Pareek",
         "India",
         "58"
        ],
        [
         "45",
         "Puja",
         "Srivastava",
         "India",
         "59"
        ]
       ],
       "shape": {
        "columns": 4,
        "rows": 46
       }
      },
      "text/html": [
       "<div>\n",
       "<style scoped>\n",
       "    .dataframe tbody tr th:only-of-type {\n",
       "        vertical-align: middle;\n",
       "    }\n",
       "\n",
       "    .dataframe tbody tr th {\n",
       "        vertical-align: top;\n",
       "    }\n",
       "\n",
       "    .dataframe thead th {\n",
       "        text-align: right;\n",
       "    }\n",
       "</style>\n",
       "<table border=\"1\" class=\"dataframe\">\n",
       "  <thead>\n",
       "    <tr style=\"text-align: right;\">\n",
       "      <th></th>\n",
       "      <th>FirstName</th>\n",
       "      <th>LastName</th>\n",
       "      <th>Country</th>\n",
       "      <th>CustomerId</th>\n",
       "    </tr>\n",
       "  </thead>\n",
       "  <tbody>\n",
       "    <tr>\n",
       "      <th>0</th>\n",
       "      <td>Luís</td>\n",
       "      <td>Gonçalves</td>\n",
       "      <td>Brazil</td>\n",
       "      <td>1</td>\n",
       "    </tr>\n",
       "    <tr>\n",
       "      <th>1</th>\n",
       "      <td>Leonie</td>\n",
       "      <td>Köhler</td>\n",
       "      <td>Germany</td>\n",
       "      <td>2</td>\n",
       "    </tr>\n",
       "    <tr>\n",
       "      <th>2</th>\n",
       "      <td>François</td>\n",
       "      <td>Tremblay</td>\n",
       "      <td>Canada</td>\n",
       "      <td>3</td>\n",
       "    </tr>\n",
       "    <tr>\n",
       "      <th>3</th>\n",
       "      <td>Bjørn</td>\n",
       "      <td>Hansen</td>\n",
       "      <td>Norway</td>\n",
       "      <td>4</td>\n",
       "    </tr>\n",
       "    <tr>\n",
       "      <th>4</th>\n",
       "      <td>František</td>\n",
       "      <td>Wichterlová</td>\n",
       "      <td>Czech Republic</td>\n",
       "      <td>5</td>\n",
       "    </tr>\n",
       "    <tr>\n",
       "      <th>5</th>\n",
       "      <td>Helena</td>\n",
       "      <td>Holý</td>\n",
       "      <td>Czech Republic</td>\n",
       "      <td>6</td>\n",
       "    </tr>\n",
       "    <tr>\n",
       "      <th>6</th>\n",
       "      <td>Astrid</td>\n",
       "      <td>Gruber</td>\n",
       "      <td>Austria</td>\n",
       "      <td>7</td>\n",
       "    </tr>\n",
       "    <tr>\n",
       "      <th>7</th>\n",
       "      <td>Daan</td>\n",
       "      <td>Peeters</td>\n",
       "      <td>Belgium</td>\n",
       "      <td>8</td>\n",
       "    </tr>\n",
       "    <tr>\n",
       "      <th>8</th>\n",
       "      <td>Kara</td>\n",
       "      <td>Nielsen</td>\n",
       "      <td>Denmark</td>\n",
       "      <td>9</td>\n",
       "    </tr>\n",
       "    <tr>\n",
       "      <th>9</th>\n",
       "      <td>Eduardo</td>\n",
       "      <td>Martins</td>\n",
       "      <td>Brazil</td>\n",
       "      <td>10</td>\n",
       "    </tr>\n",
       "    <tr>\n",
       "      <th>10</th>\n",
       "      <td>Alexandre</td>\n",
       "      <td>Rocha</td>\n",
       "      <td>Brazil</td>\n",
       "      <td>11</td>\n",
       "    </tr>\n",
       "    <tr>\n",
       "      <th>11</th>\n",
       "      <td>Roberto</td>\n",
       "      <td>Almeida</td>\n",
       "      <td>Brazil</td>\n",
       "      <td>12</td>\n",
       "    </tr>\n",
       "    <tr>\n",
       "      <th>12</th>\n",
       "      <td>Fernanda</td>\n",
       "      <td>Ramos</td>\n",
       "      <td>Brazil</td>\n",
       "      <td>13</td>\n",
       "    </tr>\n",
       "    <tr>\n",
       "      <th>13</th>\n",
       "      <td>Mark</td>\n",
       "      <td>Philips</td>\n",
       "      <td>Canada</td>\n",
       "      <td>14</td>\n",
       "    </tr>\n",
       "    <tr>\n",
       "      <th>14</th>\n",
       "      <td>Jennifer</td>\n",
       "      <td>Peterson</td>\n",
       "      <td>Canada</td>\n",
       "      <td>15</td>\n",
       "    </tr>\n",
       "    <tr>\n",
       "      <th>15</th>\n",
       "      <td>Robert</td>\n",
       "      <td>Brown</td>\n",
       "      <td>Canada</td>\n",
       "      <td>29</td>\n",
       "    </tr>\n",
       "    <tr>\n",
       "      <th>16</th>\n",
       "      <td>Edward</td>\n",
       "      <td>Francis</td>\n",
       "      <td>Canada</td>\n",
       "      <td>30</td>\n",
       "    </tr>\n",
       "    <tr>\n",
       "      <th>17</th>\n",
       "      <td>Martha</td>\n",
       "      <td>Silk</td>\n",
       "      <td>Canada</td>\n",
       "      <td>31</td>\n",
       "    </tr>\n",
       "    <tr>\n",
       "      <th>18</th>\n",
       "      <td>Aaron</td>\n",
       "      <td>Mitchell</td>\n",
       "      <td>Canada</td>\n",
       "      <td>32</td>\n",
       "    </tr>\n",
       "    <tr>\n",
       "      <th>19</th>\n",
       "      <td>Ellie</td>\n",
       "      <td>Sullivan</td>\n",
       "      <td>Canada</td>\n",
       "      <td>33</td>\n",
       "    </tr>\n",
       "    <tr>\n",
       "      <th>20</th>\n",
       "      <td>João</td>\n",
       "      <td>Fernandes</td>\n",
       "      <td>Portugal</td>\n",
       "      <td>34</td>\n",
       "    </tr>\n",
       "    <tr>\n",
       "      <th>21</th>\n",
       "      <td>Madalena</td>\n",
       "      <td>Sampaio</td>\n",
       "      <td>Portugal</td>\n",
       "      <td>35</td>\n",
       "    </tr>\n",
       "    <tr>\n",
       "      <th>22</th>\n",
       "      <td>Hannah</td>\n",
       "      <td>Schneider</td>\n",
       "      <td>Germany</td>\n",
       "      <td>36</td>\n",
       "    </tr>\n",
       "    <tr>\n",
       "      <th>23</th>\n",
       "      <td>Fynn</td>\n",
       "      <td>Zimmermann</td>\n",
       "      <td>Germany</td>\n",
       "      <td>37</td>\n",
       "    </tr>\n",
       "    <tr>\n",
       "      <th>24</th>\n",
       "      <td>Niklas</td>\n",
       "      <td>Schröder</td>\n",
       "      <td>Germany</td>\n",
       "      <td>38</td>\n",
       "    </tr>\n",
       "    <tr>\n",
       "      <th>25</th>\n",
       "      <td>Camille</td>\n",
       "      <td>Bernard</td>\n",
       "      <td>France</td>\n",
       "      <td>39</td>\n",
       "    </tr>\n",
       "    <tr>\n",
       "      <th>26</th>\n",
       "      <td>Dominique</td>\n",
       "      <td>Lefebvre</td>\n",
       "      <td>France</td>\n",
       "      <td>40</td>\n",
       "    </tr>\n",
       "    <tr>\n",
       "      <th>27</th>\n",
       "      <td>Marc</td>\n",
       "      <td>Dubois</td>\n",
       "      <td>France</td>\n",
       "      <td>41</td>\n",
       "    </tr>\n",
       "    <tr>\n",
       "      <th>28</th>\n",
       "      <td>Wyatt</td>\n",
       "      <td>Girard</td>\n",
       "      <td>France</td>\n",
       "      <td>42</td>\n",
       "    </tr>\n",
       "    <tr>\n",
       "      <th>29</th>\n",
       "      <td>Isabelle</td>\n",
       "      <td>Mercier</td>\n",
       "      <td>France</td>\n",
       "      <td>43</td>\n",
       "    </tr>\n",
       "    <tr>\n",
       "      <th>30</th>\n",
       "      <td>Terhi</td>\n",
       "      <td>Hämäläinen</td>\n",
       "      <td>Finland</td>\n",
       "      <td>44</td>\n",
       "    </tr>\n",
       "    <tr>\n",
       "      <th>31</th>\n",
       "      <td>Ladislav</td>\n",
       "      <td>Kovács</td>\n",
       "      <td>Hungary</td>\n",
       "      <td>45</td>\n",
       "    </tr>\n",
       "    <tr>\n",
       "      <th>32</th>\n",
       "      <td>Hugh</td>\n",
       "      <td>O'Reilly</td>\n",
       "      <td>Ireland</td>\n",
       "      <td>46</td>\n",
       "    </tr>\n",
       "    <tr>\n",
       "      <th>33</th>\n",
       "      <td>Lucas</td>\n",
       "      <td>Mancini</td>\n",
       "      <td>Italy</td>\n",
       "      <td>47</td>\n",
       "    </tr>\n",
       "    <tr>\n",
       "      <th>34</th>\n",
       "      <td>Johannes</td>\n",
       "      <td>Van der Berg</td>\n",
       "      <td>Netherlands</td>\n",
       "      <td>48</td>\n",
       "    </tr>\n",
       "    <tr>\n",
       "      <th>35</th>\n",
       "      <td>Stanisław</td>\n",
       "      <td>Wójcik</td>\n",
       "      <td>Poland</td>\n",
       "      <td>49</td>\n",
       "    </tr>\n",
       "    <tr>\n",
       "      <th>36</th>\n",
       "      <td>Enrique</td>\n",
       "      <td>Muñoz</td>\n",
       "      <td>Spain</td>\n",
       "      <td>50</td>\n",
       "    </tr>\n",
       "    <tr>\n",
       "      <th>37</th>\n",
       "      <td>Joakim</td>\n",
       "      <td>Johansson</td>\n",
       "      <td>Sweden</td>\n",
       "      <td>51</td>\n",
       "    </tr>\n",
       "    <tr>\n",
       "      <th>38</th>\n",
       "      <td>Emma</td>\n",
       "      <td>Jones</td>\n",
       "      <td>United Kingdom</td>\n",
       "      <td>52</td>\n",
       "    </tr>\n",
       "    <tr>\n",
       "      <th>39</th>\n",
       "      <td>Phil</td>\n",
       "      <td>Hughes</td>\n",
       "      <td>United Kingdom</td>\n",
       "      <td>53</td>\n",
       "    </tr>\n",
       "    <tr>\n",
       "      <th>40</th>\n",
       "      <td>Steve</td>\n",
       "      <td>Murray</td>\n",
       "      <td>United Kingdom</td>\n",
       "      <td>54</td>\n",
       "    </tr>\n",
       "    <tr>\n",
       "      <th>41</th>\n",
       "      <td>Mark</td>\n",
       "      <td>Taylor</td>\n",
       "      <td>Australia</td>\n",
       "      <td>55</td>\n",
       "    </tr>\n",
       "    <tr>\n",
       "      <th>42</th>\n",
       "      <td>Diego</td>\n",
       "      <td>Gutiérrez</td>\n",
       "      <td>Argentina</td>\n",
       "      <td>56</td>\n",
       "    </tr>\n",
       "    <tr>\n",
       "      <th>43</th>\n",
       "      <td>Luis</td>\n",
       "      <td>Rojas</td>\n",
       "      <td>Chile</td>\n",
       "      <td>57</td>\n",
       "    </tr>\n",
       "    <tr>\n",
       "      <th>44</th>\n",
       "      <td>Manoj</td>\n",
       "      <td>Pareek</td>\n",
       "      <td>India</td>\n",
       "      <td>58</td>\n",
       "    </tr>\n",
       "    <tr>\n",
       "      <th>45</th>\n",
       "      <td>Puja</td>\n",
       "      <td>Srivastava</td>\n",
       "      <td>India</td>\n",
       "      <td>59</td>\n",
       "    </tr>\n",
       "  </tbody>\n",
       "</table>\n",
       "</div>"
      ],
      "text/plain": [
       "    FirstName      LastName         Country  CustomerId\n",
       "0        Luís     Gonçalves          Brazil           1\n",
       "1      Leonie        Köhler         Germany           2\n",
       "2    François      Tremblay          Canada           3\n",
       "3       Bjørn        Hansen          Norway           4\n",
       "4   František   Wichterlová  Czech Republic           5\n",
       "5      Helena          Holý  Czech Republic           6\n",
       "6      Astrid        Gruber         Austria           7\n",
       "7        Daan       Peeters         Belgium           8\n",
       "8        Kara       Nielsen         Denmark           9\n",
       "9     Eduardo       Martins          Brazil          10\n",
       "10  Alexandre         Rocha          Brazil          11\n",
       "11    Roberto       Almeida          Brazil          12\n",
       "12   Fernanda         Ramos          Brazil          13\n",
       "13       Mark       Philips          Canada          14\n",
       "14   Jennifer      Peterson          Canada          15\n",
       "15     Robert         Brown          Canada          29\n",
       "16     Edward       Francis          Canada          30\n",
       "17     Martha          Silk          Canada          31\n",
       "18      Aaron      Mitchell          Canada          32\n",
       "19      Ellie      Sullivan          Canada          33\n",
       "20       João     Fernandes        Portugal          34\n",
       "21   Madalena       Sampaio        Portugal          35\n",
       "22     Hannah     Schneider         Germany          36\n",
       "23       Fynn    Zimmermann         Germany          37\n",
       "24     Niklas      Schröder         Germany          38\n",
       "25    Camille       Bernard          France          39\n",
       "26  Dominique      Lefebvre          France          40\n",
       "27       Marc        Dubois          France          41\n",
       "28      Wyatt        Girard          France          42\n",
       "29   Isabelle       Mercier          France          43\n",
       "30      Terhi    Hämäläinen         Finland          44\n",
       "31   Ladislav        Kovács         Hungary          45\n",
       "32       Hugh      O'Reilly         Ireland          46\n",
       "33      Lucas       Mancini           Italy          47\n",
       "34   Johannes  Van der Berg     Netherlands          48\n",
       "35  Stanisław        Wójcik          Poland          49\n",
       "36    Enrique         Muñoz           Spain          50\n",
       "37     Joakim     Johansson          Sweden          51\n",
       "38       Emma         Jones  United Kingdom          52\n",
       "39       Phil        Hughes  United Kingdom          53\n",
       "40      Steve        Murray  United Kingdom          54\n",
       "41       Mark        Taylor       Australia          55\n",
       "42      Diego     Gutiérrez       Argentina          56\n",
       "43       Luis         Rojas           Chile          57\n",
       "44      Manoj        Pareek           India          58\n",
       "45       Puja    Srivastava           India          59"
      ]
     },
     "execution_count": 16,
     "metadata": {},
     "output_type": "execute_result"
    }
   ],
   "source": [
    "query = '''\n",
    "SELECT c.FirstName,c.LastName,c.Country,c.CustomerId\n",
    "FROM customers as c\n",
    "WHERE c.Country  != \"USA\" \n",
    "'''\n",
    "\n",
    "df = sql_query(query)\n",
    "df"
   ]
  },
  {
   "cell_type": "code",
   "execution_count": 31,
   "metadata": {},
   "outputs": [
    {
     "data": {
      "application/vnd.microsoft.datawrangler.viewer.v0+json": {
       "columns": [
        {
         "name": "index",
         "rawType": "int64",
         "type": "integer"
        },
        {
         "name": "FirstName",
         "rawType": "object",
         "type": "string"
        },
        {
         "name": "LastName",
         "rawType": "object",
         "type": "string"
        },
        {
         "name": "Title",
         "rawType": "object",
         "type": "string"
        },
        {
         "name": "City",
         "rawType": "object",
         "type": "string"
        },
        {
         "name": "State",
         "rawType": "object",
         "type": "string"
        },
        {
         "name": "Country",
         "rawType": "object",
         "type": "string"
        },
        {
         "name": "Email",
         "rawType": "object",
         "type": "string"
        }
       ],
       "conversionMethod": "pd.DataFrame",
       "ref": "67c22f10-21de-42ad-ad99-c5e9c31f9522",
       "rows": [
        [
         "0",
         "Jane",
         "Peacock",
         "Sales Support Agent",
         "Calgary",
         "AB",
         "Canada",
         "jane@chinookcorp.com"
        ],
        [
         "1",
         "Margaret",
         "Park",
         "Sales Support Agent",
         "Calgary",
         "AB",
         "Canada",
         "margaret@chinookcorp.com"
        ],
        [
         "2",
         "Steve",
         "Johnson",
         "Sales Support Agent",
         "Calgary",
         "AB",
         "Canada",
         "steve@chinookcorp.com"
        ]
       ],
       "shape": {
        "columns": 7,
        "rows": 3
       }
      },
      "text/html": [
       "<div>\n",
       "<style scoped>\n",
       "    .dataframe tbody tr th:only-of-type {\n",
       "        vertical-align: middle;\n",
       "    }\n",
       "\n",
       "    .dataframe tbody tr th {\n",
       "        vertical-align: top;\n",
       "    }\n",
       "\n",
       "    .dataframe thead th {\n",
       "        text-align: right;\n",
       "    }\n",
       "</style>\n",
       "<table border=\"1\" class=\"dataframe\">\n",
       "  <thead>\n",
       "    <tr style=\"text-align: right;\">\n",
       "      <th></th>\n",
       "      <th>FirstName</th>\n",
       "      <th>LastName</th>\n",
       "      <th>Title</th>\n",
       "      <th>City</th>\n",
       "      <th>State</th>\n",
       "      <th>Country</th>\n",
       "      <th>Email</th>\n",
       "    </tr>\n",
       "  </thead>\n",
       "  <tbody>\n",
       "    <tr>\n",
       "      <th>0</th>\n",
       "      <td>Jane</td>\n",
       "      <td>Peacock</td>\n",
       "      <td>Sales Support Agent</td>\n",
       "      <td>Calgary</td>\n",
       "      <td>AB</td>\n",
       "      <td>Canada</td>\n",
       "      <td>jane@chinookcorp.com</td>\n",
       "    </tr>\n",
       "    <tr>\n",
       "      <th>1</th>\n",
       "      <td>Margaret</td>\n",
       "      <td>Park</td>\n",
       "      <td>Sales Support Agent</td>\n",
       "      <td>Calgary</td>\n",
       "      <td>AB</td>\n",
       "      <td>Canada</td>\n",
       "      <td>margaret@chinookcorp.com</td>\n",
       "    </tr>\n",
       "    <tr>\n",
       "      <th>2</th>\n",
       "      <td>Steve</td>\n",
       "      <td>Johnson</td>\n",
       "      <td>Sales Support Agent</td>\n",
       "      <td>Calgary</td>\n",
       "      <td>AB</td>\n",
       "      <td>Canada</td>\n",
       "      <td>steve@chinookcorp.com</td>\n",
       "    </tr>\n",
       "  </tbody>\n",
       "</table>\n",
       "</div>"
      ],
      "text/plain": [
       "  FirstName LastName                Title     City State Country  \\\n",
       "0      Jane  Peacock  Sales Support Agent  Calgary    AB  Canada   \n",
       "1  Margaret     Park  Sales Support Agent  Calgary    AB  Canada   \n",
       "2     Steve  Johnson  Sales Support Agent  Calgary    AB  Canada   \n",
       "\n",
       "                      Email  \n",
       "0      jane@chinookcorp.com  \n",
       "1  margaret@chinookcorp.com  \n",
       "2     steve@chinookcorp.com  "
      ]
     },
     "execution_count": 31,
     "metadata": {},
     "output_type": "execute_result"
    }
   ],
   "source": [
    "query = '''\n",
    "SELECT e.FirstName,e.LastName,e.Title,e.City,e.State,e.Country,e.Email\n",
    "FROM employees as e\n",
    "WHERE e.Title  = \"Sales Support Agent\" \n",
    "'''\n",
    "\n",
    "df = sql_query(query)\n",
    "df"
   ]
  },
  {
   "cell_type": "code",
   "execution_count": 34,
   "metadata": {},
   "outputs": [
    {
     "data": {
      "application/vnd.microsoft.datawrangler.viewer.v0+json": {
       "columns": [
        {
         "name": "index",
         "rawType": "int64",
         "type": "integer"
        },
        {
         "name": "BillingCountry",
         "rawType": "object",
         "type": "string"
        }
       ],
       "conversionMethod": "pd.DataFrame",
       "ref": "832fc847-2e82-4eb0-9635-f01859c5a874",
       "rows": [
        [
         "0",
         "Germany"
        ],
        [
         "1",
         "Norway"
        ],
        [
         "2",
         "Belgium"
        ],
        [
         "3",
         "Canada"
        ],
        [
         "4",
         "USA"
        ],
        [
         "5",
         "France"
        ],
        [
         "6",
         "Ireland"
        ],
        [
         "7",
         "United Kingdom"
        ],
        [
         "8",
         "Australia"
        ],
        [
         "9",
         "Chile"
        ],
        [
         "10",
         "India"
        ],
        [
         "11",
         "Brazil"
        ],
        [
         "12",
         "Portugal"
        ],
        [
         "13",
         "Netherlands"
        ],
        [
         "14",
         "Spain"
        ],
        [
         "15",
         "Sweden"
        ],
        [
         "16",
         "Czech Republic"
        ],
        [
         "17",
         "Finland"
        ],
        [
         "18",
         "Denmark"
        ],
        [
         "19",
         "Italy"
        ],
        [
         "20",
         "Poland"
        ],
        [
         "21",
         "Austria"
        ],
        [
         "22",
         "Hungary"
        ],
        [
         "23",
         "Argentina"
        ]
       ],
       "shape": {
        "columns": 1,
        "rows": 24
       }
      },
      "text/html": [
       "<div>\n",
       "<style scoped>\n",
       "    .dataframe tbody tr th:only-of-type {\n",
       "        vertical-align: middle;\n",
       "    }\n",
       "\n",
       "    .dataframe tbody tr th {\n",
       "        vertical-align: top;\n",
       "    }\n",
       "\n",
       "    .dataframe thead th {\n",
       "        text-align: right;\n",
       "    }\n",
       "</style>\n",
       "<table border=\"1\" class=\"dataframe\">\n",
       "  <thead>\n",
       "    <tr style=\"text-align: right;\">\n",
       "      <th></th>\n",
       "      <th>BillingCountry</th>\n",
       "    </tr>\n",
       "  </thead>\n",
       "  <tbody>\n",
       "    <tr>\n",
       "      <th>0</th>\n",
       "      <td>Germany</td>\n",
       "    </tr>\n",
       "    <tr>\n",
       "      <th>1</th>\n",
       "      <td>Norway</td>\n",
       "    </tr>\n",
       "    <tr>\n",
       "      <th>2</th>\n",
       "      <td>Belgium</td>\n",
       "    </tr>\n",
       "    <tr>\n",
       "      <th>3</th>\n",
       "      <td>Canada</td>\n",
       "    </tr>\n",
       "    <tr>\n",
       "      <th>4</th>\n",
       "      <td>USA</td>\n",
       "    </tr>\n",
       "    <tr>\n",
       "      <th>5</th>\n",
       "      <td>France</td>\n",
       "    </tr>\n",
       "    <tr>\n",
       "      <th>6</th>\n",
       "      <td>Ireland</td>\n",
       "    </tr>\n",
       "    <tr>\n",
       "      <th>7</th>\n",
       "      <td>United Kingdom</td>\n",
       "    </tr>\n",
       "    <tr>\n",
       "      <th>8</th>\n",
       "      <td>Australia</td>\n",
       "    </tr>\n",
       "    <tr>\n",
       "      <th>9</th>\n",
       "      <td>Chile</td>\n",
       "    </tr>\n",
       "    <tr>\n",
       "      <th>10</th>\n",
       "      <td>India</td>\n",
       "    </tr>\n",
       "    <tr>\n",
       "      <th>11</th>\n",
       "      <td>Brazil</td>\n",
       "    </tr>\n",
       "    <tr>\n",
       "      <th>12</th>\n",
       "      <td>Portugal</td>\n",
       "    </tr>\n",
       "    <tr>\n",
       "      <th>13</th>\n",
       "      <td>Netherlands</td>\n",
       "    </tr>\n",
       "    <tr>\n",
       "      <th>14</th>\n",
       "      <td>Spain</td>\n",
       "    </tr>\n",
       "    <tr>\n",
       "      <th>15</th>\n",
       "      <td>Sweden</td>\n",
       "    </tr>\n",
       "    <tr>\n",
       "      <th>16</th>\n",
       "      <td>Czech Republic</td>\n",
       "    </tr>\n",
       "    <tr>\n",
       "      <th>17</th>\n",
       "      <td>Finland</td>\n",
       "    </tr>\n",
       "    <tr>\n",
       "      <th>18</th>\n",
       "      <td>Denmark</td>\n",
       "    </tr>\n",
       "    <tr>\n",
       "      <th>19</th>\n",
       "      <td>Italy</td>\n",
       "    </tr>\n",
       "    <tr>\n",
       "      <th>20</th>\n",
       "      <td>Poland</td>\n",
       "    </tr>\n",
       "    <tr>\n",
       "      <th>21</th>\n",
       "      <td>Austria</td>\n",
       "    </tr>\n",
       "    <tr>\n",
       "      <th>22</th>\n",
       "      <td>Hungary</td>\n",
       "    </tr>\n",
       "    <tr>\n",
       "      <th>23</th>\n",
       "      <td>Argentina</td>\n",
       "    </tr>\n",
       "  </tbody>\n",
       "</table>\n",
       "</div>"
      ],
      "text/plain": [
       "    BillingCountry\n",
       "0          Germany\n",
       "1           Norway\n",
       "2          Belgium\n",
       "3           Canada\n",
       "4              USA\n",
       "5           France\n",
       "6          Ireland\n",
       "7   United Kingdom\n",
       "8        Australia\n",
       "9            Chile\n",
       "10           India\n",
       "11          Brazil\n",
       "12        Portugal\n",
       "13     Netherlands\n",
       "14           Spain\n",
       "15          Sweden\n",
       "16  Czech Republic\n",
       "17         Finland\n",
       "18         Denmark\n",
       "19           Italy\n",
       "20          Poland\n",
       "21         Austria\n",
       "22         Hungary\n",
       "23       Argentina"
      ]
     },
     "execution_count": 34,
     "metadata": {},
     "output_type": "execute_result"
    }
   ],
   "source": [
    "query = '''\n",
    "SELECT DISTINCT BillingCountry\n",
    "FROM invoices\n",
    "'''\n",
    "\n",
    "df = sql_query(query)\n",
    "df"
   ]
  },
  {
   "cell_type": "code",
   "execution_count": 43,
   "metadata": {},
   "outputs": [
    {
     "data": {
      "application/vnd.microsoft.datawrangler.viewer.v0+json": {
       "columns": [
        {
         "name": "index",
         "rawType": "int64",
         "type": "integer"
        },
        {
         "name": "State",
         "rawType": "object",
         "type": "string"
        },
        {
         "name": "TOT",
         "rawType": "int64",
         "type": "integer"
        }
       ],
       "conversionMethod": "pd.DataFrame",
       "ref": "c45eec73-68e7-4b5d-97ca-74e5912a7ebd",
       "rows": [
        [
         "0",
         "CA",
         "3"
        ],
        [
         "1",
         "WI",
         "1"
        ],
        [
         "2",
         "WA",
         "1"
        ],
        [
         "3",
         "UT",
         "1"
        ],
        [
         "4",
         "TX",
         "1"
        ],
        [
         "5",
         "NY",
         "1"
        ],
        [
         "6",
         "NV",
         "1"
        ],
        [
         "7",
         "MA",
         "1"
        ],
        [
         "8",
         "IL",
         "1"
        ],
        [
         "9",
         "FL",
         "1"
        ],
        [
         "10",
         "AZ",
         "1"
        ]
       ],
       "shape": {
        "columns": 2,
        "rows": 11
       }
      },
      "text/html": [
       "<div>\n",
       "<style scoped>\n",
       "    .dataframe tbody tr th:only-of-type {\n",
       "        vertical-align: middle;\n",
       "    }\n",
       "\n",
       "    .dataframe tbody tr th {\n",
       "        vertical-align: top;\n",
       "    }\n",
       "\n",
       "    .dataframe thead th {\n",
       "        text-align: right;\n",
       "    }\n",
       "</style>\n",
       "<table border=\"1\" class=\"dataframe\">\n",
       "  <thead>\n",
       "    <tr style=\"text-align: right;\">\n",
       "      <th></th>\n",
       "      <th>State</th>\n",
       "      <th>TOT</th>\n",
       "    </tr>\n",
       "  </thead>\n",
       "  <tbody>\n",
       "    <tr>\n",
       "      <th>0</th>\n",
       "      <td>CA</td>\n",
       "      <td>3</td>\n",
       "    </tr>\n",
       "    <tr>\n",
       "      <th>1</th>\n",
       "      <td>WI</td>\n",
       "      <td>1</td>\n",
       "    </tr>\n",
       "    <tr>\n",
       "      <th>2</th>\n",
       "      <td>WA</td>\n",
       "      <td>1</td>\n",
       "    </tr>\n",
       "    <tr>\n",
       "      <th>3</th>\n",
       "      <td>UT</td>\n",
       "      <td>1</td>\n",
       "    </tr>\n",
       "    <tr>\n",
       "      <th>4</th>\n",
       "      <td>TX</td>\n",
       "      <td>1</td>\n",
       "    </tr>\n",
       "    <tr>\n",
       "      <th>5</th>\n",
       "      <td>NY</td>\n",
       "      <td>1</td>\n",
       "    </tr>\n",
       "    <tr>\n",
       "      <th>6</th>\n",
       "      <td>NV</td>\n",
       "      <td>1</td>\n",
       "    </tr>\n",
       "    <tr>\n",
       "      <th>7</th>\n",
       "      <td>MA</td>\n",
       "      <td>1</td>\n",
       "    </tr>\n",
       "    <tr>\n",
       "      <th>8</th>\n",
       "      <td>IL</td>\n",
       "      <td>1</td>\n",
       "    </tr>\n",
       "    <tr>\n",
       "      <th>9</th>\n",
       "      <td>FL</td>\n",
       "      <td>1</td>\n",
       "    </tr>\n",
       "    <tr>\n",
       "      <th>10</th>\n",
       "      <td>AZ</td>\n",
       "      <td>1</td>\n",
       "    </tr>\n",
       "  </tbody>\n",
       "</table>\n",
       "</div>"
      ],
      "text/plain": [
       "   State  TOT\n",
       "0     CA    3\n",
       "1     WI    1\n",
       "2     WA    1\n",
       "3     UT    1\n",
       "4     TX    1\n",
       "5     NY    1\n",
       "6     NV    1\n",
       "7     MA    1\n",
       "8     IL    1\n",
       "9     FL    1\n",
       "10    AZ    1"
      ]
     },
     "execution_count": 43,
     "metadata": {},
     "output_type": "execute_result"
    }
   ],
   "source": [
    "query = '''\n",
    "SELECT DISTINCT State, COUNT (customers.CustomerId) as TOT\n",
    "FROM customers\n",
    "WHERE Country = \"USA\"\n",
    "GROUP BY State \n",
    "ORDER BY TOT DESC\n",
    "'''\n",
    "\n",
    "df = sql_query(query)\n",
    "df"
   ]
  },
  {
   "cell_type": "code",
   "execution_count": 49,
   "metadata": {},
   "outputs": [
    {
     "data": {
      "application/vnd.microsoft.datawrangler.viewer.v0+json": {
       "columns": [
        {
         "name": "index",
         "rawType": "int64",
         "type": "integer"
        },
        {
         "name": "InvoiceId",
         "rawType": "int64",
         "type": "integer"
        },
        {
         "name": "Cantidad_Total",
         "rawType": "int64",
         "type": "integer"
        }
       ],
       "conversionMethod": "pd.DataFrame",
       "ref": "282ed58f-4a8d-4372-87a2-3dfd532fb567",
       "rows": [
        [
         "0",
         "37",
         "4"
        ]
       ],
       "shape": {
        "columns": 2,
        "rows": 1
       }
      },
      "text/html": [
       "<div>\n",
       "<style scoped>\n",
       "    .dataframe tbody tr th:only-of-type {\n",
       "        vertical-align: middle;\n",
       "    }\n",
       "\n",
       "    .dataframe tbody tr th {\n",
       "        vertical-align: top;\n",
       "    }\n",
       "\n",
       "    .dataframe thead th {\n",
       "        text-align: right;\n",
       "    }\n",
       "</style>\n",
       "<table border=\"1\" class=\"dataframe\">\n",
       "  <thead>\n",
       "    <tr style=\"text-align: right;\">\n",
       "      <th></th>\n",
       "      <th>InvoiceId</th>\n",
       "      <th>Cantidad_Total</th>\n",
       "    </tr>\n",
       "  </thead>\n",
       "  <tbody>\n",
       "    <tr>\n",
       "      <th>0</th>\n",
       "      <td>37</td>\n",
       "      <td>4</td>\n",
       "    </tr>\n",
       "  </tbody>\n",
       "</table>\n",
       "</div>"
      ],
      "text/plain": [
       "   InvoiceId  Cantidad_Total\n",
       "0         37               4"
      ]
     },
     "execution_count": 49,
     "metadata": {},
     "output_type": "execute_result"
    }
   ],
   "source": [
    "query = '''\n",
    "SELECT i.invoiceId,COUNT (it.Quantity) as Cantidad_Total FROM invoice_items as it\n",
    "INNER JOIN invoices as i\n",
    "ON it.InvoiceId = i.InvoiceId\n",
    "WHERE i.InvoiceId = 37\n",
    "'''\n",
    "\n",
    "df = sql_query(query)\n",
    "df"
   ]
  }
 ],
 "metadata": {
  "kernelspec": {
   "display_name": "Python 3",
   "language": "python",
   "name": "python3"
  },
  "language_info": {
   "codemirror_mode": {
    "name": "ipython",
    "version": 3
   },
   "file_extension": ".py",
   "mimetype": "text/x-python",
   "name": "python",
   "nbconvert_exporter": "python",
   "pygments_lexer": "ipython3",
   "version": "3.11.9"
  }
 },
 "nbformat": 4,
 "nbformat_minor": 2
}
