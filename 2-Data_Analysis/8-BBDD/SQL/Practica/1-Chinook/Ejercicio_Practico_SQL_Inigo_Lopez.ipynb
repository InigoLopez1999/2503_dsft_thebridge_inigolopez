{
 "cells": [
  {
   "cell_type": "code",
   "execution_count": 53,
   "metadata": {},
   "outputs": [],
   "source": [
    "import pandas as pd\n",
    "import sqlite3"
   ]
  },
  {
   "cell_type": "code",
   "execution_count": 54,
   "metadata": {},
   "outputs": [],
   "source": [
    "connection = sqlite3.connect(\"data/chinook.db\")\n",
    "crsr = connection.cursor()"
   ]
  },
  {
   "cell_type": "code",
   "execution_count": 55,
   "metadata": {},
   "outputs": [],
   "source": [
    "# Con esta función leemos los datos y lo pasamos a un DataFrame de Pandas\n",
    "def sql_query(query):\n",
    "\n",
    "    # Ejecuta la query\n",
    "    crsr.execute(query)\n",
    "\n",
    "    # Almacena los datos de la query \n",
    "    ans = crsr.fetchall()\n",
    "\n",
    "    # Obtenemos los nombres de las columnas de la tabla\n",
    "    names = [description[0] for description in crsr.description]\n",
    "\n",
    "    return pd.DataFrame(ans,columns=names)"
   ]
  },
  {
   "cell_type": "code",
   "execution_count": 56,
   "metadata": {},
   "outputs": [
    {
     "data": {
      "application/vnd.microsoft.datawrangler.viewer.v0+json": {
       "columns": [
        {
         "name": "index",
         "rawType": "int64",
         "type": "integer"
        },
        {
         "name": "FirstName",
         "rawType": "object",
         "type": "string"
        },
        {
         "name": "LastName",
         "rawType": "object",
         "type": "string"
        },
        {
         "name": "Country",
         "rawType": "object",
         "type": "string"
        }
       ],
       "conversionMethod": "pd.DataFrame",
       "ref": "2c421c35-015f-4a33-bcb2-f24c9e7ee330",
       "rows": [
        [
         "0",
         "Luís",
         "Gonçalves",
         "Brazil"
        ],
        [
         "1",
         "Eduardo",
         "Martins",
         "Brazil"
        ],
        [
         "2",
         "Alexandre",
         "Rocha",
         "Brazil"
        ],
        [
         "3",
         "Roberto",
         "Almeida",
         "Brazil"
        ],
        [
         "4",
         "Fernanda",
         "Ramos",
         "Brazil"
        ]
       ],
       "shape": {
        "columns": 3,
        "rows": 5
       }
      },
      "text/html": [
       "<div>\n",
       "<style scoped>\n",
       "    .dataframe tbody tr th:only-of-type {\n",
       "        vertical-align: middle;\n",
       "    }\n",
       "\n",
       "    .dataframe tbody tr th {\n",
       "        vertical-align: top;\n",
       "    }\n",
       "\n",
       "    .dataframe thead th {\n",
       "        text-align: right;\n",
       "    }\n",
       "</style>\n",
       "<table border=\"1\" class=\"dataframe\">\n",
       "  <thead>\n",
       "    <tr style=\"text-align: right;\">\n",
       "      <th></th>\n",
       "      <th>FirstName</th>\n",
       "      <th>LastName</th>\n",
       "      <th>Country</th>\n",
       "    </tr>\n",
       "  </thead>\n",
       "  <tbody>\n",
       "    <tr>\n",
       "      <th>0</th>\n",
       "      <td>Luís</td>\n",
       "      <td>Gonçalves</td>\n",
       "      <td>Brazil</td>\n",
       "    </tr>\n",
       "    <tr>\n",
       "      <th>1</th>\n",
       "      <td>Eduardo</td>\n",
       "      <td>Martins</td>\n",
       "      <td>Brazil</td>\n",
       "    </tr>\n",
       "    <tr>\n",
       "      <th>2</th>\n",
       "      <td>Alexandre</td>\n",
       "      <td>Rocha</td>\n",
       "      <td>Brazil</td>\n",
       "    </tr>\n",
       "    <tr>\n",
       "      <th>3</th>\n",
       "      <td>Roberto</td>\n",
       "      <td>Almeida</td>\n",
       "      <td>Brazil</td>\n",
       "    </tr>\n",
       "    <tr>\n",
       "      <th>4</th>\n",
       "      <td>Fernanda</td>\n",
       "      <td>Ramos</td>\n",
       "      <td>Brazil</td>\n",
       "    </tr>\n",
       "  </tbody>\n",
       "</table>\n",
       "</div>"
      ],
      "text/plain": [
       "   FirstName   LastName Country\n",
       "0       Luís  Gonçalves  Brazil\n",
       "1    Eduardo    Martins  Brazil\n",
       "2  Alexandre      Rocha  Brazil\n",
       "3    Roberto    Almeida  Brazil\n",
       "4   Fernanda      Ramos  Brazil"
      ]
     },
     "execution_count": 56,
     "metadata": {},
     "output_type": "execute_result"
    }
   ],
   "source": [
    "query = '''\n",
    "SELECT c.FirstName,c.LastName,c.Country\n",
    "FROM customers as c\n",
    "WHERE c.Country  = \"Brazil\" \n",
    "'''\n",
    "\n",
    "df = sql_query(query)\n",
    "df"
   ]
  },
  {
   "cell_type": "code",
   "execution_count": 57,
   "metadata": {},
   "outputs": [
    {
     "data": {
      "application/vnd.microsoft.datawrangler.viewer.v0+json": {
       "columns": [
        {
         "name": "index",
         "rawType": "int64",
         "type": "integer"
        },
        {
         "name": "FirstName",
         "rawType": "object",
         "type": "string"
        },
        {
         "name": "LastName",
         "rawType": "object",
         "type": "string"
        },
        {
         "name": "Title",
         "rawType": "object",
         "type": "string"
        }
       ],
       "conversionMethod": "pd.DataFrame",
       "ref": "ee44afd6-9bcc-49da-a328-d73f984b9157",
       "rows": [
        [
         "0",
         "Jane",
         "Peacock",
         "Sales Support Agent"
        ],
        [
         "1",
         "Margaret",
         "Park",
         "Sales Support Agent"
        ],
        [
         "2",
         "Steve",
         "Johnson",
         "Sales Support Agent"
        ]
       ],
       "shape": {
        "columns": 3,
        "rows": 3
       }
      },
      "text/html": [
       "<div>\n",
       "<style scoped>\n",
       "    .dataframe tbody tr th:only-of-type {\n",
       "        vertical-align: middle;\n",
       "    }\n",
       "\n",
       "    .dataframe tbody tr th {\n",
       "        vertical-align: top;\n",
       "    }\n",
       "\n",
       "    .dataframe thead th {\n",
       "        text-align: right;\n",
       "    }\n",
       "</style>\n",
       "<table border=\"1\" class=\"dataframe\">\n",
       "  <thead>\n",
       "    <tr style=\"text-align: right;\">\n",
       "      <th></th>\n",
       "      <th>FirstName</th>\n",
       "      <th>LastName</th>\n",
       "      <th>Title</th>\n",
       "    </tr>\n",
       "  </thead>\n",
       "  <tbody>\n",
       "    <tr>\n",
       "      <th>0</th>\n",
       "      <td>Jane</td>\n",
       "      <td>Peacock</td>\n",
       "      <td>Sales Support Agent</td>\n",
       "    </tr>\n",
       "    <tr>\n",
       "      <th>1</th>\n",
       "      <td>Margaret</td>\n",
       "      <td>Park</td>\n",
       "      <td>Sales Support Agent</td>\n",
       "    </tr>\n",
       "    <tr>\n",
       "      <th>2</th>\n",
       "      <td>Steve</td>\n",
       "      <td>Johnson</td>\n",
       "      <td>Sales Support Agent</td>\n",
       "    </tr>\n",
       "  </tbody>\n",
       "</table>\n",
       "</div>"
      ],
      "text/plain": [
       "  FirstName LastName                Title\n",
       "0      Jane  Peacock  Sales Support Agent\n",
       "1  Margaret     Park  Sales Support Agent\n",
       "2     Steve  Johnson  Sales Support Agent"
      ]
     },
     "execution_count": 57,
     "metadata": {},
     "output_type": "execute_result"
    }
   ],
   "source": [
    "query = '''\n",
    "SELECT e.FirstName,e.LastName,e.Title\n",
    "FROM employees as e\n",
    "WHERE e.Title  = \"Sales Support Agent\" \n",
    "'''\n",
    "\n",
    "df = sql_query(query)\n",
    "df"
   ]
  },
  {
   "cell_type": "code",
   "execution_count": 58,
   "metadata": {},
   "outputs": [
    {
     "data": {
      "application/vnd.microsoft.datawrangler.viewer.v0+json": {
       "columns": [
        {
         "name": "index",
         "rawType": "int64",
         "type": "integer"
        },
        {
         "name": "Name",
         "rawType": "object",
         "type": "string"
        },
        {
         "name": "Composer",
         "rawType": "object",
         "type": "string"
        }
       ],
       "conversionMethod": "pd.DataFrame",
       "ref": "840f7e62-f151-44cd-a127-28a6864d645c",
       "rows": [
        [
         "0",
         "Go Down",
         "AC/DC"
        ],
        [
         "1",
         "Dog Eat Dog",
         "AC/DC"
        ],
        [
         "2",
         "Let There Be Rock",
         "AC/DC"
        ],
        [
         "3",
         "Bad Boy Boogie",
         "AC/DC"
        ],
        [
         "4",
         "Problem Child",
         "AC/DC"
        ],
        [
         "5",
         "Overdose",
         "AC/DC"
        ],
        [
         "6",
         "Hell Ain't A Bad Place To Be",
         "AC/DC"
        ],
        [
         "7",
         "Whole Lotta Rosie",
         "AC/DC"
        ]
       ],
       "shape": {
        "columns": 2,
        "rows": 8
       }
      },
      "text/html": [
       "<div>\n",
       "<style scoped>\n",
       "    .dataframe tbody tr th:only-of-type {\n",
       "        vertical-align: middle;\n",
       "    }\n",
       "\n",
       "    .dataframe tbody tr th {\n",
       "        vertical-align: top;\n",
       "    }\n",
       "\n",
       "    .dataframe thead th {\n",
       "        text-align: right;\n",
       "    }\n",
       "</style>\n",
       "<table border=\"1\" class=\"dataframe\">\n",
       "  <thead>\n",
       "    <tr style=\"text-align: right;\">\n",
       "      <th></th>\n",
       "      <th>Name</th>\n",
       "      <th>Composer</th>\n",
       "    </tr>\n",
       "  </thead>\n",
       "  <tbody>\n",
       "    <tr>\n",
       "      <th>0</th>\n",
       "      <td>Go Down</td>\n",
       "      <td>AC/DC</td>\n",
       "    </tr>\n",
       "    <tr>\n",
       "      <th>1</th>\n",
       "      <td>Dog Eat Dog</td>\n",
       "      <td>AC/DC</td>\n",
       "    </tr>\n",
       "    <tr>\n",
       "      <th>2</th>\n",
       "      <td>Let There Be Rock</td>\n",
       "      <td>AC/DC</td>\n",
       "    </tr>\n",
       "    <tr>\n",
       "      <th>3</th>\n",
       "      <td>Bad Boy Boogie</td>\n",
       "      <td>AC/DC</td>\n",
       "    </tr>\n",
       "    <tr>\n",
       "      <th>4</th>\n",
       "      <td>Problem Child</td>\n",
       "      <td>AC/DC</td>\n",
       "    </tr>\n",
       "    <tr>\n",
       "      <th>5</th>\n",
       "      <td>Overdose</td>\n",
       "      <td>AC/DC</td>\n",
       "    </tr>\n",
       "    <tr>\n",
       "      <th>6</th>\n",
       "      <td>Hell Ain't A Bad Place To Be</td>\n",
       "      <td>AC/DC</td>\n",
       "    </tr>\n",
       "    <tr>\n",
       "      <th>7</th>\n",
       "      <td>Whole Lotta Rosie</td>\n",
       "      <td>AC/DC</td>\n",
       "    </tr>\n",
       "  </tbody>\n",
       "</table>\n",
       "</div>"
      ],
      "text/plain": [
       "                           Name Composer\n",
       "0                       Go Down    AC/DC\n",
       "1                   Dog Eat Dog    AC/DC\n",
       "2             Let There Be Rock    AC/DC\n",
       "3                Bad Boy Boogie    AC/DC\n",
       "4                 Problem Child    AC/DC\n",
       "5                      Overdose    AC/DC\n",
       "6  Hell Ain't A Bad Place To Be    AC/DC\n",
       "7             Whole Lotta Rosie    AC/DC"
      ]
     },
     "execution_count": 58,
     "metadata": {},
     "output_type": "execute_result"
    }
   ],
   "source": [
    "query = '''\n",
    "SELECT t.Name,t.Composer\n",
    "FROM tracks as t\n",
    "WHERE t.Composer  = \"AC/DC\" \n",
    "'''\n",
    "\n",
    "df = sql_query(query)\n",
    "df"
   ]
  },
  {
   "cell_type": "code",
   "execution_count": 59,
   "metadata": {},
   "outputs": [
    {
     "data": {
      "application/vnd.microsoft.datawrangler.viewer.v0+json": {
       "columns": [
        {
         "name": "index",
         "rawType": "int64",
         "type": "integer"
        },
        {
         "name": "FirstName",
         "rawType": "object",
         "type": "string"
        },
        {
         "name": "LastName",
         "rawType": "object",
         "type": "string"
        },
        {
         "name": "Country",
         "rawType": "object",
         "type": "string"
        },
        {
         "name": "CustomerId",
         "rawType": "int64",
         "type": "integer"
        }
       ],
       "conversionMethod": "pd.DataFrame",
       "ref": "3593e131-0fe6-4f51-bc8f-cd3f0f808dd3",
       "rows": [
        [
         "0",
         "Luís",
         "Gonçalves",
         "Brazil",
         "1"
        ],
        [
         "1",
         "Leonie",
         "Köhler",
         "Germany",
         "2"
        ],
        [
         "2",
         "François",
         "Tremblay",
         "Canada",
         "3"
        ],
        [
         "3",
         "Bjørn",
         "Hansen",
         "Norway",
         "4"
        ],
        [
         "4",
         "František",
         "Wichterlová",
         "Czech Republic",
         "5"
        ],
        [
         "5",
         "Helena",
         "Holý",
         "Czech Republic",
         "6"
        ],
        [
         "6",
         "Astrid",
         "Gruber",
         "Austria",
         "7"
        ],
        [
         "7",
         "Daan",
         "Peeters",
         "Belgium",
         "8"
        ],
        [
         "8",
         "Kara",
         "Nielsen",
         "Denmark",
         "9"
        ],
        [
         "9",
         "Eduardo",
         "Martins",
         "Brazil",
         "10"
        ],
        [
         "10",
         "Alexandre",
         "Rocha",
         "Brazil",
         "11"
        ],
        [
         "11",
         "Roberto",
         "Almeida",
         "Brazil",
         "12"
        ],
        [
         "12",
         "Fernanda",
         "Ramos",
         "Brazil",
         "13"
        ],
        [
         "13",
         "Mark",
         "Philips",
         "Canada",
         "14"
        ],
        [
         "14",
         "Jennifer",
         "Peterson",
         "Canada",
         "15"
        ],
        [
         "15",
         "Robert",
         "Brown",
         "Canada",
         "29"
        ],
        [
         "16",
         "Edward",
         "Francis",
         "Canada",
         "30"
        ],
        [
         "17",
         "Martha",
         "Silk",
         "Canada",
         "31"
        ],
        [
         "18",
         "Aaron",
         "Mitchell",
         "Canada",
         "32"
        ],
        [
         "19",
         "Ellie",
         "Sullivan",
         "Canada",
         "33"
        ],
        [
         "20",
         "João",
         "Fernandes",
         "Portugal",
         "34"
        ],
        [
         "21",
         "Madalena",
         "Sampaio",
         "Portugal",
         "35"
        ],
        [
         "22",
         "Hannah",
         "Schneider",
         "Germany",
         "36"
        ],
        [
         "23",
         "Fynn",
         "Zimmermann",
         "Germany",
         "37"
        ],
        [
         "24",
         "Niklas",
         "Schröder",
         "Germany",
         "38"
        ],
        [
         "25",
         "Camille",
         "Bernard",
         "France",
         "39"
        ],
        [
         "26",
         "Dominique",
         "Lefebvre",
         "France",
         "40"
        ],
        [
         "27",
         "Marc",
         "Dubois",
         "France",
         "41"
        ],
        [
         "28",
         "Wyatt",
         "Girard",
         "France",
         "42"
        ],
        [
         "29",
         "Isabelle",
         "Mercier",
         "France",
         "43"
        ],
        [
         "30",
         "Terhi",
         "Hämäläinen",
         "Finland",
         "44"
        ],
        [
         "31",
         "Ladislav",
         "Kovács",
         "Hungary",
         "45"
        ],
        [
         "32",
         "Hugh",
         "O'Reilly",
         "Ireland",
         "46"
        ],
        [
         "33",
         "Lucas",
         "Mancini",
         "Italy",
         "47"
        ],
        [
         "34",
         "Johannes",
         "Van der Berg",
         "Netherlands",
         "48"
        ],
        [
         "35",
         "Stanisław",
         "Wójcik",
         "Poland",
         "49"
        ],
        [
         "36",
         "Enrique",
         "Muñoz",
         "Spain",
         "50"
        ],
        [
         "37",
         "Joakim",
         "Johansson",
         "Sweden",
         "51"
        ],
        [
         "38",
         "Emma",
         "Jones",
         "United Kingdom",
         "52"
        ],
        [
         "39",
         "Phil",
         "Hughes",
         "United Kingdom",
         "53"
        ],
        [
         "40",
         "Steve",
         "Murray",
         "United Kingdom",
         "54"
        ],
        [
         "41",
         "Mark",
         "Taylor",
         "Australia",
         "55"
        ],
        [
         "42",
         "Diego",
         "Gutiérrez",
         "Argentina",
         "56"
        ],
        [
         "43",
         "Luis",
         "Rojas",
         "Chile",
         "57"
        ],
        [
         "44",
         "Manoj",
         "Pareek",
         "India",
         "58"
        ],
        [
         "45",
         "Puja",
         "Srivastava",
         "India",
         "59"
        ]
       ],
       "shape": {
        "columns": 4,
        "rows": 46
       }
      },
      "text/html": [
       "<div>\n",
       "<style scoped>\n",
       "    .dataframe tbody tr th:only-of-type {\n",
       "        vertical-align: middle;\n",
       "    }\n",
       "\n",
       "    .dataframe tbody tr th {\n",
       "        vertical-align: top;\n",
       "    }\n",
       "\n",
       "    .dataframe thead th {\n",
       "        text-align: right;\n",
       "    }\n",
       "</style>\n",
       "<table border=\"1\" class=\"dataframe\">\n",
       "  <thead>\n",
       "    <tr style=\"text-align: right;\">\n",
       "      <th></th>\n",
       "      <th>FirstName</th>\n",
       "      <th>LastName</th>\n",
       "      <th>Country</th>\n",
       "      <th>CustomerId</th>\n",
       "    </tr>\n",
       "  </thead>\n",
       "  <tbody>\n",
       "    <tr>\n",
       "      <th>0</th>\n",
       "      <td>Luís</td>\n",
       "      <td>Gonçalves</td>\n",
       "      <td>Brazil</td>\n",
       "      <td>1</td>\n",
       "    </tr>\n",
       "    <tr>\n",
       "      <th>1</th>\n",
       "      <td>Leonie</td>\n",
       "      <td>Köhler</td>\n",
       "      <td>Germany</td>\n",
       "      <td>2</td>\n",
       "    </tr>\n",
       "    <tr>\n",
       "      <th>2</th>\n",
       "      <td>François</td>\n",
       "      <td>Tremblay</td>\n",
       "      <td>Canada</td>\n",
       "      <td>3</td>\n",
       "    </tr>\n",
       "    <tr>\n",
       "      <th>3</th>\n",
       "      <td>Bjørn</td>\n",
       "      <td>Hansen</td>\n",
       "      <td>Norway</td>\n",
       "      <td>4</td>\n",
       "    </tr>\n",
       "    <tr>\n",
       "      <th>4</th>\n",
       "      <td>František</td>\n",
       "      <td>Wichterlová</td>\n",
       "      <td>Czech Republic</td>\n",
       "      <td>5</td>\n",
       "    </tr>\n",
       "    <tr>\n",
       "      <th>5</th>\n",
       "      <td>Helena</td>\n",
       "      <td>Holý</td>\n",
       "      <td>Czech Republic</td>\n",
       "      <td>6</td>\n",
       "    </tr>\n",
       "    <tr>\n",
       "      <th>6</th>\n",
       "      <td>Astrid</td>\n",
       "      <td>Gruber</td>\n",
       "      <td>Austria</td>\n",
       "      <td>7</td>\n",
       "    </tr>\n",
       "    <tr>\n",
       "      <th>7</th>\n",
       "      <td>Daan</td>\n",
       "      <td>Peeters</td>\n",
       "      <td>Belgium</td>\n",
       "      <td>8</td>\n",
       "    </tr>\n",
       "    <tr>\n",
       "      <th>8</th>\n",
       "      <td>Kara</td>\n",
       "      <td>Nielsen</td>\n",
       "      <td>Denmark</td>\n",
       "      <td>9</td>\n",
       "    </tr>\n",
       "    <tr>\n",
       "      <th>9</th>\n",
       "      <td>Eduardo</td>\n",
       "      <td>Martins</td>\n",
       "      <td>Brazil</td>\n",
       "      <td>10</td>\n",
       "    </tr>\n",
       "    <tr>\n",
       "      <th>10</th>\n",
       "      <td>Alexandre</td>\n",
       "      <td>Rocha</td>\n",
       "      <td>Brazil</td>\n",
       "      <td>11</td>\n",
       "    </tr>\n",
       "    <tr>\n",
       "      <th>11</th>\n",
       "      <td>Roberto</td>\n",
       "      <td>Almeida</td>\n",
       "      <td>Brazil</td>\n",
       "      <td>12</td>\n",
       "    </tr>\n",
       "    <tr>\n",
       "      <th>12</th>\n",
       "      <td>Fernanda</td>\n",
       "      <td>Ramos</td>\n",
       "      <td>Brazil</td>\n",
       "      <td>13</td>\n",
       "    </tr>\n",
       "    <tr>\n",
       "      <th>13</th>\n",
       "      <td>Mark</td>\n",
       "      <td>Philips</td>\n",
       "      <td>Canada</td>\n",
       "      <td>14</td>\n",
       "    </tr>\n",
       "    <tr>\n",
       "      <th>14</th>\n",
       "      <td>Jennifer</td>\n",
       "      <td>Peterson</td>\n",
       "      <td>Canada</td>\n",
       "      <td>15</td>\n",
       "    </tr>\n",
       "    <tr>\n",
       "      <th>15</th>\n",
       "      <td>Robert</td>\n",
       "      <td>Brown</td>\n",
       "      <td>Canada</td>\n",
       "      <td>29</td>\n",
       "    </tr>\n",
       "    <tr>\n",
       "      <th>16</th>\n",
       "      <td>Edward</td>\n",
       "      <td>Francis</td>\n",
       "      <td>Canada</td>\n",
       "      <td>30</td>\n",
       "    </tr>\n",
       "    <tr>\n",
       "      <th>17</th>\n",
       "      <td>Martha</td>\n",
       "      <td>Silk</td>\n",
       "      <td>Canada</td>\n",
       "      <td>31</td>\n",
       "    </tr>\n",
       "    <tr>\n",
       "      <th>18</th>\n",
       "      <td>Aaron</td>\n",
       "      <td>Mitchell</td>\n",
       "      <td>Canada</td>\n",
       "      <td>32</td>\n",
       "    </tr>\n",
       "    <tr>\n",
       "      <th>19</th>\n",
       "      <td>Ellie</td>\n",
       "      <td>Sullivan</td>\n",
       "      <td>Canada</td>\n",
       "      <td>33</td>\n",
       "    </tr>\n",
       "    <tr>\n",
       "      <th>20</th>\n",
       "      <td>João</td>\n",
       "      <td>Fernandes</td>\n",
       "      <td>Portugal</td>\n",
       "      <td>34</td>\n",
       "    </tr>\n",
       "    <tr>\n",
       "      <th>21</th>\n",
       "      <td>Madalena</td>\n",
       "      <td>Sampaio</td>\n",
       "      <td>Portugal</td>\n",
       "      <td>35</td>\n",
       "    </tr>\n",
       "    <tr>\n",
       "      <th>22</th>\n",
       "      <td>Hannah</td>\n",
       "      <td>Schneider</td>\n",
       "      <td>Germany</td>\n",
       "      <td>36</td>\n",
       "    </tr>\n",
       "    <tr>\n",
       "      <th>23</th>\n",
       "      <td>Fynn</td>\n",
       "      <td>Zimmermann</td>\n",
       "      <td>Germany</td>\n",
       "      <td>37</td>\n",
       "    </tr>\n",
       "    <tr>\n",
       "      <th>24</th>\n",
       "      <td>Niklas</td>\n",
       "      <td>Schröder</td>\n",
       "      <td>Germany</td>\n",
       "      <td>38</td>\n",
       "    </tr>\n",
       "    <tr>\n",
       "      <th>25</th>\n",
       "      <td>Camille</td>\n",
       "      <td>Bernard</td>\n",
       "      <td>France</td>\n",
       "      <td>39</td>\n",
       "    </tr>\n",
       "    <tr>\n",
       "      <th>26</th>\n",
       "      <td>Dominique</td>\n",
       "      <td>Lefebvre</td>\n",
       "      <td>France</td>\n",
       "      <td>40</td>\n",
       "    </tr>\n",
       "    <tr>\n",
       "      <th>27</th>\n",
       "      <td>Marc</td>\n",
       "      <td>Dubois</td>\n",
       "      <td>France</td>\n",
       "      <td>41</td>\n",
       "    </tr>\n",
       "    <tr>\n",
       "      <th>28</th>\n",
       "      <td>Wyatt</td>\n",
       "      <td>Girard</td>\n",
       "      <td>France</td>\n",
       "      <td>42</td>\n",
       "    </tr>\n",
       "    <tr>\n",
       "      <th>29</th>\n",
       "      <td>Isabelle</td>\n",
       "      <td>Mercier</td>\n",
       "      <td>France</td>\n",
       "      <td>43</td>\n",
       "    </tr>\n",
       "    <tr>\n",
       "      <th>30</th>\n",
       "      <td>Terhi</td>\n",
       "      <td>Hämäläinen</td>\n",
       "      <td>Finland</td>\n",
       "      <td>44</td>\n",
       "    </tr>\n",
       "    <tr>\n",
       "      <th>31</th>\n",
       "      <td>Ladislav</td>\n",
       "      <td>Kovács</td>\n",
       "      <td>Hungary</td>\n",
       "      <td>45</td>\n",
       "    </tr>\n",
       "    <tr>\n",
       "      <th>32</th>\n",
       "      <td>Hugh</td>\n",
       "      <td>O'Reilly</td>\n",
       "      <td>Ireland</td>\n",
       "      <td>46</td>\n",
       "    </tr>\n",
       "    <tr>\n",
       "      <th>33</th>\n",
       "      <td>Lucas</td>\n",
       "      <td>Mancini</td>\n",
       "      <td>Italy</td>\n",
       "      <td>47</td>\n",
       "    </tr>\n",
       "    <tr>\n",
       "      <th>34</th>\n",
       "      <td>Johannes</td>\n",
       "      <td>Van der Berg</td>\n",
       "      <td>Netherlands</td>\n",
       "      <td>48</td>\n",
       "    </tr>\n",
       "    <tr>\n",
       "      <th>35</th>\n",
       "      <td>Stanisław</td>\n",
       "      <td>Wójcik</td>\n",
       "      <td>Poland</td>\n",
       "      <td>49</td>\n",
       "    </tr>\n",
       "    <tr>\n",
       "      <th>36</th>\n",
       "      <td>Enrique</td>\n",
       "      <td>Muñoz</td>\n",
       "      <td>Spain</td>\n",
       "      <td>50</td>\n",
       "    </tr>\n",
       "    <tr>\n",
       "      <th>37</th>\n",
       "      <td>Joakim</td>\n",
       "      <td>Johansson</td>\n",
       "      <td>Sweden</td>\n",
       "      <td>51</td>\n",
       "    </tr>\n",
       "    <tr>\n",
       "      <th>38</th>\n",
       "      <td>Emma</td>\n",
       "      <td>Jones</td>\n",
       "      <td>United Kingdom</td>\n",
       "      <td>52</td>\n",
       "    </tr>\n",
       "    <tr>\n",
       "      <th>39</th>\n",
       "      <td>Phil</td>\n",
       "      <td>Hughes</td>\n",
       "      <td>United Kingdom</td>\n",
       "      <td>53</td>\n",
       "    </tr>\n",
       "    <tr>\n",
       "      <th>40</th>\n",
       "      <td>Steve</td>\n",
       "      <td>Murray</td>\n",
       "      <td>United Kingdom</td>\n",
       "      <td>54</td>\n",
       "    </tr>\n",
       "    <tr>\n",
       "      <th>41</th>\n",
       "      <td>Mark</td>\n",
       "      <td>Taylor</td>\n",
       "      <td>Australia</td>\n",
       "      <td>55</td>\n",
       "    </tr>\n",
       "    <tr>\n",
       "      <th>42</th>\n",
       "      <td>Diego</td>\n",
       "      <td>Gutiérrez</td>\n",
       "      <td>Argentina</td>\n",
       "      <td>56</td>\n",
       "    </tr>\n",
       "    <tr>\n",
       "      <th>43</th>\n",
       "      <td>Luis</td>\n",
       "      <td>Rojas</td>\n",
       "      <td>Chile</td>\n",
       "      <td>57</td>\n",
       "    </tr>\n",
       "    <tr>\n",
       "      <th>44</th>\n",
       "      <td>Manoj</td>\n",
       "      <td>Pareek</td>\n",
       "      <td>India</td>\n",
       "      <td>58</td>\n",
       "    </tr>\n",
       "    <tr>\n",
       "      <th>45</th>\n",
       "      <td>Puja</td>\n",
       "      <td>Srivastava</td>\n",
       "      <td>India</td>\n",
       "      <td>59</td>\n",
       "    </tr>\n",
       "  </tbody>\n",
       "</table>\n",
       "</div>"
      ],
      "text/plain": [
       "    FirstName      LastName         Country  CustomerId\n",
       "0        Luís     Gonçalves          Brazil           1\n",
       "1      Leonie        Köhler         Germany           2\n",
       "2    François      Tremblay          Canada           3\n",
       "3       Bjørn        Hansen          Norway           4\n",
       "4   František   Wichterlová  Czech Republic           5\n",
       "5      Helena          Holý  Czech Republic           6\n",
       "6      Astrid        Gruber         Austria           7\n",
       "7        Daan       Peeters         Belgium           8\n",
       "8        Kara       Nielsen         Denmark           9\n",
       "9     Eduardo       Martins          Brazil          10\n",
       "10  Alexandre         Rocha          Brazil          11\n",
       "11    Roberto       Almeida          Brazil          12\n",
       "12   Fernanda         Ramos          Brazil          13\n",
       "13       Mark       Philips          Canada          14\n",
       "14   Jennifer      Peterson          Canada          15\n",
       "15     Robert         Brown          Canada          29\n",
       "16     Edward       Francis          Canada          30\n",
       "17     Martha          Silk          Canada          31\n",
       "18      Aaron      Mitchell          Canada          32\n",
       "19      Ellie      Sullivan          Canada          33\n",
       "20       João     Fernandes        Portugal          34\n",
       "21   Madalena       Sampaio        Portugal          35\n",
       "22     Hannah     Schneider         Germany          36\n",
       "23       Fynn    Zimmermann         Germany          37\n",
       "24     Niklas      Schröder         Germany          38\n",
       "25    Camille       Bernard          France          39\n",
       "26  Dominique      Lefebvre          France          40\n",
       "27       Marc        Dubois          France          41\n",
       "28      Wyatt        Girard          France          42\n",
       "29   Isabelle       Mercier          France          43\n",
       "30      Terhi    Hämäläinen         Finland          44\n",
       "31   Ladislav        Kovács         Hungary          45\n",
       "32       Hugh      O'Reilly         Ireland          46\n",
       "33      Lucas       Mancini           Italy          47\n",
       "34   Johannes  Van der Berg     Netherlands          48\n",
       "35  Stanisław        Wójcik          Poland          49\n",
       "36    Enrique         Muñoz           Spain          50\n",
       "37     Joakim     Johansson          Sweden          51\n",
       "38       Emma         Jones  United Kingdom          52\n",
       "39       Phil        Hughes  United Kingdom          53\n",
       "40      Steve        Murray  United Kingdom          54\n",
       "41       Mark        Taylor       Australia          55\n",
       "42      Diego     Gutiérrez       Argentina          56\n",
       "43       Luis         Rojas           Chile          57\n",
       "44      Manoj        Pareek           India          58\n",
       "45       Puja    Srivastava           India          59"
      ]
     },
     "execution_count": 59,
     "metadata": {},
     "output_type": "execute_result"
    }
   ],
   "source": [
    "query = '''\n",
    "SELECT c.FirstName,c.LastName,c.Country,c.CustomerId\n",
    "FROM customers as c\n",
    "WHERE c.Country  != \"USA\" \n",
    "'''\n",
    "\n",
    "df = sql_query(query)\n",
    "df"
   ]
  },
  {
   "cell_type": "code",
   "execution_count": 60,
   "metadata": {},
   "outputs": [
    {
     "data": {
      "application/vnd.microsoft.datawrangler.viewer.v0+json": {
       "columns": [
        {
         "name": "index",
         "rawType": "int64",
         "type": "integer"
        },
        {
         "name": "FirstName",
         "rawType": "object",
         "type": "string"
        },
        {
         "name": "LastName",
         "rawType": "object",
         "type": "string"
        },
        {
         "name": "Title",
         "rawType": "object",
         "type": "string"
        },
        {
         "name": "City",
         "rawType": "object",
         "type": "string"
        },
        {
         "name": "State",
         "rawType": "object",
         "type": "string"
        },
        {
         "name": "Country",
         "rawType": "object",
         "type": "string"
        },
        {
         "name": "Email",
         "rawType": "object",
         "type": "string"
        }
       ],
       "conversionMethod": "pd.DataFrame",
       "ref": "e2e09eec-240a-4286-aeda-e2f7de8e40c5",
       "rows": [
        [
         "0",
         "Jane",
         "Peacock",
         "Sales Support Agent",
         "Calgary",
         "AB",
         "Canada",
         "jane@chinookcorp.com"
        ],
        [
         "1",
         "Margaret",
         "Park",
         "Sales Support Agent",
         "Calgary",
         "AB",
         "Canada",
         "margaret@chinookcorp.com"
        ],
        [
         "2",
         "Steve",
         "Johnson",
         "Sales Support Agent",
         "Calgary",
         "AB",
         "Canada",
         "steve@chinookcorp.com"
        ]
       ],
       "shape": {
        "columns": 7,
        "rows": 3
       }
      },
      "text/html": [
       "<div>\n",
       "<style scoped>\n",
       "    .dataframe tbody tr th:only-of-type {\n",
       "        vertical-align: middle;\n",
       "    }\n",
       "\n",
       "    .dataframe tbody tr th {\n",
       "        vertical-align: top;\n",
       "    }\n",
       "\n",
       "    .dataframe thead th {\n",
       "        text-align: right;\n",
       "    }\n",
       "</style>\n",
       "<table border=\"1\" class=\"dataframe\">\n",
       "  <thead>\n",
       "    <tr style=\"text-align: right;\">\n",
       "      <th></th>\n",
       "      <th>FirstName</th>\n",
       "      <th>LastName</th>\n",
       "      <th>Title</th>\n",
       "      <th>City</th>\n",
       "      <th>State</th>\n",
       "      <th>Country</th>\n",
       "      <th>Email</th>\n",
       "    </tr>\n",
       "  </thead>\n",
       "  <tbody>\n",
       "    <tr>\n",
       "      <th>0</th>\n",
       "      <td>Jane</td>\n",
       "      <td>Peacock</td>\n",
       "      <td>Sales Support Agent</td>\n",
       "      <td>Calgary</td>\n",
       "      <td>AB</td>\n",
       "      <td>Canada</td>\n",
       "      <td>jane@chinookcorp.com</td>\n",
       "    </tr>\n",
       "    <tr>\n",
       "      <th>1</th>\n",
       "      <td>Margaret</td>\n",
       "      <td>Park</td>\n",
       "      <td>Sales Support Agent</td>\n",
       "      <td>Calgary</td>\n",
       "      <td>AB</td>\n",
       "      <td>Canada</td>\n",
       "      <td>margaret@chinookcorp.com</td>\n",
       "    </tr>\n",
       "    <tr>\n",
       "      <th>2</th>\n",
       "      <td>Steve</td>\n",
       "      <td>Johnson</td>\n",
       "      <td>Sales Support Agent</td>\n",
       "      <td>Calgary</td>\n",
       "      <td>AB</td>\n",
       "      <td>Canada</td>\n",
       "      <td>steve@chinookcorp.com</td>\n",
       "    </tr>\n",
       "  </tbody>\n",
       "</table>\n",
       "</div>"
      ],
      "text/plain": [
       "  FirstName LastName                Title     City State Country  \\\n",
       "0      Jane  Peacock  Sales Support Agent  Calgary    AB  Canada   \n",
       "1  Margaret     Park  Sales Support Agent  Calgary    AB  Canada   \n",
       "2     Steve  Johnson  Sales Support Agent  Calgary    AB  Canada   \n",
       "\n",
       "                      Email  \n",
       "0      jane@chinookcorp.com  \n",
       "1  margaret@chinookcorp.com  \n",
       "2     steve@chinookcorp.com  "
      ]
     },
     "execution_count": 60,
     "metadata": {},
     "output_type": "execute_result"
    }
   ],
   "source": [
    "query = '''\n",
    "SELECT e.FirstName,e.LastName,e.Title,e.City,e.State,e.Country,e.Email\n",
    "FROM employees as e\n",
    "WHERE e.Title  = \"Sales Support Agent\" \n",
    "'''\n",
    "\n",
    "df = sql_query(query)\n",
    "df"
   ]
  },
  {
   "cell_type": "code",
   "execution_count": 61,
   "metadata": {},
   "outputs": [
    {
     "data": {
      "application/vnd.microsoft.datawrangler.viewer.v0+json": {
       "columns": [
        {
         "name": "index",
         "rawType": "int64",
         "type": "integer"
        },
        {
         "name": "BillingCountry",
         "rawType": "object",
         "type": "string"
        }
       ],
       "conversionMethod": "pd.DataFrame",
       "ref": "8b9ceca9-0c00-4a6b-b1d5-77cedb0ce29a",
       "rows": [
        [
         "0",
         "Germany"
        ],
        [
         "1",
         "Norway"
        ],
        [
         "2",
         "Belgium"
        ],
        [
         "3",
         "Canada"
        ],
        [
         "4",
         "USA"
        ],
        [
         "5",
         "France"
        ],
        [
         "6",
         "Ireland"
        ],
        [
         "7",
         "United Kingdom"
        ],
        [
         "8",
         "Australia"
        ],
        [
         "9",
         "Chile"
        ],
        [
         "10",
         "India"
        ],
        [
         "11",
         "Brazil"
        ],
        [
         "12",
         "Portugal"
        ],
        [
         "13",
         "Netherlands"
        ],
        [
         "14",
         "Spain"
        ],
        [
         "15",
         "Sweden"
        ],
        [
         "16",
         "Czech Republic"
        ],
        [
         "17",
         "Finland"
        ],
        [
         "18",
         "Denmark"
        ],
        [
         "19",
         "Italy"
        ],
        [
         "20",
         "Poland"
        ],
        [
         "21",
         "Austria"
        ],
        [
         "22",
         "Hungary"
        ],
        [
         "23",
         "Argentina"
        ]
       ],
       "shape": {
        "columns": 1,
        "rows": 24
       }
      },
      "text/html": [
       "<div>\n",
       "<style scoped>\n",
       "    .dataframe tbody tr th:only-of-type {\n",
       "        vertical-align: middle;\n",
       "    }\n",
       "\n",
       "    .dataframe tbody tr th {\n",
       "        vertical-align: top;\n",
       "    }\n",
       "\n",
       "    .dataframe thead th {\n",
       "        text-align: right;\n",
       "    }\n",
       "</style>\n",
       "<table border=\"1\" class=\"dataframe\">\n",
       "  <thead>\n",
       "    <tr style=\"text-align: right;\">\n",
       "      <th></th>\n",
       "      <th>BillingCountry</th>\n",
       "    </tr>\n",
       "  </thead>\n",
       "  <tbody>\n",
       "    <tr>\n",
       "      <th>0</th>\n",
       "      <td>Germany</td>\n",
       "    </tr>\n",
       "    <tr>\n",
       "      <th>1</th>\n",
       "      <td>Norway</td>\n",
       "    </tr>\n",
       "    <tr>\n",
       "      <th>2</th>\n",
       "      <td>Belgium</td>\n",
       "    </tr>\n",
       "    <tr>\n",
       "      <th>3</th>\n",
       "      <td>Canada</td>\n",
       "    </tr>\n",
       "    <tr>\n",
       "      <th>4</th>\n",
       "      <td>USA</td>\n",
       "    </tr>\n",
       "    <tr>\n",
       "      <th>5</th>\n",
       "      <td>France</td>\n",
       "    </tr>\n",
       "    <tr>\n",
       "      <th>6</th>\n",
       "      <td>Ireland</td>\n",
       "    </tr>\n",
       "    <tr>\n",
       "      <th>7</th>\n",
       "      <td>United Kingdom</td>\n",
       "    </tr>\n",
       "    <tr>\n",
       "      <th>8</th>\n",
       "      <td>Australia</td>\n",
       "    </tr>\n",
       "    <tr>\n",
       "      <th>9</th>\n",
       "      <td>Chile</td>\n",
       "    </tr>\n",
       "    <tr>\n",
       "      <th>10</th>\n",
       "      <td>India</td>\n",
       "    </tr>\n",
       "    <tr>\n",
       "      <th>11</th>\n",
       "      <td>Brazil</td>\n",
       "    </tr>\n",
       "    <tr>\n",
       "      <th>12</th>\n",
       "      <td>Portugal</td>\n",
       "    </tr>\n",
       "    <tr>\n",
       "      <th>13</th>\n",
       "      <td>Netherlands</td>\n",
       "    </tr>\n",
       "    <tr>\n",
       "      <th>14</th>\n",
       "      <td>Spain</td>\n",
       "    </tr>\n",
       "    <tr>\n",
       "      <th>15</th>\n",
       "      <td>Sweden</td>\n",
       "    </tr>\n",
       "    <tr>\n",
       "      <th>16</th>\n",
       "      <td>Czech Republic</td>\n",
       "    </tr>\n",
       "    <tr>\n",
       "      <th>17</th>\n",
       "      <td>Finland</td>\n",
       "    </tr>\n",
       "    <tr>\n",
       "      <th>18</th>\n",
       "      <td>Denmark</td>\n",
       "    </tr>\n",
       "    <tr>\n",
       "      <th>19</th>\n",
       "      <td>Italy</td>\n",
       "    </tr>\n",
       "    <tr>\n",
       "      <th>20</th>\n",
       "      <td>Poland</td>\n",
       "    </tr>\n",
       "    <tr>\n",
       "      <th>21</th>\n",
       "      <td>Austria</td>\n",
       "    </tr>\n",
       "    <tr>\n",
       "      <th>22</th>\n",
       "      <td>Hungary</td>\n",
       "    </tr>\n",
       "    <tr>\n",
       "      <th>23</th>\n",
       "      <td>Argentina</td>\n",
       "    </tr>\n",
       "  </tbody>\n",
       "</table>\n",
       "</div>"
      ],
      "text/plain": [
       "    BillingCountry\n",
       "0          Germany\n",
       "1           Norway\n",
       "2          Belgium\n",
       "3           Canada\n",
       "4              USA\n",
       "5           France\n",
       "6          Ireland\n",
       "7   United Kingdom\n",
       "8        Australia\n",
       "9            Chile\n",
       "10           India\n",
       "11          Brazil\n",
       "12        Portugal\n",
       "13     Netherlands\n",
       "14           Spain\n",
       "15          Sweden\n",
       "16  Czech Republic\n",
       "17         Finland\n",
       "18         Denmark\n",
       "19           Italy\n",
       "20          Poland\n",
       "21         Austria\n",
       "22         Hungary\n",
       "23       Argentina"
      ]
     },
     "execution_count": 61,
     "metadata": {},
     "output_type": "execute_result"
    }
   ],
   "source": [
    "query = '''\n",
    "SELECT DISTINCT BillingCountry\n",
    "FROM invoices\n",
    "'''\n",
    "\n",
    "df = sql_query(query)\n",
    "df"
   ]
  },
  {
   "cell_type": "code",
   "execution_count": 62,
   "metadata": {},
   "outputs": [
    {
     "data": {
      "application/vnd.microsoft.datawrangler.viewer.v0+json": {
       "columns": [
        {
         "name": "index",
         "rawType": "int64",
         "type": "integer"
        },
        {
         "name": "State",
         "rawType": "object",
         "type": "string"
        },
        {
         "name": "TOT",
         "rawType": "int64",
         "type": "integer"
        }
       ],
       "conversionMethod": "pd.DataFrame",
       "ref": "393ea5e4-3ab3-43fe-b952-abd8aeed6cbc",
       "rows": [
        [
         "0",
         "CA",
         "3"
        ],
        [
         "1",
         "WI",
         "1"
        ],
        [
         "2",
         "WA",
         "1"
        ],
        [
         "3",
         "UT",
         "1"
        ],
        [
         "4",
         "TX",
         "1"
        ],
        [
         "5",
         "NY",
         "1"
        ],
        [
         "6",
         "NV",
         "1"
        ],
        [
         "7",
         "MA",
         "1"
        ],
        [
         "8",
         "IL",
         "1"
        ],
        [
         "9",
         "FL",
         "1"
        ],
        [
         "10",
         "AZ",
         "1"
        ]
       ],
       "shape": {
        "columns": 2,
        "rows": 11
       }
      },
      "text/html": [
       "<div>\n",
       "<style scoped>\n",
       "    .dataframe tbody tr th:only-of-type {\n",
       "        vertical-align: middle;\n",
       "    }\n",
       "\n",
       "    .dataframe tbody tr th {\n",
       "        vertical-align: top;\n",
       "    }\n",
       "\n",
       "    .dataframe thead th {\n",
       "        text-align: right;\n",
       "    }\n",
       "</style>\n",
       "<table border=\"1\" class=\"dataframe\">\n",
       "  <thead>\n",
       "    <tr style=\"text-align: right;\">\n",
       "      <th></th>\n",
       "      <th>State</th>\n",
       "      <th>TOT</th>\n",
       "    </tr>\n",
       "  </thead>\n",
       "  <tbody>\n",
       "    <tr>\n",
       "      <th>0</th>\n",
       "      <td>CA</td>\n",
       "      <td>3</td>\n",
       "    </tr>\n",
       "    <tr>\n",
       "      <th>1</th>\n",
       "      <td>WI</td>\n",
       "      <td>1</td>\n",
       "    </tr>\n",
       "    <tr>\n",
       "      <th>2</th>\n",
       "      <td>WA</td>\n",
       "      <td>1</td>\n",
       "    </tr>\n",
       "    <tr>\n",
       "      <th>3</th>\n",
       "      <td>UT</td>\n",
       "      <td>1</td>\n",
       "    </tr>\n",
       "    <tr>\n",
       "      <th>4</th>\n",
       "      <td>TX</td>\n",
       "      <td>1</td>\n",
       "    </tr>\n",
       "    <tr>\n",
       "      <th>5</th>\n",
       "      <td>NY</td>\n",
       "      <td>1</td>\n",
       "    </tr>\n",
       "    <tr>\n",
       "      <th>6</th>\n",
       "      <td>NV</td>\n",
       "      <td>1</td>\n",
       "    </tr>\n",
       "    <tr>\n",
       "      <th>7</th>\n",
       "      <td>MA</td>\n",
       "      <td>1</td>\n",
       "    </tr>\n",
       "    <tr>\n",
       "      <th>8</th>\n",
       "      <td>IL</td>\n",
       "      <td>1</td>\n",
       "    </tr>\n",
       "    <tr>\n",
       "      <th>9</th>\n",
       "      <td>FL</td>\n",
       "      <td>1</td>\n",
       "    </tr>\n",
       "    <tr>\n",
       "      <th>10</th>\n",
       "      <td>AZ</td>\n",
       "      <td>1</td>\n",
       "    </tr>\n",
       "  </tbody>\n",
       "</table>\n",
       "</div>"
      ],
      "text/plain": [
       "   State  TOT\n",
       "0     CA    3\n",
       "1     WI    1\n",
       "2     WA    1\n",
       "3     UT    1\n",
       "4     TX    1\n",
       "5     NY    1\n",
       "6     NV    1\n",
       "7     MA    1\n",
       "8     IL    1\n",
       "9     FL    1\n",
       "10    AZ    1"
      ]
     },
     "execution_count": 62,
     "metadata": {},
     "output_type": "execute_result"
    }
   ],
   "source": [
    "query = '''\n",
    "SELECT DISTINCT State, COUNT (customers.CustomerId) as TOT\n",
    "FROM customers\n",
    "WHERE Country = \"USA\"\n",
    "GROUP BY State \n",
    "ORDER BY TOT DESC\n",
    "'''\n",
    "\n",
    "df = sql_query(query)\n",
    "df"
   ]
  },
  {
   "cell_type": "code",
   "execution_count": 63,
   "metadata": {},
   "outputs": [
    {
     "data": {
      "application/vnd.microsoft.datawrangler.viewer.v0+json": {
       "columns": [
        {
         "name": "index",
         "rawType": "int64",
         "type": "integer"
        },
        {
         "name": "InvoiceId",
         "rawType": "int64",
         "type": "integer"
        },
        {
         "name": "Cantidad_Total",
         "rawType": "int64",
         "type": "integer"
        }
       ],
       "conversionMethod": "pd.DataFrame",
       "ref": "65ad75fc-aaaf-4a1f-9447-0553eed64823",
       "rows": [
        [
         "0",
         "37",
         "4"
        ]
       ],
       "shape": {
        "columns": 2,
        "rows": 1
       }
      },
      "text/html": [
       "<div>\n",
       "<style scoped>\n",
       "    .dataframe tbody tr th:only-of-type {\n",
       "        vertical-align: middle;\n",
       "    }\n",
       "\n",
       "    .dataframe tbody tr th {\n",
       "        vertical-align: top;\n",
       "    }\n",
       "\n",
       "    .dataframe thead th {\n",
       "        text-align: right;\n",
       "    }\n",
       "</style>\n",
       "<table border=\"1\" class=\"dataframe\">\n",
       "  <thead>\n",
       "    <tr style=\"text-align: right;\">\n",
       "      <th></th>\n",
       "      <th>InvoiceId</th>\n",
       "      <th>Cantidad_Total</th>\n",
       "    </tr>\n",
       "  </thead>\n",
       "  <tbody>\n",
       "    <tr>\n",
       "      <th>0</th>\n",
       "      <td>37</td>\n",
       "      <td>4</td>\n",
       "    </tr>\n",
       "  </tbody>\n",
       "</table>\n",
       "</div>"
      ],
      "text/plain": [
       "   InvoiceId  Cantidad_Total\n",
       "0         37               4"
      ]
     },
     "execution_count": 63,
     "metadata": {},
     "output_type": "execute_result"
    }
   ],
   "source": [
    "query = '''\n",
    "SELECT i.invoiceId,COUNT (it.Quantity) as Cantidad_Total FROM invoice_items as it\n",
    "INNER JOIN invoices as i\n",
    "ON it.InvoiceId = i.InvoiceId\n",
    "WHERE i.InvoiceId = 37\n",
    "'''\n",
    "\n",
    "df = sql_query(query)\n",
    "df"
   ]
  },
  {
   "cell_type": "code",
   "execution_count": 103,
   "metadata": {},
   "outputs": [
    {
     "data": {
      "application/vnd.microsoft.datawrangler.viewer.v0+json": {
       "columns": [
        {
         "name": "index",
         "rawType": "int64",
         "type": "integer"
        },
        {
         "name": "InvoiceId",
         "rawType": "int64",
         "type": "integer"
        },
        {
         "name": "Cantidad_Total",
         "rawType": "int64",
         "type": "integer"
        }
       ],
       "conversionMethod": "pd.DataFrame",
       "ref": "a9fc4d21-c628-4647-8936-5ddc451f8296",
       "rows": [
        [
         "0",
         "1",
         "2"
        ],
        [
         "1",
         "2",
         "4"
        ],
        [
         "2",
         "3",
         "6"
        ],
        [
         "3",
         "4",
         "9"
        ],
        [
         "4",
         "5",
         "14"
        ],
        [
         "5",
         "6",
         "1"
        ],
        [
         "6",
         "7",
         "2"
        ],
        [
         "7",
         "8",
         "2"
        ],
        [
         "8",
         "9",
         "4"
        ],
        [
         "9",
         "10",
         "6"
        ],
        [
         "10",
         "11",
         "9"
        ],
        [
         "11",
         "12",
         "14"
        ],
        [
         "12",
         "13",
         "1"
        ],
        [
         "13",
         "14",
         "2"
        ],
        [
         "14",
         "15",
         "2"
        ],
        [
         "15",
         "16",
         "4"
        ],
        [
         "16",
         "17",
         "6"
        ],
        [
         "17",
         "18",
         "9"
        ],
        [
         "18",
         "19",
         "14"
        ],
        [
         "19",
         "20",
         "1"
        ],
        [
         "20",
         "21",
         "2"
        ],
        [
         "21",
         "22",
         "2"
        ],
        [
         "22",
         "23",
         "4"
        ],
        [
         "23",
         "24",
         "6"
        ],
        [
         "24",
         "25",
         "9"
        ],
        [
         "25",
         "26",
         "14"
        ],
        [
         "26",
         "27",
         "1"
        ],
        [
         "27",
         "28",
         "2"
        ],
        [
         "28",
         "29",
         "2"
        ],
        [
         "29",
         "30",
         "4"
        ],
        [
         "30",
         "31",
         "6"
        ],
        [
         "31",
         "32",
         "9"
        ],
        [
         "32",
         "33",
         "14"
        ],
        [
         "33",
         "34",
         "1"
        ],
        [
         "34",
         "35",
         "2"
        ],
        [
         "35",
         "36",
         "2"
        ],
        [
         "36",
         "37",
         "4"
        ],
        [
         "37",
         "38",
         "6"
        ],
        [
         "38",
         "39",
         "9"
        ],
        [
         "39",
         "40",
         "14"
        ],
        [
         "40",
         "41",
         "1"
        ],
        [
         "41",
         "42",
         "2"
        ],
        [
         "42",
         "43",
         "2"
        ],
        [
         "43",
         "44",
         "4"
        ],
        [
         "44",
         "45",
         "6"
        ],
        [
         "45",
         "46",
         "9"
        ],
        [
         "46",
         "47",
         "14"
        ],
        [
         "47",
         "48",
         "1"
        ],
        [
         "48",
         "49",
         "2"
        ],
        [
         "49",
         "50",
         "2"
        ]
       ],
       "shape": {
        "columns": 2,
        "rows": 412
       }
      },
      "text/html": [
       "<div>\n",
       "<style scoped>\n",
       "    .dataframe tbody tr th:only-of-type {\n",
       "        vertical-align: middle;\n",
       "    }\n",
       "\n",
       "    .dataframe tbody tr th {\n",
       "        vertical-align: top;\n",
       "    }\n",
       "\n",
       "    .dataframe thead th {\n",
       "        text-align: right;\n",
       "    }\n",
       "</style>\n",
       "<table border=\"1\" class=\"dataframe\">\n",
       "  <thead>\n",
       "    <tr style=\"text-align: right;\">\n",
       "      <th></th>\n",
       "      <th>InvoiceId</th>\n",
       "      <th>Cantidad_Total</th>\n",
       "    </tr>\n",
       "  </thead>\n",
       "  <tbody>\n",
       "    <tr>\n",
       "      <th>0</th>\n",
       "      <td>1</td>\n",
       "      <td>2</td>\n",
       "    </tr>\n",
       "    <tr>\n",
       "      <th>1</th>\n",
       "      <td>2</td>\n",
       "      <td>4</td>\n",
       "    </tr>\n",
       "    <tr>\n",
       "      <th>2</th>\n",
       "      <td>3</td>\n",
       "      <td>6</td>\n",
       "    </tr>\n",
       "    <tr>\n",
       "      <th>3</th>\n",
       "      <td>4</td>\n",
       "      <td>9</td>\n",
       "    </tr>\n",
       "    <tr>\n",
       "      <th>4</th>\n",
       "      <td>5</td>\n",
       "      <td>14</td>\n",
       "    </tr>\n",
       "    <tr>\n",
       "      <th>...</th>\n",
       "      <td>...</td>\n",
       "      <td>...</td>\n",
       "    </tr>\n",
       "    <tr>\n",
       "      <th>407</th>\n",
       "      <td>408</td>\n",
       "      <td>4</td>\n",
       "    </tr>\n",
       "    <tr>\n",
       "      <th>408</th>\n",
       "      <td>409</td>\n",
       "      <td>6</td>\n",
       "    </tr>\n",
       "    <tr>\n",
       "      <th>409</th>\n",
       "      <td>410</td>\n",
       "      <td>9</td>\n",
       "    </tr>\n",
       "    <tr>\n",
       "      <th>410</th>\n",
       "      <td>411</td>\n",
       "      <td>14</td>\n",
       "    </tr>\n",
       "    <tr>\n",
       "      <th>411</th>\n",
       "      <td>412</td>\n",
       "      <td>1</td>\n",
       "    </tr>\n",
       "  </tbody>\n",
       "</table>\n",
       "<p>412 rows × 2 columns</p>\n",
       "</div>"
      ],
      "text/plain": [
       "     InvoiceId  Cantidad_Total\n",
       "0            1               2\n",
       "1            2               4\n",
       "2            3               6\n",
       "3            4               9\n",
       "4            5              14\n",
       "..         ...             ...\n",
       "407        408               4\n",
       "408        409               6\n",
       "409        410               9\n",
       "410        411              14\n",
       "411        412               1\n",
       "\n",
       "[412 rows x 2 columns]"
      ]
     },
     "execution_count": 103,
     "metadata": {},
     "output_type": "execute_result"
    }
   ],
   "source": [
    "query = '''\n",
    "SELECT InvoiceId, SUM(Quantity) AS Cantidad_Total\n",
    "FROM invoice_items\n",
    "GROUP BY InvoiceId;\n",
    "'''\n",
    "\n",
    "df = sql_query(query)\n",
    "df"
   ]
  },
  {
   "cell_type": "code",
   "execution_count": 102,
   "metadata": {},
   "outputs": [
    {
     "data": {
      "application/vnd.microsoft.datawrangler.viewer.v0+json": {
       "columns": [
        {
         "name": "index",
         "rawType": "int64",
         "type": "integer"
        },
        {
         "name": "Total_Facturas",
         "rawType": "int64",
         "type": "integer"
        }
       ],
       "conversionMethod": "pd.DataFrame",
       "ref": "5aefcacc-9e3f-4862-9357-8b5fa5dd5a37",
       "rows": [
        [
         "0",
         "412"
        ]
       ],
       "shape": {
        "columns": 1,
        "rows": 1
       }
      },
      "text/html": [
       "<div>\n",
       "<style scoped>\n",
       "    .dataframe tbody tr th:only-of-type {\n",
       "        vertical-align: middle;\n",
       "    }\n",
       "\n",
       "    .dataframe tbody tr th {\n",
       "        vertical-align: top;\n",
       "    }\n",
       "\n",
       "    .dataframe thead th {\n",
       "        text-align: right;\n",
       "    }\n",
       "</style>\n",
       "<table border=\"1\" class=\"dataframe\">\n",
       "  <thead>\n",
       "    <tr style=\"text-align: right;\">\n",
       "      <th></th>\n",
       "      <th>Total_Facturas</th>\n",
       "    </tr>\n",
       "  </thead>\n",
       "  <tbody>\n",
       "    <tr>\n",
       "      <th>0</th>\n",
       "      <td>412</td>\n",
       "    </tr>\n",
       "  </tbody>\n",
       "</table>\n",
       "</div>"
      ],
      "text/plain": [
       "   Total_Facturas\n",
       "0             412"
      ]
     },
     "execution_count": 102,
     "metadata": {},
     "output_type": "execute_result"
    }
   ],
   "source": [
    "query = '''\n",
    "SELECT COUNT(DISTINCT InvoiceId) AS Total_Facturas\n",
    "FROM invoice_items;\n",
    "'''\n",
    "\n",
    "df = sql_query(query)\n",
    "df"
   ]
  },
  {
   "cell_type": "code",
   "execution_count": 83,
   "metadata": {},
   "outputs": [
    {
     "data": {
      "application/vnd.microsoft.datawrangler.viewer.v0+json": {
       "columns": [
        {
         "name": "index",
         "rawType": "int64",
         "type": "integer"
        },
        {
         "name": "BillingCountry",
         "rawType": "object",
         "type": "string"
        },
        {
         "name": "COUNT (i.InvoiceId)",
         "rawType": "int64",
         "type": "integer"
        }
       ],
       "conversionMethod": "pd.DataFrame",
       "ref": "b8527c3f-6825-4b4c-bc4b-85d6d16ceba8",
       "rows": [
        [
         "0",
         "Argentina",
         "7"
        ],
        [
         "1",
         "Australia",
         "7"
        ],
        [
         "2",
         "Austria",
         "7"
        ],
        [
         "3",
         "Belgium",
         "7"
        ],
        [
         "4",
         "Brazil",
         "35"
        ],
        [
         "5",
         "Canada",
         "56"
        ],
        [
         "6",
         "Chile",
         "7"
        ],
        [
         "7",
         "Czech Republic",
         "14"
        ],
        [
         "8",
         "Denmark",
         "7"
        ],
        [
         "9",
         "Finland",
         "7"
        ],
        [
         "10",
         "France",
         "35"
        ],
        [
         "11",
         "Germany",
         "28"
        ],
        [
         "12",
         "Hungary",
         "7"
        ],
        [
         "13",
         "India",
         "13"
        ],
        [
         "14",
         "Ireland",
         "7"
        ],
        [
         "15",
         "Italy",
         "7"
        ],
        [
         "16",
         "Netherlands",
         "7"
        ],
        [
         "17",
         "Norway",
         "7"
        ],
        [
         "18",
         "Poland",
         "7"
        ],
        [
         "19",
         "Portugal",
         "14"
        ],
        [
         "20",
         "Spain",
         "7"
        ],
        [
         "21",
         "Sweden",
         "7"
        ],
        [
         "22",
         "USA",
         "91"
        ],
        [
         "23",
         "United Kingdom",
         "21"
        ]
       ],
       "shape": {
        "columns": 2,
        "rows": 24
       }
      },
      "text/html": [
       "<div>\n",
       "<style scoped>\n",
       "    .dataframe tbody tr th:only-of-type {\n",
       "        vertical-align: middle;\n",
       "    }\n",
       "\n",
       "    .dataframe tbody tr th {\n",
       "        vertical-align: top;\n",
       "    }\n",
       "\n",
       "    .dataframe thead th {\n",
       "        text-align: right;\n",
       "    }\n",
       "</style>\n",
       "<table border=\"1\" class=\"dataframe\">\n",
       "  <thead>\n",
       "    <tr style=\"text-align: right;\">\n",
       "      <th></th>\n",
       "      <th>BillingCountry</th>\n",
       "      <th>COUNT (i.InvoiceId)</th>\n",
       "    </tr>\n",
       "  </thead>\n",
       "  <tbody>\n",
       "    <tr>\n",
       "      <th>0</th>\n",
       "      <td>Argentina</td>\n",
       "      <td>7</td>\n",
       "    </tr>\n",
       "    <tr>\n",
       "      <th>1</th>\n",
       "      <td>Australia</td>\n",
       "      <td>7</td>\n",
       "    </tr>\n",
       "    <tr>\n",
       "      <th>2</th>\n",
       "      <td>Austria</td>\n",
       "      <td>7</td>\n",
       "    </tr>\n",
       "    <tr>\n",
       "      <th>3</th>\n",
       "      <td>Belgium</td>\n",
       "      <td>7</td>\n",
       "    </tr>\n",
       "    <tr>\n",
       "      <th>4</th>\n",
       "      <td>Brazil</td>\n",
       "      <td>35</td>\n",
       "    </tr>\n",
       "    <tr>\n",
       "      <th>5</th>\n",
       "      <td>Canada</td>\n",
       "      <td>56</td>\n",
       "    </tr>\n",
       "    <tr>\n",
       "      <th>6</th>\n",
       "      <td>Chile</td>\n",
       "      <td>7</td>\n",
       "    </tr>\n",
       "    <tr>\n",
       "      <th>7</th>\n",
       "      <td>Czech Republic</td>\n",
       "      <td>14</td>\n",
       "    </tr>\n",
       "    <tr>\n",
       "      <th>8</th>\n",
       "      <td>Denmark</td>\n",
       "      <td>7</td>\n",
       "    </tr>\n",
       "    <tr>\n",
       "      <th>9</th>\n",
       "      <td>Finland</td>\n",
       "      <td>7</td>\n",
       "    </tr>\n",
       "    <tr>\n",
       "      <th>10</th>\n",
       "      <td>France</td>\n",
       "      <td>35</td>\n",
       "    </tr>\n",
       "    <tr>\n",
       "      <th>11</th>\n",
       "      <td>Germany</td>\n",
       "      <td>28</td>\n",
       "    </tr>\n",
       "    <tr>\n",
       "      <th>12</th>\n",
       "      <td>Hungary</td>\n",
       "      <td>7</td>\n",
       "    </tr>\n",
       "    <tr>\n",
       "      <th>13</th>\n",
       "      <td>India</td>\n",
       "      <td>13</td>\n",
       "    </tr>\n",
       "    <tr>\n",
       "      <th>14</th>\n",
       "      <td>Ireland</td>\n",
       "      <td>7</td>\n",
       "    </tr>\n",
       "    <tr>\n",
       "      <th>15</th>\n",
       "      <td>Italy</td>\n",
       "      <td>7</td>\n",
       "    </tr>\n",
       "    <tr>\n",
       "      <th>16</th>\n",
       "      <td>Netherlands</td>\n",
       "      <td>7</td>\n",
       "    </tr>\n",
       "    <tr>\n",
       "      <th>17</th>\n",
       "      <td>Norway</td>\n",
       "      <td>7</td>\n",
       "    </tr>\n",
       "    <tr>\n",
       "      <th>18</th>\n",
       "      <td>Poland</td>\n",
       "      <td>7</td>\n",
       "    </tr>\n",
       "    <tr>\n",
       "      <th>19</th>\n",
       "      <td>Portugal</td>\n",
       "      <td>14</td>\n",
       "    </tr>\n",
       "    <tr>\n",
       "      <th>20</th>\n",
       "      <td>Spain</td>\n",
       "      <td>7</td>\n",
       "    </tr>\n",
       "    <tr>\n",
       "      <th>21</th>\n",
       "      <td>Sweden</td>\n",
       "      <td>7</td>\n",
       "    </tr>\n",
       "    <tr>\n",
       "      <th>22</th>\n",
       "      <td>USA</td>\n",
       "      <td>91</td>\n",
       "    </tr>\n",
       "    <tr>\n",
       "      <th>23</th>\n",
       "      <td>United Kingdom</td>\n",
       "      <td>21</td>\n",
       "    </tr>\n",
       "  </tbody>\n",
       "</table>\n",
       "</div>"
      ],
      "text/plain": [
       "    BillingCountry  COUNT (i.InvoiceId)\n",
       "0        Argentina                    7\n",
       "1        Australia                    7\n",
       "2          Austria                    7\n",
       "3          Belgium                    7\n",
       "4           Brazil                   35\n",
       "5           Canada                   56\n",
       "6            Chile                    7\n",
       "7   Czech Republic                   14\n",
       "8          Denmark                    7\n",
       "9          Finland                    7\n",
       "10          France                   35\n",
       "11         Germany                   28\n",
       "12         Hungary                    7\n",
       "13           India                   13\n",
       "14         Ireland                    7\n",
       "15           Italy                    7\n",
       "16     Netherlands                    7\n",
       "17          Norway                    7\n",
       "18          Poland                    7\n",
       "19        Portugal                   14\n",
       "20           Spain                    7\n",
       "21          Sweden                    7\n",
       "22             USA                   91\n",
       "23  United Kingdom                   21"
      ]
     },
     "execution_count": 83,
     "metadata": {},
     "output_type": "execute_result"
    }
   ],
   "source": [
    "query = '''\n",
    "SELECT i.BillingCountry, COUNT (i.InvoiceId) FROM invoices as i\n",
    "GROUP BY i.BillingCountry\n",
    "'''\n",
    "\n",
    "df = sql_query(query)\n",
    "df"
   ]
  },
  {
   "cell_type": "code",
   "execution_count": 129,
   "metadata": {},
   "outputs": [
    {
     "data": {
      "application/vnd.microsoft.datawrangler.viewer.v0+json": {
       "columns": [
        {
         "name": "index",
         "rawType": "int64",
         "type": "integer"
        },
        {
         "name": "Año",
         "rawType": "object",
         "type": "string"
        },
        {
         "name": "TOT",
         "rawType": "int64",
         "type": "integer"
        }
       ],
       "conversionMethod": "pd.DataFrame",
       "ref": "d502b179-9fb6-4446-afb4-8e81b72f4649",
       "rows": [
        [
         "0",
         "2009",
         "83"
        ],
        [
         "1",
         "2011",
         "83"
        ]
       ],
       "shape": {
        "columns": 2,
        "rows": 2
       }
      },
      "text/html": [
       "<div>\n",
       "<style scoped>\n",
       "    .dataframe tbody tr th:only-of-type {\n",
       "        vertical-align: middle;\n",
       "    }\n",
       "\n",
       "    .dataframe tbody tr th {\n",
       "        vertical-align: top;\n",
       "    }\n",
       "\n",
       "    .dataframe thead th {\n",
       "        text-align: right;\n",
       "    }\n",
       "</style>\n",
       "<table border=\"1\" class=\"dataframe\">\n",
       "  <thead>\n",
       "    <tr style=\"text-align: right;\">\n",
       "      <th></th>\n",
       "      <th>Año</th>\n",
       "      <th>TOT</th>\n",
       "    </tr>\n",
       "  </thead>\n",
       "  <tbody>\n",
       "    <tr>\n",
       "      <th>0</th>\n",
       "      <td>2009</td>\n",
       "      <td>83</td>\n",
       "    </tr>\n",
       "    <tr>\n",
       "      <th>1</th>\n",
       "      <td>2011</td>\n",
       "      <td>83</td>\n",
       "    </tr>\n",
       "  </tbody>\n",
       "</table>\n",
       "</div>"
      ],
      "text/plain": [
       "    Año  TOT\n",
       "0  2009   83\n",
       "1  2011   83"
      ]
     },
     "execution_count": 129,
     "metadata": {},
     "output_type": "execute_result"
    }
   ],
   "source": [
    "query = '''\n",
    "SELECT strftime(\"%Y\",InvoiceDate) AS Año,COUNT (InvoiceId) as TOT\n",
    "FROM invoices\n",
    "WHERE Año = \"2009\" or Año = \"2011\"\n",
    "GROUP BY Año\n",
    "'''\n",
    "\n",
    "df = sql_query(query)\n",
    "df"
   ]
  },
  {
   "cell_type": "code",
   "execution_count": 131,
   "metadata": {},
   "outputs": [
    {
     "data": {
      "application/vnd.microsoft.datawrangler.viewer.v0+json": {
       "columns": [
        {
         "name": "index",
         "rawType": "int64",
         "type": "integer"
        },
        {
         "name": "Año",
         "rawType": "object",
         "type": "string"
        },
        {
         "name": "TOT",
         "rawType": "int64",
         "type": "integer"
        }
       ],
       "conversionMethod": "pd.DataFrame",
       "ref": "4bd79d9b-66ac-4819-8be6-eeff2b6c2959",
       "rows": [
        [
         "0",
         "2009",
         "83"
        ],
        [
         "1",
         "2010",
         "83"
        ],
        [
         "2",
         "2011",
         "83"
        ]
       ],
       "shape": {
        "columns": 2,
        "rows": 3
       }
      },
      "text/html": [
       "<div>\n",
       "<style scoped>\n",
       "    .dataframe tbody tr th:only-of-type {\n",
       "        vertical-align: middle;\n",
       "    }\n",
       "\n",
       "    .dataframe tbody tr th {\n",
       "        vertical-align: top;\n",
       "    }\n",
       "\n",
       "    .dataframe thead th {\n",
       "        text-align: right;\n",
       "    }\n",
       "</style>\n",
       "<table border=\"1\" class=\"dataframe\">\n",
       "  <thead>\n",
       "    <tr style=\"text-align: right;\">\n",
       "      <th></th>\n",
       "      <th>Año</th>\n",
       "      <th>TOT</th>\n",
       "    </tr>\n",
       "  </thead>\n",
       "  <tbody>\n",
       "    <tr>\n",
       "      <th>0</th>\n",
       "      <td>2009</td>\n",
       "      <td>83</td>\n",
       "    </tr>\n",
       "    <tr>\n",
       "      <th>1</th>\n",
       "      <td>2010</td>\n",
       "      <td>83</td>\n",
       "    </tr>\n",
       "    <tr>\n",
       "      <th>2</th>\n",
       "      <td>2011</td>\n",
       "      <td>83</td>\n",
       "    </tr>\n",
       "  </tbody>\n",
       "</table>\n",
       "</div>"
      ],
      "text/plain": [
       "    Año  TOT\n",
       "0  2009   83\n",
       "1  2010   83\n",
       "2  2011   83"
      ]
     },
     "execution_count": 131,
     "metadata": {},
     "output_type": "execute_result"
    }
   ],
   "source": [
    "query = '''\n",
    "SELECT strftime(\"%Y\",InvoiceDate) AS Año,COUNT (InvoiceId) as TOT\n",
    "FROM invoices\n",
    "WHERE strftime(\"%Y\", InvoiceDate) BETWEEN \"2009\" AND \"2011\"\n",
    "GROUP BY Año\n",
    "'''\n",
    "\n",
    "df = sql_query(query)\n",
    "df"
   ]
  },
  {
   "cell_type": "code",
   "execution_count": 138,
   "metadata": {},
   "outputs": [
    {
     "data": {
      "application/vnd.microsoft.datawrangler.viewer.v0+json": {
       "columns": [
        {
         "name": "index",
         "rawType": "int64",
         "type": "integer"
        },
        {
         "name": "Country",
         "rawType": "object",
         "type": "string"
        },
        {
         "name": "Clientes",
         "rawType": "int64",
         "type": "integer"
        }
       ],
       "conversionMethod": "pd.DataFrame",
       "ref": "f29f6aec-899b-4145-9691-7903ad2a240b",
       "rows": [
        [
         "0",
         "Brazil",
         "5"
        ],
        [
         "1",
         "Spain",
         "1"
        ]
       ],
       "shape": {
        "columns": 2,
        "rows": 2
       }
      },
      "text/html": [
       "<div>\n",
       "<style scoped>\n",
       "    .dataframe tbody tr th:only-of-type {\n",
       "        vertical-align: middle;\n",
       "    }\n",
       "\n",
       "    .dataframe tbody tr th {\n",
       "        vertical-align: top;\n",
       "    }\n",
       "\n",
       "    .dataframe thead th {\n",
       "        text-align: right;\n",
       "    }\n",
       "</style>\n",
       "<table border=\"1\" class=\"dataframe\">\n",
       "  <thead>\n",
       "    <tr style=\"text-align: right;\">\n",
       "      <th></th>\n",
       "      <th>Country</th>\n",
       "      <th>Clientes</th>\n",
       "    </tr>\n",
       "  </thead>\n",
       "  <tbody>\n",
       "    <tr>\n",
       "      <th>0</th>\n",
       "      <td>Brazil</td>\n",
       "      <td>5</td>\n",
       "    </tr>\n",
       "    <tr>\n",
       "      <th>1</th>\n",
       "      <td>Spain</td>\n",
       "      <td>1</td>\n",
       "    </tr>\n",
       "  </tbody>\n",
       "</table>\n",
       "</div>"
      ],
      "text/plain": [
       "  Country  Clientes\n",
       "0  Brazil         5\n",
       "1   Spain         1"
      ]
     },
     "execution_count": 138,
     "metadata": {},
     "output_type": "execute_result"
    }
   ],
   "source": [
    "query = '''\n",
    "SELECT c.Country,COUNT (c.CustomerId) as Clientes FROM customers as c\n",
    "WHERE c.Country = \"Spain\" or c.Country = \"Brazil\"\n",
    "GROUP BY c.Country\n",
    "'''\n",
    "\n",
    "df = sql_query(query)\n",
    "df"
   ]
  },
  {
   "cell_type": "code",
   "execution_count": 143,
   "metadata": {},
   "outputs": [
    {
     "data": {
      "application/vnd.microsoft.datawrangler.viewer.v0+json": {
       "columns": [
        {
         "name": "index",
         "rawType": "int64",
         "type": "integer"
        },
        {
         "name": "TrackId",
         "rawType": "int64",
         "type": "integer"
        },
        {
         "name": "Name",
         "rawType": "object",
         "type": "string"
        },
        {
         "name": "AlbumId",
         "rawType": "int64",
         "type": "integer"
        },
        {
         "name": "MediaTypeId",
         "rawType": "int64",
         "type": "integer"
        },
        {
         "name": "GenreId",
         "rawType": "int64",
         "type": "integer"
        },
        {
         "name": "Composer",
         "rawType": "object",
         "type": "unknown"
        },
        {
         "name": "Milliseconds",
         "rawType": "int64",
         "type": "integer"
        },
        {
         "name": "Bytes",
         "rawType": "int64",
         "type": "integer"
        },
        {
         "name": "UnitPrice",
         "rawType": "float64",
         "type": "float"
        }
       ],
       "conversionMethod": "pd.DataFrame",
       "ref": "dbaf4eb3-c0ab-4dbd-a5f9-7be6d88dae1d",
       "rows": [
        [
         "0",
         "39",
         "You Oughta Know",
         "6",
         "1",
         "1",
         "Alanis Morissette & Glenn Ballard",
         "249234",
         "8196916",
         "0.99"
        ],
        [
         "1",
         "44",
         "You Learn",
         "6",
         "1",
         "1",
         "Alanis Morissette & Glenn Ballard",
         "239699",
         "7824837",
         "0.99"
        ],
        [
         "2",
         "50",
         "You Oughta Know (Alternate)",
         "6",
         "1",
         "1",
         "Alanis Morissette & Glenn Ballard",
         "491885",
         "16008629",
         "0.99"
        ],
        [
         "3",
         "99",
         "Your Time Has Come",
         "11",
         "1",
         "4",
         "Cornell, Commerford, Morello, Wilk",
         "255529",
         "8273592",
         "0.99"
        ],
        [
         "4",
         "337",
         "You Shook Me",
         "30",
         "1",
         "1",
         "J B Lenoir/Willie Dixon",
         "315951",
         "10249958",
         "0.99"
        ],
        [
         "5",
         "349",
         "You Shook Me(2)",
         "30",
         "1",
         "1",
         "J B Lenoir/Willie Dixon",
         "619467",
         "20138673",
         "0.99"
        ],
        [
         "6",
         "549",
         "You Fool No One",
         "43",
         "1",
         "1",
         "Coverdale/Lord/Paice",
         "804101",
         "26369966",
         "0.99"
        ],
        [
         "7",
         "623",
         "You Fool No One (Alternate Version)",
         "50",
         "1",
         "1",
         "Blackmore/Coverdale/Lord/Paice",
         "763924",
         "24887209",
         "0.99"
        ],
        [
         "8",
         "753",
         "You Keep On Moving",
         "58",
         "1",
         "1",
         "Coverdale/Hughes",
         "319111",
         "10447868",
         "0.99"
        ],
        [
         "9",
         "812",
         "You Can't Do it Right (With the One You Love)",
         "65",
         "1",
         "1",
         "D.Coverdale/G.Hughes/Glenn Hughes/R.Blackmore/Ritchie Blackmore",
         "203755",
         "6709579",
         "0.99"
        ],
        [
         "10",
         "1155",
         "You're Crazy",
         "90",
         "2",
         "1",
         null,
         "197135",
         "3301971",
         "0.99"
        ],
        [
         "11",
         "1163",
         "You Ain't the First",
         "91",
         "2",
         "1",
         null,
         "156268",
         "2754414",
         "0.99"
        ],
        [
         "12",
         "1185",
         "You Could Be Mine",
         "92",
         "1",
         "3",
         "Izzy Stradlin'/W. Axl Rose",
         "343875",
         "11207355",
         "0.99"
        ],
        [
         "13",
         "1553",
         "You've Got Another Thing Comin'",
         "125",
         "1",
         "3",
         null,
         "305162",
         "9962558",
         "0.99"
        ],
        [
         "14",
         "1620",
         "You Shook Me",
         "132",
         "1",
         "1",
         "J. B. Lenoir/Willie Dixon",
         "388179",
         "12643067",
         "0.99"
        ],
        [
         "15",
         "1622",
         "Your Time Is Gonna Come",
         "132",
         "1",
         "1",
         "Jimmy Page/John Paul Jones",
         "274860",
         "9011653",
         "0.99"
        ],
        [
         "16",
         "1776",
         "You've Been A Long Time Coming",
         "146",
         "1",
         "14",
         "Brian Holland/Eddie Holland/Lamont Dozier",
         "137221",
         "4437949",
         "0.99"
        ],
        [
         "17",
         "1778",
         "You're What's Happening (In The World Today)",
         "146",
         "1",
         "14",
         "Allen Story/George Gordy/Robert Gordy",
         "142027",
         "4631104",
         "0.99"
        ],
        [
         "18",
         "1787",
         "You Sure Love To Ball",
         "146",
         "1",
         "14",
         "Marvin Gaye",
         "218540",
         "7217872",
         "0.99"
        ],
        [
         "19",
         "2127",
         "Your Blue Room",
         "176",
         "1",
         "10",
         "Brian Eno, Bono, Adam Clayton, The Edge & Larry Mullen Jnr.",
         "328228",
         "10867860",
         "0.99"
        ],
        [
         "20",
         "2185",
         "You Are",
         "180",
         "1",
         "1",
         "Matt Cameron",
         "270863",
         "8938409",
         "0.99"
        ],
        [
         "21",
         "2259",
         "You're My Best Friend",
         "185",
         "1",
         "1",
         "Deacon, John",
         "172225",
         "5602173",
         "0.99"
        ],
        [
         "22",
         "2287",
         "You Are The Everything",
         "188",
         "1",
         "4",
         "Bill Berry-Peter Buck-Mike Mills-Michael Stipe",
         "226298",
         "7373181",
         "0.99"
        ],
        [
         "23",
         "2439",
         "You've Got It",
         "141",
         "1",
         "1",
         "Mick Hucknall and Lamont Dozier",
         "235232",
         "7712845",
         "0.99"
        ],
        [
         "24",
         "2444",
         "Your Mirror",
         "141",
         "1",
         "1",
         "Mick Hucknall",
         "240666",
         "7893821",
         "0.99"
        ],
        [
         "25",
         "2677",
         "You Got Me Rocking",
         "217",
         "1",
         "1",
         "Jagger/Richards",
         "205766",
         "6734385",
         "0.99"
        ],
        [
         "26",
         "2691",
         "You Got Me Rocking",
         "218",
         "1",
         "1",
         "Jagger/Richards",
         "215928",
         "7162159",
         "0.99"
        ],
        [
         "27",
         "2750",
         "You Better You Bet",
         "221",
         "1",
         "1",
         "Pete Townshend",
         "338520",
         "11160877",
         "0.99"
        ],
        [
         "28",
         "3083",
         "You Really Got Me",
         "244",
         "1",
         "1",
         "Ray Davies",
         "158589",
         "5194092",
         "0.99"
        ],
        [
         "29",
         "3113",
         "You Got No Right",
         "246",
         "1",
         "1",
         "Dave Kushner, Duff, Matt Sorum, Scott Weiland & Slash",
         "335412",
         "10991094",
         "0.99"
        ],
        [
         "30",
         "3141",
         "You're Gonna Break My Hart Again",
         "141",
         "1",
         "3",
         "Sykes",
         "250853",
         "8176847",
         "0.99"
        ],
        [
         "31",
         "3225",
         "Your Time Is Gonna Come",
         "252",
         "2",
         "1",
         "Page, Jones",
         "310774",
         "5126563",
         "0.99"
        ],
        [
         "32",
         "3372",
         "Your Savior",
         "269",
         "2",
         "23",
         null,
         "244226",
         "4199626",
         "0.99"
        ],
        [
         "33",
         "3384",
         "Your Soul Today",
         "270",
         "2",
         "23",
         "Chris Cornell",
         "205959",
         "3385722",
         "0.99"
        ],
        [
         "34",
         "3388",
         "You Know My Name",
         "270",
         "2",
         "23",
         "Chris Cornell",
         "240255",
         "3940651",
         "0.99"
        ],
        [
         "35",
         "3456",
         "You Know I'm No Good",
         "321",
         "2",
         "14",
         null,
         "256946",
         "4133694",
         "0.99"
        ],
        [
         "36",
         "3465",
         "You Know I'm No Good (feat. Ghostface Killah)",
         "321",
         "2",
         "14",
         null,
         "202320",
         "3260658",
         "0.99"
        ],
        [
         "37",
         "3468",
         "You Sent Me Flying / Cherry",
         "322",
         "2",
         "9",
         null,
         "409906",
         "6657517",
         "0.99"
        ]
       ],
       "shape": {
        "columns": 9,
        "rows": 38
       }
      },
      "text/html": [
       "<div>\n",
       "<style scoped>\n",
       "    .dataframe tbody tr th:only-of-type {\n",
       "        vertical-align: middle;\n",
       "    }\n",
       "\n",
       "    .dataframe tbody tr th {\n",
       "        vertical-align: top;\n",
       "    }\n",
       "\n",
       "    .dataframe thead th {\n",
       "        text-align: right;\n",
       "    }\n",
       "</style>\n",
       "<table border=\"1\" class=\"dataframe\">\n",
       "  <thead>\n",
       "    <tr style=\"text-align: right;\">\n",
       "      <th></th>\n",
       "      <th>TrackId</th>\n",
       "      <th>Name</th>\n",
       "      <th>AlbumId</th>\n",
       "      <th>MediaTypeId</th>\n",
       "      <th>GenreId</th>\n",
       "      <th>Composer</th>\n",
       "      <th>Milliseconds</th>\n",
       "      <th>Bytes</th>\n",
       "      <th>UnitPrice</th>\n",
       "    </tr>\n",
       "  </thead>\n",
       "  <tbody>\n",
       "    <tr>\n",
       "      <th>0</th>\n",
       "      <td>39</td>\n",
       "      <td>You Oughta Know</td>\n",
       "      <td>6</td>\n",
       "      <td>1</td>\n",
       "      <td>1</td>\n",
       "      <td>Alanis Morissette &amp; Glenn Ballard</td>\n",
       "      <td>249234</td>\n",
       "      <td>8196916</td>\n",
       "      <td>0.99</td>\n",
       "    </tr>\n",
       "    <tr>\n",
       "      <th>1</th>\n",
       "      <td>44</td>\n",
       "      <td>You Learn</td>\n",
       "      <td>6</td>\n",
       "      <td>1</td>\n",
       "      <td>1</td>\n",
       "      <td>Alanis Morissette &amp; Glenn Ballard</td>\n",
       "      <td>239699</td>\n",
       "      <td>7824837</td>\n",
       "      <td>0.99</td>\n",
       "    </tr>\n",
       "    <tr>\n",
       "      <th>2</th>\n",
       "      <td>50</td>\n",
       "      <td>You Oughta Know (Alternate)</td>\n",
       "      <td>6</td>\n",
       "      <td>1</td>\n",
       "      <td>1</td>\n",
       "      <td>Alanis Morissette &amp; Glenn Ballard</td>\n",
       "      <td>491885</td>\n",
       "      <td>16008629</td>\n",
       "      <td>0.99</td>\n",
       "    </tr>\n",
       "    <tr>\n",
       "      <th>3</th>\n",
       "      <td>99</td>\n",
       "      <td>Your Time Has Come</td>\n",
       "      <td>11</td>\n",
       "      <td>1</td>\n",
       "      <td>4</td>\n",
       "      <td>Cornell, Commerford, Morello, Wilk</td>\n",
       "      <td>255529</td>\n",
       "      <td>8273592</td>\n",
       "      <td>0.99</td>\n",
       "    </tr>\n",
       "    <tr>\n",
       "      <th>4</th>\n",
       "      <td>337</td>\n",
       "      <td>You Shook Me</td>\n",
       "      <td>30</td>\n",
       "      <td>1</td>\n",
       "      <td>1</td>\n",
       "      <td>J B Lenoir/Willie Dixon</td>\n",
       "      <td>315951</td>\n",
       "      <td>10249958</td>\n",
       "      <td>0.99</td>\n",
       "    </tr>\n",
       "    <tr>\n",
       "      <th>5</th>\n",
       "      <td>349</td>\n",
       "      <td>You Shook Me(2)</td>\n",
       "      <td>30</td>\n",
       "      <td>1</td>\n",
       "      <td>1</td>\n",
       "      <td>J B Lenoir/Willie Dixon</td>\n",
       "      <td>619467</td>\n",
       "      <td>20138673</td>\n",
       "      <td>0.99</td>\n",
       "    </tr>\n",
       "    <tr>\n",
       "      <th>6</th>\n",
       "      <td>549</td>\n",
       "      <td>You Fool No One</td>\n",
       "      <td>43</td>\n",
       "      <td>1</td>\n",
       "      <td>1</td>\n",
       "      <td>Coverdale/Lord/Paice</td>\n",
       "      <td>804101</td>\n",
       "      <td>26369966</td>\n",
       "      <td>0.99</td>\n",
       "    </tr>\n",
       "    <tr>\n",
       "      <th>7</th>\n",
       "      <td>623</td>\n",
       "      <td>You Fool No One (Alternate Version)</td>\n",
       "      <td>50</td>\n",
       "      <td>1</td>\n",
       "      <td>1</td>\n",
       "      <td>Blackmore/Coverdale/Lord/Paice</td>\n",
       "      <td>763924</td>\n",
       "      <td>24887209</td>\n",
       "      <td>0.99</td>\n",
       "    </tr>\n",
       "    <tr>\n",
       "      <th>8</th>\n",
       "      <td>753</td>\n",
       "      <td>You Keep On Moving</td>\n",
       "      <td>58</td>\n",
       "      <td>1</td>\n",
       "      <td>1</td>\n",
       "      <td>Coverdale/Hughes</td>\n",
       "      <td>319111</td>\n",
       "      <td>10447868</td>\n",
       "      <td>0.99</td>\n",
       "    </tr>\n",
       "    <tr>\n",
       "      <th>9</th>\n",
       "      <td>812</td>\n",
       "      <td>You Can't Do it Right (With the One You Love)</td>\n",
       "      <td>65</td>\n",
       "      <td>1</td>\n",
       "      <td>1</td>\n",
       "      <td>D.Coverdale/G.Hughes/Glenn Hughes/R.Blackmore/...</td>\n",
       "      <td>203755</td>\n",
       "      <td>6709579</td>\n",
       "      <td>0.99</td>\n",
       "    </tr>\n",
       "    <tr>\n",
       "      <th>10</th>\n",
       "      <td>1155</td>\n",
       "      <td>You're Crazy</td>\n",
       "      <td>90</td>\n",
       "      <td>2</td>\n",
       "      <td>1</td>\n",
       "      <td>None</td>\n",
       "      <td>197135</td>\n",
       "      <td>3301971</td>\n",
       "      <td>0.99</td>\n",
       "    </tr>\n",
       "    <tr>\n",
       "      <th>11</th>\n",
       "      <td>1163</td>\n",
       "      <td>You Ain't the First</td>\n",
       "      <td>91</td>\n",
       "      <td>2</td>\n",
       "      <td>1</td>\n",
       "      <td>None</td>\n",
       "      <td>156268</td>\n",
       "      <td>2754414</td>\n",
       "      <td>0.99</td>\n",
       "    </tr>\n",
       "    <tr>\n",
       "      <th>12</th>\n",
       "      <td>1185</td>\n",
       "      <td>You Could Be Mine</td>\n",
       "      <td>92</td>\n",
       "      <td>1</td>\n",
       "      <td>3</td>\n",
       "      <td>Izzy Stradlin'/W. Axl Rose</td>\n",
       "      <td>343875</td>\n",
       "      <td>11207355</td>\n",
       "      <td>0.99</td>\n",
       "    </tr>\n",
       "    <tr>\n",
       "      <th>13</th>\n",
       "      <td>1553</td>\n",
       "      <td>You've Got Another Thing Comin'</td>\n",
       "      <td>125</td>\n",
       "      <td>1</td>\n",
       "      <td>3</td>\n",
       "      <td>None</td>\n",
       "      <td>305162</td>\n",
       "      <td>9962558</td>\n",
       "      <td>0.99</td>\n",
       "    </tr>\n",
       "    <tr>\n",
       "      <th>14</th>\n",
       "      <td>1620</td>\n",
       "      <td>You Shook Me</td>\n",
       "      <td>132</td>\n",
       "      <td>1</td>\n",
       "      <td>1</td>\n",
       "      <td>J. B. Lenoir/Willie Dixon</td>\n",
       "      <td>388179</td>\n",
       "      <td>12643067</td>\n",
       "      <td>0.99</td>\n",
       "    </tr>\n",
       "    <tr>\n",
       "      <th>15</th>\n",
       "      <td>1622</td>\n",
       "      <td>Your Time Is Gonna Come</td>\n",
       "      <td>132</td>\n",
       "      <td>1</td>\n",
       "      <td>1</td>\n",
       "      <td>Jimmy Page/John Paul Jones</td>\n",
       "      <td>274860</td>\n",
       "      <td>9011653</td>\n",
       "      <td>0.99</td>\n",
       "    </tr>\n",
       "    <tr>\n",
       "      <th>16</th>\n",
       "      <td>1776</td>\n",
       "      <td>You've Been A Long Time Coming</td>\n",
       "      <td>146</td>\n",
       "      <td>1</td>\n",
       "      <td>14</td>\n",
       "      <td>Brian Holland/Eddie Holland/Lamont Dozier</td>\n",
       "      <td>137221</td>\n",
       "      <td>4437949</td>\n",
       "      <td>0.99</td>\n",
       "    </tr>\n",
       "    <tr>\n",
       "      <th>17</th>\n",
       "      <td>1778</td>\n",
       "      <td>You're What's Happening (In The World Today)</td>\n",
       "      <td>146</td>\n",
       "      <td>1</td>\n",
       "      <td>14</td>\n",
       "      <td>Allen Story/George Gordy/Robert Gordy</td>\n",
       "      <td>142027</td>\n",
       "      <td>4631104</td>\n",
       "      <td>0.99</td>\n",
       "    </tr>\n",
       "    <tr>\n",
       "      <th>18</th>\n",
       "      <td>1787</td>\n",
       "      <td>You Sure Love To Ball</td>\n",
       "      <td>146</td>\n",
       "      <td>1</td>\n",
       "      <td>14</td>\n",
       "      <td>Marvin Gaye</td>\n",
       "      <td>218540</td>\n",
       "      <td>7217872</td>\n",
       "      <td>0.99</td>\n",
       "    </tr>\n",
       "    <tr>\n",
       "      <th>19</th>\n",
       "      <td>2127</td>\n",
       "      <td>Your Blue Room</td>\n",
       "      <td>176</td>\n",
       "      <td>1</td>\n",
       "      <td>10</td>\n",
       "      <td>Brian Eno, Bono, Adam Clayton, The Edge &amp; Larr...</td>\n",
       "      <td>328228</td>\n",
       "      <td>10867860</td>\n",
       "      <td>0.99</td>\n",
       "    </tr>\n",
       "    <tr>\n",
       "      <th>20</th>\n",
       "      <td>2185</td>\n",
       "      <td>You Are</td>\n",
       "      <td>180</td>\n",
       "      <td>1</td>\n",
       "      <td>1</td>\n",
       "      <td>Matt Cameron</td>\n",
       "      <td>270863</td>\n",
       "      <td>8938409</td>\n",
       "      <td>0.99</td>\n",
       "    </tr>\n",
       "    <tr>\n",
       "      <th>21</th>\n",
       "      <td>2259</td>\n",
       "      <td>You're My Best Friend</td>\n",
       "      <td>185</td>\n",
       "      <td>1</td>\n",
       "      <td>1</td>\n",
       "      <td>Deacon, John</td>\n",
       "      <td>172225</td>\n",
       "      <td>5602173</td>\n",
       "      <td>0.99</td>\n",
       "    </tr>\n",
       "    <tr>\n",
       "      <th>22</th>\n",
       "      <td>2287</td>\n",
       "      <td>You Are The Everything</td>\n",
       "      <td>188</td>\n",
       "      <td>1</td>\n",
       "      <td>4</td>\n",
       "      <td>Bill Berry-Peter Buck-Mike Mills-Michael Stipe</td>\n",
       "      <td>226298</td>\n",
       "      <td>7373181</td>\n",
       "      <td>0.99</td>\n",
       "    </tr>\n",
       "    <tr>\n",
       "      <th>23</th>\n",
       "      <td>2439</td>\n",
       "      <td>You've Got It</td>\n",
       "      <td>141</td>\n",
       "      <td>1</td>\n",
       "      <td>1</td>\n",
       "      <td>Mick Hucknall and Lamont Dozier</td>\n",
       "      <td>235232</td>\n",
       "      <td>7712845</td>\n",
       "      <td>0.99</td>\n",
       "    </tr>\n",
       "    <tr>\n",
       "      <th>24</th>\n",
       "      <td>2444</td>\n",
       "      <td>Your Mirror</td>\n",
       "      <td>141</td>\n",
       "      <td>1</td>\n",
       "      <td>1</td>\n",
       "      <td>Mick Hucknall</td>\n",
       "      <td>240666</td>\n",
       "      <td>7893821</td>\n",
       "      <td>0.99</td>\n",
       "    </tr>\n",
       "    <tr>\n",
       "      <th>25</th>\n",
       "      <td>2677</td>\n",
       "      <td>You Got Me Rocking</td>\n",
       "      <td>217</td>\n",
       "      <td>1</td>\n",
       "      <td>1</td>\n",
       "      <td>Jagger/Richards</td>\n",
       "      <td>205766</td>\n",
       "      <td>6734385</td>\n",
       "      <td>0.99</td>\n",
       "    </tr>\n",
       "    <tr>\n",
       "      <th>26</th>\n",
       "      <td>2691</td>\n",
       "      <td>You Got Me Rocking</td>\n",
       "      <td>218</td>\n",
       "      <td>1</td>\n",
       "      <td>1</td>\n",
       "      <td>Jagger/Richards</td>\n",
       "      <td>215928</td>\n",
       "      <td>7162159</td>\n",
       "      <td>0.99</td>\n",
       "    </tr>\n",
       "    <tr>\n",
       "      <th>27</th>\n",
       "      <td>2750</td>\n",
       "      <td>You Better You Bet</td>\n",
       "      <td>221</td>\n",
       "      <td>1</td>\n",
       "      <td>1</td>\n",
       "      <td>Pete Townshend</td>\n",
       "      <td>338520</td>\n",
       "      <td>11160877</td>\n",
       "      <td>0.99</td>\n",
       "    </tr>\n",
       "    <tr>\n",
       "      <th>28</th>\n",
       "      <td>3083</td>\n",
       "      <td>You Really Got Me</td>\n",
       "      <td>244</td>\n",
       "      <td>1</td>\n",
       "      <td>1</td>\n",
       "      <td>Ray Davies</td>\n",
       "      <td>158589</td>\n",
       "      <td>5194092</td>\n",
       "      <td>0.99</td>\n",
       "    </tr>\n",
       "    <tr>\n",
       "      <th>29</th>\n",
       "      <td>3113</td>\n",
       "      <td>You Got No Right</td>\n",
       "      <td>246</td>\n",
       "      <td>1</td>\n",
       "      <td>1</td>\n",
       "      <td>Dave Kushner, Duff, Matt Sorum, Scott Weiland ...</td>\n",
       "      <td>335412</td>\n",
       "      <td>10991094</td>\n",
       "      <td>0.99</td>\n",
       "    </tr>\n",
       "    <tr>\n",
       "      <th>30</th>\n",
       "      <td>3141</td>\n",
       "      <td>You're Gonna Break My Hart Again</td>\n",
       "      <td>141</td>\n",
       "      <td>1</td>\n",
       "      <td>3</td>\n",
       "      <td>Sykes</td>\n",
       "      <td>250853</td>\n",
       "      <td>8176847</td>\n",
       "      <td>0.99</td>\n",
       "    </tr>\n",
       "    <tr>\n",
       "      <th>31</th>\n",
       "      <td>3225</td>\n",
       "      <td>Your Time Is Gonna Come</td>\n",
       "      <td>252</td>\n",
       "      <td>2</td>\n",
       "      <td>1</td>\n",
       "      <td>Page, Jones</td>\n",
       "      <td>310774</td>\n",
       "      <td>5126563</td>\n",
       "      <td>0.99</td>\n",
       "    </tr>\n",
       "    <tr>\n",
       "      <th>32</th>\n",
       "      <td>3372</td>\n",
       "      <td>Your Savior</td>\n",
       "      <td>269</td>\n",
       "      <td>2</td>\n",
       "      <td>23</td>\n",
       "      <td>None</td>\n",
       "      <td>244226</td>\n",
       "      <td>4199626</td>\n",
       "      <td>0.99</td>\n",
       "    </tr>\n",
       "    <tr>\n",
       "      <th>33</th>\n",
       "      <td>3384</td>\n",
       "      <td>Your Soul Today</td>\n",
       "      <td>270</td>\n",
       "      <td>2</td>\n",
       "      <td>23</td>\n",
       "      <td>Chris Cornell</td>\n",
       "      <td>205959</td>\n",
       "      <td>3385722</td>\n",
       "      <td>0.99</td>\n",
       "    </tr>\n",
       "    <tr>\n",
       "      <th>34</th>\n",
       "      <td>3388</td>\n",
       "      <td>You Know My Name</td>\n",
       "      <td>270</td>\n",
       "      <td>2</td>\n",
       "      <td>23</td>\n",
       "      <td>Chris Cornell</td>\n",
       "      <td>240255</td>\n",
       "      <td>3940651</td>\n",
       "      <td>0.99</td>\n",
       "    </tr>\n",
       "    <tr>\n",
       "      <th>35</th>\n",
       "      <td>3456</td>\n",
       "      <td>You Know I'm No Good</td>\n",
       "      <td>321</td>\n",
       "      <td>2</td>\n",
       "      <td>14</td>\n",
       "      <td>None</td>\n",
       "      <td>256946</td>\n",
       "      <td>4133694</td>\n",
       "      <td>0.99</td>\n",
       "    </tr>\n",
       "    <tr>\n",
       "      <th>36</th>\n",
       "      <td>3465</td>\n",
       "      <td>You Know I'm No Good (feat. Ghostface Killah)</td>\n",
       "      <td>321</td>\n",
       "      <td>2</td>\n",
       "      <td>14</td>\n",
       "      <td>None</td>\n",
       "      <td>202320</td>\n",
       "      <td>3260658</td>\n",
       "      <td>0.99</td>\n",
       "    </tr>\n",
       "    <tr>\n",
       "      <th>37</th>\n",
       "      <td>3468</td>\n",
       "      <td>You Sent Me Flying / Cherry</td>\n",
       "      <td>322</td>\n",
       "      <td>2</td>\n",
       "      <td>9</td>\n",
       "      <td>None</td>\n",
       "      <td>409906</td>\n",
       "      <td>6657517</td>\n",
       "      <td>0.99</td>\n",
       "    </tr>\n",
       "  </tbody>\n",
       "</table>\n",
       "</div>"
      ],
      "text/plain": [
       "    TrackId                                           Name  AlbumId  \\\n",
       "0        39                                You Oughta Know        6   \n",
       "1        44                                      You Learn        6   \n",
       "2        50                    You Oughta Know (Alternate)        6   \n",
       "3        99                             Your Time Has Come       11   \n",
       "4       337                                   You Shook Me       30   \n",
       "5       349                                You Shook Me(2)       30   \n",
       "6       549                                You Fool No One       43   \n",
       "7       623            You Fool No One (Alternate Version)       50   \n",
       "8       753                             You Keep On Moving       58   \n",
       "9       812  You Can't Do it Right (With the One You Love)       65   \n",
       "10     1155                                   You're Crazy       90   \n",
       "11     1163                            You Ain't the First       91   \n",
       "12     1185                              You Could Be Mine       92   \n",
       "13     1553                You've Got Another Thing Comin'      125   \n",
       "14     1620                                   You Shook Me      132   \n",
       "15     1622                        Your Time Is Gonna Come      132   \n",
       "16     1776                 You've Been A Long Time Coming      146   \n",
       "17     1778   You're What's Happening (In The World Today)      146   \n",
       "18     1787                          You Sure Love To Ball      146   \n",
       "19     2127                                 Your Blue Room      176   \n",
       "20     2185                                        You Are      180   \n",
       "21     2259                          You're My Best Friend      185   \n",
       "22     2287                         You Are The Everything      188   \n",
       "23     2439                                  You've Got It      141   \n",
       "24     2444                                    Your Mirror      141   \n",
       "25     2677                             You Got Me Rocking      217   \n",
       "26     2691                             You Got Me Rocking      218   \n",
       "27     2750                             You Better You Bet      221   \n",
       "28     3083                              You Really Got Me      244   \n",
       "29     3113                               You Got No Right      246   \n",
       "30     3141               You're Gonna Break My Hart Again      141   \n",
       "31     3225                        Your Time Is Gonna Come      252   \n",
       "32     3372                                    Your Savior      269   \n",
       "33     3384                                Your Soul Today      270   \n",
       "34     3388                               You Know My Name      270   \n",
       "35     3456                           You Know I'm No Good      321   \n",
       "36     3465  You Know I'm No Good (feat. Ghostface Killah)      321   \n",
       "37     3468                    You Sent Me Flying / Cherry      322   \n",
       "\n",
       "    MediaTypeId  GenreId                                           Composer  \\\n",
       "0             1        1                  Alanis Morissette & Glenn Ballard   \n",
       "1             1        1                  Alanis Morissette & Glenn Ballard   \n",
       "2             1        1                  Alanis Morissette & Glenn Ballard   \n",
       "3             1        4                 Cornell, Commerford, Morello, Wilk   \n",
       "4             1        1                            J B Lenoir/Willie Dixon   \n",
       "5             1        1                            J B Lenoir/Willie Dixon   \n",
       "6             1        1                               Coverdale/Lord/Paice   \n",
       "7             1        1                     Blackmore/Coverdale/Lord/Paice   \n",
       "8             1        1                                   Coverdale/Hughes   \n",
       "9             1        1  D.Coverdale/G.Hughes/Glenn Hughes/R.Blackmore/...   \n",
       "10            2        1                                               None   \n",
       "11            2        1                                               None   \n",
       "12            1        3                         Izzy Stradlin'/W. Axl Rose   \n",
       "13            1        3                                               None   \n",
       "14            1        1                          J. B. Lenoir/Willie Dixon   \n",
       "15            1        1                         Jimmy Page/John Paul Jones   \n",
       "16            1       14          Brian Holland/Eddie Holland/Lamont Dozier   \n",
       "17            1       14              Allen Story/George Gordy/Robert Gordy   \n",
       "18            1       14                                        Marvin Gaye   \n",
       "19            1       10  Brian Eno, Bono, Adam Clayton, The Edge & Larr...   \n",
       "20            1        1                                       Matt Cameron   \n",
       "21            1        1                                       Deacon, John   \n",
       "22            1        4     Bill Berry-Peter Buck-Mike Mills-Michael Stipe   \n",
       "23            1        1                    Mick Hucknall and Lamont Dozier   \n",
       "24            1        1                                      Mick Hucknall   \n",
       "25            1        1                                    Jagger/Richards   \n",
       "26            1        1                                    Jagger/Richards   \n",
       "27            1        1                                     Pete Townshend   \n",
       "28            1        1                                         Ray Davies   \n",
       "29            1        1  Dave Kushner, Duff, Matt Sorum, Scott Weiland ...   \n",
       "30            1        3                                              Sykes   \n",
       "31            2        1                                        Page, Jones   \n",
       "32            2       23                                               None   \n",
       "33            2       23                                      Chris Cornell   \n",
       "34            2       23                                      Chris Cornell   \n",
       "35            2       14                                               None   \n",
       "36            2       14                                               None   \n",
       "37            2        9                                               None   \n",
       "\n",
       "    Milliseconds     Bytes  UnitPrice  \n",
       "0         249234   8196916       0.99  \n",
       "1         239699   7824837       0.99  \n",
       "2         491885  16008629       0.99  \n",
       "3         255529   8273592       0.99  \n",
       "4         315951  10249958       0.99  \n",
       "5         619467  20138673       0.99  \n",
       "6         804101  26369966       0.99  \n",
       "7         763924  24887209       0.99  \n",
       "8         319111  10447868       0.99  \n",
       "9         203755   6709579       0.99  \n",
       "10        197135   3301971       0.99  \n",
       "11        156268   2754414       0.99  \n",
       "12        343875  11207355       0.99  \n",
       "13        305162   9962558       0.99  \n",
       "14        388179  12643067       0.99  \n",
       "15        274860   9011653       0.99  \n",
       "16        137221   4437949       0.99  \n",
       "17        142027   4631104       0.99  \n",
       "18        218540   7217872       0.99  \n",
       "19        328228  10867860       0.99  \n",
       "20        270863   8938409       0.99  \n",
       "21        172225   5602173       0.99  \n",
       "22        226298   7373181       0.99  \n",
       "23        235232   7712845       0.99  \n",
       "24        240666   7893821       0.99  \n",
       "25        205766   6734385       0.99  \n",
       "26        215928   7162159       0.99  \n",
       "27        338520  11160877       0.99  \n",
       "28        158589   5194092       0.99  \n",
       "29        335412  10991094       0.99  \n",
       "30        250853   8176847       0.99  \n",
       "31        310774   5126563       0.99  \n",
       "32        244226   4199626       0.99  \n",
       "33        205959   3385722       0.99  \n",
       "34        240255   3940651       0.99  \n",
       "35        256946   4133694       0.99  \n",
       "36        202320   3260658       0.99  \n",
       "37        409906   6657517       0.99  "
      ]
     },
     "execution_count": 143,
     "metadata": {},
     "output_type": "execute_result"
    }
   ],
   "source": [
    "query = '''\n",
    "SELECT * \n",
    "FROM tracks\n",
    "WHERE Name LIKE 'You%'\n",
    "'''\n",
    "\n",
    "sql_query(query)"
   ]
  },
  {
   "cell_type": "code",
   "execution_count": null,
   "metadata": {},
   "outputs": [],
   "source": []
  }
 ],
 "metadata": {
  "kernelspec": {
   "display_name": "Python 3",
   "language": "python",
   "name": "python3"
  },
  "language_info": {
   "codemirror_mode": {
    "name": "ipython",
    "version": 3
   },
   "file_extension": ".py",
   "mimetype": "text/x-python",
   "name": "python",
   "nbconvert_exporter": "python",
   "pygments_lexer": "ipython3",
   "version": "3.11.9"
  }
 },
 "nbformat": 4,
 "nbformat_minor": 2
}
