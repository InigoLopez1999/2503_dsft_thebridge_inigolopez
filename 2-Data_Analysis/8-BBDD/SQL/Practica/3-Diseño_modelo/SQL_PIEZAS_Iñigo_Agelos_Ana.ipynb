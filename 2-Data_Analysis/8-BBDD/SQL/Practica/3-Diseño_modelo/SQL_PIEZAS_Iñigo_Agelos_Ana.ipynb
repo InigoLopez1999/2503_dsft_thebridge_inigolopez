{
 "cells": [
  {
   "cell_type": "code",
   "execution_count": 29,
   "metadata": {},
   "outputs": [],
   "source": [
    "import pandas as pd\n",
    "import sqlite3"
   ]
  },
  {
   "cell_type": "code",
   "execution_count": 30,
   "metadata": {},
   "outputs": [],
   "source": [
    "connection = sqlite3.connect(\"C:\\\\Users\\\\Aggelos\\\\BootcampDataScience\\\\AngelosTheBridge\\\\2-Data_Analysis\\\\8-BBDD\\\\SQL\\\\Practica\\\\my_databaseSQL_TEAM.db\")\n"
   ]
  },
  {
   "cell_type": "code",
   "execution_count": 31,
   "metadata": {},
   "outputs": [],
   "source": [
    "crsr = connection.cursor()"
   ]
  },
  {
   "cell_type": "code",
   "execution_count": 32,
   "metadata": {},
   "outputs": [],
   "source": [
    "# Con esta función leemos los datos y lo pasamos a un DataFrame de Pandas\n",
    "def sql_query(query):\n",
    "\n",
    "    # Ejecuta la query\n",
    "    crsr.execute(query)\n",
    "\n",
    "    # Almacena los datos de la query \n",
    "    ans = crsr.fetchall()\n",
    "\n",
    "    # Obtenemos los nombres de las columnas de la tabla\n",
    "    names = [description[0] for description in crsr.description]\n",
    "\n",
    "    return pd.DataFrame(ans,columns=names)"
   ]
  },
  {
   "cell_type": "code",
   "execution_count": 33,
   "metadata": {},
   "outputs": [],
   "source": [
    "query = \"\"\" \n",
    "CREATE TABLE Proveedores (\n",
    "    Nombre VARCHAR,\n",
    "    Direccion VARCHAR,\n",
    "    Ciudad VARCHAR,\n",
    "    Provincia VARCHAR,\n",
    "    CodigoProveedor INT,\n",
    "    PRIMARY KEY (CodigoProveedor)\n",
    ")\n",
    "\"\"\""
   ]
  },
  {
   "cell_type": "code",
   "execution_count": null,
   "metadata": {},
   "outputs": [],
   "source": [
    "# query = \"\"\" \n",
    "# INSERT INTO Proveedores (Nombre,Direccion,Ciudad,Provincia,CodigoProveedor) \n",
    "# VALUES (\"Angelos\", \"MariaMunoz\",\"Bilbao\", \"Bizkaia\", 0001),\n",
    "# (\"Inigo\", \"ROnda\", \"Bilbo\", \"Bizkaia\", 0005)\n",
    "# \"\"\""
   ]
  },
  {
   "cell_type": "code",
   "execution_count": 46,
   "metadata": {},
   "outputs": [
    {
     "ename": "OperationalError",
     "evalue": "near \"Bizkaia\": syntax error",
     "output_type": "error",
     "traceback": [
      "\u001b[31m---------------------------------------------------------------------------\u001b[39m",
      "\u001b[31mOperationalError\u001b[39m                          Traceback (most recent call last)",
      "\u001b[36mCell\u001b[39m\u001b[36m \u001b[39m\u001b[32mIn[46]\u001b[39m\u001b[32m, line 1\u001b[39m\n\u001b[32m----> \u001b[39m\u001b[32m1\u001b[39m \u001b[43mcrsr\u001b[49m\u001b[43m.\u001b[49m\u001b[43mexecute\u001b[49m\u001b[43m(\u001b[49m\u001b[43mquery\u001b[49m\u001b[43m)\u001b[49m\n",
      "\u001b[31mOperationalError\u001b[39m: near \"Bizkaia\": syntax error"
     ]
    }
   ],
   "source": [
    "crsr.execute(query)"
   ]
  },
  {
   "cell_type": "code",
   "execution_count": null,
   "metadata": {},
   "outputs": [],
   "source": [
    "query = \"\"\" \n",
    "CREATE TABLE  Suministro (\n",
    "    Numero_de_piezas INT,\n",
    "    Fecha  DATE VARCHAR,\n",
    "    SuministroID VARCHAR,\n",
    "    CódigoProveedor INT,\n",
    "    PRIMARY KEY (SuministroID)\n",
    "    FOREIGN KEY (CódigoProveedor) REFERENCES Proveedores(CódigoProveedor)\n",
    "\n",
    ")\n",
    "\"\"\""
   ]
  },
  {
   "cell_type": "code",
   "execution_count": 48,
   "metadata": {},
   "outputs": [
    {
     "data": {
      "text/plain": [
       "<sqlite3.Cursor at 0x22eba094240>"
      ]
     },
     "execution_count": 48,
     "metadata": {},
     "output_type": "execute_result"
    }
   ],
   "source": [
    "crsr.execute(query)"
   ]
  },
  {
   "cell_type": "code",
   "execution_count": null,
   "metadata": {},
   "outputs": [],
   "source": [
    "query = \"\"\" \n",
    "CREATE TABLE  inVENTArio (\n",
    "    Código_de_pieza  VARCHAR,\n",
    "    SuministroID VARCHAR,\n",
    "    Numero_piezas INT,\n",
    "    PRIMARY KEY (SuministroID)\n",
    "    FOREIGN KEY (SuministroID) REFERENCES Suministro(SuministroID)\n",
    "    FOREIGN KEY (Código_de_pieza) REFERENCES Piezas(Código_de_pieza)\n",
    "\n",
    ")\n",
    "\"\"\""
   ]
  },
  {
   "cell_type": "code",
   "execution_count": 50,
   "metadata": {},
   "outputs": [
    {
     "data": {
      "text/plain": [
       "<sqlite3.Cursor at 0x22eba094240>"
      ]
     },
     "execution_count": 50,
     "metadata": {},
     "output_type": "execute_result"
    }
   ],
   "source": [
    "crsr.execute(query)"
   ]
  },
  {
   "cell_type": "code",
   "execution_count": null,
   "metadata": {},
   "outputs": [],
   "source": [
    "query = \"\"\" \n",
    "CREATE TABLE  Piezas (\n",
    "    Código_de_pieza  VARCHAR,\n",
    "    Nombre VARCHAR,\n",
    "    Color VARCHAR,\n",
    "    Precio DECIMAL,\n",
    "    Código_de_categoría VARCHAR,\n",
    "    PRIMARY KEY (Código_de_pieza)\n",
    "    FOREIGN KEY (Código_de_categoría) REFERENCES inVENTArio(Código_de_categoría)\n",
    "\n",
    ")\n",
    "\"\"\""
   ]
  },
  {
   "cell_type": "code",
   "execution_count": 52,
   "metadata": {},
   "outputs": [
    {
     "data": {
      "text/plain": [
       "<sqlite3.Cursor at 0x22eba094240>"
      ]
     },
     "execution_count": 52,
     "metadata": {},
     "output_type": "execute_result"
    }
   ],
   "source": [
    "crsr.execute(query)"
   ]
  },
  {
   "cell_type": "code",
   "execution_count": null,
   "metadata": {},
   "outputs": [],
   "source": [
    "query = \"\"\" \n",
    "CREATE TABLE  Categoría(\n",
    "    Código_de_categoría VARCHAR,\n",
    "    NombreC VARCHAR,\n",
    "    PRIMARY KEY (Código_de_categoría)\n",
    ")\n",
    "\"\"\""
   ]
  },
  {
   "cell_type": "code",
   "execution_count": 54,
   "metadata": {},
   "outputs": [
    {
     "data": {
      "text/plain": [
       "<sqlite3.Cursor at 0x22eba094240>"
      ]
     },
     "execution_count": 54,
     "metadata": {},
     "output_type": "execute_result"
    }
   ],
   "source": [
    "crsr.execute(query)"
   ]
  },
  {
   "cell_type": "code",
   "execution_count": 55,
   "metadata": {},
   "outputs": [],
   "source": [
    "connection.commit()\n",
    "connection.close()"
   ]
  }
 ],
 "metadata": {
  "kernelspec": {
   "display_name": "Python 3",
   "language": "python",
   "name": "python3"
  },
  "language_info": {
   "codemirror_mode": {
    "name": "ipython",
    "version": 3
   },
   "file_extension": ".py",
   "mimetype": "text/x-python",
   "name": "python",
   "nbconvert_exporter": "python",
   "pygments_lexer": "ipython3",
   "version": "3.11.9"
  }
 },
 "nbformat": 4,
 "nbformat_minor": 2
}
