{
 "cells": [
  {
   "attachments": {},
   "cell_type": "markdown",
   "metadata": {},
   "source": [
    "# Ex1 - Filtering and Sorting Data"
   ]
  },
  {
   "attachments": {},
   "cell_type": "markdown",
   "metadata": {},
   "source": [
    "\n",
    "\n",
    "### Step 1. Import the necessary libraries"
   ]
  },
  {
   "cell_type": "code",
   "execution_count": 1,
   "metadata": {},
   "outputs": [],
   "source": [
    "import pandas as pd\n",
    "import numpy as np"
   ]
  },
  {
   "attachments": {},
   "cell_type": "markdown",
   "metadata": {},
   "source": [
    "### Step 2. Import the dataset from this [address](https://raw.githubusercontent.com/justmarkham/DAT8/master/data/chipotle.tsv) and assign it to a variable called chipo."
   ]
  },
  {
   "cell_type": "code",
   "execution_count": 47,
   "metadata": {},
   "outputs": [
    {
     "data": {
      "application/vnd.microsoft.datawrangler.viewer.v0+json": {
       "columns": [
        {
         "name": "index",
         "rawType": "int64",
         "type": "integer"
        },
        {
         "name": "order_id",
         "rawType": "int64",
         "type": "integer"
        },
        {
         "name": "quantity",
         "rawType": "int64",
         "type": "integer"
        },
        {
         "name": "item_name",
         "rawType": "object",
         "type": "string"
        },
        {
         "name": "choice_description",
         "rawType": "object",
         "type": "unknown"
        },
        {
         "name": "item_price",
         "rawType": "object",
         "type": "string"
        }
       ],
       "conversionMethod": "pd.DataFrame",
       "ref": "678368ca-149f-48e8-ad17-dc98b082c73f",
       "rows": [
        [
         "0",
         "1",
         "1",
         "Chips and Fresh Tomato Salsa",
         null,
         "$2.39 "
        ],
        [
         "1",
         "1",
         "1",
         "Izze",
         "[Clementine]",
         "$3.39 "
        ],
        [
         "2",
         "1",
         "1",
         "Nantucket Nectar",
         "[Apple]",
         "$3.39 "
        ],
        [
         "3",
         "1",
         "1",
         "Chips and Tomatillo-Green Chili Salsa",
         null,
         "$2.39 "
        ],
        [
         "4",
         "2",
         "2",
         "Chicken Bowl",
         "[Tomatillo-Red Chili Salsa (Hot), [Black Beans, Rice, Cheese, Sour Cream]]",
         "$16.98 "
        ],
        [
         "5",
         "3",
         "1",
         "Chicken Bowl",
         "[Fresh Tomato Salsa (Mild), [Rice, Cheese, Sour Cream, Guacamole, Lettuce]]",
         "$10.98 "
        ],
        [
         "6",
         "3",
         "1",
         "Side of Chips",
         null,
         "$1.69 "
        ],
        [
         "7",
         "4",
         "1",
         "Steak Burrito",
         "[Tomatillo Red Chili Salsa, [Fajita Vegetables, Black Beans, Pinto Beans, Cheese, Sour Cream, Guacamole, Lettuce]]",
         "$11.75 "
        ],
        [
         "8",
         "4",
         "1",
         "Steak Soft Tacos",
         "[Tomatillo Green Chili Salsa, [Pinto Beans, Cheese, Sour Cream, Lettuce]]",
         "$9.25 "
        ],
        [
         "9",
         "5",
         "1",
         "Steak Burrito",
         "[Fresh Tomato Salsa, [Rice, Black Beans, Pinto Beans, Cheese, Sour Cream, Lettuce]]",
         "$9.25 "
        ],
        [
         "10",
         "5",
         "1",
         "Chips and Guacamole",
         null,
         "$4.45 "
        ],
        [
         "11",
         "6",
         "1",
         "Chicken Crispy Tacos",
         "[Roasted Chili Corn Salsa, [Fajita Vegetables, Rice, Black Beans, Cheese, Sour Cream]]",
         "$8.75 "
        ],
        [
         "12",
         "6",
         "1",
         "Chicken Soft Tacos",
         "[Roasted Chili Corn Salsa, [Rice, Black Beans, Cheese, Sour Cream]]",
         "$8.75 "
        ],
        [
         "13",
         "7",
         "1",
         "Chicken Bowl",
         "[Fresh Tomato Salsa, [Fajita Vegetables, Rice, Cheese, Sour Cream, Guacamole]]",
         "$11.25 "
        ],
        [
         "14",
         "7",
         "1",
         "Chips and Guacamole",
         null,
         "$4.45 "
        ],
        [
         "15",
         "8",
         "1",
         "Chips and Tomatillo-Green Chili Salsa",
         null,
         "$2.39 "
        ],
        [
         "16",
         "8",
         "1",
         "Chicken Burrito",
         "[Tomatillo-Green Chili Salsa (Medium), [Pinto Beans, Cheese, Sour Cream]]",
         "$8.49 "
        ],
        [
         "17",
         "9",
         "1",
         "Chicken Burrito",
         "[Fresh Tomato Salsa (Mild), [Black Beans, Rice, Cheese, Sour Cream, Lettuce]]",
         "$8.49 "
        ],
        [
         "18",
         "9",
         "2",
         "Canned Soda",
         "[Sprite]",
         "$2.18 "
        ],
        [
         "19",
         "10",
         "1",
         "Chicken Bowl",
         "[Tomatillo Red Chili Salsa, [Fajita Vegetables, Black Beans, Sour Cream, Cheese, Lettuce]]",
         "$8.75 "
        ],
        [
         "20",
         "10",
         "1",
         "Chips and Guacamole",
         null,
         "$4.45 "
        ],
        [
         "21",
         "11",
         "1",
         "Barbacoa Burrito",
         "[[Fresh Tomato Salsa (Mild), Tomatillo-Green Chili Salsa (Medium), Tomatillo-Red Chili Salsa (Hot)], [Rice, Cheese, Sour Cream, Lettuce]]",
         "$8.99 "
        ],
        [
         "22",
         "11",
         "1",
         "Nantucket Nectar",
         "[Pomegranate Cherry]",
         "$3.39 "
        ],
        [
         "23",
         "12",
         "1",
         "Chicken Burrito",
         "[[Tomatillo-Green Chili Salsa (Medium), Tomatillo-Red Chili Salsa (Hot)], [Pinto Beans, Rice, Cheese, Sour Cream, Guacamole, Lettuce]]",
         "$10.98 "
        ],
        [
         "24",
         "12",
         "1",
         "Izze",
         "[Grapefruit]",
         "$3.39 "
        ],
        [
         "25",
         "13",
         "1",
         "Chips and Fresh Tomato Salsa",
         null,
         "$2.39 "
        ],
        [
         "26",
         "13",
         "1",
         "Chicken Bowl",
         "[Roasted Chili Corn Salsa (Medium), [Pinto Beans, Rice, Fajita Veggies, Cheese, Sour Cream, Lettuce]]",
         "$8.49 "
        ],
        [
         "27",
         "14",
         "1",
         "Carnitas Burrito",
         "[[Tomatillo-Green Chili Salsa (Medium), Roasted Chili Corn Salsa (Medium)], [Black Beans, Rice, Sour Cream, Lettuce]]",
         "$8.99 "
        ],
        [
         "28",
         "14",
         "1",
         "Canned Soda",
         "[Dr. Pepper]",
         "$1.09 "
        ],
        [
         "29",
         "15",
         "1",
         "Chicken Burrito",
         "[Tomatillo-Green Chili Salsa (Medium), [Pinto Beans, Rice, Cheese, Sour Cream]]",
         "$8.49 "
        ],
        [
         "30",
         "15",
         "1",
         "Chips and Tomatillo-Green Chili Salsa",
         null,
         "$2.39 "
        ],
        [
         "31",
         "16",
         "1",
         "Steak Burrito",
         "[[Roasted Chili Corn Salsa (Medium), Fresh Tomato Salsa (Mild)], [Rice, Black Beans, Sour Cream]]",
         "$8.99 "
        ],
        [
         "32",
         "16",
         "1",
         "Side of Chips",
         null,
         "$1.69 "
        ],
        [
         "33",
         "17",
         "1",
         "Carnitas Bowl",
         "[Tomatillo-Red Chili Salsa (Hot), [Black Beans, Rice, Fajita Veggies, Cheese, Sour Cream, Lettuce]]",
         "$8.99 "
        ],
        [
         "34",
         "17",
         "1",
         "Bottled Water",
         null,
         "$1.09 "
        ],
        [
         "35",
         "18",
         "1",
         "Chicken Soft Tacos",
         "[Roasted Chili Corn Salsa, Rice]",
         "$8.75 "
        ],
        [
         "36",
         "18",
         "1",
         "Chicken Soft Tacos",
         "[Roasted Chili Corn Salsa, [Cheese, Lettuce]]",
         "$8.75 "
        ],
        [
         "37",
         "18",
         "1",
         "Chips and Guacamole",
         null,
         "$4.45 "
        ],
        [
         "38",
         "18",
         "1",
         "Chips and Tomatillo Green Chili Salsa",
         null,
         "$2.95 "
        ],
        [
         "39",
         "19",
         "1",
         "Barbacoa Bowl",
         "[Roasted Chili Corn Salsa, [Fajita Vegetables, Rice, Black Beans, Cheese, Sour Cream, Guacamole, Lettuce]]",
         "$11.75 "
        ],
        [
         "40",
         "19",
         "1",
         "Chips",
         null,
         "$2.15 "
        ],
        [
         "41",
         "20",
         "1",
         "Chips and Guacamole",
         null,
         "$4.45 "
        ],
        [
         "42",
         "20",
         "1",
         "Chicken Bowl",
         "[Roasted Chili Corn Salsa, [Rice, Black Beans, Cheese, Sour Cream, Guacamole, Lettuce]]",
         "$11.25 "
        ],
        [
         "43",
         "20",
         "1",
         "Steak Burrito",
         "[Fresh Tomato Salsa, [Rice, Pinto Beans, Cheese, Sour Cream, Guacamole, Lettuce]]",
         "$11.75 "
        ],
        [
         "44",
         "20",
         "1",
         "Chicken Salad Bowl",
         "[Fresh Tomato Salsa, [Fajita Vegetables, Pinto Beans, Lettuce]]",
         "$8.75 "
        ],
        [
         "45",
         "21",
         "1",
         "Chicken Burrito",
         "[Tomatillo-Red Chili Salsa (Hot), [Black Beans, Fajita Veggies, Cheese, Sour Cream, Guacamole, Lettuce]]",
         "$10.98 "
        ],
        [
         "46",
         "21",
         "1",
         "Steak Burrito",
         "[Tomatillo-Red Chili Salsa (Hot), [Rice, Fajita Veggies, Cheese]]",
         "$8.99 "
        ],
        [
         "47",
         "21",
         "1",
         "Izze",
         "[Blackberry]",
         "$3.39 "
        ],
        [
         "48",
         "22",
         "1",
         "Steak Burrito",
         "[[Fresh Tomato Salsa (Mild), Roasted Chili Corn Salsa (Medium), Tomatillo-Red Chili Salsa (Hot)], [Black Beans, Rice, Sour Cream]]",
         "$8.99 "
        ],
        [
         "49",
         "22",
         "1",
         "Chips and Guacamole",
         null,
         "$3.99 "
        ]
       ],
       "shape": {
        "columns": 5,
        "rows": 4622
       }
      },
      "text/html": [
       "<div>\n",
       "<style scoped>\n",
       "    .dataframe tbody tr th:only-of-type {\n",
       "        vertical-align: middle;\n",
       "    }\n",
       "\n",
       "    .dataframe tbody tr th {\n",
       "        vertical-align: top;\n",
       "    }\n",
       "\n",
       "    .dataframe thead th {\n",
       "        text-align: right;\n",
       "    }\n",
       "</style>\n",
       "<table border=\"1\" class=\"dataframe\">\n",
       "  <thead>\n",
       "    <tr style=\"text-align: right;\">\n",
       "      <th></th>\n",
       "      <th>order_id</th>\n",
       "      <th>quantity</th>\n",
       "      <th>item_name</th>\n",
       "      <th>choice_description</th>\n",
       "      <th>item_price</th>\n",
       "    </tr>\n",
       "  </thead>\n",
       "  <tbody>\n",
       "    <tr>\n",
       "      <th>0</th>\n",
       "      <td>1</td>\n",
       "      <td>1</td>\n",
       "      <td>Chips and Fresh Tomato Salsa</td>\n",
       "      <td>NaN</td>\n",
       "      <td>$2.39</td>\n",
       "    </tr>\n",
       "    <tr>\n",
       "      <th>1</th>\n",
       "      <td>1</td>\n",
       "      <td>1</td>\n",
       "      <td>Izze</td>\n",
       "      <td>[Clementine]</td>\n",
       "      <td>$3.39</td>\n",
       "    </tr>\n",
       "    <tr>\n",
       "      <th>2</th>\n",
       "      <td>1</td>\n",
       "      <td>1</td>\n",
       "      <td>Nantucket Nectar</td>\n",
       "      <td>[Apple]</td>\n",
       "      <td>$3.39</td>\n",
       "    </tr>\n",
       "    <tr>\n",
       "      <th>3</th>\n",
       "      <td>1</td>\n",
       "      <td>1</td>\n",
       "      <td>Chips and Tomatillo-Green Chili Salsa</td>\n",
       "      <td>NaN</td>\n",
       "      <td>$2.39</td>\n",
       "    </tr>\n",
       "    <tr>\n",
       "      <th>4</th>\n",
       "      <td>2</td>\n",
       "      <td>2</td>\n",
       "      <td>Chicken Bowl</td>\n",
       "      <td>[Tomatillo-Red Chili Salsa (Hot), [Black Beans...</td>\n",
       "      <td>$16.98</td>\n",
       "    </tr>\n",
       "    <tr>\n",
       "      <th>...</th>\n",
       "      <td>...</td>\n",
       "      <td>...</td>\n",
       "      <td>...</td>\n",
       "      <td>...</td>\n",
       "      <td>...</td>\n",
       "    </tr>\n",
       "    <tr>\n",
       "      <th>4617</th>\n",
       "      <td>1833</td>\n",
       "      <td>1</td>\n",
       "      <td>Steak Burrito</td>\n",
       "      <td>[Fresh Tomato Salsa, [Rice, Black Beans, Sour ...</td>\n",
       "      <td>$11.75</td>\n",
       "    </tr>\n",
       "    <tr>\n",
       "      <th>4618</th>\n",
       "      <td>1833</td>\n",
       "      <td>1</td>\n",
       "      <td>Steak Burrito</td>\n",
       "      <td>[Fresh Tomato Salsa, [Rice, Sour Cream, Cheese...</td>\n",
       "      <td>$11.75</td>\n",
       "    </tr>\n",
       "    <tr>\n",
       "      <th>4619</th>\n",
       "      <td>1834</td>\n",
       "      <td>1</td>\n",
       "      <td>Chicken Salad Bowl</td>\n",
       "      <td>[Fresh Tomato Salsa, [Fajita Vegetables, Pinto...</td>\n",
       "      <td>$11.25</td>\n",
       "    </tr>\n",
       "    <tr>\n",
       "      <th>4620</th>\n",
       "      <td>1834</td>\n",
       "      <td>1</td>\n",
       "      <td>Chicken Salad Bowl</td>\n",
       "      <td>[Fresh Tomato Salsa, [Fajita Vegetables, Lettu...</td>\n",
       "      <td>$8.75</td>\n",
       "    </tr>\n",
       "    <tr>\n",
       "      <th>4621</th>\n",
       "      <td>1834</td>\n",
       "      <td>1</td>\n",
       "      <td>Chicken Salad Bowl</td>\n",
       "      <td>[Fresh Tomato Salsa, [Fajita Vegetables, Pinto...</td>\n",
       "      <td>$8.75</td>\n",
       "    </tr>\n",
       "  </tbody>\n",
       "</table>\n",
       "<p>4622 rows × 5 columns</p>\n",
       "</div>"
      ],
      "text/plain": [
       "      order_id  quantity                              item_name  \\\n",
       "0            1         1           Chips and Fresh Tomato Salsa   \n",
       "1            1         1                                   Izze   \n",
       "2            1         1                       Nantucket Nectar   \n",
       "3            1         1  Chips and Tomatillo-Green Chili Salsa   \n",
       "4            2         2                           Chicken Bowl   \n",
       "...        ...       ...                                    ...   \n",
       "4617      1833         1                          Steak Burrito   \n",
       "4618      1833         1                          Steak Burrito   \n",
       "4619      1834         1                     Chicken Salad Bowl   \n",
       "4620      1834         1                     Chicken Salad Bowl   \n",
       "4621      1834         1                     Chicken Salad Bowl   \n",
       "\n",
       "                                     choice_description item_price  \n",
       "0                                                   NaN     $2.39   \n",
       "1                                          [Clementine]     $3.39   \n",
       "2                                               [Apple]     $3.39   \n",
       "3                                                   NaN     $2.39   \n",
       "4     [Tomatillo-Red Chili Salsa (Hot), [Black Beans...    $16.98   \n",
       "...                                                 ...        ...  \n",
       "4617  [Fresh Tomato Salsa, [Rice, Black Beans, Sour ...    $11.75   \n",
       "4618  [Fresh Tomato Salsa, [Rice, Sour Cream, Cheese...    $11.75   \n",
       "4619  [Fresh Tomato Salsa, [Fajita Vegetables, Pinto...    $11.25   \n",
       "4620  [Fresh Tomato Salsa, [Fajita Vegetables, Lettu...     $8.75   \n",
       "4621  [Fresh Tomato Salsa, [Fajita Vegetables, Pinto...     $8.75   \n",
       "\n",
       "[4622 rows x 5 columns]"
      ]
     },
     "execution_count": 47,
     "metadata": {},
     "output_type": "execute_result"
    }
   ],
   "source": [
    "url = \"https://raw.githubusercontent.com/justmarkham/DAT8/master/data/chipotle.tsv\"\n",
    "chipo = pd.read_csv(url, sep=\"\\t\")\n",
    "chipo"
   ]
  },
  {
   "attachments": {},
   "cell_type": "markdown",
   "metadata": {},
   "source": [
    "### Step 3. Name of the max valued product"
   ]
  },
  {
   "cell_type": "code",
   "execution_count": 48,
   "metadata": {},
   "outputs": [
    {
     "name": "stdout",
     "output_type": "stream",
     "text": [
      "<class 'pandas.core.frame.DataFrame'>\n",
      "RangeIndex: 4622 entries, 0 to 4621\n",
      "Data columns (total 5 columns):\n",
      " #   Column              Non-Null Count  Dtype  \n",
      "---  ------              --------------  -----  \n",
      " 0   order_id            4622 non-null   int64  \n",
      " 1   quantity            4622 non-null   int64  \n",
      " 2   item_name           4622 non-null   object \n",
      " 3   choice_description  3376 non-null   object \n",
      " 4   item_price          4622 non-null   float64\n",
      "dtypes: float64(1), int64(2), object(2)\n",
      "memory usage: 180.7+ KB\n"
     ]
    }
   ],
   "source": [
    "chipo[\"item_price\"]= chipo[\"item_price\"].str.replace(\"$\",\"\").astype(float)\n",
    "chipo.info()"
   ]
  },
  {
   "cell_type": "code",
   "execution_count": 49,
   "metadata": {},
   "outputs": [
    {
     "data": {
      "text/plain": [
       "'Chips and Fresh Tomato Salsa'"
      ]
     },
     "execution_count": 49,
     "metadata": {},
     "output_type": "execute_result"
    }
   ],
   "source": [
    "str(chipo[chipo[\"item_price\"] == chipo[\"item_price\"].max()][\"item_name\"].values[0])"
   ]
  },
  {
   "attachments": {},
   "cell_type": "markdown",
   "metadata": {},
   "source": [
    "### Step 4. How many products cost more than $10.00?"
   ]
  },
  {
   "cell_type": "code",
   "execution_count": 56,
   "metadata": {},
   "outputs": [
    {
     "name": "stdout",
     "output_type": "stream",
     "text": [
      "<class 'pandas.core.series.Series'>\n",
      "Index: 1130 entries, 4 to 4619\n",
      "Series name: item_price\n",
      "Non-Null Count  Dtype  \n",
      "--------------  -----  \n",
      "1130 non-null   float64\n",
      "dtypes: float64(1)\n",
      "memory usage: 17.7 KB\n"
     ]
    }
   ],
   "source": [
    "mas_de_10 = chipo[chipo[\"item_price\"]>10][\"item_price\"]\n",
    "mas_de_10.info() # Con info sabemos que hay 1130 productos que cuestan más de 10 $"
   ]
  },
  {
   "attachments": {},
   "cell_type": "markdown",
   "metadata": {},
   "source": [
    "### Step 4.1: Y cuántos pedidos se han hecho con un producto de más de 10$? Es lo mismo?"
   ]
  },
  {
   "cell_type": "code",
   "execution_count": null,
   "metadata": {},
   "outputs": [
    {
     "data": {
      "application/vnd.microsoft.datawrangler.viewer.v0+json": {
       "columns": [
        {
         "name": "index",
         "rawType": "int64",
         "type": "integer"
        },
        {
         "name": "order_id",
         "rawType": "int64",
         "type": "integer"
        },
        {
         "name": "quantity",
         "rawType": "int64",
         "type": "integer"
        },
        {
         "name": "item_name",
         "rawType": "object",
         "type": "string"
        },
        {
         "name": "choice_description",
         "rawType": "object",
         "type": "string"
        },
        {
         "name": "item_price",
         "rawType": "float64",
         "type": "float"
        }
       ],
       "conversionMethod": "pd.DataFrame",
       "ref": "c6258001-fd43-4197-9dcf-3ef646d92807",
       "rows": [
        [
         "5",
         "3",
         "1",
         "Chicken Bowl",
         "[Fresh Tomato Salsa (Mild), [Rice, Cheese, Sour Cream, Guacamole, Lettuce]]",
         "10.98"
        ],
        [
         "7",
         "4",
         "1",
         "Steak Burrito",
         "[Tomatillo Red Chili Salsa, [Fajita Vegetables, Black Beans, Pinto Beans, Cheese, Sour Cream, Guacamole, Lettuce]]",
         "11.75"
        ],
        [
         "13",
         "7",
         "1",
         "Chicken Bowl",
         "[Fresh Tomato Salsa, [Fajita Vegetables, Rice, Cheese, Sour Cream, Guacamole]]",
         "11.25"
        ],
        [
         "23",
         "12",
         "1",
         "Chicken Burrito",
         "[[Tomatillo-Green Chili Salsa (Medium), Tomatillo-Red Chili Salsa (Hot)], [Pinto Beans, Rice, Cheese, Sour Cream, Guacamole, Lettuce]]",
         "10.98"
        ],
        [
         "39",
         "19",
         "1",
         "Barbacoa Bowl",
         "[Roasted Chili Corn Salsa, [Fajita Vegetables, Rice, Black Beans, Cheese, Sour Cream, Guacamole, Lettuce]]",
         "11.75"
        ],
        [
         "42",
         "20",
         "1",
         "Chicken Bowl",
         "[Roasted Chili Corn Salsa, [Rice, Black Beans, Cheese, Sour Cream, Guacamole, Lettuce]]",
         "11.25"
        ],
        [
         "43",
         "20",
         "1",
         "Steak Burrito",
         "[Fresh Tomato Salsa, [Rice, Pinto Beans, Cheese, Sour Cream, Guacamole, Lettuce]]",
         "11.75"
        ],
        [
         "45",
         "21",
         "1",
         "Chicken Burrito",
         "[Tomatillo-Red Chili Salsa (Hot), [Black Beans, Fajita Veggies, Cheese, Sour Cream, Guacamole, Lettuce]]",
         "10.98"
        ],
        [
         "52",
         "24",
         "1",
         "Chicken Burrito",
         "[Roasted Chili Corn Salsa (Medium), [Black Beans, Rice, Fajita Veggies, Cheese, Sour Cream, Guacamole, Lettuce]]",
         "10.98"
        ],
        [
         "57",
         "26",
         "1",
         "Veggie Burrito",
         "[Tomatillo Red Chili Salsa, [Fajita Vegetables, Rice, Black Beans, Cheese, Sour Cream, Guacamole, Lettuce]]",
         "11.25"
        ],
        [
         "58",
         "27",
         "1",
         "Barbacoa Bowl",
         "[Roasted Chili Corn Salsa, [Fajita Vegetables, Rice, Black Beans, Cheese, Sour Cream, Guacamole, Lettuce]]",
         "11.75"
        ],
        [
         "62",
         "28",
         "1",
         "Veggie Bowl",
         "[Fresh Tomato Salsa, [Fajita Vegetables, Rice, Black Beans, Cheese, Sour Cream, Guacamole, Lettuce]]",
         "11.25"
        ],
        [
         "68",
         "30",
         "1",
         "Chicken Burrito",
         "[Tomatillo-Red Chili Salsa (Hot), [Black Beans, Fajita Veggies, Cheese, Sour Cream, Guacamole, Lettuce]]",
         "10.98"
        ],
        [
         "79",
         "35",
         "1",
         "Chicken Soft Tacos",
         "[Roasted Chili Corn Salsa, [Rice, Cheese, Lettuce, Guacamole]]",
         "11.25"
        ],
        [
         "90",
         "40",
         "1",
         "Steak Bowl",
         "[Fresh Tomato Salsa, [Rice, Black Beans, Cheese, Sour Cream, Guacamole]]",
         "11.75"
        ],
        [
         "91",
         "40",
         "1",
         "Steak Bowl",
         "[Fresh Tomato Salsa, [Fajita Vegetables, Cheese, Sour Cream, Guacamole]]",
         "11.75"
        ],
        [
         "93",
         "41",
         "1",
         "Carnitas Burrito",
         "[Roasted Chili Corn Salsa, [Sour Cream, Guacamole]]",
         "11.75"
        ],
        [
         "97",
         "43",
         "1",
         "Carnitas Bowl",
         "[Fresh Tomato Salsa, [Fajita Vegetables, Rice, Black Beans, Cheese, Guacamole, Lettuce]]",
         "11.75"
        ],
        [
         "123",
         "54",
         "1",
         "Chicken Bowl",
         "[Fresh Tomato Salsa, [Guacamole, Cheese, Sour Cream, Fajita Vegetables, Rice]]",
         "11.25"
        ],
        [
         "130",
         "57",
         "1",
         "Barbacoa Burrito",
         "[Roasted Chili Corn Salsa, [Rice, Pinto Beans, Cheese, Guacamole, Lettuce]]",
         "11.75"
        ],
        [
         "134",
         "59",
         "1",
         "Chicken Burrito",
         "[Roasted Chili Corn Salsa (Medium), [Rice, Black Beans, Sour Cream, Guacamole]]",
         "10.98"
        ],
        [
         "136",
         "61",
         "1",
         "Barbacoa Bowl",
         "[Tomatillo Red Chili Salsa, [Fajita Vegetables, Rice, Black Beans, Cheese, Sour Cream, Guacamole, Lettuce]]",
         "11.75"
        ],
        [
         "138",
         "62",
         "1",
         "Chicken Bowl",
         "[Fresh Tomato Salsa, [Rice, Fajita Vegetables, Sour Cream, Cheese, Guacamole]]",
         "11.25"
        ],
        [
         "140",
         "63",
         "1",
         "Chicken Bowl",
         "[Tomatillo Green Chili Salsa, [Rice, Sour Cream, Cheese, Guacamole]]",
         "11.25"
        ],
        [
         "142",
         "64",
         "1",
         "Chicken Bowl",
         "[Fresh Tomato Salsa, [Fajita Vegetables, Rice, Black Beans, Cheese, Guacamole, Lettuce]]",
         "11.25"
        ],
        [
         "143",
         "64",
         "1",
         "Veggie Bowl",
         "[Tomatillo Red Chili Salsa, [Fajita Vegetables, Black Beans, Cheese, Guacamole, Lettuce]]",
         "11.25"
        ],
        [
         "144",
         "65",
         "1",
         "Barbacoa Burrito",
         "[Tomatillo Red Chili Salsa, [Rice, Sour Cream, Cheese, Guacamole]]",
         "11.75"
        ],
        [
         "147",
         "66",
         "1",
         "Steak Burrito",
         "[Tomatillo-Green Chili Salsa (Medium), [Rice, Black Beans, Sour Cream, Guacamole]]",
         "11.48"
        ],
        [
         "157",
         "71",
         "1",
         "Veggie Bowl",
         "[Tomatillo Red Chili Salsa, [Fajita Vegetables, Rice, Black Beans, Cheese, Guacamole, Lettuce]]",
         "11.25"
        ],
        [
         "158",
         "71",
         "1",
         "Steak Burrito",
         "[Tomatillo Green Chili Salsa, [Rice, Cheese, Guacamole, Lettuce]]",
         "11.75"
        ],
        [
         "159",
         "72",
         "1",
         "Chicken Burrito",
         "[[Roasted Chili Corn Salsa (Medium), Tomatillo-Red Chili Salsa (Hot)], [Black Beans, Rice, Fajita Veggies, Cheese, Sour Cream, Guacamole, Lettuce]]",
         "10.98"
        ],
        [
         "161",
         "73",
         "1",
         "Chicken Burrito",
         "[[Roasted Chili Corn Salsa (Medium), Tomatillo-Red Chili Salsa (Hot)], [Black Beans, Rice, Fajita Veggies, Cheese, Guacamole, Lettuce]]",
         "10.98"
        ],
        [
         "163",
         "74",
         "1",
         "Carnitas Bowl",
         "[Roasted Chili Corn Salsa (Medium), [Pinto Beans, Rice, Fajita Veggies, Cheese, Sour Cream, Guacamole, Lettuce]]",
         "11.48"
        ],
        [
         "167",
         "75",
         "1",
         "Chicken Burrito",
         "[Tomatillo Red Chili Salsa, [Rice, Black Beans, Cheese, Guacamole, Lettuce]]",
         "11.25"
        ],
        [
         "168",
         "75",
         "1",
         "Barbacoa Crispy Tacos",
         "[Tomatillo Red Chili Salsa, [Rice, Black Beans, Cheese, Sour Cream, Guacamole]]",
         "11.75"
        ],
        [
         "176",
         "79",
         "1",
         "Chicken Bowl",
         "[Roasted Chili Corn Salsa (Medium), [Black Beans, Rice, Fajita Veggies, Cheese, Sour Cream, Guacamole, Lettuce]]",
         "10.98"
        ],
        [
         "177",
         "80",
         "1",
         "Steak Burrito",
         "[Fresh Tomato Salsa (Mild), [Rice, Black Beans, Sour Cream, Guacamole]]",
         "11.48"
        ],
        [
         "186",
         "83",
         "1",
         "Veggie Salad Bowl",
         "[Fresh Tomato Salsa, [Fajita Vegetables, Rice, Black Beans, Cheese, Sour Cream, Guacamole, Lettuce]]",
         "11.25"
        ],
        [
         "187",
         "84",
         "1",
         "Steak Bowl",
         "[Fresh Tomato Salsa (Mild), [Rice, Fajita Veggies, Guacamole, Lettuce]]",
         "11.48"
        ],
        [
         "192",
         "86",
         "1",
         "Veggie Bowl",
         "[Roasted Chili Corn Salsa, [Fajita Vegetables, Rice, Cheese, Sour Cream, Guacamole, Lettuce]]",
         "11.25"
        ],
        [
         "199",
         "89",
         "1",
         "Chicken Bowl",
         "[[Roasted Chili Corn Salsa (Medium), Tomatillo-Red Chili Salsa (Hot)], [Black Beans, Rice, Fajita Veggies, Guacamole, Lettuce]]",
         "10.98"
        ],
        [
         "202",
         "90",
         "1",
         "Chicken Burrito",
         "[Tomatillo Red Chili Salsa, [Rice, Black Beans, Sour Cream, Cheese, Lettuce, Guacamole]]",
         "11.25"
        ],
        [
         "209",
         "93",
         "1",
         "Chicken Bowl",
         "[Roasted Chili Corn Salsa, [Fajita Vegetables, Rice, Black Beans, Cheese, Sour Cream, Guacamole, Lettuce]]",
         "11.25"
        ],
        [
         "210",
         "93",
         "1",
         "Veggie Bowl",
         "[Roasted Chili Corn Salsa, [Rice, Black Beans, Cheese, Sour Cream, Guacamole, Lettuce]]",
         "11.25"
        ],
        [
         "211",
         "93",
         "1",
         "Chicken Bowl",
         "[Roasted Chili Corn Salsa, [Fajita Vegetables, Rice, Black Beans, Pinto Beans, Cheese, Sour Cream, Guacamole, Lettuce]]",
         "11.25"
        ],
        [
         "215",
         "95",
         "1",
         "Steak Bowl",
         "[Tomatillo Green Chili Salsa, [Fajita Vegetables, Rice, Black Beans, Cheese, Guacamole, Lettuce]]",
         "11.75"
        ],
        [
         "225",
         "99",
         "1",
         "Veggie Burrito",
         "[Tomatillo Red Chili Salsa, [Black Beans, Cheese, Guacamole]]",
         "11.25"
        ],
        [
         "234",
         "103",
         "1",
         "Steak Burrito",
         "[Tomatillo Red Chili Salsa, [Rice, Black Beans, Cheese, Sour Cream, Guacamole, Lettuce]]",
         "11.75"
        ],
        [
         "238",
         "103",
         "1",
         "Steak Burrito",
         "[Tomatillo Red Chili Salsa, [Rice, Black Beans, Cheese, Sour Cream, Guacamole, Lettuce]]",
         "11.75"
        ],
        [
         "244",
         "107",
         "1",
         "Chicken Burrito",
         "[Roasted Chili Corn Salsa (Medium), [Rice, Fajita Veggies, Cheese, Sour Cream, Guacamole, Lettuce]]",
         "10.98"
        ]
       ],
       "shape": {
        "columns": 5,
        "rows": 997
       }
      },
      "text/html": [
       "<div>\n",
       "<style scoped>\n",
       "    .dataframe tbody tr th:only-of-type {\n",
       "        vertical-align: middle;\n",
       "    }\n",
       "\n",
       "    .dataframe tbody tr th {\n",
       "        vertical-align: top;\n",
       "    }\n",
       "\n",
       "    .dataframe thead th {\n",
       "        text-align: right;\n",
       "    }\n",
       "</style>\n",
       "<table border=\"1\" class=\"dataframe\">\n",
       "  <thead>\n",
       "    <tr style=\"text-align: right;\">\n",
       "      <th></th>\n",
       "      <th>order_id</th>\n",
       "      <th>quantity</th>\n",
       "      <th>item_name</th>\n",
       "      <th>choice_description</th>\n",
       "      <th>item_price</th>\n",
       "    </tr>\n",
       "  </thead>\n",
       "  <tbody>\n",
       "    <tr>\n",
       "      <th>5</th>\n",
       "      <td>3</td>\n",
       "      <td>1</td>\n",
       "      <td>Chicken Bowl</td>\n",
       "      <td>[Fresh Tomato Salsa (Mild), [Rice, Cheese, Sou...</td>\n",
       "      <td>10.98</td>\n",
       "    </tr>\n",
       "    <tr>\n",
       "      <th>7</th>\n",
       "      <td>4</td>\n",
       "      <td>1</td>\n",
       "      <td>Steak Burrito</td>\n",
       "      <td>[Tomatillo Red Chili Salsa, [Fajita Vegetables...</td>\n",
       "      <td>11.75</td>\n",
       "    </tr>\n",
       "    <tr>\n",
       "      <th>13</th>\n",
       "      <td>7</td>\n",
       "      <td>1</td>\n",
       "      <td>Chicken Bowl</td>\n",
       "      <td>[Fresh Tomato Salsa, [Fajita Vegetables, Rice,...</td>\n",
       "      <td>11.25</td>\n",
       "    </tr>\n",
       "    <tr>\n",
       "      <th>23</th>\n",
       "      <td>12</td>\n",
       "      <td>1</td>\n",
       "      <td>Chicken Burrito</td>\n",
       "      <td>[[Tomatillo-Green Chili Salsa (Medium), Tomati...</td>\n",
       "      <td>10.98</td>\n",
       "    </tr>\n",
       "    <tr>\n",
       "      <th>39</th>\n",
       "      <td>19</td>\n",
       "      <td>1</td>\n",
       "      <td>Barbacoa Bowl</td>\n",
       "      <td>[Roasted Chili Corn Salsa, [Fajita Vegetables,...</td>\n",
       "      <td>11.75</td>\n",
       "    </tr>\n",
       "    <tr>\n",
       "      <th>...</th>\n",
       "      <td>...</td>\n",
       "      <td>...</td>\n",
       "      <td>...</td>\n",
       "      <td>...</td>\n",
       "      <td>...</td>\n",
       "    </tr>\n",
       "    <tr>\n",
       "      <th>4610</th>\n",
       "      <td>1830</td>\n",
       "      <td>1</td>\n",
       "      <td>Steak Burrito</td>\n",
       "      <td>[Fresh Tomato Salsa, [Rice, Sour Cream, Cheese...</td>\n",
       "      <td>11.75</td>\n",
       "    </tr>\n",
       "    <tr>\n",
       "      <th>4611</th>\n",
       "      <td>1830</td>\n",
       "      <td>1</td>\n",
       "      <td>Veggie Burrito</td>\n",
       "      <td>[Tomatillo Green Chili Salsa, [Rice, Fajita Ve...</td>\n",
       "      <td>11.25</td>\n",
       "    </tr>\n",
       "    <tr>\n",
       "      <th>4617</th>\n",
       "      <td>1833</td>\n",
       "      <td>1</td>\n",
       "      <td>Steak Burrito</td>\n",
       "      <td>[Fresh Tomato Salsa, [Rice, Black Beans, Sour ...</td>\n",
       "      <td>11.75</td>\n",
       "    </tr>\n",
       "    <tr>\n",
       "      <th>4618</th>\n",
       "      <td>1833</td>\n",
       "      <td>1</td>\n",
       "      <td>Steak Burrito</td>\n",
       "      <td>[Fresh Tomato Salsa, [Rice, Sour Cream, Cheese...</td>\n",
       "      <td>11.75</td>\n",
       "    </tr>\n",
       "    <tr>\n",
       "      <th>4619</th>\n",
       "      <td>1834</td>\n",
       "      <td>1</td>\n",
       "      <td>Chicken Salad Bowl</td>\n",
       "      <td>[Fresh Tomato Salsa, [Fajita Vegetables, Pinto...</td>\n",
       "      <td>11.25</td>\n",
       "    </tr>\n",
       "  </tbody>\n",
       "</table>\n",
       "<p>997 rows × 5 columns</p>\n",
       "</div>"
      ],
      "text/plain": [
       "      order_id  quantity           item_name  \\\n",
       "5            3         1        Chicken Bowl   \n",
       "7            4         1       Steak Burrito   \n",
       "13           7         1        Chicken Bowl   \n",
       "23          12         1     Chicken Burrito   \n",
       "39          19         1       Barbacoa Bowl   \n",
       "...        ...       ...                 ...   \n",
       "4610      1830         1       Steak Burrito   \n",
       "4611      1830         1      Veggie Burrito   \n",
       "4617      1833         1       Steak Burrito   \n",
       "4618      1833         1       Steak Burrito   \n",
       "4619      1834         1  Chicken Salad Bowl   \n",
       "\n",
       "                                     choice_description  item_price  \n",
       "5     [Fresh Tomato Salsa (Mild), [Rice, Cheese, Sou...       10.98  \n",
       "7     [Tomatillo Red Chili Salsa, [Fajita Vegetables...       11.75  \n",
       "13    [Fresh Tomato Salsa, [Fajita Vegetables, Rice,...       11.25  \n",
       "23    [[Tomatillo-Green Chili Salsa (Medium), Tomati...       10.98  \n",
       "39    [Roasted Chili Corn Salsa, [Fajita Vegetables,...       11.75  \n",
       "...                                                 ...         ...  \n",
       "4610  [Fresh Tomato Salsa, [Rice, Sour Cream, Cheese...       11.75  \n",
       "4611  [Tomatillo Green Chili Salsa, [Rice, Fajita Ve...       11.25  \n",
       "4617  [Fresh Tomato Salsa, [Rice, Black Beans, Sour ...       11.75  \n",
       "4618  [Fresh Tomato Salsa, [Rice, Sour Cream, Cheese...       11.75  \n",
       "4619  [Fresh Tomato Salsa, [Fajita Vegetables, Pinto...       11.25  \n",
       "\n",
       "[997 rows x 5 columns]"
      ]
     },
     "execution_count": 68,
     "metadata": {},
     "output_type": "execute_result"
    }
   ],
   "source": [
    "chipo[(chipo[\"quantity\"]==1)&(chipo[\"item_price\"] > 10)] # Para saber cuántos pedidos fueron de un producto de más de 10 $ se crea una máscara con las dos condiciones\n",
    "# Obtenemos un total de 997 pedidos de un producto de más de 10 $"
   ]
  },
  {
   "cell_type": "markdown",
   "metadata": {},
   "source": [
    "### Step 4.2: Y cuántos pedidos se han hecho de más de 10$? Es lo mismo?"
   ]
  },
  {
   "cell_type": "code",
   "execution_count": null,
   "metadata": {},
   "outputs": [
    {
     "data": {
      "text/plain": [
       "4          2\n",
       "5          3\n",
       "7          4\n",
       "13         7\n",
       "23        12\n",
       "        ... \n",
       "4610    1830\n",
       "4611    1830\n",
       "4617    1833\n",
       "4618    1833\n",
       "4619    1834\n",
       "Name: order_id, Length: 1130, dtype: int64"
      ]
     },
     "execution_count": 69,
     "metadata": {},
     "output_type": "execute_result"
    }
   ],
   "source": [
    "chipo[(chipo[\"item_price\"] > 10)][\"order_id\"] # En este caso creo que es lo mismo que en la primera instancia del ejercicio 4, para saber cuántos pedidos se han\n",
    "# hecho de más de 10 $ aplicamos una máscara e imprimimos la columna de número de pedidos. Obtenemos un resultado final de 1130 pedidos."
   ]
  },
  {
   "cell_type": "markdown",
   "metadata": {},
   "source": [
    "### Step 4.3: Y en cuántos pedidos se ha pagado más de 10$ por un mismo producto? Es lo mismo?"
   ]
  },
  {
   "cell_type": "code",
   "execution_count": null,
   "metadata": {},
   "outputs": [
    {
     "data": {
      "text/plain": [
       "np.int64(133)"
      ]
     },
     "execution_count": 85,
     "metadata": {},
     "output_type": "execute_result"
    }
   ],
   "source": [
    "chipo[(chipo[\"quantity\"] > 1)&(chipo[\"item_price\"] > 10)][\"order_id\"].count()\n",
    "# Aplicamos una máscara para saber cuántos pedidos se han pagado más de 10 $ en más de un producto, donde obtenemos un total de 133 pedidos."
   ]
  },
  {
   "attachments": {},
   "cell_type": "markdown",
   "metadata": {},
   "source": [
    "### Step 5. What is the price of each item and name it unit_price. Get only item_name and unit_price"
   ]
  },
  {
   "cell_type": "code",
   "execution_count": 91,
   "metadata": {},
   "outputs": [
    {
     "data": {
      "text/plain": [
       "item_name\n",
       "6 Pack Soft Drink                         6.610185\n",
       "Barbacoa Bowl                            10.187273\n",
       "Barbacoa Burrito                          9.832418\n",
       "Barbacoa Crispy Tacos                    10.928182\n",
       "Barbacoa Salad Bowl                      10.640000\n",
       "Barbacoa Soft Tacos                      10.018400\n",
       "Bottled Water                             1.867654\n",
       "Bowl                                     14.800000\n",
       "Burrito                                   7.400000\n",
       "Canned Soda                               1.320577\n",
       "Canned Soft Drink                         1.457641\n",
       "Carnitas Bowl                            10.833971\n",
       "Carnitas Burrito                         10.132712\n",
       "Carnitas Crispy Tacos                    11.137143\n",
       "Carnitas Salad                            8.990000\n",
       "Carnitas Salad Bowl                      11.056667\n",
       "Carnitas Soft Tacos                       9.398500\n",
       "Chicken Bowl                             10.113953\n",
       "Chicken Burrito                          10.082857\n",
       "Chicken Crispy Tacos                     10.045319\n",
       "Chicken Salad                             9.010000\n",
       "Chicken Salad Bowl                       11.170455\n",
       "Chicken Soft Tacos                        9.635565\n",
       "Chips                                     2.342844\n",
       "Chips and Fresh Tomato Salsa              3.285091\n",
       "Chips and Guacamole                       4.595073\n",
       "Chips and Mild Fresh Tomato Salsa         3.000000\n",
       "Chips and Roasted Chili Corn Salsa        3.084091\n",
       "Chips and Roasted Chili-Corn Salsa        2.390000\n",
       "Chips and Tomatillo Green Chili Salsa     3.087209\n",
       "Chips and Tomatillo Red Chili Salsa       3.072917\n",
       "Chips and Tomatillo-Green Chili Salsa     2.544194\n",
       "Chips and Tomatillo-Red Chili Salsa       2.987500\n",
       "Crispy Tacos                              7.400000\n",
       "Izze                                      3.390000\n",
       "Nantucket Nectar                          3.641111\n",
       "Salad                                     7.400000\n",
       "Side of Chips                             1.840594\n",
       "Steak Bowl                               10.711801\n",
       "Steak Burrito                            10.465842\n",
       "Steak Crispy Tacos                       10.209714\n",
       "Steak Salad                               8.915000\n",
       "Steak Salad Bowl                         11.847931\n",
       "Steak Soft Tacos                          9.746364\n",
       "Veggie Bowl                              10.211647\n",
       "Veggie Burrito                            9.839684\n",
       "Veggie Crispy Tacos                       8.490000\n",
       "Veggie Salad                              8.490000\n",
       "Veggie Salad Bowl                        10.138889\n",
       "Veggie Soft Tacos                        10.565714\n",
       "Name: item_price, dtype: float64"
      ]
     },
     "execution_count": 91,
     "metadata": {},
     "output_type": "execute_result"
    }
   ],
   "source": [
    "chipo.groupby(\"item_name\")[\"item_price\"].mean()\n"
   ]
  },
  {
   "attachments": {},
   "cell_type": "markdown",
   "metadata": {},
   "source": [
    "### Step 6. Sort by the name of the item"
   ]
  },
  {
   "cell_type": "code",
   "execution_count": 78,
   "metadata": {},
   "outputs": [
    {
     "data": {
      "text/plain": [
       "3389    6 Pack Soft Drink\n",
       "341     6 Pack Soft Drink\n",
       "1849    6 Pack Soft Drink\n",
       "1860    6 Pack Soft Drink\n",
       "2713    6 Pack Soft Drink\n",
       "              ...        \n",
       "2384    Veggie Soft Tacos\n",
       "781     Veggie Soft Tacos\n",
       "2851    Veggie Soft Tacos\n",
       "1699    Veggie Soft Tacos\n",
       "1395    Veggie Soft Tacos\n",
       "Name: item_name, Length: 4622, dtype: object"
      ]
     },
     "execution_count": 78,
     "metadata": {},
     "output_type": "execute_result"
    }
   ],
   "source": [
    "chipo[\"item_name\"].sort_values()"
   ]
  },
  {
   "attachments": {},
   "cell_type": "markdown",
   "metadata": {},
   "source": [
    "### Step 7. What was the quantity of the most expensive item ordered? 2 ways"
   ]
  },
  {
   "cell_type": "code",
   "execution_count": null,
   "metadata": {},
   "outputs": [
    {
     "data": {
      "text/plain": [
       "np.int64(15)"
      ]
     },
     "execution_count": 76,
     "metadata": {},
     "output_type": "execute_result"
    }
   ],
   "source": [
    "chipo[chipo[\"item_price\"] == chipo[\"item_price\"].max()][\"quantity\"].values[0] # En este primer método aplicamos la máscara para aislar la fila donde se encuentra el\n",
    "# item más caro. Luego sacamos el valor de \"quantity\" correspondiente"
   ]
  },
  {
   "cell_type": "code",
   "execution_count": null,
   "metadata": {},
   "outputs": [
    {
     "name": "stdout",
     "output_type": "stream",
     "text": [
      "3598\n"
     ]
    },
    {
     "data": {
      "text/plain": [
       "np.int64(15)"
      ]
     },
     "execution_count": 81,
     "metadata": {},
     "output_type": "execute_result"
    }
   ],
   "source": [
    "chipo[\"item_price\"].idxmax() # Cone este otro método sacamos el índcie del valor máximo de item_price\n",
    "print(chipo[\"item_price\"].idxmax())\n",
    "chipo.loc[chipo[\"item_price\"].idxmax(), \"quantity\"] # Con chipo.loc buscamos localizar el valor de \"quantity\" asociado a ese valor de idxmax"
   ]
  },
  {
   "attachments": {},
   "cell_type": "markdown",
   "metadata": {},
   "source": [
    "### Step 8. How many times was a Veggie Salad Bowl ordered?"
   ]
  },
  {
   "cell_type": "code",
   "execution_count": 70,
   "metadata": {},
   "outputs": [
    {
     "data": {
      "application/vnd.microsoft.datawrangler.viewer.v0+json": {
       "columns": [
        {
         "name": "index",
         "rawType": "int64",
         "type": "integer"
        },
        {
         "name": "order_id",
         "rawType": "int64",
         "type": "integer"
        },
        {
         "name": "quantity",
         "rawType": "int64",
         "type": "integer"
        },
        {
         "name": "item_name",
         "rawType": "object",
         "type": "string"
        },
        {
         "name": "choice_description",
         "rawType": "object",
         "type": "string"
        },
        {
         "name": "item_price",
         "rawType": "float64",
         "type": "float"
        }
       ],
       "conversionMethod": "pd.DataFrame",
       "ref": "5ffa7d68-bc5e-4fa0-9bfd-b7d31877a234",
       "rows": [
        [
         "186",
         "83",
         "1",
         "Veggie Salad Bowl",
         "[Fresh Tomato Salsa, [Fajita Vegetables, Rice, Black Beans, Cheese, Sour Cream, Guacamole, Lettuce]]",
         "11.25"
        ],
        [
         "295",
         "128",
         "1",
         "Veggie Salad Bowl",
         "[Fresh Tomato Salsa, [Fajita Vegetables, Lettuce, Guacamole, Sour Cream, Cheese, Black Beans, Rice]]",
         "11.25"
        ],
        [
         "455",
         "195",
         "1",
         "Veggie Salad Bowl",
         "[Fresh Tomato Salsa, [Fajita Vegetables, Rice, Black Beans, Cheese, Guacamole, Lettuce]]",
         "11.25"
        ],
        [
         "496",
         "207",
         "1",
         "Veggie Salad Bowl",
         "[Fresh Tomato Salsa, [Rice, Lettuce, Guacamole, Fajita Vegetables, Cheese, Sour Cream, Black Beans]]",
         "11.25"
        ],
        [
         "960",
         "394",
         "1",
         "Veggie Salad Bowl",
         "[Fresh Tomato Salsa, [Fajita Vegetables, Lettuce]]",
         "8.75"
        ],
        [
         "1316",
         "536",
         "1",
         "Veggie Salad Bowl",
         "[Fresh Tomato Salsa, [Fajita Vegetables, Rice, Black Beans, Cheese, Sour Cream]]",
         "8.75"
        ],
        [
         "1884",
         "760",
         "1",
         "Veggie Salad Bowl",
         "[Fresh Tomato Salsa, [Fajita Vegetables, Rice, Black Beans, Cheese, Guacamole, Lettuce]]",
         "11.25"
        ],
        [
         "2156",
         "869",
         "1",
         "Veggie Salad Bowl",
         "[Tomatillo Red Chili Salsa, [Fajita Vegetables, Rice, Black Beans, Cheese, Guacamole]]",
         "11.25"
        ],
        [
         "2223",
         "896",
         "1",
         "Veggie Salad Bowl",
         "[Roasted Chili Corn Salsa, Fajita Vegetables]",
         "8.75"
        ],
        [
         "2269",
         "913",
         "1",
         "Veggie Salad Bowl",
         "[Fresh Tomato Salsa, [Fajita Vegetables, Rice, Pinto Beans, Cheese, Lettuce]]",
         "8.75"
        ],
        [
         "2683",
         "1066",
         "1",
         "Veggie Salad Bowl",
         "[Roasted Chili Corn Salsa, [Fajita Vegetables, Rice, Black Beans, Lettuce]]",
         "8.75"
        ],
        [
         "3223",
         "1289",
         "1",
         "Veggie Salad Bowl",
         "[Tomatillo Red Chili Salsa, [Fajita Vegetables, Rice, Black Beans, Cheese, Guacamole]]",
         "11.25"
        ],
        [
         "3293",
         "1321",
         "1",
         "Veggie Salad Bowl",
         "[Fresh Tomato Salsa, [Rice, Black Beans, Cheese, Sour Cream]]",
         "8.75"
        ],
        [
         "4109",
         "1646",
         "1",
         "Veggie Salad Bowl",
         "[Tomatillo Red Chili Salsa, [Fajita Vegetables, Rice, Black Beans, Cheese, Guacamole, Lettuce]]",
         "11.25"
        ],
        [
         "4201",
         "1677",
         "1",
         "Veggie Salad Bowl",
         "[Fresh Tomato Salsa, [Fajita Vegetables, Black Beans, Guacamole]]",
         "11.25"
        ],
        [
         "4261",
         "1700",
         "1",
         "Veggie Salad Bowl",
         "[Fresh Tomato Salsa, [Fajita Vegetables, Rice, Guacamole]]",
         "11.25"
        ],
        [
         "4541",
         "1805",
         "1",
         "Veggie Salad Bowl",
         "[Tomatillo Green Chili Salsa, [Fajita Vegetables, Rice, Black Beans, Cheese, Sour Cream, Lettuce]]",
         "8.75"
        ],
        [
         "4573",
         "1818",
         "1",
         "Veggie Salad Bowl",
         "[Fresh Tomato Salsa, [Fajita Vegetables, Pinto Beans, Lettuce]]",
         "8.75"
        ]
       ],
       "shape": {
        "columns": 5,
        "rows": 18
       }
      },
      "text/html": [
       "<div>\n",
       "<style scoped>\n",
       "    .dataframe tbody tr th:only-of-type {\n",
       "        vertical-align: middle;\n",
       "    }\n",
       "\n",
       "    .dataframe tbody tr th {\n",
       "        vertical-align: top;\n",
       "    }\n",
       "\n",
       "    .dataframe thead th {\n",
       "        text-align: right;\n",
       "    }\n",
       "</style>\n",
       "<table border=\"1\" class=\"dataframe\">\n",
       "  <thead>\n",
       "    <tr style=\"text-align: right;\">\n",
       "      <th></th>\n",
       "      <th>order_id</th>\n",
       "      <th>quantity</th>\n",
       "      <th>item_name</th>\n",
       "      <th>choice_description</th>\n",
       "      <th>item_price</th>\n",
       "    </tr>\n",
       "  </thead>\n",
       "  <tbody>\n",
       "    <tr>\n",
       "      <th>186</th>\n",
       "      <td>83</td>\n",
       "      <td>1</td>\n",
       "      <td>Veggie Salad Bowl</td>\n",
       "      <td>[Fresh Tomato Salsa, [Fajita Vegetables, Rice,...</td>\n",
       "      <td>11.25</td>\n",
       "    </tr>\n",
       "    <tr>\n",
       "      <th>295</th>\n",
       "      <td>128</td>\n",
       "      <td>1</td>\n",
       "      <td>Veggie Salad Bowl</td>\n",
       "      <td>[Fresh Tomato Salsa, [Fajita Vegetables, Lettu...</td>\n",
       "      <td>11.25</td>\n",
       "    </tr>\n",
       "    <tr>\n",
       "      <th>455</th>\n",
       "      <td>195</td>\n",
       "      <td>1</td>\n",
       "      <td>Veggie Salad Bowl</td>\n",
       "      <td>[Fresh Tomato Salsa, [Fajita Vegetables, Rice,...</td>\n",
       "      <td>11.25</td>\n",
       "    </tr>\n",
       "    <tr>\n",
       "      <th>496</th>\n",
       "      <td>207</td>\n",
       "      <td>1</td>\n",
       "      <td>Veggie Salad Bowl</td>\n",
       "      <td>[Fresh Tomato Salsa, [Rice, Lettuce, Guacamole...</td>\n",
       "      <td>11.25</td>\n",
       "    </tr>\n",
       "    <tr>\n",
       "      <th>960</th>\n",
       "      <td>394</td>\n",
       "      <td>1</td>\n",
       "      <td>Veggie Salad Bowl</td>\n",
       "      <td>[Fresh Tomato Salsa, [Fajita Vegetables, Lettu...</td>\n",
       "      <td>8.75</td>\n",
       "    </tr>\n",
       "    <tr>\n",
       "      <th>1316</th>\n",
       "      <td>536</td>\n",
       "      <td>1</td>\n",
       "      <td>Veggie Salad Bowl</td>\n",
       "      <td>[Fresh Tomato Salsa, [Fajita Vegetables, Rice,...</td>\n",
       "      <td>8.75</td>\n",
       "    </tr>\n",
       "    <tr>\n",
       "      <th>1884</th>\n",
       "      <td>760</td>\n",
       "      <td>1</td>\n",
       "      <td>Veggie Salad Bowl</td>\n",
       "      <td>[Fresh Tomato Salsa, [Fajita Vegetables, Rice,...</td>\n",
       "      <td>11.25</td>\n",
       "    </tr>\n",
       "    <tr>\n",
       "      <th>2156</th>\n",
       "      <td>869</td>\n",
       "      <td>1</td>\n",
       "      <td>Veggie Salad Bowl</td>\n",
       "      <td>[Tomatillo Red Chili Salsa, [Fajita Vegetables...</td>\n",
       "      <td>11.25</td>\n",
       "    </tr>\n",
       "    <tr>\n",
       "      <th>2223</th>\n",
       "      <td>896</td>\n",
       "      <td>1</td>\n",
       "      <td>Veggie Salad Bowl</td>\n",
       "      <td>[Roasted Chili Corn Salsa, Fajita Vegetables]</td>\n",
       "      <td>8.75</td>\n",
       "    </tr>\n",
       "    <tr>\n",
       "      <th>2269</th>\n",
       "      <td>913</td>\n",
       "      <td>1</td>\n",
       "      <td>Veggie Salad Bowl</td>\n",
       "      <td>[Fresh Tomato Salsa, [Fajita Vegetables, Rice,...</td>\n",
       "      <td>8.75</td>\n",
       "    </tr>\n",
       "    <tr>\n",
       "      <th>2683</th>\n",
       "      <td>1066</td>\n",
       "      <td>1</td>\n",
       "      <td>Veggie Salad Bowl</td>\n",
       "      <td>[Roasted Chili Corn Salsa, [Fajita Vegetables,...</td>\n",
       "      <td>8.75</td>\n",
       "    </tr>\n",
       "    <tr>\n",
       "      <th>3223</th>\n",
       "      <td>1289</td>\n",
       "      <td>1</td>\n",
       "      <td>Veggie Salad Bowl</td>\n",
       "      <td>[Tomatillo Red Chili Salsa, [Fajita Vegetables...</td>\n",
       "      <td>11.25</td>\n",
       "    </tr>\n",
       "    <tr>\n",
       "      <th>3293</th>\n",
       "      <td>1321</td>\n",
       "      <td>1</td>\n",
       "      <td>Veggie Salad Bowl</td>\n",
       "      <td>[Fresh Tomato Salsa, [Rice, Black Beans, Chees...</td>\n",
       "      <td>8.75</td>\n",
       "    </tr>\n",
       "    <tr>\n",
       "      <th>4109</th>\n",
       "      <td>1646</td>\n",
       "      <td>1</td>\n",
       "      <td>Veggie Salad Bowl</td>\n",
       "      <td>[Tomatillo Red Chili Salsa, [Fajita Vegetables...</td>\n",
       "      <td>11.25</td>\n",
       "    </tr>\n",
       "    <tr>\n",
       "      <th>4201</th>\n",
       "      <td>1677</td>\n",
       "      <td>1</td>\n",
       "      <td>Veggie Salad Bowl</td>\n",
       "      <td>[Fresh Tomato Salsa, [Fajita Vegetables, Black...</td>\n",
       "      <td>11.25</td>\n",
       "    </tr>\n",
       "    <tr>\n",
       "      <th>4261</th>\n",
       "      <td>1700</td>\n",
       "      <td>1</td>\n",
       "      <td>Veggie Salad Bowl</td>\n",
       "      <td>[Fresh Tomato Salsa, [Fajita Vegetables, Rice,...</td>\n",
       "      <td>11.25</td>\n",
       "    </tr>\n",
       "    <tr>\n",
       "      <th>4541</th>\n",
       "      <td>1805</td>\n",
       "      <td>1</td>\n",
       "      <td>Veggie Salad Bowl</td>\n",
       "      <td>[Tomatillo Green Chili Salsa, [Fajita Vegetabl...</td>\n",
       "      <td>8.75</td>\n",
       "    </tr>\n",
       "    <tr>\n",
       "      <th>4573</th>\n",
       "      <td>1818</td>\n",
       "      <td>1</td>\n",
       "      <td>Veggie Salad Bowl</td>\n",
       "      <td>[Fresh Tomato Salsa, [Fajita Vegetables, Pinto...</td>\n",
       "      <td>8.75</td>\n",
       "    </tr>\n",
       "  </tbody>\n",
       "</table>\n",
       "</div>"
      ],
      "text/plain": [
       "      order_id  quantity          item_name  \\\n",
       "186         83         1  Veggie Salad Bowl   \n",
       "295        128         1  Veggie Salad Bowl   \n",
       "455        195         1  Veggie Salad Bowl   \n",
       "496        207         1  Veggie Salad Bowl   \n",
       "960        394         1  Veggie Salad Bowl   \n",
       "1316       536         1  Veggie Salad Bowl   \n",
       "1884       760         1  Veggie Salad Bowl   \n",
       "2156       869         1  Veggie Salad Bowl   \n",
       "2223       896         1  Veggie Salad Bowl   \n",
       "2269       913         1  Veggie Salad Bowl   \n",
       "2683      1066         1  Veggie Salad Bowl   \n",
       "3223      1289         1  Veggie Salad Bowl   \n",
       "3293      1321         1  Veggie Salad Bowl   \n",
       "4109      1646         1  Veggie Salad Bowl   \n",
       "4201      1677         1  Veggie Salad Bowl   \n",
       "4261      1700         1  Veggie Salad Bowl   \n",
       "4541      1805         1  Veggie Salad Bowl   \n",
       "4573      1818         1  Veggie Salad Bowl   \n",
       "\n",
       "                                     choice_description  item_price  \n",
       "186   [Fresh Tomato Salsa, [Fajita Vegetables, Rice,...       11.25  \n",
       "295   [Fresh Tomato Salsa, [Fajita Vegetables, Lettu...       11.25  \n",
       "455   [Fresh Tomato Salsa, [Fajita Vegetables, Rice,...       11.25  \n",
       "496   [Fresh Tomato Salsa, [Rice, Lettuce, Guacamole...       11.25  \n",
       "960   [Fresh Tomato Salsa, [Fajita Vegetables, Lettu...        8.75  \n",
       "1316  [Fresh Tomato Salsa, [Fajita Vegetables, Rice,...        8.75  \n",
       "1884  [Fresh Tomato Salsa, [Fajita Vegetables, Rice,...       11.25  \n",
       "2156  [Tomatillo Red Chili Salsa, [Fajita Vegetables...       11.25  \n",
       "2223      [Roasted Chili Corn Salsa, Fajita Vegetables]        8.75  \n",
       "2269  [Fresh Tomato Salsa, [Fajita Vegetables, Rice,...        8.75  \n",
       "2683  [Roasted Chili Corn Salsa, [Fajita Vegetables,...        8.75  \n",
       "3223  [Tomatillo Red Chili Salsa, [Fajita Vegetables...       11.25  \n",
       "3293  [Fresh Tomato Salsa, [Rice, Black Beans, Chees...        8.75  \n",
       "4109  [Tomatillo Red Chili Salsa, [Fajita Vegetables...       11.25  \n",
       "4201  [Fresh Tomato Salsa, [Fajita Vegetables, Black...       11.25  \n",
       "4261  [Fresh Tomato Salsa, [Fajita Vegetables, Rice,...       11.25  \n",
       "4541  [Tomatillo Green Chili Salsa, [Fajita Vegetabl...        8.75  \n",
       "4573  [Fresh Tomato Salsa, [Fajita Vegetables, Pinto...        8.75  "
      ]
     },
     "execution_count": 70,
     "metadata": {},
     "output_type": "execute_result"
    }
   ],
   "source": [
    "chipo[(chipo[\"item_name\"]==\"Veggie Salad Bowl\")]"
   ]
  },
  {
   "attachments": {},
   "cell_type": "markdown",
   "metadata": {},
   "source": [
    "### Step 9. How many times did someone order more than one Canned Soda?"
   ]
  },
  {
   "cell_type": "code",
   "execution_count": null,
   "metadata": {},
   "outputs": [
    {
     "data": {
      "application/vnd.microsoft.datawrangler.viewer.v0+json": {
       "columns": [
        {
         "name": "index",
         "rawType": "int64",
         "type": "integer"
        },
        {
         "name": "order_id",
         "rawType": "int64",
         "type": "integer"
        },
        {
         "name": "quantity",
         "rawType": "int64",
         "type": "integer"
        },
        {
         "name": "item_name",
         "rawType": "object",
         "type": "string"
        },
        {
         "name": "choice_description",
         "rawType": "object",
         "type": "string"
        },
        {
         "name": "item_price",
         "rawType": "float64",
         "type": "float"
        }
       ],
       "conversionMethod": "pd.DataFrame",
       "ref": "0dd8a28b-6e74-4617-875a-11fea3492fe2",
       "rows": [
        [
         "18",
         "9",
         "2",
         "Canned Soda",
         "[Sprite]",
         "2.18"
        ],
        [
         "51",
         "23",
         "2",
         "Canned Soda",
         "[Mountain Dew]",
         "2.18"
        ],
        [
         "162",
         "73",
         "2",
         "Canned Soda",
         "[Diet Coke]",
         "2.18"
        ],
        [
         "171",
         "76",
         "2",
         "Canned Soda",
         "[Diet Dr. Pepper]",
         "2.18"
        ],
        [
         "350",
         "150",
         "2",
         "Canned Soda",
         "[Diet Coke]",
         "2.18"
        ],
        [
         "352",
         "151",
         "2",
         "Canned Soda",
         "[Coca Cola]",
         "2.18"
        ],
        [
         "698",
         "287",
         "2",
         "Canned Soda",
         "[Coca Cola]",
         "2.18"
        ],
        [
         "700",
         "288",
         "2",
         "Canned Soda",
         "[Coca Cola]",
         "2.18"
        ],
        [
         "909",
         "376",
         "2",
         "Canned Soda",
         "[Mountain Dew]",
         "2.18"
        ],
        [
         "1091",
         "450",
         "2",
         "Canned Soda",
         "[Dr. Pepper]",
         "2.18"
        ],
        [
         "1092",
         "450",
         "2",
         "Canned Soda",
         "[Coca Cola]",
         "2.18"
        ],
        [
         "1944",
         "787",
         "2",
         "Canned Soda",
         "[Dr. Pepper]",
         "2.18"
        ],
        [
         "2135",
         "859",
         "2",
         "Canned Soda",
         "[Diet Coke]",
         "2.18"
        ],
        [
         "2235",
         "901",
         "4",
         "Canned Soda",
         "[Sprite]",
         "4.36"
        ],
        [
         "2905",
         "1156",
         "2",
         "Canned Soda",
         "[Coca Cola]",
         "2.18"
        ],
        [
         "2906",
         "1156",
         "2",
         "Canned Soda",
         "[Sprite]",
         "2.18"
        ],
        [
         "3152",
         "1258",
         "2",
         "Canned Soda",
         "[Dr. Pepper]",
         "2.18"
        ],
        [
         "3364",
         "1349",
         "2",
         "Canned Soda",
         "[Coca Cola]",
         "2.18"
        ],
        [
         "3592",
         "1440",
         "2",
         "Canned Soda",
         "[Diet Coke]",
         "2.18"
        ],
        [
         "3866",
         "1550",
         "2",
         "Canned Soda",
         "[Mountain Dew]",
         "2.18"
        ]
       ],
       "shape": {
        "columns": 5,
        "rows": 20
       }
      },
      "text/html": [
       "<div>\n",
       "<style scoped>\n",
       "    .dataframe tbody tr th:only-of-type {\n",
       "        vertical-align: middle;\n",
       "    }\n",
       "\n",
       "    .dataframe tbody tr th {\n",
       "        vertical-align: top;\n",
       "    }\n",
       "\n",
       "    .dataframe thead th {\n",
       "        text-align: right;\n",
       "    }\n",
       "</style>\n",
       "<table border=\"1\" class=\"dataframe\">\n",
       "  <thead>\n",
       "    <tr style=\"text-align: right;\">\n",
       "      <th></th>\n",
       "      <th>order_id</th>\n",
       "      <th>quantity</th>\n",
       "      <th>item_name</th>\n",
       "      <th>choice_description</th>\n",
       "      <th>item_price</th>\n",
       "    </tr>\n",
       "  </thead>\n",
       "  <tbody>\n",
       "    <tr>\n",
       "      <th>18</th>\n",
       "      <td>9</td>\n",
       "      <td>2</td>\n",
       "      <td>Canned Soda</td>\n",
       "      <td>[Sprite]</td>\n",
       "      <td>2.18</td>\n",
       "    </tr>\n",
       "    <tr>\n",
       "      <th>51</th>\n",
       "      <td>23</td>\n",
       "      <td>2</td>\n",
       "      <td>Canned Soda</td>\n",
       "      <td>[Mountain Dew]</td>\n",
       "      <td>2.18</td>\n",
       "    </tr>\n",
       "    <tr>\n",
       "      <th>162</th>\n",
       "      <td>73</td>\n",
       "      <td>2</td>\n",
       "      <td>Canned Soda</td>\n",
       "      <td>[Diet Coke]</td>\n",
       "      <td>2.18</td>\n",
       "    </tr>\n",
       "    <tr>\n",
       "      <th>171</th>\n",
       "      <td>76</td>\n",
       "      <td>2</td>\n",
       "      <td>Canned Soda</td>\n",
       "      <td>[Diet Dr. Pepper]</td>\n",
       "      <td>2.18</td>\n",
       "    </tr>\n",
       "    <tr>\n",
       "      <th>350</th>\n",
       "      <td>150</td>\n",
       "      <td>2</td>\n",
       "      <td>Canned Soda</td>\n",
       "      <td>[Diet Coke]</td>\n",
       "      <td>2.18</td>\n",
       "    </tr>\n",
       "    <tr>\n",
       "      <th>352</th>\n",
       "      <td>151</td>\n",
       "      <td>2</td>\n",
       "      <td>Canned Soda</td>\n",
       "      <td>[Coca Cola]</td>\n",
       "      <td>2.18</td>\n",
       "    </tr>\n",
       "    <tr>\n",
       "      <th>698</th>\n",
       "      <td>287</td>\n",
       "      <td>2</td>\n",
       "      <td>Canned Soda</td>\n",
       "      <td>[Coca Cola]</td>\n",
       "      <td>2.18</td>\n",
       "    </tr>\n",
       "    <tr>\n",
       "      <th>700</th>\n",
       "      <td>288</td>\n",
       "      <td>2</td>\n",
       "      <td>Canned Soda</td>\n",
       "      <td>[Coca Cola]</td>\n",
       "      <td>2.18</td>\n",
       "    </tr>\n",
       "    <tr>\n",
       "      <th>909</th>\n",
       "      <td>376</td>\n",
       "      <td>2</td>\n",
       "      <td>Canned Soda</td>\n",
       "      <td>[Mountain Dew]</td>\n",
       "      <td>2.18</td>\n",
       "    </tr>\n",
       "    <tr>\n",
       "      <th>1091</th>\n",
       "      <td>450</td>\n",
       "      <td>2</td>\n",
       "      <td>Canned Soda</td>\n",
       "      <td>[Dr. Pepper]</td>\n",
       "      <td>2.18</td>\n",
       "    </tr>\n",
       "    <tr>\n",
       "      <th>1092</th>\n",
       "      <td>450</td>\n",
       "      <td>2</td>\n",
       "      <td>Canned Soda</td>\n",
       "      <td>[Coca Cola]</td>\n",
       "      <td>2.18</td>\n",
       "    </tr>\n",
       "    <tr>\n",
       "      <th>1944</th>\n",
       "      <td>787</td>\n",
       "      <td>2</td>\n",
       "      <td>Canned Soda</td>\n",
       "      <td>[Dr. Pepper]</td>\n",
       "      <td>2.18</td>\n",
       "    </tr>\n",
       "    <tr>\n",
       "      <th>2135</th>\n",
       "      <td>859</td>\n",
       "      <td>2</td>\n",
       "      <td>Canned Soda</td>\n",
       "      <td>[Diet Coke]</td>\n",
       "      <td>2.18</td>\n",
       "    </tr>\n",
       "    <tr>\n",
       "      <th>2235</th>\n",
       "      <td>901</td>\n",
       "      <td>4</td>\n",
       "      <td>Canned Soda</td>\n",
       "      <td>[Sprite]</td>\n",
       "      <td>4.36</td>\n",
       "    </tr>\n",
       "    <tr>\n",
       "      <th>2905</th>\n",
       "      <td>1156</td>\n",
       "      <td>2</td>\n",
       "      <td>Canned Soda</td>\n",
       "      <td>[Coca Cola]</td>\n",
       "      <td>2.18</td>\n",
       "    </tr>\n",
       "    <tr>\n",
       "      <th>2906</th>\n",
       "      <td>1156</td>\n",
       "      <td>2</td>\n",
       "      <td>Canned Soda</td>\n",
       "      <td>[Sprite]</td>\n",
       "      <td>2.18</td>\n",
       "    </tr>\n",
       "    <tr>\n",
       "      <th>3152</th>\n",
       "      <td>1258</td>\n",
       "      <td>2</td>\n",
       "      <td>Canned Soda</td>\n",
       "      <td>[Dr. Pepper]</td>\n",
       "      <td>2.18</td>\n",
       "    </tr>\n",
       "    <tr>\n",
       "      <th>3364</th>\n",
       "      <td>1349</td>\n",
       "      <td>2</td>\n",
       "      <td>Canned Soda</td>\n",
       "      <td>[Coca Cola]</td>\n",
       "      <td>2.18</td>\n",
       "    </tr>\n",
       "    <tr>\n",
       "      <th>3592</th>\n",
       "      <td>1440</td>\n",
       "      <td>2</td>\n",
       "      <td>Canned Soda</td>\n",
       "      <td>[Diet Coke]</td>\n",
       "      <td>2.18</td>\n",
       "    </tr>\n",
       "    <tr>\n",
       "      <th>3866</th>\n",
       "      <td>1550</td>\n",
       "      <td>2</td>\n",
       "      <td>Canned Soda</td>\n",
       "      <td>[Mountain Dew]</td>\n",
       "      <td>2.18</td>\n",
       "    </tr>\n",
       "  </tbody>\n",
       "</table>\n",
       "</div>"
      ],
      "text/plain": [
       "      order_id  quantity    item_name choice_description  item_price\n",
       "18           9         2  Canned Soda           [Sprite]        2.18\n",
       "51          23         2  Canned Soda     [Mountain Dew]        2.18\n",
       "162         73         2  Canned Soda        [Diet Coke]        2.18\n",
       "171         76         2  Canned Soda  [Diet Dr. Pepper]        2.18\n",
       "350        150         2  Canned Soda        [Diet Coke]        2.18\n",
       "352        151         2  Canned Soda        [Coca Cola]        2.18\n",
       "698        287         2  Canned Soda        [Coca Cola]        2.18\n",
       "700        288         2  Canned Soda        [Coca Cola]        2.18\n",
       "909        376         2  Canned Soda     [Mountain Dew]        2.18\n",
       "1091       450         2  Canned Soda       [Dr. Pepper]        2.18\n",
       "1092       450         2  Canned Soda        [Coca Cola]        2.18\n",
       "1944       787         2  Canned Soda       [Dr. Pepper]        2.18\n",
       "2135       859         2  Canned Soda        [Diet Coke]        2.18\n",
       "2235       901         4  Canned Soda           [Sprite]        4.36\n",
       "2905      1156         2  Canned Soda        [Coca Cola]        2.18\n",
       "2906      1156         2  Canned Soda           [Sprite]        2.18\n",
       "3152      1258         2  Canned Soda       [Dr. Pepper]        2.18\n",
       "3364      1349         2  Canned Soda        [Coca Cola]        2.18\n",
       "3592      1440         2  Canned Soda        [Diet Coke]        2.18\n",
       "3866      1550         2  Canned Soda     [Mountain Dew]        2.18"
      ]
     },
     "execution_count": 67,
     "metadata": {},
     "output_type": "execute_result"
    }
   ],
   "source": [
    "chipo[(chipo[\"item_name\"]==\"Canned Soda\")&(chipo[\"quantity\"] > 1)] # Cone sta máscara buscamos todas las instancias donde se pidieron más de 1 Canned Soda"
   ]
  }
 ],
 "metadata": {
  "anaconda-cloud": {},
  "kernelspec": {
   "display_name": "Python 3",
   "language": "python",
   "name": "python3"
  },
  "language_info": {
   "codemirror_mode": {
    "name": "ipython",
    "version": 3
   },
   "file_extension": ".py",
   "mimetype": "text/x-python",
   "name": "python",
   "nbconvert_exporter": "python",
   "pygments_lexer": "ipython3",
   "version": "3.11.9"
  }
 },
 "nbformat": 4,
 "nbformat_minor": 4
}
