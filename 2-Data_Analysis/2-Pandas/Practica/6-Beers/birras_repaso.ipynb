{
 "cells": [
  {
   "attachments": {},
   "cell_type": "markdown",
   "metadata": {},
   "source": [
    "![imagen](https://cdn.foodbeast.com/content/wp-content/uploads/2012/03/beer-print-01-selectism.jpg)\n",
    "\n",
    "# Ejercicio pandas estadística\n",
    "Para este ejercicio se ha utilizado [un dataset de un concurso de kaggle](https://www.kaggle.com/nickhould/craft-cans), cuyo reto consiste en predecir el tipo de cerveza en función de sus características (nivel de alcohol, amargura, tamaño...).\n",
    "\n",
    "# Ejercicio 1\n",
    "Importa las librerias que consideres"
   ]
  },
  {
   "cell_type": "code",
   "execution_count": 2,
   "metadata": {},
   "outputs": [],
   "source": [
    "import numpy as np\n",
    "import pandas as pd\n",
    "import matplotlib.pyplot as plt\n",
    "import seaborn as sns"
   ]
  },
  {
   "attachments": {},
   "cell_type": "markdown",
   "metadata": {},
   "source": [
    "## Ejercicio 2\n",
    "1. Importa el dataset \"datasets_beer.csv\"\n",
    "2. Imprime por pantalla los primeros registros.\n",
    "3. ¿Cuáles son sus columnas?\n",
    "4. ¿Qué dimensiones tiene el DataFrame?"
   ]
  },
  {
   "cell_type": "code",
   "execution_count": 3,
   "metadata": {},
   "outputs": [
    {
     "data": {
      "application/vnd.microsoft.datawrangler.viewer.v0+json": {
       "columns": [
        {
         "name": "index",
         "rawType": "int64",
         "type": "integer"
        },
        {
         "name": "Unnamed: 0",
         "rawType": "int64",
         "type": "integer"
        },
        {
         "name": "abv",
         "rawType": "float64",
         "type": "float"
        },
        {
         "name": "ibu",
         "rawType": "float64",
         "type": "float"
        },
        {
         "name": "id",
         "rawType": "int64",
         "type": "integer"
        },
        {
         "name": "name",
         "rawType": "object",
         "type": "string"
        },
        {
         "name": "style",
         "rawType": "object",
         "type": "string"
        },
        {
         "name": "brewery_id",
         "rawType": "int64",
         "type": "integer"
        },
        {
         "name": "ounces",
         "rawType": "float64",
         "type": "float"
        }
       ],
       "conversionMethod": "pd.DataFrame",
       "ref": "1e20dbe0-5cd6-4c8e-aa9e-27d52519bb38",
       "rows": [
        [
         "0",
         "0",
         "0.05",
         null,
         "1436",
         "Pub Beer",
         "American Pale Lager",
         "408",
         "12.0"
        ],
        [
         "1",
         "1",
         "0.066",
         null,
         "2265",
         "Devil's Cup",
         "American Pale Ale (APA)",
         "177",
         "12.0"
        ],
        [
         "2",
         "2",
         "0.071",
         null,
         "2264",
         "Rise of the Phoenix",
         "American IPA",
         "177",
         "12.0"
        ],
        [
         "3",
         "3",
         "0.09",
         null,
         "2263",
         "Sinister",
         "American Double / Imperial IPA",
         "177",
         "12.0"
        ],
        [
         "4",
         "4",
         "0.075",
         null,
         "2262",
         "Sex and Candy",
         "American IPA",
         "177",
         "12.0"
        ]
       ],
       "shape": {
        "columns": 8,
        "rows": 5
       }
      },
      "text/html": [
       "<div>\n",
       "<style scoped>\n",
       "    .dataframe tbody tr th:only-of-type {\n",
       "        vertical-align: middle;\n",
       "    }\n",
       "\n",
       "    .dataframe tbody tr th {\n",
       "        vertical-align: top;\n",
       "    }\n",
       "\n",
       "    .dataframe thead th {\n",
       "        text-align: right;\n",
       "    }\n",
       "</style>\n",
       "<table border=\"1\" class=\"dataframe\">\n",
       "  <thead>\n",
       "    <tr style=\"text-align: right;\">\n",
       "      <th></th>\n",
       "      <th>Unnamed: 0</th>\n",
       "      <th>abv</th>\n",
       "      <th>ibu</th>\n",
       "      <th>id</th>\n",
       "      <th>name</th>\n",
       "      <th>style</th>\n",
       "      <th>brewery_id</th>\n",
       "      <th>ounces</th>\n",
       "    </tr>\n",
       "  </thead>\n",
       "  <tbody>\n",
       "    <tr>\n",
       "      <th>0</th>\n",
       "      <td>0</td>\n",
       "      <td>0.050</td>\n",
       "      <td>NaN</td>\n",
       "      <td>1436</td>\n",
       "      <td>Pub Beer</td>\n",
       "      <td>American Pale Lager</td>\n",
       "      <td>408</td>\n",
       "      <td>12.0</td>\n",
       "    </tr>\n",
       "    <tr>\n",
       "      <th>1</th>\n",
       "      <td>1</td>\n",
       "      <td>0.066</td>\n",
       "      <td>NaN</td>\n",
       "      <td>2265</td>\n",
       "      <td>Devil's Cup</td>\n",
       "      <td>American Pale Ale (APA)</td>\n",
       "      <td>177</td>\n",
       "      <td>12.0</td>\n",
       "    </tr>\n",
       "    <tr>\n",
       "      <th>2</th>\n",
       "      <td>2</td>\n",
       "      <td>0.071</td>\n",
       "      <td>NaN</td>\n",
       "      <td>2264</td>\n",
       "      <td>Rise of the Phoenix</td>\n",
       "      <td>American IPA</td>\n",
       "      <td>177</td>\n",
       "      <td>12.0</td>\n",
       "    </tr>\n",
       "    <tr>\n",
       "      <th>3</th>\n",
       "      <td>3</td>\n",
       "      <td>0.090</td>\n",
       "      <td>NaN</td>\n",
       "      <td>2263</td>\n",
       "      <td>Sinister</td>\n",
       "      <td>American Double / Imperial IPA</td>\n",
       "      <td>177</td>\n",
       "      <td>12.0</td>\n",
       "    </tr>\n",
       "    <tr>\n",
       "      <th>4</th>\n",
       "      <td>4</td>\n",
       "      <td>0.075</td>\n",
       "      <td>NaN</td>\n",
       "      <td>2262</td>\n",
       "      <td>Sex and Candy</td>\n",
       "      <td>American IPA</td>\n",
       "      <td>177</td>\n",
       "      <td>12.0</td>\n",
       "    </tr>\n",
       "  </tbody>\n",
       "</table>\n",
       "</div>"
      ],
      "text/plain": [
       "   Unnamed: 0    abv  ibu    id                 name  \\\n",
       "0           0  0.050  NaN  1436             Pub Beer   \n",
       "1           1  0.066  NaN  2265          Devil's Cup   \n",
       "2           2  0.071  NaN  2264  Rise of the Phoenix   \n",
       "3           3  0.090  NaN  2263             Sinister   \n",
       "4           4  0.075  NaN  2262        Sex and Candy   \n",
       "\n",
       "                            style  brewery_id  ounces  \n",
       "0             American Pale Lager         408    12.0  \n",
       "1         American Pale Ale (APA)         177    12.0  \n",
       "2                    American IPA         177    12.0  \n",
       "3  American Double / Imperial IPA         177    12.0  \n",
       "4                    American IPA         177    12.0  "
      ]
     },
     "execution_count": 3,
     "metadata": {},
     "output_type": "execute_result"
    }
   ],
   "source": [
    "birras = pd.read_csv(\"beers.csv\")\n",
    "birras.head()\n"
   ]
  },
  {
   "cell_type": "code",
   "execution_count": 4,
   "metadata": {},
   "outputs": [
    {
     "data": {
      "text/plain": [
       "Index(['Unnamed: 0', 'abv', 'ibu', 'id', 'name', 'style', 'brewery_id',\n",
       "       'ounces'],\n",
       "      dtype='object')"
      ]
     },
     "execution_count": 4,
     "metadata": {},
     "output_type": "execute_result"
    }
   ],
   "source": [
    "birras.columns"
   ]
  },
  {
   "cell_type": "code",
   "execution_count": 5,
   "metadata": {},
   "outputs": [
    {
     "data": {
      "text/plain": [
       "(2410, 8)"
      ]
     },
     "execution_count": 5,
     "metadata": {},
     "output_type": "execute_result"
    }
   ],
   "source": [
    "birras.shape"
   ]
  },
  {
   "attachments": {},
   "cell_type": "markdown",
   "metadata": {},
   "source": [
    "## Ejercicio 3\n",
    "[Elimina la columna \"Unnamed: 0\"](https://pandas.pydata.org/pandas-docs/stable/reference/api/pandas.DataFrame.drop.html)"
   ]
  },
  {
   "cell_type": "code",
   "execution_count": 6,
   "metadata": {},
   "outputs": [
    {
     "data": {
      "application/vnd.microsoft.datawrangler.viewer.v0+json": {
       "columns": [
        {
         "name": "index",
         "rawType": "int64",
         "type": "integer"
        },
        {
         "name": "abv",
         "rawType": "float64",
         "type": "float"
        },
        {
         "name": "ibu",
         "rawType": "float64",
         "type": "float"
        },
        {
         "name": "id",
         "rawType": "int64",
         "type": "integer"
        },
        {
         "name": "name",
         "rawType": "object",
         "type": "string"
        },
        {
         "name": "style",
         "rawType": "object",
         "type": "string"
        },
        {
         "name": "brewery_id",
         "rawType": "int64",
         "type": "integer"
        },
        {
         "name": "ounces",
         "rawType": "float64",
         "type": "float"
        }
       ],
       "conversionMethod": "pd.DataFrame",
       "ref": "20c109e8-a428-4022-bb14-44292165ca7a",
       "rows": [
        [
         "0",
         "0.05",
         null,
         "1436",
         "Pub Beer",
         "American Pale Lager",
         "408",
         "12.0"
        ],
        [
         "1",
         "0.066",
         null,
         "2265",
         "Devil's Cup",
         "American Pale Ale (APA)",
         "177",
         "12.0"
        ],
        [
         "2",
         "0.071",
         null,
         "2264",
         "Rise of the Phoenix",
         "American IPA",
         "177",
         "12.0"
        ],
        [
         "3",
         "0.09",
         null,
         "2263",
         "Sinister",
         "American Double / Imperial IPA",
         "177",
         "12.0"
        ],
        [
         "4",
         "0.075",
         null,
         "2262",
         "Sex and Candy",
         "American IPA",
         "177",
         "12.0"
        ]
       ],
       "shape": {
        "columns": 7,
        "rows": 5
       }
      },
      "text/html": [
       "<div>\n",
       "<style scoped>\n",
       "    .dataframe tbody tr th:only-of-type {\n",
       "        vertical-align: middle;\n",
       "    }\n",
       "\n",
       "    .dataframe tbody tr th {\n",
       "        vertical-align: top;\n",
       "    }\n",
       "\n",
       "    .dataframe thead th {\n",
       "        text-align: right;\n",
       "    }\n",
       "</style>\n",
       "<table border=\"1\" class=\"dataframe\">\n",
       "  <thead>\n",
       "    <tr style=\"text-align: right;\">\n",
       "      <th></th>\n",
       "      <th>abv</th>\n",
       "      <th>ibu</th>\n",
       "      <th>id</th>\n",
       "      <th>name</th>\n",
       "      <th>style</th>\n",
       "      <th>brewery_id</th>\n",
       "      <th>ounces</th>\n",
       "    </tr>\n",
       "  </thead>\n",
       "  <tbody>\n",
       "    <tr>\n",
       "      <th>0</th>\n",
       "      <td>0.050</td>\n",
       "      <td>NaN</td>\n",
       "      <td>1436</td>\n",
       "      <td>Pub Beer</td>\n",
       "      <td>American Pale Lager</td>\n",
       "      <td>408</td>\n",
       "      <td>12.0</td>\n",
       "    </tr>\n",
       "    <tr>\n",
       "      <th>1</th>\n",
       "      <td>0.066</td>\n",
       "      <td>NaN</td>\n",
       "      <td>2265</td>\n",
       "      <td>Devil's Cup</td>\n",
       "      <td>American Pale Ale (APA)</td>\n",
       "      <td>177</td>\n",
       "      <td>12.0</td>\n",
       "    </tr>\n",
       "    <tr>\n",
       "      <th>2</th>\n",
       "      <td>0.071</td>\n",
       "      <td>NaN</td>\n",
       "      <td>2264</td>\n",
       "      <td>Rise of the Phoenix</td>\n",
       "      <td>American IPA</td>\n",
       "      <td>177</td>\n",
       "      <td>12.0</td>\n",
       "    </tr>\n",
       "    <tr>\n",
       "      <th>3</th>\n",
       "      <td>0.090</td>\n",
       "      <td>NaN</td>\n",
       "      <td>2263</td>\n",
       "      <td>Sinister</td>\n",
       "      <td>American Double / Imperial IPA</td>\n",
       "      <td>177</td>\n",
       "      <td>12.0</td>\n",
       "    </tr>\n",
       "    <tr>\n",
       "      <th>4</th>\n",
       "      <td>0.075</td>\n",
       "      <td>NaN</td>\n",
       "      <td>2262</td>\n",
       "      <td>Sex and Candy</td>\n",
       "      <td>American IPA</td>\n",
       "      <td>177</td>\n",
       "      <td>12.0</td>\n",
       "    </tr>\n",
       "  </tbody>\n",
       "</table>\n",
       "</div>"
      ],
      "text/plain": [
       "     abv  ibu    id                 name                           style  \\\n",
       "0  0.050  NaN  1436             Pub Beer             American Pale Lager   \n",
       "1  0.066  NaN  2265          Devil's Cup         American Pale Ale (APA)   \n",
       "2  0.071  NaN  2264  Rise of the Phoenix                    American IPA   \n",
       "3  0.090  NaN  2263             Sinister  American Double / Imperial IPA   \n",
       "4  0.075  NaN  2262        Sex and Candy                    American IPA   \n",
       "\n",
       "   brewery_id  ounces  \n",
       "0         408    12.0  \n",
       "1         177    12.0  \n",
       "2         177    12.0  \n",
       "3         177    12.0  \n",
       "4         177    12.0  "
      ]
     },
     "execution_count": 6,
     "metadata": {},
     "output_type": "execute_result"
    }
   ],
   "source": [
    "birras.drop([\"Unnamed: 0\"], axis=\"columns\",inplace=True)\n",
    "birras.head()"
   ]
  },
  {
   "attachments": {},
   "cell_type": "markdown",
   "metadata": {},
   "source": [
    "## Ejercicio 4\n",
    "¿Cuántas filas y columnas tiene el dataset?"
   ]
  },
  {
   "cell_type": "code",
   "execution_count": 7,
   "metadata": {},
   "outputs": [
    {
     "data": {
      "text/plain": [
       "(2410, 7)"
      ]
     },
     "execution_count": 7,
     "metadata": {},
     "output_type": "execute_result"
    }
   ],
   "source": [
    "birras.shape"
   ]
  },
  {
   "attachments": {},
   "cell_type": "markdown",
   "metadata": {},
   "source": [
    "## Ejercicio 5\n",
    "¿De qué tipo son los datos?"
   ]
  },
  {
   "cell_type": "code",
   "execution_count": 8,
   "metadata": {},
   "outputs": [
    {
     "name": "stdout",
     "output_type": "stream",
     "text": [
      "<class 'pandas.core.frame.DataFrame'>\n",
      "RangeIndex: 2410 entries, 0 to 2409\n",
      "Data columns (total 7 columns):\n",
      " #   Column      Non-Null Count  Dtype  \n",
      "---  ------      --------------  -----  \n",
      " 0   abv         2348 non-null   float64\n",
      " 1   ibu         1405 non-null   float64\n",
      " 2   id          2410 non-null   int64  \n",
      " 3   name        2410 non-null   object \n",
      " 4   style       2405 non-null   object \n",
      " 5   brewery_id  2410 non-null   int64  \n",
      " 6   ounces      2410 non-null   float64\n",
      "dtypes: float64(3), int64(2), object(2)\n",
      "memory usage: 131.9+ KB\n"
     ]
    }
   ],
   "source": [
    "birras.info()"
   ]
  },
  {
   "attachments": {},
   "cell_type": "markdown",
   "metadata": {},
   "source": [
    "## Ejercicio 6\n",
    "Obtén en un nuevo DataFrame un resumen con las principales estadísticas de las columnas numéricas: mean, max, count, cuartiles..."
   ]
  },
  {
   "cell_type": "code",
   "execution_count": 9,
   "metadata": {},
   "outputs": [
    {
     "data": {
      "application/vnd.microsoft.datawrangler.viewer.v0+json": {
       "columns": [
        {
         "name": "index",
         "rawType": "object",
         "type": "string"
        },
        {
         "name": "abv",
         "rawType": "float64",
         "type": "float"
        },
        {
         "name": "ibu",
         "rawType": "float64",
         "type": "float"
        },
        {
         "name": "id",
         "rawType": "float64",
         "type": "float"
        },
        {
         "name": "brewery_id",
         "rawType": "float64",
         "type": "float"
        },
        {
         "name": "ounces",
         "rawType": "float64",
         "type": "float"
        }
       ],
       "conversionMethod": "pd.DataFrame",
       "ref": "2cad8042-e467-4690-bc41-bd600433e794",
       "rows": [
        [
         "count",
         "2348.0",
         "1405.0",
         "2410.0",
         "2410.0",
         "2410.0"
        ],
        [
         "mean",
         "0.05977342419080067",
         "42.71316725978647",
         "1431.1132780082987",
         "231.74979253112033",
         "13.592240663900414"
        ],
        [
         "std",
         "0.013541733716680264",
         "25.954065911259317",
         "752.4599745599074",
         "157.68560410041619",
         "2.3522036778603734"
        ],
        [
         "min",
         "0.001",
         "4.0",
         "1.0",
         "0.0",
         "8.4"
        ],
        [
         "25%",
         "0.05",
         "21.0",
         "808.25",
         "93.0",
         "12.0"
        ],
        [
         "50%",
         "0.0559999999999999",
         "35.0",
         "1453.5",
         "205.0",
         "12.0"
        ],
        [
         "75%",
         "0.067",
         "64.0",
         "2075.75",
         "366.0",
         "16.0"
        ],
        [
         "max",
         "0.128",
         "138.0",
         "2692.0",
         "557.0",
         "32.0"
        ]
       ],
       "shape": {
        "columns": 5,
        "rows": 8
       }
      },
      "text/html": [
       "<div>\n",
       "<style scoped>\n",
       "    .dataframe tbody tr th:only-of-type {\n",
       "        vertical-align: middle;\n",
       "    }\n",
       "\n",
       "    .dataframe tbody tr th {\n",
       "        vertical-align: top;\n",
       "    }\n",
       "\n",
       "    .dataframe thead th {\n",
       "        text-align: right;\n",
       "    }\n",
       "</style>\n",
       "<table border=\"1\" class=\"dataframe\">\n",
       "  <thead>\n",
       "    <tr style=\"text-align: right;\">\n",
       "      <th></th>\n",
       "      <th>abv</th>\n",
       "      <th>ibu</th>\n",
       "      <th>id</th>\n",
       "      <th>brewery_id</th>\n",
       "      <th>ounces</th>\n",
       "    </tr>\n",
       "  </thead>\n",
       "  <tbody>\n",
       "    <tr>\n",
       "      <th>count</th>\n",
       "      <td>2348.000000</td>\n",
       "      <td>1405.000000</td>\n",
       "      <td>2410.000000</td>\n",
       "      <td>2410.000000</td>\n",
       "      <td>2410.000000</td>\n",
       "    </tr>\n",
       "    <tr>\n",
       "      <th>mean</th>\n",
       "      <td>0.059773</td>\n",
       "      <td>42.713167</td>\n",
       "      <td>1431.113278</td>\n",
       "      <td>231.749793</td>\n",
       "      <td>13.592241</td>\n",
       "    </tr>\n",
       "    <tr>\n",
       "      <th>std</th>\n",
       "      <td>0.013542</td>\n",
       "      <td>25.954066</td>\n",
       "      <td>752.459975</td>\n",
       "      <td>157.685604</td>\n",
       "      <td>2.352204</td>\n",
       "    </tr>\n",
       "    <tr>\n",
       "      <th>min</th>\n",
       "      <td>0.001000</td>\n",
       "      <td>4.000000</td>\n",
       "      <td>1.000000</td>\n",
       "      <td>0.000000</td>\n",
       "      <td>8.400000</td>\n",
       "    </tr>\n",
       "    <tr>\n",
       "      <th>25%</th>\n",
       "      <td>0.050000</td>\n",
       "      <td>21.000000</td>\n",
       "      <td>808.250000</td>\n",
       "      <td>93.000000</td>\n",
       "      <td>12.000000</td>\n",
       "    </tr>\n",
       "    <tr>\n",
       "      <th>50%</th>\n",
       "      <td>0.056000</td>\n",
       "      <td>35.000000</td>\n",
       "      <td>1453.500000</td>\n",
       "      <td>205.000000</td>\n",
       "      <td>12.000000</td>\n",
       "    </tr>\n",
       "    <tr>\n",
       "      <th>75%</th>\n",
       "      <td>0.067000</td>\n",
       "      <td>64.000000</td>\n",
       "      <td>2075.750000</td>\n",
       "      <td>366.000000</td>\n",
       "      <td>16.000000</td>\n",
       "    </tr>\n",
       "    <tr>\n",
       "      <th>max</th>\n",
       "      <td>0.128000</td>\n",
       "      <td>138.000000</td>\n",
       "      <td>2692.000000</td>\n",
       "      <td>557.000000</td>\n",
       "      <td>32.000000</td>\n",
       "    </tr>\n",
       "  </tbody>\n",
       "</table>\n",
       "</div>"
      ],
      "text/plain": [
       "               abv          ibu           id   brewery_id       ounces\n",
       "count  2348.000000  1405.000000  2410.000000  2410.000000  2410.000000\n",
       "mean      0.059773    42.713167  1431.113278   231.749793    13.592241\n",
       "std       0.013542    25.954066   752.459975   157.685604     2.352204\n",
       "min       0.001000     4.000000     1.000000     0.000000     8.400000\n",
       "25%       0.050000    21.000000   808.250000    93.000000    12.000000\n",
       "50%       0.056000    35.000000  1453.500000   205.000000    12.000000\n",
       "75%       0.067000    64.000000  2075.750000   366.000000    16.000000\n",
       "max       0.128000   138.000000  2692.000000   557.000000    32.000000"
      ]
     },
     "execution_count": 9,
     "metadata": {},
     "output_type": "execute_result"
    }
   ],
   "source": [
    "birras.describe()"
   ]
  },
  {
   "attachments": {},
   "cell_type": "markdown",
   "metadata": {},
   "source": [
    "## Ejercicio 7\n",
    "¿Cuántas birras hay de cada estilo en este dataset? [Investiga en la documentación de Series](https://pandas.pydata.org/pandas-docs/stable/reference/api/pandas.Series.html) si puedes hacer un conteo de valores."
   ]
  },
  {
   "cell_type": "code",
   "execution_count": null,
   "metadata": {},
   "outputs": [
    {
     "data": {
      "text/plain": [
       "style\n",
       "Abbey Single Ale                2\n",
       "Altbier                        13\n",
       "American Adjunct Lager         18\n",
       "American Amber / Red Ale      133\n",
       "American Amber / Red Lager     29\n",
       "                             ... \n",
       "Tripel                         11\n",
       "Vienna Lager                   20\n",
       "Wheat Ale                       1\n",
       "Winter Warmer                  15\n",
       "Witbier                        51\n",
       "Name: count, Length: 99, dtype: int64"
      ]
     },
     "execution_count": 10,
     "metadata": {},
     "output_type": "execute_result"
    }
   ],
   "source": [
    "birras.groupby(\"style\")[\"style\"].value_counts() # Con groupby ordenamos cúantas cervezas hay por cada estilo y valur_counts nos da el número total de cervezas"
   ]
  },
  {
   "attachments": {},
   "cell_type": "markdown",
   "metadata": {},
   "source": [
    "## Ejercicio 8\n",
    "1. Imprime por pantalla los registros desde el décimo hasta el vigésimo\n",
    "2. De esos registros, imprime por pantalla desde la columna `name` a `ounces`, ambas incluidas\n",
    "3. Quédate con las columnas `abv`, `ibu` y `ounces`, y además quédate sólo con los registros 10 al 20.\n",
    "4. Convierte el resultado del apartado 3 en un array de `numpy`"
   ]
  },
  {
   "cell_type": "code",
   "execution_count": 11,
   "metadata": {},
   "outputs": [
    {
     "data": {
      "application/vnd.microsoft.datawrangler.viewer.v0+json": {
       "columns": [
        {
         "name": "index",
         "rawType": "int64",
         "type": "integer"
        },
        {
         "name": "abv",
         "rawType": "float64",
         "type": "float"
        },
        {
         "name": "ibu",
         "rawType": "float64",
         "type": "float"
        },
        {
         "name": "id",
         "rawType": "int64",
         "type": "integer"
        },
        {
         "name": "name",
         "rawType": "object",
         "type": "string"
        },
        {
         "name": "style",
         "rawType": "object",
         "type": "string"
        },
        {
         "name": "brewery_id",
         "rawType": "int64",
         "type": "integer"
        },
        {
         "name": "ounces",
         "rawType": "float64",
         "type": "float"
        }
       ],
       "conversionMethod": "pd.DataFrame",
       "ref": "487ddc55-3cd9-4831-826a-d8a64146b58a",
       "rows": [
        [
         "10",
         "0.072",
         null,
         "2099",
         "Sophomoric Saison",
         "Saison / Farmhouse Ale",
         "177",
         "12.0"
        ],
        [
         "11",
         "0.073",
         null,
         "2098",
         "Regional Ring Of Fire",
         "Saison / Farmhouse Ale",
         "177",
         "12.0"
        ],
        [
         "12",
         "0.069",
         null,
         "2097",
         "Garce Selé",
         "Saison / Farmhouse Ale",
         "177",
         "12.0"
        ],
        [
         "13",
         "0.085",
         null,
         "1980",
         "Troll Destroyer",
         "Belgian IPA",
         "177",
         "12.0"
        ],
        [
         "14",
         "0.061",
         "60.0",
         "1979",
         "Bitter Bitch",
         "American Pale Ale (APA)",
         "177",
         "12.0"
        ],
        [
         "15",
         "0.06",
         null,
         "2318",
         "Ginja Ninja",
         "Cider",
         "154",
         "12.0"
        ],
        [
         "16",
         "0.06",
         null,
         "2170",
         "Cherried Away",
         "Cider",
         "154",
         "12.0"
        ],
        [
         "17",
         "0.06",
         null,
         "2169",
         "Rhubarbarian",
         "Cider",
         "154",
         "12.0"
        ],
        [
         "18",
         "0.06",
         null,
         "1502",
         "BrightCider",
         "Cider",
         "154",
         "12.0"
        ],
        [
         "19",
         "0.0819999999999999",
         null,
         "1593",
         "He Said Baltic-Style Porter",
         "Baltic Porter",
         "368",
         "12.0"
        ],
        [
         "20",
         "0.0819999999999999",
         null,
         "1592",
         "He Said Belgian-Style Tripel",
         "Tripel",
         "368",
         "12.0"
        ]
       ],
       "shape": {
        "columns": 7,
        "rows": 11
       }
      },
      "text/html": [
       "<div>\n",
       "<style scoped>\n",
       "    .dataframe tbody tr th:only-of-type {\n",
       "        vertical-align: middle;\n",
       "    }\n",
       "\n",
       "    .dataframe tbody tr th {\n",
       "        vertical-align: top;\n",
       "    }\n",
       "\n",
       "    .dataframe thead th {\n",
       "        text-align: right;\n",
       "    }\n",
       "</style>\n",
       "<table border=\"1\" class=\"dataframe\">\n",
       "  <thead>\n",
       "    <tr style=\"text-align: right;\">\n",
       "      <th></th>\n",
       "      <th>abv</th>\n",
       "      <th>ibu</th>\n",
       "      <th>id</th>\n",
       "      <th>name</th>\n",
       "      <th>style</th>\n",
       "      <th>brewery_id</th>\n",
       "      <th>ounces</th>\n",
       "    </tr>\n",
       "  </thead>\n",
       "  <tbody>\n",
       "    <tr>\n",
       "      <th>10</th>\n",
       "      <td>0.072</td>\n",
       "      <td>NaN</td>\n",
       "      <td>2099</td>\n",
       "      <td>Sophomoric Saison</td>\n",
       "      <td>Saison / Farmhouse Ale</td>\n",
       "      <td>177</td>\n",
       "      <td>12.0</td>\n",
       "    </tr>\n",
       "    <tr>\n",
       "      <th>11</th>\n",
       "      <td>0.073</td>\n",
       "      <td>NaN</td>\n",
       "      <td>2098</td>\n",
       "      <td>Regional Ring Of Fire</td>\n",
       "      <td>Saison / Farmhouse Ale</td>\n",
       "      <td>177</td>\n",
       "      <td>12.0</td>\n",
       "    </tr>\n",
       "    <tr>\n",
       "      <th>12</th>\n",
       "      <td>0.069</td>\n",
       "      <td>NaN</td>\n",
       "      <td>2097</td>\n",
       "      <td>Garce Selé</td>\n",
       "      <td>Saison / Farmhouse Ale</td>\n",
       "      <td>177</td>\n",
       "      <td>12.0</td>\n",
       "    </tr>\n",
       "    <tr>\n",
       "      <th>13</th>\n",
       "      <td>0.085</td>\n",
       "      <td>NaN</td>\n",
       "      <td>1980</td>\n",
       "      <td>Troll Destroyer</td>\n",
       "      <td>Belgian IPA</td>\n",
       "      <td>177</td>\n",
       "      <td>12.0</td>\n",
       "    </tr>\n",
       "    <tr>\n",
       "      <th>14</th>\n",
       "      <td>0.061</td>\n",
       "      <td>60.0</td>\n",
       "      <td>1979</td>\n",
       "      <td>Bitter Bitch</td>\n",
       "      <td>American Pale Ale (APA)</td>\n",
       "      <td>177</td>\n",
       "      <td>12.0</td>\n",
       "    </tr>\n",
       "    <tr>\n",
       "      <th>15</th>\n",
       "      <td>0.060</td>\n",
       "      <td>NaN</td>\n",
       "      <td>2318</td>\n",
       "      <td>Ginja Ninja</td>\n",
       "      <td>Cider</td>\n",
       "      <td>154</td>\n",
       "      <td>12.0</td>\n",
       "    </tr>\n",
       "    <tr>\n",
       "      <th>16</th>\n",
       "      <td>0.060</td>\n",
       "      <td>NaN</td>\n",
       "      <td>2170</td>\n",
       "      <td>Cherried Away</td>\n",
       "      <td>Cider</td>\n",
       "      <td>154</td>\n",
       "      <td>12.0</td>\n",
       "    </tr>\n",
       "    <tr>\n",
       "      <th>17</th>\n",
       "      <td>0.060</td>\n",
       "      <td>NaN</td>\n",
       "      <td>2169</td>\n",
       "      <td>Rhubarbarian</td>\n",
       "      <td>Cider</td>\n",
       "      <td>154</td>\n",
       "      <td>12.0</td>\n",
       "    </tr>\n",
       "    <tr>\n",
       "      <th>18</th>\n",
       "      <td>0.060</td>\n",
       "      <td>NaN</td>\n",
       "      <td>1502</td>\n",
       "      <td>BrightCider</td>\n",
       "      <td>Cider</td>\n",
       "      <td>154</td>\n",
       "      <td>12.0</td>\n",
       "    </tr>\n",
       "    <tr>\n",
       "      <th>19</th>\n",
       "      <td>0.082</td>\n",
       "      <td>NaN</td>\n",
       "      <td>1593</td>\n",
       "      <td>He Said Baltic-Style Porter</td>\n",
       "      <td>Baltic Porter</td>\n",
       "      <td>368</td>\n",
       "      <td>12.0</td>\n",
       "    </tr>\n",
       "    <tr>\n",
       "      <th>20</th>\n",
       "      <td>0.082</td>\n",
       "      <td>NaN</td>\n",
       "      <td>1592</td>\n",
       "      <td>He Said Belgian-Style Tripel</td>\n",
       "      <td>Tripel</td>\n",
       "      <td>368</td>\n",
       "      <td>12.0</td>\n",
       "    </tr>\n",
       "  </tbody>\n",
       "</table>\n",
       "</div>"
      ],
      "text/plain": [
       "      abv   ibu    id                          name                    style  \\\n",
       "10  0.072   NaN  2099             Sophomoric Saison   Saison / Farmhouse Ale   \n",
       "11  0.073   NaN  2098         Regional Ring Of Fire   Saison / Farmhouse Ale   \n",
       "12  0.069   NaN  2097                    Garce Selé   Saison / Farmhouse Ale   \n",
       "13  0.085   NaN  1980               Troll Destroyer              Belgian IPA   \n",
       "14  0.061  60.0  1979                  Bitter Bitch  American Pale Ale (APA)   \n",
       "15  0.060   NaN  2318                   Ginja Ninja                    Cider   \n",
       "16  0.060   NaN  2170                 Cherried Away                    Cider   \n",
       "17  0.060   NaN  2169                  Rhubarbarian                    Cider   \n",
       "18  0.060   NaN  1502                   BrightCider                    Cider   \n",
       "19  0.082   NaN  1593   He Said Baltic-Style Porter            Baltic Porter   \n",
       "20  0.082   NaN  1592  He Said Belgian-Style Tripel                   Tripel   \n",
       "\n",
       "    brewery_id  ounces  \n",
       "10         177    12.0  \n",
       "11         177    12.0  \n",
       "12         177    12.0  \n",
       "13         177    12.0  \n",
       "14         177    12.0  \n",
       "15         154    12.0  \n",
       "16         154    12.0  \n",
       "17         154    12.0  \n",
       "18         154    12.0  \n",
       "19         368    12.0  \n",
       "20         368    12.0  "
      ]
     },
     "execution_count": 11,
     "metadata": {},
     "output_type": "execute_result"
    }
   ],
   "source": [
    "del10_al_20 = birras.iloc[10:21]\n",
    "del10_al_20"
   ]
  },
  {
   "cell_type": "code",
   "execution_count": 12,
   "metadata": {},
   "outputs": [
    {
     "data": {
      "application/vnd.microsoft.datawrangler.viewer.v0+json": {
       "columns": [
        {
         "name": "index",
         "rawType": "int64",
         "type": "integer"
        },
        {
         "name": "name",
         "rawType": "object",
         "type": "string"
        },
        {
         "name": "style",
         "rawType": "object",
         "type": "string"
        },
        {
         "name": "brewery_id",
         "rawType": "int64",
         "type": "integer"
        },
        {
         "name": "ounces",
         "rawType": "float64",
         "type": "float"
        }
       ],
       "conversionMethod": "pd.DataFrame",
       "ref": "dc5d7ec1-5dd0-4c07-92ae-630b0b401969",
       "rows": [
        [
         "10",
         "Sophomoric Saison",
         "Saison / Farmhouse Ale",
         "177",
         "12.0"
        ],
        [
         "11",
         "Regional Ring Of Fire",
         "Saison / Farmhouse Ale",
         "177",
         "12.0"
        ],
        [
         "12",
         "Garce Selé",
         "Saison / Farmhouse Ale",
         "177",
         "12.0"
        ],
        [
         "13",
         "Troll Destroyer",
         "Belgian IPA",
         "177",
         "12.0"
        ],
        [
         "14",
         "Bitter Bitch",
         "American Pale Ale (APA)",
         "177",
         "12.0"
        ],
        [
         "15",
         "Ginja Ninja",
         "Cider",
         "154",
         "12.0"
        ],
        [
         "16",
         "Cherried Away",
         "Cider",
         "154",
         "12.0"
        ],
        [
         "17",
         "Rhubarbarian",
         "Cider",
         "154",
         "12.0"
        ],
        [
         "18",
         "BrightCider",
         "Cider",
         "154",
         "12.0"
        ],
        [
         "19",
         "He Said Baltic-Style Porter",
         "Baltic Porter",
         "368",
         "12.0"
        ],
        [
         "20",
         "He Said Belgian-Style Tripel",
         "Tripel",
         "368",
         "12.0"
        ]
       ],
       "shape": {
        "columns": 4,
        "rows": 11
       }
      },
      "text/html": [
       "<div>\n",
       "<style scoped>\n",
       "    .dataframe tbody tr th:only-of-type {\n",
       "        vertical-align: middle;\n",
       "    }\n",
       "\n",
       "    .dataframe tbody tr th {\n",
       "        vertical-align: top;\n",
       "    }\n",
       "\n",
       "    .dataframe thead th {\n",
       "        text-align: right;\n",
       "    }\n",
       "</style>\n",
       "<table border=\"1\" class=\"dataframe\">\n",
       "  <thead>\n",
       "    <tr style=\"text-align: right;\">\n",
       "      <th></th>\n",
       "      <th>name</th>\n",
       "      <th>style</th>\n",
       "      <th>brewery_id</th>\n",
       "      <th>ounces</th>\n",
       "    </tr>\n",
       "  </thead>\n",
       "  <tbody>\n",
       "    <tr>\n",
       "      <th>10</th>\n",
       "      <td>Sophomoric Saison</td>\n",
       "      <td>Saison / Farmhouse Ale</td>\n",
       "      <td>177</td>\n",
       "      <td>12.0</td>\n",
       "    </tr>\n",
       "    <tr>\n",
       "      <th>11</th>\n",
       "      <td>Regional Ring Of Fire</td>\n",
       "      <td>Saison / Farmhouse Ale</td>\n",
       "      <td>177</td>\n",
       "      <td>12.0</td>\n",
       "    </tr>\n",
       "    <tr>\n",
       "      <th>12</th>\n",
       "      <td>Garce Selé</td>\n",
       "      <td>Saison / Farmhouse Ale</td>\n",
       "      <td>177</td>\n",
       "      <td>12.0</td>\n",
       "    </tr>\n",
       "    <tr>\n",
       "      <th>13</th>\n",
       "      <td>Troll Destroyer</td>\n",
       "      <td>Belgian IPA</td>\n",
       "      <td>177</td>\n",
       "      <td>12.0</td>\n",
       "    </tr>\n",
       "    <tr>\n",
       "      <th>14</th>\n",
       "      <td>Bitter Bitch</td>\n",
       "      <td>American Pale Ale (APA)</td>\n",
       "      <td>177</td>\n",
       "      <td>12.0</td>\n",
       "    </tr>\n",
       "    <tr>\n",
       "      <th>15</th>\n",
       "      <td>Ginja Ninja</td>\n",
       "      <td>Cider</td>\n",
       "      <td>154</td>\n",
       "      <td>12.0</td>\n",
       "    </tr>\n",
       "    <tr>\n",
       "      <th>16</th>\n",
       "      <td>Cherried Away</td>\n",
       "      <td>Cider</td>\n",
       "      <td>154</td>\n",
       "      <td>12.0</td>\n",
       "    </tr>\n",
       "    <tr>\n",
       "      <th>17</th>\n",
       "      <td>Rhubarbarian</td>\n",
       "      <td>Cider</td>\n",
       "      <td>154</td>\n",
       "      <td>12.0</td>\n",
       "    </tr>\n",
       "    <tr>\n",
       "      <th>18</th>\n",
       "      <td>BrightCider</td>\n",
       "      <td>Cider</td>\n",
       "      <td>154</td>\n",
       "      <td>12.0</td>\n",
       "    </tr>\n",
       "    <tr>\n",
       "      <th>19</th>\n",
       "      <td>He Said Baltic-Style Porter</td>\n",
       "      <td>Baltic Porter</td>\n",
       "      <td>368</td>\n",
       "      <td>12.0</td>\n",
       "    </tr>\n",
       "    <tr>\n",
       "      <th>20</th>\n",
       "      <td>He Said Belgian-Style Tripel</td>\n",
       "      <td>Tripel</td>\n",
       "      <td>368</td>\n",
       "      <td>12.0</td>\n",
       "    </tr>\n",
       "  </tbody>\n",
       "</table>\n",
       "</div>"
      ],
      "text/plain": [
       "                            name                    style  brewery_id  ounces\n",
       "10             Sophomoric Saison   Saison / Farmhouse Ale         177    12.0\n",
       "11         Regional Ring Of Fire   Saison / Farmhouse Ale         177    12.0\n",
       "12                    Garce Selé   Saison / Farmhouse Ale         177    12.0\n",
       "13               Troll Destroyer              Belgian IPA         177    12.0\n",
       "14                  Bitter Bitch  American Pale Ale (APA)         177    12.0\n",
       "15                   Ginja Ninja                    Cider         154    12.0\n",
       "16                 Cherried Away                    Cider         154    12.0\n",
       "17                  Rhubarbarian                    Cider         154    12.0\n",
       "18                   BrightCider                    Cider         154    12.0\n",
       "19   He Said Baltic-Style Porter            Baltic Porter         368    12.0\n",
       "20  He Said Belgian-Style Tripel                   Tripel         368    12.0"
      ]
     },
     "execution_count": 12,
     "metadata": {},
     "output_type": "execute_result"
    }
   ],
   "source": [
    "del10_al_20.loc[:, \"name\":\"ounces\"]"
   ]
  },
  {
   "cell_type": "code",
   "execution_count": 13,
   "metadata": {},
   "outputs": [
    {
     "data": {
      "application/vnd.microsoft.datawrangler.viewer.v0+json": {
       "columns": [
        {
         "name": "index",
         "rawType": "int64",
         "type": "integer"
        },
        {
         "name": "abv",
         "rawType": "float64",
         "type": "float"
        },
        {
         "name": "ibu",
         "rawType": "float64",
         "type": "float"
        },
        {
         "name": "ounces",
         "rawType": "float64",
         "type": "float"
        }
       ],
       "conversionMethod": "pd.DataFrame",
       "ref": "5fb8c6ef-857d-4817-a774-29c4bd7c7ed8",
       "rows": [
        [
         "10",
         "0.072",
         null,
         "12.0"
        ],
        [
         "11",
         "0.073",
         null,
         "12.0"
        ],
        [
         "12",
         "0.069",
         null,
         "12.0"
        ],
        [
         "13",
         "0.085",
         null,
         "12.0"
        ],
        [
         "14",
         "0.061",
         "60.0",
         "12.0"
        ],
        [
         "15",
         "0.06",
         null,
         "12.0"
        ],
        [
         "16",
         "0.06",
         null,
         "12.0"
        ],
        [
         "17",
         "0.06",
         null,
         "12.0"
        ],
        [
         "18",
         "0.06",
         null,
         "12.0"
        ],
        [
         "19",
         "0.0819999999999999",
         null,
         "12.0"
        ],
        [
         "20",
         "0.0819999999999999",
         null,
         "12.0"
        ]
       ],
       "shape": {
        "columns": 3,
        "rows": 11
       }
      },
      "text/html": [
       "<div>\n",
       "<style scoped>\n",
       "    .dataframe tbody tr th:only-of-type {\n",
       "        vertical-align: middle;\n",
       "    }\n",
       "\n",
       "    .dataframe tbody tr th {\n",
       "        vertical-align: top;\n",
       "    }\n",
       "\n",
       "    .dataframe thead th {\n",
       "        text-align: right;\n",
       "    }\n",
       "</style>\n",
       "<table border=\"1\" class=\"dataframe\">\n",
       "  <thead>\n",
       "    <tr style=\"text-align: right;\">\n",
       "      <th></th>\n",
       "      <th>abv</th>\n",
       "      <th>ibu</th>\n",
       "      <th>ounces</th>\n",
       "    </tr>\n",
       "  </thead>\n",
       "  <tbody>\n",
       "    <tr>\n",
       "      <th>10</th>\n",
       "      <td>0.072</td>\n",
       "      <td>NaN</td>\n",
       "      <td>12.0</td>\n",
       "    </tr>\n",
       "    <tr>\n",
       "      <th>11</th>\n",
       "      <td>0.073</td>\n",
       "      <td>NaN</td>\n",
       "      <td>12.0</td>\n",
       "    </tr>\n",
       "    <tr>\n",
       "      <th>12</th>\n",
       "      <td>0.069</td>\n",
       "      <td>NaN</td>\n",
       "      <td>12.0</td>\n",
       "    </tr>\n",
       "    <tr>\n",
       "      <th>13</th>\n",
       "      <td>0.085</td>\n",
       "      <td>NaN</td>\n",
       "      <td>12.0</td>\n",
       "    </tr>\n",
       "    <tr>\n",
       "      <th>14</th>\n",
       "      <td>0.061</td>\n",
       "      <td>60.0</td>\n",
       "      <td>12.0</td>\n",
       "    </tr>\n",
       "    <tr>\n",
       "      <th>15</th>\n",
       "      <td>0.060</td>\n",
       "      <td>NaN</td>\n",
       "      <td>12.0</td>\n",
       "    </tr>\n",
       "    <tr>\n",
       "      <th>16</th>\n",
       "      <td>0.060</td>\n",
       "      <td>NaN</td>\n",
       "      <td>12.0</td>\n",
       "    </tr>\n",
       "    <tr>\n",
       "      <th>17</th>\n",
       "      <td>0.060</td>\n",
       "      <td>NaN</td>\n",
       "      <td>12.0</td>\n",
       "    </tr>\n",
       "    <tr>\n",
       "      <th>18</th>\n",
       "      <td>0.060</td>\n",
       "      <td>NaN</td>\n",
       "      <td>12.0</td>\n",
       "    </tr>\n",
       "    <tr>\n",
       "      <th>19</th>\n",
       "      <td>0.082</td>\n",
       "      <td>NaN</td>\n",
       "      <td>12.0</td>\n",
       "    </tr>\n",
       "    <tr>\n",
       "      <th>20</th>\n",
       "      <td>0.082</td>\n",
       "      <td>NaN</td>\n",
       "      <td>12.0</td>\n",
       "    </tr>\n",
       "  </tbody>\n",
       "</table>\n",
       "</div>"
      ],
      "text/plain": [
       "      abv   ibu  ounces\n",
       "10  0.072   NaN    12.0\n",
       "11  0.073   NaN    12.0\n",
       "12  0.069   NaN    12.0\n",
       "13  0.085   NaN    12.0\n",
       "14  0.061  60.0    12.0\n",
       "15  0.060   NaN    12.0\n",
       "16  0.060   NaN    12.0\n",
       "17  0.060   NaN    12.0\n",
       "18  0.060   NaN    12.0\n",
       "19  0.082   NaN    12.0\n",
       "20  0.082   NaN    12.0"
      ]
     },
     "execution_count": 13,
     "metadata": {},
     "output_type": "execute_result"
    }
   ],
   "source": [
    "ejer_3 = del10_al_20[[\"abv\",\"ibu\",\"ounces\"]]\n",
    "ejer_3"
   ]
  },
  {
   "cell_type": "code",
   "execution_count": null,
   "metadata": {},
   "outputs": [
    {
     "data": {
      "text/plain": [
       "array([[ 0.072,    nan, 12.   ],\n",
       "       [ 0.073,    nan, 12.   ],\n",
       "       [ 0.069,    nan, 12.   ],\n",
       "       [ 0.085,    nan, 12.   ],\n",
       "       [ 0.061, 60.   , 12.   ],\n",
       "       [ 0.06 ,    nan, 12.   ],\n",
       "       [ 0.06 ,    nan, 12.   ],\n",
       "       [ 0.06 ,    nan, 12.   ],\n",
       "       [ 0.06 ,    nan, 12.   ],\n",
       "       [ 0.082,    nan, 12.   ],\n",
       "       [ 0.082,    nan, 12.   ]])"
      ]
     },
     "execution_count": 14,
     "metadata": {},
     "output_type": "execute_result"
    }
   ],
   "source": [
    "arrayounces = ejer_3.to_numpy() # to.numpy nos convierte un DataFrame a un array\n",
    "arrayounces"
   ]
  },
  {
   "attachments": {},
   "cell_type": "markdown",
   "metadata": {},
   "source": [
    "## Ejercicio 9\n",
    "¿Cuántas onzas pesan todas las birras del dataset?"
   ]
  },
  {
   "cell_type": "code",
   "execution_count": 15,
   "metadata": {},
   "outputs": [
    {
     "data": {
      "text/plain": [
       "np.float64(32757.3)"
      ]
     },
     "execution_count": 15,
     "metadata": {},
     "output_type": "execute_result"
    }
   ],
   "source": [
    "sum_onzas = birras[\"ounces\"].sum()\n",
    "sum_onzas"
   ]
  },
  {
   "attachments": {},
   "cell_type": "markdown",
   "metadata": {},
   "source": [
    "## Ejercicio 10\n",
    "El amargor de las cervezas se mide por su nivel de IBUs.\n",
    "1. ¿Cuál es el amargor medio de las cervezas?\n",
    "2. ¿El máximo? ¿Y el mínimo?\n",
    "3. ¿Qué cerveza es la que tiene el amargor máximo? ¿Cuál es la de amargor mínimo?"
   ]
  },
  {
   "cell_type": "code",
   "execution_count": null,
   "metadata": {},
   "outputs": [
    {
     "data": {
      "text/plain": [
       "count    1405.000000\n",
       "mean       42.713167\n",
       "std        25.954066\n",
       "min         4.000000\n",
       "25%        21.000000\n",
       "50%        35.000000\n",
       "75%        64.000000\n",
       "max       138.000000\n",
       "Name: ibu, dtype: float64"
      ]
     },
     "execution_count": 16,
     "metadata": {},
     "output_type": "execute_result"
    }
   ],
   "source": [
    "amargormedio = birras[\"ibu\"].describe() # Con describe obtenemos todos los datos estadísticos que nos piden (media,máximo,mínimo)\n",
    "amargormedio"
   ]
  },
  {
   "cell_type": "code",
   "execution_count": null,
   "metadata": {},
   "outputs": [
    {
     "data": {
      "text/plain": [
       "'Bitter Bitch Imperial IPA'"
      ]
     },
     "execution_count": 17,
     "metadata": {},
     "output_type": "execute_result"
    }
   ],
   "source": [
    "birras[birras[\"ibu\"]==birras[\"ibu\"].max()][\"name\"].values[0] # Creamos una máscara para encontrar la cerveza con el mayor ibu, para depués especificar que nos\n",
    "# devuelva el nombre de esa cerveza con [\"name\"]\n"
   ]
  },
  {
   "cell_type": "code",
   "execution_count": null,
   "metadata": {},
   "outputs": [
    {
     "data": {
      "text/plain": [
       "'Summer Solstice'"
      ]
     },
     "execution_count": 18,
     "metadata": {},
     "output_type": "execute_result"
    }
   ],
   "source": [
    "birras[birras[\"ibu\"]==birras[\"ibu\"].min()][\"name\"].values[0] # El mismo procedimiento para obtener el valor mínimo"
   ]
  },
  {
   "attachments": {},
   "cell_type": "markdown",
   "metadata": {},
   "source": [
    "## Ejercicio 11\n",
    "No queda muy claro cuánto de dispar, de dispersa, es la medida de IBU. Mediante estadística descriptiva (una o dos métricas, sin gráficas), razona la dispersión de la variable IBU."
   ]
  },
  {
   "cell_type": "code",
   "execution_count": null,
   "metadata": {},
   "outputs": [
    {
     "data": {
      "text/plain": [
       "count    1405.000000\n",
       "mean       42.713167\n",
       "std        25.954066\n",
       "min         4.000000\n",
       "25%        21.000000\n",
       "50%        35.000000\n",
       "75%        64.000000\n",
       "max       138.000000\n",
       "Name: ibu, dtype: float64"
      ]
     },
     "execution_count": 19,
     "metadata": {},
     "output_type": "execute_result"
    }
   ],
   "source": [
    "amargormedio = birras[\"ibu\"].describe() # Con el describe podemos ver varias cosas para inferir la dispersión de los datos y la simetría de la curva de datos \n",
    "# del amargor de la cerveza. La desviación estándar tan alta nos indica una alta dispersión de los datos. Además, viendo que el valor del tercer cuartil es 64\n",
    "# de un maximo de 138, podemos deducir que la curva será asimétrica hacia la izquierda, pues la mayoría de los datos de ibu están concentrados antes del tercer cuartil\n",
    "amargormedio\n"
   ]
  },
  {
   "attachments": {},
   "cell_type": "markdown",
   "metadata": {},
   "source": [
    "## Ejercicio 12\n",
    "¿Existe alguna relación lineal entre las variables numéricas del dataset? Intenta pintar este razonamiento mediante un gráfico"
   ]
  },
  {
   "cell_type": "code",
   "execution_count": null,
   "metadata": {},
   "outputs": [
    {
     "data": {
      "text/plain": [
       "np.float64(0.6706214849969863)"
      ]
     },
     "execution_count": 20,
     "metadata": {},
     "output_type": "execute_result"
    }
   ],
   "source": [
    "corr=birras[\"abv\"].corr(birras[\"ibu\"]) # Con corr podemos ver el grado de correlación entre las variables numéricas más representativas del DataFrame (abv e ibu)\n",
    "# Con un valor de correlación de 0.67, podemos decir que estas dos veriables son medianamente correlativas entre sí\n",
    "corr"
   ]
  },
  {
   "cell_type": "code",
   "execution_count": null,
   "metadata": {},
   "outputs": [
    {
     "data": {
      "text/plain": [
       "<Axes: xlabel='abv', ylabel='ibu'>"
      ]
     },
     "execution_count": 21,
     "metadata": {},
     "output_type": "execute_result"
    },
    {
     "data": {
      "image/png": "[encoded data removed]",
      "text/plain": [
       "<Figure size 640x480 with 1 Axes>"
      ]
     },
     "metadata": {},
     "output_type": "display_data"
    }
   ],
   "source": [
    "abv_ibu = birras[[\"abv\",\"ibu\"]] # Gricas a un scatterplot podemos observar esa correlación de 0.67 entre las dos variables, donde a pesar de que muchos datos\n",
    "# están dispersos, se puede observar una tendencia de linealidad entre abu e ibv\n",
    "sns.scatterplot(x=\"abv\",y=\"ibu\",data=abv_ibu)\n"
   ]
  },
  {
   "attachments": {},
   "cell_type": "markdown",
   "metadata": {},
   "source": [
    "## Ejercicio 13\n",
    "Representa el nivel de alcohol (columna `abv`) en un histograma. ¿Se trata de una distribución simétrica o asimétrica?"
   ]
  },
  {
   "cell_type": "code",
   "execution_count": null,
   "metadata": {},
   "outputs": [
    {
     "data": {
      "image/png": "[encoded data removed]",
      "text/plain": [
       "<Figure size 640x480 with 1 Axes>"
      ]
     },
     "metadata": {},
     "output_type": "display_data"
    }
   ],
   "source": [
    "plt.hist(birras[\"abv\"],bins=20)\n",
    "plt.xlabel(\"Nivel de alcohol\")\n",
    "plt.ylabel(\"Frecuencia\")\n",
    "plt.title(\"Distribución de alcohol en las bebidas\")\n",
    "plt.grid(axis='y', linestyle='--', alpha=0.7)\n",
    "plt.show() # Podemos observar que el histograma posee una distribución de los datos muy cercana a la simetría"
   ]
  },
  {
   "attachments": {},
   "cell_type": "markdown",
   "metadata": {},
   "source": [
    "## Ejercicio 14\n",
    "Representa mediante un *boxplot* de `seaborn` la variable `abv`"
   ]
  },
  {
   "cell_type": "code",
   "execution_count": null,
   "metadata": {},
   "outputs": [
    {
     "data": {
      "text/plain": [
       "<Axes: ylabel='abv'>"
      ]
     },
     "execution_count": 23,
     "metadata": {},
     "output_type": "execute_result"
    },
    {
     "data": {
      "image/png": "[encoded data removed]",
      "text/plain": [
       "<Figure size 640x480 with 1 Axes>"
      ]
     },
     "metadata": {},
     "output_type": "display_data"
    }
   ],
   "source": [
    "sns.boxplot(birras[\"abv\"]) # El boxplot, así como el histograma nos permite observar esa tendencia a la simetría de los valores de alcohol en la cerveza"
   ]
  },
  {
   "attachments": {},
   "cell_type": "markdown",
   "metadata": {},
   "source": [
    "## Ejercicio 15\n",
    "1. ¿Qué estilos son los que tienen en media más alcohol?\n",
    "2. ¿Y los estilos que son en media más amargos?"
   ]
  },
  {
   "cell_type": "code",
   "execution_count": 95,
   "metadata": {},
   "outputs": [
    {
     "data": {
      "text/plain": [
       "style\n",
       "English Barleywine        0.107667\n",
       "Quadrupel (Quad)          0.104000\n",
       "American Barleywine       0.099000\n",
       "American Malt Liquor      0.099000\n",
       "Russian Imperial Stout    0.097636\n",
       "                            ...   \n",
       "Berliner Weissbier        0.043909\n",
       "English Dark Mild Ale     0.041500\n",
       "Light Lager               0.040417\n",
       "Radler                    0.040333\n",
       "Low Alcohol Beer          0.001000\n",
       "Name: abv, Length: 99, dtype: float64"
      ]
     },
     "execution_count": 95,
     "metadata": {},
     "output_type": "execute_result"
    }
   ],
   "source": [
    "birras.groupby(\"style\")[\"abv\"].mean().sort_values(ascending=False) # Agrupamps los estilos de cerveza con su valor medio de alcohol (\"abv\") y ordenamos los valores\n",
    "# en orden descendente para obtener los estilos con mayor media de alcohol"
   ]
  },
  {
   "cell_type": "code",
   "execution_count": null,
   "metadata": {},
   "outputs": [
    {
     "data": {
      "text/plain": [
       "style\n",
       "American Barleywine                   96.00\n",
       "American Double / Imperial IPA        93.32\n",
       "Russian Imperial Stout                86.50\n",
       "American Double / Imperial Pilsner    85.00\n",
       "Belgian Strong Dark Ale               72.00\n",
       "                                      ...  \n",
       "Kristalweizen                           NaN\n",
       "Low Alcohol Beer                        NaN\n",
       "Mead                                    NaN\n",
       "Rauchbier                               NaN\n",
       "Shandy                                  NaN\n",
       "Name: ibu, Length: 99, dtype: float64"
      ]
     },
     "execution_count": 94,
     "metadata": {},
     "output_type": "execute_result"
    }
   ],
   "source": [
    "birras.groupby(\"style\")[\"ibu\"].mean().sort_values(ascending=False) # Hacemos lo mismo con los valores medio de amargor (\"ibu\")"
   ]
  },
  {
   "attachments": {},
   "cell_type": "markdown",
   "metadata": {},
   "source": [
    "## Ejercicio 16\n",
    "Carga el datasets de cervecerias `datasets_breweries.csv`"
   ]
  },
  {
   "cell_type": "code",
   "execution_count": 26,
   "metadata": {},
   "outputs": [
    {
     "data": {
      "application/vnd.microsoft.datawrangler.viewer.v0+json": {
       "columns": [
        {
         "name": "index",
         "rawType": "int64",
         "type": "integer"
        },
        {
         "name": "Unnamed: 0",
         "rawType": "int64",
         "type": "integer"
        },
        {
         "name": "name",
         "rawType": "object",
         "type": "string"
        },
        {
         "name": "city",
         "rawType": "object",
         "type": "string"
        },
        {
         "name": "state",
         "rawType": "object",
         "type": "string"
        }
       ],
       "conversionMethod": "pd.DataFrame",
       "ref": "47d58edc-c8c5-4dcd-9e6c-60ba6d8abed0",
       "rows": [
        [
         "0",
         "0",
         "NorthGate Brewing ",
         "Minneapolis",
         " MN"
        ],
        [
         "1",
         "1",
         "Against the Grain Brewery",
         "Louisville",
         " KY"
        ],
        [
         "2",
         "2",
         "Jack's Abby Craft Lagers",
         "Framingham",
         " MA"
        ],
        [
         "3",
         "3",
         "Mike Hess Brewing Company",
         "San Diego",
         " CA"
        ],
        [
         "4",
         "4",
         "Fort Point Beer Company",
         "San Francisco",
         " CA"
        ],
        [
         "5",
         "5",
         "COAST Brewing Company",
         "Charleston",
         " SC"
        ],
        [
         "6",
         "6",
         "Great Divide Brewing Company",
         "Denver",
         " CO"
        ],
        [
         "7",
         "7",
         "Tapistry Brewing",
         "Bridgman",
         " MI"
        ],
        [
         "8",
         "8",
         "Big Lake Brewing",
         "Holland",
         " MI"
        ],
        [
         "9",
         "9",
         "The Mitten Brewing Company",
         "Grand Rapids",
         " MI"
        ],
        [
         "10",
         "10",
         "Brewery Vivant",
         "Grand Rapids",
         " MI"
        ],
        [
         "11",
         "11",
         "Petoskey Brewing",
         "Petoskey",
         " MI"
        ],
        [
         "12",
         "12",
         "Blackrocks Brewery",
         "Marquette",
         " MI"
        ],
        [
         "13",
         "13",
         "Perrin Brewing Company",
         "Comstock Park",
         " MI"
        ],
        [
         "14",
         "14",
         "Witch's Hat Brewing Company",
         "South Lyon",
         " MI"
        ],
        [
         "15",
         "15",
         "Founders Brewing Company",
         "Grand Rapids",
         " MI"
        ],
        [
         "16",
         "16",
         "Flat 12 Bierwerks",
         "Indianapolis",
         " IN"
        ],
        [
         "17",
         "17",
         "Tin Man Brewing Company",
         "Evansville",
         " IN"
        ],
        [
         "18",
         "18",
         "Black Acre Brewing Co.",
         "Indianapolis",
         " IN"
        ],
        [
         "19",
         "19",
         "Brew Link Brewing",
         "Plainfield",
         " IN"
        ],
        [
         "20",
         "20",
         "Bare Hands Brewery",
         "Granger",
         " IN"
        ],
        [
         "21",
         "21",
         "Three Pints Brewing",
         "Martinsville",
         " IN"
        ],
        [
         "22",
         "22",
         "Four Fathers Brewing ",
         "Valparaiso",
         " IN"
        ],
        [
         "23",
         "23",
         "Indiana City Brewing",
         "Indianapolis",
         " IN"
        ],
        [
         "24",
         "24",
         "Burn 'Em Brewing",
         "Michigan City",
         " IN"
        ],
        [
         "25",
         "25",
         "Sun King Brewing Company",
         "Indianapolis",
         " IN"
        ],
        [
         "26",
         "26",
         "Evil Czech Brewery",
         "Mishawaka",
         " IN"
        ],
        [
         "27",
         "27",
         "450 North Brewing Company",
         "Columbus",
         " IN"
        ],
        [
         "28",
         "28",
         "Taxman Brewing Company",
         "Bargersville",
         " IN"
        ],
        [
         "29",
         "29",
         "Cedar Creek Brewery",
         "Seven Points",
         " TX"
        ],
        [
         "30",
         "30",
         "SanTan Brewing Company",
         "Chandler",
         " AZ"
        ],
        [
         "31",
         "31",
         "Boulevard Brewing Company",
         "Kansas City",
         " MO"
        ],
        [
         "32",
         "32",
         "James Page Brewing Company",
         "Stevens Point",
         " WI"
        ],
        [
         "33",
         "33",
         "The Dudes' Brewing Company",
         "Torrance",
         " CA"
        ],
        [
         "34",
         "34",
         "Ballast Point Brewing Company",
         "San Diego",
         " CA"
        ],
        [
         "35",
         "35",
         "Anchor Brewing Company",
         "San Francisco",
         " CA"
        ],
        [
         "36",
         "36",
         "Figueroa Mountain Brewing Company",
         "Buellton",
         " CA"
        ],
        [
         "37",
         "37",
         "Avery Brewing Company",
         "Boulder",
         " CO"
        ],
        [
         "38",
         "38",
         "Twisted X Brewing Company",
         "Dripping Springs",
         " TX"
        ],
        [
         "39",
         "39",
         "Gonzo's BiggDogg Brewing",
         "Kalamazoo",
         " MI"
        ],
        [
         "40",
         "40",
         "Big Muddy Brewing",
         "Murphysboro",
         " IL"
        ],
        [
         "41",
         "41",
         "Lost Nation Brewing",
         "East Fairfield",
         " VT"
        ],
        [
         "42",
         "42",
         "Rising Tide Brewing Company",
         "Portland",
         " ME"
        ],
        [
         "43",
         "43",
         "Rivertowne Brewing Company",
         "Export",
         " PA"
        ],
        [
         "44",
         "44",
         "Revolution Brewing Company",
         "Chicago",
         " IL"
        ],
        [
         "45",
         "45",
         "Tallgrass Brewing Company",
         "Manhattan",
         " KS"
        ],
        [
         "46",
         "46",
         "Sixpoint Craft Ales",
         "Brooklyn",
         " NY"
        ],
        [
         "47",
         "47",
         "White Birch Brewing",
         "Hooksett",
         " NH"
        ],
        [
         "48",
         "48",
         "Firestone Walker Brewing Company",
         "Paso Robles",
         " CA"
        ],
        [
         "49",
         "49",
         "SweetWater Brewing Company",
         "Atlanta",
         " GA"
        ]
       ],
       "shape": {
        "columns": 4,
        "rows": 558
       }
      },
      "text/html": [
       "<div>\n",
       "<style scoped>\n",
       "    .dataframe tbody tr th:only-of-type {\n",
       "        vertical-align: middle;\n",
       "    }\n",
       "\n",
       "    .dataframe tbody tr th {\n",
       "        vertical-align: top;\n",
       "    }\n",
       "\n",
       "    .dataframe thead th {\n",
       "        text-align: right;\n",
       "    }\n",
       "</style>\n",
       "<table border=\"1\" class=\"dataframe\">\n",
       "  <thead>\n",
       "    <tr style=\"text-align: right;\">\n",
       "      <th></th>\n",
       "      <th>Unnamed: 0</th>\n",
       "      <th>name</th>\n",
       "      <th>city</th>\n",
       "      <th>state</th>\n",
       "    </tr>\n",
       "  </thead>\n",
       "  <tbody>\n",
       "    <tr>\n",
       "      <th>0</th>\n",
       "      <td>0</td>\n",
       "      <td>NorthGate Brewing</td>\n",
       "      <td>Minneapolis</td>\n",
       "      <td>MN</td>\n",
       "    </tr>\n",
       "    <tr>\n",
       "      <th>1</th>\n",
       "      <td>1</td>\n",
       "      <td>Against the Grain Brewery</td>\n",
       "      <td>Louisville</td>\n",
       "      <td>KY</td>\n",
       "    </tr>\n",
       "    <tr>\n",
       "      <th>2</th>\n",
       "      <td>2</td>\n",
       "      <td>Jack's Abby Craft Lagers</td>\n",
       "      <td>Framingham</td>\n",
       "      <td>MA</td>\n",
       "    </tr>\n",
       "    <tr>\n",
       "      <th>3</th>\n",
       "      <td>3</td>\n",
       "      <td>Mike Hess Brewing Company</td>\n",
       "      <td>San Diego</td>\n",
       "      <td>CA</td>\n",
       "    </tr>\n",
       "    <tr>\n",
       "      <th>4</th>\n",
       "      <td>4</td>\n",
       "      <td>Fort Point Beer Company</td>\n",
       "      <td>San Francisco</td>\n",
       "      <td>CA</td>\n",
       "    </tr>\n",
       "    <tr>\n",
       "      <th>...</th>\n",
       "      <td>...</td>\n",
       "      <td>...</td>\n",
       "      <td>...</td>\n",
       "      <td>...</td>\n",
       "    </tr>\n",
       "    <tr>\n",
       "      <th>553</th>\n",
       "      <td>553</td>\n",
       "      <td>Covington Brewhouse</td>\n",
       "      <td>Covington</td>\n",
       "      <td>LA</td>\n",
       "    </tr>\n",
       "    <tr>\n",
       "      <th>554</th>\n",
       "      <td>554</td>\n",
       "      <td>Dave's Brewfarm</td>\n",
       "      <td>Wilson</td>\n",
       "      <td>WI</td>\n",
       "    </tr>\n",
       "    <tr>\n",
       "      <th>555</th>\n",
       "      <td>555</td>\n",
       "      <td>Ukiah Brewing Company</td>\n",
       "      <td>Ukiah</td>\n",
       "      <td>CA</td>\n",
       "    </tr>\n",
       "    <tr>\n",
       "      <th>556</th>\n",
       "      <td>556</td>\n",
       "      <td>Butternuts Beer and Ale</td>\n",
       "      <td>Garrattsville</td>\n",
       "      <td>NY</td>\n",
       "    </tr>\n",
       "    <tr>\n",
       "      <th>557</th>\n",
       "      <td>557</td>\n",
       "      <td>Sleeping Lady Brewing Company</td>\n",
       "      <td>Anchorage</td>\n",
       "      <td>AK</td>\n",
       "    </tr>\n",
       "  </tbody>\n",
       "</table>\n",
       "<p>558 rows × 4 columns</p>\n",
       "</div>"
      ],
      "text/plain": [
       "     Unnamed: 0                           name           city state\n",
       "0             0             NorthGate Brewing     Minneapolis    MN\n",
       "1             1      Against the Grain Brewery     Louisville    KY\n",
       "2             2       Jack's Abby Craft Lagers     Framingham    MA\n",
       "3             3      Mike Hess Brewing Company      San Diego    CA\n",
       "4             4        Fort Point Beer Company  San Francisco    CA\n",
       "..          ...                            ...            ...   ...\n",
       "553         553            Covington Brewhouse      Covington    LA\n",
       "554         554                Dave's Brewfarm         Wilson    WI\n",
       "555         555          Ukiah Brewing Company          Ukiah    CA\n",
       "556         556        Butternuts Beer and Ale  Garrattsville    NY\n",
       "557         557  Sleeping Lady Brewing Company      Anchorage    AK\n",
       "\n",
       "[558 rows x 4 columns]"
      ]
     },
     "execution_count": 26,
     "metadata": {},
     "output_type": "execute_result"
    }
   ],
   "source": [
    "breweries = pd.read_csv(\"breweries.csv\")\n",
    "breweries"
   ]
  },
  {
   "attachments": {},
   "cell_type": "markdown",
   "metadata": {},
   "source": [
    "## Ejercicio 17\n",
    "1. Renombra la columna `Unnamed: 0` como `brewery_id`\n",
    "2. Renombra también la columna `name` por `brewery_name`. ¿Puedes hacer ambos apartados en una sola sentencia?"
   ]
  },
  {
   "cell_type": "code",
   "execution_count": 27,
   "metadata": {},
   "outputs": [
    {
     "data": {
      "application/vnd.microsoft.datawrangler.viewer.v0+json": {
       "columns": [
        {
         "name": "index",
         "rawType": "int64",
         "type": "integer"
        },
        {
         "name": "brewery_id",
         "rawType": "int64",
         "type": "integer"
        },
        {
         "name": "brewery_name",
         "rawType": "object",
         "type": "string"
        },
        {
         "name": "city",
         "rawType": "object",
         "type": "string"
        },
        {
         "name": "state",
         "rawType": "object",
         "type": "string"
        }
       ],
       "conversionMethod": "pd.DataFrame",
       "ref": "c3c11e20-1096-4894-b2b1-4efba5606b2e",
       "rows": [
        [
         "0",
         "0",
         "NorthGate Brewing ",
         "Minneapolis",
         " MN"
        ],
        [
         "1",
         "1",
         "Against the Grain Brewery",
         "Louisville",
         " KY"
        ],
        [
         "2",
         "2",
         "Jack's Abby Craft Lagers",
         "Framingham",
         " MA"
        ],
        [
         "3",
         "3",
         "Mike Hess Brewing Company",
         "San Diego",
         " CA"
        ],
        [
         "4",
         "4",
         "Fort Point Beer Company",
         "San Francisco",
         " CA"
        ],
        [
         "5",
         "5",
         "COAST Brewing Company",
         "Charleston",
         " SC"
        ],
        [
         "6",
         "6",
         "Great Divide Brewing Company",
         "Denver",
         " CO"
        ],
        [
         "7",
         "7",
         "Tapistry Brewing",
         "Bridgman",
         " MI"
        ],
        [
         "8",
         "8",
         "Big Lake Brewing",
         "Holland",
         " MI"
        ],
        [
         "9",
         "9",
         "The Mitten Brewing Company",
         "Grand Rapids",
         " MI"
        ],
        [
         "10",
         "10",
         "Brewery Vivant",
         "Grand Rapids",
         " MI"
        ],
        [
         "11",
         "11",
         "Petoskey Brewing",
         "Petoskey",
         " MI"
        ],
        [
         "12",
         "12",
         "Blackrocks Brewery",
         "Marquette",
         " MI"
        ],
        [
         "13",
         "13",
         "Perrin Brewing Company",
         "Comstock Park",
         " MI"
        ],
        [
         "14",
         "14",
         "Witch's Hat Brewing Company",
         "South Lyon",
         " MI"
        ],
        [
         "15",
         "15",
         "Founders Brewing Company",
         "Grand Rapids",
         " MI"
        ],
        [
         "16",
         "16",
         "Flat 12 Bierwerks",
         "Indianapolis",
         " IN"
        ],
        [
         "17",
         "17",
         "Tin Man Brewing Company",
         "Evansville",
         " IN"
        ],
        [
         "18",
         "18",
         "Black Acre Brewing Co.",
         "Indianapolis",
         " IN"
        ],
        [
         "19",
         "19",
         "Brew Link Brewing",
         "Plainfield",
         " IN"
        ],
        [
         "20",
         "20",
         "Bare Hands Brewery",
         "Granger",
         " IN"
        ],
        [
         "21",
         "21",
         "Three Pints Brewing",
         "Martinsville",
         " IN"
        ],
        [
         "22",
         "22",
         "Four Fathers Brewing ",
         "Valparaiso",
         " IN"
        ],
        [
         "23",
         "23",
         "Indiana City Brewing",
         "Indianapolis",
         " IN"
        ],
        [
         "24",
         "24",
         "Burn 'Em Brewing",
         "Michigan City",
         " IN"
        ],
        [
         "25",
         "25",
         "Sun King Brewing Company",
         "Indianapolis",
         " IN"
        ],
        [
         "26",
         "26",
         "Evil Czech Brewery",
         "Mishawaka",
         " IN"
        ],
        [
         "27",
         "27",
         "450 North Brewing Company",
         "Columbus",
         " IN"
        ],
        [
         "28",
         "28",
         "Taxman Brewing Company",
         "Bargersville",
         " IN"
        ],
        [
         "29",
         "29",
         "Cedar Creek Brewery",
         "Seven Points",
         " TX"
        ],
        [
         "30",
         "30",
         "SanTan Brewing Company",
         "Chandler",
         " AZ"
        ],
        [
         "31",
         "31",
         "Boulevard Brewing Company",
         "Kansas City",
         " MO"
        ],
        [
         "32",
         "32",
         "James Page Brewing Company",
         "Stevens Point",
         " WI"
        ],
        [
         "33",
         "33",
         "The Dudes' Brewing Company",
         "Torrance",
         " CA"
        ],
        [
         "34",
         "34",
         "Ballast Point Brewing Company",
         "San Diego",
         " CA"
        ],
        [
         "35",
         "35",
         "Anchor Brewing Company",
         "San Francisco",
         " CA"
        ],
        [
         "36",
         "36",
         "Figueroa Mountain Brewing Company",
         "Buellton",
         " CA"
        ],
        [
         "37",
         "37",
         "Avery Brewing Company",
         "Boulder",
         " CO"
        ],
        [
         "38",
         "38",
         "Twisted X Brewing Company",
         "Dripping Springs",
         " TX"
        ],
        [
         "39",
         "39",
         "Gonzo's BiggDogg Brewing",
         "Kalamazoo",
         " MI"
        ],
        [
         "40",
         "40",
         "Big Muddy Brewing",
         "Murphysboro",
         " IL"
        ],
        [
         "41",
         "41",
         "Lost Nation Brewing",
         "East Fairfield",
         " VT"
        ],
        [
         "42",
         "42",
         "Rising Tide Brewing Company",
         "Portland",
         " ME"
        ],
        [
         "43",
         "43",
         "Rivertowne Brewing Company",
         "Export",
         " PA"
        ],
        [
         "44",
         "44",
         "Revolution Brewing Company",
         "Chicago",
         " IL"
        ],
        [
         "45",
         "45",
         "Tallgrass Brewing Company",
         "Manhattan",
         " KS"
        ],
        [
         "46",
         "46",
         "Sixpoint Craft Ales",
         "Brooklyn",
         " NY"
        ],
        [
         "47",
         "47",
         "White Birch Brewing",
         "Hooksett",
         " NH"
        ],
        [
         "48",
         "48",
         "Firestone Walker Brewing Company",
         "Paso Robles",
         " CA"
        ],
        [
         "49",
         "49",
         "SweetWater Brewing Company",
         "Atlanta",
         " GA"
        ]
       ],
       "shape": {
        "columns": 4,
        "rows": 558
       }
      },
      "text/html": [
       "<div>\n",
       "<style scoped>\n",
       "    .dataframe tbody tr th:only-of-type {\n",
       "        vertical-align: middle;\n",
       "    }\n",
       "\n",
       "    .dataframe tbody tr th {\n",
       "        vertical-align: top;\n",
       "    }\n",
       "\n",
       "    .dataframe thead th {\n",
       "        text-align: right;\n",
       "    }\n",
       "</style>\n",
       "<table border=\"1\" class=\"dataframe\">\n",
       "  <thead>\n",
       "    <tr style=\"text-align: right;\">\n",
       "      <th></th>\n",
       "      <th>brewery_id</th>\n",
       "      <th>brewery_name</th>\n",
       "      <th>city</th>\n",
       "      <th>state</th>\n",
       "    </tr>\n",
       "  </thead>\n",
       "  <tbody>\n",
       "    <tr>\n",
       "      <th>0</th>\n",
       "      <td>0</td>\n",
       "      <td>NorthGate Brewing</td>\n",
       "      <td>Minneapolis</td>\n",
       "      <td>MN</td>\n",
       "    </tr>\n",
       "    <tr>\n",
       "      <th>1</th>\n",
       "      <td>1</td>\n",
       "      <td>Against the Grain Brewery</td>\n",
       "      <td>Louisville</td>\n",
       "      <td>KY</td>\n",
       "    </tr>\n",
       "    <tr>\n",
       "      <th>2</th>\n",
       "      <td>2</td>\n",
       "      <td>Jack's Abby Craft Lagers</td>\n",
       "      <td>Framingham</td>\n",
       "      <td>MA</td>\n",
       "    </tr>\n",
       "    <tr>\n",
       "      <th>3</th>\n",
       "      <td>3</td>\n",
       "      <td>Mike Hess Brewing Company</td>\n",
       "      <td>San Diego</td>\n",
       "      <td>CA</td>\n",
       "    </tr>\n",
       "    <tr>\n",
       "      <th>4</th>\n",
       "      <td>4</td>\n",
       "      <td>Fort Point Beer Company</td>\n",
       "      <td>San Francisco</td>\n",
       "      <td>CA</td>\n",
       "    </tr>\n",
       "    <tr>\n",
       "      <th>...</th>\n",
       "      <td>...</td>\n",
       "      <td>...</td>\n",
       "      <td>...</td>\n",
       "      <td>...</td>\n",
       "    </tr>\n",
       "    <tr>\n",
       "      <th>553</th>\n",
       "      <td>553</td>\n",
       "      <td>Covington Brewhouse</td>\n",
       "      <td>Covington</td>\n",
       "      <td>LA</td>\n",
       "    </tr>\n",
       "    <tr>\n",
       "      <th>554</th>\n",
       "      <td>554</td>\n",
       "      <td>Dave's Brewfarm</td>\n",
       "      <td>Wilson</td>\n",
       "      <td>WI</td>\n",
       "    </tr>\n",
       "    <tr>\n",
       "      <th>555</th>\n",
       "      <td>555</td>\n",
       "      <td>Ukiah Brewing Company</td>\n",
       "      <td>Ukiah</td>\n",
       "      <td>CA</td>\n",
       "    </tr>\n",
       "    <tr>\n",
       "      <th>556</th>\n",
       "      <td>556</td>\n",
       "      <td>Butternuts Beer and Ale</td>\n",
       "      <td>Garrattsville</td>\n",
       "      <td>NY</td>\n",
       "    </tr>\n",
       "    <tr>\n",
       "      <th>557</th>\n",
       "      <td>557</td>\n",
       "      <td>Sleeping Lady Brewing Company</td>\n",
       "      <td>Anchorage</td>\n",
       "      <td>AK</td>\n",
       "    </tr>\n",
       "  </tbody>\n",
       "</table>\n",
       "<p>558 rows × 4 columns</p>\n",
       "</div>"
      ],
      "text/plain": [
       "     brewery_id                   brewery_name           city state\n",
       "0             0             NorthGate Brewing     Minneapolis    MN\n",
       "1             1      Against the Grain Brewery     Louisville    KY\n",
       "2             2       Jack's Abby Craft Lagers     Framingham    MA\n",
       "3             3      Mike Hess Brewing Company      San Diego    CA\n",
       "4             4        Fort Point Beer Company  San Francisco    CA\n",
       "..          ...                            ...            ...   ...\n",
       "553         553            Covington Brewhouse      Covington    LA\n",
       "554         554                Dave's Brewfarm         Wilson    WI\n",
       "555         555          Ukiah Brewing Company          Ukiah    CA\n",
       "556         556        Butternuts Beer and Ale  Garrattsville    NY\n",
       "557         557  Sleeping Lady Brewing Company      Anchorage    AK\n",
       "\n",
       "[558 rows x 4 columns]"
      ]
     },
     "execution_count": 27,
     "metadata": {},
     "output_type": "execute_result"
    }
   ],
   "source": [
    "breweries.rename(columns={\"Unnamed: 0\":\"brewery_id\",\"name\":\"brewery_name\"},inplace=True)\n",
    "breweries"
   ]
  },
  {
   "attachments": {},
   "cell_type": "markdown",
   "metadata": {},
   "source": [
    "## Ejercicio 18\n",
    "Junta los dos datasets que tienes"
   ]
  },
  {
   "cell_type": "code",
   "execution_count": 28,
   "metadata": {},
   "outputs": [
    {
     "data": {
      "application/vnd.microsoft.datawrangler.viewer.v0+json": {
       "columns": [
        {
         "name": "index",
         "rawType": "int64",
         "type": "integer"
        },
        {
         "name": "abv",
         "rawType": "float64",
         "type": "float"
        },
        {
         "name": "ibu",
         "rawType": "float64",
         "type": "float"
        },
        {
         "name": "id",
         "rawType": "int64",
         "type": "integer"
        },
        {
         "name": "name",
         "rawType": "object",
         "type": "string"
        },
        {
         "name": "style",
         "rawType": "object",
         "type": "unknown"
        },
        {
         "name": "brewery_id",
         "rawType": "int64",
         "type": "integer"
        },
        {
         "name": "ounces",
         "rawType": "float64",
         "type": "float"
        }
       ],
       "conversionMethod": "pd.DataFrame",
       "ref": "d8c8fc68-d87a-45ce-afff-ce11de9b87ee",
       "rows": [
        [
         "0",
         "0.05",
         null,
         "1436",
         "Pub Beer",
         "American Pale Lager",
         "408",
         "12.0"
        ],
        [
         "1",
         "0.066",
         null,
         "2265",
         "Devil's Cup",
         "American Pale Ale (APA)",
         "177",
         "12.0"
        ],
        [
         "2",
         "0.071",
         null,
         "2264",
         "Rise of the Phoenix",
         "American IPA",
         "177",
         "12.0"
        ],
        [
         "3",
         "0.09",
         null,
         "2263",
         "Sinister",
         "American Double / Imperial IPA",
         "177",
         "12.0"
        ],
        [
         "4",
         "0.075",
         null,
         "2262",
         "Sex and Candy",
         "American IPA",
         "177",
         "12.0"
        ],
        [
         "5",
         "0.077",
         null,
         "2261",
         "Black Exodus",
         "Oatmeal Stout",
         "177",
         "12.0"
        ],
        [
         "6",
         "0.045",
         null,
         "2260",
         "Lake Street Express",
         "American Pale Ale (APA)",
         "177",
         "12.0"
        ],
        [
         "7",
         "0.065",
         null,
         "2259",
         "Foreman",
         "American Porter",
         "177",
         "12.0"
        ],
        [
         "8",
         "0.055",
         null,
         "2258",
         "Jade",
         "American Pale Ale (APA)",
         "177",
         "12.0"
        ],
        [
         "9",
         "0.086",
         null,
         "2131",
         "Cone Crusher",
         "American Double / Imperial IPA",
         "177",
         "12.0"
        ],
        [
         "10",
         "0.072",
         null,
         "2099",
         "Sophomoric Saison",
         "Saison / Farmhouse Ale",
         "177",
         "12.0"
        ],
        [
         "11",
         "0.073",
         null,
         "2098",
         "Regional Ring Of Fire",
         "Saison / Farmhouse Ale",
         "177",
         "12.0"
        ],
        [
         "12",
         "0.069",
         null,
         "2097",
         "Garce Selé",
         "Saison / Farmhouse Ale",
         "177",
         "12.0"
        ],
        [
         "13",
         "0.085",
         null,
         "1980",
         "Troll Destroyer",
         "Belgian IPA",
         "177",
         "12.0"
        ],
        [
         "14",
         "0.061",
         "60.0",
         "1979",
         "Bitter Bitch",
         "American Pale Ale (APA)",
         "177",
         "12.0"
        ],
        [
         "15",
         "0.06",
         null,
         "2318",
         "Ginja Ninja",
         "Cider",
         "154",
         "12.0"
        ],
        [
         "16",
         "0.06",
         null,
         "2170",
         "Cherried Away",
         "Cider",
         "154",
         "12.0"
        ],
        [
         "17",
         "0.06",
         null,
         "2169",
         "Rhubarbarian",
         "Cider",
         "154",
         "12.0"
        ],
        [
         "18",
         "0.06",
         null,
         "1502",
         "BrightCider",
         "Cider",
         "154",
         "12.0"
        ],
        [
         "19",
         "0.0819999999999999",
         null,
         "1593",
         "He Said Baltic-Style Porter",
         "Baltic Porter",
         "368",
         "12.0"
        ],
        [
         "20",
         "0.0819999999999999",
         null,
         "1592",
         "He Said Belgian-Style Tripel",
         "Tripel",
         "368",
         "12.0"
        ],
        [
         "21",
         "0.099",
         "92.0",
         "1036",
         "Lower De Boom",
         "American Barleywine",
         "368",
         "8.4"
        ],
        [
         "22",
         "0.079",
         "45.0",
         "1024",
         "Fireside Chat",
         "Winter Warmer",
         "368",
         "12.0"
        ],
        [
         "23",
         "0.079",
         null,
         "976",
         "Marooned On Hog Island",
         "American Stout",
         "368",
         "12.0"
        ],
        [
         "24",
         "0.044",
         "42.0",
         "876",
         "Bitter American",
         "American Pale Ale (APA)",
         "368",
         "12.0"
        ],
        [
         "25",
         "0.049",
         "17.0",
         "802",
         "Hell or High Watermelon Wheat (2009)",
         "Fruit / Vegetable Beer",
         "368",
         "12.0"
        ],
        [
         "26",
         "0.049",
         "17.0",
         "801",
         "Hell or High Watermelon Wheat (2009)",
         "Fruit / Vegetable Beer",
         "368",
         "12.0"
        ],
        [
         "27",
         "0.049",
         "17.0",
         "800",
         "21st Amendment Watermelon Wheat Beer (2006)",
         "Fruit / Vegetable Beer",
         "368",
         "12.0"
        ],
        [
         "28",
         "0.07",
         "70.0",
         "799",
         "21st Amendment IPA (2006)",
         "American IPA",
         "368",
         "12.0"
        ],
        [
         "29",
         "0.07",
         "70.0",
         "797",
         "Brew Free! or Die IPA (2008)",
         "American IPA",
         "368",
         "12.0"
        ],
        [
         "30",
         "0.07",
         "70.0",
         "796",
         "Brew Free! or Die IPA (2009)",
         "American IPA",
         "368",
         "12.0"
        ],
        [
         "31",
         "0.085",
         "52.0",
         "531",
         "Special Edition: Allies Win The War!",
         "English Strong Ale",
         "368",
         "12.0"
        ],
        [
         "32",
         "0.0969999999999999",
         "94.0",
         "432",
         "Hop Crisis",
         "American Double / Imperial IPA",
         "368",
         "12.0"
        ],
        [
         "33",
         "0.044",
         "42.0",
         "353",
         "Bitter American (2011)",
         "American Pale Ale (APA)",
         "368",
         "12.0"
        ],
        [
         "34",
         "0.079",
         "45.0",
         "321",
         "Fireside Chat (2010)",
         "Winter Warmer",
         "368",
         "12.0"
        ],
        [
         "35",
         "0.068",
         "65.0",
         "173",
         "Back in Black",
         "American Black Ale",
         "368",
         "12.0"
        ],
        [
         "36",
         "0.083",
         "35.0",
         "11",
         "Monk's Blood",
         "Belgian Dark Ale",
         "368",
         "12.0"
        ],
        [
         "37",
         "0.07",
         "65.0",
         "10",
         "Brew Free! or Die IPA",
         "American IPA",
         "368",
         "12.0"
        ],
        [
         "38",
         "0.049",
         "17.0",
         "9",
         "Hell or High Watermelon Wheat",
         "Fruit / Vegetable Beer",
         "368",
         "12.0"
        ],
        [
         "39",
         "0.07",
         "82.0",
         "2519",
         "Bimini Twist",
         "American IPA",
         "67",
         "12.0"
        ],
        [
         "40",
         "0.05",
         null,
         "2518",
         "Beach Blonde",
         "American Blonde Ale",
         "67",
         "12.0"
        ],
        [
         "41",
         "0.059",
         null,
         "2517",
         "Rod Bender Red",
         "American Amber / Red Ale",
         "67",
         "12.0"
        ],
        [
         "42",
         "0.035",
         "11.0",
         "2545",
         "Passion Fruit Prussia",
         "Berliner Weissbier",
         "60",
         "12.0"
        ],
        [
         "43",
         "0.045",
         "18.0",
         "2544",
         "Send Help",
         "American Blonde Ale",
         "60",
         "12.0"
        ],
        [
         "44",
         "0.055",
         null,
         "2324",
         "Cast Iron Oatmeal Brown",
         "American Brown Ale",
         "60",
         "12.0"
        ],
        [
         "45",
         "0.06",
         null,
         "2288",
         "Reprise Centennial Red",
         "American Amber / Red Ale",
         "60",
         "12.0"
        ],
        [
         "46",
         "0.055",
         null,
         "2287",
         "Alter Ego",
         "American Black Ale",
         "60",
         "12.0"
        ],
        [
         "47",
         "0.065",
         null,
         "2286",
         "Divided Sky",
         "American IPA",
         "60",
         "12.0"
        ],
        [
         "48",
         "0.065",
         null,
         "2285",
         "Resurrected",
         "American IPA",
         "60",
         "12.0"
        ],
        [
         "49",
         "0.05",
         "28.0",
         "1870",
         "Contact High",
         "American Pale Wheat Ale",
         "60",
         "12.0"
        ]
       ],
       "shape": {
        "columns": 7,
        "rows": 2410
       }
      },
      "text/html": [
       "<div>\n",
       "<style scoped>\n",
       "    .dataframe tbody tr th:only-of-type {\n",
       "        vertical-align: middle;\n",
       "    }\n",
       "\n",
       "    .dataframe tbody tr th {\n",
       "        vertical-align: top;\n",
       "    }\n",
       "\n",
       "    .dataframe thead th {\n",
       "        text-align: right;\n",
       "    }\n",
       "</style>\n",
       "<table border=\"1\" class=\"dataframe\">\n",
       "  <thead>\n",
       "    <tr style=\"text-align: right;\">\n",
       "      <th></th>\n",
       "      <th>abv</th>\n",
       "      <th>ibu</th>\n",
       "      <th>id</th>\n",
       "      <th>name</th>\n",
       "      <th>style</th>\n",
       "      <th>brewery_id</th>\n",
       "      <th>ounces</th>\n",
       "    </tr>\n",
       "  </thead>\n",
       "  <tbody>\n",
       "    <tr>\n",
       "      <th>0</th>\n",
       "      <td>0.050</td>\n",
       "      <td>NaN</td>\n",
       "      <td>1436</td>\n",
       "      <td>Pub Beer</td>\n",
       "      <td>American Pale Lager</td>\n",
       "      <td>408</td>\n",
       "      <td>12.0</td>\n",
       "    </tr>\n",
       "    <tr>\n",
       "      <th>1</th>\n",
       "      <td>0.066</td>\n",
       "      <td>NaN</td>\n",
       "      <td>2265</td>\n",
       "      <td>Devil's Cup</td>\n",
       "      <td>American Pale Ale (APA)</td>\n",
       "      <td>177</td>\n",
       "      <td>12.0</td>\n",
       "    </tr>\n",
       "    <tr>\n",
       "      <th>2</th>\n",
       "      <td>0.071</td>\n",
       "      <td>NaN</td>\n",
       "      <td>2264</td>\n",
       "      <td>Rise of the Phoenix</td>\n",
       "      <td>American IPA</td>\n",
       "      <td>177</td>\n",
       "      <td>12.0</td>\n",
       "    </tr>\n",
       "    <tr>\n",
       "      <th>3</th>\n",
       "      <td>0.090</td>\n",
       "      <td>NaN</td>\n",
       "      <td>2263</td>\n",
       "      <td>Sinister</td>\n",
       "      <td>American Double / Imperial IPA</td>\n",
       "      <td>177</td>\n",
       "      <td>12.0</td>\n",
       "    </tr>\n",
       "    <tr>\n",
       "      <th>4</th>\n",
       "      <td>0.075</td>\n",
       "      <td>NaN</td>\n",
       "      <td>2262</td>\n",
       "      <td>Sex and Candy</td>\n",
       "      <td>American IPA</td>\n",
       "      <td>177</td>\n",
       "      <td>12.0</td>\n",
       "    </tr>\n",
       "    <tr>\n",
       "      <th>...</th>\n",
       "      <td>...</td>\n",
       "      <td>...</td>\n",
       "      <td>...</td>\n",
       "      <td>...</td>\n",
       "      <td>...</td>\n",
       "      <td>...</td>\n",
       "      <td>...</td>\n",
       "    </tr>\n",
       "    <tr>\n",
       "      <th>2405</th>\n",
       "      <td>0.067</td>\n",
       "      <td>45.0</td>\n",
       "      <td>928</td>\n",
       "      <td>Belgorado</td>\n",
       "      <td>Belgian IPA</td>\n",
       "      <td>424</td>\n",
       "      <td>12.0</td>\n",
       "    </tr>\n",
       "    <tr>\n",
       "      <th>2406</th>\n",
       "      <td>0.052</td>\n",
       "      <td>NaN</td>\n",
       "      <td>807</td>\n",
       "      <td>Rail Yard Ale</td>\n",
       "      <td>American Amber / Red Ale</td>\n",
       "      <td>424</td>\n",
       "      <td>12.0</td>\n",
       "    </tr>\n",
       "    <tr>\n",
       "      <th>2407</th>\n",
       "      <td>0.055</td>\n",
       "      <td>NaN</td>\n",
       "      <td>620</td>\n",
       "      <td>B3K Black Lager</td>\n",
       "      <td>Schwarzbier</td>\n",
       "      <td>424</td>\n",
       "      <td>12.0</td>\n",
       "    </tr>\n",
       "    <tr>\n",
       "      <th>2408</th>\n",
       "      <td>0.055</td>\n",
       "      <td>40.0</td>\n",
       "      <td>145</td>\n",
       "      <td>Silverback Pale Ale</td>\n",
       "      <td>American Pale Ale (APA)</td>\n",
       "      <td>424</td>\n",
       "      <td>12.0</td>\n",
       "    </tr>\n",
       "    <tr>\n",
       "      <th>2409</th>\n",
       "      <td>0.052</td>\n",
       "      <td>NaN</td>\n",
       "      <td>84</td>\n",
       "      <td>Rail Yard Ale (2009)</td>\n",
       "      <td>American Amber / Red Ale</td>\n",
       "      <td>424</td>\n",
       "      <td>12.0</td>\n",
       "    </tr>\n",
       "  </tbody>\n",
       "</table>\n",
       "<p>2410 rows × 7 columns</p>\n",
       "</div>"
      ],
      "text/plain": [
       "        abv   ibu    id                  name                           style  \\\n",
       "0     0.050   NaN  1436              Pub Beer             American Pale Lager   \n",
       "1     0.066   NaN  2265           Devil's Cup         American Pale Ale (APA)   \n",
       "2     0.071   NaN  2264   Rise of the Phoenix                    American IPA   \n",
       "3     0.090   NaN  2263              Sinister  American Double / Imperial IPA   \n",
       "4     0.075   NaN  2262         Sex and Candy                    American IPA   \n",
       "...     ...   ...   ...                   ...                             ...   \n",
       "2405  0.067  45.0   928             Belgorado                     Belgian IPA   \n",
       "2406  0.052   NaN   807         Rail Yard Ale        American Amber / Red Ale   \n",
       "2407  0.055   NaN   620       B3K Black Lager                     Schwarzbier   \n",
       "2408  0.055  40.0   145   Silverback Pale Ale         American Pale Ale (APA)   \n",
       "2409  0.052   NaN    84  Rail Yard Ale (2009)        American Amber / Red Ale   \n",
       "\n",
       "      brewery_id  ounces  \n",
       "0            408    12.0  \n",
       "1            177    12.0  \n",
       "2            177    12.0  \n",
       "3            177    12.0  \n",
       "4            177    12.0  \n",
       "...          ...     ...  \n",
       "2405         424    12.0  \n",
       "2406         424    12.0  \n",
       "2407         424    12.0  \n",
       "2408         424    12.0  \n",
       "2409         424    12.0  \n",
       "\n",
       "[2410 rows x 7 columns]"
      ]
     },
     "execution_count": 28,
     "metadata": {},
     "output_type": "execute_result"
    }
   ],
   "source": [
    "birras"
   ]
  },
  {
   "cell_type": "code",
   "execution_count": null,
   "metadata": {},
   "outputs": [
    {
     "data": {
      "application/vnd.microsoft.datawrangler.viewer.v0+json": {
       "columns": [
        {
         "name": "index",
         "rawType": "int64",
         "type": "integer"
        },
        {
         "name": "abv",
         "rawType": "float64",
         "type": "float"
        },
        {
         "name": "ibu",
         "rawType": "float64",
         "type": "float"
        },
        {
         "name": "id",
         "rawType": "int64",
         "type": "integer"
        },
        {
         "name": "name",
         "rawType": "object",
         "type": "string"
        },
        {
         "name": "style",
         "rawType": "object",
         "type": "unknown"
        },
        {
         "name": "brewery_id",
         "rawType": "int64",
         "type": "integer"
        },
        {
         "name": "ounces",
         "rawType": "float64",
         "type": "float"
        },
        {
         "name": "brewery_name",
         "rawType": "object",
         "type": "string"
        },
        {
         "name": "city",
         "rawType": "object",
         "type": "string"
        },
        {
         "name": "state",
         "rawType": "object",
         "type": "string"
        }
       ],
       "conversionMethod": "pd.DataFrame",
       "ref": "428518a6-3263-433f-b7fa-a7054a029695",
       "rows": [
        [
         "0",
         "0.045",
         "50.0",
         "2692",
         "Get Together",
         "American IPA",
         "0",
         "16.0",
         "NorthGate Brewing ",
         "Minneapolis",
         " MN"
        ],
        [
         "1",
         "0.049",
         "26.0",
         "2691",
         "Maggie's Leap",
         "Milk / Sweet Stout",
         "0",
         "16.0",
         "NorthGate Brewing ",
         "Minneapolis",
         " MN"
        ],
        [
         "2",
         "0.048",
         "19.0",
         "2690",
         "Wall's End",
         "English Brown Ale",
         "0",
         "16.0",
         "NorthGate Brewing ",
         "Minneapolis",
         " MN"
        ],
        [
         "3",
         "0.06",
         "38.0",
         "2689",
         "Pumpion",
         "Pumpkin Ale",
         "0",
         "16.0",
         "NorthGate Brewing ",
         "Minneapolis",
         " MN"
        ],
        [
         "4",
         "0.06",
         "25.0",
         "2688",
         "Stronghold",
         "American Porter",
         "0",
         "16.0",
         "NorthGate Brewing ",
         "Minneapolis",
         " MN"
        ],
        [
         "5",
         "0.0559999999999999",
         "47.0",
         "2687",
         "Parapet ESB",
         "Extra Special / Strong Bitter (ESB)",
         "0",
         "16.0",
         "NorthGate Brewing ",
         "Minneapolis",
         " MN"
        ],
        [
         "6",
         "0.08",
         "68.0",
         "2686",
         "Citra Ass Down",
         "American Double / Imperial IPA",
         "1",
         "16.0",
         "Against the Grain Brewery",
         "Louisville",
         " KY"
        ],
        [
         "7",
         "0.125",
         "80.0",
         "2685",
         "London Balling",
         "English Barleywine",
         "1",
         "16.0",
         "Against the Grain Brewery",
         "Louisville",
         " KY"
        ],
        [
         "8",
         "0.077",
         "25.0",
         "2684",
         "35 K",
         "Milk / Sweet Stout",
         "1",
         "16.0",
         "Against the Grain Brewery",
         "Louisville",
         " KY"
        ],
        [
         "9",
         "0.042",
         "42.0",
         "2683",
         "A Beer",
         "American Pale Ale (APA)",
         "1",
         "16.0",
         "Against the Grain Brewery",
         "Louisville",
         " KY"
        ],
        [
         "10",
         "0.05",
         "25.0",
         "2682",
         "Rules are Rules",
         "German Pilsener",
         "1",
         "16.0",
         "Against the Grain Brewery",
         "Louisville",
         " KY"
        ],
        [
         "11",
         "0.066",
         "21.0",
         "2681",
         "Flesh Gourd'n",
         "Pumpkin Ale",
         "1",
         "16.0",
         "Against the Grain Brewery",
         "Louisville",
         " KY"
        ],
        [
         "12",
         "0.04",
         "13.0",
         "2680",
         "Sho'nuff",
         "Belgian Pale Ale",
         "1",
         "16.0",
         "Against the Grain Brewery",
         "Louisville",
         " KY"
        ],
        [
         "13",
         "0.055",
         "17.0",
         "2679",
         "Bloody Show",
         "American Pilsner",
         "1",
         "16.0",
         "Against the Grain Brewery",
         "Louisville",
         " KY"
        ],
        [
         "14",
         "0.076",
         "68.0",
         "2678",
         "Rico Sauvin",
         "American Double / Imperial IPA",
         "1",
         "16.0",
         "Against the Grain Brewery",
         "Louisville",
         " KY"
        ],
        [
         "15",
         "0.051",
         "38.0",
         "2677",
         "Coq de la Marche",
         "Saison / Farmhouse Ale",
         "1",
         "16.0",
         "Against the Grain Brewery",
         "Louisville",
         " KY"
        ],
        [
         "16",
         "0.065",
         null,
         "2676",
         "Kamen Knuddeln",
         "American Wild Ale",
         "1",
         "16.0",
         "Against the Grain Brewery",
         "Louisville",
         " KY"
        ],
        [
         "17",
         "0.06",
         "65.0",
         "2675",
         "Pile of Face",
         "American IPA",
         "1",
         "16.0",
         "Against the Grain Brewery",
         "Louisville",
         " KY"
        ],
        [
         "18",
         "0.05",
         "20.0",
         "2674",
         "The Brown Note",
         "English Brown Ale",
         "1",
         "16.0",
         "Against the Grain Brewery",
         "Louisville",
         " KY"
        ],
        [
         "19",
         "0.052",
         "18.0",
         "2673",
         "House Lager",
         "Keller Bier / Zwickel Bier",
         "2",
         "16.0",
         "Jack's Abby Craft Lagers",
         "Framingham",
         " MA"
        ],
        [
         "20",
         "0.048",
         "15.0",
         "2672",
         "Leisure Time",
         "American Pale Lager",
         "2",
         "12.0",
         "Jack's Abby Craft Lagers",
         "Framingham",
         " MA"
        ],
        [
         "21",
         "0.072",
         "80.0",
         "2671",
         "Excess IPL",
         "American India Pale Lager",
         "2",
         "16.0",
         "Jack's Abby Craft Lagers",
         "Framingham",
         " MA"
        ],
        [
         "22",
         "0.067",
         "65.0",
         "2670",
         "Hoponius Union",
         "American India Pale Lager",
         "2",
         "12.0",
         "Jack's Abby Craft Lagers",
         "Framingham",
         " MA"
        ],
        [
         "23",
         "0.049",
         "45.0",
         "2669",
         "Calyptra",
         "American India Pale Lager",
         "2",
         "12.0",
         "Jack's Abby Craft Lagers",
         "Framingham",
         " MA"
        ],
        [
         "24",
         "0.08",
         "100.0",
         "2668",
         "Habitus (2014)",
         "American Double / Imperial IPA",
         "3",
         "16.0",
         "Mike Hess Brewing Company",
         "San Diego",
         " CA"
        ],
        [
         "25",
         "0.075",
         "85.0",
         "2667",
         "Solis",
         "American IPA",
         "3",
         "16.0",
         "Mike Hess Brewing Company",
         "San Diego",
         " CA"
        ],
        [
         "26",
         "0.06",
         "24.0",
         "2666",
         "Jucundus",
         "Wheat Ale",
         "3",
         "16.0",
         "Mike Hess Brewing Company",
         "San Diego",
         " CA"
        ],
        [
         "27",
         "0.08",
         "100.0",
         "2664",
         "Habitus",
         "American Double / Imperial IPA",
         "3",
         "16.0",
         "Mike Hess Brewing Company",
         "San Diego",
         " CA"
        ],
        [
         "28",
         "0.063",
         "30.0",
         "2663",
         "Grazias",
         "Cream Ale",
         "3",
         "16.0",
         "Mike Hess Brewing Company",
         "San Diego",
         " CA"
        ],
        [
         "29",
         "0.0579999999999999",
         "28.0",
         "2662",
         "Claritas",
         "Kölsch",
         "3",
         "16.0",
         "Mike Hess Brewing Company",
         "San Diego",
         " CA"
        ],
        [
         "30",
         "0.047",
         "19.0",
         "2661",
         "Park",
         "American Pale Wheat Ale",
         "4",
         "12.0",
         "Fort Point Beer Company",
         "San Francisco",
         " CA"
        ],
        [
         "31",
         "0.0559999999999999",
         "16.0",
         "2660",
         "Westfalia",
         "American Amber / Red Ale",
         "4",
         "12.0",
         "Fort Point Beer Company",
         "San Francisco",
         " CA"
        ],
        [
         "32",
         "0.046",
         "17.0",
         "2659",
         "KSA",
         "Kölsch",
         "4",
         "12.0",
         "Fort Point Beer Company",
         "San Francisco",
         " CA"
        ],
        [
         "33",
         "0.063",
         "42.0",
         "2658",
         "Villager",
         "American IPA",
         "4",
         "12.0",
         "Fort Point Beer Company",
         "San Francisco",
         " CA"
        ],
        [
         "34",
         "0.093",
         null,
         "2657",
         "Blackbeard",
         "American Double / Imperial Stout",
         "5",
         "12.0",
         "COAST Brewing Company",
         "Charleston",
         " SC"
        ],
        [
         "35",
         "0.062",
         null,
         "2656",
         "Rye Knot",
         "American Brown Ale",
         "5",
         "12.0",
         "COAST Brewing Company",
         "Charleston",
         " SC"
        ],
        [
         "36",
         "0.06",
         null,
         "2655",
         "Dead Arm",
         "American Pale Ale (APA)",
         "5",
         "12.0",
         "COAST Brewing Company",
         "Charleston",
         " SC"
        ],
        [
         "37",
         "0.048",
         null,
         "2654",
         "32°/50° Kölsch ",
         "Kölsch",
         "5",
         "16.0",
         "COAST Brewing Company",
         "Charleston",
         " SC"
        ],
        [
         "38",
         "0.077",
         null,
         "2653",
         "HopArt",
         "American IPA",
         "5",
         "16.0",
         "COAST Brewing Company",
         "Charleston",
         " SC"
        ],
        [
         "39",
         "0.0969999999999999",
         null,
         "2652",
         "Boy King",
         "American Double / Imperial IPA",
         "5",
         "16.0",
         "COAST Brewing Company",
         "Charleston",
         " SC"
        ],
        [
         "40",
         "0.05",
         null,
         "2650",
         "Denver Pale Ale (Artist Series No. 1)",
         "American Pale Ale (APA)",
         "6",
         "12.0",
         "Great Divide Brewing Company",
         "Denver",
         " CO"
        ],
        [
         "41",
         "0.087",
         null,
         "2649",
         "Hibernation Ale",
         "Old Ale",
         "6",
         "12.0",
         "Great Divide Brewing Company",
         "Denver",
         " CO"
        ],
        [
         "42",
         "0.061",
         null,
         "2648",
         "Whitewater",
         "American Pale Wheat Ale",
         "6",
         "12.0",
         "Great Divide Brewing Company",
         "Denver",
         " CO"
        ],
        [
         "43",
         "0.071",
         null,
         "2647",
         "Rumble",
         "American IPA",
         "6",
         "12.0",
         "Great Divide Brewing Company",
         "Denver",
         " CO"
        ],
        [
         "44",
         "0.083",
         null,
         "2646",
         "Orabelle",
         "Tripel",
         "6",
         "12.0",
         "Great Divide Brewing Company",
         "Denver",
         " CO"
        ],
        [
         "45",
         "0.05",
         null,
         "2645",
         "Lasso",
         "American IPA",
         "6",
         "12.0",
         "Great Divide Brewing Company",
         "Denver",
         " CO"
        ],
        [
         "46",
         "0.095",
         "75.0",
         "2644",
         "Yeti  Imperial Stout",
         "Russian Imperial Stout",
         "6",
         "12.0",
         "Great Divide Brewing Company",
         "Denver",
         " CO"
        ],
        [
         "47",
         "0.073",
         null,
         "2643",
         "Colette",
         "Saison / Farmhouse Ale",
         "6",
         "12.0",
         "Great Divide Brewing Company",
         "Denver",
         " CO"
        ],
        [
         "48",
         "0.071",
         null,
         "2642",
         "Titan IPA",
         "American IPA",
         "6",
         "12.0",
         "Great Divide Brewing Company",
         "Denver",
         " CO"
        ],
        [
         "49",
         "0.065",
         "35.0",
         "2640",
         "Peck's Porter",
         "American Porter",
         "7",
         "16.0",
         "Tapistry Brewing",
         "Bridgman",
         " MI"
        ]
       ],
       "shape": {
        "columns": 10,
        "rows": 2410
       }
      },
      "text/html": [
       "<div>\n",
       "<style scoped>\n",
       "    .dataframe tbody tr th:only-of-type {\n",
       "        vertical-align: middle;\n",
       "    }\n",
       "\n",
       "    .dataframe tbody tr th {\n",
       "        vertical-align: top;\n",
       "    }\n",
       "\n",
       "    .dataframe thead th {\n",
       "        text-align: right;\n",
       "    }\n",
       "</style>\n",
       "<table border=\"1\" class=\"dataframe\">\n",
       "  <thead>\n",
       "    <tr style=\"text-align: right;\">\n",
       "      <th></th>\n",
       "      <th>abv</th>\n",
       "      <th>ibu</th>\n",
       "      <th>id</th>\n",
       "      <th>name</th>\n",
       "      <th>style</th>\n",
       "      <th>brewery_id</th>\n",
       "      <th>ounces</th>\n",
       "      <th>brewery_name</th>\n",
       "      <th>city</th>\n",
       "      <th>state</th>\n",
       "    </tr>\n",
       "  </thead>\n",
       "  <tbody>\n",
       "    <tr>\n",
       "      <th>0</th>\n",
       "      <td>0.045</td>\n",
       "      <td>50.0</td>\n",
       "      <td>2692</td>\n",
       "      <td>Get Together</td>\n",
       "      <td>American IPA</td>\n",
       "      <td>0</td>\n",
       "      <td>16.0</td>\n",
       "      <td>NorthGate Brewing</td>\n",
       "      <td>Minneapolis</td>\n",
       "      <td>MN</td>\n",
       "    </tr>\n",
       "    <tr>\n",
       "      <th>1</th>\n",
       "      <td>0.049</td>\n",
       "      <td>26.0</td>\n",
       "      <td>2691</td>\n",
       "      <td>Maggie's Leap</td>\n",
       "      <td>Milk / Sweet Stout</td>\n",
       "      <td>0</td>\n",
       "      <td>16.0</td>\n",
       "      <td>NorthGate Brewing</td>\n",
       "      <td>Minneapolis</td>\n",
       "      <td>MN</td>\n",
       "    </tr>\n",
       "    <tr>\n",
       "      <th>2</th>\n",
       "      <td>0.048</td>\n",
       "      <td>19.0</td>\n",
       "      <td>2690</td>\n",
       "      <td>Wall's End</td>\n",
       "      <td>English Brown Ale</td>\n",
       "      <td>0</td>\n",
       "      <td>16.0</td>\n",
       "      <td>NorthGate Brewing</td>\n",
       "      <td>Minneapolis</td>\n",
       "      <td>MN</td>\n",
       "    </tr>\n",
       "    <tr>\n",
       "      <th>3</th>\n",
       "      <td>0.060</td>\n",
       "      <td>38.0</td>\n",
       "      <td>2689</td>\n",
       "      <td>Pumpion</td>\n",
       "      <td>Pumpkin Ale</td>\n",
       "      <td>0</td>\n",
       "      <td>16.0</td>\n",
       "      <td>NorthGate Brewing</td>\n",
       "      <td>Minneapolis</td>\n",
       "      <td>MN</td>\n",
       "    </tr>\n",
       "    <tr>\n",
       "      <th>4</th>\n",
       "      <td>0.060</td>\n",
       "      <td>25.0</td>\n",
       "      <td>2688</td>\n",
       "      <td>Stronghold</td>\n",
       "      <td>American Porter</td>\n",
       "      <td>0</td>\n",
       "      <td>16.0</td>\n",
       "      <td>NorthGate Brewing</td>\n",
       "      <td>Minneapolis</td>\n",
       "      <td>MN</td>\n",
       "    </tr>\n",
       "    <tr>\n",
       "      <th>...</th>\n",
       "      <td>...</td>\n",
       "      <td>...</td>\n",
       "      <td>...</td>\n",
       "      <td>...</td>\n",
       "      <td>...</td>\n",
       "      <td>...</td>\n",
       "      <td>...</td>\n",
       "      <td>...</td>\n",
       "      <td>...</td>\n",
       "      <td>...</td>\n",
       "    </tr>\n",
       "    <tr>\n",
       "      <th>2405</th>\n",
       "      <td>0.049</td>\n",
       "      <td>NaN</td>\n",
       "      <td>52</td>\n",
       "      <td>Heinnieweisse Weissebier</td>\n",
       "      <td>Hefeweizen</td>\n",
       "      <td>556</td>\n",
       "      <td>12.0</td>\n",
       "      <td>Butternuts Beer and Ale</td>\n",
       "      <td>Garrattsville</td>\n",
       "      <td>NY</td>\n",
       "    </tr>\n",
       "    <tr>\n",
       "      <th>2406</th>\n",
       "      <td>0.068</td>\n",
       "      <td>NaN</td>\n",
       "      <td>51</td>\n",
       "      <td>Snapperhead IPA</td>\n",
       "      <td>American IPA</td>\n",
       "      <td>556</td>\n",
       "      <td>12.0</td>\n",
       "      <td>Butternuts Beer and Ale</td>\n",
       "      <td>Garrattsville</td>\n",
       "      <td>NY</td>\n",
       "    </tr>\n",
       "    <tr>\n",
       "      <th>2407</th>\n",
       "      <td>0.049</td>\n",
       "      <td>NaN</td>\n",
       "      <td>50</td>\n",
       "      <td>Moo Thunder Stout</td>\n",
       "      <td>Milk / Sweet Stout</td>\n",
       "      <td>556</td>\n",
       "      <td>12.0</td>\n",
       "      <td>Butternuts Beer and Ale</td>\n",
       "      <td>Garrattsville</td>\n",
       "      <td>NY</td>\n",
       "    </tr>\n",
       "    <tr>\n",
       "      <th>2408</th>\n",
       "      <td>0.043</td>\n",
       "      <td>NaN</td>\n",
       "      <td>49</td>\n",
       "      <td>Porkslap Pale Ale</td>\n",
       "      <td>American Pale Ale (APA)</td>\n",
       "      <td>556</td>\n",
       "      <td>12.0</td>\n",
       "      <td>Butternuts Beer and Ale</td>\n",
       "      <td>Garrattsville</td>\n",
       "      <td>NY</td>\n",
       "    </tr>\n",
       "    <tr>\n",
       "      <th>2409</th>\n",
       "      <td>0.049</td>\n",
       "      <td>NaN</td>\n",
       "      <td>30</td>\n",
       "      <td>Urban Wilderness Pale Ale</td>\n",
       "      <td>English Pale Ale</td>\n",
       "      <td>557</td>\n",
       "      <td>12.0</td>\n",
       "      <td>Sleeping Lady Brewing Company</td>\n",
       "      <td>Anchorage</td>\n",
       "      <td>AK</td>\n",
       "    </tr>\n",
       "  </tbody>\n",
       "</table>\n",
       "<p>2410 rows × 10 columns</p>\n",
       "</div>"
      ],
      "text/plain": [
       "        abv   ibu    id                       name                    style  \\\n",
       "0     0.045  50.0  2692               Get Together             American IPA   \n",
       "1     0.049  26.0  2691              Maggie's Leap       Milk / Sweet Stout   \n",
       "2     0.048  19.0  2690                 Wall's End        English Brown Ale   \n",
       "3     0.060  38.0  2689                    Pumpion              Pumpkin Ale   \n",
       "4     0.060  25.0  2688                 Stronghold          American Porter   \n",
       "...     ...   ...   ...                        ...                      ...   \n",
       "2405  0.049   NaN    52   Heinnieweisse Weissebier               Hefeweizen   \n",
       "2406  0.068   NaN    51            Snapperhead IPA             American IPA   \n",
       "2407  0.049   NaN    50          Moo Thunder Stout       Milk / Sweet Stout   \n",
       "2408  0.043   NaN    49          Porkslap Pale Ale  American Pale Ale (APA)   \n",
       "2409  0.049   NaN    30  Urban Wilderness Pale Ale         English Pale Ale   \n",
       "\n",
       "      brewery_id  ounces                   brewery_name           city state  \n",
       "0              0    16.0             NorthGate Brewing     Minneapolis    MN  \n",
       "1              0    16.0             NorthGate Brewing     Minneapolis    MN  \n",
       "2              0    16.0             NorthGate Brewing     Minneapolis    MN  \n",
       "3              0    16.0             NorthGate Brewing     Minneapolis    MN  \n",
       "4              0    16.0             NorthGate Brewing     Minneapolis    MN  \n",
       "...          ...     ...                            ...            ...   ...  \n",
       "2405         556    12.0        Butternuts Beer and Ale  Garrattsville    NY  \n",
       "2406         556    12.0        Butternuts Beer and Ale  Garrattsville    NY  \n",
       "2407         556    12.0        Butternuts Beer and Ale  Garrattsville    NY  \n",
       "2408         556    12.0        Butternuts Beer and Ale  Garrattsville    NY  \n",
       "2409         557    12.0  Sleeping Lady Brewing Company      Anchorage    AK  \n",
       "\n",
       "[2410 rows x 10 columns]"
      ]
     },
     "execution_count": 29,
     "metadata": {},
     "output_type": "execute_result"
    }
   ],
   "source": [
    "merged_birras = pd.merge(birras,breweries, how=\"outer\") # Hacemos un simple merge e indicamos que conserve todos los valores\n",
    "merged_birras"
   ]
  },
  {
   "attachments": {},
   "cell_type": "markdown",
   "metadata": {},
   "source": [
    "## Ejercicio 19\n",
    "1. ¿Cuántos estados diferentes hay?\n",
    "2. ¿Y ciudades diferentes?\n",
    "3. ¿Cuántas cervecerías hay?"
   ]
  },
  {
   "cell_type": "code",
   "execution_count": null,
   "metadata": {},
   "outputs": [
    {
     "data": {
      "text/plain": [
       "51"
      ]
     },
     "execution_count": 30,
     "metadata": {},
     "output_type": "execute_result"
    }
   ],
   "source": [
    "merged_birras[\"state\"].nunique() # con nunique podemos saber el número de estados, ciudades y cervercerías diferentes en este nuevo dataset"
   ]
  },
  {
   "cell_type": "code",
   "execution_count": 31,
   "metadata": {},
   "outputs": [
    {
     "data": {
      "text/plain": [
       "384"
      ]
     },
     "execution_count": 31,
     "metadata": {},
     "output_type": "execute_result"
    }
   ],
   "source": [
    "merged_birras[\"city\"].nunique()"
   ]
  },
  {
   "cell_type": "code",
   "execution_count": 32,
   "metadata": {},
   "outputs": [
    {
     "data": {
      "text/plain": [
       "551"
      ]
     },
     "execution_count": 32,
     "metadata": {},
     "output_type": "execute_result"
    }
   ],
   "source": [
    "merged_birras[\"brewery_name\"].nunique()"
   ]
  },
  {
   "attachments": {},
   "cell_type": "markdown",
   "metadata": {},
   "source": [
    "## Ejercicio 20\n",
    "Agrupa por estado y ciudad, la media, mediana y máximo nivel de alcohol"
   ]
  },
  {
   "cell_type": "code",
   "execution_count": null,
   "metadata": {},
   "outputs": [
    {
     "data": {
      "application/vnd.microsoft.datawrangler.viewer.v0+json": {
       "columns": [
        {
         "name": "('state', 'city')",
         "rawType": "object",
         "type": "unknown"
        },
        {
         "name": "('abv', 'mean')",
         "rawType": "float64",
         "type": "float"
        },
        {
         "name": "('abv', 'median')",
         "rawType": "float64",
         "type": "float"
        },
        {
         "name": "('abv', 'max')",
         "rawType": "float64",
         "type": "float"
        }
       ],
       "conversionMethod": "pd.DataFrame",
       "ref": "1b48eb86-d4dc-4218-a146-6f75ae80bb76",
       "rows": [
        [
         "(' AK', 'Anchorage')",
         "0.0542",
         "0.052",
         "0.063"
        ],
        [
         "(' AK', 'Juneau')",
         "0.053",
         "0.053",
         "0.053"
        ],
        [
         "(' AK', 'Soldotna')",
         "0.058499999999999955",
         "0.0579999999999999",
         "0.068"
        ],
        [
         "(' AK', 'Talkeetna')",
         "0.05949999999999995",
         "0.05849999999999995",
         "0.065"
        ],
        [
         "(' AL', 'Birmingham')",
         "0.06539999999999996",
         "0.06",
         "0.093"
        ],
        [
         "(' AL', 'Gadsden')",
         "0.06",
         "0.06",
         "0.06"
        ],
        [
         "(' AL', 'Huntsville')",
         "0.057666666666666665",
         "0.051",
         "0.072"
        ],
        [
         "(' AR', 'Rogers')",
         "0.04",
         "0.04",
         "0.04"
        ],
        [
         "(' AR', 'Springdale')",
         "0.055",
         "0.0545",
         "0.061"
        ],
        [
         "(' AZ', 'Chandler')",
         "0.06315789473684212",
         "0.055",
         "0.095"
        ],
        [
         "(' AZ', 'Flagstaff')",
         "0.055199999999999985",
         "0.054",
         "0.061"
        ],
        [
         "(' AZ', 'Lake Havasu City')",
         "0.06616666666666665",
         "0.06499999999999995",
         "0.085"
        ],
        [
         "(' AZ', 'Phoenix')",
         "0.061",
         "0.061",
         "0.061"
        ],
        [
         "(' AZ', 'Prescott')",
         null,
         null,
         null
        ],
        [
         "(' AZ', 'Tempe')",
         "0.05485714285714286",
         "0.052",
         "0.067"
        ],
        [
         "(' AZ', 'Tucson')",
         "0.058666666666666666",
         "0.06",
         "0.071"
        ],
        [
         "(' AZ', 'Williams')",
         "0.052",
         "0.052",
         "0.054"
        ],
        [
         "(' CA', 'Belmont')",
         "0.06633333333333333",
         "0.071",
         "0.074"
        ],
        [
         "(' CA', 'Boonville')",
         "0.05688888888888885",
         "0.057",
         "0.07"
        ],
        [
         "(' CA', 'Buellton')",
         "0.04933333333333333",
         "0.048",
         "0.055"
        ],
        [
         "(' CA', 'Carlsbad')",
         "0.05449999999999998",
         "0.05249999999999995",
         "0.068"
        ],
        [
         "(' CA', 'Chico')",
         "0.058444444444444424",
         "0.0559999999999999",
         "0.072"
        ],
        [
         "(' CA', 'Claremont')",
         "0.067",
         "0.067",
         "0.067"
        ],
        [
         "(' CA', 'Diamond Springs')",
         "0.05",
         "0.05",
         "0.05"
        ],
        [
         "(' CA', 'Half Moon Bay')",
         "0.037",
         "0.037",
         "0.037"
        ],
        [
         "(' CA', 'Los Angeles')",
         "0.06533333333333333",
         "0.059",
         "0.094"
        ],
        [
         "(' CA', 'Mammoth Lakes')",
         "0.0485",
         "0.0435",
         "0.065"
        ],
        [
         "(' CA', 'Mill Valley')",
         "0.07533333333333332",
         "0.076",
         "0.088"
        ],
        [
         "(' CA', 'Paso Robles')",
         "0.0534",
         "0.047",
         "0.075"
        ],
        [
         "(' CA', 'Redlands')",
         "0.0445",
         "0.0445",
         "0.046"
        ],
        [
         "(' CA', 'Sacramento')",
         "0.061199999999999956",
         "0.0559999999999999",
         "0.073"
        ],
        [
         "(' CA', 'San Diego')",
         "0.06176190476190476",
         "0.0579999999999999",
         "0.099"
        ],
        [
         "(' CA', 'San Francisco')",
         "0.06343749999999998",
         "0.061",
         "0.099"
        ],
        [
         "(' CA', 'San Luis Obispo')",
         "0.07325",
         "0.0735",
         "0.095"
        ],
        [
         "(' CA', 'Santa Cruz')",
         "0.06477777777777777",
         "0.07",
         "0.089"
        ],
        [
         "(' CA', 'Santee')",
         "0.08",
         "0.08",
         "0.099"
        ],
        [
         "(' CA', 'South San Francisco')",
         "0.052",
         "0.052",
         "0.052"
        ],
        [
         "(' CA', 'Temecula')",
         "0.05559999999999998",
         "0.05",
         "0.075"
        ],
        [
         "(' CA', 'Torrance')",
         "0.065",
         "0.055",
         "0.099"
        ],
        [
         "(' CA', 'Ukiah')",
         "0.055",
         "0.055",
         "0.055"
        ],
        [
         "(' CA', 'Vista')",
         "0.052",
         "0.052",
         "0.052"
        ],
        [
         "(' CO', 'Arvada')",
         "0.061285714285714284",
         "0.051",
         "0.092"
        ],
        [
         "(' CO', 'Aspen')",
         "0.06299999999999994",
         "0.06299999999999994",
         "0.07"
        ],
        [
         "(' CO', 'Aurora')",
         "0.05799999999999999",
         "0.06149999999999995",
         "0.066"
        ],
        [
         "(' CO', 'Boulder')",
         "0.06804878048780487",
         "0.067",
         "0.128"
        ],
        [
         "(' CO', 'Broomfield')",
         "0.07099999999999998",
         "0.07400000000000001",
         "0.095"
        ],
        [
         "(' CO', 'Buena Vista')",
         "0.059428571428571435",
         "0.055",
         "0.078"
        ],
        [
         "(' CO', 'Colorado Springs')",
         "0.052",
         "0.052",
         "0.052"
        ],
        [
         "(' CO', 'Denver')",
         "0.06325",
         "0.0615",
         "0.099"
        ],
        [
         "(' CO', 'Dillon')",
         "0.05999999999999998",
         "0.059",
         "0.069"
        ]
       ],
       "shape": {
        "columns": 3,
        "rows": 401
       }
      },
      "text/html": [
       "<div>\n",
       "<style scoped>\n",
       "    .dataframe tbody tr th:only-of-type {\n",
       "        vertical-align: middle;\n",
       "    }\n",
       "\n",
       "    .dataframe tbody tr th {\n",
       "        vertical-align: top;\n",
       "    }\n",
       "\n",
       "    .dataframe thead tr th {\n",
       "        text-align: left;\n",
       "    }\n",
       "\n",
       "    .dataframe thead tr:last-of-type th {\n",
       "        text-align: right;\n",
       "    }\n",
       "</style>\n",
       "<table border=\"1\" class=\"dataframe\">\n",
       "  <thead>\n",
       "    <tr>\n",
       "      <th></th>\n",
       "      <th></th>\n",
       "      <th colspan=\"3\" halign=\"left\">abv</th>\n",
       "    </tr>\n",
       "    <tr>\n",
       "      <th></th>\n",
       "      <th></th>\n",
       "      <th>mean</th>\n",
       "      <th>median</th>\n",
       "      <th>max</th>\n",
       "    </tr>\n",
       "    <tr>\n",
       "      <th>state</th>\n",
       "      <th>city</th>\n",
       "      <th></th>\n",
       "      <th></th>\n",
       "      <th></th>\n",
       "    </tr>\n",
       "  </thead>\n",
       "  <tbody>\n",
       "    <tr>\n",
       "      <th rowspan=\"4\" valign=\"top\">AK</th>\n",
       "      <th>Anchorage</th>\n",
       "      <td>0.054200</td>\n",
       "      <td>0.0520</td>\n",
       "      <td>0.063</td>\n",
       "    </tr>\n",
       "    <tr>\n",
       "      <th>Juneau</th>\n",
       "      <td>0.053000</td>\n",
       "      <td>0.0530</td>\n",
       "      <td>0.053</td>\n",
       "    </tr>\n",
       "    <tr>\n",
       "      <th>Soldotna</th>\n",
       "      <td>0.058500</td>\n",
       "      <td>0.0580</td>\n",
       "      <td>0.068</td>\n",
       "    </tr>\n",
       "    <tr>\n",
       "      <th>Talkeetna</th>\n",
       "      <td>0.059500</td>\n",
       "      <td>0.0585</td>\n",
       "      <td>0.065</td>\n",
       "    </tr>\n",
       "    <tr>\n",
       "      <th>AL</th>\n",
       "      <th>Birmingham</th>\n",
       "      <td>0.065400</td>\n",
       "      <td>0.0600</td>\n",
       "      <td>0.093</td>\n",
       "    </tr>\n",
       "    <tr>\n",
       "      <th>...</th>\n",
       "      <th>...</th>\n",
       "      <td>...</td>\n",
       "      <td>...</td>\n",
       "      <td>...</td>\n",
       "    </tr>\n",
       "    <tr>\n",
       "      <th>WI</th>\n",
       "      <th>Wilson</th>\n",
       "      <td>0.055000</td>\n",
       "      <td>0.0550</td>\n",
       "      <td>0.055</td>\n",
       "    </tr>\n",
       "    <tr>\n",
       "      <th>WV</th>\n",
       "      <th>Lewisburg</th>\n",
       "      <td>0.062000</td>\n",
       "      <td>0.0620</td>\n",
       "      <td>0.067</td>\n",
       "    </tr>\n",
       "    <tr>\n",
       "      <th rowspan=\"3\" valign=\"top\">WY</th>\n",
       "      <th>Jackson</th>\n",
       "      <td>0.054857</td>\n",
       "      <td>0.0520</td>\n",
       "      <td>0.068</td>\n",
       "    </tr>\n",
       "    <tr>\n",
       "      <th>Pinedale</th>\n",
       "      <td>0.061000</td>\n",
       "      <td>0.0610</td>\n",
       "      <td>0.072</td>\n",
       "    </tr>\n",
       "    <tr>\n",
       "      <th>Sheridan</th>\n",
       "      <td>0.052833</td>\n",
       "      <td>0.0480</td>\n",
       "      <td>0.070</td>\n",
       "    </tr>\n",
       "  </tbody>\n",
       "</table>\n",
       "<p>401 rows × 3 columns</p>\n",
       "</div>"
      ],
      "text/plain": [
       "                       abv               \n",
       "                      mean  median    max\n",
       "state city                               \n",
       "AK    Anchorage   0.054200  0.0520  0.063\n",
       "      Juneau      0.053000  0.0530  0.053\n",
       "      Soldotna    0.058500  0.0580  0.068\n",
       "      Talkeetna   0.059500  0.0585  0.065\n",
       "AL    Birmingham  0.065400  0.0600  0.093\n",
       "...                    ...     ...    ...\n",
       "WI    Wilson      0.055000  0.0550  0.055\n",
       "WV    Lewisburg   0.062000  0.0620  0.067\n",
       "WY    Jackson     0.054857  0.0520  0.068\n",
       "      Pinedale    0.061000  0.0610  0.072\n",
       "      Sheridan    0.052833  0.0480  0.070\n",
       "\n",
       "[401 rows x 3 columns]"
      ]
     },
     "execution_count": 33,
     "metadata": {},
     "output_type": "execute_result"
    }
   ],
   "source": [
    "merged_birras.groupby([\"state\",\"city\"])[[\"abv\"]].aggregate([\"mean\",\"median\",\"max\"]) # Agrupamos los datos estadi´sticos deseados por estado y ciudad con groupby"
   ]
  },
  {
   "attachments": {},
   "cell_type": "markdown",
   "metadata": {},
   "source": [
    "## Ejercicio 21\n",
    "¿Cuáles son las cervezas más amargas que se consumen en Indiana, estado = `IN`?"
   ]
  },
  {
   "cell_type": "code",
   "execution_count": null,
   "metadata": {},
   "outputs": [
    {
     "data": {
      "application/vnd.microsoft.datawrangler.viewer.v0+json": {
       "columns": [
        {
         "name": "index",
         "rawType": "int64",
         "type": "integer"
        },
        {
         "name": "abv",
         "rawType": "float64",
         "type": "float"
        },
        {
         "name": "ibu",
         "rawType": "float64",
         "type": "float"
        },
        {
         "name": "id",
         "rawType": "int64",
         "type": "integer"
        },
        {
         "name": "name",
         "rawType": "object",
         "type": "string"
        },
        {
         "name": "style",
         "rawType": "object",
         "type": "string"
        },
        {
         "name": "brewery_id",
         "rawType": "int64",
         "type": "integer"
        },
        {
         "name": "ounces",
         "rawType": "float64",
         "type": "float"
        },
        {
         "name": "brewery_name",
         "rawType": "object",
         "type": "string"
        },
        {
         "name": "city",
         "rawType": "object",
         "type": "string"
        },
        {
         "name": "state",
         "rawType": "object",
         "type": "string"
        }
       ],
       "conversionMethod": "pd.DataFrame",
       "ref": "1bbb572b-3a3a-4139-adac-b0d6c02e1251",
       "rows": [
        [
         "138",
         "0.065",
         null,
         "2624",
         "Deflator",
         "Doppelbock",
         "16",
         "16.0",
         "Flat 12 Bierwerks",
         "Indianapolis",
         " IN"
        ],
        [
         "139",
         "0.05",
         "27.0",
         "2284",
         "Hinchtown Hammer Down",
         "American Blonde Ale",
         "16",
         "16.0",
         "Flat 12 Bierwerks",
         "Indianapolis",
         " IN"
        ],
        [
         "140",
         "0.06",
         "104.0",
         "1610",
         "Half Cycle IPA",
         "American IPA",
         "16",
         "16.0",
         "Flat 12 Bierwerks",
         "Indianapolis",
         " IN"
        ],
        [
         "141",
         "0.0579999999999999",
         "20.0",
         "2623",
         "Cafe Leche",
         "American Porter",
         "17",
         "16.0",
         "Tin Man Brewing Company",
         "Evansville",
         " IN"
        ],
        [
         "142",
         "0.052",
         "12.0",
         "2622",
         "Damascene Apricot Sour",
         "Fruit / Vegetable Beer",
         "17",
         "16.0",
         "Tin Man Brewing Company",
         "Evansville",
         " IN"
        ],
        [
         "143",
         "0.12",
         "90.0",
         "2621",
         "Csar",
         "Russian Imperial Stout",
         "17",
         "16.0",
         "Tin Man Brewing Company",
         "Evansville",
         " IN"
        ],
        [
         "144",
         "0.055",
         null,
         "1817",
         "Klingon Warnog Roggen Dunkel",
         "Roggenbier",
         "17",
         "16.0",
         "Tin Man Brewing Company",
         "Evansville",
         " IN"
        ],
        [
         "145",
         "0.085",
         "115.0",
         "1449",
         "Overlord Imperial IPA",
         "American Double / Imperial IPA",
         "17",
         "16.0",
         "Tin Man Brewing Company",
         "Evansville",
         " IN"
        ],
        [
         "146",
         "0.0579999999999999",
         "36.0",
         "951",
         "Alloy",
         "American IPA",
         "17",
         "16.0",
         "Tin Man Brewing Company",
         "Evansville",
         " IN"
        ],
        [
         "147",
         "0.051",
         "22.0",
         "950",
         "Rivet Irish Red Ale",
         "Irish Red Ale",
         "17",
         "16.0",
         "Tin Man Brewing Company",
         "Evansville",
         " IN"
        ],
        [
         "148",
         "0.052",
         "50.0",
         "949",
         "3 Gear Robust Porter",
         "American Porter",
         "17",
         "16.0",
         "Tin Man Brewing Company",
         "Evansville",
         " IN"
        ],
        [
         "149",
         "0.045",
         "35.0",
         "948",
         "Circuit Bohemian Pilsner",
         "Czech Pilsener",
         "17",
         "16.0",
         "Tin Man Brewing Company",
         "Evansville",
         " IN"
        ],
        [
         "150",
         "0.072",
         "75.0",
         "2620",
         "Saucy Intruder",
         "Rye Beer",
         "18",
         "16.0",
         "Black Acre Brewing Co.",
         "Indianapolis",
         " IN"
        ],
        [
         "151",
         "0.0579999999999999",
         null,
         "2619",
         "Insert Hop Reference",
         "American Pale Ale (APA)",
         "19",
         "16.0",
         "Brew Link Brewing",
         "Plainfield",
         " IN"
        ],
        [
         "152",
         "0.07",
         "46.0",
         "2618",
         "Thai.p.a",
         "American IPA",
         "20",
         "16.0",
         "Bare Hands Brewery",
         "Granger",
         " IN"
        ],
        [
         "153",
         "0.055",
         "64.0",
         "2617",
         "Citra Faced",
         "American Pale Wheat Ale",
         "21",
         "16.0",
         "Three Pints Brewing",
         "Martinsville",
         " IN"
        ],
        [
         "154",
         "0.055",
         "31.0",
         "2616",
         "Pole Barn Stout",
         "Oatmeal Stout",
         "21",
         "16.0",
         "Three Pints Brewing",
         "Martinsville",
         " IN"
        ],
        [
         "155",
         "0.054",
         "37.0",
         "2615",
         "Pale",
         "American Pale Ale (APA)",
         "21",
         "16.0",
         "Three Pints Brewing",
         "Martinsville",
         " IN"
        ],
        [
         "156",
         "0.053",
         "27.0",
         "2614",
         "Yoshi's Nectar",
         "California Common / Steam Beer",
         "21",
         "16.0",
         "Three Pints Brewing",
         "Martinsville",
         " IN"
        ],
        [
         "157",
         "0.055",
         null,
         "2613",
         "Feel Like Maplin' Love",
         "Oatmeal Stout",
         "22",
         "16.0",
         "Four Fathers Brewing ",
         "Valparaiso",
         " IN"
        ],
        [
         "158",
         "0.05",
         null,
         "2612",
         "Father's Beer",
         "Belgian Pale Ale",
         "22",
         "16.0",
         "Four Fathers Brewing ",
         "Valparaiso",
         " IN"
        ],
        [
         "159",
         "0.06",
         null,
         "2611",
         "The 26th",
         "American IPA",
         "22",
         "16.0",
         "Four Fathers Brewing ",
         "Valparaiso",
         " IN"
        ],
        [
         "160",
         "0.064",
         "90.0",
         "2610",
         "The Gadget",
         "American IPA",
         "22",
         "16.0",
         "Four Fathers Brewing ",
         "Valparaiso",
         " IN"
        ],
        [
         "161",
         "0.0579999999999999",
         "58.0",
         "2609",
         "Tribute",
         "American Pale Ale (APA)",
         "23",
         "12.0",
         "Indiana City Brewing",
         "Indianapolis",
         " IN"
        ],
        [
         "162",
         "0.065",
         null,
         "2608",
         "Wrath of Pele",
         "American Brown Ale",
         "24",
         "16.0",
         "Burn 'Em Brewing",
         "Michigan City",
         " IN"
        ],
        [
         "163",
         "0.068",
         null,
         "2607",
         "Black Beer'd",
         "American Black Ale",
         "24",
         "16.0",
         "Burn 'Em Brewing",
         "Michigan City",
         " IN"
        ],
        [
         "164",
         "0.078",
         null,
         "2606",
         "Mr. Tea",
         "Fruit / Vegetable Beer",
         "24",
         "24.0",
         "Burn 'Em Brewing",
         "Michigan City",
         " IN"
        ],
        [
         "165",
         "0.055",
         "40.0",
         "2478",
         "Pale Alement",
         "American Pale Ale (APA)",
         "24",
         "12.0",
         "Burn 'Em Brewing",
         "Michigan City",
         " IN"
        ],
        [
         "166",
         "0.099",
         "115.0",
         "2471",
         "Hopkick Dropkick",
         "American Double / Imperial IPA",
         "24",
         "12.0",
         "Burn 'Em Brewing",
         "Michigan City",
         " IN"
        ],
        [
         "167",
         "0.06",
         null,
         "2470",
         "Kreamed Corn",
         "Cream Ale",
         "24",
         "12.0",
         "Burn 'Em Brewing",
         "Michigan City",
         " IN"
        ],
        [
         "168",
         "0.065",
         null,
         "2464",
         "Coconoats",
         "American Pale Wheat Ale",
         "24",
         "16.0",
         "Burn 'Em Brewing",
         "Michigan City",
         " IN"
        ],
        [
         "169",
         "0.068",
         "16.0",
         "2160",
         "Joey Wheat",
         "American Pale Wheat Ale",
         "24",
         "16.0",
         "Burn 'Em Brewing",
         "Michigan City",
         " IN"
        ],
        [
         "170",
         "0.072",
         "86.0",
         "2158",
         "3:33 Black IPA",
         "American IPA",
         "24",
         "16.0",
         "Burn 'Em Brewing",
         "Michigan City",
         " IN"
        ],
        [
         "171",
         "0.068",
         null,
         "2072",
         "MCA",
         "American IPA",
         "24",
         "16.0",
         "Burn 'Em Brewing",
         "Michigan City",
         " IN"
        ],
        [
         "172",
         "0.055",
         "40.0",
         "2054",
         "Pale Alement",
         "American Pale Ale (APA)",
         "24",
         "16.0",
         "Burn 'Em Brewing",
         "Michigan City",
         " IN"
        ],
        [
         "173",
         "0.052",
         "29.0",
         "2605",
         "Tip Off",
         "Altbier",
         "25",
         "16.0",
         "Sun King Brewing Company",
         "Indianapolis",
         " IN"
        ],
        [
         "174",
         "0.054",
         null,
         "2215",
         "Java Mac",
         "Scottish Ale",
         "25",
         "16.0",
         "Sun King Brewing Company",
         "Indianapolis",
         " IN"
        ],
        [
         "175",
         "0.054",
         "23.0",
         "2164",
         "Cowbell",
         "American Porter",
         "25",
         "16.0",
         "Sun King Brewing Company",
         "Indianapolis",
         " IN"
        ],
        [
         "176",
         "0.0579999999999999",
         "20.0",
         "2085",
         "Hop Up Offa That Brett (2014)",
         "Belgian Pale Ale",
         "25",
         "16.0",
         "Sun King Brewing Company",
         "Indianapolis",
         " IN"
        ],
        [
         "177",
         "0.083",
         "23.0",
         "2084",
         "PV Muckle (2013)",
         "Scotch Ale / Wee Heavy",
         "25",
         "16.0",
         "Sun King Brewing Company",
         "Indianapolis",
         " IN"
        ],
        [
         "178",
         "0.099",
         "36.0",
         "2083",
         "Bourbon Barrel Batch 666: Sympathy for the Devil",
         "Belgian Dark Ale",
         "25",
         "16.0",
         "Sun King Brewing Company",
         "Indianapolis",
         " IN"
        ],
        [
         "179",
         "0.09",
         "30.0",
         "2082",
         "Whip Fight",
         "Scotch Ale / Wee Heavy",
         "25",
         "16.0",
         "Sun King Brewing Company",
         "Indianapolis",
         " IN"
        ],
        [
         "180",
         "0.053",
         "23.0",
         "2081",
         "Port Barrel Wee Mac ",
         "Scotch Ale / Wee Heavy",
         "25",
         "16.0",
         "Sun King Brewing Company",
         "Indianapolis",
         " IN"
        ],
        [
         "181",
         "0.064",
         "75.0",
         "2001",
         "Fistful Of Hops Red",
         "American IPA",
         "25",
         "16.0",
         "Sun King Brewing Company",
         "Indianapolis",
         " IN"
        ],
        [
         "182",
         "0.063",
         "75.0",
         "2000",
         "Fistful of Hops Orange",
         "American IPA",
         "25",
         "16.0",
         "Sun King Brewing Company",
         "Indianapolis",
         " IN"
        ],
        [
         "183",
         "0.064",
         "75.0",
         "1999",
         "Fistful Of Hops Blue",
         "American IPA",
         "25",
         "16.0",
         "Sun King Brewing Company",
         "Indianapolis",
         " IN"
        ],
        [
         "184",
         "0.064",
         "75.0",
         "1996",
         "Fistful of Hops Green",
         "American IPA",
         "25",
         "16.0",
         "Sun King Brewing Company",
         "Indianapolis",
         " IN"
        ],
        [
         "185",
         null,
         null,
         "1948",
         "30 Min Coma",
         "Belgian IPA",
         "25",
         "16.0",
         "Sun King Brewing Company",
         "Indianapolis",
         " IN"
        ],
        [
         "186",
         "0.09",
         "30.0",
         "1656",
         "Wee Muckle",
         "Scotch Ale / Wee Heavy",
         "25",
         "16.0",
         "Sun King Brewing Company",
         "Indianapolis",
         " IN"
        ],
        [
         "187",
         "0.065",
         "55.0",
         "1599",
         "Royal Brat",
         "Extra Special / Strong Bitter (ESB)",
         "25",
         "16.0",
         "Sun King Brewing Company",
         "Indianapolis",
         " IN"
        ]
       ],
       "shape": {
        "columns": 10,
        "rows": 139
       }
      },
      "text/html": [
       "<div>\n",
       "<style scoped>\n",
       "    .dataframe tbody tr th:only-of-type {\n",
       "        vertical-align: middle;\n",
       "    }\n",
       "\n",
       "    .dataframe tbody tr th {\n",
       "        vertical-align: top;\n",
       "    }\n",
       "\n",
       "    .dataframe thead th {\n",
       "        text-align: right;\n",
       "    }\n",
       "</style>\n",
       "<table border=\"1\" class=\"dataframe\">\n",
       "  <thead>\n",
       "    <tr style=\"text-align: right;\">\n",
       "      <th></th>\n",
       "      <th>abv</th>\n",
       "      <th>ibu</th>\n",
       "      <th>id</th>\n",
       "      <th>name</th>\n",
       "      <th>style</th>\n",
       "      <th>brewery_id</th>\n",
       "      <th>ounces</th>\n",
       "      <th>brewery_name</th>\n",
       "      <th>city</th>\n",
       "      <th>state</th>\n",
       "    </tr>\n",
       "  </thead>\n",
       "  <tbody>\n",
       "    <tr>\n",
       "      <th>138</th>\n",
       "      <td>0.065</td>\n",
       "      <td>NaN</td>\n",
       "      <td>2624</td>\n",
       "      <td>Deflator</td>\n",
       "      <td>Doppelbock</td>\n",
       "      <td>16</td>\n",
       "      <td>16.0</td>\n",
       "      <td>Flat 12 Bierwerks</td>\n",
       "      <td>Indianapolis</td>\n",
       "      <td>IN</td>\n",
       "    </tr>\n",
       "    <tr>\n",
       "      <th>139</th>\n",
       "      <td>0.050</td>\n",
       "      <td>27.0</td>\n",
       "      <td>2284</td>\n",
       "      <td>Hinchtown Hammer Down</td>\n",
       "      <td>American Blonde Ale</td>\n",
       "      <td>16</td>\n",
       "      <td>16.0</td>\n",
       "      <td>Flat 12 Bierwerks</td>\n",
       "      <td>Indianapolis</td>\n",
       "      <td>IN</td>\n",
       "    </tr>\n",
       "    <tr>\n",
       "      <th>140</th>\n",
       "      <td>0.060</td>\n",
       "      <td>104.0</td>\n",
       "      <td>1610</td>\n",
       "      <td>Half Cycle IPA</td>\n",
       "      <td>American IPA</td>\n",
       "      <td>16</td>\n",
       "      <td>16.0</td>\n",
       "      <td>Flat 12 Bierwerks</td>\n",
       "      <td>Indianapolis</td>\n",
       "      <td>IN</td>\n",
       "    </tr>\n",
       "    <tr>\n",
       "      <th>141</th>\n",
       "      <td>0.058</td>\n",
       "      <td>20.0</td>\n",
       "      <td>2623</td>\n",
       "      <td>Cafe Leche</td>\n",
       "      <td>American Porter</td>\n",
       "      <td>17</td>\n",
       "      <td>16.0</td>\n",
       "      <td>Tin Man Brewing Company</td>\n",
       "      <td>Evansville</td>\n",
       "      <td>IN</td>\n",
       "    </tr>\n",
       "    <tr>\n",
       "      <th>142</th>\n",
       "      <td>0.052</td>\n",
       "      <td>12.0</td>\n",
       "      <td>2622</td>\n",
       "      <td>Damascene Apricot Sour</td>\n",
       "      <td>Fruit / Vegetable Beer</td>\n",
       "      <td>17</td>\n",
       "      <td>16.0</td>\n",
       "      <td>Tin Man Brewing Company</td>\n",
       "      <td>Evansville</td>\n",
       "      <td>IN</td>\n",
       "    </tr>\n",
       "    <tr>\n",
       "      <th>...</th>\n",
       "      <td>...</td>\n",
       "      <td>...</td>\n",
       "      <td>...</td>\n",
       "      <td>...</td>\n",
       "      <td>...</td>\n",
       "      <td>...</td>\n",
       "      <td>...</td>\n",
       "      <td>...</td>\n",
       "      <td>...</td>\n",
       "      <td>...</td>\n",
       "    </tr>\n",
       "    <tr>\n",
       "      <th>1628</th>\n",
       "      <td>0.080</td>\n",
       "      <td>NaN</td>\n",
       "      <td>1787</td>\n",
       "      <td>Floyd's Folly</td>\n",
       "      <td>Scottish Ale</td>\n",
       "      <td>315</td>\n",
       "      <td>16.0</td>\n",
       "      <td>Cutters Brewing Company</td>\n",
       "      <td>Avon</td>\n",
       "      <td>IN</td>\n",
       "    </tr>\n",
       "    <tr>\n",
       "      <th>1629</th>\n",
       "      <td>0.063</td>\n",
       "      <td>NaN</td>\n",
       "      <td>1786</td>\n",
       "      <td>Half Court IPA</td>\n",
       "      <td>American IPA</td>\n",
       "      <td>315</td>\n",
       "      <td>16.0</td>\n",
       "      <td>Cutters Brewing Company</td>\n",
       "      <td>Avon</td>\n",
       "      <td>IN</td>\n",
       "    </tr>\n",
       "    <tr>\n",
       "      <th>1727</th>\n",
       "      <td>0.040</td>\n",
       "      <td>NaN</td>\n",
       "      <td>1657</td>\n",
       "      <td>Leprechaun Lager</td>\n",
       "      <td>American Pale Lager</td>\n",
       "      <td>348</td>\n",
       "      <td>12.0</td>\n",
       "      <td>Four Horsemen Brewing Company</td>\n",
       "      <td>South Bend</td>\n",
       "      <td>IN</td>\n",
       "    </tr>\n",
       "    <tr>\n",
       "      <th>1754</th>\n",
       "      <td>0.072</td>\n",
       "      <td>NaN</td>\n",
       "      <td>1623</td>\n",
       "      <td>Lift Off IPA</td>\n",
       "      <td>American IPA</td>\n",
       "      <td>358</td>\n",
       "      <td>16.0</td>\n",
       "      <td>Daredevil Brewing Company</td>\n",
       "      <td>Shelbyville</td>\n",
       "      <td>IN</td>\n",
       "    </tr>\n",
       "    <tr>\n",
       "      <th>2289</th>\n",
       "      <td>0.047</td>\n",
       "      <td>NaN</td>\n",
       "      <td>780</td>\n",
       "      <td>T-6 Red Ale (2004)</td>\n",
       "      <td>American Amber / Red Ale</td>\n",
       "      <td>506</td>\n",
       "      <td>12.0</td>\n",
       "      <td>Warbird Brewing Company</td>\n",
       "      <td>Fort Wayne</td>\n",
       "      <td>IN</td>\n",
       "    </tr>\n",
       "  </tbody>\n",
       "</table>\n",
       "<p>139 rows × 10 columns</p>\n",
       "</div>"
      ],
      "text/plain": [
       "        abv    ibu    id                    name                     style  \\\n",
       "138   0.065    NaN  2624                Deflator                Doppelbock   \n",
       "139   0.050   27.0  2284   Hinchtown Hammer Down       American Blonde Ale   \n",
       "140   0.060  104.0  1610          Half Cycle IPA              American IPA   \n",
       "141   0.058   20.0  2623              Cafe Leche           American Porter   \n",
       "142   0.052   12.0  2622  Damascene Apricot Sour    Fruit / Vegetable Beer   \n",
       "...     ...    ...   ...                     ...                       ...   \n",
       "1628  0.080    NaN  1787           Floyd's Folly              Scottish Ale   \n",
       "1629  0.063    NaN  1786          Half Court IPA              American IPA   \n",
       "1727  0.040    NaN  1657        Leprechaun Lager       American Pale Lager   \n",
       "1754  0.072    NaN  1623            Lift Off IPA              American IPA   \n",
       "2289  0.047    NaN   780      T-6 Red Ale (2004)  American Amber / Red Ale   \n",
       "\n",
       "      brewery_id  ounces                   brewery_name          city state  \n",
       "138           16    16.0              Flat 12 Bierwerks  Indianapolis    IN  \n",
       "139           16    16.0              Flat 12 Bierwerks  Indianapolis    IN  \n",
       "140           16    16.0              Flat 12 Bierwerks  Indianapolis    IN  \n",
       "141           17    16.0        Tin Man Brewing Company    Evansville    IN  \n",
       "142           17    16.0        Tin Man Brewing Company    Evansville    IN  \n",
       "...          ...     ...                            ...           ...   ...  \n",
       "1628         315    16.0        Cutters Brewing Company          Avon    IN  \n",
       "1629         315    16.0        Cutters Brewing Company          Avon    IN  \n",
       "1727         348    12.0  Four Horsemen Brewing Company    South Bend    IN  \n",
       "1754         358    16.0      Daredevil Brewing Company   Shelbyville    IN  \n",
       "2289         506    12.0        Warbird Brewing Company    Fort Wayne    IN  \n",
       "\n",
       "[139 rows x 10 columns]"
      ]
     },
     "execution_count": 34,
     "metadata": {},
     "output_type": "execute_result"
    }
   ],
   "source": [
    "cerves_indiana = merged_birras[merged_birras[\"state\"]==\" IN\"] # Creamos en primer lugar un dataframe que nos muestre solamente las cervezas de Indiana\n",
    "cerves_indiana\n"
   ]
  },
  {
   "cell_type": "code",
   "execution_count": null,
   "metadata": {},
   "outputs": [
    {
     "data": {
      "application/vnd.microsoft.datawrangler.viewer.v0+json": {
       "columns": [
        {
         "name": "index",
         "rawType": "int64",
         "type": "integer"
        },
        {
         "name": "name",
         "rawType": "object",
         "type": "string"
        },
        {
         "name": "ibu",
         "rawType": "float64",
         "type": "float"
        }
       ],
       "conversionMethod": "pd.DataFrame",
       "ref": "99c46f96-b5ee-47c1-bf81-7e65a76de20e",
       "rows": [
        [
         "145",
         "Overlord Imperial IPA",
         "115.0"
        ],
        [
         "166",
         "Hopkick Dropkick",
         "115.0"
        ],
        [
         "140",
         "Half Cycle IPA",
         "104.0"
        ],
        [
         "203",
         "Isis",
         "91.0"
        ],
        [
         "160",
         "The Gadget",
         "90.0"
        ],
        [
         "143",
         "Csar",
         "90.0"
        ],
        [
         "170",
         "3:33 Black IPA",
         "86.0"
        ],
        [
         "1202",
         "Mound Builder IPA",
         "77.0"
        ],
        [
         "205",
         "Grapefruit Jungle (GFJ) (2011)",
         "77.0"
        ],
        [
         "188",
         "Grapefruit Jungle (GFJ)",
         "77.0"
        ],
        [
         "150",
         "Saucy Intruder",
         "75.0"
        ],
        [
         "181",
         "Fistful Of Hops Red",
         "75.0"
        ],
        [
         "183",
         "Fistful Of Hops Blue",
         "75.0"
        ],
        [
         "182",
         "Fistful of Hops Orange",
         "75.0"
        ],
        [
         "190",
         "Bourbon Barrel Aged Timmie",
         "75.0"
        ],
        [
         "184",
         "Fistful of Hops Green",
         "75.0"
        ],
        [
         "982",
         "Great Crescent Stout",
         "66.0"
        ],
        [
         "220",
         "Scarecrow",
         "65.0"
        ],
        [
         "981",
         "Bourbon's Barrel Stout",
         "65.0"
        ],
        [
         "153",
         "Citra Faced",
         "64.0"
        ],
        [
         "1203",
         "Amazon Princess IPA",
         "62.0"
        ],
        [
         "212",
         "White Reaper",
         "61.0"
        ],
        [
         "196",
         "Bourbon Barrel Johan",
         "60.0"
        ],
        [
         "207",
         "Johan the Barleywine",
         "60.0"
        ],
        [
         "971",
         "Great Crescent IPA",
         "60.0"
        ],
        [
         "1091",
         "Bitter Bitch",
         "60.0"
        ],
        [
         "986",
         "Great Crescent IPA (2011)",
         "60.0"
        ],
        [
         "161",
         "Tribute",
         "58.0"
        ],
        [
         "187",
         "Royal Brat",
         "55.0"
        ],
        [
         "189",
         "Osiris Pale Ale",
         "50.0"
        ],
        [
         "148",
         "3 Gear Robust Porter",
         "50.0"
        ],
        [
         "1188",
         "Campside Session IPA",
         "50.0"
        ],
        [
         "210",
         "Osiris Pale Ale (2010)",
         "50.0"
        ],
        [
         "221",
         "Ironman",
         "50.0"
        ],
        [
         "216",
         "General George Patton Pilsner",
         "48.0"
        ],
        [
         "152",
         "Thai.p.a",
         "46.0"
        ],
        [
         "218",
         "Citrafest",
         "45.0"
        ],
        [
         "172",
         "Pale Alement",
         "40.0"
        ],
        [
         "165",
         "Pale Alement",
         "40.0"
        ],
        [
         "155",
         "Pale",
         "37.0"
        ],
        [
         "146",
         "Alloy",
         "36.0"
        ],
        [
         "178",
         "Bourbon Barrel Batch 666: Sympathy for the Devil",
         "36.0"
        ],
        [
         "976",
         "Great Crescent Brown Ale",
         "36.0"
        ],
        [
         "149",
         "Circuit Bohemian Pilsner",
         "35.0"
        ],
        [
         "983",
         "Great Crescent Coconut Porter (2012)",
         "33.0"
        ],
        [
         "974",
         "Great Crescent Coconut Porter",
         "33.0"
        ],
        [
         "970",
         "Bourbon Barrel Aged Coconut Porter",
         "33.0"
        ],
        [
         "154",
         "Pole Barn Stout",
         "31.0"
        ],
        [
         "186",
         "Wee Muckle",
         "30.0"
        ],
        [
         "204",
         "Wee Muckle (2011)",
         "30.0"
        ]
       ],
       "shape": {
        "columns": 2,
        "rows": 139
       }
      },
      "text/html": [
       "<div>\n",
       "<style scoped>\n",
       "    .dataframe tbody tr th:only-of-type {\n",
       "        vertical-align: middle;\n",
       "    }\n",
       "\n",
       "    .dataframe tbody tr th {\n",
       "        vertical-align: top;\n",
       "    }\n",
       "\n",
       "    .dataframe thead th {\n",
       "        text-align: right;\n",
       "    }\n",
       "</style>\n",
       "<table border=\"1\" class=\"dataframe\">\n",
       "  <thead>\n",
       "    <tr style=\"text-align: right;\">\n",
       "      <th></th>\n",
       "      <th>name</th>\n",
       "      <th>ibu</th>\n",
       "    </tr>\n",
       "  </thead>\n",
       "  <tbody>\n",
       "    <tr>\n",
       "      <th>145</th>\n",
       "      <td>Overlord Imperial IPA</td>\n",
       "      <td>115.0</td>\n",
       "    </tr>\n",
       "    <tr>\n",
       "      <th>166</th>\n",
       "      <td>Hopkick Dropkick</td>\n",
       "      <td>115.0</td>\n",
       "    </tr>\n",
       "    <tr>\n",
       "      <th>140</th>\n",
       "      <td>Half Cycle IPA</td>\n",
       "      <td>104.0</td>\n",
       "    </tr>\n",
       "    <tr>\n",
       "      <th>203</th>\n",
       "      <td>Isis</td>\n",
       "      <td>91.0</td>\n",
       "    </tr>\n",
       "    <tr>\n",
       "      <th>160</th>\n",
       "      <td>The Gadget</td>\n",
       "      <td>90.0</td>\n",
       "    </tr>\n",
       "    <tr>\n",
       "      <th>...</th>\n",
       "      <td>...</td>\n",
       "      <td>...</td>\n",
       "    </tr>\n",
       "    <tr>\n",
       "      <th>1628</th>\n",
       "      <td>Floyd's Folly</td>\n",
       "      <td>NaN</td>\n",
       "    </tr>\n",
       "    <tr>\n",
       "      <th>1629</th>\n",
       "      <td>Half Court IPA</td>\n",
       "      <td>NaN</td>\n",
       "    </tr>\n",
       "    <tr>\n",
       "      <th>1727</th>\n",
       "      <td>Leprechaun Lager</td>\n",
       "      <td>NaN</td>\n",
       "    </tr>\n",
       "    <tr>\n",
       "      <th>1754</th>\n",
       "      <td>Lift Off IPA</td>\n",
       "      <td>NaN</td>\n",
       "    </tr>\n",
       "    <tr>\n",
       "      <th>2289</th>\n",
       "      <td>T-6 Red Ale (2004)</td>\n",
       "      <td>NaN</td>\n",
       "    </tr>\n",
       "  </tbody>\n",
       "</table>\n",
       "<p>139 rows × 2 columns</p>\n",
       "</div>"
      ],
      "text/plain": [
       "                       name    ibu\n",
       "145   Overlord Imperial IPA  115.0\n",
       "166        Hopkick Dropkick  115.0\n",
       "140          Half Cycle IPA  104.0\n",
       "203                    Isis   91.0\n",
       "160              The Gadget   90.0\n",
       "...                     ...    ...\n",
       "1628          Floyd's Folly    NaN\n",
       "1629         Half Court IPA    NaN\n",
       "1727       Leprechaun Lager    NaN\n",
       "1754           Lift Off IPA    NaN\n",
       "2289     T-6 Red Ale (2004)    NaN\n",
       "\n",
       "[139 rows x 2 columns]"
      ]
     },
     "execution_count": 35,
     "metadata": {},
     "output_type": "execute_result"
    }
   ],
   "source": [
    "cerves_indiana[[\"name\",\"ibu\"]].sort_values(by=\"ibu\",ascending=False) # A continuación ordenamos los valores de ibu de ese dataframe de Indiana en orden descendente\n",
    "# para descubrir los cervezas más amargas de Indiana"
   ]
  },
  {
   "attachments": {},
   "cell_type": "markdown",
   "metadata": {},
   "source": [
    "## Ejercicio 22\n",
    "Obtén una tabla con los principales estadísticos del campo `ibu`,  a nivel ciudad"
   ]
  },
  {
   "cell_type": "code",
   "execution_count": 36,
   "metadata": {},
   "outputs": [
    {
     "data": {
      "application/vnd.microsoft.datawrangler.viewer.v0+json": {
       "columns": [
        {
         "name": "city",
         "rawType": "object",
         "type": "string"
        },
        {
         "name": "count",
         "rawType": "float64",
         "type": "float"
        },
        {
         "name": "mean",
         "rawType": "float64",
         "type": "float"
        },
        {
         "name": "std",
         "rawType": "float64",
         "type": "float"
        },
        {
         "name": "min",
         "rawType": "float64",
         "type": "float"
        },
        {
         "name": "25%",
         "rawType": "float64",
         "type": "float"
        },
        {
         "name": "50%",
         "rawType": "float64",
         "type": "float"
        },
        {
         "name": "75%",
         "rawType": "float64",
         "type": "float"
        },
        {
         "name": "max",
         "rawType": "float64",
         "type": "float"
        }
       ],
       "conversionMethod": "pd.DataFrame",
       "ref": "1637c6e4-9678-447e-b8fa-2ef885f8dd54",
       "rows": [
        [
         "Abingdon",
         "1.0",
         "135.0",
         null,
         "135.0",
         "135.0",
         "135.0",
         "135.0",
         "135.0"
        ],
        [
         "Abita Springs",
         "3.0",
         "27.333333333333332",
         "21.455380055672126",
         "13.0",
         "15.0",
         "17.0",
         "34.5",
         "52.0"
        ],
        [
         "Ada",
         "0.0",
         null,
         null,
         null,
         null,
         null,
         null,
         null
        ],
        [
         "Afton",
         "4.0",
         "43.0",
         "19.8997487421324",
         "22.0",
         "28.0",
         "45.0",
         "60.0",
         "60.0"
        ],
        [
         "Airway Heights",
         "0.0",
         null,
         null,
         null,
         null,
         null,
         null,
         null
        ],
        [
         "Albuquerque",
         "4.0",
         "54.25",
         "38.88765871070152",
         "15.0",
         "26.25",
         "51.0",
         "79.0",
         "100.0"
        ],
        [
         "Alpine",
         "0.0",
         null,
         null,
         null,
         null,
         null,
         null,
         null
        ],
        [
         "Anchorage",
         "10.0",
         "40.4",
         "26.563132345414388",
         "10.0",
         "15.5",
         "42.5",
         "63.25",
         "70.0"
        ],
        [
         "Angola",
         "2.0",
         "19.0",
         "15.556349186104045",
         "8.0",
         "13.5",
         "19.0",
         "24.5",
         "30.0"
        ],
        [
         "Ann Arbor",
         "1.0",
         "15.0",
         null,
         "15.0",
         "15.0",
         "15.0",
         "15.0",
         "15.0"
        ],
        [
         "Arrington",
         "1.0",
         "16.0",
         null,
         "16.0",
         "16.0",
         "16.0",
         "16.0",
         "16.0"
        ],
        [
         "Arvada",
         "3.0",
         "45.666666666666664",
         "23.072349974229617",
         "29.0",
         "32.5",
         "36.0",
         "54.0",
         "72.0"
        ],
        [
         "Ashburn",
         "2.0",
         "60.0",
         "7.0710678118654755",
         "55.0",
         "57.5",
         "60.0",
         "62.5",
         "65.0"
        ],
        [
         "Asheville",
         "6.0",
         "36.666666666666664",
         "17.107503227141788",
         "24.0",
         "26.25",
         "29.5",
         "39.5",
         "69.0"
        ],
        [
         "Ashland",
         "17.0",
         "54.23529411764706",
         "26.927052873840246",
         "16.0",
         "40.0",
         "55.0",
         "55.0",
         "100.0"
        ],
        [
         "Aspen",
         "2.0",
         "47.0",
         "28.284271247461902",
         "27.0",
         "37.0",
         "47.0",
         "57.0",
         "67.0"
        ],
        [
         "Astoria",
         "5.0",
         "69.0",
         "46.63153439465616",
         "35.0",
         "35.0",
         "40.0",
         "97.0",
         "138.0"
        ],
        [
         "Athens",
         "2.0",
         "53.5",
         "16.263455967290593",
         "42.0",
         "47.75",
         "53.5",
         "59.25",
         "65.0"
        ],
        [
         "Atlanta",
         "1.0",
         "35.0",
         null,
         "35.0",
         "35.0",
         "35.0",
         "35.0",
         "35.0"
        ],
        [
         "Atlantic Highlands",
         "4.0",
         "56.0",
         "41.480919308359915",
         "9.0",
         "28.5",
         "57.5",
         "85.0",
         "100.0"
        ],
        [
         "Aurora",
         "24.0",
         "34.666666666666664",
         "21.383997809550035",
         "12.0",
         "22.0",
         "26.5",
         "39.25",
         "100.0"
        ],
        [
         "Austin",
         "13.0",
         "39.07692307692308",
         "17.900007162296234",
         "20.0",
         "27.0",
         "35.0",
         "42.0",
         "75.0"
        ],
        [
         "Avon",
         "0.0",
         null,
         null,
         null,
         null,
         null,
         null,
         null
        ],
        [
         "Baltimore",
         "2.0",
         "50.0",
         "56.568542494923804",
         "10.0",
         "30.0",
         "50.0",
         "70.0",
         "90.0"
        ],
        [
         "Bargersville",
         "1.0",
         "22.0",
         null,
         "22.0",
         "22.0",
         "22.0",
         "22.0",
         "22.0"
        ],
        [
         "Baton Rouge",
         "6.0",
         "33.166666666666664",
         "15.118421434351758",
         "18.0",
         "22.75",
         "31.5",
         "36.5",
         "60.0"
        ],
        [
         "Battle Creek",
         "2.0",
         "36.0",
         "26.870057685088806",
         "17.0",
         "26.5",
         "36.0",
         "45.5",
         "55.0"
        ],
        [
         "Belfast",
         "0.0",
         null,
         null,
         null,
         null,
         null,
         null,
         null
        ],
        [
         "Bellingham",
         "0.0",
         null,
         null,
         null,
         null,
         null,
         null,
         null
        ],
        [
         "Belmont",
         "3.0",
         "41.333333333333336",
         "38.552993831002716",
         "12.0",
         "19.5",
         "27.0",
         "56.0",
         "85.0"
        ],
        [
         "Belt",
         "0.0",
         null,
         null,
         null,
         null,
         null,
         null,
         null
        ],
        [
         "Bend",
         "9.0",
         "45.666666666666664",
         "20.006249023742555",
         "18.0",
         "30.0",
         "40.0",
         "69.0",
         "70.0"
        ],
        [
         "Biglerville",
         "0.0",
         null,
         null,
         null,
         null,
         null,
         null,
         null
        ],
        [
         "Birmingham",
         "11.0",
         "43.09090909090909",
         "25.590836428122255",
         "6.0",
         "30.0",
         "36.0",
         "54.5",
         "103.0"
        ],
        [
         "Black Mountain",
         "2.0",
         "41.0",
         "14.142135623730951",
         "31.0",
         "36.0",
         "41.0",
         "46.0",
         "51.0"
        ],
        [
         "Blanco",
         "7.0",
         "37.0",
         "27.012342857787562",
         "5.0",
         "21.0",
         "25.0",
         "51.0",
         "85.0"
        ],
        [
         "Bloomfield",
         "1.0",
         "11.0",
         null,
         "11.0",
         "11.0",
         "11.0",
         "11.0",
         "11.0"
        ],
        [
         "Bloomington",
         "8.0",
         "37.25",
         "29.261139514965674",
         "12.0",
         "15.75",
         "22.0",
         "56.5",
         "85.0"
        ],
        [
         "Boise",
         "7.0",
         "76.28571428571429",
         "37.70815245944519",
         "12.0",
         "61.0",
         "100.0",
         "100.0",
         "100.0"
        ],
        [
         "Boone",
         "3.0",
         "39.0",
         "31.240998703626616",
         "19.0",
         "21.0",
         "23.0",
         "49.0",
         "75.0"
        ],
        [
         "Boonville",
         "14.0",
         "22.5",
         "25.40063597023326",
         "4.0",
         "7.75",
         "14.0",
         "22.5",
         "80.0"
        ],
        [
         "Boston",
         "18.0",
         "27.5",
         "12.705950435547441",
         "7.0",
         "16.25",
         "29.0",
         "39.0",
         "45.0"
        ],
        [
         "Boulder",
         "26.0",
         "37.5",
         "20.717625346549735",
         "10.0",
         "20.5",
         "32.0",
         "49.5",
         "90.0"
        ],
        [
         "Boynton Beach",
         "1.0",
         "64.0",
         null,
         "64.0",
         "64.0",
         "64.0",
         "64.0",
         "64.0"
        ],
        [
         "Bozeman",
         "4.0",
         "52.25",
         "22.45551157288562",
         "25.0",
         "45.25",
         "52.0",
         "59.0",
         "80.0"
        ],
        [
         "Brevard",
         "6.0",
         "72.16666666666667",
         "22.274798914169054",
         "35.0",
         "65.0",
         "75.0",
         "85.0",
         "98.0"
        ],
        [
         "Bridgewater Corners",
         "5.0",
         "28.6",
         "12.521980673998822",
         "8.0",
         "30.0",
         "30.0",
         "33.0",
         "42.0"
        ],
        [
         "Bridgman",
         "1.0",
         "35.0",
         null,
         "35.0",
         "35.0",
         "35.0",
         "35.0",
         "35.0"
        ],
        [
         "Bronx",
         "3.0",
         "37.333333333333336",
         "18.583146486355137",
         "16.0",
         "31.0",
         "46.0",
         "48.0",
         "50.0"
        ],
        [
         "Brooklyn",
         "28.0",
         "51.07142857142857",
         "25.019886270618997",
         "7.0",
         "34.75",
         "49.0",
         "62.5",
         "111.0"
        ]
       ],
       "shape": {
        "columns": 8,
        "rows": 384
       }
      },
      "text/html": [
       "<div>\n",
       "<style scoped>\n",
       "    .dataframe tbody tr th:only-of-type {\n",
       "        vertical-align: middle;\n",
       "    }\n",
       "\n",
       "    .dataframe tbody tr th {\n",
       "        vertical-align: top;\n",
       "    }\n",
       "\n",
       "    .dataframe thead th {\n",
       "        text-align: right;\n",
       "    }\n",
       "</style>\n",
       "<table border=\"1\" class=\"dataframe\">\n",
       "  <thead>\n",
       "    <tr style=\"text-align: right;\">\n",
       "      <th></th>\n",
       "      <th>count</th>\n",
       "      <th>mean</th>\n",
       "      <th>std</th>\n",
       "      <th>min</th>\n",
       "      <th>25%</th>\n",
       "      <th>50%</th>\n",
       "      <th>75%</th>\n",
       "      <th>max</th>\n",
       "    </tr>\n",
       "    <tr>\n",
       "      <th>city</th>\n",
       "      <th></th>\n",
       "      <th></th>\n",
       "      <th></th>\n",
       "      <th></th>\n",
       "      <th></th>\n",
       "      <th></th>\n",
       "      <th></th>\n",
       "      <th></th>\n",
       "    </tr>\n",
       "  </thead>\n",
       "  <tbody>\n",
       "    <tr>\n",
       "      <th>Abingdon</th>\n",
       "      <td>1.0</td>\n",
       "      <td>135.000000</td>\n",
       "      <td>NaN</td>\n",
       "      <td>135.0</td>\n",
       "      <td>135.00</td>\n",
       "      <td>135.0</td>\n",
       "      <td>135.00</td>\n",
       "      <td>135.0</td>\n",
       "    </tr>\n",
       "    <tr>\n",
       "      <th>Abita Springs</th>\n",
       "      <td>3.0</td>\n",
       "      <td>27.333333</td>\n",
       "      <td>21.455380</td>\n",
       "      <td>13.0</td>\n",
       "      <td>15.00</td>\n",
       "      <td>17.0</td>\n",
       "      <td>34.50</td>\n",
       "      <td>52.0</td>\n",
       "    </tr>\n",
       "    <tr>\n",
       "      <th>Ada</th>\n",
       "      <td>0.0</td>\n",
       "      <td>NaN</td>\n",
       "      <td>NaN</td>\n",
       "      <td>NaN</td>\n",
       "      <td>NaN</td>\n",
       "      <td>NaN</td>\n",
       "      <td>NaN</td>\n",
       "      <td>NaN</td>\n",
       "    </tr>\n",
       "    <tr>\n",
       "      <th>Afton</th>\n",
       "      <td>4.0</td>\n",
       "      <td>43.000000</td>\n",
       "      <td>19.899749</td>\n",
       "      <td>22.0</td>\n",
       "      <td>28.00</td>\n",
       "      <td>45.0</td>\n",
       "      <td>60.00</td>\n",
       "      <td>60.0</td>\n",
       "    </tr>\n",
       "    <tr>\n",
       "      <th>Airway Heights</th>\n",
       "      <td>0.0</td>\n",
       "      <td>NaN</td>\n",
       "      <td>NaN</td>\n",
       "      <td>NaN</td>\n",
       "      <td>NaN</td>\n",
       "      <td>NaN</td>\n",
       "      <td>NaN</td>\n",
       "      <td>NaN</td>\n",
       "    </tr>\n",
       "    <tr>\n",
       "      <th>...</th>\n",
       "      <td>...</td>\n",
       "      <td>...</td>\n",
       "      <td>...</td>\n",
       "      <td>...</td>\n",
       "      <td>...</td>\n",
       "      <td>...</td>\n",
       "      <td>...</td>\n",
       "      <td>...</td>\n",
       "    </tr>\n",
       "    <tr>\n",
       "      <th>Woodinville</th>\n",
       "      <td>4.0</td>\n",
       "      <td>46.750000</td>\n",
       "      <td>18.643587</td>\n",
       "      <td>27.0</td>\n",
       "      <td>39.75</td>\n",
       "      <td>44.0</td>\n",
       "      <td>51.00</td>\n",
       "      <td>72.0</td>\n",
       "    </tr>\n",
       "    <tr>\n",
       "      <th>Worcester</th>\n",
       "      <td>1.0</td>\n",
       "      <td>69.000000</td>\n",
       "      <td>NaN</td>\n",
       "      <td>69.0</td>\n",
       "      <td>69.00</td>\n",
       "      <td>69.0</td>\n",
       "      <td>69.00</td>\n",
       "      <td>69.0</td>\n",
       "    </tr>\n",
       "    <tr>\n",
       "      <th>Yakima</th>\n",
       "      <td>2.0</td>\n",
       "      <td>54.000000</td>\n",
       "      <td>22.627417</td>\n",
       "      <td>38.0</td>\n",
       "      <td>46.00</td>\n",
       "      <td>54.0</td>\n",
       "      <td>62.00</td>\n",
       "      <td>70.0</td>\n",
       "    </tr>\n",
       "    <tr>\n",
       "      <th>Yardley</th>\n",
       "      <td>0.0</td>\n",
       "      <td>NaN</td>\n",
       "      <td>NaN</td>\n",
       "      <td>NaN</td>\n",
       "      <td>NaN</td>\n",
       "      <td>NaN</td>\n",
       "      <td>NaN</td>\n",
       "      <td>NaN</td>\n",
       "    </tr>\n",
       "    <tr>\n",
       "      <th>York</th>\n",
       "      <td>4.0</td>\n",
       "      <td>44.250000</td>\n",
       "      <td>22.779742</td>\n",
       "      <td>20.0</td>\n",
       "      <td>35.00</td>\n",
       "      <td>41.0</td>\n",
       "      <td>50.25</td>\n",
       "      <td>75.0</td>\n",
       "    </tr>\n",
       "  </tbody>\n",
       "</table>\n",
       "<p>384 rows × 8 columns</p>\n",
       "</div>"
      ],
      "text/plain": [
       "                count        mean        std    min     25%    50%     75%  \\\n",
       "city                                                                         \n",
       "Abingdon          1.0  135.000000        NaN  135.0  135.00  135.0  135.00   \n",
       "Abita Springs     3.0   27.333333  21.455380   13.0   15.00   17.0   34.50   \n",
       "Ada               0.0         NaN        NaN    NaN     NaN    NaN     NaN   \n",
       "Afton             4.0   43.000000  19.899749   22.0   28.00   45.0   60.00   \n",
       "Airway Heights    0.0         NaN        NaN    NaN     NaN    NaN     NaN   \n",
       "...               ...         ...        ...    ...     ...    ...     ...   \n",
       "Woodinville       4.0   46.750000  18.643587   27.0   39.75   44.0   51.00   \n",
       "Worcester         1.0   69.000000        NaN   69.0   69.00   69.0   69.00   \n",
       "Yakima            2.0   54.000000  22.627417   38.0   46.00   54.0   62.00   \n",
       "Yardley           0.0         NaN        NaN    NaN     NaN    NaN     NaN   \n",
       "York              4.0   44.250000  22.779742   20.0   35.00   41.0   50.25   \n",
       "\n",
       "                  max  \n",
       "city                   \n",
       "Abingdon        135.0  \n",
       "Abita Springs    52.0  \n",
       "Ada               NaN  \n",
       "Afton            60.0  \n",
       "Airway Heights    NaN  \n",
       "...               ...  \n",
       "Woodinville      72.0  \n",
       "Worcester        69.0  \n",
       "Yakima           70.0  \n",
       "Yardley           NaN  \n",
       "York             75.0  \n",
       "\n",
       "[384 rows x 8 columns]"
      ]
     },
     "execution_count": 36,
     "metadata": {},
     "output_type": "execute_result"
    }
   ],
   "source": [
    "merged_birras.groupby(\"city\")[\"ibu\"].describe()"
   ]
  },
  {
   "attachments": {},
   "cell_type": "markdown",
   "metadata": {},
   "source": [
    "## Ejercicio 23\n",
    "Consigue en un DataFrame de todas las cervezas en cuyas cervecerías al menos haya una cerveza con un `abv` mínimo 0.07."
   ]
  },
  {
   "cell_type": "code",
   "execution_count": null,
   "metadata": {},
   "outputs": [
    {
     "data": {
      "application/vnd.microsoft.datawrangler.viewer.v0+json": {
       "columns": [
        {
         "name": "index",
         "rawType": "int64",
         "type": "integer"
        },
        {
         "name": "abv",
         "rawType": "float64",
         "type": "float"
        },
        {
         "name": "brewery_name",
         "rawType": "object",
         "type": "string"
        },
        {
         "name": "name",
         "rawType": "object",
         "type": "string"
        }
       ],
       "conversionMethod": "pd.DataFrame",
       "ref": "3ac6f65f-f3e5-4497-b8d9-243546415c2d",
       "rows": [
        [
         "6",
         "0.08",
         "Against the Grain Brewery",
         "Citra Ass Down"
        ],
        [
         "7",
         "0.125",
         "Against the Grain Brewery",
         "London Balling"
        ],
        [
         "8",
         "0.077",
         "Against the Grain Brewery",
         "35 K"
        ],
        [
         "9",
         "0.042",
         "Against the Grain Brewery",
         "A Beer"
        ],
        [
         "10",
         "0.05",
         "Against the Grain Brewery",
         "Rules are Rules"
        ],
        [
         "11",
         "0.066",
         "Against the Grain Brewery",
         "Flesh Gourd'n"
        ],
        [
         "12",
         "0.04",
         "Against the Grain Brewery",
         "Sho'nuff"
        ],
        [
         "13",
         "0.055",
         "Against the Grain Brewery",
         "Bloody Show"
        ],
        [
         "14",
         "0.076",
         "Against the Grain Brewery",
         "Rico Sauvin"
        ],
        [
         "15",
         "0.051",
         "Against the Grain Brewery",
         "Coq de la Marche"
        ],
        [
         "16",
         "0.065",
         "Against the Grain Brewery",
         "Kamen Knuddeln"
        ],
        [
         "17",
         "0.06",
         "Against the Grain Brewery",
         "Pile of Face"
        ],
        [
         "18",
         "0.05",
         "Against the Grain Brewery",
         "The Brown Note"
        ],
        [
         "19",
         "0.052",
         "Jack's Abby Craft Lagers",
         "House Lager"
        ],
        [
         "20",
         "0.048",
         "Jack's Abby Craft Lagers",
         "Leisure Time"
        ],
        [
         "21",
         "0.072",
         "Jack's Abby Craft Lagers",
         "Excess IPL"
        ],
        [
         "22",
         "0.067",
         "Jack's Abby Craft Lagers",
         "Hoponius Union"
        ],
        [
         "23",
         "0.049",
         "Jack's Abby Craft Lagers",
         "Calyptra"
        ],
        [
         "24",
         "0.08",
         "Mike Hess Brewing Company",
         "Habitus (2014)"
        ],
        [
         "25",
         "0.075",
         "Mike Hess Brewing Company",
         "Solis"
        ],
        [
         "26",
         "0.06",
         "Mike Hess Brewing Company",
         "Jucundus"
        ],
        [
         "27",
         "0.08",
         "Mike Hess Brewing Company",
         "Habitus"
        ],
        [
         "28",
         "0.063",
         "Mike Hess Brewing Company",
         "Grazias"
        ],
        [
         "29",
         "0.0579999999999999",
         "Mike Hess Brewing Company",
         "Claritas"
        ],
        [
         "34",
         "0.093",
         "COAST Brewing Company",
         "Blackbeard"
        ],
        [
         "35",
         "0.062",
         "COAST Brewing Company",
         "Rye Knot"
        ],
        [
         "36",
         "0.06",
         "COAST Brewing Company",
         "Dead Arm"
        ],
        [
         "37",
         "0.048",
         "COAST Brewing Company",
         "32°/50° Kölsch "
        ],
        [
         "38",
         "0.077",
         "COAST Brewing Company",
         "HopArt"
        ],
        [
         "39",
         "0.0969999999999999",
         "COAST Brewing Company",
         "Boy King"
        ],
        [
         "40",
         "0.05",
         "Great Divide Brewing Company",
         "Denver Pale Ale (Artist Series No. 1)"
        ],
        [
         "41",
         "0.087",
         "Great Divide Brewing Company",
         "Hibernation Ale"
        ],
        [
         "42",
         "0.061",
         "Great Divide Brewing Company",
         "Whitewater"
        ],
        [
         "43",
         "0.071",
         "Great Divide Brewing Company",
         "Rumble"
        ],
        [
         "44",
         "0.083",
         "Great Divide Brewing Company",
         "Orabelle"
        ],
        [
         "45",
         "0.05",
         "Great Divide Brewing Company",
         "Lasso"
        ],
        [
         "46",
         "0.095",
         "Great Divide Brewing Company",
         "Yeti  Imperial Stout"
        ],
        [
         "47",
         "0.073",
         "Great Divide Brewing Company",
         "Colette"
        ],
        [
         "48",
         "0.071",
         "Great Divide Brewing Company",
         "Titan IPA"
        ],
        [
         "49",
         "0.065",
         "Tapistry Brewing",
         "Peck's Porter"
        ],
        [
         "50",
         "0.07",
         "Tapistry Brewing",
         "Reactor"
        ],
        [
         "51",
         "0.057",
         "Tapistry Brewing",
         "Mr. Orange"
        ],
        [
         "52",
         "0.08",
         "Big Lake Brewing",
         "Dark Star"
        ],
        [
         "53",
         "0.062",
         "Big Lake Brewing",
         "Ryecoe"
        ],
        [
         "55",
         "0.067",
         "Brewery Vivant",
         "Belfort"
        ],
        [
         "56",
         "0.06",
         "Brewery Vivant",
         "Star Runner"
        ],
        [
         "57",
         "0.098",
         "Brewery Vivant",
         "Tart Side of the Barrel"
        ],
        [
         "58",
         "0.06",
         "Brewery Vivant",
         "Linnaeus Mango IPA"
        ],
        [
         "59",
         "0.07",
         "Brewery Vivant",
         "Beasts A'Burnin'"
        ],
        [
         "60",
         "0.077",
         "Brewery Vivant",
         "Verdun"
        ]
       ],
       "shape": {
        "columns": 3,
        "rows": 1485
       }
      },
      "text/html": [
       "<div>\n",
       "<style scoped>\n",
       "    .dataframe tbody tr th:only-of-type {\n",
       "        vertical-align: middle;\n",
       "    }\n",
       "\n",
       "    .dataframe tbody tr th {\n",
       "        vertical-align: top;\n",
       "    }\n",
       "\n",
       "    .dataframe thead th {\n",
       "        text-align: right;\n",
       "    }\n",
       "</style>\n",
       "<table border=\"1\" class=\"dataframe\">\n",
       "  <thead>\n",
       "    <tr style=\"text-align: right;\">\n",
       "      <th></th>\n",
       "      <th>abv</th>\n",
       "      <th>brewery_name</th>\n",
       "      <th>name</th>\n",
       "    </tr>\n",
       "  </thead>\n",
       "  <tbody>\n",
       "    <tr>\n",
       "      <th>6</th>\n",
       "      <td>0.080</td>\n",
       "      <td>Against the Grain Brewery</td>\n",
       "      <td>Citra Ass Down</td>\n",
       "    </tr>\n",
       "    <tr>\n",
       "      <th>7</th>\n",
       "      <td>0.125</td>\n",
       "      <td>Against the Grain Brewery</td>\n",
       "      <td>London Balling</td>\n",
       "    </tr>\n",
       "    <tr>\n",
       "      <th>8</th>\n",
       "      <td>0.077</td>\n",
       "      <td>Against the Grain Brewery</td>\n",
       "      <td>35 K</td>\n",
       "    </tr>\n",
       "    <tr>\n",
       "      <th>9</th>\n",
       "      <td>0.042</td>\n",
       "      <td>Against the Grain Brewery</td>\n",
       "      <td>A Beer</td>\n",
       "    </tr>\n",
       "    <tr>\n",
       "      <th>10</th>\n",
       "      <td>0.050</td>\n",
       "      <td>Against the Grain Brewery</td>\n",
       "      <td>Rules are Rules</td>\n",
       "    </tr>\n",
       "    <tr>\n",
       "      <th>...</th>\n",
       "      <td>...</td>\n",
       "      <td>...</td>\n",
       "      <td>...</td>\n",
       "    </tr>\n",
       "    <tr>\n",
       "      <th>2347</th>\n",
       "      <td>0.062</td>\n",
       "      <td>Buckbean Brewing Company</td>\n",
       "      <td>Tule Duck Red Ale (Current)</td>\n",
       "    </tr>\n",
       "    <tr>\n",
       "      <th>2348</th>\n",
       "      <td>0.058</td>\n",
       "      <td>Buckbean Brewing Company</td>\n",
       "      <td>Original Orange Blossom Ale (Current)</td>\n",
       "    </tr>\n",
       "    <tr>\n",
       "      <th>2349</th>\n",
       "      <td>0.052</td>\n",
       "      <td>Buckbean Brewing Company</td>\n",
       "      <td>Black Noddy Lager (Current)</td>\n",
       "    </tr>\n",
       "    <tr>\n",
       "      <th>2396</th>\n",
       "      <td>0.072</td>\n",
       "      <td>Wind River Brewing Company</td>\n",
       "      <td>Wyoming Pale Ale</td>\n",
       "    </tr>\n",
       "    <tr>\n",
       "      <th>2397</th>\n",
       "      <td>0.050</td>\n",
       "      <td>Wind River Brewing Company</td>\n",
       "      <td>Wind River Blonde Ale</td>\n",
       "    </tr>\n",
       "  </tbody>\n",
       "</table>\n",
       "<p>1485 rows × 3 columns</p>\n",
       "</div>"
      ],
      "text/plain": [
       "        abv                brewery_name                                   name\n",
       "6     0.080   Against the Grain Brewery                         Citra Ass Down\n",
       "7     0.125   Against the Grain Brewery                         London Balling\n",
       "8     0.077   Against the Grain Brewery                                   35 K\n",
       "9     0.042   Against the Grain Brewery                                 A Beer\n",
       "10    0.050   Against the Grain Brewery                        Rules are Rules\n",
       "...     ...                         ...                                    ...\n",
       "2347  0.062    Buckbean Brewing Company            Tule Duck Red Ale (Current)\n",
       "2348  0.058    Buckbean Brewing Company  Original Orange Blossom Ale (Current)\n",
       "2349  0.052    Buckbean Brewing Company            Black Noddy Lager (Current)\n",
       "2396  0.072  Wind River Brewing Company                       Wyoming Pale Ale\n",
       "2397  0.050  Wind River Brewing Company                  Wind River Blonde Ale\n",
       "\n",
       "[1485 rows x 3 columns]"
      ]
     },
     "execution_count": 47,
     "metadata": {},
     "output_type": "execute_result"
    }
   ],
   "source": [
    "filtro_birras = merged_birras[merged_birras[\"abv\"] >= 0.07][\"brewery_name\"].unique() # Creamos una máscara que sólo coja los valores con abv superior o igual a 0.07\n",
    "# De ese filtro queremos lo nombres únicos de las cervecerías que cumplan esa condición\n",
    "birras_mas_de_007 = merged_birras[merged_birras[\"brewery_name\"].isin(filtro_birras)] # Una vez tenemos la lista de cervecerías, podemos aplicar ese filtro para \n",
    "# que nos devuelva cada cervecería del dataframe que cumpla esa condición\n",
    "birras_mas_de_007[[\"abv\",\"brewery_name\",\"name\"]]"
   ]
  },
  {
   "cell_type": "code",
   "execution_count": 38,
   "metadata": {},
   "outputs": [],
   "source": [
    "# todas las cervezas, que venda una cervecería, donde al menos una de ellas sea de 0.07 para arriba"
   ]
  },
  {
   "attachments": {},
   "cell_type": "markdown",
   "metadata": {},
   "source": [
    "## Ejercicio 24\n",
    "Teniendo en cuenta la media de amargor de todas las cervezas, obtén una tabla con las cervezas cuyos estados tengan una media de amargor en cerveza por encima de la media"
   ]
  },
  {
   "cell_type": "code",
   "execution_count": null,
   "metadata": {},
   "outputs": [
    {
     "data": {
      "text/plain": [
       "np.float64(42.71316725978647)"
      ]
     },
     "execution_count": 70,
     "metadata": {},
     "output_type": "execute_result"
    }
   ],
   "source": [
    "media_total = merged_birras[\"ibu\"].mean() # Primero calculamos la media total de amargor\n",
    "media_total\n"
   ]
  },
  {
   "cell_type": "code",
   "execution_count": null,
   "metadata": {},
   "outputs": [
    {
     "data": {
      "application/vnd.microsoft.datawrangler.viewer.v0+json": {
       "columns": [
        {
         "name": "state",
         "rawType": "object",
         "type": "string"
        },
        {
         "name": "ibu",
         "rawType": "float64",
         "type": "float"
        }
       ],
       "conversionMethod": "pd.DataFrame",
       "ref": "cacde148-681f-4e96-aa25-76d9d8472897",
       "rows": [
        [
         " AK",
         "40.88235294117647"
        ],
        [
         " AL",
         "51.22222222222222"
        ],
        [
         " AR",
         "39.0"
        ],
        [
         " AZ",
         "35.208333333333336"
        ],
        [
         " CA",
         "46.28148148148148"
        ],
        [
         " CO",
         "47.43150684931507"
        ],
        [
         " CT",
         "40.833333333333336"
        ],
        [
         " DC",
         "55.25"
        ],
        [
         " DE",
         "52.0"
        ],
        [
         " FL",
         "46.75675675675676"
        ],
        [
         " GA",
         "46.285714285714285"
        ],
        [
         " HI",
         "32.666666666666664"
        ],
        [
         " IA",
         "33.2"
        ],
        [
         " ID",
         "55.11764705882353"
        ],
        [
         " IL",
         "41.46153846153846"
        ],
        [
         " IN",
         "42.989010989010985"
        ],
        [
         " KS",
         "36.68421052631579"
        ],
        [
         " KY",
         "40.714285714285715"
        ],
        [
         " LA",
         "33.0"
        ],
        [
         " MA",
         "38.0"
        ],
        [
         " MD",
         "36.8"
        ],
        [
         " ME",
         "52.857142857142854"
        ],
        [
         " MI",
         "36.73684210526316"
        ],
        [
         " MN",
         "49.95652173913044"
        ],
        [
         " MO",
         "32.48275862068966"
        ],
        [
         " MS",
         "46.45454545454545"
        ],
        [
         " MT",
         "41.69565217391305"
        ],
        [
         " NC",
         "43.3"
        ],
        [
         " ND",
         "40.333333333333336"
        ],
        [
         " NE",
         "30.666666666666668"
        ],
        [
         " NH",
         "48.5"
        ],
        [
         " NJ",
         "46.375"
        ],
        [
         " NM",
         "57.0"
        ],
        [
         " NV",
         "46.5"
        ],
        [
         " NY",
         "46.0"
        ],
        [
         " OH",
         "44.1875"
        ],
        [
         " OK",
         "40.72727272727273"
        ],
        [
         " OR",
         "47.94252873563219"
        ],
        [
         " PA",
         "42.4468085106383"
        ],
        [
         " RI",
         "31.55"
        ],
        [
         " SC",
         "30.2"
        ],
        [
         " SD",
         null
        ],
        [
         " TN",
         "41.6"
        ],
        [
         " TX",
         "40.39325842696629"
        ],
        [
         " UT",
         "45.54545454545455"
        ],
        [
         " VA",
         "45.371428571428574"
        ],
        [
         " VT",
         "42.294117647058826"
        ],
        [
         " WA",
         "44.97674418604651"
        ],
        [
         " WI",
         "26.547619047619047"
        ],
        [
         " WV",
         "57.5"
        ]
       ],
       "shape": {
        "columns": 1,
        "rows": 51
       }
      },
      "text/html": [
       "<div>\n",
       "<style scoped>\n",
       "    .dataframe tbody tr th:only-of-type {\n",
       "        vertical-align: middle;\n",
       "    }\n",
       "\n",
       "    .dataframe tbody tr th {\n",
       "        vertical-align: top;\n",
       "    }\n",
       "\n",
       "    .dataframe thead th {\n",
       "        text-align: right;\n",
       "    }\n",
       "</style>\n",
       "<table border=\"1\" class=\"dataframe\">\n",
       "  <thead>\n",
       "    <tr style=\"text-align: right;\">\n",
       "      <th></th>\n",
       "      <th>ibu</th>\n",
       "    </tr>\n",
       "    <tr>\n",
       "      <th>state</th>\n",
       "      <th></th>\n",
       "    </tr>\n",
       "  </thead>\n",
       "  <tbody>\n",
       "    <tr>\n",
       "      <th>AK</th>\n",
       "      <td>40.882353</td>\n",
       "    </tr>\n",
       "    <tr>\n",
       "      <th>AL</th>\n",
       "      <td>51.222222</td>\n",
       "    </tr>\n",
       "    <tr>\n",
       "      <th>AR</th>\n",
       "      <td>39.000000</td>\n",
       "    </tr>\n",
       "    <tr>\n",
       "      <th>AZ</th>\n",
       "      <td>35.208333</td>\n",
       "    </tr>\n",
       "    <tr>\n",
       "      <th>CA</th>\n",
       "      <td>46.281481</td>\n",
       "    </tr>\n",
       "    <tr>\n",
       "      <th>CO</th>\n",
       "      <td>47.431507</td>\n",
       "    </tr>\n",
       "    <tr>\n",
       "      <th>CT</th>\n",
       "      <td>40.833333</td>\n",
       "    </tr>\n",
       "    <tr>\n",
       "      <th>DC</th>\n",
       "      <td>55.250000</td>\n",
       "    </tr>\n",
       "    <tr>\n",
       "      <th>DE</th>\n",
       "      <td>52.000000</td>\n",
       "    </tr>\n",
       "    <tr>\n",
       "      <th>FL</th>\n",
       "      <td>46.756757</td>\n",
       "    </tr>\n",
       "    <tr>\n",
       "      <th>GA</th>\n",
       "      <td>46.285714</td>\n",
       "    </tr>\n",
       "    <tr>\n",
       "      <th>HI</th>\n",
       "      <td>32.666667</td>\n",
       "    </tr>\n",
       "    <tr>\n",
       "      <th>IA</th>\n",
       "      <td>33.200000</td>\n",
       "    </tr>\n",
       "    <tr>\n",
       "      <th>ID</th>\n",
       "      <td>55.117647</td>\n",
       "    </tr>\n",
       "    <tr>\n",
       "      <th>IL</th>\n",
       "      <td>41.461538</td>\n",
       "    </tr>\n",
       "    <tr>\n",
       "      <th>IN</th>\n",
       "      <td>42.989011</td>\n",
       "    </tr>\n",
       "    <tr>\n",
       "      <th>KS</th>\n",
       "      <td>36.684211</td>\n",
       "    </tr>\n",
       "    <tr>\n",
       "      <th>KY</th>\n",
       "      <td>40.714286</td>\n",
       "    </tr>\n",
       "    <tr>\n",
       "      <th>LA</th>\n",
       "      <td>33.000000</td>\n",
       "    </tr>\n",
       "    <tr>\n",
       "      <th>MA</th>\n",
       "      <td>38.000000</td>\n",
       "    </tr>\n",
       "    <tr>\n",
       "      <th>MD</th>\n",
       "      <td>36.800000</td>\n",
       "    </tr>\n",
       "    <tr>\n",
       "      <th>ME</th>\n",
       "      <td>52.857143</td>\n",
       "    </tr>\n",
       "    <tr>\n",
       "      <th>MI</th>\n",
       "      <td>36.736842</td>\n",
       "    </tr>\n",
       "    <tr>\n",
       "      <th>MN</th>\n",
       "      <td>49.956522</td>\n",
       "    </tr>\n",
       "    <tr>\n",
       "      <th>MO</th>\n",
       "      <td>32.482759</td>\n",
       "    </tr>\n",
       "    <tr>\n",
       "      <th>MS</th>\n",
       "      <td>46.454545</td>\n",
       "    </tr>\n",
       "    <tr>\n",
       "      <th>MT</th>\n",
       "      <td>41.695652</td>\n",
       "    </tr>\n",
       "    <tr>\n",
       "      <th>NC</th>\n",
       "      <td>43.300000</td>\n",
       "    </tr>\n",
       "    <tr>\n",
       "      <th>ND</th>\n",
       "      <td>40.333333</td>\n",
       "    </tr>\n",
       "    <tr>\n",
       "      <th>NE</th>\n",
       "      <td>30.666667</td>\n",
       "    </tr>\n",
       "    <tr>\n",
       "      <th>NH</th>\n",
       "      <td>48.500000</td>\n",
       "    </tr>\n",
       "    <tr>\n",
       "      <th>NJ</th>\n",
       "      <td>46.375000</td>\n",
       "    </tr>\n",
       "    <tr>\n",
       "      <th>NM</th>\n",
       "      <td>57.000000</td>\n",
       "    </tr>\n",
       "    <tr>\n",
       "      <th>NV</th>\n",
       "      <td>46.500000</td>\n",
       "    </tr>\n",
       "    <tr>\n",
       "      <th>NY</th>\n",
       "      <td>46.000000</td>\n",
       "    </tr>\n",
       "    <tr>\n",
       "      <th>OH</th>\n",
       "      <td>44.187500</td>\n",
       "    </tr>\n",
       "    <tr>\n",
       "      <th>OK</th>\n",
       "      <td>40.727273</td>\n",
       "    </tr>\n",
       "    <tr>\n",
       "      <th>OR</th>\n",
       "      <td>47.942529</td>\n",
       "    </tr>\n",
       "    <tr>\n",
       "      <th>PA</th>\n",
       "      <td>42.446809</td>\n",
       "    </tr>\n",
       "    <tr>\n",
       "      <th>RI</th>\n",
       "      <td>31.550000</td>\n",
       "    </tr>\n",
       "    <tr>\n",
       "      <th>SC</th>\n",
       "      <td>30.200000</td>\n",
       "    </tr>\n",
       "    <tr>\n",
       "      <th>SD</th>\n",
       "      <td>NaN</td>\n",
       "    </tr>\n",
       "    <tr>\n",
       "      <th>TN</th>\n",
       "      <td>41.600000</td>\n",
       "    </tr>\n",
       "    <tr>\n",
       "      <th>TX</th>\n",
       "      <td>40.393258</td>\n",
       "    </tr>\n",
       "    <tr>\n",
       "      <th>UT</th>\n",
       "      <td>45.545455</td>\n",
       "    </tr>\n",
       "    <tr>\n",
       "      <th>VA</th>\n",
       "      <td>45.371429</td>\n",
       "    </tr>\n",
       "    <tr>\n",
       "      <th>VT</th>\n",
       "      <td>42.294118</td>\n",
       "    </tr>\n",
       "    <tr>\n",
       "      <th>WA</th>\n",
       "      <td>44.976744</td>\n",
       "    </tr>\n",
       "    <tr>\n",
       "      <th>WI</th>\n",
       "      <td>26.547619</td>\n",
       "    </tr>\n",
       "    <tr>\n",
       "      <th>WV</th>\n",
       "      <td>57.500000</td>\n",
       "    </tr>\n",
       "    <tr>\n",
       "      <th>WY</th>\n",
       "      <td>32.083333</td>\n",
       "    </tr>\n",
       "  </tbody>\n",
       "</table>\n",
       "</div>"
      ],
      "text/plain": [
       "             ibu\n",
       "state           \n",
       "AK     40.882353\n",
       "AL     51.222222\n",
       "AR     39.000000\n",
       "AZ     35.208333\n",
       "CA     46.281481\n",
       "CO     47.431507\n",
       "CT     40.833333\n",
       "DC     55.250000\n",
       "DE     52.000000\n",
       "FL     46.756757\n",
       "GA     46.285714\n",
       "HI     32.666667\n",
       "IA     33.200000\n",
       "ID     55.117647\n",
       "IL     41.461538\n",
       "IN     42.989011\n",
       "KS     36.684211\n",
       "KY     40.714286\n",
       "LA     33.000000\n",
       "MA     38.000000\n",
       "MD     36.800000\n",
       "ME     52.857143\n",
       "MI     36.736842\n",
       "MN     49.956522\n",
       "MO     32.482759\n",
       "MS     46.454545\n",
       "MT     41.695652\n",
       "NC     43.300000\n",
       "ND     40.333333\n",
       "NE     30.666667\n",
       "NH     48.500000\n",
       "NJ     46.375000\n",
       "NM     57.000000\n",
       "NV     46.500000\n",
       "NY     46.000000\n",
       "OH     44.187500\n",
       "OK     40.727273\n",
       "OR     47.942529\n",
       "PA     42.446809\n",
       "RI     31.550000\n",
       "SC     30.200000\n",
       "SD           NaN\n",
       "TN     41.600000\n",
       "TX     40.393258\n",
       "UT     45.545455\n",
       "VA     45.371429\n",
       "VT     42.294118\n",
       "WA     44.976744\n",
       "WI     26.547619\n",
       "WV     57.500000\n",
       "WY     32.083333"
      ]
     },
     "execution_count": 71,
     "metadata": {},
     "output_type": "execute_result"
    }
   ],
   "source": [
    "media_estado = merged_birras.groupby(\"state\")[[\"ibu\"]].mean() # En segundo lugar se agrupan las medias de amargor para cada estado\n",
    "media_estado"
   ]
  },
  {
   "cell_type": "code",
   "execution_count": null,
   "metadata": {},
   "outputs": [
    {
     "name": "stdout",
     "output_type": "stream",
     "text": [
      "             ibu\n",
      "state           \n",
      "AL     51.222222\n",
      "CA     46.281481\n",
      "CO     47.431507\n",
      "DC     55.250000\n",
      "DE     52.000000\n",
      "FL     46.756757\n",
      "GA     46.285714\n",
      "ID     55.117647\n",
      "IN     42.989011\n",
      "ME     52.857143\n",
      "MN     49.956522\n",
      "MS     46.454545\n",
      "NC     43.300000\n",
      "NH     48.500000\n",
      "NJ     46.375000\n",
      "NM     57.000000\n",
      "NV     46.500000\n",
      "NY     46.000000\n",
      "OH     44.187500\n",
      "OR     47.942529\n",
      "UT     45.545455\n",
      "VA     45.371429\n",
      "WA     44.976744\n",
      "WV     57.500000\n"
     ]
    }
   ],
   "source": [
    "filtro_estado = media_estado[media_estado > media_total].dropna() # Un primer filtro nos devuelve la lista de estados quew cumplen con la condición\n",
    "print(filtro_estado)"
   ]
  },
  {
   "cell_type": "code",
   "execution_count": null,
   "metadata": {},
   "outputs": [
    {
     "name": "stdout",
     "output_type": "stream",
     "text": [
      "Index([' AL', ' CA', ' CO', ' DC', ' DE', ' FL', ' GA', ' ID', ' IN', ' ME',\n",
      "       ' MN', ' MS', ' NC', ' NH', ' NJ', ' NM', ' NV', ' NY', ' OH', ' OR',\n",
      "       ' UT', ' VA', ' WA', ' WV'],\n",
      "      dtype='object', name='state')\n"
     ]
    }
   ],
   "source": [
    "print(filtro_estado.index) # Deseamos filtrar por el índice así que lo obtenemos"
   ]
  },
  {
   "cell_type": "code",
   "execution_count": null,
   "metadata": {},
   "outputs": [
    {
     "data": {
      "application/vnd.microsoft.datawrangler.viewer.v0+json": {
       "columns": [
        {
         "name": "index",
         "rawType": "int64",
         "type": "integer"
        },
        {
         "name": "abv",
         "rawType": "float64",
         "type": "float"
        },
        {
         "name": "ibu",
         "rawType": "float64",
         "type": "float"
        },
        {
         "name": "id",
         "rawType": "int64",
         "type": "integer"
        },
        {
         "name": "name",
         "rawType": "object",
         "type": "string"
        },
        {
         "name": "style",
         "rawType": "object",
         "type": "unknown"
        },
        {
         "name": "brewery_id",
         "rawType": "int64",
         "type": "integer"
        },
        {
         "name": "ounces",
         "rawType": "float64",
         "type": "float"
        },
        {
         "name": "brewery_name",
         "rawType": "object",
         "type": "string"
        },
        {
         "name": "city",
         "rawType": "object",
         "type": "string"
        },
        {
         "name": "state",
         "rawType": "object",
         "type": "string"
        }
       ],
       "conversionMethod": "pd.DataFrame",
       "ref": "43497946-3f77-468b-95db-97ca42a75712",
       "rows": [
        [
         "0",
         "0.045",
         "50.0",
         "2692",
         "Get Together",
         "American IPA",
         "0",
         "16.0",
         "NorthGate Brewing ",
         "Minneapolis",
         " MN"
        ],
        [
         "1",
         "0.049",
         "26.0",
         "2691",
         "Maggie's Leap",
         "Milk / Sweet Stout",
         "0",
         "16.0",
         "NorthGate Brewing ",
         "Minneapolis",
         " MN"
        ],
        [
         "2",
         "0.048",
         "19.0",
         "2690",
         "Wall's End",
         "English Brown Ale",
         "0",
         "16.0",
         "NorthGate Brewing ",
         "Minneapolis",
         " MN"
        ],
        [
         "3",
         "0.06",
         "38.0",
         "2689",
         "Pumpion",
         "Pumpkin Ale",
         "0",
         "16.0",
         "NorthGate Brewing ",
         "Minneapolis",
         " MN"
        ],
        [
         "4",
         "0.06",
         "25.0",
         "2688",
         "Stronghold",
         "American Porter",
         "0",
         "16.0",
         "NorthGate Brewing ",
         "Minneapolis",
         " MN"
        ],
        [
         "5",
         "0.0559999999999999",
         "47.0",
         "2687",
         "Parapet ESB",
         "Extra Special / Strong Bitter (ESB)",
         "0",
         "16.0",
         "NorthGate Brewing ",
         "Minneapolis",
         " MN"
        ],
        [
         "24",
         "0.08",
         "100.0",
         "2668",
         "Habitus (2014)",
         "American Double / Imperial IPA",
         "3",
         "16.0",
         "Mike Hess Brewing Company",
         "San Diego",
         " CA"
        ],
        [
         "25",
         "0.075",
         "85.0",
         "2667",
         "Solis",
         "American IPA",
         "3",
         "16.0",
         "Mike Hess Brewing Company",
         "San Diego",
         " CA"
        ],
        [
         "26",
         "0.06",
         "24.0",
         "2666",
         "Jucundus",
         "Wheat Ale",
         "3",
         "16.0",
         "Mike Hess Brewing Company",
         "San Diego",
         " CA"
        ],
        [
         "27",
         "0.08",
         "100.0",
         "2664",
         "Habitus",
         "American Double / Imperial IPA",
         "3",
         "16.0",
         "Mike Hess Brewing Company",
         "San Diego",
         " CA"
        ],
        [
         "28",
         "0.063",
         "30.0",
         "2663",
         "Grazias",
         "Cream Ale",
         "3",
         "16.0",
         "Mike Hess Brewing Company",
         "San Diego",
         " CA"
        ],
        [
         "29",
         "0.0579999999999999",
         "28.0",
         "2662",
         "Claritas",
         "Kölsch",
         "3",
         "16.0",
         "Mike Hess Brewing Company",
         "San Diego",
         " CA"
        ],
        [
         "30",
         "0.047",
         "19.0",
         "2661",
         "Park",
         "American Pale Wheat Ale",
         "4",
         "12.0",
         "Fort Point Beer Company",
         "San Francisco",
         " CA"
        ],
        [
         "31",
         "0.0559999999999999",
         "16.0",
         "2660",
         "Westfalia",
         "American Amber / Red Ale",
         "4",
         "12.0",
         "Fort Point Beer Company",
         "San Francisco",
         " CA"
        ],
        [
         "32",
         "0.046",
         "17.0",
         "2659",
         "KSA",
         "Kölsch",
         "4",
         "12.0",
         "Fort Point Beer Company",
         "San Francisco",
         " CA"
        ],
        [
         "33",
         "0.063",
         "42.0",
         "2658",
         "Villager",
         "American IPA",
         "4",
         "12.0",
         "Fort Point Beer Company",
         "San Francisco",
         " CA"
        ],
        [
         "40",
         "0.05",
         null,
         "2650",
         "Denver Pale Ale (Artist Series No. 1)",
         "American Pale Ale (APA)",
         "6",
         "12.0",
         "Great Divide Brewing Company",
         "Denver",
         " CO"
        ],
        [
         "41",
         "0.087",
         null,
         "2649",
         "Hibernation Ale",
         "Old Ale",
         "6",
         "12.0",
         "Great Divide Brewing Company",
         "Denver",
         " CO"
        ],
        [
         "42",
         "0.061",
         null,
         "2648",
         "Whitewater",
         "American Pale Wheat Ale",
         "6",
         "12.0",
         "Great Divide Brewing Company",
         "Denver",
         " CO"
        ],
        [
         "43",
         "0.071",
         null,
         "2647",
         "Rumble",
         "American IPA",
         "6",
         "12.0",
         "Great Divide Brewing Company",
         "Denver",
         " CO"
        ],
        [
         "44",
         "0.083",
         null,
         "2646",
         "Orabelle",
         "Tripel",
         "6",
         "12.0",
         "Great Divide Brewing Company",
         "Denver",
         " CO"
        ],
        [
         "45",
         "0.05",
         null,
         "2645",
         "Lasso",
         "American IPA",
         "6",
         "12.0",
         "Great Divide Brewing Company",
         "Denver",
         " CO"
        ],
        [
         "46",
         "0.095",
         "75.0",
         "2644",
         "Yeti  Imperial Stout",
         "Russian Imperial Stout",
         "6",
         "12.0",
         "Great Divide Brewing Company",
         "Denver",
         " CO"
        ],
        [
         "47",
         "0.073",
         null,
         "2643",
         "Colette",
         "Saison / Farmhouse Ale",
         "6",
         "12.0",
         "Great Divide Brewing Company",
         "Denver",
         " CO"
        ],
        [
         "48",
         "0.071",
         null,
         "2642",
         "Titan IPA",
         "American IPA",
         "6",
         "12.0",
         "Great Divide Brewing Company",
         "Denver",
         " CO"
        ],
        [
         "138",
         "0.065",
         null,
         "2624",
         "Deflator",
         "Doppelbock",
         "16",
         "16.0",
         "Flat 12 Bierwerks",
         "Indianapolis",
         " IN"
        ],
        [
         "139",
         "0.05",
         "27.0",
         "2284",
         "Hinchtown Hammer Down",
         "American Blonde Ale",
         "16",
         "16.0",
         "Flat 12 Bierwerks",
         "Indianapolis",
         " IN"
        ],
        [
         "140",
         "0.06",
         "104.0",
         "1610",
         "Half Cycle IPA",
         "American IPA",
         "16",
         "16.0",
         "Flat 12 Bierwerks",
         "Indianapolis",
         " IN"
        ],
        [
         "141",
         "0.0579999999999999",
         "20.0",
         "2623",
         "Cafe Leche",
         "American Porter",
         "17",
         "16.0",
         "Tin Man Brewing Company",
         "Evansville",
         " IN"
        ],
        [
         "142",
         "0.052",
         "12.0",
         "2622",
         "Damascene Apricot Sour",
         "Fruit / Vegetable Beer",
         "17",
         "16.0",
         "Tin Man Brewing Company",
         "Evansville",
         " IN"
        ],
        [
         "143",
         "0.12",
         "90.0",
         "2621",
         "Csar",
         "Russian Imperial Stout",
         "17",
         "16.0",
         "Tin Man Brewing Company",
         "Evansville",
         " IN"
        ],
        [
         "144",
         "0.055",
         null,
         "1817",
         "Klingon Warnog Roggen Dunkel",
         "Roggenbier",
         "17",
         "16.0",
         "Tin Man Brewing Company",
         "Evansville",
         " IN"
        ],
        [
         "145",
         "0.085",
         "115.0",
         "1449",
         "Overlord Imperial IPA",
         "American Double / Imperial IPA",
         "17",
         "16.0",
         "Tin Man Brewing Company",
         "Evansville",
         " IN"
        ],
        [
         "146",
         "0.0579999999999999",
         "36.0",
         "951",
         "Alloy",
         "American IPA",
         "17",
         "16.0",
         "Tin Man Brewing Company",
         "Evansville",
         " IN"
        ],
        [
         "147",
         "0.051",
         "22.0",
         "950",
         "Rivet Irish Red Ale",
         "Irish Red Ale",
         "17",
         "16.0",
         "Tin Man Brewing Company",
         "Evansville",
         " IN"
        ],
        [
         "148",
         "0.052",
         "50.0",
         "949",
         "3 Gear Robust Porter",
         "American Porter",
         "17",
         "16.0",
         "Tin Man Brewing Company",
         "Evansville",
         " IN"
        ],
        [
         "149",
         "0.045",
         "35.0",
         "948",
         "Circuit Bohemian Pilsner",
         "Czech Pilsener",
         "17",
         "16.0",
         "Tin Man Brewing Company",
         "Evansville",
         " IN"
        ],
        [
         "150",
         "0.072",
         "75.0",
         "2620",
         "Saucy Intruder",
         "Rye Beer",
         "18",
         "16.0",
         "Black Acre Brewing Co.",
         "Indianapolis",
         " IN"
        ],
        [
         "151",
         "0.0579999999999999",
         null,
         "2619",
         "Insert Hop Reference",
         "American Pale Ale (APA)",
         "19",
         "16.0",
         "Brew Link Brewing",
         "Plainfield",
         " IN"
        ],
        [
         "152",
         "0.07",
         "46.0",
         "2618",
         "Thai.p.a",
         "American IPA",
         "20",
         "16.0",
         "Bare Hands Brewery",
         "Granger",
         " IN"
        ],
        [
         "153",
         "0.055",
         "64.0",
         "2617",
         "Citra Faced",
         "American Pale Wheat Ale",
         "21",
         "16.0",
         "Three Pints Brewing",
         "Martinsville",
         " IN"
        ],
        [
         "154",
         "0.055",
         "31.0",
         "2616",
         "Pole Barn Stout",
         "Oatmeal Stout",
         "21",
         "16.0",
         "Three Pints Brewing",
         "Martinsville",
         " IN"
        ],
        [
         "155",
         "0.054",
         "37.0",
         "2615",
         "Pale",
         "American Pale Ale (APA)",
         "21",
         "16.0",
         "Three Pints Brewing",
         "Martinsville",
         " IN"
        ],
        [
         "156",
         "0.053",
         "27.0",
         "2614",
         "Yoshi's Nectar",
         "California Common / Steam Beer",
         "21",
         "16.0",
         "Three Pints Brewing",
         "Martinsville",
         " IN"
        ],
        [
         "157",
         "0.055",
         null,
         "2613",
         "Feel Like Maplin' Love",
         "Oatmeal Stout",
         "22",
         "16.0",
         "Four Fathers Brewing ",
         "Valparaiso",
         " IN"
        ],
        [
         "158",
         "0.05",
         null,
         "2612",
         "Father's Beer",
         "Belgian Pale Ale",
         "22",
         "16.0",
         "Four Fathers Brewing ",
         "Valparaiso",
         " IN"
        ],
        [
         "159",
         "0.06",
         null,
         "2611",
         "The 26th",
         "American IPA",
         "22",
         "16.0",
         "Four Fathers Brewing ",
         "Valparaiso",
         " IN"
        ],
        [
         "160",
         "0.064",
         "90.0",
         "2610",
         "The Gadget",
         "American IPA",
         "22",
         "16.0",
         "Four Fathers Brewing ",
         "Valparaiso",
         " IN"
        ],
        [
         "161",
         "0.0579999999999999",
         "58.0",
         "2609",
         "Tribute",
         "American Pale Ale (APA)",
         "23",
         "12.0",
         "Indiana City Brewing",
         "Indianapolis",
         " IN"
        ],
        [
         "162",
         "0.065",
         null,
         "2608",
         "Wrath of Pele",
         "American Brown Ale",
         "24",
         "16.0",
         "Burn 'Em Brewing",
         "Michigan City",
         " IN"
        ]
       ],
       "shape": {
        "columns": 10,
        "rows": 1288
       }
      },
      "text/html": [
       "<div>\n",
       "<style scoped>\n",
       "    .dataframe tbody tr th:only-of-type {\n",
       "        vertical-align: middle;\n",
       "    }\n",
       "\n",
       "    .dataframe tbody tr th {\n",
       "        vertical-align: top;\n",
       "    }\n",
       "\n",
       "    .dataframe thead th {\n",
       "        text-align: right;\n",
       "    }\n",
       "</style>\n",
       "<table border=\"1\" class=\"dataframe\">\n",
       "  <thead>\n",
       "    <tr style=\"text-align: right;\">\n",
       "      <th></th>\n",
       "      <th>abv</th>\n",
       "      <th>ibu</th>\n",
       "      <th>id</th>\n",
       "      <th>name</th>\n",
       "      <th>style</th>\n",
       "      <th>brewery_id</th>\n",
       "      <th>ounces</th>\n",
       "      <th>brewery_name</th>\n",
       "      <th>city</th>\n",
       "      <th>state</th>\n",
       "    </tr>\n",
       "  </thead>\n",
       "  <tbody>\n",
       "    <tr>\n",
       "      <th>0</th>\n",
       "      <td>0.045</td>\n",
       "      <td>50.0</td>\n",
       "      <td>2692</td>\n",
       "      <td>Get Together</td>\n",
       "      <td>American IPA</td>\n",
       "      <td>0</td>\n",
       "      <td>16.0</td>\n",
       "      <td>NorthGate Brewing</td>\n",
       "      <td>Minneapolis</td>\n",
       "      <td>MN</td>\n",
       "    </tr>\n",
       "    <tr>\n",
       "      <th>1</th>\n",
       "      <td>0.049</td>\n",
       "      <td>26.0</td>\n",
       "      <td>2691</td>\n",
       "      <td>Maggie's Leap</td>\n",
       "      <td>Milk / Sweet Stout</td>\n",
       "      <td>0</td>\n",
       "      <td>16.0</td>\n",
       "      <td>NorthGate Brewing</td>\n",
       "      <td>Minneapolis</td>\n",
       "      <td>MN</td>\n",
       "    </tr>\n",
       "    <tr>\n",
       "      <th>2</th>\n",
       "      <td>0.048</td>\n",
       "      <td>19.0</td>\n",
       "      <td>2690</td>\n",
       "      <td>Wall's End</td>\n",
       "      <td>English Brown Ale</td>\n",
       "      <td>0</td>\n",
       "      <td>16.0</td>\n",
       "      <td>NorthGate Brewing</td>\n",
       "      <td>Minneapolis</td>\n",
       "      <td>MN</td>\n",
       "    </tr>\n",
       "    <tr>\n",
       "      <th>3</th>\n",
       "      <td>0.060</td>\n",
       "      <td>38.0</td>\n",
       "      <td>2689</td>\n",
       "      <td>Pumpion</td>\n",
       "      <td>Pumpkin Ale</td>\n",
       "      <td>0</td>\n",
       "      <td>16.0</td>\n",
       "      <td>NorthGate Brewing</td>\n",
       "      <td>Minneapolis</td>\n",
       "      <td>MN</td>\n",
       "    </tr>\n",
       "    <tr>\n",
       "      <th>4</th>\n",
       "      <td>0.060</td>\n",
       "      <td>25.0</td>\n",
       "      <td>2688</td>\n",
       "      <td>Stronghold</td>\n",
       "      <td>American Porter</td>\n",
       "      <td>0</td>\n",
       "      <td>16.0</td>\n",
       "      <td>NorthGate Brewing</td>\n",
       "      <td>Minneapolis</td>\n",
       "      <td>MN</td>\n",
       "    </tr>\n",
       "    <tr>\n",
       "      <th>...</th>\n",
       "      <td>...</td>\n",
       "      <td>...</td>\n",
       "      <td>...</td>\n",
       "      <td>...</td>\n",
       "      <td>...</td>\n",
       "      <td>...</td>\n",
       "      <td>...</td>\n",
       "      <td>...</td>\n",
       "      <td>...</td>\n",
       "      <td>...</td>\n",
       "    </tr>\n",
       "    <tr>\n",
       "      <th>2404</th>\n",
       "      <td>0.055</td>\n",
       "      <td>NaN</td>\n",
       "      <td>98</td>\n",
       "      <td>Pilsner Ukiah</td>\n",
       "      <td>German Pilsener</td>\n",
       "      <td>555</td>\n",
       "      <td>12.0</td>\n",
       "      <td>Ukiah Brewing Company</td>\n",
       "      <td>Ukiah</td>\n",
       "      <td>CA</td>\n",
       "    </tr>\n",
       "    <tr>\n",
       "      <th>2405</th>\n",
       "      <td>0.049</td>\n",
       "      <td>NaN</td>\n",
       "      <td>52</td>\n",
       "      <td>Heinnieweisse Weissebier</td>\n",
       "      <td>Hefeweizen</td>\n",
       "      <td>556</td>\n",
       "      <td>12.0</td>\n",
       "      <td>Butternuts Beer and Ale</td>\n",
       "      <td>Garrattsville</td>\n",
       "      <td>NY</td>\n",
       "    </tr>\n",
       "    <tr>\n",
       "      <th>2406</th>\n",
       "      <td>0.068</td>\n",
       "      <td>NaN</td>\n",
       "      <td>51</td>\n",
       "      <td>Snapperhead IPA</td>\n",
       "      <td>American IPA</td>\n",
       "      <td>556</td>\n",
       "      <td>12.0</td>\n",
       "      <td>Butternuts Beer and Ale</td>\n",
       "      <td>Garrattsville</td>\n",
       "      <td>NY</td>\n",
       "    </tr>\n",
       "    <tr>\n",
       "      <th>2407</th>\n",
       "      <td>0.049</td>\n",
       "      <td>NaN</td>\n",
       "      <td>50</td>\n",
       "      <td>Moo Thunder Stout</td>\n",
       "      <td>Milk / Sweet Stout</td>\n",
       "      <td>556</td>\n",
       "      <td>12.0</td>\n",
       "      <td>Butternuts Beer and Ale</td>\n",
       "      <td>Garrattsville</td>\n",
       "      <td>NY</td>\n",
       "    </tr>\n",
       "    <tr>\n",
       "      <th>2408</th>\n",
       "      <td>0.043</td>\n",
       "      <td>NaN</td>\n",
       "      <td>49</td>\n",
       "      <td>Porkslap Pale Ale</td>\n",
       "      <td>American Pale Ale (APA)</td>\n",
       "      <td>556</td>\n",
       "      <td>12.0</td>\n",
       "      <td>Butternuts Beer and Ale</td>\n",
       "      <td>Garrattsville</td>\n",
       "      <td>NY</td>\n",
       "    </tr>\n",
       "  </tbody>\n",
       "</table>\n",
       "<p>1288 rows × 10 columns</p>\n",
       "</div>"
      ],
      "text/plain": [
       "        abv   ibu    id                      name                    style  \\\n",
       "0     0.045  50.0  2692              Get Together             American IPA   \n",
       "1     0.049  26.0  2691             Maggie's Leap       Milk / Sweet Stout   \n",
       "2     0.048  19.0  2690                Wall's End        English Brown Ale   \n",
       "3     0.060  38.0  2689                   Pumpion              Pumpkin Ale   \n",
       "4     0.060  25.0  2688                Stronghold          American Porter   \n",
       "...     ...   ...   ...                       ...                      ...   \n",
       "2404  0.055   NaN    98             Pilsner Ukiah          German Pilsener   \n",
       "2405  0.049   NaN    52  Heinnieweisse Weissebier               Hefeweizen   \n",
       "2406  0.068   NaN    51           Snapperhead IPA             American IPA   \n",
       "2407  0.049   NaN    50         Moo Thunder Stout       Milk / Sweet Stout   \n",
       "2408  0.043   NaN    49         Porkslap Pale Ale  American Pale Ale (APA)   \n",
       "\n",
       "      brewery_id  ounces             brewery_name           city state  \n",
       "0              0    16.0       NorthGate Brewing     Minneapolis    MN  \n",
       "1              0    16.0       NorthGate Brewing     Minneapolis    MN  \n",
       "2              0    16.0       NorthGate Brewing     Minneapolis    MN  \n",
       "3              0    16.0       NorthGate Brewing     Minneapolis    MN  \n",
       "4              0    16.0       NorthGate Brewing     Minneapolis    MN  \n",
       "...          ...     ...                      ...            ...   ...  \n",
       "2404         555    12.0    Ukiah Brewing Company          Ukiah    CA  \n",
       "2405         556    12.0  Butternuts Beer and Ale  Garrattsville    NY  \n",
       "2406         556    12.0  Butternuts Beer and Ale  Garrattsville    NY  \n",
       "2407         556    12.0  Butternuts Beer and Ale  Garrattsville    NY  \n",
       "2408         556    12.0  Butternuts Beer and Ale  Garrattsville    NY  \n",
       "\n",
       "[1288 rows x 10 columns]"
      ]
     },
     "execution_count": 87,
     "metadata": {},
     "output_type": "execute_result"
    }
   ],
   "source": [
    "df_final = merged_birras[merged_birras[\"state\"].isin(filtro_estado.index)] # Con el filtro de los estados que cumplen la condición, volvemos a filtrar\n",
    "# en este caso el dataframe original para obtener solamente las cervezas de los estados que caen dentro del filtro previementr creado\n",
    "df_final"
   ]
  },
  {
   "cell_type": "code",
   "execution_count": 40,
   "metadata": {},
   "outputs": [],
   "source": [
    "# Las cervezas que se encuentran en aquellos estados, cuya media de amargor, sea superior a la media de amargor total"
   ]
  }
 ],
 "metadata": {
  "kernelspec": {
   "display_name": "Python 3",
   "language": "python",
   "name": "python3"
  },
  "language_info": {
   "codemirror_mode": {
    "name": "ipython",
    "version": 3
   },
   "file_extension": ".py",
   "mimetype": "text/x-python",
   "name": "python",
   "nbconvert_exporter": "python",
   "pygments_lexer": "ipython3",
   "version": "3.11.9"
  }
 },
 "nbformat": 4,
 "nbformat_minor": 4
}
